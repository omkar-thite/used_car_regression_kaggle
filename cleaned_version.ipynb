{
  "cells": [
    {
      "cell_type": "markdown",
      "metadata": {
        "colab_type": "text",
        "id": "view-in-github"
      },
      "source": [
        "<a href=\"https://colab.research.google.com/github/omkar-thite/used_car_regression_kaggle/blob/main/used_car_regression.ipynb\" target=\"_parent\"><img src=\"https://colab.research.google.com/assets/colab-badge.svg\" alt=\"Open In Colab\"/></a>"
      ]
    },
    {
      "cell_type": "markdown",
      "metadata": {
        "id": "S4QH-YrcEe2Q"
      },
      "source": [
        "# Imports"
      ]
    },
    {
      "cell_type": "code",
      "execution_count": 15,
      "metadata": {
        "id": "wPd6hEMjEHGh"
      },
      "outputs": [],
      "source": [
        "# Import required libraries\n",
        "import numpy as np\n",
        "import pandas as pd\n",
        "import re\n",
        "import random\n",
        "\n",
        "from sklearn.preprocessing import StandardScaler\n",
        "from sklearn.feature_selection import mutual_info_regression\n",
        "from sklearn.metrics import mean_squared_error\n",
        "from sklearn.model_selection import train_test_split\n",
        "from sklearn.linear_model import Ridge, LinearRegression\n",
        "from sklearn.impute import SimpleImputer\n",
        "from sklearn.decomposition import PCA\n",
        "from sklearn.cluster import KMeans\n",
        "from sklearn.preprocessing import OneHotEncoder\n",
        "\n",
        "from xgboost import XGBRegressor\n",
        "import xgboost as xgb\n",
        "\n",
        "import seaborn as sns\n",
        "\n",
        "import matplotlib.pyplot as plt\n",
        "\n",
        "import utils"
      ]
    },
    {
      "cell_type": "code",
      "execution_count": 6,
      "metadata": {
        "id": "kbC8EAebyQ_h"
      },
      "outputs": [],
      "source": [
        "plt.rcParams.update({\n",
        "    'figure.figsize': (8, 5),\n",
        "    'font.size': 12,\n",
        "    'axes.titlesize': 14,\n",
        "    'axes.labelsize': 12\n",
        "})"
      ]
    },
    {
      "cell_type": "code",
      "execution_count": 7,
      "metadata": {
        "id": "ziW1FOYBNIW5"
      },
      "outputs": [],
      "source": [
        "RANDOM_STATE = 123"
      ]
    },
    {
      "cell_type": "markdown",
      "metadata": {
        "id": "s-JZgfNnw1ns"
      },
      "source": [
        "### Read data files"
      ]
    },
    {
      "cell_type": "code",
      "execution_count": 16,
      "metadata": {
        "id": "62s-7E5EYZDn"
      },
      "outputs": [],
      "source": [
        "def process_df(path):\n",
        "    # Read the file\n",
        "    df = pd.read_csv(path, delimiter=',')\n",
        "    df.pop('id')\n",
        "\n",
        "    # Cast milage to float so as to treat it as a continuos features\n",
        "    df['milage'] = df['milage'].astype('float')\n",
        "\n",
        "    # Handle outliers for milage and model_year\n",
        "    df.milage = utils.handle_outliers(df.milage, limit=2)\n",
        "    df.model_year = utils.handle_outliers(df.model_year, limit=2)\n",
        "\n",
        "    # Clean missing values\n",
        "    cleaner = utils.Cleaner(df = df)\n",
        "    cleaner.clean_categoricals()\n",
        "    cleaner.clean_continuos()\n",
        "\n",
        "    return df\n"
      ]
    },
    {
      "cell_type": "code",
      "execution_count": null,
      "metadata": {},
      "outputs": [],
      "source": [
        "# Feature engineering\n",
        "def add_features(df):\n"
      ]
    },
    {
      "cell_type": "markdown",
      "metadata": {
        "id": "Z-WECcjlOQjS"
      },
      "source": [
        "# Feature Engineering"
      ]
    },
    {
      "cell_type": "markdown",
      "metadata": {
        "id": "XSOjmdI1OMfh"
      },
      "source": [
        "Functions to extract features from original dataset"
      ]
    },
    {
      "cell_type": "code",
      "execution_count": null,
      "metadata": {
        "id": "fJvDz5rDM3Sg"
      },
      "outputs": [],
      "source": [
        "# Create features and insert into dataframe\n",
        "\n",
        "def create_features(df):\n",
        "    ''' Extract features using defined functions\n",
        "        Returns dataframe updated with newly created features '''\n",
        "\n",
        "    df['automatic'] = df['transmission'].apply(get_automatic)\n",
        "    df['gears'] = df['transmission'].apply(get_gears)\n",
        "    df['hp'] = df['engine'].apply(get_hp)\n",
        "    df['L'] = df['engine'].apply(get_L)\n",
        "    df['cylinders'] = df['engine'].apply(get_cyl)\n",
        "    df['accident'] = df['accident'].apply(is_accident)\n",
        "    df['electric'] = df['engine'].apply(is_electric)\n",
        "    df['valves'] = df['engine'].apply(num_valves)\n",
        "\n",
        "def create_interactions(df):\n",
        "    '''\n",
        "    Creates mathematical combinations of features mostly based on intuition.\n",
        "    Updates df with new features\n",
        "\n",
        "    Args:\n",
        "    df (DataFrame) : DataFrame to add new features\n",
        "    '''\n",
        "\n",
        "    df['hp/l'] = np.where(df['L'] != 0, df['hp'] / df['L'], None).astype('float')\n",
        "    df['mil/l'] = np.where(df['L'] != 0, df['milage'] / df['L'], None).astype('float')\n",
        "    df['mil/hp'] = np.where(df['hp'] != 0, df['milage'] / df['hp'], None).astype('float')\n",
        "    df['l/cyl'] = np.where(df['cylinders'] != 0, df['L'] / df['cylinders'], None).astype('float')\n",
        "    df['hp/gears'] = np.where(df['gears'] != 0, df['hp'] / df['gears'], None).astype('float')\n",
        "    df['mil/gears'] = np.where(df['gears'] != 0, df['milage'] / df['gears'], None).astype('float')\n",
        "    df['mil/cyl'] = np.where(df['cylinders'] != 0, df['milage'] / df['cylinders'], None).astype('float')\n",
        "\n",
        "    df['hp*automatic'] = df['hp'] * df['automatic']\n",
        "    df['cyl*gears'] = df['cylinders'] * df['gears']\n",
        "\n",
        "    df['carAge'] = pd.Series(2024 - df['model_year']).astype('int')\n",
        "    df['mil/year'] = np.where(df['carAge'] != 0, df['milage'] / df['carAge'], None).astype('float')\n",
        "    df['hp*accident'] = pd.Series(df['hp'] * df['accident']).astype('float')\n",
        "    df['accident*carAge'] = pd.Series(df['accident'] * df['carAge']).astype('float')\n",
        "    df['acc*milage'] = pd.Series(df['accident'] * df['milage']).astype('float')\n",
        "\n",
        "    df['mil*carAge'] = pd.Series(df['milage'] * df['carAge']).astype('float')\n",
        "    df['hp*mil'] = pd.Series(df['hp'] * df['milage']).astype('float')\n"
      ]
    },
    {
      "cell_type": "code",
      "execution_count": null,
      "metadata": {
        "id": "29Sg5YusP3TF"
      },
      "outputs": [],
      "source": [
        "create_features(df)\n",
        "create_features(test)"
      ]
    },
    {
      "cell_type": "markdown",
      "metadata": {
        "id": "csogYA3INcFL"
      },
      "source": [
        "We'll treat L, cylinders, gears features as categoricals as their unique values are less."
      ]
    },
    {
      "cell_type": "markdown",
      "metadata": {
        "id": "thv5RtGWNtE0"
      },
      "source": [
        "### Clean newly created features"
      ]
    },
    {
      "cell_type": "code",
      "execution_count": null,
      "metadata": {
        "id": "p31KZOj05O-y"
      },
      "outputs": [],
      "source": [
        "# We will treat some suitable variables as categorical\n",
        "cleaner.update_vars(extra_categoricals = ['L', 'cylinders', 'gears'])\n",
        "test_cleaner.update_vars(extra_categoricals = ['L', 'cylinders', 'gears'])"
      ]
    },
    {
      "cell_type": "code",
      "execution_count": null,
      "metadata": {
        "colab": {
          "base_uri": "https://localhost:8080/"
        },
        "id": "SXePYpXe9GRv",
        "outputId": "94d72d1e-fecb-4912-9820-1249acc87763"
      },
      "outputs": [
        {
          "name": "stdout",
          "output_type": "stream",
          "text": [
            "Categorical_missing_vars: ['gears', 'L', 'electric', 'automatic', 'cylinders']\n",
            "Continuos_missing_vars: ['model_year', 'milage', 'price', 'hp', 'valves']\n",
            "Categorical_missing_vars: ['gears', 'L', 'electric', 'automatic', 'cylinders']\n",
            "Continuos_missing_vars: ['model_year', 'milage', 'hp', 'valves']\n"
          ]
        }
      ],
      "source": [
        "cleaner.clean_categoricals()\n",
        "cleaner.clean_continuos()\n",
        "\n",
        "test_cleaner.clean_categoricals()\n",
        "test_cleaner.clean_continuos()"
      ]
    },
    {
      "cell_type": "code",
      "execution_count": null,
      "metadata": {
        "colab": {
          "base_uri": "https://localhost:8080/",
          "height": 645
        },
        "id": "l_dvC6iuIP9R",
        "outputId": "a6e80dfe-8bed-4285-e7da-e83f212b7923"
      },
      "outputs": [
        {
          "data": {
            "application/vnd.google.colaboratory.intrinsic+json": {
              "summary": "{\n  \"name\": \"check_null(df, test)\",\n  \"rows\": 19,\n  \"fields\": [\n    {\n      \"column\": \"train null\",\n      \"properties\": {\n        \"dtype\": \"number\",\n        \"std\": 0,\n        \"min\": 0,\n        \"max\": 0,\n        \"num_unique_values\": 1,\n        \"samples\": [\n          0\n        ],\n        \"semantic_type\": \"\",\n        \"description\": \"\"\n      }\n    },\n    {\n      \"column\": \"test null\",\n      \"properties\": {\n        \"dtype\": \"number\",\n        \"std\": 0.0,\n        \"min\": 0.0,\n        \"max\": 0.0,\n        \"num_unique_values\": 1,\n        \"samples\": [\n          0.0\n        ],\n        \"semantic_type\": \"\",\n        \"description\": \"\"\n      }\n    }\n  ]\n}",
              "type": "dataframe"
            },
            "text/html": [
              "\n",
              "  <div id=\"df-bcb14fd0-d3a4-4a82-a802-ab2f4178f36b\" class=\"colab-df-container\">\n",
              "    <div>\n",
              "<style scoped>\n",
              "    .dataframe tbody tr th:only-of-type {\n",
              "        vertical-align: middle;\n",
              "    }\n",
              "\n",
              "    .dataframe tbody tr th {\n",
              "        vertical-align: top;\n",
              "    }\n",
              "\n",
              "    .dataframe thead th {\n",
              "        text-align: right;\n",
              "    }\n",
              "</style>\n",
              "<table border=\"1\" class=\"dataframe\">\n",
              "  <thead>\n",
              "    <tr style=\"text-align: right;\">\n",
              "      <th></th>\n",
              "      <th>train null</th>\n",
              "      <th>test null</th>\n",
              "    </tr>\n",
              "  </thead>\n",
              "  <tbody>\n",
              "    <tr>\n",
              "      <th>L</th>\n",
              "      <td>0</td>\n",
              "      <td>0.0</td>\n",
              "    </tr>\n",
              "    <tr>\n",
              "      <th>accident</th>\n",
              "      <td>0</td>\n",
              "      <td>0.0</td>\n",
              "    </tr>\n",
              "    <tr>\n",
              "      <th>automatic</th>\n",
              "      <td>0</td>\n",
              "      <td>0.0</td>\n",
              "    </tr>\n",
              "    <tr>\n",
              "      <th>brand</th>\n",
              "      <td>0</td>\n",
              "      <td>0.0</td>\n",
              "    </tr>\n",
              "    <tr>\n",
              "      <th>clean_title</th>\n",
              "      <td>0</td>\n",
              "      <td>0.0</td>\n",
              "    </tr>\n",
              "    <tr>\n",
              "      <th>cylinders</th>\n",
              "      <td>0</td>\n",
              "      <td>0.0</td>\n",
              "    </tr>\n",
              "    <tr>\n",
              "      <th>electric</th>\n",
              "      <td>0</td>\n",
              "      <td>0.0</td>\n",
              "    </tr>\n",
              "    <tr>\n",
              "      <th>engine</th>\n",
              "      <td>0</td>\n",
              "      <td>0.0</td>\n",
              "    </tr>\n",
              "    <tr>\n",
              "      <th>ext_col</th>\n",
              "      <td>0</td>\n",
              "      <td>0.0</td>\n",
              "    </tr>\n",
              "    <tr>\n",
              "      <th>fuel_type</th>\n",
              "      <td>0</td>\n",
              "      <td>0.0</td>\n",
              "    </tr>\n",
              "    <tr>\n",
              "      <th>gears</th>\n",
              "      <td>0</td>\n",
              "      <td>0.0</td>\n",
              "    </tr>\n",
              "    <tr>\n",
              "      <th>hp</th>\n",
              "      <td>0</td>\n",
              "      <td>0.0</td>\n",
              "    </tr>\n",
              "    <tr>\n",
              "      <th>int_col</th>\n",
              "      <td>0</td>\n",
              "      <td>0.0</td>\n",
              "    </tr>\n",
              "    <tr>\n",
              "      <th>milage</th>\n",
              "      <td>0</td>\n",
              "      <td>0.0</td>\n",
              "    </tr>\n",
              "    <tr>\n",
              "      <th>model</th>\n",
              "      <td>0</td>\n",
              "      <td>0.0</td>\n",
              "    </tr>\n",
              "    <tr>\n",
              "      <th>model_year</th>\n",
              "      <td>0</td>\n",
              "      <td>0.0</td>\n",
              "    </tr>\n",
              "    <tr>\n",
              "      <th>price</th>\n",
              "      <td>0</td>\n",
              "      <td>NaN</td>\n",
              "    </tr>\n",
              "    <tr>\n",
              "      <th>transmission</th>\n",
              "      <td>0</td>\n",
              "      <td>0.0</td>\n",
              "    </tr>\n",
              "    <tr>\n",
              "      <th>valves</th>\n",
              "      <td>0</td>\n",
              "      <td>0.0</td>\n",
              "    </tr>\n",
              "  </tbody>\n",
              "</table>\n",
              "</div>\n",
              "    <div class=\"colab-df-buttons\">\n",
              "\n",
              "  <div class=\"colab-df-container\">\n",
              "    <button class=\"colab-df-convert\" onclick=\"convertToInteractive('df-bcb14fd0-d3a4-4a82-a802-ab2f4178f36b')\"\n",
              "            title=\"Convert this dataframe to an interactive table.\"\n",
              "            style=\"display:none;\">\n",
              "\n",
              "  <svg xmlns=\"http://www.w3.org/2000/svg\" height=\"24px\" viewBox=\"0 -960 960 960\">\n",
              "    <path d=\"M120-120v-720h720v720H120Zm60-500h600v-160H180v160Zm220 220h160v-160H400v160Zm0 220h160v-160H400v160ZM180-400h160v-160H180v160Zm440 0h160v-160H620v160ZM180-180h160v-160H180v160Zm440 0h160v-160H620v160Z\"/>\n",
              "  </svg>\n",
              "    </button>\n",
              "\n",
              "  <style>\n",
              "    .colab-df-container {\n",
              "      display:flex;\n",
              "      gap: 12px;\n",
              "    }\n",
              "\n",
              "    .colab-df-convert {\n",
              "      background-color: #E8F0FE;\n",
              "      border: none;\n",
              "      border-radius: 50%;\n",
              "      cursor: pointer;\n",
              "      display: none;\n",
              "      fill: #1967D2;\n",
              "      height: 32px;\n",
              "      padding: 0 0 0 0;\n",
              "      width: 32px;\n",
              "    }\n",
              "\n",
              "    .colab-df-convert:hover {\n",
              "      background-color: #E2EBFA;\n",
              "      box-shadow: 0px 1px 2px rgba(60, 64, 67, 0.3), 0px 1px 3px 1px rgba(60, 64, 67, 0.15);\n",
              "      fill: #174EA6;\n",
              "    }\n",
              "\n",
              "    .colab-df-buttons div {\n",
              "      margin-bottom: 4px;\n",
              "    }\n",
              "\n",
              "    [theme=dark] .colab-df-convert {\n",
              "      background-color: #3B4455;\n",
              "      fill: #D2E3FC;\n",
              "    }\n",
              "\n",
              "    [theme=dark] .colab-df-convert:hover {\n",
              "      background-color: #434B5C;\n",
              "      box-shadow: 0px 1px 3px 1px rgba(0, 0, 0, 0.15);\n",
              "      filter: drop-shadow(0px 1px 2px rgba(0, 0, 0, 0.3));\n",
              "      fill: #FFFFFF;\n",
              "    }\n",
              "  </style>\n",
              "\n",
              "    <script>\n",
              "      const buttonEl =\n",
              "        document.querySelector('#df-bcb14fd0-d3a4-4a82-a802-ab2f4178f36b button.colab-df-convert');\n",
              "      buttonEl.style.display =\n",
              "        google.colab.kernel.accessAllowed ? 'block' : 'none';\n",
              "\n",
              "      async function convertToInteractive(key) {\n",
              "        const element = document.querySelector('#df-bcb14fd0-d3a4-4a82-a802-ab2f4178f36b');\n",
              "        const dataTable =\n",
              "          await google.colab.kernel.invokeFunction('convertToInteractive',\n",
              "                                                    [key], {});\n",
              "        if (!dataTable) return;\n",
              "\n",
              "        const docLinkHtml = 'Like what you see? Visit the ' +\n",
              "          '<a target=\"_blank\" href=https://colab.research.google.com/notebooks/data_table.ipynb>data table notebook</a>'\n",
              "          + ' to learn more about interactive tables.';\n",
              "        element.innerHTML = '';\n",
              "        dataTable['output_type'] = 'display_data';\n",
              "        await google.colab.output.renderOutput(dataTable, element);\n",
              "        const docLink = document.createElement('div');\n",
              "        docLink.innerHTML = docLinkHtml;\n",
              "        element.appendChild(docLink);\n",
              "      }\n",
              "    </script>\n",
              "  </div>\n",
              "\n",
              "\n",
              "<div id=\"df-023a30e6-70d5-48ca-92d7-974843b6475d\">\n",
              "  <button class=\"colab-df-quickchart\" onclick=\"quickchart('df-023a30e6-70d5-48ca-92d7-974843b6475d')\"\n",
              "            title=\"Suggest charts\"\n",
              "            style=\"display:none;\">\n",
              "\n",
              "<svg xmlns=\"http://www.w3.org/2000/svg\" height=\"24px\"viewBox=\"0 0 24 24\"\n",
              "     width=\"24px\">\n",
              "    <g>\n",
              "        <path d=\"M19 3H5c-1.1 0-2 .9-2 2v14c0 1.1.9 2 2 2h14c1.1 0 2-.9 2-2V5c0-1.1-.9-2-2-2zM9 17H7v-7h2v7zm4 0h-2V7h2v10zm4 0h-2v-4h2v4z\"/>\n",
              "    </g>\n",
              "</svg>\n",
              "  </button>\n",
              "\n",
              "<style>\n",
              "  .colab-df-quickchart {\n",
              "      --bg-color: #E8F0FE;\n",
              "      --fill-color: #1967D2;\n",
              "      --hover-bg-color: #E2EBFA;\n",
              "      --hover-fill-color: #174EA6;\n",
              "      --disabled-fill-color: #AAA;\n",
              "      --disabled-bg-color: #DDD;\n",
              "  }\n",
              "\n",
              "  [theme=dark] .colab-df-quickchart {\n",
              "      --bg-color: #3B4455;\n",
              "      --fill-color: #D2E3FC;\n",
              "      --hover-bg-color: #434B5C;\n",
              "      --hover-fill-color: #FFFFFF;\n",
              "      --disabled-bg-color: #3B4455;\n",
              "      --disabled-fill-color: #666;\n",
              "  }\n",
              "\n",
              "  .colab-df-quickchart {\n",
              "    background-color: var(--bg-color);\n",
              "    border: none;\n",
              "    border-radius: 50%;\n",
              "    cursor: pointer;\n",
              "    display: none;\n",
              "    fill: var(--fill-color);\n",
              "    height: 32px;\n",
              "    padding: 0;\n",
              "    width: 32px;\n",
              "  }\n",
              "\n",
              "  .colab-df-quickchart:hover {\n",
              "    background-color: var(--hover-bg-color);\n",
              "    box-shadow: 0 1px 2px rgba(60, 64, 67, 0.3), 0 1px 3px 1px rgba(60, 64, 67, 0.15);\n",
              "    fill: var(--button-hover-fill-color);\n",
              "  }\n",
              "\n",
              "  .colab-df-quickchart-complete:disabled,\n",
              "  .colab-df-quickchart-complete:disabled:hover {\n",
              "    background-color: var(--disabled-bg-color);\n",
              "    fill: var(--disabled-fill-color);\n",
              "    box-shadow: none;\n",
              "  }\n",
              "\n",
              "  .colab-df-spinner {\n",
              "    border: 2px solid var(--fill-color);\n",
              "    border-color: transparent;\n",
              "    border-bottom-color: var(--fill-color);\n",
              "    animation:\n",
              "      spin 1s steps(1) infinite;\n",
              "  }\n",
              "\n",
              "  @keyframes spin {\n",
              "    0% {\n",
              "      border-color: transparent;\n",
              "      border-bottom-color: var(--fill-color);\n",
              "      border-left-color: var(--fill-color);\n",
              "    }\n",
              "    20% {\n",
              "      border-color: transparent;\n",
              "      border-left-color: var(--fill-color);\n",
              "      border-top-color: var(--fill-color);\n",
              "    }\n",
              "    30% {\n",
              "      border-color: transparent;\n",
              "      border-left-color: var(--fill-color);\n",
              "      border-top-color: var(--fill-color);\n",
              "      border-right-color: var(--fill-color);\n",
              "    }\n",
              "    40% {\n",
              "      border-color: transparent;\n",
              "      border-right-color: var(--fill-color);\n",
              "      border-top-color: var(--fill-color);\n",
              "    }\n",
              "    60% {\n",
              "      border-color: transparent;\n",
              "      border-right-color: var(--fill-color);\n",
              "    }\n",
              "    80% {\n",
              "      border-color: transparent;\n",
              "      border-right-color: var(--fill-color);\n",
              "      border-bottom-color: var(--fill-color);\n",
              "    }\n",
              "    90% {\n",
              "      border-color: transparent;\n",
              "      border-bottom-color: var(--fill-color);\n",
              "    }\n",
              "  }\n",
              "</style>\n",
              "\n",
              "  <script>\n",
              "    async function quickchart(key) {\n",
              "      const quickchartButtonEl =\n",
              "        document.querySelector('#' + key + ' button');\n",
              "      quickchartButtonEl.disabled = true;  // To prevent multiple clicks.\n",
              "      quickchartButtonEl.classList.add('colab-df-spinner');\n",
              "      try {\n",
              "        const charts = await google.colab.kernel.invokeFunction(\n",
              "            'suggestCharts', [key], {});\n",
              "      } catch (error) {\n",
              "        console.error('Error during call to suggestCharts:', error);\n",
              "      }\n",
              "      quickchartButtonEl.classList.remove('colab-df-spinner');\n",
              "      quickchartButtonEl.classList.add('colab-df-quickchart-complete');\n",
              "    }\n",
              "    (() => {\n",
              "      let quickchartButtonEl =\n",
              "        document.querySelector('#df-023a30e6-70d5-48ca-92d7-974843b6475d button');\n",
              "      quickchartButtonEl.style.display =\n",
              "        google.colab.kernel.accessAllowed ? 'block' : 'none';\n",
              "    })();\n",
              "  </script>\n",
              "</div>\n",
              "\n",
              "    </div>\n",
              "  </div>\n"
            ],
            "text/plain": [
              "              train null  test null\n",
              "L                      0        0.0\n",
              "accident               0        0.0\n",
              "automatic              0        0.0\n",
              "brand                  0        0.0\n",
              "clean_title            0        0.0\n",
              "cylinders              0        0.0\n",
              "electric               0        0.0\n",
              "engine                 0        0.0\n",
              "ext_col                0        0.0\n",
              "fuel_type              0        0.0\n",
              "gears                  0        0.0\n",
              "hp                     0        0.0\n",
              "int_col                0        0.0\n",
              "milage                 0        0.0\n",
              "model                  0        0.0\n",
              "model_year             0        0.0\n",
              "price                  0        NaN\n",
              "transmission           0        0.0\n",
              "valves                 0        0.0"
            ]
          },
          "execution_count": 343,
          "metadata": {},
          "output_type": "execute_result"
        }
      ],
      "source": [
        "check_null(df, test)"
      ]
    },
    {
      "cell_type": "markdown",
      "metadata": {
        "id": "-q3ZojAQ-uMg"
      },
      "source": [
        "### Create Interaction features"
      ]
    },
    {
      "cell_type": "code",
      "execution_count": null,
      "metadata": {
        "id": "TSdin4u27VJo"
      },
      "outputs": [],
      "source": [
        "# Create interaction features\n",
        "create_interactions(df)\n",
        "create_interactions(test)"
      ]
    },
    {
      "cell_type": "code",
      "execution_count": null,
      "metadata": {
        "id": "fGty3WGECA9V"
      },
      "outputs": [],
      "source": [
        "cleaner.update_vars()\n",
        "test_cleaner.update_vars()\n",
        "\n",
        "non_impute_cols = [col for col in df.columns if col in cleaner.continuos and col not in cleaner.continuos_imputed]\n",
        "\n",
        "for col in non_impute_cols:\n",
        "  df[col] =  handle_outliers(df[col], 3)\n",
        "  test[col] = handle_outliers(test[col], 3)"
      ]
    },
    {
      "cell_type": "code",
      "execution_count": null,
      "metadata": {
        "colab": {
          "base_uri": "https://localhost:8080/"
        },
        "id": "aMCxUbXoXXg4",
        "outputId": "ca9e9d85-168a-49c2-befa-c9b291396b63"
      },
      "outputs": [
        {
          "name": "stdout",
          "output_type": "stream",
          "text": [
            "Continuos_missing_vars: ['hp/l', 'mil/l', 'mil/hp', 'l/cyl', 'hp/gears', 'mil/gears', 'mil/cyl', 'hp*automatic', 'cyl*gears', 'mil/year', 'hp*accident', 'accident*carAge', 'acc*milage', 'mil*carAge', 'hp*mil']\n",
            "Continuos_missing_vars: ['hp/l', 'mil/l', 'mil/hp', 'l/cyl', 'hp/gears', 'mil/gears', 'mil/cyl', 'hp*automatic', 'cyl*gears', 'mil/year', 'hp*accident', 'accident*carAge', 'acc*milage', 'mil*carAge', 'hp*mil']\n"
          ]
        }
      ],
      "source": [
        "cleaner.clean_continuos()\n",
        "test_cleaner.clean_continuos()"
      ]
    },
    {
      "cell_type": "markdown",
      "metadata": {
        "id": "WhcXavMDQFIY"
      },
      "source": [
        "Some features might have skewed distributions, specifically righly skewed distribution. These can be log transformed to make them go near normal distribution."
      ]
    },
    {
      "cell_type": "code",
      "execution_count": null,
      "metadata": {
        "colab": {
          "base_uri": "https://localhost:8080/",
          "height": 699
        },
        "id": "5T-cGHn2K1wD",
        "outputId": "3d3b4474-5423-458b-d2b2-b991f64e0992"
      },
      "outputs": [
        {
          "data": {
            "image/png": "[encoded data removed]",
            "text/plain": [
              "<Figure size 400x800 with 4 Axes>"
            ]
          },
          "metadata": {},
          "output_type": "display_data"
        }
      ],
      "source": [
        "# Some features with rightly skewed data can be log transformed\n",
        "fig, axs = plt.subplots(2, 2, figsize=(4, 8))\n",
        "\n",
        "# carAge distribution\n",
        "axs[0, 0].hist(df['carAge'], bins=200)\n",
        "axs[0, 0].set_title('carAge')\n",
        "\n",
        "axs[1, 0].hist(df['milage'], bins=200)\n",
        "axs[1, 0].set_title('milage')\n",
        "\n",
        "# milage is right skewed. Log transformation could be used.\n",
        "carAge = np.where(df['carAge'] != 0, df['carAge'], 1).astype('float')\n",
        "milage = np.where(df['milage'] != 0, df['milage'], 1).astype('float')\n",
        "\n",
        "log_carAge = np.log(carAge)\n",
        "log_milage = np.log(milage)\n",
        "\n",
        "axs[0, 1].hist(log_carAge, bins=200)\n",
        "axs[0, 1].set_title('log carAge')\n",
        "\n",
        "axs[1,1].hist(log_milage, bins=200,)\n",
        "axs[1,1].set_title('log  milage')\n",
        "plt.show()"
      ]
    },
    {
      "cell_type": "markdown",
      "metadata": {
        "id": "X5gXEnYRQhum"
      },
      "source": [
        "log transformation will be applied in later function."
      ]
    },
    {
      "cell_type": "markdown",
      "metadata": {
        "id": "Kfuo-t54QqZv"
      },
      "source": [
        "#### Add binning to milage"
      ]
    },
    {
      "cell_type": "code",
      "execution_count": null,
      "metadata": {
        "colab": {
          "base_uri": "https://localhost:8080/"
        },
        "id": "JZRX89shQv5P",
        "outputId": "b30bd3f3-ec10-4e77-e694-11c070e0c3fb"
      },
      "outputs": [
        {
          "name": "stdout",
          "output_type": "stream",
          "text": [
            "min: 100.0, max:165301.61132529768\n"
          ]
        }
      ],
      "source": [
        "# Get range of values\n",
        "print(f'min: {np.min(milage)}, max:{np.max(milage)}')"
      ]
    },
    {
      "cell_type": "code",
      "execution_count": null,
      "metadata": {
        "id": "c0ccFjq8gQZz"
      },
      "outputs": [],
      "source": [
        "# Add binning to milage and categorize ordinally\n",
        "bins = [99.0, 300.0, 700.0, 1000.0, 3000.0, 7000., 10000.0, 20000., 35000., 50000.0, 75000, 100000.0, 125000.0, 150000., 175000, 200000.0, 250000.0]\n",
        "intervals = {pd.Interval(bins[i], bins[i+1], closed='left') : i for i in range(len(bins) - 1)}\n",
        "\n",
        "train_binned_milage = pd.cut(df['milage'], bins, right=False)\n",
        "test_binned_milage = pd.cut(test['milage'], bins, right=False)\n",
        "\n",
        "df['binned_milage'] = train_binned_milage.map(lambda x: intervals[x])\n",
        "test['binned_milage'] = test_binned_milage.map(lambda x: intervals[x])"
      ]
    },
    {
      "cell_type": "markdown",
      "metadata": {
        "id": "CHAJXcFRTVEO"
      },
      "source": [
        "Assign classes to brands according to their mean prices"
      ]
    },
    {
      "cell_type": "code",
      "execution_count": null,
      "metadata": {
        "colab": {
          "base_uri": "https://localhost:8080/"
        },
        "id": "tp6D97JvTcWv",
        "outputId": "dcab07d3-4d20-44c9-b5be-4295ae0fc604"
      },
      "outputs": [
        {
          "name": "stdout",
          "output_type": "stream",
          "text": [
            "2000.0 201517.06068646687\n"
          ]
        }
      ],
      "source": [
        "# Get range of values\n",
        "print(np.min(df['price']), np.max(df['price']))"
      ]
    },
    {
      "cell_type": "code",
      "execution_count": null,
      "metadata": {
        "id": "r8g2RKT8Xf1G"
      },
      "outputs": [],
      "source": [
        "# Classes will be ordinally categorized\n",
        "\n",
        "# Define bins\n",
        "bins = [1000.0, 5000.0, 10000.0, 25000.0, 50000.0, 75000., 100000.0, 125000., 150000.0, 175000., 200000.0, 225000., 250000.0, 275000.0, 300000.0]\n",
        "\n",
        "binned_prices = pd.cut(df['price'], bins, right=False)\n",
        "\n",
        "# Create interval mapping\n",
        "intervals = {pd.Interval(bins[i], bins[i+1], closed='left'): i for i in range(len(bins) - 1)}\n",
        "\n",
        "brand_avg_price = df.groupby('brand')['price'].mean().to_dict()   # {'brand_name' : mean_price}\n",
        "\n",
        "def get_class(mean_price):\n",
        "    for interval, class_ in intervals.items():\n",
        "        if mean_price in interval:\n",
        "          return class_\n",
        "\n",
        "df['brand_class'] = df['brand'].map(lambda x: get_class(brand_avg_price[x]))\n",
        "test['brand_class'] = test['brand'].map(lambda x: get_class(brand_avg_price[x]))\n"
      ]
    },
    {
      "cell_type": "code",
      "execution_count": null,
      "metadata": {
        "id": "9wcKpw3XW-Od"
      },
      "outputs": [],
      "source": [
        "def additional_features(df):\n",
        "    df['AverageMilage'] = df.groupby(\"brand\")['milage'].transform('mean')\n",
        "    df['BrandFreq'] = df.groupby('brand')['brand'].transform('count')/df['brand'].count()\n",
        "\n",
        "    brand_count = df.groupby('brand')['brand'].count().to_dict()\n",
        "    df['brand_count'] = df['brand'].map(brand_count)\n",
        "\n",
        "    brand_avg_mil = df.groupby('brand')['milage'].mean().to_dict()\n",
        "    df['brand_avg_mil'] = df['brand'].map(brand_avg_mil)\n",
        "\n",
        "    df['log_milage'] = np.log(df['milage'])\n",
        "\n",
        "    df['logL'] = np.log(df['L'])\n",
        "\n",
        "    df['logAge'] = np.log1p(df['carAge'])\n"
      ]
    },
    {
      "cell_type": "code",
      "execution_count": null,
      "metadata": {
        "id": "uTcE0Mus0480"
      },
      "outputs": [],
      "source": [
        "additional_features(df)\n",
        "additional_features(test)"
      ]
    },
    {
      "cell_type": "code",
      "execution_count": null,
      "metadata": {
        "id": "3H8Jz9AwE4af"
      },
      "outputs": [],
      "source": [
        "cleaner.update_vars()\n",
        "test_cleaner.update_vars()\n",
        "\n",
        "non_impute_cols = [col for col in df.columns if col in cleaner.continuos and col not in cleaner.continuos_imputed]\n",
        "\n",
        "for col in non_impute_cols:\n",
        "  df[col] =  handle_outliers(df[col], 3)\n",
        "  test[col] = handle_outliers(test[col], 3)"
      ]
    },
    {
      "cell_type": "code",
      "execution_count": null,
      "metadata": {
        "colab": {
          "base_uri": "https://localhost:8080/",
          "height": 1000
        },
        "id": "VVxBUbKVXsPf",
        "outputId": "fa35dc8f-c92d-4008-9e7d-2af465b25494"
      },
      "outputs": [
        {
          "data": {
            "application/vnd.google.colaboratory.intrinsic+json": {
              "summary": "{\n  \"name\": \"check_null(df, test)\",\n  \"rows\": 44,\n  \"fields\": [\n    {\n      \"column\": \"train null\",\n      \"properties\": {\n        \"dtype\": \"number\",\n        \"std\": 0,\n        \"min\": 0,\n        \"max\": 0,\n        \"num_unique_values\": 1,\n        \"samples\": [\n          0\n        ],\n        \"semantic_type\": \"\",\n        \"description\": \"\"\n      }\n    },\n    {\n      \"column\": \"test null\",\n      \"properties\": {\n        \"dtype\": \"number\",\n        \"std\": 0.0,\n        \"min\": 0.0,\n        \"max\": 0.0,\n        \"num_unique_values\": 1,\n        \"samples\": [\n          0.0\n        ],\n        \"semantic_type\": \"\",\n        \"description\": \"\"\n      }\n    }\n  ]\n}",
              "type": "dataframe"
            },
            "text/html": [
              "\n",
              "  <div id=\"df-34b2ce7a-d00e-42f3-a09d-9e742d455dce\" class=\"colab-df-container\">\n",
              "    <div>\n",
              "<style scoped>\n",
              "    .dataframe tbody tr th:only-of-type {\n",
              "        vertical-align: middle;\n",
              "    }\n",
              "\n",
              "    .dataframe tbody tr th {\n",
              "        vertical-align: top;\n",
              "    }\n",
              "\n",
              "    .dataframe thead th {\n",
              "        text-align: right;\n",
              "    }\n",
              "</style>\n",
              "<table border=\"1\" class=\"dataframe\">\n",
              "  <thead>\n",
              "    <tr style=\"text-align: right;\">\n",
              "      <th></th>\n",
              "      <th>train null</th>\n",
              "      <th>test null</th>\n",
              "    </tr>\n",
              "  </thead>\n",
              "  <tbody>\n",
              "    <tr>\n",
              "      <th>AverageMilage</th>\n",
              "      <td>0</td>\n",
              "      <td>0.0</td>\n",
              "    </tr>\n",
              "    <tr>\n",
              "      <th>BrandFreq</th>\n",
              "      <td>0</td>\n",
              "      <td>0.0</td>\n",
              "    </tr>\n",
              "    <tr>\n",
              "      <th>L</th>\n",
              "      <td>0</td>\n",
              "      <td>0.0</td>\n",
              "    </tr>\n",
              "    <tr>\n",
              "      <th>acc*milage</th>\n",
              "      <td>0</td>\n",
              "      <td>0.0</td>\n",
              "    </tr>\n",
              "    <tr>\n",
              "      <th>accident</th>\n",
              "      <td>0</td>\n",
              "      <td>0.0</td>\n",
              "    </tr>\n",
              "    <tr>\n",
              "      <th>accident*carAge</th>\n",
              "      <td>0</td>\n",
              "      <td>0.0</td>\n",
              "    </tr>\n",
              "    <tr>\n",
              "      <th>automatic</th>\n",
              "      <td>0</td>\n",
              "      <td>0.0</td>\n",
              "    </tr>\n",
              "    <tr>\n",
              "      <th>binned_milage</th>\n",
              "      <td>0</td>\n",
              "      <td>0.0</td>\n",
              "    </tr>\n",
              "    <tr>\n",
              "      <th>brand</th>\n",
              "      <td>0</td>\n",
              "      <td>0.0</td>\n",
              "    </tr>\n",
              "    <tr>\n",
              "      <th>brand_avg_mil</th>\n",
              "      <td>0</td>\n",
              "      <td>0.0</td>\n",
              "    </tr>\n",
              "    <tr>\n",
              "      <th>brand_class</th>\n",
              "      <td>0</td>\n",
              "      <td>0.0</td>\n",
              "    </tr>\n",
              "    <tr>\n",
              "      <th>brand_count</th>\n",
              "      <td>0</td>\n",
              "      <td>0.0</td>\n",
              "    </tr>\n",
              "    <tr>\n",
              "      <th>carAge</th>\n",
              "      <td>0</td>\n",
              "      <td>0.0</td>\n",
              "    </tr>\n",
              "    <tr>\n",
              "      <th>clean_title</th>\n",
              "      <td>0</td>\n",
              "      <td>0.0</td>\n",
              "    </tr>\n",
              "    <tr>\n",
              "      <th>cyl*gears</th>\n",
              "      <td>0</td>\n",
              "      <td>0.0</td>\n",
              "    </tr>\n",
              "    <tr>\n",
              "      <th>cylinders</th>\n",
              "      <td>0</td>\n",
              "      <td>0.0</td>\n",
              "    </tr>\n",
              "    <tr>\n",
              "      <th>electric</th>\n",
              "      <td>0</td>\n",
              "      <td>0.0</td>\n",
              "    </tr>\n",
              "    <tr>\n",
              "      <th>engine</th>\n",
              "      <td>0</td>\n",
              "      <td>0.0</td>\n",
              "    </tr>\n",
              "    <tr>\n",
              "      <th>ext_col</th>\n",
              "      <td>0</td>\n",
              "      <td>0.0</td>\n",
              "    </tr>\n",
              "    <tr>\n",
              "      <th>fuel_type</th>\n",
              "      <td>0</td>\n",
              "      <td>0.0</td>\n",
              "    </tr>\n",
              "    <tr>\n",
              "      <th>gears</th>\n",
              "      <td>0</td>\n",
              "      <td>0.0</td>\n",
              "    </tr>\n",
              "    <tr>\n",
              "      <th>hp</th>\n",
              "      <td>0</td>\n",
              "      <td>0.0</td>\n",
              "    </tr>\n",
              "    <tr>\n",
              "      <th>hp*accident</th>\n",
              "      <td>0</td>\n",
              "      <td>0.0</td>\n",
              "    </tr>\n",
              "    <tr>\n",
              "      <th>hp*automatic</th>\n",
              "      <td>0</td>\n",
              "      <td>0.0</td>\n",
              "    </tr>\n",
              "    <tr>\n",
              "      <th>hp*mil</th>\n",
              "      <td>0</td>\n",
              "      <td>0.0</td>\n",
              "    </tr>\n",
              "    <tr>\n",
              "      <th>hp/gears</th>\n",
              "      <td>0</td>\n",
              "      <td>0.0</td>\n",
              "    </tr>\n",
              "    <tr>\n",
              "      <th>hp/l</th>\n",
              "      <td>0</td>\n",
              "      <td>0.0</td>\n",
              "    </tr>\n",
              "    <tr>\n",
              "      <th>int_col</th>\n",
              "      <td>0</td>\n",
              "      <td>0.0</td>\n",
              "    </tr>\n",
              "    <tr>\n",
              "      <th>l/cyl</th>\n",
              "      <td>0</td>\n",
              "      <td>0.0</td>\n",
              "    </tr>\n",
              "    <tr>\n",
              "      <th>logAge</th>\n",
              "      <td>0</td>\n",
              "      <td>0.0</td>\n",
              "    </tr>\n",
              "    <tr>\n",
              "      <th>logL</th>\n",
              "      <td>0</td>\n",
              "      <td>0.0</td>\n",
              "    </tr>\n",
              "    <tr>\n",
              "      <th>log_milage</th>\n",
              "      <td>0</td>\n",
              "      <td>0.0</td>\n",
              "    </tr>\n",
              "    <tr>\n",
              "      <th>mil*carAge</th>\n",
              "      <td>0</td>\n",
              "      <td>0.0</td>\n",
              "    </tr>\n",
              "    <tr>\n",
              "      <th>mil/cyl</th>\n",
              "      <td>0</td>\n",
              "      <td>0.0</td>\n",
              "    </tr>\n",
              "    <tr>\n",
              "      <th>mil/gears</th>\n",
              "      <td>0</td>\n",
              "      <td>0.0</td>\n",
              "    </tr>\n",
              "    <tr>\n",
              "      <th>mil/hp</th>\n",
              "      <td>0</td>\n",
              "      <td>0.0</td>\n",
              "    </tr>\n",
              "    <tr>\n",
              "      <th>mil/l</th>\n",
              "      <td>0</td>\n",
              "      <td>0.0</td>\n",
              "    </tr>\n",
              "    <tr>\n",
              "      <th>mil/year</th>\n",
              "      <td>0</td>\n",
              "      <td>0.0</td>\n",
              "    </tr>\n",
              "    <tr>\n",
              "      <th>milage</th>\n",
              "      <td>0</td>\n",
              "      <td>0.0</td>\n",
              "    </tr>\n",
              "    <tr>\n",
              "      <th>model</th>\n",
              "      <td>0</td>\n",
              "      <td>0.0</td>\n",
              "    </tr>\n",
              "    <tr>\n",
              "      <th>model_year</th>\n",
              "      <td>0</td>\n",
              "      <td>0.0</td>\n",
              "    </tr>\n",
              "    <tr>\n",
              "      <th>price</th>\n",
              "      <td>0</td>\n",
              "      <td>NaN</td>\n",
              "    </tr>\n",
              "    <tr>\n",
              "      <th>transmission</th>\n",
              "      <td>0</td>\n",
              "      <td>0.0</td>\n",
              "    </tr>\n",
              "    <tr>\n",
              "      <th>valves</th>\n",
              "      <td>0</td>\n",
              "      <td>0.0</td>\n",
              "    </tr>\n",
              "  </tbody>\n",
              "</table>\n",
              "</div>\n",
              "    <div class=\"colab-df-buttons\">\n",
              "\n",
              "  <div class=\"colab-df-container\">\n",
              "    <button class=\"colab-df-convert\" onclick=\"convertToInteractive('df-34b2ce7a-d00e-42f3-a09d-9e742d455dce')\"\n",
              "            title=\"Convert this dataframe to an interactive table.\"\n",
              "            style=\"display:none;\">\n",
              "\n",
              "  <svg xmlns=\"http://www.w3.org/2000/svg\" height=\"24px\" viewBox=\"0 -960 960 960\">\n",
              "    <path d=\"M120-120v-720h720v720H120Zm60-500h600v-160H180v160Zm220 220h160v-160H400v160Zm0 220h160v-160H400v160ZM180-400h160v-160H180v160Zm440 0h160v-160H620v160ZM180-180h160v-160H180v160Zm440 0h160v-160H620v160Z\"/>\n",
              "  </svg>\n",
              "    </button>\n",
              "\n",
              "  <style>\n",
              "    .colab-df-container {\n",
              "      display:flex;\n",
              "      gap: 12px;\n",
              "    }\n",
              "\n",
              "    .colab-df-convert {\n",
              "      background-color: #E8F0FE;\n",
              "      border: none;\n",
              "      border-radius: 50%;\n",
              "      cursor: pointer;\n",
              "      display: none;\n",
              "      fill: #1967D2;\n",
              "      height: 32px;\n",
              "      padding: 0 0 0 0;\n",
              "      width: 32px;\n",
              "    }\n",
              "\n",
              "    .colab-df-convert:hover {\n",
              "      background-color: #E2EBFA;\n",
              "      box-shadow: 0px 1px 2px rgba(60, 64, 67, 0.3), 0px 1px 3px 1px rgba(60, 64, 67, 0.15);\n",
              "      fill: #174EA6;\n",
              "    }\n",
              "\n",
              "    .colab-df-buttons div {\n",
              "      margin-bottom: 4px;\n",
              "    }\n",
              "\n",
              "    [theme=dark] .colab-df-convert {\n",
              "      background-color: #3B4455;\n",
              "      fill: #D2E3FC;\n",
              "    }\n",
              "\n",
              "    [theme=dark] .colab-df-convert:hover {\n",
              "      background-color: #434B5C;\n",
              "      box-shadow: 0px 1px 3px 1px rgba(0, 0, 0, 0.15);\n",
              "      filter: drop-shadow(0px 1px 2px rgba(0, 0, 0, 0.3));\n",
              "      fill: #FFFFFF;\n",
              "    }\n",
              "  </style>\n",
              "\n",
              "    <script>\n",
              "      const buttonEl =\n",
              "        document.querySelector('#df-34b2ce7a-d00e-42f3-a09d-9e742d455dce button.colab-df-convert');\n",
              "      buttonEl.style.display =\n",
              "        google.colab.kernel.accessAllowed ? 'block' : 'none';\n",
              "\n",
              "      async function convertToInteractive(key) {\n",
              "        const element = document.querySelector('#df-34b2ce7a-d00e-42f3-a09d-9e742d455dce');\n",
              "        const dataTable =\n",
              "          await google.colab.kernel.invokeFunction('convertToInteractive',\n",
              "                                                    [key], {});\n",
              "        if (!dataTable) return;\n",
              "\n",
              "        const docLinkHtml = 'Like what you see? Visit the ' +\n",
              "          '<a target=\"_blank\" href=https://colab.research.google.com/notebooks/data_table.ipynb>data table notebook</a>'\n",
              "          + ' to learn more about interactive tables.';\n",
              "        element.innerHTML = '';\n",
              "        dataTable['output_type'] = 'display_data';\n",
              "        await google.colab.output.renderOutput(dataTable, element);\n",
              "        const docLink = document.createElement('div');\n",
              "        docLink.innerHTML = docLinkHtml;\n",
              "        element.appendChild(docLink);\n",
              "      }\n",
              "    </script>\n",
              "  </div>\n",
              "\n",
              "\n",
              "<div id=\"df-2ef3f93b-8241-4504-9792-f9634089345a\">\n",
              "  <button class=\"colab-df-quickchart\" onclick=\"quickchart('df-2ef3f93b-8241-4504-9792-f9634089345a')\"\n",
              "            title=\"Suggest charts\"\n",
              "            style=\"display:none;\">\n",
              "\n",
              "<svg xmlns=\"http://www.w3.org/2000/svg\" height=\"24px\"viewBox=\"0 0 24 24\"\n",
              "     width=\"24px\">\n",
              "    <g>\n",
              "        <path d=\"M19 3H5c-1.1 0-2 .9-2 2v14c0 1.1.9 2 2 2h14c1.1 0 2-.9 2-2V5c0-1.1-.9-2-2-2zM9 17H7v-7h2v7zm4 0h-2V7h2v10zm4 0h-2v-4h2v4z\"/>\n",
              "    </g>\n",
              "</svg>\n",
              "  </button>\n",
              "\n",
              "<style>\n",
              "  .colab-df-quickchart {\n",
              "      --bg-color: #E8F0FE;\n",
              "      --fill-color: #1967D2;\n",
              "      --hover-bg-color: #E2EBFA;\n",
              "      --hover-fill-color: #174EA6;\n",
              "      --disabled-fill-color: #AAA;\n",
              "      --disabled-bg-color: #DDD;\n",
              "  }\n",
              "\n",
              "  [theme=dark] .colab-df-quickchart {\n",
              "      --bg-color: #3B4455;\n",
              "      --fill-color: #D2E3FC;\n",
              "      --hover-bg-color: #434B5C;\n",
              "      --hover-fill-color: #FFFFFF;\n",
              "      --disabled-bg-color: #3B4455;\n",
              "      --disabled-fill-color: #666;\n",
              "  }\n",
              "\n",
              "  .colab-df-quickchart {\n",
              "    background-color: var(--bg-color);\n",
              "    border: none;\n",
              "    border-radius: 50%;\n",
              "    cursor: pointer;\n",
              "    display: none;\n",
              "    fill: var(--fill-color);\n",
              "    height: 32px;\n",
              "    padding: 0;\n",
              "    width: 32px;\n",
              "  }\n",
              "\n",
              "  .colab-df-quickchart:hover {\n",
              "    background-color: var(--hover-bg-color);\n",
              "    box-shadow: 0 1px 2px rgba(60, 64, 67, 0.3), 0 1px 3px 1px rgba(60, 64, 67, 0.15);\n",
              "    fill: var(--button-hover-fill-color);\n",
              "  }\n",
              "\n",
              "  .colab-df-quickchart-complete:disabled,\n",
              "  .colab-df-quickchart-complete:disabled:hover {\n",
              "    background-color: var(--disabled-bg-color);\n",
              "    fill: var(--disabled-fill-color);\n",
              "    box-shadow: none;\n",
              "  }\n",
              "\n",
              "  .colab-df-spinner {\n",
              "    border: 2px solid var(--fill-color);\n",
              "    border-color: transparent;\n",
              "    border-bottom-color: var(--fill-color);\n",
              "    animation:\n",
              "      spin 1s steps(1) infinite;\n",
              "  }\n",
              "\n",
              "  @keyframes spin {\n",
              "    0% {\n",
              "      border-color: transparent;\n",
              "      border-bottom-color: var(--fill-color);\n",
              "      border-left-color: var(--fill-color);\n",
              "    }\n",
              "    20% {\n",
              "      border-color: transparent;\n",
              "      border-left-color: var(--fill-color);\n",
              "      border-top-color: var(--fill-color);\n",
              "    }\n",
              "    30% {\n",
              "      border-color: transparent;\n",
              "      border-left-color: var(--fill-color);\n",
              "      border-top-color: var(--fill-color);\n",
              "      border-right-color: var(--fill-color);\n",
              "    }\n",
              "    40% {\n",
              "      border-color: transparent;\n",
              "      border-right-color: var(--fill-color);\n",
              "      border-top-color: var(--fill-color);\n",
              "    }\n",
              "    60% {\n",
              "      border-color: transparent;\n",
              "      border-right-color: var(--fill-color);\n",
              "    }\n",
              "    80% {\n",
              "      border-color: transparent;\n",
              "      border-right-color: var(--fill-color);\n",
              "      border-bottom-color: var(--fill-color);\n",
              "    }\n",
              "    90% {\n",
              "      border-color: transparent;\n",
              "      border-bottom-color: var(--fill-color);\n",
              "    }\n",
              "  }\n",
              "</style>\n",
              "\n",
              "  <script>\n",
              "    async function quickchart(key) {\n",
              "      const quickchartButtonEl =\n",
              "        document.querySelector('#' + key + ' button');\n",
              "      quickchartButtonEl.disabled = true;  // To prevent multiple clicks.\n",
              "      quickchartButtonEl.classList.add('colab-df-spinner');\n",
              "      try {\n",
              "        const charts = await google.colab.kernel.invokeFunction(\n",
              "            'suggestCharts', [key], {});\n",
              "      } catch (error) {\n",
              "        console.error('Error during call to suggestCharts:', error);\n",
              "      }\n",
              "      quickchartButtonEl.classList.remove('colab-df-spinner');\n",
              "      quickchartButtonEl.classList.add('colab-df-quickchart-complete');\n",
              "    }\n",
              "    (() => {\n",
              "      let quickchartButtonEl =\n",
              "        document.querySelector('#df-2ef3f93b-8241-4504-9792-f9634089345a button');\n",
              "      quickchartButtonEl.style.display =\n",
              "        google.colab.kernel.accessAllowed ? 'block' : 'none';\n",
              "    })();\n",
              "  </script>\n",
              "</div>\n",
              "\n",
              "    </div>\n",
              "  </div>\n"
            ],
            "text/plain": [
              "                 train null  test null\n",
              "AverageMilage             0        0.0\n",
              "BrandFreq                 0        0.0\n",
              "L                         0        0.0\n",
              "acc*milage                0        0.0\n",
              "accident                  0        0.0\n",
              "accident*carAge           0        0.0\n",
              "automatic                 0        0.0\n",
              "binned_milage             0        0.0\n",
              "brand                     0        0.0\n",
              "brand_avg_mil             0        0.0\n",
              "brand_class               0        0.0\n",
              "brand_count               0        0.0\n",
              "carAge                    0        0.0\n",
              "clean_title               0        0.0\n",
              "cyl*gears                 0        0.0\n",
              "cylinders                 0        0.0\n",
              "electric                  0        0.0\n",
              "engine                    0        0.0\n",
              "ext_col                   0        0.0\n",
              "fuel_type                 0        0.0\n",
              "gears                     0        0.0\n",
              "hp                        0        0.0\n",
              "hp*accident               0        0.0\n",
              "hp*automatic              0        0.0\n",
              "hp*mil                    0        0.0\n",
              "hp/gears                  0        0.0\n",
              "hp/l                      0        0.0\n",
              "int_col                   0        0.0\n",
              "l/cyl                     0        0.0\n",
              "logAge                    0        0.0\n",
              "logL                      0        0.0\n",
              "log_milage                0        0.0\n",
              "mil*carAge                0        0.0\n",
              "mil/cyl                   0        0.0\n",
              "mil/gears                 0        0.0\n",
              "mil/hp                    0        0.0\n",
              "mil/l                     0        0.0\n",
              "mil/year                  0        0.0\n",
              "milage                    0        0.0\n",
              "model                     0        0.0\n",
              "model_year                0        0.0\n",
              "price                     0        NaN\n",
              "transmission              0        0.0\n",
              "valves                    0        0.0"
            ]
          },
          "execution_count": 355,
          "metadata": {},
          "output_type": "execute_result"
        }
      ],
      "source": [
        "check_null(df, test)"
      ]
    },
    {
      "cell_type": "code",
      "execution_count": null,
      "metadata": {
        "colab": {
          "base_uri": "https://localhost:8080/"
        },
        "id": "qXf8aTjKIbAm",
        "outputId": "58fcc394-e5e3-4e3d-bdf9-b771a28f320c"
      },
      "outputs": [
        {
          "name": "stdout",
          "output_type": "stream",
          "text": [
            "Continuos_missing_vars: ['AverageMilage', 'BrandFreq', 'brand_avg_mil', 'log_milage', 'logL', 'logAge']\n",
            "Continuos_missing_vars: ['AverageMilage', 'BrandFreq', 'brand_avg_mil', 'log_milage', 'logL', 'logAge']\n"
          ]
        }
      ],
      "source": [
        "cleaner.clean_continuos()\n",
        "test_cleaner.clean_continuos()"
      ]
    },
    {
      "cell_type": "markdown",
      "metadata": {
        "id": "zRKMFeKyXAHd"
      },
      "source": [
        "## Label encode categoricals"
      ]
    },
    {
      "cell_type": "code",
      "execution_count": null,
      "metadata": {
        "id": "Bv4_1UudM7G4"
      },
      "outputs": [],
      "source": [
        "# Label categorical features\n",
        "for colname in cleaner.categoricals:\n",
        "    df[colname], _ = df[colname].factorize()\n",
        "\n",
        "for colname in test_cleaner.categoricals:\n",
        "    test[colname], _ = test[colname].factorize()"
      ]
    },
    {
      "cell_type": "code",
      "execution_count": null,
      "metadata": {
        "id": "80VYrGnHNA1E"
      },
      "outputs": [],
      "source": [
        "X = df.copy()\n",
        "y = X.pop('price')"
      ]
    },
    {
      "cell_type": "code",
      "execution_count": null,
      "metadata": {
        "colab": {
          "base_uri": "https://localhost:8080/"
        },
        "id": "td2iG6nOhiSH",
        "outputId": "09d3a655-934a-4d9f-fe9d-dbc527de64b4"
      },
      "outputs": [
        {
          "data": {
            "text/plain": [
              "((188533, 43), (188533,))"
            ]
          },
          "execution_count": 359,
          "metadata": {},
          "output_type": "execute_result"
        }
      ],
      "source": [
        "X.shape, y.shape"
      ]
    },
    {
      "cell_type": "code",
      "execution_count": null,
      "metadata": {
        "colab": {
          "base_uri": "https://localhost:8080/"
        },
        "id": "GroFKHPtwjGz",
        "outputId": "ca586cdb-e0e5-4e8f-b87b-e5586897ff9c"
      },
      "outputs": [
        {
          "data": {
            "text/plain": [
              "(125690, 43)"
            ]
          },
          "execution_count": 360,
          "metadata": {},
          "output_type": "execute_result"
        }
      ],
      "source": [
        "test.shape"
      ]
    },
    {
      "cell_type": "markdown",
      "metadata": {
        "id": "QQotMJWzLwMy"
      },
      "source": [
        "#### PCA"
      ]
    },
    {
      "cell_type": "code",
      "execution_count": null,
      "metadata": {
        "colab": {
          "base_uri": "https://localhost:8080/"
        },
        "id": "mnFZKslUnvyg",
        "outputId": "7e261912-ad7b-47a8-944c-919dfa7dc04d"
      },
      "outputs": [
        {
          "name": "stdout",
          "output_type": "stream",
          "text": [
            "Index(['model_year', 'milage', 'hp', 'valves', 'hp/l', 'mil/l', 'mil/hp',\n",
            "       'l/cyl', 'hp/gears', 'mil/gears', 'mil/cyl', 'hp*automatic',\n",
            "       'cyl*gears', 'mil/year', 'hp*accident', 'accident*carAge', 'acc*milage',\n",
            "       'mil*carAge', 'hp*mil', 'AverageMilage', 'BrandFreq', 'brand_avg_mil',\n",
            "       'log_milage', 'logL', 'logAge'],\n",
            "      dtype='object')\n",
            "Explained Variance Ratio: 0.99200473067676\n"
          ]
        }
      ],
      "source": [
        "# Standardize the data (important for PCA)\n",
        "X_pca = X.copy()\n",
        "test_pca = test.copy()\n",
        "\n",
        "scaler_pca = StandardScaler()\n",
        "\n",
        "X_pca[X_pca.select_dtypes(include='float').columns] = scaler_pca.fit_transform(X_pca.select_dtypes(include='float'))\n",
        "test_pca[X_pca.select_dtypes(include='float').columns] = scaler_pca.fit_transform(test_pca.select_dtypes(include='float'))\n",
        "print(X_pca.select_dtypes(include='float').columns)\n",
        "\n",
        "# Apply PCA\n",
        "pca = PCA(n_components=2)  # Specify the number of components\n",
        "X_pca_components = pca.fit_transform(X_pca)\n",
        "test_pca_components = pca.fit_transform(test_pca)\n",
        "\n",
        "# Explained Variance\n",
        "explained_variance = np.sum(pca.explained_variance_ratio_)\n",
        "\n",
        "print(\"Explained Variance Ratio:\", explained_variance)\n",
        "\n",
        "# Convert to DataFrame for better readability\n",
        "pca_df = pd.DataFrame(data=X_pca_components, columns=['PC1', 'PC2'])\n",
        "X = pd.concat([X, pca_df], axis=1)\n",
        "\n",
        "pca_df = pd.DataFrame(data=test_pca_components, columns=['PC1', 'PC2'])\n",
        "test = pd.concat([test, pca_df], axis=1)"
      ]
    },
    {
      "cell_type": "code",
      "execution_count": null,
      "metadata": {
        "id": "ZFfOH77wVBld"
      },
      "outputs": [],
      "source": [
        "cleaner.categoricals.extend(['PC1', 'PC2'])\n",
        "test_cleaner.categoricals.extend(['PC1', 'PC2'])"
      ]
    },
    {
      "cell_type": "code",
      "execution_count": null,
      "metadata": {
        "colab": {
          "base_uri": "https://localhost:8080/",
          "height": 179
        },
        "id": "2QzibUXXfIpH",
        "outputId": "469ff098-8c10-42e8-f306-38155840e233"
      },
      "outputs": [
        {
          "name": "stdout",
          "output_type": "stream",
          "text": [
            "(2, 43)\n"
          ]
        },
        {
          "data": {
            "application/vnd.google.colaboratory.intrinsic+json": {
              "type": "dataframe",
              "variable_name": "components_df"
            },
            "text/html": [
              "\n",
              "  <div id=\"df-0251d8e2-1c7c-4a87-92ea-93249f0c74a1\" class=\"colab-df-container\">\n",
              "    <div>\n",
              "<style scoped>\n",
              "    .dataframe tbody tr th:only-of-type {\n",
              "        vertical-align: middle;\n",
              "    }\n",
              "\n",
              "    .dataframe tbody tr th {\n",
              "        vertical-align: top;\n",
              "    }\n",
              "\n",
              "    .dataframe thead th {\n",
              "        text-align: right;\n",
              "    }\n",
              "</style>\n",
              "<table border=\"1\" class=\"dataframe\">\n",
              "  <thead>\n",
              "    <tr style=\"text-align: right;\">\n",
              "      <th></th>\n",
              "      <th>brand</th>\n",
              "      <th>model</th>\n",
              "      <th>model_year</th>\n",
              "      <th>milage</th>\n",
              "      <th>fuel_type</th>\n",
              "      <th>engine</th>\n",
              "      <th>transmission</th>\n",
              "      <th>ext_col</th>\n",
              "      <th>int_col</th>\n",
              "      <th>accident</th>\n",
              "      <th>...</th>\n",
              "      <th>hp*mil</th>\n",
              "      <th>binned_milage</th>\n",
              "      <th>brand_class</th>\n",
              "      <th>AverageMilage</th>\n",
              "      <th>BrandFreq</th>\n",
              "      <th>brand_count</th>\n",
              "      <th>brand_avg_mil</th>\n",
              "      <th>log_milage</th>\n",
              "      <th>logL</th>\n",
              "      <th>logAge</th>\n",
              "    </tr>\n",
              "  </thead>\n",
              "  <tbody>\n",
              "    <tr>\n",
              "      <th>PC1</th>\n",
              "      <td>0.006061</td>\n",
              "      <td>0.972764</td>\n",
              "      <td>-0.000082</td>\n",
              "      <td>0.000035</td>\n",
              "      <td>0.000117</td>\n",
              "      <td>0.231487</td>\n",
              "      <td>0.000563</td>\n",
              "      <td>0.007673</td>\n",
              "      <td>0.001991</td>\n",
              "      <td>0.000029</td>\n",
              "      <td>...</td>\n",
              "      <td>-0.000102</td>\n",
              "      <td>0.000188</td>\n",
              "      <td>0.000219</td>\n",
              "      <td>0.000077</td>\n",
              "      <td>-0.000579</td>\n",
              "      <td>0.006061</td>\n",
              "      <td>0.000077</td>\n",
              "      <td>-0.000010</td>\n",
              "      <td>-0.000287</td>\n",
              "      <td>0.000034</td>\n",
              "    </tr>\n",
              "    <tr>\n",
              "      <th>PC2</th>\n",
              "      <td>0.003505</td>\n",
              "      <td>-0.231482</td>\n",
              "      <td>-0.000793</td>\n",
              "      <td>0.000418</td>\n",
              "      <td>0.000378</td>\n",
              "      <td>0.972739</td>\n",
              "      <td>0.001848</td>\n",
              "      <td>-0.008459</td>\n",
              "      <td>-0.001268</td>\n",
              "      <td>0.000069</td>\n",
              "      <td>...</td>\n",
              "      <td>0.000308</td>\n",
              "      <td>0.000442</td>\n",
              "      <td>0.000538</td>\n",
              "      <td>0.000139</td>\n",
              "      <td>-0.000199</td>\n",
              "      <td>0.003505</td>\n",
              "      <td>0.000139</td>\n",
              "      <td>0.000228</td>\n",
              "      <td>0.000177</td>\n",
              "      <td>0.000644</td>\n",
              "    </tr>\n",
              "  </tbody>\n",
              "</table>\n",
              "<p>2 rows × 43 columns</p>\n",
              "</div>\n",
              "    <div class=\"colab-df-buttons\">\n",
              "\n",
              "  <div class=\"colab-df-container\">\n",
              "    <button class=\"colab-df-convert\" onclick=\"convertToInteractive('df-0251d8e2-1c7c-4a87-92ea-93249f0c74a1')\"\n",
              "            title=\"Convert this dataframe to an interactive table.\"\n",
              "            style=\"display:none;\">\n",
              "\n",
              "  <svg xmlns=\"http://www.w3.org/2000/svg\" height=\"24px\" viewBox=\"0 -960 960 960\">\n",
              "    <path d=\"M120-120v-720h720v720H120Zm60-500h600v-160H180v160Zm220 220h160v-160H400v160Zm0 220h160v-160H400v160ZM180-400h160v-160H180v160Zm440 0h160v-160H620v160ZM180-180h160v-160H180v160Zm440 0h160v-160H620v160Z\"/>\n",
              "  </svg>\n",
              "    </button>\n",
              "\n",
              "  <style>\n",
              "    .colab-df-container {\n",
              "      display:flex;\n",
              "      gap: 12px;\n",
              "    }\n",
              "\n",
              "    .colab-df-convert {\n",
              "      background-color: #E8F0FE;\n",
              "      border: none;\n",
              "      border-radius: 50%;\n",
              "      cursor: pointer;\n",
              "      display: none;\n",
              "      fill: #1967D2;\n",
              "      height: 32px;\n",
              "      padding: 0 0 0 0;\n",
              "      width: 32px;\n",
              "    }\n",
              "\n",
              "    .colab-df-convert:hover {\n",
              "      background-color: #E2EBFA;\n",
              "      box-shadow: 0px 1px 2px rgba(60, 64, 67, 0.3), 0px 1px 3px 1px rgba(60, 64, 67, 0.15);\n",
              "      fill: #174EA6;\n",
              "    }\n",
              "\n",
              "    .colab-df-buttons div {\n",
              "      margin-bottom: 4px;\n",
              "    }\n",
              "\n",
              "    [theme=dark] .colab-df-convert {\n",
              "      background-color: #3B4455;\n",
              "      fill: #D2E3FC;\n",
              "    }\n",
              "\n",
              "    [theme=dark] .colab-df-convert:hover {\n",
              "      background-color: #434B5C;\n",
              "      box-shadow: 0px 1px 3px 1px rgba(0, 0, 0, 0.15);\n",
              "      filter: drop-shadow(0px 1px 2px rgba(0, 0, 0, 0.3));\n",
              "      fill: #FFFFFF;\n",
              "    }\n",
              "  </style>\n",
              "\n",
              "    <script>\n",
              "      const buttonEl =\n",
              "        document.querySelector('#df-0251d8e2-1c7c-4a87-92ea-93249f0c74a1 button.colab-df-convert');\n",
              "      buttonEl.style.display =\n",
              "        google.colab.kernel.accessAllowed ? 'block' : 'none';\n",
              "\n",
              "      async function convertToInteractive(key) {\n",
              "        const element = document.querySelector('#df-0251d8e2-1c7c-4a87-92ea-93249f0c74a1');\n",
              "        const dataTable =\n",
              "          await google.colab.kernel.invokeFunction('convertToInteractive',\n",
              "                                                    [key], {});\n",
              "        if (!dataTable) return;\n",
              "\n",
              "        const docLinkHtml = 'Like what you see? Visit the ' +\n",
              "          '<a target=\"_blank\" href=https://colab.research.google.com/notebooks/data_table.ipynb>data table notebook</a>'\n",
              "          + ' to learn more about interactive tables.';\n",
              "        element.innerHTML = '';\n",
              "        dataTable['output_type'] = 'display_data';\n",
              "        await google.colab.output.renderOutput(dataTable, element);\n",
              "        const docLink = document.createElement('div');\n",
              "        docLink.innerHTML = docLinkHtml;\n",
              "        element.appendChild(docLink);\n",
              "      }\n",
              "    </script>\n",
              "  </div>\n",
              "\n",
              "\n",
              "<div id=\"df-e8e28e2b-308e-468a-9ec9-2e8b7433fb25\">\n",
              "  <button class=\"colab-df-quickchart\" onclick=\"quickchart('df-e8e28e2b-308e-468a-9ec9-2e8b7433fb25')\"\n",
              "            title=\"Suggest charts\"\n",
              "            style=\"display:none;\">\n",
              "\n",
              "<svg xmlns=\"http://www.w3.org/2000/svg\" height=\"24px\"viewBox=\"0 0 24 24\"\n",
              "     width=\"24px\">\n",
              "    <g>\n",
              "        <path d=\"M19 3H5c-1.1 0-2 .9-2 2v14c0 1.1.9 2 2 2h14c1.1 0 2-.9 2-2V5c0-1.1-.9-2-2-2zM9 17H7v-7h2v7zm4 0h-2V7h2v10zm4 0h-2v-4h2v4z\"/>\n",
              "    </g>\n",
              "</svg>\n",
              "  </button>\n",
              "\n",
              "<style>\n",
              "  .colab-df-quickchart {\n",
              "      --bg-color: #E8F0FE;\n",
              "      --fill-color: #1967D2;\n",
              "      --hover-bg-color: #E2EBFA;\n",
              "      --hover-fill-color: #174EA6;\n",
              "      --disabled-fill-color: #AAA;\n",
              "      --disabled-bg-color: #DDD;\n",
              "  }\n",
              "\n",
              "  [theme=dark] .colab-df-quickchart {\n",
              "      --bg-color: #3B4455;\n",
              "      --fill-color: #D2E3FC;\n",
              "      --hover-bg-color: #434B5C;\n",
              "      --hover-fill-color: #FFFFFF;\n",
              "      --disabled-bg-color: #3B4455;\n",
              "      --disabled-fill-color: #666;\n",
              "  }\n",
              "\n",
              "  .colab-df-quickchart {\n",
              "    background-color: var(--bg-color);\n",
              "    border: none;\n",
              "    border-radius: 50%;\n",
              "    cursor: pointer;\n",
              "    display: none;\n",
              "    fill: var(--fill-color);\n",
              "    height: 32px;\n",
              "    padding: 0;\n",
              "    width: 32px;\n",
              "  }\n",
              "\n",
              "  .colab-df-quickchart:hover {\n",
              "    background-color: var(--hover-bg-color);\n",
              "    box-shadow: 0 1px 2px rgba(60, 64, 67, 0.3), 0 1px 3px 1px rgba(60, 64, 67, 0.15);\n",
              "    fill: var(--button-hover-fill-color);\n",
              "  }\n",
              "\n",
              "  .colab-df-quickchart-complete:disabled,\n",
              "  .colab-df-quickchart-complete:disabled:hover {\n",
              "    background-color: var(--disabled-bg-color);\n",
              "    fill: var(--disabled-fill-color);\n",
              "    box-shadow: none;\n",
              "  }\n",
              "\n",
              "  .colab-df-spinner {\n",
              "    border: 2px solid var(--fill-color);\n",
              "    border-color: transparent;\n",
              "    border-bottom-color: var(--fill-color);\n",
              "    animation:\n",
              "      spin 1s steps(1) infinite;\n",
              "  }\n",
              "\n",
              "  @keyframes spin {\n",
              "    0% {\n",
              "      border-color: transparent;\n",
              "      border-bottom-color: var(--fill-color);\n",
              "      border-left-color: var(--fill-color);\n",
              "    }\n",
              "    20% {\n",
              "      border-color: transparent;\n",
              "      border-left-color: var(--fill-color);\n",
              "      border-top-color: var(--fill-color);\n",
              "    }\n",
              "    30% {\n",
              "      border-color: transparent;\n",
              "      border-left-color: var(--fill-color);\n",
              "      border-top-color: var(--fill-color);\n",
              "      border-right-color: var(--fill-color);\n",
              "    }\n",
              "    40% {\n",
              "      border-color: transparent;\n",
              "      border-right-color: var(--fill-color);\n",
              "      border-top-color: var(--fill-color);\n",
              "    }\n",
              "    60% {\n",
              "      border-color: transparent;\n",
              "      border-right-color: var(--fill-color);\n",
              "    }\n",
              "    80% {\n",
              "      border-color: transparent;\n",
              "      border-right-color: var(--fill-color);\n",
              "      border-bottom-color: var(--fill-color);\n",
              "    }\n",
              "    90% {\n",
              "      border-color: transparent;\n",
              "      border-bottom-color: var(--fill-color);\n",
              "    }\n",
              "  }\n",
              "</style>\n",
              "\n",
              "  <script>\n",
              "    async function quickchart(key) {\n",
              "      const quickchartButtonEl =\n",
              "        document.querySelector('#' + key + ' button');\n",
              "      quickchartButtonEl.disabled = true;  // To prevent multiple clicks.\n",
              "      quickchartButtonEl.classList.add('colab-df-spinner');\n",
              "      try {\n",
              "        const charts = await google.colab.kernel.invokeFunction(\n",
              "            'suggestCharts', [key], {});\n",
              "      } catch (error) {\n",
              "        console.error('Error during call to suggestCharts:', error);\n",
              "      }\n",
              "      quickchartButtonEl.classList.remove('colab-df-spinner');\n",
              "      quickchartButtonEl.classList.add('colab-df-quickchart-complete');\n",
              "    }\n",
              "    (() => {\n",
              "      let quickchartButtonEl =\n",
              "        document.querySelector('#df-e8e28e2b-308e-468a-9ec9-2e8b7433fb25 button');\n",
              "      quickchartButtonEl.style.display =\n",
              "        google.colab.kernel.accessAllowed ? 'block' : 'none';\n",
              "    })();\n",
              "  </script>\n",
              "</div>\n",
              "\n",
              "  <div id=\"id_246a9470-6893-43ff-8886-6cb4cae57b88\">\n",
              "    <style>\n",
              "      .colab-df-generate {\n",
              "        background-color: #E8F0FE;\n",
              "        border: none;\n",
              "        border-radius: 50%;\n",
              "        cursor: pointer;\n",
              "        display: none;\n",
              "        fill: #1967D2;\n",
              "        height: 32px;\n",
              "        padding: 0 0 0 0;\n",
              "        width: 32px;\n",
              "      }\n",
              "\n",
              "      .colab-df-generate:hover {\n",
              "        background-color: #E2EBFA;\n",
              "        box-shadow: 0px 1px 2px rgba(60, 64, 67, 0.3), 0px 1px 3px 1px rgba(60, 64, 67, 0.15);\n",
              "        fill: #174EA6;\n",
              "      }\n",
              "\n",
              "      [theme=dark] .colab-df-generate {\n",
              "        background-color: #3B4455;\n",
              "        fill: #D2E3FC;\n",
              "      }\n",
              "\n",
              "      [theme=dark] .colab-df-generate:hover {\n",
              "        background-color: #434B5C;\n",
              "        box-shadow: 0px 1px 3px 1px rgba(0, 0, 0, 0.15);\n",
              "        filter: drop-shadow(0px 1px 2px rgba(0, 0, 0, 0.3));\n",
              "        fill: #FFFFFF;\n",
              "      }\n",
              "    </style>\n",
              "    <button class=\"colab-df-generate\" onclick=\"generateWithVariable('components_df')\"\n",
              "            title=\"Generate code using this dataframe.\"\n",
              "            style=\"display:none;\">\n",
              "\n",
              "  <svg xmlns=\"http://www.w3.org/2000/svg\" height=\"24px\"viewBox=\"0 0 24 24\"\n",
              "       width=\"24px\">\n",
              "    <path d=\"M7,19H8.4L18.45,9,17,7.55,7,17.6ZM5,21V16.75L18.45,3.32a2,2,0,0,1,2.83,0l1.4,1.43a1.91,1.91,0,0,1,.58,1.4,1.91,1.91,0,0,1-.58,1.4L9.25,21ZM18.45,9,17,7.55Zm-12,3A5.31,5.31,0,0,0,4.9,8.1,5.31,5.31,0,0,0,1,6.5,5.31,5.31,0,0,0,4.9,4.9,5.31,5.31,0,0,0,6.5,1,5.31,5.31,0,0,0,8.1,4.9,5.31,5.31,0,0,0,12,6.5,5.46,5.46,0,0,0,6.5,12Z\"/>\n",
              "  </svg>\n",
              "    </button>\n",
              "    <script>\n",
              "      (() => {\n",
              "      const buttonEl =\n",
              "        document.querySelector('#id_246a9470-6893-43ff-8886-6cb4cae57b88 button.colab-df-generate');\n",
              "      buttonEl.style.display =\n",
              "        google.colab.kernel.accessAllowed ? 'block' : 'none';\n",
              "\n",
              "      buttonEl.onclick = () => {\n",
              "        google.colab.notebook.generateWithVariable('components_df');\n",
              "      }\n",
              "      })();\n",
              "    </script>\n",
              "  </div>\n",
              "\n",
              "    </div>\n",
              "  </div>\n"
            ],
            "text/plain": [
              "        brand     model  model_year    milage  fuel_type    engine  \\\n",
              "PC1  0.006061  0.972764   -0.000082  0.000035   0.000117  0.231487   \n",
              "PC2  0.003505 -0.231482   -0.000793  0.000418   0.000378  0.972739   \n",
              "\n",
              "     transmission   ext_col   int_col  accident  ...    hp*mil  binned_milage  \\\n",
              "PC1      0.000563  0.007673  0.001991  0.000029  ... -0.000102       0.000188   \n",
              "PC2      0.001848 -0.008459 -0.001268  0.000069  ...  0.000308       0.000442   \n",
              "\n",
              "     brand_class  AverageMilage  BrandFreq  brand_count  brand_avg_mil  \\\n",
              "PC1     0.000219       0.000077  -0.000579     0.006061       0.000077   \n",
              "PC2     0.000538       0.000139  -0.000199     0.003505       0.000139   \n",
              "\n",
              "     log_milage      logL    logAge  \n",
              "PC1   -0.000010 -0.000287  0.000034  \n",
              "PC2    0.000228  0.000177  0.000644  \n",
              "\n",
              "[2 rows x 43 columns]"
            ]
          },
          "execution_count": 363,
          "metadata": {},
          "output_type": "execute_result"
        }
      ],
      "source": [
        "# See loadings\n",
        "\n",
        "# Get the principal components (PCs)\n",
        "components = pca.components_\n",
        "print(components.shape)\n",
        "\n",
        "# Create a DataFrame for easy visualization\n",
        "components_df = pd.DataFrame(components, columns=X_pca.columns, index=['PC1', 'PC2'])\n",
        "\n",
        "# Display the loadings (contributions of each feature to each component)\n",
        "components_df"
      ]
    },
    {
      "cell_type": "markdown",
      "metadata": {
        "id": "igykY-AlFRm8"
      },
      "source": [
        "Create features inspired by results of PCA"
      ]
    },
    {
      "cell_type": "code",
      "execution_count": null,
      "metadata": {
        "id": "9B8JwBa1l2er"
      },
      "outputs": [],
      "source": [
        "mo_en = np.where(X['engine'] != 0, X['model'] / X['engine'], 0)"
      ]
    },
    {
      "cell_type": "markdown",
      "metadata": {
        "id": "a4xG86Fef4F9"
      },
      "source": [
        "Calculate mutual informtion score to see feature is significant"
      ]
    },
    {
      "cell_type": "code",
      "execution_count": null,
      "metadata": {
        "id": "-3jHoU1wm05T"
      },
      "outputs": [],
      "source": [
        "bf_en = X['BrandFreq'] * X['engine']\n",
        "bf_en_mi = mutual_info_regression(pd.DataFrame(bf_en), y)"
      ]
    },
    {
      "cell_type": "code",
      "execution_count": null,
      "metadata": {
        "colab": {
          "base_uri": "https://localhost:8080/"
        },
        "id": "VXxXMk0cmK0b",
        "outputId": "3c059224-d893-40e9-c198-6333728514ed"
      },
      "outputs": [
        {
          "data": {
            "text/plain": [
              "array([0.42550235])"
            ]
          },
          "execution_count": 366,
          "metadata": {},
          "output_type": "execute_result"
        }
      ],
      "source": [
        "bf_en_mi"
      ]
    },
    {
      "cell_type": "markdown",
      "metadata": {
        "id": "Vm1Q5PW3gs_5"
      },
      "source": [
        "Add feature to dataset"
      ]
    },
    {
      "cell_type": "code",
      "execution_count": null,
      "metadata": {
        "id": "gpzOm-_1n7eB"
      },
      "outputs": [],
      "source": [
        "X['bf_en'] = bf_en\n",
        "test['bf_en'] = test['BrandFreq'] * test['engine']"
      ]
    },
    {
      "cell_type": "markdown",
      "metadata": {
        "id": "gOsY9EVdLtnk"
      },
      "source": [
        "#### K-means Clustering"
      ]
    },
    {
      "cell_type": "code",
      "execution_count": null,
      "metadata": {
        "id": "Zsrjd5UKXd9r"
      },
      "outputs": [],
      "source": [
        "# Add cluster feature\n",
        "c_scaler = StandardScaler()\n",
        "\n",
        "kmeans = KMeans(n_clusters=3, n_init=10)\n",
        "\n",
        "XC = [col for col in X.columns if col not in cleaner.categoricals]\n",
        "XC = X[XC]\n",
        "XC = c_scaler.fit_transform(XC)\n",
        "X['Cluster'] = kmeans.fit_predict(XC)\n",
        "X['Cluster'] = X['Cluster'].astype('int')\n",
        "\n",
        "test_conts = [col for col in test.columns if col not in test_cleaner.categoricals]\n",
        "test_conts = test[test_conts]\n",
        "test_conts = c_scaler.transform(test_conts)\n",
        "test['Cluster'] = kmeans.fit_predict(test_conts)\n",
        "test['Cluster'] = test['Cluster'].astype('int')"
      ]
    },
    {
      "cell_type": "code",
      "execution_count": null,
      "metadata": {
        "id": "SqqSY-7HVPyu"
      },
      "outputs": [],
      "source": [
        "cleaner.categoricals.extend(['Cluster'])\n",
        "test_cleaner.categoricals.extend(['Cluster'])"
      ]
    },
    {
      "cell_type": "markdown",
      "metadata": {
        "id": "B9uYbibaLplU"
      },
      "source": [
        "#### Output of a trained Ridge model as a feature"
      ]
    },
    {
      "cell_type": "code",
      "execution_count": null,
      "metadata": {
        "colab": {
          "base_uri": "https://localhost:8080/"
        },
        "id": "yRQmpmGFmgTx",
        "outputId": "c6c4b90e-3cc6-4d6f-b773-c028c8e0082a"
      },
      "outputs": [
        {
          "name": "stdout",
          "output_type": "stream",
          "text": [
            "train error: 27144.219014360857\n"
          ]
        },
        {
          "name": "stderr",
          "output_type": "stream",
          "text": [
            "/usr/local/lib/python3.11/dist-packages/sklearn/linear_model/_ridge.py:204: LinAlgWarning: Ill-conditioned matrix (rcond=2.29552e-20): result may not be accurate.\n",
            "  return linalg.solve(A, Xy, assume_a=\"pos\", overwrite_a=True).T\n"
          ]
        }
      ],
      "source": [
        "r_model = Ridge(alpha=1)\n",
        "r_model.fit(X, y)\n",
        "\n",
        "print(f'train error: {np.sqrt(mean_squared_error(r_model.predict(X), y))}')\n",
        "\n",
        "X['r_predict'] = r_model.predict(X)\n",
        "test['r_predict'] = r_model.predict(test)"
      ]
    },
    {
      "cell_type": "markdown",
      "metadata": {
        "id": "wJhC4HDPg7NN"
      },
      "source": [
        "# One Hot encoding"
      ]
    },
    {
      "cell_type": "code",
      "execution_count": null,
      "metadata": {
        "colab": {
          "base_uri": "https://localhost:8080/",
          "height": 88
        },
        "id": "hbqGrTXkQ7J2",
        "outputId": "29da6302-ea63-4677-b3c2-61c6b1843bce"
      },
      "outputs": [
        {
          "data": {
            "application/vnd.google.colaboratory.intrinsic+json": {
              "type": "string"
            },
            "text/plain": [
              "\"cols = ['model', 'fuel_type', 'brand', 'int_col', 'ext_col', 'transmission', 'brand_class', 'Cluster',]\\n\\n# One-hot encoding\\nencoded_data = pd.get_dummies(X[cols].astype('str'))\\nX = pd.concat([X, encoded_data], axis=1)\\n\\n# Remove original encoded features\\nX = X.drop(cols, axis=1)\\n\\n# Update categoricals list in cleaner\\ncleaner.categoricals = [col for col in cleaner.categoricals if col not in cols]\\ncleaner.categoricals.extend(encoded_data.columns.tolist())\\nlen(cleaner.categoricals)\""
            ]
          },
          "execution_count": 371,
          "metadata": {},
          "output_type": "execute_result"
        }
      ],
      "source": [
        "'''cols = ['model', 'fuel_type', 'brand', 'int_col', 'ext_col', 'transmission', 'brand_class', 'Cluster',]\n",
        "\n",
        "# One-hot encoding\n",
        "encoded_data = pd.get_dummies(X[cols].astype('str'))\n",
        "X = pd.concat([X, encoded_data], axis=1)\n",
        "\n",
        "# Remove original encoded features\n",
        "X = X.drop(cols, axis=1)\n",
        "\n",
        "# Update categoricals list in cleaner\n",
        "cleaner.categoricals = [col for col in cleaner.categoricals if col not in cols]\n",
        "cleaner.categoricals.extend(encoded_data.columns.tolist())\n",
        "len(cleaner.categoricals)'''"
      ]
    },
    {
      "cell_type": "markdown",
      "metadata": {
        "id": "LLkOKn1DhGZB"
      },
      "source": [
        "one hot encoding didn't showed much improvement.so we drop it."
      ]
    },
    {
      "cell_type": "code",
      "execution_count": null,
      "metadata": {
        "colab": {
          "base_uri": "https://localhost:8080/",
          "height": 1000
        },
        "id": "IP2GdmNNJoAx",
        "outputId": "c666f000-4393-4892-e3eb-55aa737e06fe"
      },
      "outputs": [
        {
          "data": {
            "application/vnd.google.colaboratory.intrinsic+json": {
              "summary": "{\n  \"name\": \"check_null(X, test)\",\n  \"rows\": 48,\n  \"fields\": [\n    {\n      \"column\": \"train null\",\n      \"properties\": {\n        \"dtype\": \"number\",\n        \"std\": 0,\n        \"min\": 0,\n        \"max\": 0,\n        \"num_unique_values\": 1,\n        \"samples\": [\n          0\n        ],\n        \"semantic_type\": \"\",\n        \"description\": \"\"\n      }\n    },\n    {\n      \"column\": \"test null\",\n      \"properties\": {\n        \"dtype\": \"number\",\n        \"std\": 0,\n        \"min\": 0,\n        \"max\": 0,\n        \"num_unique_values\": 1,\n        \"samples\": [\n          0\n        ],\n        \"semantic_type\": \"\",\n        \"description\": \"\"\n      }\n    }\n  ]\n}",
              "type": "dataframe"
            },
            "text/html": [
              "\n",
              "  <div id=\"df-ca2c4f20-0050-457c-8b91-760460087d95\" class=\"colab-df-container\">\n",
              "    <div>\n",
              "<style scoped>\n",
              "    .dataframe tbody tr th:only-of-type {\n",
              "        vertical-align: middle;\n",
              "    }\n",
              "\n",
              "    .dataframe tbody tr th {\n",
              "        vertical-align: top;\n",
              "    }\n",
              "\n",
              "    .dataframe thead th {\n",
              "        text-align: right;\n",
              "    }\n",
              "</style>\n",
              "<table border=\"1\" class=\"dataframe\">\n",
              "  <thead>\n",
              "    <tr style=\"text-align: right;\">\n",
              "      <th></th>\n",
              "      <th>train null</th>\n",
              "      <th>test null</th>\n",
              "    </tr>\n",
              "  </thead>\n",
              "  <tbody>\n",
              "    <tr>\n",
              "      <th>brand</th>\n",
              "      <td>0</td>\n",
              "      <td>0</td>\n",
              "    </tr>\n",
              "    <tr>\n",
              "      <th>model</th>\n",
              "      <td>0</td>\n",
              "      <td>0</td>\n",
              "    </tr>\n",
              "    <tr>\n",
              "      <th>model_year</th>\n",
              "      <td>0</td>\n",
              "      <td>0</td>\n",
              "    </tr>\n",
              "    <tr>\n",
              "      <th>milage</th>\n",
              "      <td>0</td>\n",
              "      <td>0</td>\n",
              "    </tr>\n",
              "    <tr>\n",
              "      <th>fuel_type</th>\n",
              "      <td>0</td>\n",
              "      <td>0</td>\n",
              "    </tr>\n",
              "    <tr>\n",
              "      <th>engine</th>\n",
              "      <td>0</td>\n",
              "      <td>0</td>\n",
              "    </tr>\n",
              "    <tr>\n",
              "      <th>transmission</th>\n",
              "      <td>0</td>\n",
              "      <td>0</td>\n",
              "    </tr>\n",
              "    <tr>\n",
              "      <th>ext_col</th>\n",
              "      <td>0</td>\n",
              "      <td>0</td>\n",
              "    </tr>\n",
              "    <tr>\n",
              "      <th>int_col</th>\n",
              "      <td>0</td>\n",
              "      <td>0</td>\n",
              "    </tr>\n",
              "    <tr>\n",
              "      <th>accident</th>\n",
              "      <td>0</td>\n",
              "      <td>0</td>\n",
              "    </tr>\n",
              "    <tr>\n",
              "      <th>clean_title</th>\n",
              "      <td>0</td>\n",
              "      <td>0</td>\n",
              "    </tr>\n",
              "    <tr>\n",
              "      <th>automatic</th>\n",
              "      <td>0</td>\n",
              "      <td>0</td>\n",
              "    </tr>\n",
              "    <tr>\n",
              "      <th>gears</th>\n",
              "      <td>0</td>\n",
              "      <td>0</td>\n",
              "    </tr>\n",
              "    <tr>\n",
              "      <th>hp</th>\n",
              "      <td>0</td>\n",
              "      <td>0</td>\n",
              "    </tr>\n",
              "    <tr>\n",
              "      <th>L</th>\n",
              "      <td>0</td>\n",
              "      <td>0</td>\n",
              "    </tr>\n",
              "    <tr>\n",
              "      <th>cylinders</th>\n",
              "      <td>0</td>\n",
              "      <td>0</td>\n",
              "    </tr>\n",
              "    <tr>\n",
              "      <th>electric</th>\n",
              "      <td>0</td>\n",
              "      <td>0</td>\n",
              "    </tr>\n",
              "    <tr>\n",
              "      <th>valves</th>\n",
              "      <td>0</td>\n",
              "      <td>0</td>\n",
              "    </tr>\n",
              "    <tr>\n",
              "      <th>hp/l</th>\n",
              "      <td>0</td>\n",
              "      <td>0</td>\n",
              "    </tr>\n",
              "    <tr>\n",
              "      <th>mil/l</th>\n",
              "      <td>0</td>\n",
              "      <td>0</td>\n",
              "    </tr>\n",
              "    <tr>\n",
              "      <th>mil/hp</th>\n",
              "      <td>0</td>\n",
              "      <td>0</td>\n",
              "    </tr>\n",
              "    <tr>\n",
              "      <th>l/cyl</th>\n",
              "      <td>0</td>\n",
              "      <td>0</td>\n",
              "    </tr>\n",
              "    <tr>\n",
              "      <th>hp/gears</th>\n",
              "      <td>0</td>\n",
              "      <td>0</td>\n",
              "    </tr>\n",
              "    <tr>\n",
              "      <th>mil/gears</th>\n",
              "      <td>0</td>\n",
              "      <td>0</td>\n",
              "    </tr>\n",
              "    <tr>\n",
              "      <th>mil/cyl</th>\n",
              "      <td>0</td>\n",
              "      <td>0</td>\n",
              "    </tr>\n",
              "    <tr>\n",
              "      <th>hp*automatic</th>\n",
              "      <td>0</td>\n",
              "      <td>0</td>\n",
              "    </tr>\n",
              "    <tr>\n",
              "      <th>cyl*gears</th>\n",
              "      <td>0</td>\n",
              "      <td>0</td>\n",
              "    </tr>\n",
              "    <tr>\n",
              "      <th>carAge</th>\n",
              "      <td>0</td>\n",
              "      <td>0</td>\n",
              "    </tr>\n",
              "    <tr>\n",
              "      <th>mil/year</th>\n",
              "      <td>0</td>\n",
              "      <td>0</td>\n",
              "    </tr>\n",
              "    <tr>\n",
              "      <th>hp*accident</th>\n",
              "      <td>0</td>\n",
              "      <td>0</td>\n",
              "    </tr>\n",
              "    <tr>\n",
              "      <th>accident*carAge</th>\n",
              "      <td>0</td>\n",
              "      <td>0</td>\n",
              "    </tr>\n",
              "    <tr>\n",
              "      <th>acc*milage</th>\n",
              "      <td>0</td>\n",
              "      <td>0</td>\n",
              "    </tr>\n",
              "    <tr>\n",
              "      <th>mil*carAge</th>\n",
              "      <td>0</td>\n",
              "      <td>0</td>\n",
              "    </tr>\n",
              "    <tr>\n",
              "      <th>hp*mil</th>\n",
              "      <td>0</td>\n",
              "      <td>0</td>\n",
              "    </tr>\n",
              "    <tr>\n",
              "      <th>binned_milage</th>\n",
              "      <td>0</td>\n",
              "      <td>0</td>\n",
              "    </tr>\n",
              "    <tr>\n",
              "      <th>brand_class</th>\n",
              "      <td>0</td>\n",
              "      <td>0</td>\n",
              "    </tr>\n",
              "    <tr>\n",
              "      <th>AverageMilage</th>\n",
              "      <td>0</td>\n",
              "      <td>0</td>\n",
              "    </tr>\n",
              "    <tr>\n",
              "      <th>BrandFreq</th>\n",
              "      <td>0</td>\n",
              "      <td>0</td>\n",
              "    </tr>\n",
              "    <tr>\n",
              "      <th>brand_count</th>\n",
              "      <td>0</td>\n",
              "      <td>0</td>\n",
              "    </tr>\n",
              "    <tr>\n",
              "      <th>brand_avg_mil</th>\n",
              "      <td>0</td>\n",
              "      <td>0</td>\n",
              "    </tr>\n",
              "    <tr>\n",
              "      <th>log_milage</th>\n",
              "      <td>0</td>\n",
              "      <td>0</td>\n",
              "    </tr>\n",
              "    <tr>\n",
              "      <th>logL</th>\n",
              "      <td>0</td>\n",
              "      <td>0</td>\n",
              "    </tr>\n",
              "    <tr>\n",
              "      <th>logAge</th>\n",
              "      <td>0</td>\n",
              "      <td>0</td>\n",
              "    </tr>\n",
              "    <tr>\n",
              "      <th>PC1</th>\n",
              "      <td>0</td>\n",
              "      <td>0</td>\n",
              "    </tr>\n",
              "    <tr>\n",
              "      <th>PC2</th>\n",
              "      <td>0</td>\n",
              "      <td>0</td>\n",
              "    </tr>\n",
              "    <tr>\n",
              "      <th>bf_en</th>\n",
              "      <td>0</td>\n",
              "      <td>0</td>\n",
              "    </tr>\n",
              "    <tr>\n",
              "      <th>Cluster</th>\n",
              "      <td>0</td>\n",
              "      <td>0</td>\n",
              "    </tr>\n",
              "    <tr>\n",
              "      <th>r_predict</th>\n",
              "      <td>0</td>\n",
              "      <td>0</td>\n",
              "    </tr>\n",
              "  </tbody>\n",
              "</table>\n",
              "</div>\n",
              "    <div class=\"colab-df-buttons\">\n",
              "\n",
              "  <div class=\"colab-df-container\">\n",
              "    <button class=\"colab-df-convert\" onclick=\"convertToInteractive('df-ca2c4f20-0050-457c-8b91-760460087d95')\"\n",
              "            title=\"Convert this dataframe to an interactive table.\"\n",
              "            style=\"display:none;\">\n",
              "\n",
              "  <svg xmlns=\"http://www.w3.org/2000/svg\" height=\"24px\" viewBox=\"0 -960 960 960\">\n",
              "    <path d=\"M120-120v-720h720v720H120Zm60-500h600v-160H180v160Zm220 220h160v-160H400v160Zm0 220h160v-160H400v160ZM180-400h160v-160H180v160Zm440 0h160v-160H620v160ZM180-180h160v-160H180v160Zm440 0h160v-160H620v160Z\"/>\n",
              "  </svg>\n",
              "    </button>\n",
              "\n",
              "  <style>\n",
              "    .colab-df-container {\n",
              "      display:flex;\n",
              "      gap: 12px;\n",
              "    }\n",
              "\n",
              "    .colab-df-convert {\n",
              "      background-color: #E8F0FE;\n",
              "      border: none;\n",
              "      border-radius: 50%;\n",
              "      cursor: pointer;\n",
              "      display: none;\n",
              "      fill: #1967D2;\n",
              "      height: 32px;\n",
              "      padding: 0 0 0 0;\n",
              "      width: 32px;\n",
              "    }\n",
              "\n",
              "    .colab-df-convert:hover {\n",
              "      background-color: #E2EBFA;\n",
              "      box-shadow: 0px 1px 2px rgba(60, 64, 67, 0.3), 0px 1px 3px 1px rgba(60, 64, 67, 0.15);\n",
              "      fill: #174EA6;\n",
              "    }\n",
              "\n",
              "    .colab-df-buttons div {\n",
              "      margin-bottom: 4px;\n",
              "    }\n",
              "\n",
              "    [theme=dark] .colab-df-convert {\n",
              "      background-color: #3B4455;\n",
              "      fill: #D2E3FC;\n",
              "    }\n",
              "\n",
              "    [theme=dark] .colab-df-convert:hover {\n",
              "      background-color: #434B5C;\n",
              "      box-shadow: 0px 1px 3px 1px rgba(0, 0, 0, 0.15);\n",
              "      filter: drop-shadow(0px 1px 2px rgba(0, 0, 0, 0.3));\n",
              "      fill: #FFFFFF;\n",
              "    }\n",
              "  </style>\n",
              "\n",
              "    <script>\n",
              "      const buttonEl =\n",
              "        document.querySelector('#df-ca2c4f20-0050-457c-8b91-760460087d95 button.colab-df-convert');\n",
              "      buttonEl.style.display =\n",
              "        google.colab.kernel.accessAllowed ? 'block' : 'none';\n",
              "\n",
              "      async function convertToInteractive(key) {\n",
              "        const element = document.querySelector('#df-ca2c4f20-0050-457c-8b91-760460087d95');\n",
              "        const dataTable =\n",
              "          await google.colab.kernel.invokeFunction('convertToInteractive',\n",
              "                                                    [key], {});\n",
              "        if (!dataTable) return;\n",
              "\n",
              "        const docLinkHtml = 'Like what you see? Visit the ' +\n",
              "          '<a target=\"_blank\" href=https://colab.research.google.com/notebooks/data_table.ipynb>data table notebook</a>'\n",
              "          + ' to learn more about interactive tables.';\n",
              "        element.innerHTML = '';\n",
              "        dataTable['output_type'] = 'display_data';\n",
              "        await google.colab.output.renderOutput(dataTable, element);\n",
              "        const docLink = document.createElement('div');\n",
              "        docLink.innerHTML = docLinkHtml;\n",
              "        element.appendChild(docLink);\n",
              "      }\n",
              "    </script>\n",
              "  </div>\n",
              "\n",
              "\n",
              "<div id=\"df-37d6c774-f08e-4e08-9773-d9ff44f8b291\">\n",
              "  <button class=\"colab-df-quickchart\" onclick=\"quickchart('df-37d6c774-f08e-4e08-9773-d9ff44f8b291')\"\n",
              "            title=\"Suggest charts\"\n",
              "            style=\"display:none;\">\n",
              "\n",
              "<svg xmlns=\"http://www.w3.org/2000/svg\" height=\"24px\"viewBox=\"0 0 24 24\"\n",
              "     width=\"24px\">\n",
              "    <g>\n",
              "        <path d=\"M19 3H5c-1.1 0-2 .9-2 2v14c0 1.1.9 2 2 2h14c1.1 0 2-.9 2-2V5c0-1.1-.9-2-2-2zM9 17H7v-7h2v7zm4 0h-2V7h2v10zm4 0h-2v-4h2v4z\"/>\n",
              "    </g>\n",
              "</svg>\n",
              "  </button>\n",
              "\n",
              "<style>\n",
              "  .colab-df-quickchart {\n",
              "      --bg-color: #E8F0FE;\n",
              "      --fill-color: #1967D2;\n",
              "      --hover-bg-color: #E2EBFA;\n",
              "      --hover-fill-color: #174EA6;\n",
              "      --disabled-fill-color: #AAA;\n",
              "      --disabled-bg-color: #DDD;\n",
              "  }\n",
              "\n",
              "  [theme=dark] .colab-df-quickchart {\n",
              "      --bg-color: #3B4455;\n",
              "      --fill-color: #D2E3FC;\n",
              "      --hover-bg-color: #434B5C;\n",
              "      --hover-fill-color: #FFFFFF;\n",
              "      --disabled-bg-color: #3B4455;\n",
              "      --disabled-fill-color: #666;\n",
              "  }\n",
              "\n",
              "  .colab-df-quickchart {\n",
              "    background-color: var(--bg-color);\n",
              "    border: none;\n",
              "    border-radius: 50%;\n",
              "    cursor: pointer;\n",
              "    display: none;\n",
              "    fill: var(--fill-color);\n",
              "    height: 32px;\n",
              "    padding: 0;\n",
              "    width: 32px;\n",
              "  }\n",
              "\n",
              "  .colab-df-quickchart:hover {\n",
              "    background-color: var(--hover-bg-color);\n",
              "    box-shadow: 0 1px 2px rgba(60, 64, 67, 0.3), 0 1px 3px 1px rgba(60, 64, 67, 0.15);\n",
              "    fill: var(--button-hover-fill-color);\n",
              "  }\n",
              "\n",
              "  .colab-df-quickchart-complete:disabled,\n",
              "  .colab-df-quickchart-complete:disabled:hover {\n",
              "    background-color: var(--disabled-bg-color);\n",
              "    fill: var(--disabled-fill-color);\n",
              "    box-shadow: none;\n",
              "  }\n",
              "\n",
              "  .colab-df-spinner {\n",
              "    border: 2px solid var(--fill-color);\n",
              "    border-color: transparent;\n",
              "    border-bottom-color: var(--fill-color);\n",
              "    animation:\n",
              "      spin 1s steps(1) infinite;\n",
              "  }\n",
              "\n",
              "  @keyframes spin {\n",
              "    0% {\n",
              "      border-color: transparent;\n",
              "      border-bottom-color: var(--fill-color);\n",
              "      border-left-color: var(--fill-color);\n",
              "    }\n",
              "    20% {\n",
              "      border-color: transparent;\n",
              "      border-left-color: var(--fill-color);\n",
              "      border-top-color: var(--fill-color);\n",
              "    }\n",
              "    30% {\n",
              "      border-color: transparent;\n",
              "      border-left-color: var(--fill-color);\n",
              "      border-top-color: var(--fill-color);\n",
              "      border-right-color: var(--fill-color);\n",
              "    }\n",
              "    40% {\n",
              "      border-color: transparent;\n",
              "      border-right-color: var(--fill-color);\n",
              "      border-top-color: var(--fill-color);\n",
              "    }\n",
              "    60% {\n",
              "      border-color: transparent;\n",
              "      border-right-color: var(--fill-color);\n",
              "    }\n",
              "    80% {\n",
              "      border-color: transparent;\n",
              "      border-right-color: var(--fill-color);\n",
              "      border-bottom-color: var(--fill-color);\n",
              "    }\n",
              "    90% {\n",
              "      border-color: transparent;\n",
              "      border-bottom-color: var(--fill-color);\n",
              "    }\n",
              "  }\n",
              "</style>\n",
              "\n",
              "  <script>\n",
              "    async function quickchart(key) {\n",
              "      const quickchartButtonEl =\n",
              "        document.querySelector('#' + key + ' button');\n",
              "      quickchartButtonEl.disabled = true;  // To prevent multiple clicks.\n",
              "      quickchartButtonEl.classList.add('colab-df-spinner');\n",
              "      try {\n",
              "        const charts = await google.colab.kernel.invokeFunction(\n",
              "            'suggestCharts', [key], {});\n",
              "      } catch (error) {\n",
              "        console.error('Error during call to suggestCharts:', error);\n",
              "      }\n",
              "      quickchartButtonEl.classList.remove('colab-df-spinner');\n",
              "      quickchartButtonEl.classList.add('colab-df-quickchart-complete');\n",
              "    }\n",
              "    (() => {\n",
              "      let quickchartButtonEl =\n",
              "        document.querySelector('#df-37d6c774-f08e-4e08-9773-d9ff44f8b291 button');\n",
              "      quickchartButtonEl.style.display =\n",
              "        google.colab.kernel.accessAllowed ? 'block' : 'none';\n",
              "    })();\n",
              "  </script>\n",
              "</div>\n",
              "\n",
              "    </div>\n",
              "  </div>\n"
            ],
            "text/plain": [
              "                 train null  test null\n",
              "brand                     0          0\n",
              "model                     0          0\n",
              "model_year                0          0\n",
              "milage                    0          0\n",
              "fuel_type                 0          0\n",
              "engine                    0          0\n",
              "transmission              0          0\n",
              "ext_col                   0          0\n",
              "int_col                   0          0\n",
              "accident                  0          0\n",
              "clean_title               0          0\n",
              "automatic                 0          0\n",
              "gears                     0          0\n",
              "hp                        0          0\n",
              "L                         0          0\n",
              "cylinders                 0          0\n",
              "electric                  0          0\n",
              "valves                    0          0\n",
              "hp/l                      0          0\n",
              "mil/l                     0          0\n",
              "mil/hp                    0          0\n",
              "l/cyl                     0          0\n",
              "hp/gears                  0          0\n",
              "mil/gears                 0          0\n",
              "mil/cyl                   0          0\n",
              "hp*automatic              0          0\n",
              "cyl*gears                 0          0\n",
              "carAge                    0          0\n",
              "mil/year                  0          0\n",
              "hp*accident               0          0\n",
              "accident*carAge           0          0\n",
              "acc*milage                0          0\n",
              "mil*carAge                0          0\n",
              "hp*mil                    0          0\n",
              "binned_milage             0          0\n",
              "brand_class               0          0\n",
              "AverageMilage             0          0\n",
              "BrandFreq                 0          0\n",
              "brand_count               0          0\n",
              "brand_avg_mil             0          0\n",
              "log_milage                0          0\n",
              "logL                      0          0\n",
              "logAge                    0          0\n",
              "PC1                       0          0\n",
              "PC2                       0          0\n",
              "bf_en                     0          0\n",
              "Cluster                   0          0\n",
              "r_predict                 0          0"
            ]
          },
          "execution_count": 372,
          "metadata": {},
          "output_type": "execute_result"
        }
      ],
      "source": [
        "check_null(X, test)"
      ]
    },
    {
      "cell_type": "markdown",
      "metadata": {
        "id": "XS1rNcgWG-XU"
      },
      "source": [
        "# Split the data\n",
        "\n",
        "Below features are selected using mutual_info_regression and RFE, both of sklearn library."
      ]
    },
    {
      "cell_type": "code",
      "execution_count": null,
      "metadata": {
        "id": "ykeJa7_ZIEl4"
      },
      "outputs": [],
      "source": [
        "selected_features = ['bf_en', 'milage', 'log_milage', 'engine', 'mil*carAge', 'mil/cyl', 'mil/gears', 'hp/l', 'mil/hp', 'carAge', 'model_year', 'hp', 'logAge', 'PC1', 'hp/gears', 'r_predict', 'brand', 'model_year', 'milage', 'engine', 'transmission', 'ext_col', 'hp', 'valves', 'hp/l', 'mil/l', 'mil/hp', 'mil/gears', 'mil*carAge', 'AverageMilage', 'BrandFreq', 'brand_class', 'logAge', 'PC1', 'PC2', 'r_predict']"
      ]
    },
    {
      "cell_type": "code",
      "execution_count": null,
      "metadata": {
        "id": "QcarAeYpHm9L"
      },
      "outputs": [],
      "source": [
        "X_split = X[selected_features]\n",
        "test = test[selected_features]"
      ]
    },
    {
      "cell_type": "code",
      "execution_count": null,
      "metadata": {
        "colab": {
          "base_uri": "https://localhost:8080/"
        },
        "id": "9l_KaFTDDJOk",
        "outputId": "79d068b8-96a5-4a08-80de-285d01b79ddd"
      },
      "outputs": [
        {
          "name": "stdout",
          "output_type": "stream",
          "text": [
            "(150826, 36) (18854, 36)\n"
          ]
        }
      ],
      "source": [
        "X_train, X_, y_train, y_ = train_test_split(X_split, y, test_size=0.2, random_state=RANDOM_STATE)\n",
        "X_val, X_test, y_val, y_test = train_test_split(X_, y_, test_size=0.5, random_state=RANDOM_STATE)\n",
        "print(X_train.shape, X_test.shape)"
      ]
    },
    {
      "cell_type": "markdown",
      "metadata": {
        "id": "ZhZDqurbHR_K"
      },
      "source": [
        "# Standardize the data\n",
        "Standardize only contunios features."
      ]
    },
    {
      "cell_type": "code",
      "execution_count": null,
      "metadata": {
        "colab": {
          "base_uri": "https://localhost:8080/"
        },
        "id": "crqZ1gnCGcd6",
        "outputId": "b7a0c361-a54d-4bbf-d458-ca096c821186"
      },
      "outputs": [
        {
          "name": "stdout",
          "output_type": "stream",
          "text": [
            "Features to be scaled: ['model_year', 'milage', 'hp', 'valves', 'hp/l', 'mil/l', 'mil/hp', 'l/cyl', 'hp/gears', 'mil/gears', 'mil/cyl', 'hp*automatic', 'cyl*gears', 'mil/year', 'hp*accident', 'accident*carAge', 'acc*milage', 'mil*carAge', 'hp*mil', 'AverageMilage', 'BrandFreq', 'brand_avg_mil', 'log_milage', 'logL', 'logAge', 'bf_en', 'r_predict']\n"
          ]
        },
        {
          "name": "stderr",
          "output_type": "stream",
          "text": [
            "/usr/local/lib/python3.11/dist-packages/sklearn/base.py:486: UserWarning: X has feature names, but StandardScaler was fitted without feature names\n",
            "  warnings.warn(\n"
          ]
        }
      ],
      "source": [
        "# Scale train continuos features\n",
        "continuos_features_to_scale = [col for col in X.columns if col not in cleaner.categoricals]\n",
        "print(f'Features to be scaled: {continuos_features_to_scale}')\n",
        "\n",
        "scalerTrain = StandardScaler()\n",
        "X_train = scalerTrain.fit_transform(X_train)\n",
        "X_val = scalerTrain.transform(X_val)\n",
        "X_test = scalerTrain.transform(X_test)\n",
        "\n",
        "test = scalerTrain.transform(test)"
      ]
    },
    {
      "cell_type": "markdown",
      "metadata": {
        "id": "DR1vK_RKhfYo"
      },
      "source": [
        "# Model Training"
      ]
    },
    {
      "cell_type": "markdown",
      "metadata": {
        "id": "sQNzf82h3Hcp"
      },
      "source": [
        "### TensorFlow Neural Network"
      ]
    },
    {
      "cell_type": "code",
      "execution_count": null,
      "metadata": {
        "colab": {
          "base_uri": "https://localhost:8080/",
          "height": 36
        },
        "id": "4GtPuLx73Gaz",
        "outputId": "c1672e3c-7fea-4e91-deae-e58fdca545dc"
      },
      "outputs": [
        {
          "data": {
            "application/vnd.google.colaboratory.intrinsic+json": {
              "type": "string"
            },
            "text/plain": [
              "'# Define a custom RMSE metric\\ndef rmse(y_true, y_pred):\\n    return tf.sqrt(tf.reduce_mean(tf.square(y_true - y_pred)))'"
            ]
          },
          "execution_count": 289,
          "metadata": {},
          "output_type": "execute_result"
        }
      ],
      "source": [
        "'''# Define a custom RMSE metric\n",
        "def rmse(y_true, y_pred):\n",
        "    return tf.sqrt(tf.reduce_mean(tf.square(y_true - y_pred)))'''"
      ]
    },
    {
      "cell_type": "code",
      "execution_count": null,
      "metadata": {
        "colab": {
          "base_uri": "https://localhost:8080/",
          "height": 88
        },
        "id": "Z_IIGbXczSQd",
        "outputId": "4f48d53a-e48a-48a3-dc04-045a3fdbc642"
      },
      "outputs": [
        {
          "data": {
            "application/vnd.google.colaboratory.intrinsic+json": {
              "type": "string"
            },
            "text/plain": [
              "\"model = tf.keras.models.Sequential([\\n    tf.keras.layers.Dense(20, activation='relu', kernel_regularizer=tf.keras.regularizers.L2(2)),\\n    tf.keras.layers.Dropout(0.5),\\n    tf.keras.layers.Dense(3, 'relu', kernel_regularizer=tf.keras.regularizers.L2(2)),\\n    tf.keras.layers.Dropout(0.5),\\n    tf.keras.layers.Dense(1),\\n])\\n\\nmodel.compile(loss='mse', optimizer=tf.keras.optimizers.Adam(), metrics=[rmse])\\n\\nhistory = model.fit(X_train, y_train, validation_data=(X_val, y_val), epochs=5)\""
            ]
          },
          "execution_count": 192,
          "metadata": {},
          "output_type": "execute_result"
        }
      ],
      "source": [
        "'''model = tf.keras.models.Sequential([\n",
        "    tf.keras.layers.Dense(20, activation='relu', kernel_regularizer=tf.keras.regularizers.L2(2)),\n",
        "    tf.keras.layers.Dropout(0.5),\n",
        "    tf.keras.layers.Dense(3, 'relu', kernel_regularizer=tf.keras.regularizers.L2(2)),\n",
        "    tf.keras.layers.Dropout(0.5),\n",
        "    tf.keras.layers.Dense(1),\n",
        "])\n",
        "\n",
        "model.compile(loss='mse', optimizer=tf.keras.optimizers.Adam(), metrics=[rmse])\n",
        "\n",
        "history = model.fit(X_train, y_train, validation_data=(X_val, y_val), epochs=5)'''"
      ]
    },
    {
      "cell_type": "code",
      "execution_count": null,
      "metadata": {
        "colab": {
          "base_uri": "https://localhost:8080/",
          "height": 53
        },
        "id": "wmyGoWU_2P2b",
        "outputId": "0e5ecf87-14b7-4926-fc3f-dec519eae133"
      },
      "outputs": [
        {
          "data": {
            "application/vnd.google.colaboratory.intrinsic+json": {
              "type": "string"
            },
            "text/plain": [
              "\"t_loss = np.sqrt(history.history['loss'])\\nv_loss = np.sqrt(history.history['val_loss'])\\nplt.plot(t_loss, c='r', label='train loss')\\nplt.plot(v_loss, c='b', label='validation loss')\\nplt.title('Train/Validation MSEs')\\nplt.legend()\\nplt.show()\""
            ]
          },
          "execution_count": 193,
          "metadata": {},
          "output_type": "execute_result"
        }
      ],
      "source": [
        "'''t_loss = np.sqrt(history.history['loss'])\n",
        "v_loss = np.sqrt(history.history['val_loss'])\n",
        "plt.plot(t_loss, c='r', label='train loss')\n",
        "plt.plot(v_loss, c='b', label='validation loss')\n",
        "plt.title('Train/Validation MSEs')\n",
        "plt.legend()\n",
        "plt.show()'''"
      ]
    },
    {
      "cell_type": "code",
      "execution_count": null,
      "metadata": {
        "colab": {
          "base_uri": "https://localhost:8080/",
          "height": 36
        },
        "id": "Es0dUJ20JXrt",
        "outputId": "30cae360-e385-4142-dd42-c7ab57564e47"
      },
      "outputs": [
        {
          "data": {
            "application/vnd.google.colaboratory.intrinsic+json": {
              "type": "string"
            },
            "text/plain": [
              "\"test_loss = model.evaluate(X_test, y_test)\\nprint(f'Test RMSE Loss: {np.sqrt(test_loss)}')\""
            ]
          },
          "execution_count": 194,
          "metadata": {},
          "output_type": "execute_result"
        }
      ],
      "source": [
        "'''test_loss = model.evaluate(X_test, y_test)\n",
        "print(f'Test RMSE Loss: {np.sqrt(test_loss)}')'''"
      ]
    },
    {
      "cell_type": "markdown",
      "metadata": {
        "id": "xHzuQtNh3CkJ"
      },
      "source": [
        "### XGB Regressor Model"
      ]
    },
    {
      "cell_type": "code",
      "execution_count": null,
      "metadata": {
        "id": "1oeU4FIBBFir"
      },
      "outputs": [],
      "source": [
        "x_train = X_train.values\n",
        "y_train = y_train.values\n",
        "x_cv = X_val.values\n",
        "y_cv = y_val.values\n",
        "x_test = X_test.values\n",
        "y_test = y_test.values\n",
        "test = test.values"
      ]
    },
    {
      "cell_type": "markdown",
      "metadata": {
        "id": "OM2SJ6fRhvCa"
      },
      "source": [
        "# Hyperparameters Search"
      ]
    },
    {
      "cell_type": "code",
      "execution_count": null,
      "metadata": {
        "colab": {
          "base_uri": "https://localhost:8080/",
          "height": 140
        },
        "id": "xg7VysPcG3wD",
        "outputId": "540d4f31-4ac0-4148-b1f7-012414863225"
      },
      "outputs": [
        {
          "data": {
            "application/vnd.google.colaboratory.intrinsic+json": {
              "type": "string"
            },
            "text/plain": [
              "'from sklearn.model_selection import RandomizedSearchCV\\n\\n# Define the parameter grid\\nparam_distributions = {\\n    \\'n_estimators\\': np.arange(100, 1000, 100),         # Number of trees\\n    \\'max_depth\\': np.arange(3, 10),                     # Tree depth\\n    \\'learning_rate\\': np.linspace(0.01, 0.3, 10),       # Learning rate (eta)\\n    \\'subsample\\': np.linspace(0.5, 1.0, 5),             # Subsample ratio\\n    \\'colsample_bytree\\': np.linspace(0.5, 1.0, 5),      # Column subsampling\\n    \\'gamma\\': np.linspace(0, 5, 10),                    # Minimum loss reduction\\n    \\'alpha\\': np.linspace(0, 1, 10),                    # L1 regularization\\n    \\'lambda\\': np.linspace(0, 1, 10)                    # L2 regularization\\n}\\n\\n# Initialize RandomizedSearchCV\\nrandom_search = RandomizedSearchCV(\\n    estimator=xgb_model,\\n    param_distributions=param_distributions,\\n    n_iter=50,                 # Number of random combinations to try\\n    scoring=\\'neg_mean_squared_error\\',  # Evaluation metric\\n    cv=3,                      # 3-fold cross-validation\\n    verbose=1,                 # Print progress\\n    random_state=42,           # Reproducibility\\n    n_jobs=-1,\\n)\\n\\n# Fit RandomizedSearchCV\\nrandom_search.fit(x_train, y_train)\\n\\n# Best parameters and score\\nprint(\"Best Parameters:\", random_search.best_params_)\\nprint(\"Best Score:\", random_search.best_score_)\\n'"
            ]
          },
          "execution_count": 197,
          "metadata": {},
          "output_type": "execute_result"
        }
      ],
      "source": [
        "'''from sklearn.model_selection import RandomizedSearchCV\n",
        "\n",
        "# Define the parameter grid\n",
        "param_distributions = {\n",
        "    'n_estimators': np.arange(100, 1000, 100),         # Number of trees\n",
        "    'max_depth': np.arange(3, 10),                     # Tree depth\n",
        "    'learning_rate': np.linspace(0.01, 0.3, 10),       # Learning rate (eta)\n",
        "    'subsample': np.linspace(0.5, 1.0, 5),             # Subsample ratio\n",
        "    'colsample_bytree': np.linspace(0.5, 1.0, 5),      # Column subsampling\n",
        "    'gamma': np.linspace(0, 5, 10),                    # Minimum loss reduction\n",
        "    'alpha': np.linspace(0, 1, 10),                    # L1 regularization\n",
        "    'lambda': np.linspace(0, 1, 10)                    # L2 regularization\n",
        "}\n",
        "\n",
        "# Initialize RandomizedSearchCV\n",
        "random_search = RandomizedSearchCV(\n",
        "    estimator=xgb_model,\n",
        "    param_distributions=param_distributions,\n",
        "    n_iter=50,                 # Number of random combinations to try\n",
        "    scoring='neg_mean_squared_error',  # Evaluation metric\n",
        "    cv=3,                      # 3-fold cross-validation\n",
        "    verbose=1,                 # Print progress\n",
        "    random_state=42,           # Reproducibility\n",
        "    n_jobs=-1,\n",
        ")\n",
        "\n",
        "# Fit RandomizedSearchCV\n",
        "random_search.fit(x_train, y_train)\n",
        "\n",
        "# Best parameters and score\n",
        "print(\"Best Parameters:\", random_search.best_params_)\n",
        "print(\"Best Score:\", random_search.best_score_)\n",
        "'''"
      ]
    },
    {
      "cell_type": "markdown",
      "metadata": {
        "id": "yWdaMBWMh2Dw"
      },
      "source": [
        "Obtained by running RandomSearchCV for 23 mins with t4 gpu\n",
        "```python  \n",
        "best_parameters= {'subsample': 0.875,\n",
        "                  'n_estimators': 900,\n",
        "                  'max_depth': 7,\n",
        "                  'learning_rate': 0.042222222222222223,\n",
        "                  'lambda': 100.0,\n",
        "                  'gamma': 1.6666666666666667,\n",
        "                  'colsample_bytree': 0.3,\n",
        "                  'alpha': 0.4444444444444444,\n",
        "                  'subsample': 0.3,\n",
        "                  'alpha':100,\n",
        "                  'min_child_weight':10,\n",
        "                     }\n",
        "```                     \n"
      ]
    },
    {
      "cell_type": "markdown",
      "metadata": {
        "id": "C4_9Fr6dJikD"
      },
      "source": [
        "# Manual Hyperparameter tuning"
      ]
    },
    {
      "cell_type": "code",
      "execution_count": null,
      "metadata": {
        "colab": {
          "base_uri": "https://localhost:8080/",
          "height": 430
        },
        "id": "WLCyh4EQ4p5r",
        "outputId": "52e68d44-65c0-4f2d-fbc5-1a69594db489"
      },
      "outputs": [
        {
          "data": {
            "image/png": "[encoded data removed]",
            "text/plain": [
              "<Figure size 640x480 with 1 Axes>"
            ]
          },
          "metadata": {},
          "output_type": "display_data"
        }
      ],
      "source": [
        "rates = [0.001, 0.01, 0.05, 0.07, 0.1, 0.5, 0.7, 1.0]\n",
        "cv = []\n",
        "tr = []\n",
        "\n",
        "for rate in rates:\n",
        "    xgb_model = XGBRegressor(learning_rate= rate,\n",
        "                        max_depth = 2,\n",
        "                        n_estimators = 200,\n",
        "                        enable_categorical=True,\n",
        "                     )\n",
        "\n",
        "    xgb_model.fit(x_train, y_train)\n",
        "    ypred = xgb_model.predict(x_train)\n",
        "    xgb_train_mse = mean_squared_error(y_train, ypred)\n",
        "    tr.append(np.sqrt(xgb_train_mse))\n",
        "\n",
        "    ypred = xgb_model.predict(x_cv)\n",
        "    xgb_cv_mse = mean_squared_error(y_cv, ypred)\n",
        "    cv.append(np.sqrt(xgb_cv_mse))\n",
        "\n",
        "plt.plot(rates, tr, c='r', label='training loss')\n",
        "plt.plot(rates, cv, c='b', label='validation_loss')\n",
        "plt.legend()\n",
        "plt.show()"
      ]
    },
    {
      "cell_type": "code",
      "execution_count": null,
      "metadata": {
        "colab": {
          "base_uri": "https://localhost:8080/"
        },
        "id": "tNjUyF2s5uKt",
        "outputId": "238e0245-76d6-4476-b975-bd6e3341da9b"
      },
      "outputs": [
        {
          "data": {
            "text/plain": [
              "0.7"
            ]
          },
          "execution_count": 199,
          "metadata": {},
          "output_type": "execute_result"
        }
      ],
      "source": [
        "optimum_lrate = rates[np.argmin(cv)]\n",
        "optimum_lrate"
      ]
    },
    {
      "cell_type": "code",
      "execution_count": null,
      "metadata": {
        "colab": {
          "base_uri": "https://localhost:8080/",
          "height": 430
        },
        "id": "eSyJoPQp6Nyg",
        "outputId": "064b9f6b-7ae2-4247-bb19-57c49604b703"
      },
      "outputs": [
        {
          "data": {
            "image/png": "[encoded data removed]",
            "text/plain": [
              "<Figure size 640x480 with 1 Axes>"
            ]
          },
          "metadata": {},
          "output_type": "display_data"
        }
      ],
      "source": [
        "depths = [2, 3, 4, 5]\n",
        "cv = []\n",
        "tr = []\n",
        "\n",
        "for depth in depths:\n",
        "    xgb_model = XGBRegressor(learning_rate= optimum_lrate,\n",
        "                        max_depth = depth,\n",
        "                        n_estimators = 200,\n",
        "                        enable_categorical=True,\n",
        "                     )\n",
        "    xgb_model.fit(x_train, y_train)\n",
        "    ypred = xgb_model.predict(x_train)\n",
        "    xgb_train_mse = mean_squared_error(y_train, ypred)\n",
        "    tr.append(np.sqrt(xgb_train_mse))\n",
        "\n",
        "    ypred = xgb_model.predict(x_cv)\n",
        "    xgb_cv_mse = mean_squared_error(y_cv, ypred)\n",
        "    cv.append(np.sqrt(xgb_cv_mse))\n",
        "\n",
        "plt.plot(depths, tr, c='r', label='training loss')\n",
        "plt.plot(depths, cv, c='b', label='validation_loss')\n",
        "plt.legend()\n",
        "plt.show()"
      ]
    },
    {
      "cell_type": "code",
      "execution_count": null,
      "metadata": {
        "colab": {
          "base_uri": "https://localhost:8080/"
        },
        "id": "aSlKQIwp6Uqk",
        "outputId": "d7e3bd47-3ea5-4ff8-ecd2-b27a3e88a435"
      },
      "outputs": [
        {
          "data": {
            "text/plain": [
              "2"
            ]
          },
          "execution_count": 201,
          "metadata": {},
          "output_type": "execute_result"
        }
      ],
      "source": [
        "optimum_depth = depths[np.argmin(cv)]\n",
        "optimum_depth"
      ]
    },
    {
      "cell_type": "code",
      "execution_count": null,
      "metadata": {
        "id": "p1I0yWp66mZB"
      },
      "outputs": [],
      "source": [
        "subsamples = [0.3, 0.5, 0.6, 0.7, 0.8, 0.9, 1.0]\n",
        "cv = []\n",
        "tr = []\n",
        "\n",
        "for fraction in subsamples:\n",
        "    xgb_model = XGBRegressor(learning_rate= optimum_lrate,\n",
        "                        max_depth = optimum_depth,\n",
        "                        n_estimators = 200,\n",
        "                        enable_categorical=True,\n",
        "                        subsample= fraction,\n",
        "                     )\n",
        "\n",
        "    xgb_model.fit(x_train, y_train)\n",
        "    ypred = xgb_model.predict(x_train)\n",
        "    xgb_train_mse = mean_squared_error(y_train, ypred)\n",
        "    tr.append(np.sqrt(xgb_train_mse))\n",
        "\n",
        "    ypred = xgb_model.predict(x_cv)\n",
        "    xgb_cv_mse = mean_squared_error(y_cv, ypred)\n",
        "    cv.append(np.sqrt(xgb_cv_mse))\n"
      ]
    },
    {
      "cell_type": "code",
      "execution_count": null,
      "metadata": {
        "colab": {
          "base_uri": "https://localhost:8080/",
          "height": 430
        },
        "id": "AA04UcKXnxOb",
        "outputId": "751c31db-cf79-484c-b249-f528441c0233"
      },
      "outputs": [
        {
          "data": {
            "image/png": "[encoded data removed]",
            "text/plain": [
              "<Figure size 640x480 with 1 Axes>"
            ]
          },
          "metadata": {},
          "output_type": "display_data"
        }
      ],
      "source": [
        "plt.plot(subsamples, tr, c='r', label='training loss')\n",
        "plt.plot(subsamples, cv, c='b', label='validation_loss')\n",
        "plt.legend()\n",
        "plt.show()"
      ]
    },
    {
      "cell_type": "code",
      "execution_count": null,
      "metadata": {
        "colab": {
          "base_uri": "https://localhost:8080/"
        },
        "id": "N3AHrKXV7QPO",
        "outputId": "de1201a9-8d91-4f40-e90e-e04fa74d19dd"
      },
      "outputs": [
        {
          "data": {
            "text/plain": [
              "1.0"
            ]
          },
          "execution_count": 204,
          "metadata": {},
          "output_type": "execute_result"
        }
      ],
      "source": [
        "optimum_subsample = subsamples[np.argmin(cv)]\n",
        "optimum_subsample"
      ]
    },
    {
      "cell_type": "code",
      "execution_count": null,
      "metadata": {
        "id": "kLd9rpso7TVA"
      },
      "outputs": [],
      "source": [
        "lambdas = [0.001, 0.05, 0.1, 0.5, 0.7, 1.0, 3.0, 7., 10., 20.]\n",
        "cv = []\n",
        "tr = []\n",
        "\n",
        "for lambd in lambdas:\n",
        "    xgb_model = XGBRegressor(learning_rate= optimum_lrate,\n",
        "                        max_depth = optimum_depth,\n",
        "                        n_estimators = 200,\n",
        "                        enable_categorical=True,\n",
        "                        subsample= optimum_subsample,\n",
        "                        reg_lambda=lambd\n",
        "                     )\n",
        "\n",
        "    xgb_model.fit(x_train, y_train)\n",
        "    ypred = xgb_model.predict(x_train)\n",
        "    xgb_train_mse = mean_squared_error(y_train, ypred)\n",
        "    tr.append(np.sqrt(xgb_train_mse))\n",
        "\n",
        "    ypred = xgb_model.predict(x_cv)\n",
        "    xgb_cv_mse = mean_squared_error(y_cv, ypred)\n",
        "    cv.append(np.sqrt(xgb_cv_mse))\n"
      ]
    },
    {
      "cell_type": "code",
      "execution_count": null,
      "metadata": {
        "colab": {
          "base_uri": "https://localhost:8080/",
          "height": 430
        },
        "id": "4rumb6WQn32N",
        "outputId": "868e556a-fd34-486c-c5e3-5f60871f1d77"
      },
      "outputs": [
        {
          "data": {
            "image/png": "[encoded data removed]",
            "text/plain": [
              "<Figure size 640x480 with 1 Axes>"
            ]
          },
          "metadata": {},
          "output_type": "display_data"
        }
      ],
      "source": [
        "plt.plot(lambdas, tr, c='r', label='training loss')\n",
        "plt.plot(lambdas, cv, c='b', label='validation_loss')\n",
        "plt.legend()\n",
        "plt.show()"
      ]
    },
    {
      "cell_type": "code",
      "execution_count": null,
      "metadata": {
        "colab": {
          "base_uri": "https://localhost:8080/"
        },
        "id": "MH-aSMno72Vp",
        "outputId": "fefd8557-4e51-4632-ed3b-b23c9058549e"
      },
      "outputs": [
        {
          "data": {
            "text/plain": [
              "3.0"
            ]
          },
          "execution_count": 207,
          "metadata": {},
          "output_type": "execute_result"
        }
      ],
      "source": [
        "optimum_lambda = lambdas[np.argmin(cv)]\n",
        "optimum_lambda"
      ]
    },
    {
      "cell_type": "markdown",
      "metadata": {
        "id": "VR0KahssJoiN"
      },
      "source": [
        "# Final Model"
      ]
    },
    {
      "cell_type": "code",
      "execution_count": null,
      "metadata": {
        "id": "sYlYkl1C7_KH"
      },
      "outputs": [],
      "source": [
        "xgb_model = XGBRegressor(learning_rate= optimum_lrate,\n",
        "                        max_depth = optimum_depth,\n",
        "                        n_estimators = 200,\n",
        "                        enable_categorical=True,\n",
        "                        subsample = optimum_subsample,\n",
        "                        reg_lambda = optimum_lambda\n",
        "                     )"
      ]
    },
    {
      "cell_type": "code",
      "execution_count": null,
      "metadata": {
        "colab": {
          "base_uri": "https://localhost:8080/",
          "height": 253
        },
        "id": "k40C7-_98tl9",
        "outputId": "e7df9cbd-b673-4dae-c91f-f0f2f19418f5"
      },
      "outputs": [
        {
          "data": {
            "text/html": [
              "<style>#sk-container-id-5 {\n",
              "  /* Definition of color scheme common for light and dark mode */\n",
              "  --sklearn-color-text: black;\n",
              "  --sklearn-color-line: gray;\n",
              "  /* Definition of color scheme for unfitted estimators */\n",
              "  --sklearn-color-unfitted-level-0: #fff5e6;\n",
              "  --sklearn-color-unfitted-level-1: #f6e4d2;\n",
              "  --sklearn-color-unfitted-level-2: #ffe0b3;\n",
              "  --sklearn-color-unfitted-level-3: chocolate;\n",
              "  /* Definition of color scheme for fitted estimators */\n",
              "  --sklearn-color-fitted-level-0: #f0f8ff;\n",
              "  --sklearn-color-fitted-level-1: #d4ebff;\n",
              "  --sklearn-color-fitted-level-2: #b3dbfd;\n",
              "  --sklearn-color-fitted-level-3: cornflowerblue;\n",
              "\n",
              "  /* Specific color for light theme */\n",
              "  --sklearn-color-text-on-default-background: var(--sg-text-color, var(--theme-code-foreground, var(--jp-content-font-color1, black)));\n",
              "  --sklearn-color-background: var(--sg-background-color, var(--theme-background, var(--jp-layout-color0, white)));\n",
              "  --sklearn-color-border-box: var(--sg-text-color, var(--theme-code-foreground, var(--jp-content-font-color1, black)));\n",
              "  --sklearn-color-icon: #696969;\n",
              "\n",
              "  @media (prefers-color-scheme: dark) {\n",
              "    /* Redefinition of color scheme for dark theme */\n",
              "    --sklearn-color-text-on-default-background: var(--sg-text-color, var(--theme-code-foreground, var(--jp-content-font-color1, white)));\n",
              "    --sklearn-color-background: var(--sg-background-color, var(--theme-background, var(--jp-layout-color0, #111)));\n",
              "    --sklearn-color-border-box: var(--sg-text-color, var(--theme-code-foreground, var(--jp-content-font-color1, white)));\n",
              "    --sklearn-color-icon: #878787;\n",
              "  }\n",
              "}\n",
              "\n",
              "#sk-container-id-5 {\n",
              "  color: var(--sklearn-color-text);\n",
              "}\n",
              "\n",
              "#sk-container-id-5 pre {\n",
              "  padding: 0;\n",
              "}\n",
              "\n",
              "#sk-container-id-5 input.sk-hidden--visually {\n",
              "  border: 0;\n",
              "  clip: rect(1px 1px 1px 1px);\n",
              "  clip: rect(1px, 1px, 1px, 1px);\n",
              "  height: 1px;\n",
              "  margin: -1px;\n",
              "  overflow: hidden;\n",
              "  padding: 0;\n",
              "  position: absolute;\n",
              "  width: 1px;\n",
              "}\n",
              "\n",
              "#sk-container-id-5 div.sk-dashed-wrapped {\n",
              "  border: 1px dashed var(--sklearn-color-line);\n",
              "  margin: 0 0.4em 0.5em 0.4em;\n",
              "  box-sizing: border-box;\n",
              "  padding-bottom: 0.4em;\n",
              "  background-color: var(--sklearn-color-background);\n",
              "}\n",
              "\n",
              "#sk-container-id-5 div.sk-container {\n",
              "  /* jupyter's `normalize.less` sets `[hidden] { display: none; }`\n",
              "     but bootstrap.min.css set `[hidden] { display: none !important; }`\n",
              "     so we also need the `!important` here to be able to override the\n",
              "     default hidden behavior on the sphinx rendered scikit-learn.org.\n",
              "     See: https://github.com/scikit-learn/scikit-learn/issues/21755 */\n",
              "  display: inline-block !important;\n",
              "  position: relative;\n",
              "}\n",
              "\n",
              "#sk-container-id-5 div.sk-text-repr-fallback {\n",
              "  display: none;\n",
              "}\n",
              "\n",
              "div.sk-parallel-item,\n",
              "div.sk-serial,\n",
              "div.sk-item {\n",
              "  /* draw centered vertical line to link estimators */\n",
              "  background-image: linear-gradient(var(--sklearn-color-text-on-default-background), var(--sklearn-color-text-on-default-background));\n",
              "  background-size: 2px 100%;\n",
              "  background-repeat: no-repeat;\n",
              "  background-position: center center;\n",
              "}\n",
              "\n",
              "/* Parallel-specific style estimator block */\n",
              "\n",
              "#sk-container-id-5 div.sk-parallel-item::after {\n",
              "  content: \"\";\n",
              "  width: 100%;\n",
              "  border-bottom: 2px solid var(--sklearn-color-text-on-default-background);\n",
              "  flex-grow: 1;\n",
              "}\n",
              "\n",
              "#sk-container-id-5 div.sk-parallel {\n",
              "  display: flex;\n",
              "  align-items: stretch;\n",
              "  justify-content: center;\n",
              "  background-color: var(--sklearn-color-background);\n",
              "  position: relative;\n",
              "}\n",
              "\n",
              "#sk-container-id-5 div.sk-parallel-item {\n",
              "  display: flex;\n",
              "  flex-direction: column;\n",
              "}\n",
              "\n",
              "#sk-container-id-5 div.sk-parallel-item:first-child::after {\n",
              "  align-self: flex-end;\n",
              "  width: 50%;\n",
              "}\n",
              "\n",
              "#sk-container-id-5 div.sk-parallel-item:last-child::after {\n",
              "  align-self: flex-start;\n",
              "  width: 50%;\n",
              "}\n",
              "\n",
              "#sk-container-id-5 div.sk-parallel-item:only-child::after {\n",
              "  width: 0;\n",
              "}\n",
              "\n",
              "/* Serial-specific style estimator block */\n",
              "\n",
              "#sk-container-id-5 div.sk-serial {\n",
              "  display: flex;\n",
              "  flex-direction: column;\n",
              "  align-items: center;\n",
              "  background-color: var(--sklearn-color-background);\n",
              "  padding-right: 1em;\n",
              "  padding-left: 1em;\n",
              "}\n",
              "\n",
              "\n",
              "/* Toggleable style: style used for estimator/Pipeline/ColumnTransformer box that is\n",
              "clickable and can be expanded/collapsed.\n",
              "- Pipeline and ColumnTransformer use this feature and define the default style\n",
              "- Estimators will overwrite some part of the style using the `sk-estimator` class\n",
              "*/\n",
              "\n",
              "/* Pipeline and ColumnTransformer style (default) */\n",
              "\n",
              "#sk-container-id-5 div.sk-toggleable {\n",
              "  /* Default theme specific background. It is overwritten whether we have a\n",
              "  specific estimator or a Pipeline/ColumnTransformer */\n",
              "  background-color: var(--sklearn-color-background);\n",
              "}\n",
              "\n",
              "/* Toggleable label */\n",
              "#sk-container-id-5 label.sk-toggleable__label {\n",
              "  cursor: pointer;\n",
              "  display: block;\n",
              "  width: 100%;\n",
              "  margin-bottom: 0;\n",
              "  padding: 0.5em;\n",
              "  box-sizing: border-box;\n",
              "  text-align: center;\n",
              "}\n",
              "\n",
              "#sk-container-id-5 label.sk-toggleable__label-arrow:before {\n",
              "  /* Arrow on the left of the label */\n",
              "  content: \"▸\";\n",
              "  float: left;\n",
              "  margin-right: 0.25em;\n",
              "  color: var(--sklearn-color-icon);\n",
              "}\n",
              "\n",
              "#sk-container-id-5 label.sk-toggleable__label-arrow:hover:before {\n",
              "  color: var(--sklearn-color-text);\n",
              "}\n",
              "\n",
              "/* Toggleable content - dropdown */\n",
              "\n",
              "#sk-container-id-5 div.sk-toggleable__content {\n",
              "  max-height: 0;\n",
              "  max-width: 0;\n",
              "  overflow: hidden;\n",
              "  text-align: left;\n",
              "  /* unfitted */\n",
              "  background-color: var(--sklearn-color-unfitted-level-0);\n",
              "}\n",
              "\n",
              "#sk-container-id-5 div.sk-toggleable__content.fitted {\n",
              "  /* fitted */\n",
              "  background-color: var(--sklearn-color-fitted-level-0);\n",
              "}\n",
              "\n",
              "#sk-container-id-5 div.sk-toggleable__content pre {\n",
              "  margin: 0.2em;\n",
              "  border-radius: 0.25em;\n",
              "  color: var(--sklearn-color-text);\n",
              "  /* unfitted */\n",
              "  background-color: var(--sklearn-color-unfitted-level-0);\n",
              "}\n",
              "\n",
              "#sk-container-id-5 div.sk-toggleable__content.fitted pre {\n",
              "  /* unfitted */\n",
              "  background-color: var(--sklearn-color-fitted-level-0);\n",
              "}\n",
              "\n",
              "#sk-container-id-5 input.sk-toggleable__control:checked~div.sk-toggleable__content {\n",
              "  /* Expand drop-down */\n",
              "  max-height: 200px;\n",
              "  max-width: 100%;\n",
              "  overflow: auto;\n",
              "}\n",
              "\n",
              "#sk-container-id-5 input.sk-toggleable__control:checked~label.sk-toggleable__label-arrow:before {\n",
              "  content: \"▾\";\n",
              "}\n",
              "\n",
              "/* Pipeline/ColumnTransformer-specific style */\n",
              "\n",
              "#sk-container-id-5 div.sk-label input.sk-toggleable__control:checked~label.sk-toggleable__label {\n",
              "  color: var(--sklearn-color-text);\n",
              "  background-color: var(--sklearn-color-unfitted-level-2);\n",
              "}\n",
              "\n",
              "#sk-container-id-5 div.sk-label.fitted input.sk-toggleable__control:checked~label.sk-toggleable__label {\n",
              "  background-color: var(--sklearn-color-fitted-level-2);\n",
              "}\n",
              "\n",
              "/* Estimator-specific style */\n",
              "\n",
              "/* Colorize estimator box */\n",
              "#sk-container-id-5 div.sk-estimator input.sk-toggleable__control:checked~label.sk-toggleable__label {\n",
              "  /* unfitted */\n",
              "  background-color: var(--sklearn-color-unfitted-level-2);\n",
              "}\n",
              "\n",
              "#sk-container-id-5 div.sk-estimator.fitted input.sk-toggleable__control:checked~label.sk-toggleable__label {\n",
              "  /* fitted */\n",
              "  background-color: var(--sklearn-color-fitted-level-2);\n",
              "}\n",
              "\n",
              "#sk-container-id-5 div.sk-label label.sk-toggleable__label,\n",
              "#sk-container-id-5 div.sk-label label {\n",
              "  /* The background is the default theme color */\n",
              "  color: var(--sklearn-color-text-on-default-background);\n",
              "}\n",
              "\n",
              "/* On hover, darken the color of the background */\n",
              "#sk-container-id-5 div.sk-label:hover label.sk-toggleable__label {\n",
              "  color: var(--sklearn-color-text);\n",
              "  background-color: var(--sklearn-color-unfitted-level-2);\n",
              "}\n",
              "\n",
              "/* Label box, darken color on hover, fitted */\n",
              "#sk-container-id-5 div.sk-label.fitted:hover label.sk-toggleable__label.fitted {\n",
              "  color: var(--sklearn-color-text);\n",
              "  background-color: var(--sklearn-color-fitted-level-2);\n",
              "}\n",
              "\n",
              "/* Estimator label */\n",
              "\n",
              "#sk-container-id-5 div.sk-label label {\n",
              "  font-family: monospace;\n",
              "  font-weight: bold;\n",
              "  display: inline-block;\n",
              "  line-height: 1.2em;\n",
              "}\n",
              "\n",
              "#sk-container-id-5 div.sk-label-container {\n",
              "  text-align: center;\n",
              "}\n",
              "\n",
              "/* Estimator-specific */\n",
              "#sk-container-id-5 div.sk-estimator {\n",
              "  font-family: monospace;\n",
              "  border: 1px dotted var(--sklearn-color-border-box);\n",
              "  border-radius: 0.25em;\n",
              "  box-sizing: border-box;\n",
              "  margin-bottom: 0.5em;\n",
              "  /* unfitted */\n",
              "  background-color: var(--sklearn-color-unfitted-level-0);\n",
              "}\n",
              "\n",
              "#sk-container-id-5 div.sk-estimator.fitted {\n",
              "  /* fitted */\n",
              "  background-color: var(--sklearn-color-fitted-level-0);\n",
              "}\n",
              "\n",
              "/* on hover */\n",
              "#sk-container-id-5 div.sk-estimator:hover {\n",
              "  /* unfitted */\n",
              "  background-color: var(--sklearn-color-unfitted-level-2);\n",
              "}\n",
              "\n",
              "#sk-container-id-5 div.sk-estimator.fitted:hover {\n",
              "  /* fitted */\n",
              "  background-color: var(--sklearn-color-fitted-level-2);\n",
              "}\n",
              "\n",
              "/* Specification for estimator info (e.g. \"i\" and \"?\") */\n",
              "\n",
              "/* Common style for \"i\" and \"?\" */\n",
              "\n",
              ".sk-estimator-doc-link,\n",
              "a:link.sk-estimator-doc-link,\n",
              "a:visited.sk-estimator-doc-link {\n",
              "  float: right;\n",
              "  font-size: smaller;\n",
              "  line-height: 1em;\n",
              "  font-family: monospace;\n",
              "  background-color: var(--sklearn-color-background);\n",
              "  border-radius: 1em;\n",
              "  height: 1em;\n",
              "  width: 1em;\n",
              "  text-decoration: none !important;\n",
              "  margin-left: 1ex;\n",
              "  /* unfitted */\n",
              "  border: var(--sklearn-color-unfitted-level-1) 1pt solid;\n",
              "  color: var(--sklearn-color-unfitted-level-1);\n",
              "}\n",
              "\n",
              ".sk-estimator-doc-link.fitted,\n",
              "a:link.sk-estimator-doc-link.fitted,\n",
              "a:visited.sk-estimator-doc-link.fitted {\n",
              "  /* fitted */\n",
              "  border: var(--sklearn-color-fitted-level-1) 1pt solid;\n",
              "  color: var(--sklearn-color-fitted-level-1);\n",
              "}\n",
              "\n",
              "/* On hover */\n",
              "div.sk-estimator:hover .sk-estimator-doc-link:hover,\n",
              ".sk-estimator-doc-link:hover,\n",
              "div.sk-label-container:hover .sk-estimator-doc-link:hover,\n",
              ".sk-estimator-doc-link:hover {\n",
              "  /* unfitted */\n",
              "  background-color: var(--sklearn-color-unfitted-level-3);\n",
              "  color: var(--sklearn-color-background);\n",
              "  text-decoration: none;\n",
              "}\n",
              "\n",
              "div.sk-estimator.fitted:hover .sk-estimator-doc-link.fitted:hover,\n",
              ".sk-estimator-doc-link.fitted:hover,\n",
              "div.sk-label-container:hover .sk-estimator-doc-link.fitted:hover,\n",
              ".sk-estimator-doc-link.fitted:hover {\n",
              "  /* fitted */\n",
              "  background-color: var(--sklearn-color-fitted-level-3);\n",
              "  color: var(--sklearn-color-background);\n",
              "  text-decoration: none;\n",
              "}\n",
              "\n",
              "/* Span, style for the box shown on hovering the info icon */\n",
              ".sk-estimator-doc-link span {\n",
              "  display: none;\n",
              "  z-index: 9999;\n",
              "  position: relative;\n",
              "  font-weight: normal;\n",
              "  right: .2ex;\n",
              "  padding: .5ex;\n",
              "  margin: .5ex;\n",
              "  width: min-content;\n",
              "  min-width: 20ex;\n",
              "  max-width: 50ex;\n",
              "  color: var(--sklearn-color-text);\n",
              "  box-shadow: 2pt 2pt 4pt #999;\n",
              "  /* unfitted */\n",
              "  background: var(--sklearn-color-unfitted-level-0);\n",
              "  border: .5pt solid var(--sklearn-color-unfitted-level-3);\n",
              "}\n",
              "\n",
              ".sk-estimator-doc-link.fitted span {\n",
              "  /* fitted */\n",
              "  background: var(--sklearn-color-fitted-level-0);\n",
              "  border: var(--sklearn-color-fitted-level-3);\n",
              "}\n",
              "\n",
              ".sk-estimator-doc-link:hover span {\n",
              "  display: block;\n",
              "}\n",
              "\n",
              "/* \"?\"-specific style due to the `<a>` HTML tag */\n",
              "\n",
              "#sk-container-id-5 a.estimator_doc_link {\n",
              "  float: right;\n",
              "  font-size: 1rem;\n",
              "  line-height: 1em;\n",
              "  font-family: monospace;\n",
              "  background-color: var(--sklearn-color-background);\n",
              "  border-radius: 1rem;\n",
              "  height: 1rem;\n",
              "  width: 1rem;\n",
              "  text-decoration: none;\n",
              "  /* unfitted */\n",
              "  color: var(--sklearn-color-unfitted-level-1);\n",
              "  border: var(--sklearn-color-unfitted-level-1) 1pt solid;\n",
              "}\n",
              "\n",
              "#sk-container-id-5 a.estimator_doc_link.fitted {\n",
              "  /* fitted */\n",
              "  border: var(--sklearn-color-fitted-level-1) 1pt solid;\n",
              "  color: var(--sklearn-color-fitted-level-1);\n",
              "}\n",
              "\n",
              "/* On hover */\n",
              "#sk-container-id-5 a.estimator_doc_link:hover {\n",
              "  /* unfitted */\n",
              "  background-color: var(--sklearn-color-unfitted-level-3);\n",
              "  color: var(--sklearn-color-background);\n",
              "  text-decoration: none;\n",
              "}\n",
              "\n",
              "#sk-container-id-5 a.estimator_doc_link.fitted:hover {\n",
              "  /* fitted */\n",
              "  background-color: var(--sklearn-color-fitted-level-3);\n",
              "}\n",
              "</style><div id=\"sk-container-id-5\" class=\"sk-top-container\"><div class=\"sk-text-repr-fallback\"><pre>XGBRegressor(base_score=None, booster=None, callbacks=None,\n",
              "             colsample_bylevel=None, colsample_bynode=None,\n",
              "             colsample_bytree=None, device=None, early_stopping_rounds=None,\n",
              "             enable_categorical=True, eval_metric=None, feature_types=None,\n",
              "             gamma=None, grow_policy=None, importance_type=None,\n",
              "             interaction_constraints=None, learning_rate=0.7, max_bin=None,\n",
              "             max_cat_threshold=None, max_cat_to_onehot=None,\n",
              "             max_delta_step=None, max_depth=2, max_leaves=None,\n",
              "             min_child_weight=None, missing=nan, monotone_constraints=None,\n",
              "             multi_strategy=None, n_estimators=200, n_jobs=None,\n",
              "             num_parallel_tree=None, random_state=None, ...)</pre><b>In a Jupyter environment, please rerun this cell to show the HTML representation or trust the notebook. <br />On GitHub, the HTML representation is unable to render, please try loading this page with nbviewer.org.</b></div><div class=\"sk-container\" hidden><div class=\"sk-item\"><div class=\"sk-estimator fitted sk-toggleable\"><input class=\"sk-toggleable__control sk-hidden--visually\" id=\"sk-estimator-id-5\" type=\"checkbox\" checked><label for=\"sk-estimator-id-5\" class=\"sk-toggleable__label fitted sk-toggleable__label-arrow fitted\">&nbsp;XGBRegressor<span class=\"sk-estimator-doc-link fitted\">i<span>Fitted</span></span></label><div class=\"sk-toggleable__content fitted\"><pre>XGBRegressor(base_score=None, booster=None, callbacks=None,\n",
              "             colsample_bylevel=None, colsample_bynode=None,\n",
              "             colsample_bytree=None, device=None, early_stopping_rounds=None,\n",
              "             enable_categorical=True, eval_metric=None, feature_types=None,\n",
              "             gamma=None, grow_policy=None, importance_type=None,\n",
              "             interaction_constraints=None, learning_rate=0.7, max_bin=None,\n",
              "             max_cat_threshold=None, max_cat_to_onehot=None,\n",
              "             max_delta_step=None, max_depth=2, max_leaves=None,\n",
              "             min_child_weight=None, missing=nan, monotone_constraints=None,\n",
              "             multi_strategy=None, n_estimators=200, n_jobs=None,\n",
              "             num_parallel_tree=None, random_state=None, ...)</pre></div> </div></div></div></div>"
            ],
            "text/plain": [
              "XGBRegressor(base_score=None, booster=None, callbacks=None,\n",
              "             colsample_bylevel=None, colsample_bynode=None,\n",
              "             colsample_bytree=None, device=None, early_stopping_rounds=None,\n",
              "             enable_categorical=True, eval_metric=None, feature_types=None,\n",
              "             gamma=None, grow_policy=None, importance_type=None,\n",
              "             interaction_constraints=None, learning_rate=0.7, max_bin=None,\n",
              "             max_cat_threshold=None, max_cat_to_onehot=None,\n",
              "             max_delta_step=None, max_depth=2, max_leaves=None,\n",
              "             min_child_weight=None, missing=nan, monotone_constraints=None,\n",
              "             multi_strategy=None, n_estimators=200, n_jobs=None,\n",
              "             num_parallel_tree=None, random_state=None, ...)"
            ]
          },
          "execution_count": 379,
          "metadata": {},
          "output_type": "execute_result"
        }
      ],
      "source": [
        "# Train model\n",
        "xgb_model.fit(x_train, y_train)"
      ]
    },
    {
      "cell_type": "code",
      "execution_count": null,
      "metadata": {
        "colab": {
          "base_uri": "https://localhost:8080/"
        },
        "id": "PL3pSEDeoxpi",
        "outputId": "b0d06922-c690-49fc-ba3a-79e89305063e"
      },
      "outputs": [
        {
          "name": "stdout",
          "output_type": "stream",
          "text": [
            "Train RMSE: 25704.164610268817\n"
          ]
        }
      ],
      "source": [
        "# Calculate RMSE\n",
        "ypred = xgb_model.predict(x_train)\n",
        "xgb_train_mse = mean_squared_error(y_train, ypred)\n",
        "\n",
        "print(f'Train RMSE: {np.sqrt(xgb_train_mse)}')"
      ]
    },
    {
      "cell_type": "code",
      "execution_count": null,
      "metadata": {
        "colab": {
          "base_uri": "https://localhost:8080/"
        },
        "id": "Amsoo5wM9DGP",
        "outputId": "4fbb15ac-9cdb-4c00-de9c-c940ff5cfc2c"
      },
      "outputs": [
        {
          "name": "stdout",
          "output_type": "stream",
          "text": [
            "train RMSE: 25704.164610268817\n",
            "Validation RMSE: 25615.60843198624\n",
            "Difference: 88.5562\n"
          ]
        }
      ],
      "source": [
        "ypred = xgb_model.predict(x_train)\n",
        "xgb_train_mse = mean_squared_error(y_train, ypred)\n",
        "xgb_train_mse = np.sqrt(xgb_train_mse)\n",
        "\n",
        "ypred = xgb_model.predict(x_cv)\n",
        "xgb_cv_mse = mean_squared_error(y_cv, ypred)\n",
        "xgb_cv_mse = np.sqrt(xgb_cv_mse)\n",
        "\n",
        "\n",
        "print(f'train RMSE: {xgb_train_mse}\\nValidation RMSE: {xgb_cv_mse}')\n",
        "print(f'Difference: {abs(xgb_train_mse - xgb_cv_mse):.4f}')"
      ]
    },
    {
      "cell_type": "code",
      "execution_count": null,
      "metadata": {
        "colab": {
          "base_uri": "https://localhost:8080/"
        },
        "id": "NmZbYlsg_ucj",
        "outputId": "b4d9ee31-0396-41aa-ca60-1996b6e8ed22"
      },
      "outputs": [
        {
          "name": "stdout",
          "output_type": "stream",
          "text": [
            "test RMSE: 26072.357179705163\n"
          ]
        }
      ],
      "source": [
        "y_pred = xgb_model.predict(x_test)\n",
        "test_error = mean_squared_error(y_pred, y_test)\n",
        "test_rmse = np.sqrt(test_error)\n",
        "print(f'test RMSE: {test_rmse}')"
      ]
    },
    {
      "cell_type": "markdown",
      "metadata": {
        "id": "19j0WBori6KZ"
      },
      "source": [
        "Visualize distribution of training targets, predicted targets and test targets."
      ]
    },
    {
      "cell_type": "code",
      "execution_count": null,
      "metadata": {
        "colab": {
          "base_uri": "https://localhost:8080/",
          "height": 486
        },
        "id": "H0yXZ-d8EBEJ",
        "outputId": "a0b7ee9d-018a-4229-930e-3d4e019d34f6"
      },
      "outputs": [
        {
          "data": {
            "image/png": "[encoded data removed]",
            "text/plain": [
              "<Figure size 640x480 with 4 Axes>"
            ]
          },
          "metadata": {},
          "output_type": "display_data"
        }
      ],
      "source": [
        "train_pred = xgb_model.predict(x_train)\n",
        "test_pred = xgb_model.predict(x_test)\n",
        "\n",
        "fig, axs = plt.subplots(2, 2)\n",
        "\n",
        "axs[0, 0].hist(y_train)\n",
        "axs[0, 0].set_title('Training targets')\n",
        "\n",
        "axs[0, 1].hist(train_pred)\n",
        "axs[0, 1].set_title('Training Predictions')\n",
        "\n",
        "axs[1, 0].hist(y_pred)\n",
        "axs[1, 0].set_title('Test Predictions')\n",
        "\n",
        "plt.tight_layout()\n",
        "plt.show()"
      ]
    },
    {
      "cell_type": "markdown",
      "metadata": {
        "id": "QbAbSLPW3ia4"
      },
      "source": [
        "### Submission"
      ]
    },
    {
      "cell_type": "code",
      "execution_count": null,
      "metadata": {
        "id": "k8__ZRAAyLa7"
      },
      "outputs": [],
      "source": [
        "pred = xgb_model.predict(test)"
      ]
    },
    {
      "cell_type": "code",
      "execution_count": null,
      "metadata": {
        "id": "WJhzSNfoyRRT"
      },
      "outputs": [],
      "source": [
        "submision = pd.DataFrame({'id': id, 'price': pred})"
      ]
    },
    {
      "cell_type": "code",
      "execution_count": null,
      "metadata": {
        "id": "eQA8Cl_9yYZ8"
      },
      "outputs": [],
      "source": [
        "submision.to_csv('submission.csv', index=False)"
      ]
    },
    {
      "cell_type": "markdown",
      "metadata": {
        "id": "RdEQsP1bY6Go"
      },
      "source": [
        "Visualize distribution of training targets, their predicted targets and\n",
        "test data predictions."
      ]
    },
    {
      "cell_type": "code",
      "execution_count": null,
      "metadata": {
        "colab": {
          "base_uri": "https://localhost:8080/",
          "height": 486
        },
        "id": "IxFAziL57p-C",
        "outputId": "dc4ea307-b13a-47a2-adc2-2ea3bb49a0f2"
      },
      "outputs": [
        {
          "data": {
            "image/png": "[encoded data removed]",
            "text/plain": [
              "<Figure size 640x480 with 4 Axes>"
            ]
          },
          "metadata": {},
          "output_type": "display_data"
        }
      ],
      "source": [
        "fig, axs = plt.subplots(2, 2)\n",
        "\n",
        "axs[0, 0].hist(y_train)\n",
        "axs[0, 0].set_title('Training targets')\n",
        "\n",
        "axs[0, 1].hist(train_pred)\n",
        "axs[0, 1].set_title('Training Predictions')\n",
        "\n",
        "axs[1, 0].hist(pred)\n",
        "axs[1, 0].set_title('Test Predictions')\n",
        "\n",
        "plt.tight_layout()\n",
        "plt.show()"
      ]
    },
    {
      "cell_type": "markdown",
      "metadata": {
        "id": "6X49OGTQZNRJ"
      },
      "source": [
        "Thus train an test data came from same distribution."
      ]
    },
    {
      "cell_type": "markdown",
      "metadata": {
        "id": "4uK_uEtT3oRX"
      },
      "source": [
        "### Thank you."
      ]
    }
  ],
  "metadata": {
    "colab": {
      "authorship_tag": "ABX9TyM1rFeG8zUJig79jKRZTdhg",
      "include_colab_link": true,
      "provenance": []
    },
    "kernelspec": {
      "display_name": "venv",
      "language": "python",
      "name": "python3"
    },
    "language_info": {
      "codemirror_mode": {
        "name": "ipython",
        "version": 3
      },
      "file_extension": ".py",
      "mimetype": "text/x-python",
      "name": "python",
      "nbconvert_exporter": "python",
      "pygments_lexer": "ipython3",
      "version": "3.10.12"
    }
  },
  "nbformat": 4,
  "nbformat_minor": 0
}
