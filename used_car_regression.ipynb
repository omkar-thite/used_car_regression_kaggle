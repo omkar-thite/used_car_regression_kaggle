{
  "cells": [
    {
      "cell_type": "code",
      "execution_count": null,
      "metadata": {
        "id": "wPd6hEMjEHGh"
      },
      "outputs": [],
      "source": [
        "# Import required libraries\n",
        "import numpy as np\n",
        "import pandas as pd\n",
        "import re\n",
        "import random\n",
        "\n",
        "from sklearn.preprocessing import StandardScaler\n",
        "from sklearn.feature_selection import mutual_info_regression\n",
        "from sklearn.metrics import mean_squared_error\n",
        "from sklearn.model_selection import train_test_split\n",
        "from sklearn.linear_model import Ridge\n",
        "from sklearn.impute import SimpleImputer\n",
        "from sklearn.decomposition import PCA\n",
        "from sklearn.cluster import KMeans\n",
        "from sklearn.preprocessing import OneHotEncoder\n",
        "\n",
        "import tensorflow as tf\n",
        "from xgboost import XGBRegressor\n",
        "import xgboost as xgb\n",
        "import seaborn as sns\n",
        "\n",
        "import matplotlib.pyplot as plt"
      ]
    },
    {
      "cell_type": "code",
      "execution_count": null,
      "metadata": {
        "id": "ziW1FOYBNIW5"
      },
      "outputs": [],
      "source": [
        "RANDOM_STATE = 123"
      ]
    },
    {
      "cell_type": "code",
      "execution_count": null,
      "metadata": {
        "colab": {
          "base_uri": "https://localhost:8080/"
        },
        "id": "Cl71m8KhMaJ5",
        "outputId": "77e448dc-2c02-47b9-c7b7-f37be95a7885"
      },
      "outputs": [
        {
          "data": {
            "text/plain": [
              "(188533, 12)"
            ]
          },
          "execution_count": 254,
          "metadata": {},
          "output_type": "execute_result"
        }
      ],
      "source": [
        "df = pd.read_csv('train.csv', delimiter=',')\n",
        "df.pop('id')\n",
        "df.shape"
      ]
    },
    {
      "cell_type": "code",
      "execution_count": null,
      "metadata": {
        "colab": {
          "base_uri": "https://localhost:8080/"
        },
        "id": "v57S_jKguIk8",
        "outputId": "eeede457-7957-4f85-d5f1-decd40ec71f3"
      },
      "outputs": [
        {
          "data": {
            "text/plain": [
              "(125690, 11)"
            ]
          },
          "execution_count": 255,
          "metadata": {},
          "output_type": "execute_result"
        }
      ],
      "source": [
        "test = pd.read_csv('test.csv')\n",
        "id = test.pop('id')\n",
        "test.shape"
      ]
    },
    {
      "cell_type": "code",
      "execution_count": null,
      "metadata": {
        "colab": {
          "base_uri": "https://localhost:8080/",
          "height": 414
        },
        "id": "3mFyDB_vMcUJ",
        "outputId": "b7bb1305-2076-42ea-f28f-d1899dc588fc"
      },
      "outputs": [
        {
          "data": {
            "application/vnd.google.colaboratory.intrinsic+json": {
              "type": "dataframe",
              "variable_name": "df"
            },
            "text/html": [
              "\n",
              "  <div id=\"df-c0b052f7-2d42-4728-a9b0-7f1bc23779d4\" class=\"colab-df-container\">\n",
              "    <div>\n",
              "<style scoped>\n",
              "    .dataframe tbody tr th:only-of-type {\n",
              "        vertical-align: middle;\n",
              "    }\n",
              "\n",
              "    .dataframe tbody tr th {\n",
              "        vertical-align: top;\n",
              "    }\n",
              "\n",
              "    .dataframe thead th {\n",
              "        text-align: right;\n",
              "    }\n",
              "</style>\n",
              "<table border=\"1\" class=\"dataframe\">\n",
              "  <thead>\n",
              "    <tr style=\"text-align: right;\">\n",
              "      <th></th>\n",
              "      <th>brand</th>\n",
              "      <th>model</th>\n",
              "      <th>model_year</th>\n",
              "      <th>milage</th>\n",
              "      <th>fuel_type</th>\n",
              "      <th>engine</th>\n",
              "      <th>transmission</th>\n",
              "      <th>ext_col</th>\n",
              "      <th>int_col</th>\n",
              "      <th>accident</th>\n",
              "      <th>clean_title</th>\n",
              "      <th>price</th>\n",
              "    </tr>\n",
              "  </thead>\n",
              "  <tbody>\n",
              "    <tr>\n",
              "      <th>0</th>\n",
              "      <td>MINI</td>\n",
              "      <td>Cooper S Base</td>\n",
              "      <td>2007</td>\n",
              "      <td>213000</td>\n",
              "      <td>Gasoline</td>\n",
              "      <td>172.0HP 1.6L 4 Cylinder Engine Gasoline Fuel</td>\n",
              "      <td>A/T</td>\n",
              "      <td>Yellow</td>\n",
              "      <td>Gray</td>\n",
              "      <td>None reported</td>\n",
              "      <td>Yes</td>\n",
              "      <td>4200</td>\n",
              "    </tr>\n",
              "    <tr>\n",
              "      <th>1</th>\n",
              "      <td>Lincoln</td>\n",
              "      <td>LS V8</td>\n",
              "      <td>2002</td>\n",
              "      <td>143250</td>\n",
              "      <td>Gasoline</td>\n",
              "      <td>252.0HP 3.9L 8 Cylinder Engine Gasoline Fuel</td>\n",
              "      <td>A/T</td>\n",
              "      <td>Silver</td>\n",
              "      <td>Beige</td>\n",
              "      <td>At least 1 accident or damage reported</td>\n",
              "      <td>Yes</td>\n",
              "      <td>4999</td>\n",
              "    </tr>\n",
              "    <tr>\n",
              "      <th>2</th>\n",
              "      <td>Chevrolet</td>\n",
              "      <td>Silverado 2500 LT</td>\n",
              "      <td>2002</td>\n",
              "      <td>136731</td>\n",
              "      <td>E85 Flex Fuel</td>\n",
              "      <td>320.0HP 5.3L 8 Cylinder Engine Flex Fuel Capab...</td>\n",
              "      <td>A/T</td>\n",
              "      <td>Blue</td>\n",
              "      <td>Gray</td>\n",
              "      <td>None reported</td>\n",
              "      <td>Yes</td>\n",
              "      <td>13900</td>\n",
              "    </tr>\n",
              "    <tr>\n",
              "      <th>3</th>\n",
              "      <td>Genesis</td>\n",
              "      <td>G90 5.0 Ultimate</td>\n",
              "      <td>2017</td>\n",
              "      <td>19500</td>\n",
              "      <td>Gasoline</td>\n",
              "      <td>420.0HP 5.0L 8 Cylinder Engine Gasoline Fuel</td>\n",
              "      <td>Transmission w/Dual Shift Mode</td>\n",
              "      <td>Black</td>\n",
              "      <td>Black</td>\n",
              "      <td>None reported</td>\n",
              "      <td>Yes</td>\n",
              "      <td>45000</td>\n",
              "    </tr>\n",
              "    <tr>\n",
              "      <th>4</th>\n",
              "      <td>Mercedes-Benz</td>\n",
              "      <td>Metris Base</td>\n",
              "      <td>2021</td>\n",
              "      <td>7388</td>\n",
              "      <td>Gasoline</td>\n",
              "      <td>208.0HP 2.0L 4 Cylinder Engine Gasoline Fuel</td>\n",
              "      <td>7-Speed A/T</td>\n",
              "      <td>Black</td>\n",
              "      <td>Beige</td>\n",
              "      <td>None reported</td>\n",
              "      <td>Yes</td>\n",
              "      <td>97500</td>\n",
              "    </tr>\n",
              "  </tbody>\n",
              "</table>\n",
              "</div>\n",
              "    <div class=\"colab-df-buttons\">\n",
              "\n",
              "  <div class=\"colab-df-container\">\n",
              "    <button class=\"colab-df-convert\" onclick=\"convertToInteractive('df-c0b052f7-2d42-4728-a9b0-7f1bc23779d4')\"\n",
              "            title=\"Convert this dataframe to an interactive table.\"\n",
              "            style=\"display:none;\">\n",
              "\n",
              "  <svg xmlns=\"http://www.w3.org/2000/svg\" height=\"24px\" viewBox=\"0 -960 960 960\">\n",
              "    <path d=\"M120-120v-720h720v720H120Zm60-500h600v-160H180v160Zm220 220h160v-160H400v160Zm0 220h160v-160H400v160ZM180-400h160v-160H180v160Zm440 0h160v-160H620v160ZM180-180h160v-160H180v160Zm440 0h160v-160H620v160Z\"/>\n",
              "  </svg>\n",
              "    </button>\n",
              "\n",
              "  <style>\n",
              "    .colab-df-container {\n",
              "      display:flex;\n",
              "      gap: 12px;\n",
              "    }\n",
              "\n",
              "    .colab-df-convert {\n",
              "      background-color: #E8F0FE;\n",
              "      border: none;\n",
              "      border-radius: 50%;\n",
              "      cursor: pointer;\n",
              "      display: none;\n",
              "      fill: #1967D2;\n",
              "      height: 32px;\n",
              "      padding: 0 0 0 0;\n",
              "      width: 32px;\n",
              "    }\n",
              "\n",
              "    .colab-df-convert:hover {\n",
              "      background-color: #E2EBFA;\n",
              "      box-shadow: 0px 1px 2px rgba(60, 64, 67, 0.3), 0px 1px 3px 1px rgba(60, 64, 67, 0.15);\n",
              "      fill: #174EA6;\n",
              "    }\n",
              "\n",
              "    .colab-df-buttons div {\n",
              "      margin-bottom: 4px;\n",
              "    }\n",
              "\n",
              "    [theme=dark] .colab-df-convert {\n",
              "      background-color: #3B4455;\n",
              "      fill: #D2E3FC;\n",
              "    }\n",
              "\n",
              "    [theme=dark] .colab-df-convert:hover {\n",
              "      background-color: #434B5C;\n",
              "      box-shadow: 0px 1px 3px 1px rgba(0, 0, 0, 0.15);\n",
              "      filter: drop-shadow(0px 1px 2px rgba(0, 0, 0, 0.3));\n",
              "      fill: #FFFFFF;\n",
              "    }\n",
              "  </style>\n",
              "\n",
              "    <script>\n",
              "      const buttonEl =\n",
              "        document.querySelector('#df-c0b052f7-2d42-4728-a9b0-7f1bc23779d4 button.colab-df-convert');\n",
              "      buttonEl.style.display =\n",
              "        google.colab.kernel.accessAllowed ? 'block' : 'none';\n",
              "\n",
              "      async function convertToInteractive(key) {\n",
              "        const element = document.querySelector('#df-c0b052f7-2d42-4728-a9b0-7f1bc23779d4');\n",
              "        const dataTable =\n",
              "          await google.colab.kernel.invokeFunction('convertToInteractive',\n",
              "                                                    [key], {});\n",
              "        if (!dataTable) return;\n",
              "\n",
              "        const docLinkHtml = 'Like what you see? Visit the ' +\n",
              "          '<a target=\"_blank\" href=https://colab.research.google.com/notebooks/data_table.ipynb>data table notebook</a>'\n",
              "          + ' to learn more about interactive tables.';\n",
              "        element.innerHTML = '';\n",
              "        dataTable['output_type'] = 'display_data';\n",
              "        await google.colab.output.renderOutput(dataTable, element);\n",
              "        const docLink = document.createElement('div');\n",
              "        docLink.innerHTML = docLinkHtml;\n",
              "        element.appendChild(docLink);\n",
              "      }\n",
              "    </script>\n",
              "  </div>\n",
              "\n",
              "\n",
              "<div id=\"df-9de62e37-c2aa-4567-b333-d29b5b9b94ae\">\n",
              "  <button class=\"colab-df-quickchart\" onclick=\"quickchart('df-9de62e37-c2aa-4567-b333-d29b5b9b94ae')\"\n",
              "            title=\"Suggest charts\"\n",
              "            style=\"display:none;\">\n",
              "\n",
              "<svg xmlns=\"http://www.w3.org/2000/svg\" height=\"24px\"viewBox=\"0 0 24 24\"\n",
              "     width=\"24px\">\n",
              "    <g>\n",
              "        <path d=\"M19 3H5c-1.1 0-2 .9-2 2v14c0 1.1.9 2 2 2h14c1.1 0 2-.9 2-2V5c0-1.1-.9-2-2-2zM9 17H7v-7h2v7zm4 0h-2V7h2v10zm4 0h-2v-4h2v4z\"/>\n",
              "    </g>\n",
              "</svg>\n",
              "  </button>\n",
              "\n",
              "<style>\n",
              "  .colab-df-quickchart {\n",
              "      --bg-color: #E8F0FE;\n",
              "      --fill-color: #1967D2;\n",
              "      --hover-bg-color: #E2EBFA;\n",
              "      --hover-fill-color: #174EA6;\n",
              "      --disabled-fill-color: #AAA;\n",
              "      --disabled-bg-color: #DDD;\n",
              "  }\n",
              "\n",
              "  [theme=dark] .colab-df-quickchart {\n",
              "      --bg-color: #3B4455;\n",
              "      --fill-color: #D2E3FC;\n",
              "      --hover-bg-color: #434B5C;\n",
              "      --hover-fill-color: #FFFFFF;\n",
              "      --disabled-bg-color: #3B4455;\n",
              "      --disabled-fill-color: #666;\n",
              "  }\n",
              "\n",
              "  .colab-df-quickchart {\n",
              "    background-color: var(--bg-color);\n",
              "    border: none;\n",
              "    border-radius: 50%;\n",
              "    cursor: pointer;\n",
              "    display: none;\n",
              "    fill: var(--fill-color);\n",
              "    height: 32px;\n",
              "    padding: 0;\n",
              "    width: 32px;\n",
              "  }\n",
              "\n",
              "  .colab-df-quickchart:hover {\n",
              "    background-color: var(--hover-bg-color);\n",
              "    box-shadow: 0 1px 2px rgba(60, 64, 67, 0.3), 0 1px 3px 1px rgba(60, 64, 67, 0.15);\n",
              "    fill: var(--button-hover-fill-color);\n",
              "  }\n",
              "\n",
              "  .colab-df-quickchart-complete:disabled,\n",
              "  .colab-df-quickchart-complete:disabled:hover {\n",
              "    background-color: var(--disabled-bg-color);\n",
              "    fill: var(--disabled-fill-color);\n",
              "    box-shadow: none;\n",
              "  }\n",
              "\n",
              "  .colab-df-spinner {\n",
              "    border: 2px solid var(--fill-color);\n",
              "    border-color: transparent;\n",
              "    border-bottom-color: var(--fill-color);\n",
              "    animation:\n",
              "      spin 1s steps(1) infinite;\n",
              "  }\n",
              "\n",
              "  @keyframes spin {\n",
              "    0% {\n",
              "      border-color: transparent;\n",
              "      border-bottom-color: var(--fill-color);\n",
              "      border-left-color: var(--fill-color);\n",
              "    }\n",
              "    20% {\n",
              "      border-color: transparent;\n",
              "      border-left-color: var(--fill-color);\n",
              "      border-top-color: var(--fill-color);\n",
              "    }\n",
              "    30% {\n",
              "      border-color: transparent;\n",
              "      border-left-color: var(--fill-color);\n",
              "      border-top-color: var(--fill-color);\n",
              "      border-right-color: var(--fill-color);\n",
              "    }\n",
              "    40% {\n",
              "      border-color: transparent;\n",
              "      border-right-color: var(--fill-color);\n",
              "      border-top-color: var(--fill-color);\n",
              "    }\n",
              "    60% {\n",
              "      border-color: transparent;\n",
              "      border-right-color: var(--fill-color);\n",
              "    }\n",
              "    80% {\n",
              "      border-color: transparent;\n",
              "      border-right-color: var(--fill-color);\n",
              "      border-bottom-color: var(--fill-color);\n",
              "    }\n",
              "    90% {\n",
              "      border-color: transparent;\n",
              "      border-bottom-color: var(--fill-color);\n",
              "    }\n",
              "  }\n",
              "</style>\n",
              "\n",
              "  <script>\n",
              "    async function quickchart(key) {\n",
              "      const quickchartButtonEl =\n",
              "        document.querySelector('#' + key + ' button');\n",
              "      quickchartButtonEl.disabled = true;  // To prevent multiple clicks.\n",
              "      quickchartButtonEl.classList.add('colab-df-spinner');\n",
              "      try {\n",
              "        const charts = await google.colab.kernel.invokeFunction(\n",
              "            'suggestCharts', [key], {});\n",
              "      } catch (error) {\n",
              "        console.error('Error during call to suggestCharts:', error);\n",
              "      }\n",
              "      quickchartButtonEl.classList.remove('colab-df-spinner');\n",
              "      quickchartButtonEl.classList.add('colab-df-quickchart-complete');\n",
              "    }\n",
              "    (() => {\n",
              "      let quickchartButtonEl =\n",
              "        document.querySelector('#df-9de62e37-c2aa-4567-b333-d29b5b9b94ae button');\n",
              "      quickchartButtonEl.style.display =\n",
              "        google.colab.kernel.accessAllowed ? 'block' : 'none';\n",
              "    })();\n",
              "  </script>\n",
              "</div>\n",
              "\n",
              "    </div>\n",
              "  </div>\n"
            ],
            "text/plain": [
              "           brand              model  model_year  milage      fuel_type  \\\n",
              "0           MINI      Cooper S Base        2007  213000       Gasoline   \n",
              "1        Lincoln              LS V8        2002  143250       Gasoline   \n",
              "2      Chevrolet  Silverado 2500 LT        2002  136731  E85 Flex Fuel   \n",
              "3        Genesis   G90 5.0 Ultimate        2017   19500       Gasoline   \n",
              "4  Mercedes-Benz        Metris Base        2021    7388       Gasoline   \n",
              "\n",
              "                                              engine  \\\n",
              "0       172.0HP 1.6L 4 Cylinder Engine Gasoline Fuel   \n",
              "1       252.0HP 3.9L 8 Cylinder Engine Gasoline Fuel   \n",
              "2  320.0HP 5.3L 8 Cylinder Engine Flex Fuel Capab...   \n",
              "3       420.0HP 5.0L 8 Cylinder Engine Gasoline Fuel   \n",
              "4       208.0HP 2.0L 4 Cylinder Engine Gasoline Fuel   \n",
              "\n",
              "                     transmission ext_col int_col  \\\n",
              "0                             A/T  Yellow    Gray   \n",
              "1                             A/T  Silver   Beige   \n",
              "2                             A/T    Blue    Gray   \n",
              "3  Transmission w/Dual Shift Mode   Black   Black   \n",
              "4                     7-Speed A/T   Black   Beige   \n",
              "\n",
              "                                 accident clean_title  price  \n",
              "0                           None reported         Yes   4200  \n",
              "1  At least 1 accident or damage reported         Yes   4999  \n",
              "2                           None reported         Yes  13900  \n",
              "3                           None reported         Yes  45000  \n",
              "4                           None reported         Yes  97500  "
            ]
          },
          "execution_count": 256,
          "metadata": {},
          "output_type": "execute_result"
        }
      ],
      "source": [
        "df.head()"
      ]
    },
    {
      "cell_type": "code",
      "execution_count": null,
      "metadata": {
        "colab": {
          "base_uri": "https://localhost:8080/"
        },
        "id": "W7AvSH1qgG08",
        "outputId": "fedc31f8-2995-44a9-fad8-cbbf6689f807"
      },
      "outputs": [
        {
          "name": "stdout",
          "output_type": "stream",
          "text": [
            "missing train data:\n",
            "brand               0\n",
            "model               0\n",
            "model_year          0\n",
            "milage              0\n",
            "fuel_type        5083\n",
            "engine              0\n",
            "transmission        0\n",
            "ext_col             0\n",
            "int_col             0\n",
            "accident         2452\n",
            "clean_title     21419\n",
            "price               0\n",
            "dtype: int64\n"
          ]
        }
      ],
      "source": [
        "# Check for missing values\n",
        "print(f'missing train data:\\n{df.isnull().sum()}')"
      ]
    },
    {
      "cell_type": "code",
      "execution_count": null,
      "metadata": {
        "colab": {
          "base_uri": "https://localhost:8080/"
        },
        "id": "Ilrus79kuVD-",
        "outputId": "3fa5a044-5bf8-4fcd-fedb-b2e158ff7f2b"
      },
      "outputs": [
        {
          "name": "stdout",
          "output_type": "stream",
          "text": [
            "missing test data:\n",
            "brand               0\n",
            "model               0\n",
            "model_year          0\n",
            "milage              0\n",
            "fuel_type        3383\n",
            "engine              0\n",
            "transmission        0\n",
            "ext_col             0\n",
            "int_col             0\n",
            "accident         1632\n",
            "clean_title     14239\n",
            "dtype: int64\n"
          ]
        }
      ],
      "source": [
        "print(f'missing test data:\\n{test.isnull().sum()}')"
      ]
    },
    {
      "cell_type": "code",
      "execution_count": null,
      "metadata": {
        "id": "cGpMg1VmSYXn"
      },
      "outputs": [],
      "source": [
        "# Make price and milage float to treat them as continuos features\n",
        "df['price']=df['price'].astype('float')\n",
        "df['milage'] = df['milage'].astype('float')\n",
        "\n",
        "test['milage'] = test['milage'].astype('float')"
      ]
    },
    {
      "cell_type": "code",
      "execution_count": null,
      "metadata": {
        "id": "3gWR0PfVzL-E"
      },
      "outputs": [],
      "source": [
        "# Cleans the categorical and continuos data\n",
        "class Cleaner():\n",
        "    def __init__(self, df):\n",
        "      self.df = df\n",
        "      self.categoricals = []\n",
        "      self.continuos = []\n",
        "      self.categoricals_imputed = []\n",
        "      self.continuos_imputed = []\n",
        "\n",
        "      self.mean_imputer = SimpleImputer(strategy='mean')\n",
        "      self.mode_imputer = SimpleImputer(strategy='most_frequent')\n",
        "\n",
        "      self.update_vars()\n",
        "\n",
        "    def update_vars(self, e_categoricals=[], e_continuos=[]):\n",
        "        '''\n",
        "        Updates list of categoricals and continuos variables based on dtypes\n",
        "        Features with dtype int, object and category are considered categoricals while float features are considered continuos.\n",
        "\n",
        "        Args:\n",
        "        e_categoricals (list): Features that are not categories but be placed as categoricals\n",
        "        e_continuos (list) :  Features that are not continuos but be placed as continuos\n",
        "        '''\n",
        "        self.categoricals = list(set(self.categoricals) | set(self.df.select_dtypes(include=[int, object, 'category']).columns))\n",
        "\n",
        "        if e_categoricals:\n",
        "            self.categoricals = list(set(self.categoricals) | set(e_categoricals))\n",
        "\n",
        "        self.continuos = [col for col in self.df.columns if col not in self.categoricals]\n",
        "        if e_continuos:\n",
        "            self.continuos = list(set(self.continuos) | set(e_continuos))\n",
        "\n",
        "    def clean_categoricals(self):\n",
        "        self.update_vars()\n",
        "        categorical_missing_vars = list(filter(lambda x: x not in self.categoricals_imputed, self.categoricals))\n",
        "\n",
        "        print(f'categorical_missing_vars: {categorical_missing_vars}')\n",
        "\n",
        "        self.df[categorical_missing_vars] = self.mode_imputer.fit_transform(self.df[categorical_missing_vars])\n",
        "        self.categoricals_imputed += categorical_missing_vars\n",
        "\n",
        "        return self.df\n",
        "\n",
        "    def clean_continuos(self):\n",
        "        self.update_vars()\n",
        "        continuos_missing_vars = list(filter(lambda x: x not in self.continuos_imputed, self.continuos))\n",
        "\n",
        "        print(f'continuos_missing_vars: {continuos_missing_vars}')\n",
        "\n",
        "        self.df[continuos_missing_vars] = self.mean_imputer.fit_transform(self.df[continuos_missing_vars])\n",
        "        self.continuos_imputed += continuos_missing_vars\n",
        "\n",
        "        return self.df"
      ]
    },
    {
      "cell_type": "code",
      "execution_count": null,
      "metadata": {
        "id": "My3AXsgm1JR6"
      },
      "outputs": [],
      "source": [
        "cleaner = Cleaner(df = df)\n",
        "test_cleaner = Cleaner(df = test)"
      ]
    },
    {
      "cell_type": "code",
      "execution_count": null,
      "metadata": {
        "colab": {
          "base_uri": "https://localhost:8080/",
          "height": 773
        },
        "id": "xk58DaYGujba",
        "outputId": "036f56e1-d8f7-4b41-f27b-4bcd14b7bfb7"
      },
      "outputs": [
        {
          "name": "stdout",
          "output_type": "stream",
          "text": [
            "categorical_missing_vars: ['model', 'model_year', 'accident', 'int_col', 'transmission', 'fuel_type', 'ext_col', 'clean_title', 'brand', 'engine']\n",
            "categorical_missing_vars: ['model', 'model_year', 'accident', 'int_col', 'transmission', 'fuel_type', 'ext_col', 'clean_title', 'brand', 'engine']\n"
          ]
        },
        {
          "data": {
            "application/vnd.google.colaboratory.intrinsic+json": {
              "type": "dataframe",
              "variable_name": "test"
            },
            "text/html": [
              "\n",
              "  <div id=\"df-26c99896-49ff-420d-ab8e-412bd07baddc\" class=\"colab-df-container\">\n",
              "    <div>\n",
              "<style scoped>\n",
              "    .dataframe tbody tr th:only-of-type {\n",
              "        vertical-align: middle;\n",
              "    }\n",
              "\n",
              "    .dataframe tbody tr th {\n",
              "        vertical-align: top;\n",
              "    }\n",
              "\n",
              "    .dataframe thead th {\n",
              "        text-align: right;\n",
              "    }\n",
              "</style>\n",
              "<table border=\"1\" class=\"dataframe\">\n",
              "  <thead>\n",
              "    <tr style=\"text-align: right;\">\n",
              "      <th></th>\n",
              "      <th>brand</th>\n",
              "      <th>model</th>\n",
              "      <th>model_year</th>\n",
              "      <th>milage</th>\n",
              "      <th>fuel_type</th>\n",
              "      <th>engine</th>\n",
              "      <th>transmission</th>\n",
              "      <th>ext_col</th>\n",
              "      <th>int_col</th>\n",
              "      <th>accident</th>\n",
              "      <th>clean_title</th>\n",
              "    </tr>\n",
              "  </thead>\n",
              "  <tbody>\n",
              "    <tr>\n",
              "      <th>0</th>\n",
              "      <td>Land</td>\n",
              "      <td>Rover LR2 Base</td>\n",
              "      <td>2015</td>\n",
              "      <td>98000.0</td>\n",
              "      <td>Gasoline</td>\n",
              "      <td>240.0HP 2.0L 4 Cylinder Engine Gasoline Fuel</td>\n",
              "      <td>6-Speed A/T</td>\n",
              "      <td>White</td>\n",
              "      <td>Beige</td>\n",
              "      <td>None reported</td>\n",
              "      <td>Yes</td>\n",
              "    </tr>\n",
              "    <tr>\n",
              "      <th>1</th>\n",
              "      <td>Land</td>\n",
              "      <td>Rover Defender SE</td>\n",
              "      <td>2020</td>\n",
              "      <td>9142.0</td>\n",
              "      <td>Hybrid</td>\n",
              "      <td>395.0HP 3.0L Straight 6 Cylinder Engine Gasoli...</td>\n",
              "      <td>8-Speed A/T</td>\n",
              "      <td>Silver</td>\n",
              "      <td>Black</td>\n",
              "      <td>None reported</td>\n",
              "      <td>Yes</td>\n",
              "    </tr>\n",
              "    <tr>\n",
              "      <th>2</th>\n",
              "      <td>Ford</td>\n",
              "      <td>Expedition Limited</td>\n",
              "      <td>2022</td>\n",
              "      <td>28121.0</td>\n",
              "      <td>Gasoline</td>\n",
              "      <td>3.5L V6 24V PDI DOHC Twin Turbo</td>\n",
              "      <td>10-Speed Automatic</td>\n",
              "      <td>White</td>\n",
              "      <td>Ebony</td>\n",
              "      <td>None reported</td>\n",
              "      <td>Yes</td>\n",
              "    </tr>\n",
              "    <tr>\n",
              "      <th>3</th>\n",
              "      <td>Audi</td>\n",
              "      <td>A6 2.0T Sport</td>\n",
              "      <td>2016</td>\n",
              "      <td>61258.0</td>\n",
              "      <td>Gasoline</td>\n",
              "      <td>2.0 Liter TFSI</td>\n",
              "      <td>Automatic</td>\n",
              "      <td>Silician Yellow</td>\n",
              "      <td>Black</td>\n",
              "      <td>None reported</td>\n",
              "      <td>Yes</td>\n",
              "    </tr>\n",
              "    <tr>\n",
              "      <th>4</th>\n",
              "      <td>Audi</td>\n",
              "      <td>A6 2.0T Premium Plus</td>\n",
              "      <td>2018</td>\n",
              "      <td>59000.0</td>\n",
              "      <td>Gasoline</td>\n",
              "      <td>252.0HP 2.0L 4 Cylinder Engine Gasoline Fuel</td>\n",
              "      <td>A/T</td>\n",
              "      <td>Gray</td>\n",
              "      <td>Black</td>\n",
              "      <td>None reported</td>\n",
              "      <td>Yes</td>\n",
              "    </tr>\n",
              "    <tr>\n",
              "      <th>...</th>\n",
              "      <td>...</td>\n",
              "      <td>...</td>\n",
              "      <td>...</td>\n",
              "      <td>...</td>\n",
              "      <td>...</td>\n",
              "      <td>...</td>\n",
              "      <td>...</td>\n",
              "      <td>...</td>\n",
              "      <td>...</td>\n",
              "      <td>...</td>\n",
              "      <td>...</td>\n",
              "    </tr>\n",
              "    <tr>\n",
              "      <th>125685</th>\n",
              "      <td>Mercedes-Benz</td>\n",
              "      <td>GL-Class GL 450 4MATIC</td>\n",
              "      <td>2014</td>\n",
              "      <td>83315.0</td>\n",
              "      <td>Gasoline</td>\n",
              "      <td>362.0HP 3.0L V6 Cylinder Engine Gasoline Fuel</td>\n",
              "      <td>7-Speed A/T</td>\n",
              "      <td>Black</td>\n",
              "      <td>Black</td>\n",
              "      <td>None reported</td>\n",
              "      <td>Yes</td>\n",
              "    </tr>\n",
              "    <tr>\n",
              "      <th>125686</th>\n",
              "      <td>Audi</td>\n",
              "      <td>Q7 55 Prestige</td>\n",
              "      <td>2019</td>\n",
              "      <td>29336.0</td>\n",
              "      <td>Gasoline</td>\n",
              "      <td>3.0 Liter Turbo</td>\n",
              "      <td>Automatic</td>\n",
              "      <td>White</td>\n",
              "      <td>Black</td>\n",
              "      <td>None reported</td>\n",
              "      <td>Yes</td>\n",
              "    </tr>\n",
              "    <tr>\n",
              "      <th>125687</th>\n",
              "      <td>Audi</td>\n",
              "      <td>A6 3.0T Premium Plus</td>\n",
              "      <td>2012</td>\n",
              "      <td>77634.0</td>\n",
              "      <td>Gasoline</td>\n",
              "      <td>333.0HP 3.0L V6 Cylinder Engine Gasoline Fuel</td>\n",
              "      <td>A/T</td>\n",
              "      <td>Black</td>\n",
              "      <td>Black</td>\n",
              "      <td>None reported</td>\n",
              "      <td>Yes</td>\n",
              "    </tr>\n",
              "    <tr>\n",
              "      <th>125688</th>\n",
              "      <td>Audi</td>\n",
              "      <td>Q7 3.0T Premium</td>\n",
              "      <td>2012</td>\n",
              "      <td>112000.0</td>\n",
              "      <td>Gasoline</td>\n",
              "      <td>333.0HP 3.0L V6 Cylinder Engine Gasoline Fuel</td>\n",
              "      <td>A/T</td>\n",
              "      <td>Black</td>\n",
              "      <td>Black</td>\n",
              "      <td>None reported</td>\n",
              "      <td>Yes</td>\n",
              "    </tr>\n",
              "    <tr>\n",
              "      <th>125689</th>\n",
              "      <td>Chevrolet</td>\n",
              "      <td>Tahoe LT</td>\n",
              "      <td>2018</td>\n",
              "      <td>66840.0</td>\n",
              "      <td>Gasoline</td>\n",
              "      <td>355.0HP 5.3L 8 Cylinder Engine Gasoline Fuel</td>\n",
              "      <td>A/T</td>\n",
              "      <td>Silver</td>\n",
              "      <td>Black</td>\n",
              "      <td>None reported</td>\n",
              "      <td>Yes</td>\n",
              "    </tr>\n",
              "  </tbody>\n",
              "</table>\n",
              "<p>125690 rows × 11 columns</p>\n",
              "</div>\n",
              "    <div class=\"colab-df-buttons\">\n",
              "\n",
              "  <div class=\"colab-df-container\">\n",
              "    <button class=\"colab-df-convert\" onclick=\"convertToInteractive('df-26c99896-49ff-420d-ab8e-412bd07baddc')\"\n",
              "            title=\"Convert this dataframe to an interactive table.\"\n",
              "            style=\"display:none;\">\n",
              "\n",
              "  <svg xmlns=\"http://www.w3.org/2000/svg\" height=\"24px\" viewBox=\"0 -960 960 960\">\n",
              "    <path d=\"M120-120v-720h720v720H120Zm60-500h600v-160H180v160Zm220 220h160v-160H400v160Zm0 220h160v-160H400v160ZM180-400h160v-160H180v160Zm440 0h160v-160H620v160ZM180-180h160v-160H180v160Zm440 0h160v-160H620v160Z\"/>\n",
              "  </svg>\n",
              "    </button>\n",
              "\n",
              "  <style>\n",
              "    .colab-df-container {\n",
              "      display:flex;\n",
              "      gap: 12px;\n",
              "    }\n",
              "\n",
              "    .colab-df-convert {\n",
              "      background-color: #E8F0FE;\n",
              "      border: none;\n",
              "      border-radius: 50%;\n",
              "      cursor: pointer;\n",
              "      display: none;\n",
              "      fill: #1967D2;\n",
              "      height: 32px;\n",
              "      padding: 0 0 0 0;\n",
              "      width: 32px;\n",
              "    }\n",
              "\n",
              "    .colab-df-convert:hover {\n",
              "      background-color: #E2EBFA;\n",
              "      box-shadow: 0px 1px 2px rgba(60, 64, 67, 0.3), 0px 1px 3px 1px rgba(60, 64, 67, 0.15);\n",
              "      fill: #174EA6;\n",
              "    }\n",
              "\n",
              "    .colab-df-buttons div {\n",
              "      margin-bottom: 4px;\n",
              "    }\n",
              "\n",
              "    [theme=dark] .colab-df-convert {\n",
              "      background-color: #3B4455;\n",
              "      fill: #D2E3FC;\n",
              "    }\n",
              "\n",
              "    [theme=dark] .colab-df-convert:hover {\n",
              "      background-color: #434B5C;\n",
              "      box-shadow: 0px 1px 3px 1px rgba(0, 0, 0, 0.15);\n",
              "      filter: drop-shadow(0px 1px 2px rgba(0, 0, 0, 0.3));\n",
              "      fill: #FFFFFF;\n",
              "    }\n",
              "  </style>\n",
              "\n",
              "    <script>\n",
              "      const buttonEl =\n",
              "        document.querySelector('#df-26c99896-49ff-420d-ab8e-412bd07baddc button.colab-df-convert');\n",
              "      buttonEl.style.display =\n",
              "        google.colab.kernel.accessAllowed ? 'block' : 'none';\n",
              "\n",
              "      async function convertToInteractive(key) {\n",
              "        const element = document.querySelector('#df-26c99896-49ff-420d-ab8e-412bd07baddc');\n",
              "        const dataTable =\n",
              "          await google.colab.kernel.invokeFunction('convertToInteractive',\n",
              "                                                    [key], {});\n",
              "        if (!dataTable) return;\n",
              "\n",
              "        const docLinkHtml = 'Like what you see? Visit the ' +\n",
              "          '<a target=\"_blank\" href=https://colab.research.google.com/notebooks/data_table.ipynb>data table notebook</a>'\n",
              "          + ' to learn more about interactive tables.';\n",
              "        element.innerHTML = '';\n",
              "        dataTable['output_type'] = 'display_data';\n",
              "        await google.colab.output.renderOutput(dataTable, element);\n",
              "        const docLink = document.createElement('div');\n",
              "        docLink.innerHTML = docLinkHtml;\n",
              "        element.appendChild(docLink);\n",
              "      }\n",
              "    </script>\n",
              "  </div>\n",
              "\n",
              "\n",
              "<div id=\"df-807dd4b2-dec4-4641-b4ea-091aff887ca7\">\n",
              "  <button class=\"colab-df-quickchart\" onclick=\"quickchart('df-807dd4b2-dec4-4641-b4ea-091aff887ca7')\"\n",
              "            title=\"Suggest charts\"\n",
              "            style=\"display:none;\">\n",
              "\n",
              "<svg xmlns=\"http://www.w3.org/2000/svg\" height=\"24px\"viewBox=\"0 0 24 24\"\n",
              "     width=\"24px\">\n",
              "    <g>\n",
              "        <path d=\"M19 3H5c-1.1 0-2 .9-2 2v14c0 1.1.9 2 2 2h14c1.1 0 2-.9 2-2V5c0-1.1-.9-2-2-2zM9 17H7v-7h2v7zm4 0h-2V7h2v10zm4 0h-2v-4h2v4z\"/>\n",
              "    </g>\n",
              "</svg>\n",
              "  </button>\n",
              "\n",
              "<style>\n",
              "  .colab-df-quickchart {\n",
              "      --bg-color: #E8F0FE;\n",
              "      --fill-color: #1967D2;\n",
              "      --hover-bg-color: #E2EBFA;\n",
              "      --hover-fill-color: #174EA6;\n",
              "      --disabled-fill-color: #AAA;\n",
              "      --disabled-bg-color: #DDD;\n",
              "  }\n",
              "\n",
              "  [theme=dark] .colab-df-quickchart {\n",
              "      --bg-color: #3B4455;\n",
              "      --fill-color: #D2E3FC;\n",
              "      --hover-bg-color: #434B5C;\n",
              "      --hover-fill-color: #FFFFFF;\n",
              "      --disabled-bg-color: #3B4455;\n",
              "      --disabled-fill-color: #666;\n",
              "  }\n",
              "\n",
              "  .colab-df-quickchart {\n",
              "    background-color: var(--bg-color);\n",
              "    border: none;\n",
              "    border-radius: 50%;\n",
              "    cursor: pointer;\n",
              "    display: none;\n",
              "    fill: var(--fill-color);\n",
              "    height: 32px;\n",
              "    padding: 0;\n",
              "    width: 32px;\n",
              "  }\n",
              "\n",
              "  .colab-df-quickchart:hover {\n",
              "    background-color: var(--hover-bg-color);\n",
              "    box-shadow: 0 1px 2px rgba(60, 64, 67, 0.3), 0 1px 3px 1px rgba(60, 64, 67, 0.15);\n",
              "    fill: var(--button-hover-fill-color);\n",
              "  }\n",
              "\n",
              "  .colab-df-quickchart-complete:disabled,\n",
              "  .colab-df-quickchart-complete:disabled:hover {\n",
              "    background-color: var(--disabled-bg-color);\n",
              "    fill: var(--disabled-fill-color);\n",
              "    box-shadow: none;\n",
              "  }\n",
              "\n",
              "  .colab-df-spinner {\n",
              "    border: 2px solid var(--fill-color);\n",
              "    border-color: transparent;\n",
              "    border-bottom-color: var(--fill-color);\n",
              "    animation:\n",
              "      spin 1s steps(1) infinite;\n",
              "  }\n",
              "\n",
              "  @keyframes spin {\n",
              "    0% {\n",
              "      border-color: transparent;\n",
              "      border-bottom-color: var(--fill-color);\n",
              "      border-left-color: var(--fill-color);\n",
              "    }\n",
              "    20% {\n",
              "      border-color: transparent;\n",
              "      border-left-color: var(--fill-color);\n",
              "      border-top-color: var(--fill-color);\n",
              "    }\n",
              "    30% {\n",
              "      border-color: transparent;\n",
              "      border-left-color: var(--fill-color);\n",
              "      border-top-color: var(--fill-color);\n",
              "      border-right-color: var(--fill-color);\n",
              "    }\n",
              "    40% {\n",
              "      border-color: transparent;\n",
              "      border-right-color: var(--fill-color);\n",
              "      border-top-color: var(--fill-color);\n",
              "    }\n",
              "    60% {\n",
              "      border-color: transparent;\n",
              "      border-right-color: var(--fill-color);\n",
              "    }\n",
              "    80% {\n",
              "      border-color: transparent;\n",
              "      border-right-color: var(--fill-color);\n",
              "      border-bottom-color: var(--fill-color);\n",
              "    }\n",
              "    90% {\n",
              "      border-color: transparent;\n",
              "      border-bottom-color: var(--fill-color);\n",
              "    }\n",
              "  }\n",
              "</style>\n",
              "\n",
              "  <script>\n",
              "    async function quickchart(key) {\n",
              "      const quickchartButtonEl =\n",
              "        document.querySelector('#' + key + ' button');\n",
              "      quickchartButtonEl.disabled = true;  // To prevent multiple clicks.\n",
              "      quickchartButtonEl.classList.add('colab-df-spinner');\n",
              "      try {\n",
              "        const charts = await google.colab.kernel.invokeFunction(\n",
              "            'suggestCharts', [key], {});\n",
              "      } catch (error) {\n",
              "        console.error('Error during call to suggestCharts:', error);\n",
              "      }\n",
              "      quickchartButtonEl.classList.remove('colab-df-spinner');\n",
              "      quickchartButtonEl.classList.add('colab-df-quickchart-complete');\n",
              "    }\n",
              "    (() => {\n",
              "      let quickchartButtonEl =\n",
              "        document.querySelector('#df-807dd4b2-dec4-4641-b4ea-091aff887ca7 button');\n",
              "      quickchartButtonEl.style.display =\n",
              "        google.colab.kernel.accessAllowed ? 'block' : 'none';\n",
              "    })();\n",
              "  </script>\n",
              "</div>\n",
              "\n",
              "  <div id=\"id_b6438802-b4d6-4534-8a63-cf15a0d899c0\">\n",
              "    <style>\n",
              "      .colab-df-generate {\n",
              "        background-color: #E8F0FE;\n",
              "        border: none;\n",
              "        border-radius: 50%;\n",
              "        cursor: pointer;\n",
              "        display: none;\n",
              "        fill: #1967D2;\n",
              "        height: 32px;\n",
              "        padding: 0 0 0 0;\n",
              "        width: 32px;\n",
              "      }\n",
              "\n",
              "      .colab-df-generate:hover {\n",
              "        background-color: #E2EBFA;\n",
              "        box-shadow: 0px 1px 2px rgba(60, 64, 67, 0.3), 0px 1px 3px 1px rgba(60, 64, 67, 0.15);\n",
              "        fill: #174EA6;\n",
              "      }\n",
              "\n",
              "      [theme=dark] .colab-df-generate {\n",
              "        background-color: #3B4455;\n",
              "        fill: #D2E3FC;\n",
              "      }\n",
              "\n",
              "      [theme=dark] .colab-df-generate:hover {\n",
              "        background-color: #434B5C;\n",
              "        box-shadow: 0px 1px 3px 1px rgba(0, 0, 0, 0.15);\n",
              "        filter: drop-shadow(0px 1px 2px rgba(0, 0, 0, 0.3));\n",
              "        fill: #FFFFFF;\n",
              "      }\n",
              "    </style>\n",
              "    <button class=\"colab-df-generate\" onclick=\"generateWithVariable('test')\"\n",
              "            title=\"Generate code using this dataframe.\"\n",
              "            style=\"display:none;\">\n",
              "\n",
              "  <svg xmlns=\"http://www.w3.org/2000/svg\" height=\"24px\"viewBox=\"0 0 24 24\"\n",
              "       width=\"24px\">\n",
              "    <path d=\"M7,19H8.4L18.45,9,17,7.55,7,17.6ZM5,21V16.75L18.45,3.32a2,2,0,0,1,2.83,0l1.4,1.43a1.91,1.91,0,0,1,.58,1.4,1.91,1.91,0,0,1-.58,1.4L9.25,21ZM18.45,9,17,7.55Zm-12,3A5.31,5.31,0,0,0,4.9,8.1,5.31,5.31,0,0,0,1,6.5,5.31,5.31,0,0,0,4.9,4.9,5.31,5.31,0,0,0,6.5,1,5.31,5.31,0,0,0,8.1,4.9,5.31,5.31,0,0,0,12,6.5,5.46,5.46,0,0,0,6.5,12Z\"/>\n",
              "  </svg>\n",
              "    </button>\n",
              "    <script>\n",
              "      (() => {\n",
              "      const buttonEl =\n",
              "        document.querySelector('#id_b6438802-b4d6-4534-8a63-cf15a0d899c0 button.colab-df-generate');\n",
              "      buttonEl.style.display =\n",
              "        google.colab.kernel.accessAllowed ? 'block' : 'none';\n",
              "\n",
              "      buttonEl.onclick = () => {\n",
              "        google.colab.notebook.generateWithVariable('test');\n",
              "      }\n",
              "      })();\n",
              "    </script>\n",
              "  </div>\n",
              "\n",
              "    </div>\n",
              "  </div>\n"
            ],
            "text/plain": [
              "                brand                   model model_year    milage fuel_type  \\\n",
              "0                Land          Rover LR2 Base       2015   98000.0  Gasoline   \n",
              "1                Land       Rover Defender SE       2020    9142.0    Hybrid   \n",
              "2                Ford      Expedition Limited       2022   28121.0  Gasoline   \n",
              "3                Audi           A6 2.0T Sport       2016   61258.0  Gasoline   \n",
              "4                Audi    A6 2.0T Premium Plus       2018   59000.0  Gasoline   \n",
              "...               ...                     ...        ...       ...       ...   \n",
              "125685  Mercedes-Benz  GL-Class GL 450 4MATIC       2014   83315.0  Gasoline   \n",
              "125686           Audi          Q7 55 Prestige       2019   29336.0  Gasoline   \n",
              "125687           Audi    A6 3.0T Premium Plus       2012   77634.0  Gasoline   \n",
              "125688           Audi         Q7 3.0T Premium       2012  112000.0  Gasoline   \n",
              "125689      Chevrolet                Tahoe LT       2018   66840.0  Gasoline   \n",
              "\n",
              "                                                   engine        transmission  \\\n",
              "0            240.0HP 2.0L 4 Cylinder Engine Gasoline Fuel         6-Speed A/T   \n",
              "1       395.0HP 3.0L Straight 6 Cylinder Engine Gasoli...         8-Speed A/T   \n",
              "2                         3.5L V6 24V PDI DOHC Twin Turbo  10-Speed Automatic   \n",
              "3                                          2.0 Liter TFSI           Automatic   \n",
              "4            252.0HP 2.0L 4 Cylinder Engine Gasoline Fuel                 A/T   \n",
              "...                                                   ...                 ...   \n",
              "125685      362.0HP 3.0L V6 Cylinder Engine Gasoline Fuel         7-Speed A/T   \n",
              "125686                                    3.0 Liter Turbo           Automatic   \n",
              "125687      333.0HP 3.0L V6 Cylinder Engine Gasoline Fuel                 A/T   \n",
              "125688      333.0HP 3.0L V6 Cylinder Engine Gasoline Fuel                 A/T   \n",
              "125689       355.0HP 5.3L 8 Cylinder Engine Gasoline Fuel                 A/T   \n",
              "\n",
              "                ext_col int_col       accident clean_title  \n",
              "0                 White   Beige  None reported         Yes  \n",
              "1                Silver   Black  None reported         Yes  \n",
              "2                 White   Ebony  None reported         Yes  \n",
              "3       Silician Yellow   Black  None reported         Yes  \n",
              "4                  Gray   Black  None reported         Yes  \n",
              "...                 ...     ...            ...         ...  \n",
              "125685            Black   Black  None reported         Yes  \n",
              "125686            White   Black  None reported         Yes  \n",
              "125687            Black   Black  None reported         Yes  \n",
              "125688            Black   Black  None reported         Yes  \n",
              "125689           Silver   Black  None reported         Yes  \n",
              "\n",
              "[125690 rows x 11 columns]"
            ]
          },
          "execution_count": 262,
          "metadata": {},
          "output_type": "execute_result"
        }
      ],
      "source": [
        "cleaner.clean_categoricals()\n",
        "test_cleaner.clean_categoricals()"
      ]
    },
    {
      "cell_type": "code",
      "execution_count": null,
      "metadata": {
        "colab": {
          "base_uri": "https://localhost:8080/"
        },
        "id": "Jqno2w5wuw3p",
        "outputId": "4b5919b0-5029-4b96-bdc0-2eaf6874789b"
      },
      "outputs": [
        {
          "name": "stdout",
          "output_type": "stream",
          "text": [
            "brand           0\n",
            "model           0\n",
            "model_year      0\n",
            "milage          0\n",
            "fuel_type       0\n",
            "engine          0\n",
            "transmission    0\n",
            "ext_col         0\n",
            "int_col         0\n",
            "accident        0\n",
            "clean_title     0\n",
            "price           0\n",
            "dtype: int64 brand           0\n",
            "model           0\n",
            "model_year      0\n",
            "milage          0\n",
            "fuel_type       0\n",
            "engine          0\n",
            "transmission    0\n",
            "ext_col         0\n",
            "int_col         0\n",
            "accident        0\n",
            "clean_title     0\n",
            "dtype: int64\n"
          ]
        }
      ],
      "source": [
        "print(df.isnull().sum(), test.isnull().sum())"
      ]
    },
    {
      "cell_type": "code",
      "execution_count": null,
      "metadata": {
        "id": "aiCde4-2V2DG"
      },
      "outputs": [],
      "source": [
        "# Categorical: Int, object: Won't be scaled and will be applied mode Imputer\n",
        "# Continuos: Float, float64:  Will be Scaled, applied mean Imputer"
      ]
    },
    {
      "cell_type": "code",
      "execution_count": null,
      "metadata": {
        "colab": {
          "base_uri": "https://localhost:8080/",
          "height": 335
        },
        "id": "dvag8q80Dlk9",
        "outputId": "6ee6275c-7a19-452b-9b1d-ba8bfdeb72aa"
      },
      "outputs": [
        {
          "data": {
            "text/html": [
              "<div>\n",
              "<style scoped>\n",
              "    .dataframe tbody tr th:only-of-type {\n",
              "        vertical-align: middle;\n",
              "    }\n",
              "\n",
              "    .dataframe tbody tr th {\n",
              "        vertical-align: top;\n",
              "    }\n",
              "\n",
              "    .dataframe thead th {\n",
              "        text-align: right;\n",
              "    }\n",
              "</style>\n",
              "<table border=\"1\" class=\"dataframe\">\n",
              "  <thead>\n",
              "    <tr style=\"text-align: right;\">\n",
              "      <th></th>\n",
              "      <th>price</th>\n",
              "    </tr>\n",
              "  </thead>\n",
              "  <tbody>\n",
              "    <tr>\n",
              "      <th>count</th>\n",
              "      <td>1.885330e+05</td>\n",
              "    </tr>\n",
              "    <tr>\n",
              "      <th>mean</th>\n",
              "      <td>4.387802e+04</td>\n",
              "    </tr>\n",
              "    <tr>\n",
              "      <th>std</th>\n",
              "      <td>7.881952e+04</td>\n",
              "    </tr>\n",
              "    <tr>\n",
              "      <th>min</th>\n",
              "      <td>2.000000e+03</td>\n",
              "    </tr>\n",
              "    <tr>\n",
              "      <th>25%</th>\n",
              "      <td>1.700000e+04</td>\n",
              "    </tr>\n",
              "    <tr>\n",
              "      <th>50%</th>\n",
              "      <td>3.082500e+04</td>\n",
              "    </tr>\n",
              "    <tr>\n",
              "      <th>75%</th>\n",
              "      <td>4.990000e+04</td>\n",
              "    </tr>\n",
              "    <tr>\n",
              "      <th>max</th>\n",
              "      <td>2.954083e+06</td>\n",
              "    </tr>\n",
              "  </tbody>\n",
              "</table>\n",
              "</div><br><label><b>dtype:</b> float64</label>"
            ],
            "text/plain": [
              "count    1.885330e+05\n",
              "mean     4.387802e+04\n",
              "std      7.881952e+04\n",
              "min      2.000000e+03\n",
              "25%      1.700000e+04\n",
              "50%      3.082500e+04\n",
              "75%      4.990000e+04\n",
              "max      2.954083e+06\n",
              "Name: price, dtype: float64"
            ]
          },
          "execution_count": 265,
          "metadata": {},
          "output_type": "execute_result"
        }
      ],
      "source": [
        "df['price'].describe()"
      ]
    },
    {
      "cell_type": "code",
      "execution_count": null,
      "metadata": {
        "id": "6hfQB4f2o8Sw"
      },
      "outputs": [],
      "source": [
        "def handle_outliers(col, limit=2):\n",
        "    # Handle price outliers\n",
        "    x = col.copy()\n",
        "    mean = x.mean()\n",
        "    std_dev = x.std()\n",
        "    lower_bound = mean - limit * std_dev\n",
        "    upper_bound = mean + limit * std_dev\n",
        "\n",
        "    def map_x(y):\n",
        "        if y <= lower_bound:\n",
        "          return lower_bound\n",
        "        elif y >= upper_bound:\n",
        "          return upper_bound\n",
        "        else:\n",
        "          return y\n",
        "    # Filter data\n",
        "    return pd.Series(col.map(map_x))\n"
      ]
    },
    {
      "cell_type": "code",
      "execution_count": null,
      "metadata": {
        "colab": {
          "base_uri": "https://localhost:8080/",
          "height": 466
        },
        "id": "p_kPQRjjEXtG",
        "outputId": "6fcceb5d-5f06-4bc0-e896-81f56ef24bfc"
      },
      "outputs": [
        {
          "data": {
            "text/plain": [
              "<Axes: xlabel='price'>"
            ]
          },
          "execution_count": 267,
          "metadata": {},
          "output_type": "execute_result"
        },
        {
          "data": {
            "image/png": "[encoded data removed]",
            "text/plain": [
              "<Figure size 640x480 with 1 Axes>"
            ]
          },
          "metadata": {},
          "output_type": "display_data"
        }
      ],
      "source": [
        "sns.boxplot(x=df['price'])"
      ]
    },
    {
      "cell_type": "code",
      "execution_count": null,
      "metadata": {
        "colab": {
          "base_uri": "https://localhost:8080/",
          "height": 466
        },
        "id": "_KUJtx0qITj2",
        "outputId": "b83be2d6-1673-4f6a-bfa7-7263089780dc"
      },
      "outputs": [
        {
          "data": {
            "text/plain": [
              "<Axes: xlabel='milage'>"
            ]
          },
          "execution_count": 268,
          "metadata": {},
          "output_type": "execute_result"
        },
        {
          "data": {
            "image/png": "[encoded data removed]",
            "text/plain": [
              "<Figure size 640x480 with 1 Axes>"
            ]
          },
          "metadata": {},
          "output_type": "display_data"
        }
      ],
      "source": [
        "sns.boxplot(x=df['milage'])"
      ]
    },
    {
      "cell_type": "code",
      "execution_count": null,
      "metadata": {
        "colab": {
          "base_uri": "https://localhost:8080/",
          "height": 466
        },
        "id": "CcbxyXHTu8zP",
        "outputId": "61ec0ccb-a0ab-4454-a5c1-10084d504517"
      },
      "outputs": [
        {
          "data": {
            "text/plain": [
              "<Axes: xlabel='milage'>"
            ]
          },
          "execution_count": 269,
          "metadata": {},
          "output_type": "execute_result"
        },
        {
          "data": {
            "image/png": "[encoded data removed]",
            "text/plain": [
              "<Figure size 640x480 with 1 Axes>"
            ]
          },
          "metadata": {},
          "output_type": "display_data"
        }
      ],
      "source": [
        "sns.boxplot(x=test['milage'])"
      ]
    },
    {
      "cell_type": "code",
      "execution_count": null,
      "metadata": {
        "colab": {
          "base_uri": "https://localhost:8080/",
          "height": 467
        },
        "id": "SAAqCaooJE_q",
        "outputId": "3ce3fbcc-22a1-43f7-e1eb-d0199f04ae8f"
      },
      "outputs": [
        {
          "data": {
            "text/plain": [
              "<Axes: xlabel='model_year'>"
            ]
          },
          "execution_count": 270,
          "metadata": {},
          "output_type": "execute_result"
        },
        {
          "data": {
            "image/png": "[encoded data removed]",
            "text/plain": [
              "<Figure size 640x480 with 1 Axes>"
            ]
          },
          "metadata": {},
          "output_type": "display_data"
        }
      ],
      "source": [
        "sns.boxplot(x=df['model_year'])"
      ]
    },
    {
      "cell_type": "code",
      "execution_count": null,
      "metadata": {
        "colab": {
          "base_uri": "https://localhost:8080/",
          "height": 467
        },
        "id": "N_wEUpDGvBrV",
        "outputId": "556ddcc5-60c2-4e89-9b62-7eec431137be"
      },
      "outputs": [
        {
          "data": {
            "text/plain": [
              "<Axes: xlabel='model_year'>"
            ]
          },
          "execution_count": 271,
          "metadata": {},
          "output_type": "execute_result"
        },
        {
          "data": {
            "image/png": "[encoded data removed]",
            "text/plain": [
              "<Figure size 640x480 with 1 Axes>"
            ]
          },
          "metadata": {},
          "output_type": "display_data"
        }
      ],
      "source": [
        "sns.boxplot(x=test['model_year'])"
      ]
    },
    {
      "cell_type": "code",
      "execution_count": null,
      "metadata": {
        "id": "A67DXkriJEYG"
      },
      "outputs": [],
      "source": [
        "df['price'] = handle_outliers(df['price'], 2)\n",
        "df['milage'] = handle_outliers(df['milage'], 2)\n",
        "df['model_year'] = handle_outliers(df['model_year'], 2)\n",
        "\n",
        "test['milage'] = handle_outliers(test['milage'], 2)\n",
        "test['model_year'] = handle_outliers(test['model_year'], 2)"
      ]
    },
    {
      "cell_type": "code",
      "execution_count": null,
      "metadata": {
        "colab": {
          "base_uri": "https://localhost:8080/",
          "height": 449
        },
        "id": "L2vNtxL8IwGb",
        "outputId": "c9d8f99c-1d2e-43ec-9907-3d6bb67cfff8"
      },
      "outputs": [
        {
          "data": {
            "image/png": "[encoded data removed]",
            "text/plain": [
              "<Figure size 640x480 with 1 Axes>"
            ]
          },
          "metadata": {},
          "output_type": "display_data"
        }
      ],
      "source": [
        "sns.boxplot(x=df['milage']);\n",
        "sns.boxplot(x=test['milage']);"
      ]
    },
    {
      "cell_type": "code",
      "execution_count": null,
      "metadata": {
        "colab": {
          "base_uri": "https://localhost:8080/",
          "height": 466
        },
        "id": "4KHsjcrGHlHe",
        "outputId": "aefb0737-9e32-481a-c06f-0494ffced92c"
      },
      "outputs": [
        {
          "data": {
            "text/plain": [
              "<Axes: xlabel='price'>"
            ]
          },
          "execution_count": 274,
          "metadata": {},
          "output_type": "execute_result"
        },
        {
          "data": {
            "image/png": "[encoded data removed]",
            "text/plain": [
              "<Figure size 640x480 with 1 Axes>"
            ]
          },
          "metadata": {},
          "output_type": "display_data"
        }
      ],
      "source": [
        "sns.boxplot(x=df['price'])"
      ]
    },
    {
      "cell_type": "code",
      "execution_count": null,
      "metadata": {
        "colab": {
          "base_uri": "https://localhost:8080/",
          "height": 467
        },
        "id": "buPpM_MPJrWR",
        "outputId": "db145776-0c60-4aea-d5bb-5acec20fe0a5"
      },
      "outputs": [
        {
          "data": {
            "text/plain": [
              "<Axes: xlabel='model_year'>"
            ]
          },
          "execution_count": 275,
          "metadata": {},
          "output_type": "execute_result"
        },
        {
          "data": {
            "image/png": "[encoded data removed]",
            "text/plain": [
              "<Figure size 640x480 with 1 Axes>"
            ]
          },
          "metadata": {},
          "output_type": "display_data"
        }
      ],
      "source": [
        "sns.boxplot(x=df['model_year']);\n",
        "sns.boxplot(x=df['model_year'])"
      ]
    },
    {
      "cell_type": "code",
      "execution_count": null,
      "metadata": {
        "colab": {
          "base_uri": "https://localhost:8080/",
          "height": 36
        },
        "id": "Gw6Qx-fNKSCd",
        "outputId": "83b53ff2-c919-4fe3-d3d6-22206ee1b090"
      },
      "outputs": [
        {
          "data": {
            "application/vnd.google.colaboratory.intrinsic+json": {
              "type": "string"
            },
            "text/plain": [
              "\"df['price'] = np.sqrt(df['price'] + 1)\""
            ]
          },
          "execution_count": 276,
          "metadata": {},
          "output_type": "execute_result"
        }
      ],
      "source": [
        "'''df['price'] = np.sqrt(df['price'] + 1)'''"
      ]
    },
    {
      "cell_type": "markdown",
      "metadata": {
        "id": "Z-WECcjlOQjS"
      },
      "source": [
        "# Feature Engineering"
      ]
    },
    {
      "cell_type": "markdown",
      "metadata": {
        "id": "XSOjmdI1OMfh"
      },
      "source": [
        "Functions to extract features from original dataset"
      ]
    },
    {
      "cell_type": "code",
      "execution_count": null,
      "metadata": {
        "id": "CA5k9ZxmMezA"
      },
      "outputs": [],
      "source": [
        "# Categorical\n",
        "def get_automatic(string):\n",
        "    string = string.lower()\n",
        "    if 'a/t' in string or 'automatic' in string or 'at' in string:\n",
        "        return 1\n",
        "    else:\n",
        "        return 0"
      ]
    },
    {
      "cell_type": "code",
      "execution_count": null,
      "metadata": {
        "id": "OCvnQF05MjD9"
      },
      "outputs": [],
      "source": [
        "# Categorical\n",
        "def get_gears(string):\n",
        "    match = re.search(r'^(\\d+)-Speed', string, re.IGNORECASE)\n",
        "    if match:\n",
        "        gears = match.group(1)\n",
        "        return int(gears)\n",
        "    else:\n",
        "        return None"
      ]
    },
    {
      "cell_type": "code",
      "execution_count": null,
      "metadata": {
        "id": "wGCevIreKiVV"
      },
      "outputs": [],
      "source": [
        "# Contiunuos\n",
        "def get_hp(engine):\n",
        "    match = re.search(r'([\\d.]+)HP', engine, re.IGNORECASE)\n",
        "    if match:\n",
        "      return float(match.group(1))\n",
        "    else:\n",
        "      return None"
      ]
    },
    {
      "cell_type": "code",
      "execution_count": null,
      "metadata": {
        "id": "h-z8CtAwLKn2"
      },
      "outputs": [],
      "source": [
        "# Continuos\n",
        "def get_L(engine):\n",
        "    match = re.search(r'([\\d.]+)L', engine, re.IGNORECASE)\n",
        "    if match:\n",
        "      return float(match.group(1))\n",
        "    else:\n",
        "      return None"
      ]
    },
    {
      "cell_type": "code",
      "execution_count": null,
      "metadata": {
        "id": "xWby4y8cO7ao"
      },
      "outputs": [],
      "source": [
        "# Categorical\n",
        "def get_cyl(engine):\n",
        "    match = re.search(r'([\\d.]+)?\\s?(?:Cylinder|Cyl|Cylinders)', engine, re.IGNORECASE)\n",
        "    if match:\n",
        "      return int(match.group(1))\n",
        "    else:\n",
        "      return None"
      ]
    },
    {
      "cell_type": "code",
      "execution_count": null,
      "metadata": {
        "id": "fsf--tACRYfP"
      },
      "outputs": [],
      "source": [
        "# Categorical\n",
        "def is_electric(engine):\n",
        "    if 'electric' in engine.lower():\n",
        "      return 1\n",
        "    else:\n",
        "      return 0"
      ]
    },
    {
      "cell_type": "code",
      "execution_count": null,
      "metadata": {
        "id": "leWepmOjSCat"
      },
      "outputs": [],
      "source": [
        "# Continuos\n",
        "def num_valves(engine):\n",
        "    match = re.search(r'([\\d+])V', engine)\n",
        "    if match:\n",
        "      return float(match.group(1))\n",
        "    else:\n",
        "      return None"
      ]
    },
    {
      "cell_type": "code",
      "execution_count": null,
      "metadata": {
        "id": "SMO0cml9MoIm"
      },
      "outputs": [],
      "source": [
        "# Categorical\n",
        "def is_accident(accident):\n",
        "    if type(accident) == str:\n",
        "        if 'accident' in accident.lower():\n",
        "          return 1\n",
        "        else:\n",
        "          return 0\n",
        "    else:\n",
        "        return None"
      ]
    },
    {
      "cell_type": "markdown",
      "metadata": {
        "id": "D5AnQ3qgOwH7"
      },
      "source": [
        "Functions to extract featurs"
      ]
    },
    {
      "cell_type": "code",
      "execution_count": null,
      "metadata": {
        "id": "fJvDz5rDM3Sg"
      },
      "outputs": [],
      "source": [
        "# Create features and insert into dataframe\n",
        "\n",
        "def create_features(df):\n",
        "    ''' Returns dataframe with newly created features '''\n",
        "    df['automatic'] = df['transmission'].apply(get_automatic)\n",
        "    df['gears'] = df['transmission'].apply(get_gears)\n",
        "    df['hp'] = df['engine'].apply(get_hp)\n",
        "    df['L'] = df['engine'].apply(get_L)\n",
        "    df['cylinders'] = df['engine'].apply(get_cyl)\n",
        "    df['accident'] = df['accident'].apply(is_accident)\n",
        "    df['electric'] = df['engine'].apply(is_electric)\n",
        "    df['valves'] = df['engine'].apply(num_valves)\n",
        "    return df\n",
        "\n",
        "def create_interactions(df):\n",
        "    ''' Returns dataframe with newly created interaction features'''\n",
        "    df['hp/l'] = np.where(df['L'] != 0, df['hp'] / df['L'], None).astype('float')\n",
        "    df['mil/l'] = np.where(df['L'] != 0, df['milage'] / df['L'], None).astype('float')\n",
        "    df['mil/hp'] = np.where(df['hp'] != 0, df['milage'] / df['hp'], None).astype('float')\n",
        "    df['l/cyl'] = np.where(df['cylinders'] != 0, df['L'] / df['cylinders'], None).astype('float')\n",
        "    df['hp/gears'] = np.where(df['gears'] != 0, df['hp'] / df['gears'], None).astype('float')\n",
        "    df['mil/gears'] = np.where(df['gears'] != 0, df['milage'] / df['gears'], None).astype('float')\n",
        "    df['mil/cyl'] = np.where(df['cylinders'] != 0, df['milage'] / df['cylinders'], None).astype('float')\n",
        "\n",
        "    df['hp*automatic'] = df['hp'] * df['automatic']\n",
        "    df['cyl*gears'] = df['cylinders'] * df['gears']\n",
        "\n",
        "    df['carAge'] = pd.Series(2024 - df['model_year']).astype('int')\n",
        "    df['mil/year'] = np.where(df['carAge'] != 0, df['milage'] / df['carAge'], None).astype('float')\n",
        "    df['hp*accident'] = pd.Series(df['hp'] * df['accident']).astype('float')\n",
        "    df['accident*carAge'] = pd.Series(df['accident'] * df['carAge']).astype('float')\n",
        "    df['acc*milage'] = pd.Series(df['accident'] * df['milage']).astype('float')\n",
        "\n",
        "    df['mil*carAge'] = pd.Series(df['milage'] * df['carAge']).astype('float')\n",
        "    df['hp*mil'] = pd.Series(df['hp'] * df['milage']).astype('float')\n",
        "    return df"
      ]
    },
    {
      "cell_type": "code",
      "execution_count": null,
      "metadata": {
        "id": "29Sg5YusP3TF"
      },
      "outputs": [],
      "source": [
        "df = create_features(df)\n",
        "test = create_features(test)"
      ]
    },
    {
      "cell_type": "code",
      "execution_count": null,
      "metadata": {
        "id": "p31KZOj05O-y"
      },
      "outputs": [],
      "source": [
        "# We will treat some suitable variables as categorical\n",
        "cleaner.update_vars(e_categoricals = ['L', 'cylinders', 'gears'])\n",
        "test_cleaner.update_vars(e_categoricals = ['L', 'cylinders', 'gears'])"
      ]
    },
    {
      "cell_type": "markdown",
      "metadata": {
        "id": "P7TiTzu-91-b"
      },
      "source": [
        "### Treat missing values of variables"
      ]
    },
    {
      "cell_type": "code",
      "execution_count": null,
      "metadata": {
        "colab": {
          "base_uri": "https://localhost:8080/"
        },
        "id": "l_dvC6iuIP9R",
        "outputId": "37b5cedf-cce8-4b63-bab1-22a7172ef289"
      },
      "outputs": [
        {
          "name": "stdout",
          "output_type": "stream",
          "text": [
            "brand                0\n",
            "model                0\n",
            "model_year           0\n",
            "milage               0\n",
            "fuel_type            0\n",
            "engine               0\n",
            "transmission         0\n",
            "ext_col              0\n",
            "int_col              0\n",
            "accident             0\n",
            "clean_title          0\n",
            "price                0\n",
            "automatic            0\n",
            "gears            84434\n",
            "hp               33259\n",
            "L                14214\n",
            "cylinders        37855\n",
            "electric             0\n",
            "valves          165115\n",
            "dtype: int64 brand                0\n",
            "model                0\n",
            "model_year           0\n",
            "milage               0\n",
            "fuel_type            0\n",
            "engine               0\n",
            "transmission         0\n",
            "ext_col              0\n",
            "int_col              0\n",
            "accident             0\n",
            "clean_title          0\n",
            "automatic            0\n",
            "gears            56172\n",
            "hp               22181\n",
            "L                 9407\n",
            "cylinders        25150\n",
            "electric             0\n",
            "valves          110069\n",
            "dtype: int64\n"
          ]
        }
      ],
      "source": [
        "print(df.isnull().sum(), test.isnull().sum())"
      ]
    },
    {
      "cell_type": "code",
      "execution_count": null,
      "metadata": {
        "colab": {
          "base_uri": "https://localhost:8080/",
          "height": 1000
        },
        "id": "SXePYpXe9GRv",
        "outputId": "4e1df00d-4293-4773-89f7-8d142a2a53fe"
      },
      "outputs": [
        {
          "name": "stdout",
          "output_type": "stream",
          "text": [
            "categorical_missing_vars: ['automatic', 'gears', 'electric', 'cylinders', 'L']\n",
            "continuos_missing_vars: ['milage', 'price', 'hp', 'valves']\n",
            "categorical_missing_vars: ['automatic', 'gears', 'electric', 'cylinders', 'L']\n",
            "continuos_missing_vars: ['milage', 'hp', 'valves']\n"
          ]
        },
        {
          "data": {
            "application/vnd.google.colaboratory.intrinsic+json": {
              "type": "dataframe",
              "variable_name": "test"
            },
            "text/html": [
              "\n",
              "  <div id=\"df-cf4e51e9-ff37-41a9-9ec3-376ba2f6a647\" class=\"colab-df-container\">\n",
              "    <div>\n",
              "<style scoped>\n",
              "    .dataframe tbody tr th:only-of-type {\n",
              "        vertical-align: middle;\n",
              "    }\n",
              "\n",
              "    .dataframe tbody tr th {\n",
              "        vertical-align: top;\n",
              "    }\n",
              "\n",
              "    .dataframe thead th {\n",
              "        text-align: right;\n",
              "    }\n",
              "</style>\n",
              "<table border=\"1\" class=\"dataframe\">\n",
              "  <thead>\n",
              "    <tr style=\"text-align: right;\">\n",
              "      <th></th>\n",
              "      <th>brand</th>\n",
              "      <th>model</th>\n",
              "      <th>model_year</th>\n",
              "      <th>milage</th>\n",
              "      <th>fuel_type</th>\n",
              "      <th>engine</th>\n",
              "      <th>transmission</th>\n",
              "      <th>ext_col</th>\n",
              "      <th>int_col</th>\n",
              "      <th>accident</th>\n",
              "      <th>clean_title</th>\n",
              "      <th>automatic</th>\n",
              "      <th>gears</th>\n",
              "      <th>hp</th>\n",
              "      <th>L</th>\n",
              "      <th>cylinders</th>\n",
              "      <th>electric</th>\n",
              "      <th>valves</th>\n",
              "    </tr>\n",
              "  </thead>\n",
              "  <tbody>\n",
              "    <tr>\n",
              "      <th>0</th>\n",
              "      <td>Land</td>\n",
              "      <td>Rover LR2 Base</td>\n",
              "      <td>2015.0</td>\n",
              "      <td>98000.0</td>\n",
              "      <td>Gasoline</td>\n",
              "      <td>240.0HP 2.0L 4 Cylinder Engine Gasoline Fuel</td>\n",
              "      <td>6-Speed A/T</td>\n",
              "      <td>White</td>\n",
              "      <td>Beige</td>\n",
              "      <td>0</td>\n",
              "      <td>Yes</td>\n",
              "      <td>1.0</td>\n",
              "      <td>6.0</td>\n",
              "      <td>240.000000</td>\n",
              "      <td>2.0</td>\n",
              "      <td>4.0</td>\n",
              "      <td>0.0</td>\n",
              "      <td>4.579028</td>\n",
              "    </tr>\n",
              "    <tr>\n",
              "      <th>1</th>\n",
              "      <td>Land</td>\n",
              "      <td>Rover Defender SE</td>\n",
              "      <td>2020.0</td>\n",
              "      <td>9142.0</td>\n",
              "      <td>Hybrid</td>\n",
              "      <td>395.0HP 3.0L Straight 6 Cylinder Engine Gasoli...</td>\n",
              "      <td>8-Speed A/T</td>\n",
              "      <td>Silver</td>\n",
              "      <td>Black</td>\n",
              "      <td>0</td>\n",
              "      <td>Yes</td>\n",
              "      <td>1.0</td>\n",
              "      <td>8.0</td>\n",
              "      <td>395.000000</td>\n",
              "      <td>3.0</td>\n",
              "      <td>6.0</td>\n",
              "      <td>1.0</td>\n",
              "      <td>4.579028</td>\n",
              "    </tr>\n",
              "    <tr>\n",
              "      <th>2</th>\n",
              "      <td>Ford</td>\n",
              "      <td>Expedition Limited</td>\n",
              "      <td>2022.0</td>\n",
              "      <td>28121.0</td>\n",
              "      <td>Gasoline</td>\n",
              "      <td>3.5L V6 24V PDI DOHC Twin Turbo</td>\n",
              "      <td>10-Speed Automatic</td>\n",
              "      <td>White</td>\n",
              "      <td>Ebony</td>\n",
              "      <td>0</td>\n",
              "      <td>Yes</td>\n",
              "      <td>1.0</td>\n",
              "      <td>10.0</td>\n",
              "      <td>342.797283</td>\n",
              "      <td>3.5</td>\n",
              "      <td>6.0</td>\n",
              "      <td>0.0</td>\n",
              "      <td>4.000000</td>\n",
              "    </tr>\n",
              "    <tr>\n",
              "      <th>3</th>\n",
              "      <td>Audi</td>\n",
              "      <td>A6 2.0T Sport</td>\n",
              "      <td>2016.0</td>\n",
              "      <td>61258.0</td>\n",
              "      <td>Gasoline</td>\n",
              "      <td>2.0 Liter TFSI</td>\n",
              "      <td>Automatic</td>\n",
              "      <td>Silician Yellow</td>\n",
              "      <td>Black</td>\n",
              "      <td>0</td>\n",
              "      <td>Yes</td>\n",
              "      <td>1.0</td>\n",
              "      <td>6.0</td>\n",
              "      <td>342.797283</td>\n",
              "      <td>3.0</td>\n",
              "      <td>6.0</td>\n",
              "      <td>0.0</td>\n",
              "      <td>4.579028</td>\n",
              "    </tr>\n",
              "    <tr>\n",
              "      <th>4</th>\n",
              "      <td>Audi</td>\n",
              "      <td>A6 2.0T Premium Plus</td>\n",
              "      <td>2018.0</td>\n",
              "      <td>59000.0</td>\n",
              "      <td>Gasoline</td>\n",
              "      <td>252.0HP 2.0L 4 Cylinder Engine Gasoline Fuel</td>\n",
              "      <td>A/T</td>\n",
              "      <td>Gray</td>\n",
              "      <td>Black</td>\n",
              "      <td>0</td>\n",
              "      <td>Yes</td>\n",
              "      <td>1.0</td>\n",
              "      <td>6.0</td>\n",
              "      <td>252.000000</td>\n",
              "      <td>2.0</td>\n",
              "      <td>4.0</td>\n",
              "      <td>0.0</td>\n",
              "      <td>4.579028</td>\n",
              "    </tr>\n",
              "    <tr>\n",
              "      <th>...</th>\n",
              "      <td>...</td>\n",
              "      <td>...</td>\n",
              "      <td>...</td>\n",
              "      <td>...</td>\n",
              "      <td>...</td>\n",
              "      <td>...</td>\n",
              "      <td>...</td>\n",
              "      <td>...</td>\n",
              "      <td>...</td>\n",
              "      <td>...</td>\n",
              "      <td>...</td>\n",
              "      <td>...</td>\n",
              "      <td>...</td>\n",
              "      <td>...</td>\n",
              "      <td>...</td>\n",
              "      <td>...</td>\n",
              "      <td>...</td>\n",
              "      <td>...</td>\n",
              "    </tr>\n",
              "    <tr>\n",
              "      <th>125685</th>\n",
              "      <td>Mercedes-Benz</td>\n",
              "      <td>GL-Class GL 450 4MATIC</td>\n",
              "      <td>2014.0</td>\n",
              "      <td>83315.0</td>\n",
              "      <td>Gasoline</td>\n",
              "      <td>362.0HP 3.0L V6 Cylinder Engine Gasoline Fuel</td>\n",
              "      <td>7-Speed A/T</td>\n",
              "      <td>Black</td>\n",
              "      <td>Black</td>\n",
              "      <td>0</td>\n",
              "      <td>Yes</td>\n",
              "      <td>1.0</td>\n",
              "      <td>7.0</td>\n",
              "      <td>362.000000</td>\n",
              "      <td>3.0</td>\n",
              "      <td>6.0</td>\n",
              "      <td>0.0</td>\n",
              "      <td>4.579028</td>\n",
              "    </tr>\n",
              "    <tr>\n",
              "      <th>125686</th>\n",
              "      <td>Audi</td>\n",
              "      <td>Q7 55 Prestige</td>\n",
              "      <td>2019.0</td>\n",
              "      <td>29336.0</td>\n",
              "      <td>Gasoline</td>\n",
              "      <td>3.0 Liter Turbo</td>\n",
              "      <td>Automatic</td>\n",
              "      <td>White</td>\n",
              "      <td>Black</td>\n",
              "      <td>0</td>\n",
              "      <td>Yes</td>\n",
              "      <td>1.0</td>\n",
              "      <td>6.0</td>\n",
              "      <td>342.797283</td>\n",
              "      <td>3.0</td>\n",
              "      <td>6.0</td>\n",
              "      <td>0.0</td>\n",
              "      <td>4.579028</td>\n",
              "    </tr>\n",
              "    <tr>\n",
              "      <th>125687</th>\n",
              "      <td>Audi</td>\n",
              "      <td>A6 3.0T Premium Plus</td>\n",
              "      <td>2012.0</td>\n",
              "      <td>77634.0</td>\n",
              "      <td>Gasoline</td>\n",
              "      <td>333.0HP 3.0L V6 Cylinder Engine Gasoline Fuel</td>\n",
              "      <td>A/T</td>\n",
              "      <td>Black</td>\n",
              "      <td>Black</td>\n",
              "      <td>0</td>\n",
              "      <td>Yes</td>\n",
              "      <td>1.0</td>\n",
              "      <td>6.0</td>\n",
              "      <td>333.000000</td>\n",
              "      <td>3.0</td>\n",
              "      <td>6.0</td>\n",
              "      <td>0.0</td>\n",
              "      <td>4.579028</td>\n",
              "    </tr>\n",
              "    <tr>\n",
              "      <th>125688</th>\n",
              "      <td>Audi</td>\n",
              "      <td>Q7 3.0T Premium</td>\n",
              "      <td>2012.0</td>\n",
              "      <td>112000.0</td>\n",
              "      <td>Gasoline</td>\n",
              "      <td>333.0HP 3.0L V6 Cylinder Engine Gasoline Fuel</td>\n",
              "      <td>A/T</td>\n",
              "      <td>Black</td>\n",
              "      <td>Black</td>\n",
              "      <td>0</td>\n",
              "      <td>Yes</td>\n",
              "      <td>1.0</td>\n",
              "      <td>6.0</td>\n",
              "      <td>333.000000</td>\n",
              "      <td>3.0</td>\n",
              "      <td>6.0</td>\n",
              "      <td>0.0</td>\n",
              "      <td>4.579028</td>\n",
              "    </tr>\n",
              "    <tr>\n",
              "      <th>125689</th>\n",
              "      <td>Chevrolet</td>\n",
              "      <td>Tahoe LT</td>\n",
              "      <td>2018.0</td>\n",
              "      <td>66840.0</td>\n",
              "      <td>Gasoline</td>\n",
              "      <td>355.0HP 5.3L 8 Cylinder Engine Gasoline Fuel</td>\n",
              "      <td>A/T</td>\n",
              "      <td>Silver</td>\n",
              "      <td>Black</td>\n",
              "      <td>0</td>\n",
              "      <td>Yes</td>\n",
              "      <td>1.0</td>\n",
              "      <td>6.0</td>\n",
              "      <td>355.000000</td>\n",
              "      <td>5.3</td>\n",
              "      <td>8.0</td>\n",
              "      <td>0.0</td>\n",
              "      <td>4.579028</td>\n",
              "    </tr>\n",
              "  </tbody>\n",
              "</table>\n",
              "<p>125690 rows × 18 columns</p>\n",
              "</div>\n",
              "    <div class=\"colab-df-buttons\">\n",
              "\n",
              "  <div class=\"colab-df-container\">\n",
              "    <button class=\"colab-df-convert\" onclick=\"convertToInteractive('df-cf4e51e9-ff37-41a9-9ec3-376ba2f6a647')\"\n",
              "            title=\"Convert this dataframe to an interactive table.\"\n",
              "            style=\"display:none;\">\n",
              "\n",
              "  <svg xmlns=\"http://www.w3.org/2000/svg\" height=\"24px\" viewBox=\"0 -960 960 960\">\n",
              "    <path d=\"M120-120v-720h720v720H120Zm60-500h600v-160H180v160Zm220 220h160v-160H400v160Zm0 220h160v-160H400v160ZM180-400h160v-160H180v160Zm440 0h160v-160H620v160ZM180-180h160v-160H180v160Zm440 0h160v-160H620v160Z\"/>\n",
              "  </svg>\n",
              "    </button>\n",
              "\n",
              "  <style>\n",
              "    .colab-df-container {\n",
              "      display:flex;\n",
              "      gap: 12px;\n",
              "    }\n",
              "\n",
              "    .colab-df-convert {\n",
              "      background-color: #E8F0FE;\n",
              "      border: none;\n",
              "      border-radius: 50%;\n",
              "      cursor: pointer;\n",
              "      display: none;\n",
              "      fill: #1967D2;\n",
              "      height: 32px;\n",
              "      padding: 0 0 0 0;\n",
              "      width: 32px;\n",
              "    }\n",
              "\n",
              "    .colab-df-convert:hover {\n",
              "      background-color: #E2EBFA;\n",
              "      box-shadow: 0px 1px 2px rgba(60, 64, 67, 0.3), 0px 1px 3px 1px rgba(60, 64, 67, 0.15);\n",
              "      fill: #174EA6;\n",
              "    }\n",
              "\n",
              "    .colab-df-buttons div {\n",
              "      margin-bottom: 4px;\n",
              "    }\n",
              "\n",
              "    [theme=dark] .colab-df-convert {\n",
              "      background-color: #3B4455;\n",
              "      fill: #D2E3FC;\n",
              "    }\n",
              "\n",
              "    [theme=dark] .colab-df-convert:hover {\n",
              "      background-color: #434B5C;\n",
              "      box-shadow: 0px 1px 3px 1px rgba(0, 0, 0, 0.15);\n",
              "      filter: drop-shadow(0px 1px 2px rgba(0, 0, 0, 0.3));\n",
              "      fill: #FFFFFF;\n",
              "    }\n",
              "  </style>\n",
              "\n",
              "    <script>\n",
              "      const buttonEl =\n",
              "        document.querySelector('#df-cf4e51e9-ff37-41a9-9ec3-376ba2f6a647 button.colab-df-convert');\n",
              "      buttonEl.style.display =\n",
              "        google.colab.kernel.accessAllowed ? 'block' : 'none';\n",
              "\n",
              "      async function convertToInteractive(key) {\n",
              "        const element = document.querySelector('#df-cf4e51e9-ff37-41a9-9ec3-376ba2f6a647');\n",
              "        const dataTable =\n",
              "          await google.colab.kernel.invokeFunction('convertToInteractive',\n",
              "                                                    [key], {});\n",
              "        if (!dataTable) return;\n",
              "\n",
              "        const docLinkHtml = 'Like what you see? Visit the ' +\n",
              "          '<a target=\"_blank\" href=https://colab.research.google.com/notebooks/data_table.ipynb>data table notebook</a>'\n",
              "          + ' to learn more about interactive tables.';\n",
              "        element.innerHTML = '';\n",
              "        dataTable['output_type'] = 'display_data';\n",
              "        await google.colab.output.renderOutput(dataTable, element);\n",
              "        const docLink = document.createElement('div');\n",
              "        docLink.innerHTML = docLinkHtml;\n",
              "        element.appendChild(docLink);\n",
              "      }\n",
              "    </script>\n",
              "  </div>\n",
              "\n",
              "\n",
              "<div id=\"df-4462f36f-bdee-4744-a30b-6004fe42006a\">\n",
              "  <button class=\"colab-df-quickchart\" onclick=\"quickchart('df-4462f36f-bdee-4744-a30b-6004fe42006a')\"\n",
              "            title=\"Suggest charts\"\n",
              "            style=\"display:none;\">\n",
              "\n",
              "<svg xmlns=\"http://www.w3.org/2000/svg\" height=\"24px\"viewBox=\"0 0 24 24\"\n",
              "     width=\"24px\">\n",
              "    <g>\n",
              "        <path d=\"M19 3H5c-1.1 0-2 .9-2 2v14c0 1.1.9 2 2 2h14c1.1 0 2-.9 2-2V5c0-1.1-.9-2-2-2zM9 17H7v-7h2v7zm4 0h-2V7h2v10zm4 0h-2v-4h2v4z\"/>\n",
              "    </g>\n",
              "</svg>\n",
              "  </button>\n",
              "\n",
              "<style>\n",
              "  .colab-df-quickchart {\n",
              "      --bg-color: #E8F0FE;\n",
              "      --fill-color: #1967D2;\n",
              "      --hover-bg-color: #E2EBFA;\n",
              "      --hover-fill-color: #174EA6;\n",
              "      --disabled-fill-color: #AAA;\n",
              "      --disabled-bg-color: #DDD;\n",
              "  }\n",
              "\n",
              "  [theme=dark] .colab-df-quickchart {\n",
              "      --bg-color: #3B4455;\n",
              "      --fill-color: #D2E3FC;\n",
              "      --hover-bg-color: #434B5C;\n",
              "      --hover-fill-color: #FFFFFF;\n",
              "      --disabled-bg-color: #3B4455;\n",
              "      --disabled-fill-color: #666;\n",
              "  }\n",
              "\n",
              "  .colab-df-quickchart {\n",
              "    background-color: var(--bg-color);\n",
              "    border: none;\n",
              "    border-radius: 50%;\n",
              "    cursor: pointer;\n",
              "    display: none;\n",
              "    fill: var(--fill-color);\n",
              "    height: 32px;\n",
              "    padding: 0;\n",
              "    width: 32px;\n",
              "  }\n",
              "\n",
              "  .colab-df-quickchart:hover {\n",
              "    background-color: var(--hover-bg-color);\n",
              "    box-shadow: 0 1px 2px rgba(60, 64, 67, 0.3), 0 1px 3px 1px rgba(60, 64, 67, 0.15);\n",
              "    fill: var(--button-hover-fill-color);\n",
              "  }\n",
              "\n",
              "  .colab-df-quickchart-complete:disabled,\n",
              "  .colab-df-quickchart-complete:disabled:hover {\n",
              "    background-color: var(--disabled-bg-color);\n",
              "    fill: var(--disabled-fill-color);\n",
              "    box-shadow: none;\n",
              "  }\n",
              "\n",
              "  .colab-df-spinner {\n",
              "    border: 2px solid var(--fill-color);\n",
              "    border-color: transparent;\n",
              "    border-bottom-color: var(--fill-color);\n",
              "    animation:\n",
              "      spin 1s steps(1) infinite;\n",
              "  }\n",
              "\n",
              "  @keyframes spin {\n",
              "    0% {\n",
              "      border-color: transparent;\n",
              "      border-bottom-color: var(--fill-color);\n",
              "      border-left-color: var(--fill-color);\n",
              "    }\n",
              "    20% {\n",
              "      border-color: transparent;\n",
              "      border-left-color: var(--fill-color);\n",
              "      border-top-color: var(--fill-color);\n",
              "    }\n",
              "    30% {\n",
              "      border-color: transparent;\n",
              "      border-left-color: var(--fill-color);\n",
              "      border-top-color: var(--fill-color);\n",
              "      border-right-color: var(--fill-color);\n",
              "    }\n",
              "    40% {\n",
              "      border-color: transparent;\n",
              "      border-right-color: var(--fill-color);\n",
              "      border-top-color: var(--fill-color);\n",
              "    }\n",
              "    60% {\n",
              "      border-color: transparent;\n",
              "      border-right-color: var(--fill-color);\n",
              "    }\n",
              "    80% {\n",
              "      border-color: transparent;\n",
              "      border-right-color: var(--fill-color);\n",
              "      border-bottom-color: var(--fill-color);\n",
              "    }\n",
              "    90% {\n",
              "      border-color: transparent;\n",
              "      border-bottom-color: var(--fill-color);\n",
              "    }\n",
              "  }\n",
              "</style>\n",
              "\n",
              "  <script>\n",
              "    async function quickchart(key) {\n",
              "      const quickchartButtonEl =\n",
              "        document.querySelector('#' + key + ' button');\n",
              "      quickchartButtonEl.disabled = true;  // To prevent multiple clicks.\n",
              "      quickchartButtonEl.classList.add('colab-df-spinner');\n",
              "      try {\n",
              "        const charts = await google.colab.kernel.invokeFunction(\n",
              "            'suggestCharts', [key], {});\n",
              "      } catch (error) {\n",
              "        console.error('Error during call to suggestCharts:', error);\n",
              "      }\n",
              "      quickchartButtonEl.classList.remove('colab-df-spinner');\n",
              "      quickchartButtonEl.classList.add('colab-df-quickchart-complete');\n",
              "    }\n",
              "    (() => {\n",
              "      let quickchartButtonEl =\n",
              "        document.querySelector('#df-4462f36f-bdee-4744-a30b-6004fe42006a button');\n",
              "      quickchartButtonEl.style.display =\n",
              "        google.colab.kernel.accessAllowed ? 'block' : 'none';\n",
              "    })();\n",
              "  </script>\n",
              "</div>\n",
              "\n",
              "  <div id=\"id_a975fb55-11ee-4f27-97b0-4919d9d49d25\">\n",
              "    <style>\n",
              "      .colab-df-generate {\n",
              "        background-color: #E8F0FE;\n",
              "        border: none;\n",
              "        border-radius: 50%;\n",
              "        cursor: pointer;\n",
              "        display: none;\n",
              "        fill: #1967D2;\n",
              "        height: 32px;\n",
              "        padding: 0 0 0 0;\n",
              "        width: 32px;\n",
              "      }\n",
              "\n",
              "      .colab-df-generate:hover {\n",
              "        background-color: #E2EBFA;\n",
              "        box-shadow: 0px 1px 2px rgba(60, 64, 67, 0.3), 0px 1px 3px 1px rgba(60, 64, 67, 0.15);\n",
              "        fill: #174EA6;\n",
              "      }\n",
              "\n",
              "      [theme=dark] .colab-df-generate {\n",
              "        background-color: #3B4455;\n",
              "        fill: #D2E3FC;\n",
              "      }\n",
              "\n",
              "      [theme=dark] .colab-df-generate:hover {\n",
              "        background-color: #434B5C;\n",
              "        box-shadow: 0px 1px 3px 1px rgba(0, 0, 0, 0.15);\n",
              "        filter: drop-shadow(0px 1px 2px rgba(0, 0, 0, 0.3));\n",
              "        fill: #FFFFFF;\n",
              "      }\n",
              "    </style>\n",
              "    <button class=\"colab-df-generate\" onclick=\"generateWithVariable('test')\"\n",
              "            title=\"Generate code using this dataframe.\"\n",
              "            style=\"display:none;\">\n",
              "\n",
              "  <svg xmlns=\"http://www.w3.org/2000/svg\" height=\"24px\"viewBox=\"0 0 24 24\"\n",
              "       width=\"24px\">\n",
              "    <path d=\"M7,19H8.4L18.45,9,17,7.55,7,17.6ZM5,21V16.75L18.45,3.32a2,2,0,0,1,2.83,0l1.4,1.43a1.91,1.91,0,0,1,.58,1.4,1.91,1.91,0,0,1-.58,1.4L9.25,21ZM18.45,9,17,7.55Zm-12,3A5.31,5.31,0,0,0,4.9,8.1,5.31,5.31,0,0,0,1,6.5,5.31,5.31,0,0,0,4.9,4.9,5.31,5.31,0,0,0,6.5,1,5.31,5.31,0,0,0,8.1,4.9,5.31,5.31,0,0,0,12,6.5,5.46,5.46,0,0,0,6.5,12Z\"/>\n",
              "  </svg>\n",
              "    </button>\n",
              "    <script>\n",
              "      (() => {\n",
              "      const buttonEl =\n",
              "        document.querySelector('#id_a975fb55-11ee-4f27-97b0-4919d9d49d25 button.colab-df-generate');\n",
              "      buttonEl.style.display =\n",
              "        google.colab.kernel.accessAllowed ? 'block' : 'none';\n",
              "\n",
              "      buttonEl.onclick = () => {\n",
              "        google.colab.notebook.generateWithVariable('test');\n",
              "      }\n",
              "      })();\n",
              "    </script>\n",
              "  </div>\n",
              "\n",
              "    </div>\n",
              "  </div>\n"
            ],
            "text/plain": [
              "                brand                   model  model_year    milage fuel_type  \\\n",
              "0                Land          Rover LR2 Base      2015.0   98000.0  Gasoline   \n",
              "1                Land       Rover Defender SE      2020.0    9142.0    Hybrid   \n",
              "2                Ford      Expedition Limited      2022.0   28121.0  Gasoline   \n",
              "3                Audi           A6 2.0T Sport      2016.0   61258.0  Gasoline   \n",
              "4                Audi    A6 2.0T Premium Plus      2018.0   59000.0  Gasoline   \n",
              "...               ...                     ...         ...       ...       ...   \n",
              "125685  Mercedes-Benz  GL-Class GL 450 4MATIC      2014.0   83315.0  Gasoline   \n",
              "125686           Audi          Q7 55 Prestige      2019.0   29336.0  Gasoline   \n",
              "125687           Audi    A6 3.0T Premium Plus      2012.0   77634.0  Gasoline   \n",
              "125688           Audi         Q7 3.0T Premium      2012.0  112000.0  Gasoline   \n",
              "125689      Chevrolet                Tahoe LT      2018.0   66840.0  Gasoline   \n",
              "\n",
              "                                                   engine        transmission  \\\n",
              "0            240.0HP 2.0L 4 Cylinder Engine Gasoline Fuel         6-Speed A/T   \n",
              "1       395.0HP 3.0L Straight 6 Cylinder Engine Gasoli...         8-Speed A/T   \n",
              "2                         3.5L V6 24V PDI DOHC Twin Turbo  10-Speed Automatic   \n",
              "3                                          2.0 Liter TFSI           Automatic   \n",
              "4            252.0HP 2.0L 4 Cylinder Engine Gasoline Fuel                 A/T   \n",
              "...                                                   ...                 ...   \n",
              "125685      362.0HP 3.0L V6 Cylinder Engine Gasoline Fuel         7-Speed A/T   \n",
              "125686                                    3.0 Liter Turbo           Automatic   \n",
              "125687      333.0HP 3.0L V6 Cylinder Engine Gasoline Fuel                 A/T   \n",
              "125688      333.0HP 3.0L V6 Cylinder Engine Gasoline Fuel                 A/T   \n",
              "125689       355.0HP 5.3L 8 Cylinder Engine Gasoline Fuel                 A/T   \n",
              "\n",
              "                ext_col int_col  accident clean_title  automatic  gears  \\\n",
              "0                 White   Beige         0         Yes        1.0    6.0   \n",
              "1                Silver   Black         0         Yes        1.0    8.0   \n",
              "2                 White   Ebony         0         Yes        1.0   10.0   \n",
              "3       Silician Yellow   Black         0         Yes        1.0    6.0   \n",
              "4                  Gray   Black         0         Yes        1.0    6.0   \n",
              "...                 ...     ...       ...         ...        ...    ...   \n",
              "125685            Black   Black         0         Yes        1.0    7.0   \n",
              "125686            White   Black         0         Yes        1.0    6.0   \n",
              "125687            Black   Black         0         Yes        1.0    6.0   \n",
              "125688            Black   Black         0         Yes        1.0    6.0   \n",
              "125689           Silver   Black         0         Yes        1.0    6.0   \n",
              "\n",
              "                hp    L  cylinders  electric    valves  \n",
              "0       240.000000  2.0        4.0       0.0  4.579028  \n",
              "1       395.000000  3.0        6.0       1.0  4.579028  \n",
              "2       342.797283  3.5        6.0       0.0  4.000000  \n",
              "3       342.797283  3.0        6.0       0.0  4.579028  \n",
              "4       252.000000  2.0        4.0       0.0  4.579028  \n",
              "...            ...  ...        ...       ...       ...  \n",
              "125685  362.000000  3.0        6.0       0.0  4.579028  \n",
              "125686  342.797283  3.0        6.0       0.0  4.579028  \n",
              "125687  333.000000  3.0        6.0       0.0  4.579028  \n",
              "125688  333.000000  3.0        6.0       0.0  4.579028  \n",
              "125689  355.000000  5.3        8.0       0.0  4.579028  \n",
              "\n",
              "[125690 rows x 18 columns]"
            ]
          },
          "execution_count": 289,
          "metadata": {},
          "output_type": "execute_result"
        }
      ],
      "source": [
        "cleaner.clean_categoricals()\n",
        "cleaner.clean_continuos()\n",
        "\n",
        "test_cleaner.clean_categoricals()\n",
        "test_cleaner.clean_continuos()"
      ]
    },
    {
      "cell_type": "code",
      "execution_count": null,
      "metadata": {
        "colab": {
          "base_uri": "https://localhost:8080/"
        },
        "id": "ZGJITqH9v3ck",
        "outputId": "cb1e07e8-7b4c-4791-b9ac-4fabcb4e0218"
      },
      "outputs": [
        {
          "name": "stdout",
          "output_type": "stream",
          "text": [
            "brand           0\n",
            "model           0\n",
            "model_year      0\n",
            "milage          0\n",
            "fuel_type       0\n",
            "engine          0\n",
            "transmission    0\n",
            "ext_col         0\n",
            "int_col         0\n",
            "accident        0\n",
            "clean_title     0\n",
            "price           0\n",
            "automatic       0\n",
            "gears           0\n",
            "hp              0\n",
            "L               0\n",
            "cylinders       0\n",
            "electric        0\n",
            "valves          0\n",
            "dtype: int64 brand           0\n",
            "model           0\n",
            "model_year      0\n",
            "milage          0\n",
            "fuel_type       0\n",
            "engine          0\n",
            "transmission    0\n",
            "ext_col         0\n",
            "int_col         0\n",
            "accident        0\n",
            "clean_title     0\n",
            "automatic       0\n",
            "gears           0\n",
            "hp              0\n",
            "L               0\n",
            "cylinders       0\n",
            "electric        0\n",
            "valves          0\n",
            "dtype: int64\n"
          ]
        }
      ],
      "source": [
        "print(df.isnull().sum(), test.isnull().sum())"
      ]
    },
    {
      "cell_type": "markdown",
      "metadata": {
        "id": "-q3ZojAQ-uMg"
      },
      "source": [
        "### Create Interaction features"
      ]
    },
    {
      "cell_type": "code",
      "execution_count": null,
      "metadata": {
        "id": "TSdin4u27VJo"
      },
      "outputs": [],
      "source": [
        "# Create interaction features\n",
        "df = create_interactions(df)\n",
        "test = create_interactions(test)"
      ]
    },
    {
      "cell_type": "code",
      "execution_count": null,
      "metadata": {
        "colab": {
          "base_uri": "https://localhost:8080/",
          "height": 699
        },
        "id": "5T-cGHn2K1wD",
        "outputId": "be7bb80c-0d17-4ae5-f7f2-e1b3d7cef5c0"
      },
      "outputs": [
        {
          "data": {
            "image/png": "[encoded data removed]",
            "text/plain": [
              "<Figure size 400x800 with 4 Axes>"
            ]
          },
          "metadata": {},
          "output_type": "display_data"
        }
      ],
      "source": [
        "# Some features with rightly skewed data can be log transformed\n",
        "fig, axs = plt.subplots(2, 2, figsize=(4, 8))\n",
        "\n",
        "# carAge distribution\n",
        "axs[0, 0].hist(df['carAge'], bins=200)\n",
        "axs[0, 0].set_title('carAge')\n",
        "\n",
        "axs[0, 1].hist(df['milage'], bins=200)\n",
        "axs[0, 1].set_title('milage')\n",
        "\n",
        "# milage is right skewed. Log transformation could be used.\n",
        "carAge = np.where(df['carAge'] != 0, df['carAge'], 1).astype('float')\n",
        "milage = np.where(df['milage'] != 0, df['milage'], 1).astype('float')\n",
        "\n",
        "log_carAge = np.log(carAge)\n",
        "log_milage = np.log(milage)\n",
        "\n",
        "axs[1, 0].hist(log_carAge, bins=200)\n",
        "axs[1, 0].set_title('log carAge')\n",
        "\n",
        "axs[1,1].hist(log_milage, bins=200,)\n",
        "axs[1,1].set_title('log  milage')\n",
        "plt.show()"
      ]
    },
    {
      "cell_type": "code",
      "execution_count": null,
      "metadata": {
        "colab": {
          "base_uri": "https://localhost:8080/"
        },
        "id": "c0ccFjq8gQZz",
        "outputId": "63f29a5e-230b-4909-d57f-e10e1a300e45"
      },
      "outputs": [
        {
          "name": "stdout",
          "output_type": "stream",
          "text": [
            "100.0 165301.61132529768\n"
          ]
        }
      ],
      "source": [
        "# Add binning to milage and categorize ordinally\n",
        "milage = df['milage']\n",
        "\n",
        "# Get range of values\n",
        "print(np.min(milage), np.max(milage))\n",
        "\n",
        "bins = [99.0, 300.0, 700.0, 1000.0, 3000.0, 7000., 10000.0, 20000., 35000., 50000.0, 75000, 100000.0, 125000.0, 150000., 175000.]\n",
        "\n",
        "binned_milage = pd.cut(milage, bins, right=False)\n",
        "\n",
        "# mils_bins_category is dict of structure {interval: int} where int is increasing from 0 to 5: there are 6 Intervals\n",
        "mils_bins_category = {}\n",
        "for i in range(0, len(bins) - 1, 1):\n",
        "    mils_bins_category[pd.Interval(bins[i], bins[i+1], closed='left')] = i"
      ]
    },
    {
      "cell_type": "code",
      "execution_count": null,
      "metadata": {
        "colab": {
          "base_uri": "https://localhost:8080/"
        },
        "id": "r8g2RKT8Xf1G",
        "outputId": "80cd7755-deb1-4e13-ae42-000d0c9a2c94"
      },
      "outputs": [
        {
          "name": "stdout",
          "output_type": "stream",
          "text": [
            "2000.0 201517.06068646687\n"
          ]
        }
      ],
      "source": [
        "# Assign classes to brands according to their mean prices\n",
        "# Classes are of type int, ordinally categorized\n",
        "\n",
        "# Get range of values\n",
        "print(np.min(df['price']), np.max(df['price']))\n",
        "\n",
        "bins = [1000.0, 5000.0, 10000.0, 25000.0, 50000.0, 75000., 100000.0, 125000., 150000.0, 175000., 200000.0, 225000., 250000.0, 275000.0, 300000.0]\n",
        "\n",
        "binned_prices = pd.cut(df['price'], bins, right=False) # 9 Intervals\n",
        "\n",
        "# Create bins category mapping\n",
        "bins_category = {pd.Interval(bins[i], bins[i+1], closed='left'): i for i in range(len(bins) - 1)}\n",
        "\n",
        "# Create dict {'brand_name' : mean_price}\n",
        "brand_avg_price = df.groupby('brand')['price'].mean().to_dict()\n",
        "\n",
        "\n",
        "def get_class(mprice):\n",
        "    ''' Returns category of mean price\n",
        "    Args:\n",
        "    mprice(float) : Mean price\n",
        "    Returns:\n",
        "    category(int): Category of interval in which mrice lies\n",
        "    '''\n",
        "\n",
        "    for interval, category in bins_category.items():\n",
        "        if mprice in interval:\n",
        "          return category"
      ]
    },
    {
      "cell_type": "code",
      "execution_count": null,
      "metadata": {
        "id": "9wcKpw3XW-Od"
      },
      "outputs": [],
      "source": [
        "def additional_features(df):\n",
        "    df['AverageMilage'] = df.groupby(\"brand\")['milage'].transform('mean')\n",
        "    df['BrandFreq'] = df.groupby('brand')['brand'].transform('count')/df['brand'].count()\n",
        "\n",
        "    brand_count = df.groupby('brand')['brand'].count().to_dict() #{'brand_name' : mean_price}\n",
        "    df['brand_count'] = df['brand'].map(brand_count)\n",
        "\n",
        "    brand_avg_mil = df.groupby('brand')['milage'].mean().to_dict() #{'brand_name' : mean_price}\n",
        "    df['brand_avg_mil'] = df['brand'].map(brand_avg_mil)\n",
        "\n",
        "    df['binned_milage'] = binned_milage.map(lambda x: mils_bins_category[x])\n",
        "\n",
        "    brand_class = {brand: get_class(price) for brand, price in brand_avg_price.items()}\n",
        "    df['brand_class'] = df['brand'].map(lambda x: brand_class[x])\n",
        "\n",
        "    df['log_milage'] = np.log(df['milage'])\n",
        "\n",
        "    df['logL'] = np.log(df['L'])\n",
        "\n",
        "    df['logAge'] = np.log1p(df['carAge'])\n",
        "\n",
        "\n",
        "    return df"
      ]
    },
    {
      "cell_type": "code",
      "execution_count": null,
      "metadata": {
        "id": "uTcE0Mus0480"
      },
      "outputs": [],
      "source": [
        "df = additional_features(df)\n",
        "test = additional_features(test)"
      ]
    },
    {
      "cell_type": "markdown",
      "metadata": {
        "id": "eOiez_z6Katf"
      },
      "source": []
    },
    {
      "cell_type": "code",
      "execution_count": null,
      "metadata": {
        "colab": {
          "base_uri": "https://localhost:8080/",
          "height": 1000
        },
        "id": "qXf8aTjKIbAm",
        "outputId": "65e683db-1eee-4bd3-afef-a308154fd2fb"
      },
      "outputs": [
        {
          "name": "stdout",
          "output_type": "stream",
          "text": [
            "continuos_missing_vars: ['hp/l', 'mil/l', 'mil/hp', 'l/cyl', 'hp/gears', 'mil/gears', 'mil/cyl', 'hp*automatic', 'cyl*gears', 'mil/year', 'hp*accident', 'accident*carAge', 'acc*milage', 'mil*carAge', 'hp*mil', 'AverageMilage', 'BrandFreq', 'brand_avg_mil', 'log_milage', 'logL', 'logAge']\n",
            "continuos_missing_vars: ['hp/l', 'mil/l', 'mil/hp', 'l/cyl', 'hp/gears', 'mil/gears', 'mil/cyl', 'hp*automatic', 'cyl*gears', 'mil/year', 'hp*accident', 'accident*carAge', 'acc*milage', 'mil*carAge', 'hp*mil', 'AverageMilage', 'BrandFreq', 'brand_avg_mil', 'log_milage', 'logL', 'logAge']\n"
          ]
        },
        {
          "data": {
            "application/vnd.google.colaboratory.intrinsic+json": {
              "type": "dataframe",
              "variable_name": "test"
            },
            "text/html": [
              "\n",
              "  <div id=\"df-5fb31eca-76ba-41f8-80ec-bf18d6811f7f\" class=\"colab-df-container\">\n",
              "    <div>\n",
              "<style scoped>\n",
              "    .dataframe tbody tr th:only-of-type {\n",
              "        vertical-align: middle;\n",
              "    }\n",
              "\n",
              "    .dataframe tbody tr th {\n",
              "        vertical-align: top;\n",
              "    }\n",
              "\n",
              "    .dataframe thead th {\n",
              "        text-align: right;\n",
              "    }\n",
              "</style>\n",
              "<table border=\"1\" class=\"dataframe\">\n",
              "  <thead>\n",
              "    <tr style=\"text-align: right;\">\n",
              "      <th></th>\n",
              "      <th>brand</th>\n",
              "      <th>model</th>\n",
              "      <th>model_year</th>\n",
              "      <th>milage</th>\n",
              "      <th>fuel_type</th>\n",
              "      <th>engine</th>\n",
              "      <th>transmission</th>\n",
              "      <th>ext_col</th>\n",
              "      <th>int_col</th>\n",
              "      <th>accident</th>\n",
              "      <th>...</th>\n",
              "      <th>hp*mil</th>\n",
              "      <th>AverageMilage</th>\n",
              "      <th>BrandFreq</th>\n",
              "      <th>brand_count</th>\n",
              "      <th>brand_avg_mil</th>\n",
              "      <th>binned_milage</th>\n",
              "      <th>brand_class</th>\n",
              "      <th>log_milage</th>\n",
              "      <th>logL</th>\n",
              "      <th>logAge</th>\n",
              "    </tr>\n",
              "  </thead>\n",
              "  <tbody>\n",
              "    <tr>\n",
              "      <th>0</th>\n",
              "      <td>Land</td>\n",
              "      <td>Rover LR2 Base</td>\n",
              "      <td>2015.0</td>\n",
              "      <td>98000.0</td>\n",
              "      <td>Gasoline</td>\n",
              "      <td>240.0HP 2.0L 4 Cylinder Engine Gasoline Fuel</td>\n",
              "      <td>6-Speed A/T</td>\n",
              "      <td>White</td>\n",
              "      <td>Beige</td>\n",
              "      <td>0</td>\n",
              "      <td>...</td>\n",
              "      <td>2.352000e+07</td>\n",
              "      <td>54164.559104</td>\n",
              "      <td>0.050505</td>\n",
              "      <td>6348</td>\n",
              "      <td>54164.559104</td>\n",
              "      <td>13</td>\n",
              "      <td>3</td>\n",
              "      <td>11.492723</td>\n",
              "      <td>0.693147</td>\n",
              "      <td>2.302585</td>\n",
              "    </tr>\n",
              "    <tr>\n",
              "      <th>1</th>\n",
              "      <td>Land</td>\n",
              "      <td>Rover Defender SE</td>\n",
              "      <td>2020.0</td>\n",
              "      <td>9142.0</td>\n",
              "      <td>Hybrid</td>\n",
              "      <td>395.0HP 3.0L Straight 6 Cylinder Engine Gasoli...</td>\n",
              "      <td>8-Speed A/T</td>\n",
              "      <td>Silver</td>\n",
              "      <td>Black</td>\n",
              "      <td>0</td>\n",
              "      <td>...</td>\n",
              "      <td>3.611090e+06</td>\n",
              "      <td>54164.559104</td>\n",
              "      <td>0.050505</td>\n",
              "      <td>6348</td>\n",
              "      <td>54164.559104</td>\n",
              "      <td>12</td>\n",
              "      <td>3</td>\n",
              "      <td>9.120634</td>\n",
              "      <td>1.098612</td>\n",
              "      <td>1.609438</td>\n",
              "    </tr>\n",
              "    <tr>\n",
              "      <th>2</th>\n",
              "      <td>Ford</td>\n",
              "      <td>Expedition Limited</td>\n",
              "      <td>2022.0</td>\n",
              "      <td>28121.0</td>\n",
              "      <td>Gasoline</td>\n",
              "      <td>3.5L V6 24V PDI DOHC Twin Turbo</td>\n",
              "      <td>10-Speed Automatic</td>\n",
              "      <td>White</td>\n",
              "      <td>Ebony</td>\n",
              "      <td>0</td>\n",
              "      <td>...</td>\n",
              "      <td>9.639802e+06</td>\n",
              "      <td>70133.642873</td>\n",
              "      <td>0.121450</td>\n",
              "      <td>15265</td>\n",
              "      <td>70133.642873</td>\n",
              "      <td>12</td>\n",
              "      <td>3</td>\n",
              "      <td>10.244272</td>\n",
              "      <td>1.252763</td>\n",
              "      <td>1.098612</td>\n",
              "    </tr>\n",
              "    <tr>\n",
              "      <th>3</th>\n",
              "      <td>Audi</td>\n",
              "      <td>A6 2.0T Sport</td>\n",
              "      <td>2016.0</td>\n",
              "      <td>61258.0</td>\n",
              "      <td>Gasoline</td>\n",
              "      <td>2.0 Liter TFSI</td>\n",
              "      <td>Automatic</td>\n",
              "      <td>Silician Yellow</td>\n",
              "      <td>Black</td>\n",
              "      <td>0</td>\n",
              "      <td>...</td>\n",
              "      <td>2.099908e+07</td>\n",
              "      <td>58676.868494</td>\n",
              "      <td>0.057992</td>\n",
              "      <td>7289</td>\n",
              "      <td>58676.868494</td>\n",
              "      <td>6</td>\n",
              "      <td>3</td>\n",
              "      <td>11.022850</td>\n",
              "      <td>1.098612</td>\n",
              "      <td>2.197225</td>\n",
              "    </tr>\n",
              "    <tr>\n",
              "      <th>4</th>\n",
              "      <td>Audi</td>\n",
              "      <td>A6 2.0T Premium Plus</td>\n",
              "      <td>2018.0</td>\n",
              "      <td>59000.0</td>\n",
              "      <td>Gasoline</td>\n",
              "      <td>252.0HP 2.0L 4 Cylinder Engine Gasoline Fuel</td>\n",
              "      <td>A/T</td>\n",
              "      <td>Gray</td>\n",
              "      <td>Black</td>\n",
              "      <td>0</td>\n",
              "      <td>...</td>\n",
              "      <td>1.486800e+07</td>\n",
              "      <td>58676.868494</td>\n",
              "      <td>0.057992</td>\n",
              "      <td>7289</td>\n",
              "      <td>58676.868494</td>\n",
              "      <td>5</td>\n",
              "      <td>3</td>\n",
              "      <td>10.985293</td>\n",
              "      <td>0.693147</td>\n",
              "      <td>1.945910</td>\n",
              "    </tr>\n",
              "    <tr>\n",
              "      <th>...</th>\n",
              "      <td>...</td>\n",
              "      <td>...</td>\n",
              "      <td>...</td>\n",
              "      <td>...</td>\n",
              "      <td>...</td>\n",
              "      <td>...</td>\n",
              "      <td>...</td>\n",
              "      <td>...</td>\n",
              "      <td>...</td>\n",
              "      <td>...</td>\n",
              "      <td>...</td>\n",
              "      <td>...</td>\n",
              "      <td>...</td>\n",
              "      <td>...</td>\n",
              "      <td>...</td>\n",
              "      <td>...</td>\n",
              "      <td>...</td>\n",
              "      <td>...</td>\n",
              "      <td>...</td>\n",
              "      <td>...</td>\n",
              "      <td>...</td>\n",
              "    </tr>\n",
              "    <tr>\n",
              "      <th>125685</th>\n",
              "      <td>Mercedes-Benz</td>\n",
              "      <td>GL-Class GL 450 4MATIC</td>\n",
              "      <td>2014.0</td>\n",
              "      <td>83315.0</td>\n",
              "      <td>Gasoline</td>\n",
              "      <td>362.0HP 3.0L V6 Cylinder Engine Gasoline Fuel</td>\n",
              "      <td>7-Speed A/T</td>\n",
              "      <td>Black</td>\n",
              "      <td>Black</td>\n",
              "      <td>0</td>\n",
              "      <td>...</td>\n",
              "      <td>3.016003e+07</td>\n",
              "      <td>54557.687165</td>\n",
              "      <td>0.102435</td>\n",
              "      <td>12875</td>\n",
              "      <td>54557.687165</td>\n",
              "      <td>7</td>\n",
              "      <td>3</td>\n",
              "      <td>11.330384</td>\n",
              "      <td>1.098612</td>\n",
              "      <td>2.397895</td>\n",
              "    </tr>\n",
              "    <tr>\n",
              "      <th>125686</th>\n",
              "      <td>Audi</td>\n",
              "      <td>Q7 55 Prestige</td>\n",
              "      <td>2019.0</td>\n",
              "      <td>29336.0</td>\n",
              "      <td>Gasoline</td>\n",
              "      <td>3.0 Liter Turbo</td>\n",
              "      <td>Automatic</td>\n",
              "      <td>White</td>\n",
              "      <td>Black</td>\n",
              "      <td>0</td>\n",
              "      <td>...</td>\n",
              "      <td>1.005630e+07</td>\n",
              "      <td>58676.868494</td>\n",
              "      <td>0.057992</td>\n",
              "      <td>7289</td>\n",
              "      <td>58676.868494</td>\n",
              "      <td>9</td>\n",
              "      <td>3</td>\n",
              "      <td>10.286571</td>\n",
              "      <td>1.098612</td>\n",
              "      <td>1.791759</td>\n",
              "    </tr>\n",
              "    <tr>\n",
              "      <th>125687</th>\n",
              "      <td>Audi</td>\n",
              "      <td>A6 3.0T Premium Plus</td>\n",
              "      <td>2012.0</td>\n",
              "      <td>77634.0</td>\n",
              "      <td>Gasoline</td>\n",
              "      <td>333.0HP 3.0L V6 Cylinder Engine Gasoline Fuel</td>\n",
              "      <td>A/T</td>\n",
              "      <td>Black</td>\n",
              "      <td>Black</td>\n",
              "      <td>0</td>\n",
              "      <td>...</td>\n",
              "      <td>2.585212e+07</td>\n",
              "      <td>58676.868494</td>\n",
              "      <td>0.057992</td>\n",
              "      <td>7289</td>\n",
              "      <td>58676.868494</td>\n",
              "      <td>4</td>\n",
              "      <td>3</td>\n",
              "      <td>11.259761</td>\n",
              "      <td>1.098612</td>\n",
              "      <td>2.564949</td>\n",
              "    </tr>\n",
              "    <tr>\n",
              "      <th>125688</th>\n",
              "      <td>Audi</td>\n",
              "      <td>Q7 3.0T Premium</td>\n",
              "      <td>2012.0</td>\n",
              "      <td>112000.0</td>\n",
              "      <td>Gasoline</td>\n",
              "      <td>333.0HP 3.0L V6 Cylinder Engine Gasoline Fuel</td>\n",
              "      <td>A/T</td>\n",
              "      <td>Black</td>\n",
              "      <td>Black</td>\n",
              "      <td>0</td>\n",
              "      <td>...</td>\n",
              "      <td>3.729600e+07</td>\n",
              "      <td>58676.868494</td>\n",
              "      <td>0.057992</td>\n",
              "      <td>7289</td>\n",
              "      <td>58676.868494</td>\n",
              "      <td>5</td>\n",
              "      <td>3</td>\n",
              "      <td>11.626254</td>\n",
              "      <td>1.098612</td>\n",
              "      <td>2.564949</td>\n",
              "    </tr>\n",
              "    <tr>\n",
              "      <th>125689</th>\n",
              "      <td>Chevrolet</td>\n",
              "      <td>Tahoe LT</td>\n",
              "      <td>2018.0</td>\n",
              "      <td>66840.0</td>\n",
              "      <td>Gasoline</td>\n",
              "      <td>355.0HP 5.3L 8 Cylinder Engine Gasoline Fuel</td>\n",
              "      <td>A/T</td>\n",
              "      <td>Silver</td>\n",
              "      <td>Black</td>\n",
              "      <td>0</td>\n",
              "      <td>...</td>\n",
              "      <td>2.372820e+07</td>\n",
              "      <td>67021.227939</td>\n",
              "      <td>0.085114</td>\n",
              "      <td>10698</td>\n",
              "      <td>67021.227939</td>\n",
              "      <td>6</td>\n",
              "      <td>3</td>\n",
              "      <td>11.110057</td>\n",
              "      <td>1.667707</td>\n",
              "      <td>1.945910</td>\n",
              "    </tr>\n",
              "  </tbody>\n",
              "</table>\n",
              "<p>125690 rows × 43 columns</p>\n",
              "</div>\n",
              "    <div class=\"colab-df-buttons\">\n",
              "\n",
              "  <div class=\"colab-df-container\">\n",
              "    <button class=\"colab-df-convert\" onclick=\"convertToInteractive('df-5fb31eca-76ba-41f8-80ec-bf18d6811f7f')\"\n",
              "            title=\"Convert this dataframe to an interactive table.\"\n",
              "            style=\"display:none;\">\n",
              "\n",
              "  <svg xmlns=\"http://www.w3.org/2000/svg\" height=\"24px\" viewBox=\"0 -960 960 960\">\n",
              "    <path d=\"M120-120v-720h720v720H120Zm60-500h600v-160H180v160Zm220 220h160v-160H400v160Zm0 220h160v-160H400v160ZM180-400h160v-160H180v160Zm440 0h160v-160H620v160ZM180-180h160v-160H180v160Zm440 0h160v-160H620v160Z\"/>\n",
              "  </svg>\n",
              "    </button>\n",
              "\n",
              "  <style>\n",
              "    .colab-df-container {\n",
              "      display:flex;\n",
              "      gap: 12px;\n",
              "    }\n",
              "\n",
              "    .colab-df-convert {\n",
              "      background-color: #E8F0FE;\n",
              "      border: none;\n",
              "      border-radius: 50%;\n",
              "      cursor: pointer;\n",
              "      display: none;\n",
              "      fill: #1967D2;\n",
              "      height: 32px;\n",
              "      padding: 0 0 0 0;\n",
              "      width: 32px;\n",
              "    }\n",
              "\n",
              "    .colab-df-convert:hover {\n",
              "      background-color: #E2EBFA;\n",
              "      box-shadow: 0px 1px 2px rgba(60, 64, 67, 0.3), 0px 1px 3px 1px rgba(60, 64, 67, 0.15);\n",
              "      fill: #174EA6;\n",
              "    }\n",
              "\n",
              "    .colab-df-buttons div {\n",
              "      margin-bottom: 4px;\n",
              "    }\n",
              "\n",
              "    [theme=dark] .colab-df-convert {\n",
              "      background-color: #3B4455;\n",
              "      fill: #D2E3FC;\n",
              "    }\n",
              "\n",
              "    [theme=dark] .colab-df-convert:hover {\n",
              "      background-color: #434B5C;\n",
              "      box-shadow: 0px 1px 3px 1px rgba(0, 0, 0, 0.15);\n",
              "      filter: drop-shadow(0px 1px 2px rgba(0, 0, 0, 0.3));\n",
              "      fill: #FFFFFF;\n",
              "    }\n",
              "  </style>\n",
              "\n",
              "    <script>\n",
              "      const buttonEl =\n",
              "        document.querySelector('#df-5fb31eca-76ba-41f8-80ec-bf18d6811f7f button.colab-df-convert');\n",
              "      buttonEl.style.display =\n",
              "        google.colab.kernel.accessAllowed ? 'block' : 'none';\n",
              "\n",
              "      async function convertToInteractive(key) {\n",
              "        const element = document.querySelector('#df-5fb31eca-76ba-41f8-80ec-bf18d6811f7f');\n",
              "        const dataTable =\n",
              "          await google.colab.kernel.invokeFunction('convertToInteractive',\n",
              "                                                    [key], {});\n",
              "        if (!dataTable) return;\n",
              "\n",
              "        const docLinkHtml = 'Like what you see? Visit the ' +\n",
              "          '<a target=\"_blank\" href=https://colab.research.google.com/notebooks/data_table.ipynb>data table notebook</a>'\n",
              "          + ' to learn more about interactive tables.';\n",
              "        element.innerHTML = '';\n",
              "        dataTable['output_type'] = 'display_data';\n",
              "        await google.colab.output.renderOutput(dataTable, element);\n",
              "        const docLink = document.createElement('div');\n",
              "        docLink.innerHTML = docLinkHtml;\n",
              "        element.appendChild(docLink);\n",
              "      }\n",
              "    </script>\n",
              "  </div>\n",
              "\n",
              "\n",
              "<div id=\"df-29e3888c-1482-4869-aee4-b6c9fa40e2e0\">\n",
              "  <button class=\"colab-df-quickchart\" onclick=\"quickchart('df-29e3888c-1482-4869-aee4-b6c9fa40e2e0')\"\n",
              "            title=\"Suggest charts\"\n",
              "            style=\"display:none;\">\n",
              "\n",
              "<svg xmlns=\"http://www.w3.org/2000/svg\" height=\"24px\"viewBox=\"0 0 24 24\"\n",
              "     width=\"24px\">\n",
              "    <g>\n",
              "        <path d=\"M19 3H5c-1.1 0-2 .9-2 2v14c0 1.1.9 2 2 2h14c1.1 0 2-.9 2-2V5c0-1.1-.9-2-2-2zM9 17H7v-7h2v7zm4 0h-2V7h2v10zm4 0h-2v-4h2v4z\"/>\n",
              "    </g>\n",
              "</svg>\n",
              "  </button>\n",
              "\n",
              "<style>\n",
              "  .colab-df-quickchart {\n",
              "      --bg-color: #E8F0FE;\n",
              "      --fill-color: #1967D2;\n",
              "      --hover-bg-color: #E2EBFA;\n",
              "      --hover-fill-color: #174EA6;\n",
              "      --disabled-fill-color: #AAA;\n",
              "      --disabled-bg-color: #DDD;\n",
              "  }\n",
              "\n",
              "  [theme=dark] .colab-df-quickchart {\n",
              "      --bg-color: #3B4455;\n",
              "      --fill-color: #D2E3FC;\n",
              "      --hover-bg-color: #434B5C;\n",
              "      --hover-fill-color: #FFFFFF;\n",
              "      --disabled-bg-color: #3B4455;\n",
              "      --disabled-fill-color: #666;\n",
              "  }\n",
              "\n",
              "  .colab-df-quickchart {\n",
              "    background-color: var(--bg-color);\n",
              "    border: none;\n",
              "    border-radius: 50%;\n",
              "    cursor: pointer;\n",
              "    display: none;\n",
              "    fill: var(--fill-color);\n",
              "    height: 32px;\n",
              "    padding: 0;\n",
              "    width: 32px;\n",
              "  }\n",
              "\n",
              "  .colab-df-quickchart:hover {\n",
              "    background-color: var(--hover-bg-color);\n",
              "    box-shadow: 0 1px 2px rgba(60, 64, 67, 0.3), 0 1px 3px 1px rgba(60, 64, 67, 0.15);\n",
              "    fill: var(--button-hover-fill-color);\n",
              "  }\n",
              "\n",
              "  .colab-df-quickchart-complete:disabled,\n",
              "  .colab-df-quickchart-complete:disabled:hover {\n",
              "    background-color: var(--disabled-bg-color);\n",
              "    fill: var(--disabled-fill-color);\n",
              "    box-shadow: none;\n",
              "  }\n",
              "\n",
              "  .colab-df-spinner {\n",
              "    border: 2px solid var(--fill-color);\n",
              "    border-color: transparent;\n",
              "    border-bottom-color: var(--fill-color);\n",
              "    animation:\n",
              "      spin 1s steps(1) infinite;\n",
              "  }\n",
              "\n",
              "  @keyframes spin {\n",
              "    0% {\n",
              "      border-color: transparent;\n",
              "      border-bottom-color: var(--fill-color);\n",
              "      border-left-color: var(--fill-color);\n",
              "    }\n",
              "    20% {\n",
              "      border-color: transparent;\n",
              "      border-left-color: var(--fill-color);\n",
              "      border-top-color: var(--fill-color);\n",
              "    }\n",
              "    30% {\n",
              "      border-color: transparent;\n",
              "      border-left-color: var(--fill-color);\n",
              "      border-top-color: var(--fill-color);\n",
              "      border-right-color: var(--fill-color);\n",
              "    }\n",
              "    40% {\n",
              "      border-color: transparent;\n",
              "      border-right-color: var(--fill-color);\n",
              "      border-top-color: var(--fill-color);\n",
              "    }\n",
              "    60% {\n",
              "      border-color: transparent;\n",
              "      border-right-color: var(--fill-color);\n",
              "    }\n",
              "    80% {\n",
              "      border-color: transparent;\n",
              "      border-right-color: var(--fill-color);\n",
              "      border-bottom-color: var(--fill-color);\n",
              "    }\n",
              "    90% {\n",
              "      border-color: transparent;\n",
              "      border-bottom-color: var(--fill-color);\n",
              "    }\n",
              "  }\n",
              "</style>\n",
              "\n",
              "  <script>\n",
              "    async function quickchart(key) {\n",
              "      const quickchartButtonEl =\n",
              "        document.querySelector('#' + key + ' button');\n",
              "      quickchartButtonEl.disabled = true;  // To prevent multiple clicks.\n",
              "      quickchartButtonEl.classList.add('colab-df-spinner');\n",
              "      try {\n",
              "        const charts = await google.colab.kernel.invokeFunction(\n",
              "            'suggestCharts', [key], {});\n",
              "      } catch (error) {\n",
              "        console.error('Error during call to suggestCharts:', error);\n",
              "      }\n",
              "      quickchartButtonEl.classList.remove('colab-df-spinner');\n",
              "      quickchartButtonEl.classList.add('colab-df-quickchart-complete');\n",
              "    }\n",
              "    (() => {\n",
              "      let quickchartButtonEl =\n",
              "        document.querySelector('#df-29e3888c-1482-4869-aee4-b6c9fa40e2e0 button');\n",
              "      quickchartButtonEl.style.display =\n",
              "        google.colab.kernel.accessAllowed ? 'block' : 'none';\n",
              "    })();\n",
              "  </script>\n",
              "</div>\n",
              "\n",
              "  <div id=\"id_aadd81f8-713e-45e5-9b32-969ac4dee095\">\n",
              "    <style>\n",
              "      .colab-df-generate {\n",
              "        background-color: #E8F0FE;\n",
              "        border: none;\n",
              "        border-radius: 50%;\n",
              "        cursor: pointer;\n",
              "        display: none;\n",
              "        fill: #1967D2;\n",
              "        height: 32px;\n",
              "        padding: 0 0 0 0;\n",
              "        width: 32px;\n",
              "      }\n",
              "\n",
              "      .colab-df-generate:hover {\n",
              "        background-color: #E2EBFA;\n",
              "        box-shadow: 0px 1px 2px rgba(60, 64, 67, 0.3), 0px 1px 3px 1px rgba(60, 64, 67, 0.15);\n",
              "        fill: #174EA6;\n",
              "      }\n",
              "\n",
              "      [theme=dark] .colab-df-generate {\n",
              "        background-color: #3B4455;\n",
              "        fill: #D2E3FC;\n",
              "      }\n",
              "\n",
              "      [theme=dark] .colab-df-generate:hover {\n",
              "        background-color: #434B5C;\n",
              "        box-shadow: 0px 1px 3px 1px rgba(0, 0, 0, 0.15);\n",
              "        filter: drop-shadow(0px 1px 2px rgba(0, 0, 0, 0.3));\n",
              "        fill: #FFFFFF;\n",
              "      }\n",
              "    </style>\n",
              "    <button class=\"colab-df-generate\" onclick=\"generateWithVariable('test')\"\n",
              "            title=\"Generate code using this dataframe.\"\n",
              "            style=\"display:none;\">\n",
              "\n",
              "  <svg xmlns=\"http://www.w3.org/2000/svg\" height=\"24px\"viewBox=\"0 0 24 24\"\n",
              "       width=\"24px\">\n",
              "    <path d=\"M7,19H8.4L18.45,9,17,7.55,7,17.6ZM5,21V16.75L18.45,3.32a2,2,0,0,1,2.83,0l1.4,1.43a1.91,1.91,0,0,1,.58,1.4,1.91,1.91,0,0,1-.58,1.4L9.25,21ZM18.45,9,17,7.55Zm-12,3A5.31,5.31,0,0,0,4.9,8.1,5.31,5.31,0,0,0,1,6.5,5.31,5.31,0,0,0,4.9,4.9,5.31,5.31,0,0,0,6.5,1,5.31,5.31,0,0,0,8.1,4.9,5.31,5.31,0,0,0,12,6.5,5.46,5.46,0,0,0,6.5,12Z\"/>\n",
              "  </svg>\n",
              "    </button>\n",
              "    <script>\n",
              "      (() => {\n",
              "      const buttonEl =\n",
              "        document.querySelector('#id_aadd81f8-713e-45e5-9b32-969ac4dee095 button.colab-df-generate');\n",
              "      buttonEl.style.display =\n",
              "        google.colab.kernel.accessAllowed ? 'block' : 'none';\n",
              "\n",
              "      buttonEl.onclick = () => {\n",
              "        google.colab.notebook.generateWithVariable('test');\n",
              "      }\n",
              "      })();\n",
              "    </script>\n",
              "  </div>\n",
              "\n",
              "    </div>\n",
              "  </div>\n"
            ],
            "text/plain": [
              "                brand                   model  model_year    milage fuel_type  \\\n",
              "0                Land          Rover LR2 Base      2015.0   98000.0  Gasoline   \n",
              "1                Land       Rover Defender SE      2020.0    9142.0    Hybrid   \n",
              "2                Ford      Expedition Limited      2022.0   28121.0  Gasoline   \n",
              "3                Audi           A6 2.0T Sport      2016.0   61258.0  Gasoline   \n",
              "4                Audi    A6 2.0T Premium Plus      2018.0   59000.0  Gasoline   \n",
              "...               ...                     ...         ...       ...       ...   \n",
              "125685  Mercedes-Benz  GL-Class GL 450 4MATIC      2014.0   83315.0  Gasoline   \n",
              "125686           Audi          Q7 55 Prestige      2019.0   29336.0  Gasoline   \n",
              "125687           Audi    A6 3.0T Premium Plus      2012.0   77634.0  Gasoline   \n",
              "125688           Audi         Q7 3.0T Premium      2012.0  112000.0  Gasoline   \n",
              "125689      Chevrolet                Tahoe LT      2018.0   66840.0  Gasoline   \n",
              "\n",
              "                                                   engine        transmission  \\\n",
              "0            240.0HP 2.0L 4 Cylinder Engine Gasoline Fuel         6-Speed A/T   \n",
              "1       395.0HP 3.0L Straight 6 Cylinder Engine Gasoli...         8-Speed A/T   \n",
              "2                         3.5L V6 24V PDI DOHC Twin Turbo  10-Speed Automatic   \n",
              "3                                          2.0 Liter TFSI           Automatic   \n",
              "4            252.0HP 2.0L 4 Cylinder Engine Gasoline Fuel                 A/T   \n",
              "...                                                   ...                 ...   \n",
              "125685      362.0HP 3.0L V6 Cylinder Engine Gasoline Fuel         7-Speed A/T   \n",
              "125686                                    3.0 Liter Turbo           Automatic   \n",
              "125687      333.0HP 3.0L V6 Cylinder Engine Gasoline Fuel                 A/T   \n",
              "125688      333.0HP 3.0L V6 Cylinder Engine Gasoline Fuel                 A/T   \n",
              "125689       355.0HP 5.3L 8 Cylinder Engine Gasoline Fuel                 A/T   \n",
              "\n",
              "                ext_col int_col  accident  ...        hp*mil  AverageMilage  \\\n",
              "0                 White   Beige         0  ...  2.352000e+07   54164.559104   \n",
              "1                Silver   Black         0  ...  3.611090e+06   54164.559104   \n",
              "2                 White   Ebony         0  ...  9.639802e+06   70133.642873   \n",
              "3       Silician Yellow   Black         0  ...  2.099908e+07   58676.868494   \n",
              "4                  Gray   Black         0  ...  1.486800e+07   58676.868494   \n",
              "...                 ...     ...       ...  ...           ...            ...   \n",
              "125685            Black   Black         0  ...  3.016003e+07   54557.687165   \n",
              "125686            White   Black         0  ...  1.005630e+07   58676.868494   \n",
              "125687            Black   Black         0  ...  2.585212e+07   58676.868494   \n",
              "125688            Black   Black         0  ...  3.729600e+07   58676.868494   \n",
              "125689           Silver   Black         0  ...  2.372820e+07   67021.227939   \n",
              "\n",
              "        BrandFreq  brand_count  brand_avg_mil  binned_milage  brand_class  \\\n",
              "0        0.050505         6348   54164.559104             13            3   \n",
              "1        0.050505         6348   54164.559104             12            3   \n",
              "2        0.121450        15265   70133.642873             12            3   \n",
              "3        0.057992         7289   58676.868494              6            3   \n",
              "4        0.057992         7289   58676.868494              5            3   \n",
              "...           ...          ...            ...            ...          ...   \n",
              "125685   0.102435        12875   54557.687165              7            3   \n",
              "125686   0.057992         7289   58676.868494              9            3   \n",
              "125687   0.057992         7289   58676.868494              4            3   \n",
              "125688   0.057992         7289   58676.868494              5            3   \n",
              "125689   0.085114        10698   67021.227939              6            3   \n",
              "\n",
              "        log_milage      logL    logAge  \n",
              "0        11.492723  0.693147  2.302585  \n",
              "1         9.120634  1.098612  1.609438  \n",
              "2        10.244272  1.252763  1.098612  \n",
              "3        11.022850  1.098612  2.197225  \n",
              "4        10.985293  0.693147  1.945910  \n",
              "...            ...       ...       ...  \n",
              "125685   11.330384  1.098612  2.397895  \n",
              "125686   10.286571  1.098612  1.791759  \n",
              "125687   11.259761  1.098612  2.564949  \n",
              "125688   11.626254  1.098612  2.564949  \n",
              "125689   11.110057  1.667707  1.945910  \n",
              "\n",
              "[125690 rows x 43 columns]"
            ]
          },
          "execution_count": 297,
          "metadata": {},
          "output_type": "execute_result"
        }
      ],
      "source": [
        "cleaner.clean_continuos()\n",
        "test_cleaner.clean_continuos()"
      ]
    },
    {
      "cell_type": "code",
      "execution_count": null,
      "metadata": {
        "id": "Bv4_1UudM7G4"
      },
      "outputs": [],
      "source": [
        "# Label categorical features\n",
        "for colname in cleaner.categoricals:\n",
        "    df[colname], _ = df[colname].factorize()\n",
        "\n",
        "for colname in test_cleaner.categoricals:\n",
        "    test[colname], _ = test[colname].factorize()"
      ]
    },
    {
      "cell_type": "code",
      "execution_count": null,
      "metadata": {
        "id": "80VYrGnHNA1E"
      },
      "outputs": [],
      "source": [
        "X = df.copy()\n",
        "y = X.pop('price')"
      ]
    },
    {
      "cell_type": "code",
      "execution_count": null,
      "metadata": {
        "colab": {
          "base_uri": "https://localhost:8080/"
        },
        "id": "td2iG6nOhiSH",
        "outputId": "ce83b26b-5e61-47ef-ebaa-7939386e9672"
      },
      "outputs": [
        {
          "data": {
            "text/plain": [
              "(188533, 43)"
            ]
          },
          "execution_count": 300,
          "metadata": {},
          "output_type": "execute_result"
        }
      ],
      "source": [
        "X.shape"
      ]
    },
    {
      "cell_type": "code",
      "execution_count": null,
      "metadata": {
        "colab": {
          "base_uri": "https://localhost:8080/"
        },
        "id": "GroFKHPtwjGz",
        "outputId": "9239a4c5-aee5-4531-f328-38a6ddca6c93"
      },
      "outputs": [
        {
          "data": {
            "text/plain": [
              "(125690, 43)"
            ]
          },
          "execution_count": 301,
          "metadata": {},
          "output_type": "execute_result"
        }
      ],
      "source": [
        "test.shape"
      ]
    },
    {
      "cell_type": "markdown",
      "metadata": {
        "id": "QQotMJWzLwMy"
      },
      "source": [
        "#### PCA"
      ]
    },
    {
      "cell_type": "code",
      "execution_count": null,
      "metadata": {
        "colab": {
          "base_uri": "https://localhost:8080/"
        },
        "id": "mnFZKslUnvyg",
        "outputId": "0642b6a8-b6a7-45da-8804-f21c013e96c5"
      },
      "outputs": [
        {
          "name": "stdout",
          "output_type": "stream",
          "text": [
            "Index(['milage', 'hp', 'valves', 'hp/l', 'mil/l', 'mil/hp', 'l/cyl',\n",
            "       'hp/gears', 'mil/gears', 'mil/cyl', 'hp*automatic', 'cyl*gears',\n",
            "       'mil/year', 'hp*accident', 'accident*carAge', 'acc*milage',\n",
            "       'mil*carAge', 'hp*mil', 'AverageMilage', 'BrandFreq', 'brand_avg_mil',\n",
            "       'log_milage', 'logL', 'logAge'],\n",
            "      dtype='object')\n",
            "Explained Variance Ratio: 0.9919154790982543\n"
          ]
        }
      ],
      "source": [
        "# Standardize the data (important for PCA)\n",
        "X_pca = X.copy()\n",
        "test_pca = test.copy()\n",
        "\n",
        "scaler_pca = StandardScaler()\n",
        "\n",
        "X_pca[X_pca.select_dtypes(include='float').columns] = scaler_pca.fit_transform(X_pca.select_dtypes(include='float'))\n",
        "test_pca[X_pca.select_dtypes(include='float').columns] = scaler_pca.fit_transform(test_pca.select_dtypes(include='float'))\n",
        "print(X_pca.select_dtypes(include='float').columns)\n",
        "\n",
        "# Apply PCA\n",
        "pca = PCA(n_components=2)  # Specify the number of components\n",
        "X_pca_components = pca.fit_transform(X_pca)\n",
        "test_pca_components = pca.fit_transform(test_pca)\n",
        "\n",
        "# Explained Variance\n",
        "explained_variance = np.sum(pca.explained_variance_ratio_)\n",
        "\n",
        "print(\"Explained Variance Ratio:\", explained_variance)\n",
        "\n",
        "# Convert to DataFrame for better readability\n",
        "pca_df = pd.DataFrame(data=X_pca_components, columns=['PC1', 'PC2'])\n",
        "X = pd.concat([X, pca_df], axis=1)\n",
        "\n",
        "pca_df = pd.DataFrame(data=test_pca_components, columns=['PC1', 'PC2'])\n",
        "test = pd.concat([test, pca_df], axis=1)"
      ]
    },
    {
      "cell_type": "code",
      "execution_count": null,
      "metadata": {
        "id": "ZFfOH77wVBld"
      },
      "outputs": [],
      "source": [
        "cleaner.categoricals.extend(['PC1', 'PC2'])\n",
        "test_cleaner.categoricals.extend(['PC1', 'PC2'])"
      ]
    },
    {
      "cell_type": "code",
      "execution_count": null,
      "metadata": {
        "colab": {
          "base_uri": "https://localhost:8080/",
          "height": 179
        },
        "id": "2QzibUXXfIpH",
        "outputId": "b5bf08d0-8531-489c-9c7d-752c01ea4863"
      },
      "outputs": [
        {
          "name": "stdout",
          "output_type": "stream",
          "text": [
            "(2, 43)\n"
          ]
        },
        {
          "data": {
            "application/vnd.google.colaboratory.intrinsic+json": {
              "type": "dataframe",
              "variable_name": "components_df"
            },
            "text/html": [
              "\n",
              "  <div id=\"df-81be13d3-5e53-4e22-a177-b761b35004d0\" class=\"colab-df-container\">\n",
              "    <div>\n",
              "<style scoped>\n",
              "    .dataframe tbody tr th:only-of-type {\n",
              "        vertical-align: middle;\n",
              "    }\n",
              "\n",
              "    .dataframe tbody tr th {\n",
              "        vertical-align: top;\n",
              "    }\n",
              "\n",
              "    .dataframe thead th {\n",
              "        text-align: right;\n",
              "    }\n",
              "</style>\n",
              "<table border=\"1\" class=\"dataframe\">\n",
              "  <thead>\n",
              "    <tr style=\"text-align: right;\">\n",
              "      <th></th>\n",
              "      <th>brand</th>\n",
              "      <th>model</th>\n",
              "      <th>model_year</th>\n",
              "      <th>milage</th>\n",
              "      <th>fuel_type</th>\n",
              "      <th>engine</th>\n",
              "      <th>transmission</th>\n",
              "      <th>ext_col</th>\n",
              "      <th>int_col</th>\n",
              "      <th>accident</th>\n",
              "      <th>...</th>\n",
              "      <th>hp*mil</th>\n",
              "      <th>AverageMilage</th>\n",
              "      <th>BrandFreq</th>\n",
              "      <th>brand_count</th>\n",
              "      <th>brand_avg_mil</th>\n",
              "      <th>binned_milage</th>\n",
              "      <th>brand_class</th>\n",
              "      <th>log_milage</th>\n",
              "      <th>logL</th>\n",
              "      <th>logAge</th>\n",
              "    </tr>\n",
              "  </thead>\n",
              "  <tbody>\n",
              "    <tr>\n",
              "      <th>PC1</th>\n",
              "      <td>0.006061</td>\n",
              "      <td>0.972764</td>\n",
              "      <td>0.000282</td>\n",
              "      <td>0.000035</td>\n",
              "      <td>0.000117</td>\n",
              "      <td>0.231487</td>\n",
              "      <td>0.000563</td>\n",
              "      <td>0.007673</td>\n",
              "      <td>0.001991</td>\n",
              "      <td>0.000029</td>\n",
              "      <td>...</td>\n",
              "      <td>-0.000100</td>\n",
              "      <td>0.000074</td>\n",
              "      <td>-0.000579</td>\n",
              "      <td>0.006061</td>\n",
              "      <td>0.000074</td>\n",
              "      <td>0.000010</td>\n",
              "      <td>0.000219</td>\n",
              "      <td>-0.000012</td>\n",
              "      <td>-0.000287</td>\n",
              "      <td>0.000034</td>\n",
              "    </tr>\n",
              "    <tr>\n",
              "      <th>PC2</th>\n",
              "      <td>0.003505</td>\n",
              "      <td>-0.231482</td>\n",
              "      <td>0.002367</td>\n",
              "      <td>0.000418</td>\n",
              "      <td>0.000378</td>\n",
              "      <td>0.972737</td>\n",
              "      <td>0.001848</td>\n",
              "      <td>-0.008460</td>\n",
              "      <td>-0.001269</td>\n",
              "      <td>0.000069</td>\n",
              "      <td>...</td>\n",
              "      <td>0.000312</td>\n",
              "      <td>0.000155</td>\n",
              "      <td>-0.000199</td>\n",
              "      <td>0.003505</td>\n",
              "      <td>0.000155</td>\n",
              "      <td>-0.000038</td>\n",
              "      <td>0.000538</td>\n",
              "      <td>0.000215</td>\n",
              "      <td>0.000178</td>\n",
              "      <td>0.000643</td>\n",
              "    </tr>\n",
              "  </tbody>\n",
              "</table>\n",
              "<p>2 rows × 43 columns</p>\n",
              "</div>\n",
              "    <div class=\"colab-df-buttons\">\n",
              "\n",
              "  <div class=\"colab-df-container\">\n",
              "    <button class=\"colab-df-convert\" onclick=\"convertToInteractive('df-81be13d3-5e53-4e22-a177-b761b35004d0')\"\n",
              "            title=\"Convert this dataframe to an interactive table.\"\n",
              "            style=\"display:none;\">\n",
              "\n",
              "  <svg xmlns=\"http://www.w3.org/2000/svg\" height=\"24px\" viewBox=\"0 -960 960 960\">\n",
              "    <path d=\"M120-120v-720h720v720H120Zm60-500h600v-160H180v160Zm220 220h160v-160H400v160Zm0 220h160v-160H400v160ZM180-400h160v-160H180v160Zm440 0h160v-160H620v160ZM180-180h160v-160H180v160Zm440 0h160v-160H620v160Z\"/>\n",
              "  </svg>\n",
              "    </button>\n",
              "\n",
              "  <style>\n",
              "    .colab-df-container {\n",
              "      display:flex;\n",
              "      gap: 12px;\n",
              "    }\n",
              "\n",
              "    .colab-df-convert {\n",
              "      background-color: #E8F0FE;\n",
              "      border: none;\n",
              "      border-radius: 50%;\n",
              "      cursor: pointer;\n",
              "      display: none;\n",
              "      fill: #1967D2;\n",
              "      height: 32px;\n",
              "      padding: 0 0 0 0;\n",
              "      width: 32px;\n",
              "    }\n",
              "\n",
              "    .colab-df-convert:hover {\n",
              "      background-color: #E2EBFA;\n",
              "      box-shadow: 0px 1px 2px rgba(60, 64, 67, 0.3), 0px 1px 3px 1px rgba(60, 64, 67, 0.15);\n",
              "      fill: #174EA6;\n",
              "    }\n",
              "\n",
              "    .colab-df-buttons div {\n",
              "      margin-bottom: 4px;\n",
              "    }\n",
              "\n",
              "    [theme=dark] .colab-df-convert {\n",
              "      background-color: #3B4455;\n",
              "      fill: #D2E3FC;\n",
              "    }\n",
              "\n",
              "    [theme=dark] .colab-df-convert:hover {\n",
              "      background-color: #434B5C;\n",
              "      box-shadow: 0px 1px 3px 1px rgba(0, 0, 0, 0.15);\n",
              "      filter: drop-shadow(0px 1px 2px rgba(0, 0, 0, 0.3));\n",
              "      fill: #FFFFFF;\n",
              "    }\n",
              "  </style>\n",
              "\n",
              "    <script>\n",
              "      const buttonEl =\n",
              "        document.querySelector('#df-81be13d3-5e53-4e22-a177-b761b35004d0 button.colab-df-convert');\n",
              "      buttonEl.style.display =\n",
              "        google.colab.kernel.accessAllowed ? 'block' : 'none';\n",
              "\n",
              "      async function convertToInteractive(key) {\n",
              "        const element = document.querySelector('#df-81be13d3-5e53-4e22-a177-b761b35004d0');\n",
              "        const dataTable =\n",
              "          await google.colab.kernel.invokeFunction('convertToInteractive',\n",
              "                                                    [key], {});\n",
              "        if (!dataTable) return;\n",
              "\n",
              "        const docLinkHtml = 'Like what you see? Visit the ' +\n",
              "          '<a target=\"_blank\" href=https://colab.research.google.com/notebooks/data_table.ipynb>data table notebook</a>'\n",
              "          + ' to learn more about interactive tables.';\n",
              "        element.innerHTML = '';\n",
              "        dataTable['output_type'] = 'display_data';\n",
              "        await google.colab.output.renderOutput(dataTable, element);\n",
              "        const docLink = document.createElement('div');\n",
              "        docLink.innerHTML = docLinkHtml;\n",
              "        element.appendChild(docLink);\n",
              "      }\n",
              "    </script>\n",
              "  </div>\n",
              "\n",
              "\n",
              "<div id=\"df-ca8297df-5649-47da-9344-6b5a2fd55e95\">\n",
              "  <button class=\"colab-df-quickchart\" onclick=\"quickchart('df-ca8297df-5649-47da-9344-6b5a2fd55e95')\"\n",
              "            title=\"Suggest charts\"\n",
              "            style=\"display:none;\">\n",
              "\n",
              "<svg xmlns=\"http://www.w3.org/2000/svg\" height=\"24px\"viewBox=\"0 0 24 24\"\n",
              "     width=\"24px\">\n",
              "    <g>\n",
              "        <path d=\"M19 3H5c-1.1 0-2 .9-2 2v14c0 1.1.9 2 2 2h14c1.1 0 2-.9 2-2V5c0-1.1-.9-2-2-2zM9 17H7v-7h2v7zm4 0h-2V7h2v10zm4 0h-2v-4h2v4z\"/>\n",
              "    </g>\n",
              "</svg>\n",
              "  </button>\n",
              "\n",
              "<style>\n",
              "  .colab-df-quickchart {\n",
              "      --bg-color: #E8F0FE;\n",
              "      --fill-color: #1967D2;\n",
              "      --hover-bg-color: #E2EBFA;\n",
              "      --hover-fill-color: #174EA6;\n",
              "      --disabled-fill-color: #AAA;\n",
              "      --disabled-bg-color: #DDD;\n",
              "  }\n",
              "\n",
              "  [theme=dark] .colab-df-quickchart {\n",
              "      --bg-color: #3B4455;\n",
              "      --fill-color: #D2E3FC;\n",
              "      --hover-bg-color: #434B5C;\n",
              "      --hover-fill-color: #FFFFFF;\n",
              "      --disabled-bg-color: #3B4455;\n",
              "      --disabled-fill-color: #666;\n",
              "  }\n",
              "\n",
              "  .colab-df-quickchart {\n",
              "    background-color: var(--bg-color);\n",
              "    border: none;\n",
              "    border-radius: 50%;\n",
              "    cursor: pointer;\n",
              "    display: none;\n",
              "    fill: var(--fill-color);\n",
              "    height: 32px;\n",
              "    padding: 0;\n",
              "    width: 32px;\n",
              "  }\n",
              "\n",
              "  .colab-df-quickchart:hover {\n",
              "    background-color: var(--hover-bg-color);\n",
              "    box-shadow: 0 1px 2px rgba(60, 64, 67, 0.3), 0 1px 3px 1px rgba(60, 64, 67, 0.15);\n",
              "    fill: var(--button-hover-fill-color);\n",
              "  }\n",
              "\n",
              "  .colab-df-quickchart-complete:disabled,\n",
              "  .colab-df-quickchart-complete:disabled:hover {\n",
              "    background-color: var(--disabled-bg-color);\n",
              "    fill: var(--disabled-fill-color);\n",
              "    box-shadow: none;\n",
              "  }\n",
              "\n",
              "  .colab-df-spinner {\n",
              "    border: 2px solid var(--fill-color);\n",
              "    border-color: transparent;\n",
              "    border-bottom-color: var(--fill-color);\n",
              "    animation:\n",
              "      spin 1s steps(1) infinite;\n",
              "  }\n",
              "\n",
              "  @keyframes spin {\n",
              "    0% {\n",
              "      border-color: transparent;\n",
              "      border-bottom-color: var(--fill-color);\n",
              "      border-left-color: var(--fill-color);\n",
              "    }\n",
              "    20% {\n",
              "      border-color: transparent;\n",
              "      border-left-color: var(--fill-color);\n",
              "      border-top-color: var(--fill-color);\n",
              "    }\n",
              "    30% {\n",
              "      border-color: transparent;\n",
              "      border-left-color: var(--fill-color);\n",
              "      border-top-color: var(--fill-color);\n",
              "      border-right-color: var(--fill-color);\n",
              "    }\n",
              "    40% {\n",
              "      border-color: transparent;\n",
              "      border-right-color: var(--fill-color);\n",
              "      border-top-color: var(--fill-color);\n",
              "    }\n",
              "    60% {\n",
              "      border-color: transparent;\n",
              "      border-right-color: var(--fill-color);\n",
              "    }\n",
              "    80% {\n",
              "      border-color: transparent;\n",
              "      border-right-color: var(--fill-color);\n",
              "      border-bottom-color: var(--fill-color);\n",
              "    }\n",
              "    90% {\n",
              "      border-color: transparent;\n",
              "      border-bottom-color: var(--fill-color);\n",
              "    }\n",
              "  }\n",
              "</style>\n",
              "\n",
              "  <script>\n",
              "    async function quickchart(key) {\n",
              "      const quickchartButtonEl =\n",
              "        document.querySelector('#' + key + ' button');\n",
              "      quickchartButtonEl.disabled = true;  // To prevent multiple clicks.\n",
              "      quickchartButtonEl.classList.add('colab-df-spinner');\n",
              "      try {\n",
              "        const charts = await google.colab.kernel.invokeFunction(\n",
              "            'suggestCharts', [key], {});\n",
              "      } catch (error) {\n",
              "        console.error('Error during call to suggestCharts:', error);\n",
              "      }\n",
              "      quickchartButtonEl.classList.remove('colab-df-spinner');\n",
              "      quickchartButtonEl.classList.add('colab-df-quickchart-complete');\n",
              "    }\n",
              "    (() => {\n",
              "      let quickchartButtonEl =\n",
              "        document.querySelector('#df-ca8297df-5649-47da-9344-6b5a2fd55e95 button');\n",
              "      quickchartButtonEl.style.display =\n",
              "        google.colab.kernel.accessAllowed ? 'block' : 'none';\n",
              "    })();\n",
              "  </script>\n",
              "</div>\n",
              "\n",
              "  <div id=\"id_d927b9cf-c45e-417b-90c7-fe9abc4f2072\">\n",
              "    <style>\n",
              "      .colab-df-generate {\n",
              "        background-color: #E8F0FE;\n",
              "        border: none;\n",
              "        border-radius: 50%;\n",
              "        cursor: pointer;\n",
              "        display: none;\n",
              "        fill: #1967D2;\n",
              "        height: 32px;\n",
              "        padding: 0 0 0 0;\n",
              "        width: 32px;\n",
              "      }\n",
              "\n",
              "      .colab-df-generate:hover {\n",
              "        background-color: #E2EBFA;\n",
              "        box-shadow: 0px 1px 2px rgba(60, 64, 67, 0.3), 0px 1px 3px 1px rgba(60, 64, 67, 0.15);\n",
              "        fill: #174EA6;\n",
              "      }\n",
              "\n",
              "      [theme=dark] .colab-df-generate {\n",
              "        background-color: #3B4455;\n",
              "        fill: #D2E3FC;\n",
              "      }\n",
              "\n",
              "      [theme=dark] .colab-df-generate:hover {\n",
              "        background-color: #434B5C;\n",
              "        box-shadow: 0px 1px 3px 1px rgba(0, 0, 0, 0.15);\n",
              "        filter: drop-shadow(0px 1px 2px rgba(0, 0, 0, 0.3));\n",
              "        fill: #FFFFFF;\n",
              "      }\n",
              "    </style>\n",
              "    <button class=\"colab-df-generate\" onclick=\"generateWithVariable('components_df')\"\n",
              "            title=\"Generate code using this dataframe.\"\n",
              "            style=\"display:none;\">\n",
              "\n",
              "  <svg xmlns=\"http://www.w3.org/2000/svg\" height=\"24px\"viewBox=\"0 0 24 24\"\n",
              "       width=\"24px\">\n",
              "    <path d=\"M7,19H8.4L18.45,9,17,7.55,7,17.6ZM5,21V16.75L18.45,3.32a2,2,0,0,1,2.83,0l1.4,1.43a1.91,1.91,0,0,1,.58,1.4,1.91,1.91,0,0,1-.58,1.4L9.25,21ZM18.45,9,17,7.55Zm-12,3A5.31,5.31,0,0,0,4.9,8.1,5.31,5.31,0,0,0,1,6.5,5.31,5.31,0,0,0,4.9,4.9,5.31,5.31,0,0,0,6.5,1,5.31,5.31,0,0,0,8.1,4.9,5.31,5.31,0,0,0,12,6.5,5.46,5.46,0,0,0,6.5,12Z\"/>\n",
              "  </svg>\n",
              "    </button>\n",
              "    <script>\n",
              "      (() => {\n",
              "      const buttonEl =\n",
              "        document.querySelector('#id_d927b9cf-c45e-417b-90c7-fe9abc4f2072 button.colab-df-generate');\n",
              "      buttonEl.style.display =\n",
              "        google.colab.kernel.accessAllowed ? 'block' : 'none';\n",
              "\n",
              "      buttonEl.onclick = () => {\n",
              "        google.colab.notebook.generateWithVariable('components_df');\n",
              "      }\n",
              "      })();\n",
              "    </script>\n",
              "  </div>\n",
              "\n",
              "    </div>\n",
              "  </div>\n"
            ],
            "text/plain": [
              "        brand     model  model_year    milage  fuel_type    engine  \\\n",
              "PC1  0.006061  0.972764    0.000282  0.000035   0.000117  0.231487   \n",
              "PC2  0.003505 -0.231482    0.002367  0.000418   0.000378  0.972737   \n",
              "\n",
              "     transmission   ext_col   int_col  accident  ...    hp*mil  AverageMilage  \\\n",
              "PC1      0.000563  0.007673  0.001991  0.000029  ... -0.000100       0.000074   \n",
              "PC2      0.001848 -0.008460 -0.001269  0.000069  ...  0.000312       0.000155   \n",
              "\n",
              "     BrandFreq  brand_count  brand_avg_mil  binned_milage  brand_class  \\\n",
              "PC1  -0.000579     0.006061       0.000074       0.000010     0.000219   \n",
              "PC2  -0.000199     0.003505       0.000155      -0.000038     0.000538   \n",
              "\n",
              "     log_milage      logL    logAge  \n",
              "PC1   -0.000012 -0.000287  0.000034  \n",
              "PC2    0.000215  0.000178  0.000643  \n",
              "\n",
              "[2 rows x 43 columns]"
            ]
          },
          "execution_count": 304,
          "metadata": {},
          "output_type": "execute_result"
        }
      ],
      "source": [
        "# See loadings\n",
        "\n",
        "# Get the principal components (PCs)\n",
        "components = pca.components_\n",
        "print(components.shape)\n",
        "\n",
        "# Create a DataFrame for easy visualization\n",
        "components_df = pd.DataFrame(components, columns=X_pca.columns, index=['PC1', 'PC2'])\n",
        "\n",
        "# Display the loadings (contributions of each feature to each component)\n",
        "components_df"
      ]
    },
    {
      "cell_type": "code",
      "execution_count": null,
      "metadata": {
        "id": "9B8JwBa1l2er"
      },
      "outputs": [],
      "source": [
        "me_en = np.where(X['engine'] != 0, X['model'] / X['engine'], 0)"
      ]
    },
    {
      "cell_type": "code",
      "execution_count": null,
      "metadata": {
        "id": "-3jHoU1wm05T"
      },
      "outputs": [],
      "source": [
        "me_bf = X['BrandFreq'] * X['engine']\n",
        "me_bf_mi = mutual_info_regression(pd.DataFrame(me_bf), y)"
      ]
    },
    {
      "cell_type": "code",
      "execution_count": null,
      "metadata": {
        "colab": {
          "base_uri": "https://localhost:8080/"
        },
        "id": "VXxXMk0cmK0b",
        "outputId": "4d186f33-a7ee-4498-98ac-6986b7f5e90d"
      },
      "outputs": [
        {
          "data": {
            "text/plain": [
              "array([0.42489782])"
            ]
          },
          "execution_count": 307,
          "metadata": {},
          "output_type": "execute_result"
        }
      ],
      "source": [
        "me_bf_mi"
      ]
    },
    {
      "cell_type": "code",
      "execution_count": null,
      "metadata": {
        "colab": {
          "base_uri": "https://localhost:8080/",
          "height": 447
        },
        "id": "Htgp4Z5KkDQw",
        "outputId": "065072cf-c34e-4dc1-c5aa-4a3529ed68fe"
      },
      "outputs": [
        {
          "data": {
            "text/plain": [
              "<matplotlib.collections.PathCollection at 0x7adef371d570>"
            ]
          },
          "execution_count": 308,
          "metadata": {},
          "output_type": "execute_result"
        },
        {
          "data": {
            "image/png": "[encoded data removed]",
            "text/plain": [
              "<Figure size 640x480 with 1 Axes>"
            ]
          },
          "metadata": {},
          "output_type": "display_data"
        }
      ],
      "source": [
        "plt.scatter(me_bf, y, c=X['engine'])"
      ]
    },
    {
      "cell_type": "code",
      "execution_count": null,
      "metadata": {
        "id": "gpzOm-_1n7eB"
      },
      "outputs": [],
      "source": [
        "X['me_bfr'] = me_bf\n",
        "test['me_bfr'] = test['BrandFreq'] * test['engine']"
      ]
    },
    {
      "cell_type": "code",
      "execution_count": null,
      "metadata": {
        "colab": {
          "base_uri": "https://localhost:8080/",
          "height": 451
        },
        "id": "QXwt_eTQeimR",
        "outputId": "e417a547-7c73-497e-c443-acf2012e6cc7"
      },
      "outputs": [
        {
          "data": {
            "text/plain": [
              "<matplotlib.collections.PathCollection at 0x7adf05c6f760>"
            ]
          },
          "execution_count": 310,
          "metadata": {},
          "output_type": "execute_result"
        },
        {
          "data": {
            "image/png": "[encoded data removed]",
            "text/plain": [
              "<Figure size 640x480 with 1 Axes>"
            ]
          },
          "metadata": {},
          "output_type": "display_data"
        }
      ],
      "source": [
        "plt.scatter(X['PC1'], X['PC2'])"
      ]
    },
    {
      "cell_type": "code",
      "execution_count": null,
      "metadata": {
        "colab": {
          "base_uri": "https://localhost:8080/",
          "height": 447
        },
        "id": "65afwEAOwwm3",
        "outputId": "8df611b1-1976-4b60-f98d-bf3df4608342"
      },
      "outputs": [
        {
          "data": {
            "text/plain": [
              "<matplotlib.collections.PathCollection at 0x7adf05cdb700>"
            ]
          },
          "execution_count": 311,
          "metadata": {},
          "output_type": "execute_result"
        },
        {
          "data": {
            "image/png": "[encoded data removed]",
            "text/plain": [
              "<Figure size 640x480 with 1 Axes>"
            ]
          },
          "metadata": {},
          "output_type": "display_data"
        }
      ],
      "source": [
        "plt.scatter(test['PC1'], test['PC2'])"
      ]
    },
    {
      "cell_type": "markdown",
      "metadata": {
        "id": "gOsY9EVdLtnk"
      },
      "source": [
        "#### K-means Clustering"
      ]
    },
    {
      "cell_type": "code",
      "execution_count": null,
      "metadata": {
        "id": "Zsrjd5UKXd9r"
      },
      "outputs": [],
      "source": [
        "# Add cluster feature\n",
        "c_scaler = StandardScaler()\n",
        "\n",
        "kmeans = KMeans(n_clusters=3, n_init=10)\n",
        "\n",
        "XC = [col for col in X.columns if col not in cleaner.categoricals]\n",
        "XC = X[XC]\n",
        "XC = c_scaler.fit_transform(XC)\n",
        "X['Cluster'] = kmeans.fit_predict(XC)\n",
        "X['Cluster'] = X['Cluster'].astype('int')\n",
        "\n",
        "test_conts = [col for col in test.columns if col not in test_cleaner.categoricals]\n",
        "test_conts = test[test_conts]\n",
        "test_conts = c_scaler.transform(test_conts)\n",
        "test['Cluster'] = kmeans.fit_predict(test_conts)\n",
        "test['Cluster'] = test['Cluster'].astype('int')"
      ]
    },
    {
      "cell_type": "code",
      "execution_count": null,
      "metadata": {
        "id": "SqqSY-7HVPyu"
      },
      "outputs": [],
      "source": [
        "cleaner.categoricals.extend(['Cluster'])\n",
        "test_cleaner.categoricals.extend(['Cluster'])"
      ]
    },
    {
      "cell_type": "markdown",
      "metadata": {
        "id": "B9uYbibaLplU"
      },
      "source": [
        "#### Output of a trained Ridge model as a feature"
      ]
    },
    {
      "cell_type": "code",
      "execution_count": null,
      "metadata": {
        "colab": {
          "base_uri": "https://localhost:8080/"
        },
        "id": "yRQmpmGFmgTx",
        "outputId": "fe33d131-59ee-4eb0-8d00-00c3fe3e3c7c"
      },
      "outputs": [
        {
          "name": "stdout",
          "output_type": "stream",
          "text": [
            "train error: 27194.020795081204\n"
          ]
        },
        {
          "name": "stderr",
          "output_type": "stream",
          "text": [
            "/usr/local/lib/python3.10/dist-packages/sklearn/linear_model/_ridge.py:216: LinAlgWarning: Ill-conditioned matrix (rcond=2.23482e-20): result may not be accurate.\n",
            "  return linalg.solve(A, Xy, assume_a=\"pos\", overwrite_a=True).T\n"
          ]
        }
      ],
      "source": [
        "r_model = Ridge(alpha=1)\n",
        "r_model.fit(X, y)\n",
        "\n",
        "print(f'train error: {np.sqrt(mean_squared_error(r_model.predict(X), y))}')\n",
        "\n",
        "X['r_predict'] = r_model.predict(X)\n",
        "test['r_predict'] = r_model.predict(test)"
      ]
    },
    {
      "cell_type": "code",
      "execution_count": null,
      "metadata": {
        "colab": {
          "base_uri": "https://localhost:8080/",
          "height": 88
        },
        "id": "hbqGrTXkQ7J2",
        "outputId": "b3e77f54-9fc0-45f9-ae13-0652f559239f"
      },
      "outputs": [
        {
          "data": {
            "application/vnd.google.colaboratory.intrinsic+json": {
              "type": "string"
            },
            "text/plain": [
              "\"cols = ['model', 'fuel_type', 'brand', 'int_col', 'ext_col', 'transmission', 'brand_class', 'Cluster',]\\n\\n# One-hot encoding\\nencoded_data = pd.get_dummies(X[cols].astype('str'))\\nX = pd.concat([X, encoded_data], axis=1)\\n\\n# Remove original encoded features\\nX = X.drop(cols, axis=1)\\n\\n# Update categoricals list in cleaner\\ncleaner.categoricals = [col for col in cleaner.categoricals if col not in cols]\\ncleaner.categoricals.extend(encoded_data.columns.tolist())\\nlen(cleaner.categoricals)\""
            ]
          },
          "execution_count": 315,
          "metadata": {},
          "output_type": "execute_result"
        }
      ],
      "source": [
        "'''cols = ['model', 'fuel_type', 'brand', 'int_col', 'ext_col', 'transmission', 'brand_class', 'Cluster',]\n",
        "\n",
        "# One-hot encoding\n",
        "encoded_data = pd.get_dummies(X[cols].astype('str'))\n",
        "X = pd.concat([X, encoded_data], axis=1)\n",
        "\n",
        "# Remove original encoded features\n",
        "X = X.drop(cols, axis=1)\n",
        "\n",
        "# Update categoricals list in cleaner\n",
        "cleaner.categoricals = [col for col in cleaner.categoricals if col not in cols]\n",
        "cleaner.categoricals.extend(encoded_data.columns.tolist())\n",
        "len(cleaner.categoricals)'''"
      ]
    },
    {
      "cell_type": "code",
      "execution_count": null,
      "metadata": {
        "colab": {
          "base_uri": "https://localhost:8080/"
        },
        "id": "IP2GdmNNJoAx",
        "outputId": "44449876-0074-4698-e741-451a74328611"
      },
      "outputs": [
        {
          "name": "stdout",
          "output_type": "stream",
          "text": [
            "brand              0\n",
            "model              0\n",
            "model_year         0\n",
            "milage             0\n",
            "fuel_type          0\n",
            "engine             0\n",
            "transmission       0\n",
            "ext_col            0\n",
            "int_col            0\n",
            "accident           0\n",
            "clean_title        0\n",
            "price              0\n",
            "automatic          0\n",
            "gears              0\n",
            "hp                 0\n",
            "L                  0\n",
            "cylinders          0\n",
            "electric           0\n",
            "valves             0\n",
            "hp/l               0\n",
            "mil/l              0\n",
            "mil/hp             0\n",
            "l/cyl              0\n",
            "hp/gears           0\n",
            "mil/gears          0\n",
            "mil/cyl            0\n",
            "hp*automatic       0\n",
            "cyl*gears          0\n",
            "carAge             0\n",
            "mil/year           0\n",
            "hp*accident        0\n",
            "accident*carAge    0\n",
            "acc*milage         0\n",
            "mil*carAge         0\n",
            "hp*mil             0\n",
            "AverageMilage      0\n",
            "BrandFreq          0\n",
            "brand_count        0\n",
            "brand_avg_mil      0\n",
            "binned_milage      0\n",
            "brand_class        0\n",
            "log_milage         0\n",
            "logL               0\n",
            "logAge             0\n",
            "dtype: int64 brand              0\n",
            "model              0\n",
            "model_year         0\n",
            "milage             0\n",
            "fuel_type          0\n",
            "engine             0\n",
            "transmission       0\n",
            "ext_col            0\n",
            "int_col            0\n",
            "accident           0\n",
            "clean_title        0\n",
            "automatic          0\n",
            "gears              0\n",
            "hp                 0\n",
            "L                  0\n",
            "cylinders          0\n",
            "electric           0\n",
            "valves             0\n",
            "hp/l               0\n",
            "mil/l              0\n",
            "mil/hp             0\n",
            "l/cyl              0\n",
            "hp/gears           0\n",
            "mil/gears          0\n",
            "mil/cyl            0\n",
            "hp*automatic       0\n",
            "cyl*gears          0\n",
            "carAge             0\n",
            "mil/year           0\n",
            "hp*accident        0\n",
            "accident*carAge    0\n",
            "acc*milage         0\n",
            "mil*carAge         0\n",
            "hp*mil             0\n",
            "AverageMilage      0\n",
            "BrandFreq          0\n",
            "brand_count        0\n",
            "brand_avg_mil      0\n",
            "binned_milage      0\n",
            "brand_class        0\n",
            "log_milage         0\n",
            "logL               0\n",
            "logAge             0\n",
            "PC1                0\n",
            "PC2                0\n",
            "me_bfr             0\n",
            "Cluster            0\n",
            "r_predict          0\n",
            "dtype: int64\n"
          ]
        }
      ],
      "source": [
        "print(df.isnull().sum(), test.isnull().sum())"
      ]
    },
    {
      "cell_type": "code",
      "execution_count": null,
      "metadata": {
        "colab": {
          "base_uri": "https://localhost:8080/"
        },
        "id": "crqZ1gnCGcd6",
        "outputId": "9aea0831-602b-4dad-bbbe-47e0f4c9ddcd"
      },
      "outputs": [
        {
          "name": "stdout",
          "output_type": "stream",
          "text": [
            "Features to be scaled: ['milage', 'hp', 'valves', 'hp/l', 'mil/l', 'mil/hp', 'l/cyl', 'hp/gears', 'mil/gears', 'mil/cyl', 'hp*automatic', 'cyl*gears', 'mil/year', 'hp*accident', 'accident*carAge', 'acc*milage', 'mil*carAge', 'hp*mil', 'AverageMilage', 'BrandFreq', 'brand_avg_mil', 'log_milage', 'logL', 'logAge', 'me_bfr', 'r_predict']\n"
          ]
        }
      ],
      "source": [
        "# Scale train continuos features\n",
        "continuos_features_to_scale = [col for col in X.columns if col not in cleaner.categoricals]\n",
        "print(f'Features to be scaled: {continuos_features_to_scale}')\n",
        "\n",
        "scalerTrain = StandardScaler()\n",
        "X[continuos_features_to_scale] = scalerTrain.fit_transform(X[continuos_features_to_scale])"
      ]
    },
    {
      "cell_type": "code",
      "execution_count": null,
      "metadata": {
        "colab": {
          "base_uri": "https://localhost:8080/"
        },
        "id": "MbKwdobOxYPN",
        "outputId": "ef778b4c-5c82-46c8-8ba1-3f1f2d84363b"
      },
      "outputs": [
        {
          "name": "stdout",
          "output_type": "stream",
          "text": [
            "Features to be scaled: ['milage', 'hp', 'valves', 'hp/l', 'mil/l', 'mil/hp', 'l/cyl', 'hp/gears', 'mil/gears', 'mil/cyl', 'hp*automatic', 'cyl*gears', 'mil/year', 'hp*accident', 'accident*carAge', 'acc*milage', 'mil*carAge', 'hp*mil', 'AverageMilage', 'BrandFreq', 'brand_avg_mil', 'log_milage', 'logL', 'logAge', 'me_bfr', 'r_predict']\n"
          ]
        }
      ],
      "source": [
        "# Scale test continuos features\n",
        "continuos_features_to_scale = [col for col in test.columns if col not in test_cleaner.categoricals]\n",
        "print(f'Features to be scaled: {continuos_features_to_scale}')\n",
        "\n",
        "test[continuos_features_to_scale] = scalerTrain.transform(test[continuos_features_to_scale])"
      ]
    },
    {
      "cell_type": "code",
      "execution_count": null,
      "metadata": {
        "id": "ykeJa7_ZIEl4"
      },
      "outputs": [],
      "source": [
        "selected_features = ['me_bfr', 'milage', 'log_milage', 'engine', 'mil*carAge', 'mil/cyl', 'mil/gears', 'hp/l', 'mil/hp', 'carAge', 'model_year', 'hp', 'logAge', 'PC1', 'hp/gears', 'r_predict', 'brand', 'model_year', 'milage', 'engine', 'transmission', 'ext_col', 'hp', 'valves', 'hp/l', 'mil/l', 'mil/hp', 'mil/gears', 'mil*carAge', 'AverageMilage', 'BrandFreq', 'brand_class', 'logAge', 'PC1', 'PC2', 'r_predict']"
      ]
    },
    {
      "cell_type": "code",
      "execution_count": null,
      "metadata": {
        "id": "QcarAeYpHm9L"
      },
      "outputs": [],
      "source": [
        "X = X[selected_features]"
      ]
    },
    {
      "cell_type": "code",
      "execution_count": null,
      "metadata": {
        "colab": {
          "base_uri": "https://localhost:8080/"
        },
        "id": "9l_KaFTDDJOk",
        "outputId": "02b9dd5c-4b58-406c-ac55-8e8deaf61db3"
      },
      "outputs": [
        {
          "name": "stdout",
          "output_type": "stream",
          "text": [
            "(169679, 36) (9427, 36)\n"
          ]
        }
      ],
      "source": [
        "X_train, X_, y_train, y_ = train_test_split(X, y, test_size=0.1, random_state=123)\n",
        "X_val, X_test, y_val, y_test = train_test_split(X_, y_, test_size=0.5, random_state=123)\n",
        "print(X_train.shape, X_test.shape)"
      ]
    },
    {
      "cell_type": "markdown",
      "source": [
        "### TensorFlow Neural Network"
      ],
      "metadata": {
        "id": "sQNzf82h3Hcp"
      }
    },
    {
      "cell_type": "code",
      "execution_count": null,
      "metadata": {
        "id": "4GtPuLx73Gaz"
      },
      "outputs": [],
      "source": [
        "# Define a custom RMSE metric\n",
        "def rmse(y_true, y_pred):\n",
        "    return tf.sqrt(tf.reduce_mean(tf.square(y_true - y_pred)))"
      ]
    },
    {
      "cell_type": "code",
      "execution_count": null,
      "metadata": {
        "colab": {
          "base_uri": "https://localhost:8080/"
        },
        "id": "Z_IIGbXczSQd",
        "outputId": "994af03d-9f15-41e9-a6bf-f770864ee2e4"
      },
      "outputs": [
        {
          "name": "stdout",
          "output_type": "stream",
          "text": [
            "Epoch 1/5\n",
            "\u001b[1m5303/5303\u001b[0m \u001b[32m━━━━━━━━━━━━━━━━━━━━\u001b[0m\u001b[37m\u001b[0m \u001b[1m18s\u001b[0m 3ms/step - loss: 2183784192.0000 - rmse: 45340.7617 - val_loss: 1153764096.0000 - val_rmse: 32393.8008\n",
            "Epoch 2/5\n",
            "\u001b[1m5303/5303\u001b[0m \u001b[32m━━━━━━━━━━━━━━━━━━━━\u001b[0m\u001b[37m\u001b[0m \u001b[1m24s\u001b[0m 4ms/step - loss: 1564284544.0000 - rmse: 38264.1484 - val_loss: 1005753984.0000 - val_rmse: 30053.8750\n",
            "Epoch 3/5\n",
            "\u001b[1m5303/5303\u001b[0m \u001b[32m━━━━━━━━━━━━━━━━━━━━\u001b[0m\u001b[37m\u001b[0m \u001b[1m16s\u001b[0m 3ms/step - loss: 1478711296.0000 - rmse: 37226.7109 - val_loss: 973924224.0000 - val_rmse: 29556.0312\n",
            "Epoch 4/5\n",
            "\u001b[1m5303/5303\u001b[0m \u001b[32m━━━━━━━━━━━━━━━━━━━━\u001b[0m\u001b[37m\u001b[0m \u001b[1m18s\u001b[0m 3ms/step - loss: 1471521152.0000 - rmse: 37088.7344 - val_loss: 959811904.0000 - val_rmse: 29342.0547\n",
            "Epoch 5/5\n",
            "\u001b[1m5303/5303\u001b[0m \u001b[32m━━━━━━━━━━━━━━━━━━━━\u001b[0m\u001b[37m\u001b[0m \u001b[1m23s\u001b[0m 4ms/step - loss: 1472539520.0000 - rmse: 37093.0156 - val_loss: 974661824.0000 - val_rmse: 29592.3125\n"
          ]
        }
      ],
      "source": [
        "model = tf.keras.models.Sequential([\n",
        "    tf.keras.layers.Dense(20, activation='relu', kernel_regularizer=tf.keras.regularizers.L2(2)),\n",
        "    tf.keras.layers.Dropout(0.5),\n",
        "    tf.keras.layers.Dense(3, kernel_regularizer=tf.keras.regularizers.L2(2)),\n",
        "    tf.keras.layers.Dropout(0.5),\n",
        "    tf.keras.layers.Dense(1),\n",
        "])\n",
        "\n",
        "model.compile(loss='mse', optimizer=tf.keras.optimizers.Adam(), metrics=[rmse])\n",
        "\n",
        "history = model.fit(X_train, y_train, validation_data=(X_val, y_val), epochs=5)"
      ]
    },
    {
      "cell_type": "code",
      "execution_count": null,
      "metadata": {
        "colab": {
          "base_uri": "https://localhost:8080/",
          "height": 450
        },
        "id": "wmyGoWU_2P2b",
        "outputId": "2cd26c04-91ba-4003-fe77-908d80cefcf1"
      },
      "outputs": [
        {
          "data": {
            "text/plain": [
              "[<matplotlib.lines.Line2D at 0x7a41008f1b10>]"
            ]
          },
          "execution_count": 188,
          "metadata": {},
          "output_type": "execute_result"
        },
        {
          "data": {
            "image/png": "[encoded data removed]",
            "text/plain": [
              "<Figure size 640x480 with 1 Axes>"
            ]
          },
          "metadata": {},
          "output_type": "display_data"
        }
      ],
      "source": [
        "t_loss = np.sqrt(history.history['loss'])\n",
        "v_loss = np.sqrt(history.history['val_loss'])\n",
        "plt.plot(t_loss, c='r')\n",
        "plt.plot(v_loss, c='b')"
      ]
    },
    {
      "cell_type": "code",
      "execution_count": null,
      "metadata": {
        "colab": {
          "base_uri": "https://localhost:8080/"
        },
        "id": "Es0dUJ20JXrt",
        "outputId": "48c8735e-181a-4535-f4b5-79bc268a5174"
      },
      "outputs": [
        {
          "name": "stdout",
          "output_type": "stream",
          "text": [
            "\u001b[1m295/295\u001b[0m \u001b[32m━━━━━━━━━━━━━━━━━━━━\u001b[0m\u001b[37m\u001b[0m \u001b[1m0s\u001b[0m 1ms/step - loss: 1031210176.0000 - rmse: 30297.6680\n",
            "Test RMSE Loss: [30947.6150939    171.28100769]\n"
          ]
        }
      ],
      "source": [
        "test_loss = model.evaluate(X_test, y_test)\n",
        "print(f'Test RMSE Loss: {np.sqrt(test_loss)}')"
      ]
    },
    {
      "cell_type": "markdown",
      "source": [
        "### XGB Regressor Model"
      ],
      "metadata": {
        "id": "xHzuQtNh3CkJ"
      }
    },
    {
      "cell_type": "code",
      "execution_count": null,
      "metadata": {
        "id": "1oeU4FIBBFir"
      },
      "outputs": [],
      "source": [
        "x_train = X_train.values\n",
        "y_train = y_train.values\n",
        "x_cv = X_val.values\n",
        "y_cv = y_val.values\n",
        "x_test = X_test.values\n",
        "y_test = y_test.values"
      ]
    },
    {
      "cell_type": "code",
      "execution_count": null,
      "metadata": {
        "id": "HX1kws0f8a3f"
      },
      "outputs": [],
      "source": [
        "xgb_model = XGBRegressor(learning_rate= 0.1,\n",
        "                        max_depth = 4,\n",
        "                        n_estimators = 900,\n",
        "                        enable_categorical=True,\n",
        "                        subsample= 0.7,\n",
        "                        reg_lambda=0.8,\n",
        "                     )"
      ]
    },
    {
      "cell_type": "code",
      "execution_count": null,
      "metadata": {
        "colab": {
          "background_save": true
        },
        "id": "WLCyh4EQ4p5r",
        "outputId": "5aa41409-f6c5-405e-8b44-b221e4cd89dc"
      },
      "outputs": [
        {
          "data": {
            "text/plain": [
              "[<matplotlib.lines.Line2D at 0x7adf0aa28130>]"
            ]
          },
          "execution_count": 325,
          "metadata": {},
          "output_type": "execute_result"
        },
        {
          "data": {
            "image/png": "[encoded data removed]",
            "text/plain": [
              "<Figure size 640x480 with 1 Axes>"
            ]
          },
          "metadata": {},
          "output_type": "display_data"
        }
      ],
      "source": [
        "rates = [0.001, 0.003, 0.005, 0.007, 0.01, 0.05, 0.07, 0.1, 0.5, 0.7, 1.0]\n",
        "cv = []\n",
        "tr = []\n",
        "\n",
        "for rate in rates:\n",
        "    xgb_model = XGBRegressor(learning_rate= rate,\n",
        "                        max_depth = 4,\n",
        "                        n_estimators = 900,\n",
        "                        enable_categorical=True,\n",
        "                        subsample= 0.7,\n",
        "                        reg_lambda=0.8,\n",
        "                     )\n",
        "    xgb_model.fit(x_train, y_train)\n",
        "    ypred = xgb_model.predict(x_train)\n",
        "    xgb_train_mse = mean_squared_error(y_train, ypred)\n",
        "    tr.append(np.sqrt(xgb_train_mse))\n",
        "\n",
        "    ypred = xgb_model.predict(x_cv)\n",
        "    xgb_cv_mse = mean_squared_error(y_cv, ypred)\n",
        "    cv.append(np.sqrt(xgb_cv_mse))\n",
        "plt.plot(rates, tr, c='r')\n",
        "plt.plot(rates, cv, c='b')\n"
      ]
    },
    {
      "cell_type": "code",
      "execution_count": null,
      "metadata": {
        "colab": {
          "base_uri": "https://localhost:8080/"
        },
        "id": "tNjUyF2s5uKt",
        "outputId": "703b47c4-ba7b-4e50-b8d2-72b21d27a77f"
      },
      "outputs": [
        {
          "data": {
            "text/plain": [
              "0.05"
            ]
          },
          "execution_count": 141,
          "metadata": {},
          "output_type": "execute_result"
        }
      ],
      "source": [
        "rates[np.argmin(cv)]"
      ]
    },
    {
      "cell_type": "code",
      "execution_count": null,
      "metadata": {
        "colab": {
          "base_uri": "https://localhost:8080/",
          "height": 447
        },
        "id": "eSyJoPQp6Nyg",
        "outputId": "f1faadf0-1e48-4619-fdb9-ff8d6d6b0149"
      },
      "outputs": [
        {
          "data": {
            "text/plain": [
              "[<matplotlib.lines.Line2D at 0x7adef4b7c160>]"
            ]
          },
          "execution_count": 142,
          "metadata": {},
          "output_type": "execute_result"
        },
        {
          "data": {
            "image/png": "[encoded data removed]",
            "text/plain": [
              "<Figure size 640x480 with 1 Axes>"
            ]
          },
          "metadata": {},
          "output_type": "display_data"
        }
      ],
      "source": [
        "rates = [2, 3, 4, 5, 6]\n",
        "cv = []\n",
        "tr = []\n",
        "\n",
        "for rate in rates:\n",
        "    xgb_model = XGBRegressor(learning_rate= 0.05,\n",
        "                        max_depth = rate,\n",
        "                        n_estimators = 900,\n",
        "                        enable_categorical=True,\n",
        "                        subsample= 0.7,\n",
        "                        reg_lambda=0.8,\n",
        "                     )\n",
        "    xgb_model.fit(x_train, y_train)\n",
        "    ypred = xgb_model.predict(x_train)\n",
        "    xgb_train_mse = mean_squared_error(y_train, ypred)\n",
        "    tr.append(np.sqrt(xgb_train_mse))\n",
        "\n",
        "    ypred = xgb_model.predict(x_cv)\n",
        "    xgb_cv_mse = mean_squared_error(y_cv, ypred)\n",
        "    cv.append(np.sqrt(xgb_cv_mse))\n",
        "plt.plot(rates, tr, c='r')\n",
        "plt.plot(rates, cv, c='b')\n"
      ]
    },
    {
      "cell_type": "code",
      "execution_count": null,
      "metadata": {
        "colab": {
          "base_uri": "https://localhost:8080/"
        },
        "id": "aSlKQIwp6Uqk",
        "outputId": "7382a078-e9bf-422f-9e2e-cfe6744f6ac6"
      },
      "outputs": [
        {
          "data": {
            "text/plain": [
              "4"
            ]
          },
          "execution_count": 143,
          "metadata": {},
          "output_type": "execute_result"
        }
      ],
      "source": [
        "rates[np.argmin(cv)]"
      ]
    },
    {
      "cell_type": "code",
      "execution_count": null,
      "metadata": {
        "colab": {
          "base_uri": "https://localhost:8080/",
          "height": 447
        },
        "id": "p1I0yWp66mZB",
        "outputId": "996e7af5-550f-4895-b09c-27be7a917215"
      },
      "outputs": [
        {
          "data": {
            "text/plain": [
              "[<matplotlib.lines.Line2D at 0x7adeffd6ebf0>]"
            ]
          },
          "execution_count": 146,
          "metadata": {},
          "output_type": "execute_result"
        },
        {
          "data": {
            "image/png": "[encoded data removed]",
            "text/plain": [
              "<Figure size 640x480 with 1 Axes>"
            ]
          },
          "metadata": {},
          "output_type": "display_data"
        }
      ],
      "source": [
        "rates = [0.3, 0.5, 0.6, 0.7, 0.8, 0.9, 1.0]\n",
        "cv = []\n",
        "tr = []\n",
        "\n",
        "for rate in rates:\n",
        "    xgb_model = XGBRegressor(learning_rate= 0.05,\n",
        "                        max_depth = 4,\n",
        "                        n_estimators = 500,\n",
        "                        enable_categorical=True,\n",
        "                        subsample= rate,\n",
        "                        reg_lambda=0.8,\n",
        "                     )\n",
        "    xgb_model.fit(x_train, y_train)\n",
        "    ypred = xgb_model.predict(x_train)\n",
        "    xgb_train_mse = mean_squared_error(y_train, ypred)\n",
        "    tr.append(np.sqrt(xgb_train_mse))\n",
        "\n",
        "    ypred = xgb_model.predict(x_cv)\n",
        "    xgb_cv_mse = mean_squared_error(y_cv, ypred)\n",
        "    cv.append(np.sqrt(xgb_cv_mse))\n",
        "plt.plot(rates, tr, c='r')\n",
        "plt.plot(rates, cv, c='b')\n"
      ]
    },
    {
      "cell_type": "code",
      "execution_count": null,
      "metadata": {
        "colab": {
          "base_uri": "https://localhost:8080/"
        },
        "id": "N3AHrKXV7QPO",
        "outputId": "3ac76fde-e42a-4386-b1ee-3657eefe832d"
      },
      "outputs": [
        {
          "data": {
            "text/plain": [
              "0.9"
            ]
          },
          "execution_count": 147,
          "metadata": {},
          "output_type": "execute_result"
        }
      ],
      "source": [
        "rates[np.argmin(cv)]"
      ]
    },
    {
      "cell_type": "code",
      "execution_count": null,
      "metadata": {
        "colab": {
          "base_uri": "https://localhost:8080/",
          "height": 452
        },
        "id": "kLd9rpso7TVA",
        "outputId": "0272ab7d-d14e-4b89-fa26-477fe5773773"
      },
      "outputs": [
        {
          "data": {
            "text/plain": [
              "[<matplotlib.lines.Line2D at 0x7adefdfc3c40>]"
            ]
          },
          "execution_count": 148,
          "metadata": {},
          "output_type": "execute_result"
        },
        {
          "data": {
            "image/png": "[encoded data removed]",
            "text/plain": [
              "<Figure size 640x480 with 1 Axes>"
            ]
          },
          "metadata": {},
          "output_type": "display_data"
        }
      ],
      "source": [
        "rates = [0.3, 0.5, 0.6, 0.7, 0.8, 0.9, 1.0, 5.0, 10., 50., 100.]\n",
        "cv = []\n",
        "tr = []\n",
        "\n",
        "for rate in rates:\n",
        "    xgb_model = XGBRegressor(learning_rate= 0.05,\n",
        "                        max_depth = 4,\n",
        "                        n_estimators = 500,\n",
        "                        enable_categorical=True,\n",
        "                        subsample= 0.9,\n",
        "                        reg_lambda=rate,\n",
        "                     )\n",
        "    xgb_model.fit(x_train, y_train)\n",
        "    ypred = xgb_model.predict(x_train)\n",
        "    xgb_train_mse = mean_squared_error(y_train, ypred)\n",
        "    tr.append(np.sqrt(xgb_train_mse))\n",
        "\n",
        "    ypred = xgb_model.predict(x_cv)\n",
        "    xgb_cv_mse = mean_squared_error(y_cv, ypred)\n",
        "    cv.append(np.sqrt(xgb_cv_mse))\n",
        "plt.plot(rates, tr, c='r')\n",
        "plt.plot(rates, cv, c='b')\n"
      ]
    },
    {
      "cell_type": "code",
      "execution_count": null,
      "metadata": {
        "colab": {
          "base_uri": "https://localhost:8080/"
        },
        "id": "MH-aSMno72Vp",
        "outputId": "17ef1838-dfcc-49b0-9cac-2fed35778332"
      },
      "outputs": [
        {
          "data": {
            "text/plain": [
              "5.0"
            ]
          },
          "execution_count": 149,
          "metadata": {},
          "output_type": "execute_result"
        }
      ],
      "source": [
        "rates[np.argmin(cv)]"
      ]
    },
    {
      "cell_type": "code",
      "execution_count": null,
      "metadata": {
        "id": "sYlYkl1C7_KH"
      },
      "outputs": [],
      "source": [
        "xgb_model = XGBRegressor(learning_rate= 0.05,\n",
        "                        max_depth = 4,\n",
        "                        n_estimators = 500,\n",
        "                        enable_categorical=True,\n",
        "                        subsample= 0.9,\n",
        "                        reg_lambda=5.0,\n",
        "                     )"
      ]
    },
    {
      "cell_type": "code",
      "execution_count": null,
      "metadata": {
        "colab": {
          "base_uri": "https://localhost:8080/"
        },
        "id": "k40C7-_98tl9",
        "outputId": "107a0221-7dd8-4a51-a3b2-8a091e1cabbb"
      },
      "outputs": [
        {
          "data": {
            "text/plain": [
              "25326.619217770687"
            ]
          },
          "execution_count": 231,
          "metadata": {},
          "output_type": "execute_result"
        }
      ],
      "source": [
        "# Train model\n",
        "xgb_model.fit(x_train, y_train)\n",
        "\n",
        "# Calculate RMSE\n",
        "ypred = xgb_model.predict(x_train)\n",
        "xgb_train_mse = mean_squared_error(y_train, ypred)\n",
        "\n",
        "np.sqrt(xgb_train_mse)"
      ]
    },
    {
      "cell_type": "code",
      "execution_count": null,
      "metadata": {
        "colab": {
          "base_uri": "https://localhost:8080/"
        },
        "id": "Amsoo5wM9DGP",
        "outputId": "1b46aab3-0189-4c4f-ee85-b0dcea6feed2"
      },
      "outputs": [
        {
          "name": "stdout",
          "output_type": "stream",
          "text": [
            "train MSE: 25326.619217770687\n",
            "Validation MSE: 25651.7462809522\n",
            "Difference: 325.1271\n"
          ]
        }
      ],
      "source": [
        "ypred = xgb_model.predict(x_train)\n",
        "xgb_train_mse = mean_squared_error(y_train, ypred)\n",
        "xgb_train_mse = np.sqrt(xgb_train_mse)\n",
        "\n",
        "ypred = xgb_model.predict(x_cv)\n",
        "xgb_cv_mse = mean_squared_error(y_cv, ypred)\n",
        "xgb_cv_mse = np.sqrt(xgb_cv_mse)\n",
        "\n",
        "\n",
        "print(f'train MSE: {xgb_train_mse}\\nValidation MSE: {xgb_cv_mse}')\n",
        "print(f'Difference: {abs(xgb_train_mse - xgb_cv_mse):.4f}')\n"
      ]
    },
    {
      "cell_type": "code",
      "execution_count": null,
      "metadata": {
        "colab": {
          "base_uri": "https://localhost:8080/"
        },
        "id": "NmZbYlsg_ucj",
        "outputId": "06cbfb58-6b1c-4ae4-e2ea-128236516314"
      },
      "outputs": [
        {
          "data": {
            "text/plain": [
              "25889.89848918659"
            ]
          },
          "execution_count": 233,
          "metadata": {},
          "output_type": "execute_result"
        }
      ],
      "source": [
        "y_pred = xgb_model.predict(x_test)\n",
        "test_error = mean_squared_error(y_pred, y_test)\n",
        "np.sqrt(test_error)"
      ]
    },
    {
      "cell_type": "code",
      "execution_count": null,
      "metadata": {
        "colab": {
          "base_uri": "https://localhost:8080/",
          "height": 140
        },
        "id": "xg7VysPcG3wD",
        "outputId": "ff3dfa1c-0896-4488-eb0e-a089a5cad092"
      },
      "outputs": [
        {
          "data": {
            "application/vnd.google.colaboratory.intrinsic+json": {
              "type": "string"
            },
            "text/plain": [
              "'from sklearn.model_selection import RandomizedSearchCV\\n\\n# Define the parameter grid\\nparam_distributions = {\\n    \\'n_estimators\\': np.arange(100, 1000, 100),         # Number of trees\\n    \\'max_depth\\': np.arange(3, 10),                     # Tree depth\\n    \\'learning_rate\\': np.linspace(0.01, 0.3, 10),       # Learning rate (eta)\\n    \\'subsample\\': np.linspace(0.5, 1.0, 5),             # Subsample ratio\\n    \\'colsample_bytree\\': np.linspace(0.5, 1.0, 5),      # Column subsampling\\n    \\'gamma\\': np.linspace(0, 5, 10),                    # Minimum loss reduction\\n    \\'alpha\\': np.linspace(0, 1, 10),                    # L1 regularization\\n    \\'lambda\\': np.linspace(0, 1, 10)                    # L2 regularization\\n}\\n\\n# Initialize RandomizedSearchCV\\nrandom_search = RandomizedSearchCV(\\n    estimator=xgb_model,\\n    param_distributions=param_distributions,\\n    n_iter=50,                 # Number of random combinations to try\\n    scoring=\\'neg_mean_squared_error\\',  # Evaluation metric\\n    cv=3,                      # 3-fold cross-validation\\n    verbose=1,                 # Print progress\\n    random_state=42,           # Reproducibility\\n    n_jobs=-1,\\n)\\n\\n# Fit RandomizedSearchCV\\nrandom_search.fit(x_train, y_train)\\n\\n# Best parameters and score\\nprint(\"Best Parameters:\", random_search.best_params_)\\nprint(\"Best Score:\", random_search.best_score_)\\n'"
            ]
          },
          "execution_count": 298,
          "metadata": {},
          "output_type": "execute_result"
        }
      ],
      "source": [
        "'''from sklearn.model_selection import RandomizedSearchCV\n",
        "\n",
        "# Define the parameter grid\n",
        "param_distributions = {\n",
        "    'n_estimators': np.arange(100, 1000, 100),         # Number of trees\n",
        "    'max_depth': np.arange(3, 10),                     # Tree depth\n",
        "    'learning_rate': np.linspace(0.01, 0.3, 10),       # Learning rate (eta)\n",
        "    'subsample': np.linspace(0.5, 1.0, 5),             # Subsample ratio\n",
        "    'colsample_bytree': np.linspace(0.5, 1.0, 5),      # Column subsampling\n",
        "    'gamma': np.linspace(0, 5, 10),                    # Minimum loss reduction\n",
        "    'alpha': np.linspace(0, 1, 10),                    # L1 regularization\n",
        "    'lambda': np.linspace(0, 1, 10)                    # L2 regularization\n",
        "}\n",
        "\n",
        "# Initialize RandomizedSearchCV\n",
        "random_search = RandomizedSearchCV(\n",
        "    estimator=xgb_model,\n",
        "    param_distributions=param_distributions,\n",
        "    n_iter=50,                 # Number of random combinations to try\n",
        "    scoring='neg_mean_squared_error',  # Evaluation metric\n",
        "    cv=3,                      # 3-fold cross-validation\n",
        "    verbose=1,                 # Print progress\n",
        "    random_state=42,           # Reproducibility\n",
        "    n_jobs=-1,\n",
        ")\n",
        "\n",
        "# Fit RandomizedSearchCV\n",
        "random_search.fit(x_train, y_train)\n",
        "\n",
        "# Best parameters and score\n",
        "print(\"Best Parameters:\", random_search.best_params_)\n",
        "print(\"Best Score:\", random_search.best_score_)\n",
        "'''"
      ]
    },
    {
      "cell_type": "code",
      "execution_count": null,
      "metadata": {
        "id": "bqnnm5sHOVEh"
      },
      "outputs": [],
      "source": [
        "'''# Obtained by running RandomSearchCV for 23 mins with t4 gpu\n",
        "best_parameters= {'subsample': 0.875,\n",
        "                  'n_estimators': 900,\n",
        "                  'max_depth': 7,\n",
        "                  'learning_rate': 0.042222222222222223,\n",
        "                  'lambda': 100.0,\n",
        "                  'gamma': 1.6666666666666667,\n",
        "                  'colsample_bytree': 0.3,\n",
        "                  'alpha': 0.4444444444444444,\n",
        "                  'subsample': 0.3,\n",
        "                  'alpha':100,\n",
        "                  'min_child_weight':10,\n",
        "                     }\n",
        "s_model = XGBRegressor(**best_parameters)'''"
      ]
    },
    {
      "cell_type": "code",
      "execution_count": null,
      "metadata": {
        "colab": {
          "base_uri": "https://localhost:8080/",
          "height": 534
        },
        "id": "H0yXZ-d8EBEJ",
        "outputId": "0bdb6243-f6d5-47a1-952a-0239b856cf2c"
      },
      "outputs": [
        {
          "data": {
            "text/plain": [
              "(array([4.3870e+04, 5.1657e+04, 4.0557e+04, 1.9971e+04, 9.2690e+03,\n",
              "        2.7890e+03, 9.6400e+02, 4.6000e+02, 1.2400e+02, 1.8000e+01]),\n",
              " array([   472.20080566,  20304.10546875,  40136.01171875,  59967.9140625 ,\n",
              "         79799.8203125 ,  99631.7265625 , 119463.6328125 , 139295.53125   ,\n",
              "        159127.4375    , 178959.34375   , 198791.25      ]),\n",
              " <BarContainer object of 10 artists>)"
            ]
          },
          "execution_count": 235,
          "metadata": {},
          "output_type": "execute_result"
        },
        {
          "data": {
            "image/png": "[encoded data removed]",
            "text/plain": [
              "<Figure size 640x480 with 1 Axes>"
            ]
          },
          "metadata": {},
          "output_type": "display_data"
        }
      ],
      "source": [
        "train_pred = xgb_model.predict(x_train)\n",
        "plt.hist(y_train)\n",
        "plt.hist(train_pred)"
      ]
    },
    {
      "cell_type": "code",
      "execution_count": null,
      "metadata": {
        "id": "TZB66jZlJ3L_"
      },
      "outputs": [],
      "source": [
        "train_pred = xgb_model.predict(x_train)"
      ]
    },
    {
      "cell_type": "markdown",
      "source": [
        "### Submission"
      ],
      "metadata": {
        "id": "QbAbSLPW3ia4"
      }
    },
    {
      "cell_type": "code",
      "execution_count": null,
      "metadata": {
        "id": "k8__ZRAAyLa7"
      },
      "outputs": [],
      "source": [
        "pred = xgb_model.predict(test[selected_features].values).flatten()"
      ]
    },
    {
      "cell_type": "code",
      "execution_count": null,
      "metadata": {
        "id": "WJhzSNfoyRRT"
      },
      "outputs": [],
      "source": [
        "submision = pd.DataFrame({'id': id, 'price': pred})"
      ]
    },
    {
      "cell_type": "code",
      "execution_count": null,
      "metadata": {
        "id": "eQA8Cl_9yYZ8"
      },
      "outputs": [],
      "source": [
        "submision.to_csv('submission.csv', index=False)"
      ]
    },
    {
      "cell_type": "code",
      "execution_count": null,
      "metadata": {
        "colab": {
          "base_uri": "https://localhost:8080/",
          "height": 534
        },
        "id": "IxFAziL57p-C",
        "outputId": "facd6f1e-8fe4-4c08-f445-d037fe0cf7d4"
      },
      "outputs": [
        {
          "data": {
            "text/plain": [
              "(array([3.6764e+04, 3.5013e+04, 2.8636e+04, 1.3722e+04, 6.6490e+03,\n",
              "        3.2900e+03, 1.0290e+03, 4.2100e+02, 1.3800e+02, 2.8000e+01]),\n",
              " array([  2753.89746094,  21125.06640625,  39496.234375  ,  57867.40234375,\n",
              "         76238.5703125 ,  94609.734375  , 112980.90625   , 131352.078125  ,\n",
              "        149723.234375  , 168094.40625   , 186465.578125  ]),\n",
              " <BarContainer object of 10 artists>)"
            ]
          },
          "execution_count": 240,
          "metadata": {},
          "output_type": "execute_result"
        },
        {
          "data": {
            "image/png": "[encoded data removed]",
            "text/plain": [
              "<Figure size 640x480 with 1 Axes>"
            ]
          },
          "metadata": {},
          "output_type": "display_data"
        }
      ],
      "source": [
        "plt.hist(y_train)\n",
        "plt.hist(train_pred)\n",
        "plt.hist(pred)"
      ]
    },
    {
      "cell_type": "markdown",
      "source": [
        "### Thank you."
      ],
      "metadata": {
        "id": "4uK_uEtT3oRX"
      }
    },
    {
      "cell_type": "code",
      "source": [],
      "metadata": {
        "id": "QwcLI0oE3rUR"
      },
      "execution_count": null,
      "outputs": []
    }
  ],
  "metadata": {
    "accelerator": "GPU",
    "colab": {
      "gpuType": "T4",
      "provenance": [],
      "authorship_tag": "ABX9TyOE1SP/fKDWrUL92U0ZHJD0"
    },
    "kernelspec": {
      "display_name": "Python 3",
      "name": "python3"
    },
    "language_info": {
      "name": "python"
    }
  },
  "nbformat": 4,
  "nbformat_minor": 0
}