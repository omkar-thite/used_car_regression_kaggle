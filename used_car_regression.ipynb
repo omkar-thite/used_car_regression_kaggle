{
  "cells": [
    {
      "cell_type": "markdown",
      "metadata": {
        "id": "view-in-github",
        "colab_type": "text"
      },
      "source": [
        "<a href=\"https://colab.research.google.com/github/omkar-thite/used_car_regression_kaggle/blob/main/used_car_regression.ipynb\" target=\"_parent\"><img src=\"https://colab.research.google.com/assets/colab-badge.svg\" alt=\"Open In Colab\"/></a>"
      ]
    },
    {
      "cell_type": "code",
      "execution_count": 89,
      "metadata": {
        "id": "wPd6hEMjEHGh"
      },
      "outputs": [],
      "source": [
        "# Import required libraries\n",
        "import numpy as np\n",
        "import pandas as pd\n",
        "import re\n",
        "from sklearn.preprocessing import StandardScaler, PolynomialFeatures\n",
        "from sklearn.feature_selection import mutual_info_regression\n",
        "from sklearn.metrics import mean_squared_error\n",
        "from sklearn.model_selection import train_test_split, GridSearchCV, cross_val_score\n",
        "from sklearn.linear_model import LinearRegression, Ridge\n",
        "from sklearn.impute import SimpleImputer\n",
        "from sklearn.decomposition import PCA\n",
        "from xgboost import XGBRegressor\n",
        "import matplotlib.pyplot as plt\n",
        "import tensorflow as tf\n",
        "from sklearn.cluster import KMeans\n",
        "import shap\n",
        "import random"
      ]
    },
    {
      "cell_type": "code",
      "execution_count": 90,
      "metadata": {
        "id": "ziW1FOYBNIW5"
      },
      "outputs": [],
      "source": [
        "RANDOM_STATE = 35"
      ]
    },
    {
      "cell_type": "code",
      "execution_count": 91,
      "metadata": {
        "id": "Cl71m8KhMaJ5"
      },
      "outputs": [],
      "source": [
        "df = pd.read_csv('train.csv', delimiter=',')"
      ]
    },
    {
      "cell_type": "code",
      "execution_count": 92,
      "metadata": {
        "colab": {
          "base_uri": "https://localhost:8080/",
          "height": 466
        },
        "id": "3mFyDB_vMcUJ",
        "outputId": "f6e4157c-e66d-48e0-c224-6604f62c6131"
      },
      "outputs": [
        {
          "output_type": "execute_result",
          "data": {
            "text/plain": [
              "   id          brand              model  model_year  milage      fuel_type  \\\n",
              "0   0           MINI      Cooper S Base        2007  213000       Gasoline   \n",
              "1   1        Lincoln              LS V8        2002  143250       Gasoline   \n",
              "2   2      Chevrolet  Silverado 2500 LT        2002  136731  E85 Flex Fuel   \n",
              "3   3        Genesis   G90 5.0 Ultimate        2017   19500       Gasoline   \n",
              "4   4  Mercedes-Benz        Metris Base        2021    7388       Gasoline   \n",
              "\n",
              "                                              engine  \\\n",
              "0       172.0HP 1.6L 4 Cylinder Engine Gasoline Fuel   \n",
              "1       252.0HP 3.9L 8 Cylinder Engine Gasoline Fuel   \n",
              "2  320.0HP 5.3L 8 Cylinder Engine Flex Fuel Capab...   \n",
              "3       420.0HP 5.0L 8 Cylinder Engine Gasoline Fuel   \n",
              "4       208.0HP 2.0L 4 Cylinder Engine Gasoline Fuel   \n",
              "\n",
              "                     transmission ext_col int_col  \\\n",
              "0                             A/T  Yellow    Gray   \n",
              "1                             A/T  Silver   Beige   \n",
              "2                             A/T    Blue    Gray   \n",
              "3  Transmission w/Dual Shift Mode   Black   Black   \n",
              "4                     7-Speed A/T   Black   Beige   \n",
              "\n",
              "                                 accident clean_title  price  \n",
              "0                           None reported         Yes   4200  \n",
              "1  At least 1 accident or damage reported         Yes   4999  \n",
              "2                           None reported         Yes  13900  \n",
              "3                           None reported         Yes  45000  \n",
              "4                           None reported         Yes  97500  "
            ],
            "text/html": [
              "\n",
              "  <div id=\"df-3e1c5fed-a19e-4593-80dc-e23ad756ae83\" class=\"colab-df-container\">\n",
              "    <div>\n",
              "<style scoped>\n",
              "    .dataframe tbody tr th:only-of-type {\n",
              "        vertical-align: middle;\n",
              "    }\n",
              "\n",
              "    .dataframe tbody tr th {\n",
              "        vertical-align: top;\n",
              "    }\n",
              "\n",
              "    .dataframe thead th {\n",
              "        text-align: right;\n",
              "    }\n",
              "</style>\n",
              "<table border=\"1\" class=\"dataframe\">\n",
              "  <thead>\n",
              "    <tr style=\"text-align: right;\">\n",
              "      <th></th>\n",
              "      <th>id</th>\n",
              "      <th>brand</th>\n",
              "      <th>model</th>\n",
              "      <th>model_year</th>\n",
              "      <th>milage</th>\n",
              "      <th>fuel_type</th>\n",
              "      <th>engine</th>\n",
              "      <th>transmission</th>\n",
              "      <th>ext_col</th>\n",
              "      <th>int_col</th>\n",
              "      <th>accident</th>\n",
              "      <th>clean_title</th>\n",
              "      <th>price</th>\n",
              "    </tr>\n",
              "  </thead>\n",
              "  <tbody>\n",
              "    <tr>\n",
              "      <th>0</th>\n",
              "      <td>0</td>\n",
              "      <td>MINI</td>\n",
              "      <td>Cooper S Base</td>\n",
              "      <td>2007</td>\n",
              "      <td>213000</td>\n",
              "      <td>Gasoline</td>\n",
              "      <td>172.0HP 1.6L 4 Cylinder Engine Gasoline Fuel</td>\n",
              "      <td>A/T</td>\n",
              "      <td>Yellow</td>\n",
              "      <td>Gray</td>\n",
              "      <td>None reported</td>\n",
              "      <td>Yes</td>\n",
              "      <td>4200</td>\n",
              "    </tr>\n",
              "    <tr>\n",
              "      <th>1</th>\n",
              "      <td>1</td>\n",
              "      <td>Lincoln</td>\n",
              "      <td>LS V8</td>\n",
              "      <td>2002</td>\n",
              "      <td>143250</td>\n",
              "      <td>Gasoline</td>\n",
              "      <td>252.0HP 3.9L 8 Cylinder Engine Gasoline Fuel</td>\n",
              "      <td>A/T</td>\n",
              "      <td>Silver</td>\n",
              "      <td>Beige</td>\n",
              "      <td>At least 1 accident or damage reported</td>\n",
              "      <td>Yes</td>\n",
              "      <td>4999</td>\n",
              "    </tr>\n",
              "    <tr>\n",
              "      <th>2</th>\n",
              "      <td>2</td>\n",
              "      <td>Chevrolet</td>\n",
              "      <td>Silverado 2500 LT</td>\n",
              "      <td>2002</td>\n",
              "      <td>136731</td>\n",
              "      <td>E85 Flex Fuel</td>\n",
              "      <td>320.0HP 5.3L 8 Cylinder Engine Flex Fuel Capab...</td>\n",
              "      <td>A/T</td>\n",
              "      <td>Blue</td>\n",
              "      <td>Gray</td>\n",
              "      <td>None reported</td>\n",
              "      <td>Yes</td>\n",
              "      <td>13900</td>\n",
              "    </tr>\n",
              "    <tr>\n",
              "      <th>3</th>\n",
              "      <td>3</td>\n",
              "      <td>Genesis</td>\n",
              "      <td>G90 5.0 Ultimate</td>\n",
              "      <td>2017</td>\n",
              "      <td>19500</td>\n",
              "      <td>Gasoline</td>\n",
              "      <td>420.0HP 5.0L 8 Cylinder Engine Gasoline Fuel</td>\n",
              "      <td>Transmission w/Dual Shift Mode</td>\n",
              "      <td>Black</td>\n",
              "      <td>Black</td>\n",
              "      <td>None reported</td>\n",
              "      <td>Yes</td>\n",
              "      <td>45000</td>\n",
              "    </tr>\n",
              "    <tr>\n",
              "      <th>4</th>\n",
              "      <td>4</td>\n",
              "      <td>Mercedes-Benz</td>\n",
              "      <td>Metris Base</td>\n",
              "      <td>2021</td>\n",
              "      <td>7388</td>\n",
              "      <td>Gasoline</td>\n",
              "      <td>208.0HP 2.0L 4 Cylinder Engine Gasoline Fuel</td>\n",
              "      <td>7-Speed A/T</td>\n",
              "      <td>Black</td>\n",
              "      <td>Beige</td>\n",
              "      <td>None reported</td>\n",
              "      <td>Yes</td>\n",
              "      <td>97500</td>\n",
              "    </tr>\n",
              "  </tbody>\n",
              "</table>\n",
              "</div>\n",
              "    <div class=\"colab-df-buttons\">\n",
              "\n",
              "  <div class=\"colab-df-container\">\n",
              "    <button class=\"colab-df-convert\" onclick=\"convertToInteractive('df-3e1c5fed-a19e-4593-80dc-e23ad756ae83')\"\n",
              "            title=\"Convert this dataframe to an interactive table.\"\n",
              "            style=\"display:none;\">\n",
              "\n",
              "  <svg xmlns=\"http://www.w3.org/2000/svg\" height=\"24px\" viewBox=\"0 -960 960 960\">\n",
              "    <path d=\"M120-120v-720h720v720H120Zm60-500h600v-160H180v160Zm220 220h160v-160H400v160Zm0 220h160v-160H400v160ZM180-400h160v-160H180v160Zm440 0h160v-160H620v160ZM180-180h160v-160H180v160Zm440 0h160v-160H620v160Z\"/>\n",
              "  </svg>\n",
              "    </button>\n",
              "\n",
              "  <style>\n",
              "    .colab-df-container {\n",
              "      display:flex;\n",
              "      gap: 12px;\n",
              "    }\n",
              "\n",
              "    .colab-df-convert {\n",
              "      background-color: #E8F0FE;\n",
              "      border: none;\n",
              "      border-radius: 50%;\n",
              "      cursor: pointer;\n",
              "      display: none;\n",
              "      fill: #1967D2;\n",
              "      height: 32px;\n",
              "      padding: 0 0 0 0;\n",
              "      width: 32px;\n",
              "    }\n",
              "\n",
              "    .colab-df-convert:hover {\n",
              "      background-color: #E2EBFA;\n",
              "      box-shadow: 0px 1px 2px rgba(60, 64, 67, 0.3), 0px 1px 3px 1px rgba(60, 64, 67, 0.15);\n",
              "      fill: #174EA6;\n",
              "    }\n",
              "\n",
              "    .colab-df-buttons div {\n",
              "      margin-bottom: 4px;\n",
              "    }\n",
              "\n",
              "    [theme=dark] .colab-df-convert {\n",
              "      background-color: #3B4455;\n",
              "      fill: #D2E3FC;\n",
              "    }\n",
              "\n",
              "    [theme=dark] .colab-df-convert:hover {\n",
              "      background-color: #434B5C;\n",
              "      box-shadow: 0px 1px 3px 1px rgba(0, 0, 0, 0.15);\n",
              "      filter: drop-shadow(0px 1px 2px rgba(0, 0, 0, 0.3));\n",
              "      fill: #FFFFFF;\n",
              "    }\n",
              "  </style>\n",
              "\n",
              "    <script>\n",
              "      const buttonEl =\n",
              "        document.querySelector('#df-3e1c5fed-a19e-4593-80dc-e23ad756ae83 button.colab-df-convert');\n",
              "      buttonEl.style.display =\n",
              "        google.colab.kernel.accessAllowed ? 'block' : 'none';\n",
              "\n",
              "      async function convertToInteractive(key) {\n",
              "        const element = document.querySelector('#df-3e1c5fed-a19e-4593-80dc-e23ad756ae83');\n",
              "        const dataTable =\n",
              "          await google.colab.kernel.invokeFunction('convertToInteractive',\n",
              "                                                    [key], {});\n",
              "        if (!dataTable) return;\n",
              "\n",
              "        const docLinkHtml = 'Like what you see? Visit the ' +\n",
              "          '<a target=\"_blank\" href=https://colab.research.google.com/notebooks/data_table.ipynb>data table notebook</a>'\n",
              "          + ' to learn more about interactive tables.';\n",
              "        element.innerHTML = '';\n",
              "        dataTable['output_type'] = 'display_data';\n",
              "        await google.colab.output.renderOutput(dataTable, element);\n",
              "        const docLink = document.createElement('div');\n",
              "        docLink.innerHTML = docLinkHtml;\n",
              "        element.appendChild(docLink);\n",
              "      }\n",
              "    </script>\n",
              "  </div>\n",
              "\n",
              "\n",
              "<div id=\"df-453fe912-71aa-481c-b210-8ffc41f15a91\">\n",
              "  <button class=\"colab-df-quickchart\" onclick=\"quickchart('df-453fe912-71aa-481c-b210-8ffc41f15a91')\"\n",
              "            title=\"Suggest charts\"\n",
              "            style=\"display:none;\">\n",
              "\n",
              "<svg xmlns=\"http://www.w3.org/2000/svg\" height=\"24px\"viewBox=\"0 0 24 24\"\n",
              "     width=\"24px\">\n",
              "    <g>\n",
              "        <path d=\"M19 3H5c-1.1 0-2 .9-2 2v14c0 1.1.9 2 2 2h14c1.1 0 2-.9 2-2V5c0-1.1-.9-2-2-2zM9 17H7v-7h2v7zm4 0h-2V7h2v10zm4 0h-2v-4h2v4z\"/>\n",
              "    </g>\n",
              "</svg>\n",
              "  </button>\n",
              "\n",
              "<style>\n",
              "  .colab-df-quickchart {\n",
              "      --bg-color: #E8F0FE;\n",
              "      --fill-color: #1967D2;\n",
              "      --hover-bg-color: #E2EBFA;\n",
              "      --hover-fill-color: #174EA6;\n",
              "      --disabled-fill-color: #AAA;\n",
              "      --disabled-bg-color: #DDD;\n",
              "  }\n",
              "\n",
              "  [theme=dark] .colab-df-quickchart {\n",
              "      --bg-color: #3B4455;\n",
              "      --fill-color: #D2E3FC;\n",
              "      --hover-bg-color: #434B5C;\n",
              "      --hover-fill-color: #FFFFFF;\n",
              "      --disabled-bg-color: #3B4455;\n",
              "      --disabled-fill-color: #666;\n",
              "  }\n",
              "\n",
              "  .colab-df-quickchart {\n",
              "    background-color: var(--bg-color);\n",
              "    border: none;\n",
              "    border-radius: 50%;\n",
              "    cursor: pointer;\n",
              "    display: none;\n",
              "    fill: var(--fill-color);\n",
              "    height: 32px;\n",
              "    padding: 0;\n",
              "    width: 32px;\n",
              "  }\n",
              "\n",
              "  .colab-df-quickchart:hover {\n",
              "    background-color: var(--hover-bg-color);\n",
              "    box-shadow: 0 1px 2px rgba(60, 64, 67, 0.3), 0 1px 3px 1px rgba(60, 64, 67, 0.15);\n",
              "    fill: var(--button-hover-fill-color);\n",
              "  }\n",
              "\n",
              "  .colab-df-quickchart-complete:disabled,\n",
              "  .colab-df-quickchart-complete:disabled:hover {\n",
              "    background-color: var(--disabled-bg-color);\n",
              "    fill: var(--disabled-fill-color);\n",
              "    box-shadow: none;\n",
              "  }\n",
              "\n",
              "  .colab-df-spinner {\n",
              "    border: 2px solid var(--fill-color);\n",
              "    border-color: transparent;\n",
              "    border-bottom-color: var(--fill-color);\n",
              "    animation:\n",
              "      spin 1s steps(1) infinite;\n",
              "  }\n",
              "\n",
              "  @keyframes spin {\n",
              "    0% {\n",
              "      border-color: transparent;\n",
              "      border-bottom-color: var(--fill-color);\n",
              "      border-left-color: var(--fill-color);\n",
              "    }\n",
              "    20% {\n",
              "      border-color: transparent;\n",
              "      border-left-color: var(--fill-color);\n",
              "      border-top-color: var(--fill-color);\n",
              "    }\n",
              "    30% {\n",
              "      border-color: transparent;\n",
              "      border-left-color: var(--fill-color);\n",
              "      border-top-color: var(--fill-color);\n",
              "      border-right-color: var(--fill-color);\n",
              "    }\n",
              "    40% {\n",
              "      border-color: transparent;\n",
              "      border-right-color: var(--fill-color);\n",
              "      border-top-color: var(--fill-color);\n",
              "    }\n",
              "    60% {\n",
              "      border-color: transparent;\n",
              "      border-right-color: var(--fill-color);\n",
              "    }\n",
              "    80% {\n",
              "      border-color: transparent;\n",
              "      border-right-color: var(--fill-color);\n",
              "      border-bottom-color: var(--fill-color);\n",
              "    }\n",
              "    90% {\n",
              "      border-color: transparent;\n",
              "      border-bottom-color: var(--fill-color);\n",
              "    }\n",
              "  }\n",
              "</style>\n",
              "\n",
              "  <script>\n",
              "    async function quickchart(key) {\n",
              "      const quickchartButtonEl =\n",
              "        document.querySelector('#' + key + ' button');\n",
              "      quickchartButtonEl.disabled = true;  // To prevent multiple clicks.\n",
              "      quickchartButtonEl.classList.add('colab-df-spinner');\n",
              "      try {\n",
              "        const charts = await google.colab.kernel.invokeFunction(\n",
              "            'suggestCharts', [key], {});\n",
              "      } catch (error) {\n",
              "        console.error('Error during call to suggestCharts:', error);\n",
              "      }\n",
              "      quickchartButtonEl.classList.remove('colab-df-spinner');\n",
              "      quickchartButtonEl.classList.add('colab-df-quickchart-complete');\n",
              "    }\n",
              "    (() => {\n",
              "      let quickchartButtonEl =\n",
              "        document.querySelector('#df-453fe912-71aa-481c-b210-8ffc41f15a91 button');\n",
              "      quickchartButtonEl.style.display =\n",
              "        google.colab.kernel.accessAllowed ? 'block' : 'none';\n",
              "    })();\n",
              "  </script>\n",
              "</div>\n",
              "\n",
              "    </div>\n",
              "  </div>\n"
            ],
            "application/vnd.google.colaboratory.intrinsic+json": {
              "type": "dataframe",
              "variable_name": "df"
            }
          },
          "metadata": {},
          "execution_count": 92
        }
      ],
      "source": [
        "df.head()"
      ]
    },
    {
      "cell_type": "code",
      "source": [],
      "metadata": {
        "id": "eYObRUG61Wee"
      },
      "execution_count": 92,
      "outputs": []
    },
    {
      "cell_type": "code",
      "execution_count": 93,
      "metadata": {
        "colab": {
          "base_uri": "https://localhost:8080/"
        },
        "id": "W7AvSH1qgG08",
        "outputId": "2a27751d-723b-4eb5-9f91-9c942bda34bb"
      },
      "outputs": [
        {
          "output_type": "stream",
          "name": "stdout",
          "text": [
            "missing data: id                  0\n",
            "brand               0\n",
            "model               0\n",
            "model_year          0\n",
            "milage              0\n",
            "fuel_type        5083\n",
            "engine              0\n",
            "transmission        0\n",
            "ext_col             0\n",
            "int_col             0\n",
            "accident         2452\n",
            "clean_title     21419\n",
            "price               0\n",
            "dtype: int64\n"
          ]
        }
      ],
      "source": [
        "# Check for missing values\n",
        "print(f'missing data: {df.isnull().sum()}')"
      ]
    },
    {
      "cell_type": "code",
      "source": [
        "# Make price and milage float for furthur treatment\n",
        "df['price']=df['price'].astype('float')\n",
        "df['milage'] = df['milage'].astype('float')"
      ],
      "metadata": {
        "id": "cGpMg1VmSYXn"
      },
      "execution_count": 94,
      "outputs": []
    },
    {
      "cell_type": "code",
      "execution_count": 95,
      "metadata": {
        "id": "Bgzo_VffgflT"
      },
      "outputs": [],
      "source": [
        "# Treat missing initial categorical variables with mode imputer\n",
        "def df_missing_cat(df):\n",
        "    categorical_attributes = df.select_dtypes(include=[int, object]).columns.tolist()\n",
        "    print(f'categorical attributes: {categorical_attributes}')\n",
        "\n",
        "    categorical_data_missing = [attr for attr in categorical_attributes if df[attr].isnull().any()]\n",
        "    print(f'Missing categories: {categorical_data_missing}')\n",
        "\n",
        "    # Impute categorical features with mode\n",
        "    mode_imputer = SimpleImputer(strategy='most_frequent')\n",
        "    df[categorical_data_missing] = mode_imputer.fit_transform(df[categorical_data_missing])\n",
        "\n",
        "    return df"
      ]
    },
    {
      "cell_type": "code",
      "source": [
        "df = df_missing_cat(df)"
      ],
      "metadata": {
        "colab": {
          "base_uri": "https://localhost:8080/"
        },
        "id": "KeWQdrepN05n",
        "outputId": "853c8358-57d4-42ac-9d0e-0d82d4199a1b"
      },
      "execution_count": 96,
      "outputs": [
        {
          "output_type": "stream",
          "name": "stdout",
          "text": [
            "categorical attributes: ['id', 'brand', 'model', 'model_year', 'fuel_type', 'engine', 'transmission', 'ext_col', 'int_col', 'accident', 'clean_title']\n",
            "Missing categories: ['fuel_type', 'accident', 'clean_title']\n"
          ]
        }
      ]
    },
    {
      "cell_type": "code",
      "source": [
        "# Categorical: Int, object: Won't be scaled and will be applied mode Imputer\n",
        "# Continuos: Float, float64:  Will be Scaled, applied mean Imputer"
      ],
      "metadata": {
        "id": "aiCde4-2V2DG"
      },
      "execution_count": 97,
      "outputs": []
    },
    {
      "cell_type": "markdown",
      "source": [
        "# Feature Engineering"
      ],
      "metadata": {
        "id": "Z-WECcjlOQjS"
      }
    },
    {
      "cell_type": "markdown",
      "source": [
        "Functions to extract features from original dataset"
      ],
      "metadata": {
        "id": "XSOjmdI1OMfh"
      }
    },
    {
      "cell_type": "code",
      "execution_count": 98,
      "metadata": {
        "id": "CA5k9ZxmMezA"
      },
      "outputs": [],
      "source": [
        "# Categorical\n",
        "def get_automatic(string):\n",
        "    string = string.lower()\n",
        "    if 'a/t' in string or 'automatic' in string or 'at' in string:\n",
        "        return 1\n",
        "    else:\n",
        "        return 0"
      ]
    },
    {
      "cell_type": "code",
      "execution_count": 99,
      "metadata": {
        "id": "OCvnQF05MjD9"
      },
      "outputs": [],
      "source": [
        "# Categorical\n",
        "def get_gears(string):\n",
        "    match = re.search(r'^(\\d+)-Speed', string, re.IGNORECASE)\n",
        "    if match:\n",
        "        gears = match.group(1)\n",
        "        return int(gears)\n",
        "    else:\n",
        "        return None"
      ]
    },
    {
      "cell_type": "code",
      "execution_count": 100,
      "metadata": {
        "id": "wGCevIreKiVV"
      },
      "outputs": [],
      "source": [
        "# Contiunuos\n",
        "def get_hp(engine):\n",
        "    match = re.search(r'([\\d.]+)HP', engine, re.IGNORECASE)\n",
        "    if match:\n",
        "      return float(match.group(1))\n",
        "    else:\n",
        "      return None"
      ]
    },
    {
      "cell_type": "code",
      "execution_count": 101,
      "metadata": {
        "id": "h-z8CtAwLKn2"
      },
      "outputs": [],
      "source": [
        "# Continuos\n",
        "def get_L(engine):\n",
        "    match = re.search(r'([\\d.]+)L', engine, re.IGNORECASE)\n",
        "    if match:\n",
        "      return float(match.group(1))\n",
        "    else:\n",
        "      return None"
      ]
    },
    {
      "cell_type": "code",
      "execution_count": 102,
      "metadata": {
        "id": "xWby4y8cO7ao"
      },
      "outputs": [],
      "source": [
        "# Categorical\n",
        "def get_cyl(engine):\n",
        "    match = re.search(r'([\\d.]+)?\\s?(?:Cylinder|Cyl|Cylinders)', engine, re.IGNORECASE)\n",
        "    if match:\n",
        "      return int(match.group(1))\n",
        "    else:\n",
        "      return None"
      ]
    },
    {
      "cell_type": "code",
      "execution_count": 103,
      "metadata": {
        "id": "fsf--tACRYfP"
      },
      "outputs": [],
      "source": [
        "# Categorical\n",
        "def is_electric(engine):\n",
        "    if 'electric' in engine.lower():\n",
        "      return 1\n",
        "    else:\n",
        "      return 0"
      ]
    },
    {
      "cell_type": "code",
      "execution_count": 104,
      "metadata": {
        "id": "leWepmOjSCat"
      },
      "outputs": [],
      "source": [
        "# Continuos\n",
        "def num_valves(engine):\n",
        "    match = re.search(r'([\\d+])V', engine)\n",
        "    if match:\n",
        "      return float(match.group(1))\n",
        "    else:\n",
        "      return None"
      ]
    },
    {
      "cell_type": "code",
      "execution_count": 105,
      "metadata": {
        "id": "SMO0cml9MoIm"
      },
      "outputs": [],
      "source": [
        "# Categorical\n",
        "def is_accident(accident):\n",
        "    if type(accident) == str:\n",
        "        if 'accident' in accident.lower():\n",
        "          return 1\n",
        "        else:\n",
        "          return 0\n",
        "    else:\n",
        "        return None"
      ]
    },
    {
      "cell_type": "markdown",
      "source": [
        "Functions to extract featurs"
      ],
      "metadata": {
        "id": "D5AnQ3qgOwH7"
      }
    },
    {
      "cell_type": "code",
      "execution_count": 106,
      "metadata": {
        "id": "fJvDz5rDM3Sg"
      },
      "outputs": [],
      "source": [
        "# Create features and insert into dataframe\n",
        "def create_features(df):\n",
        "    ''' Returns dataframe with newly created features '''\n",
        "    df['automatic'] = df['transmission'].apply(get_automatic)\n",
        "    df['gears'] = df['transmission'].apply(get_gears)\n",
        "    df['hp'] = df['engine'].apply(get_hp)\n",
        "    df['L'] = df['engine'].apply(get_L)\n",
        "    df['cylinders'] = df['engine'].apply(get_cyl)\n",
        "    df['accident'] = df['accident'].apply(is_accident)\n",
        "    df['electric'] = df['engine'].apply(is_electric)\n",
        "    df['valves'] = df['engine'].apply(num_valves)\n",
        "    return df\n",
        "\n",
        "def create_interactions(df):\n",
        "    ''' Returns dataframe with newly created interaction features'''\n",
        "    df['hp/l'] = np.where(df['L'] != 0, df['hp'] / df['L'], None).astype('float')\n",
        "    df['mil/l'] = np.where(df['L'] != 0, df['milage'] / df['L'], None).astype('float')\n",
        "    df['mil/hp'] = np.where(df['hp'] != 0, df['milage'] / df['hp'], None).astype('float')\n",
        "    df['l/cyl'] = np.where(df['cylinders'] != 0, df['L'] / df['cylinders'], None).astype('float')\n",
        "    df['hp/gears'] = np.where(df['gears'] != 0, df['hp'] / df['gears'], None).astype('float')\n",
        "    df['mil/gears'] = np.where(df['gears'] != 0, df['milage'] / df['gears'], None).astype('float')\n",
        "    df['mil/cyl'] = np.where(df['cylinders'] != 0, df['milage'] / df['cylinders'], None).astype('float')\n",
        "\n",
        "    df['hp*automatic'] = df['hp'] * df['automatic']\n",
        "    df['cyl*gears'] = df['cylinders'] * df['gears']\n",
        "\n",
        "    df['carAge'] = df['model_year'] - 2024\n",
        "    df['mil/year'] = np.where(df['carAge'] != 0, df['milage'] / df['carAge'], None).astype('float')\n",
        "    df['hp*accident'] = df['hp'] * df['accident']\n",
        "    df['accident*carAge'] = df['accident'] * df['carAge']\n",
        "    df['acc*milage'] = df['accident'] * df['milage']\n",
        "\n",
        "    df['mil*carAge'] = df['milage'] * df['carAge']\n",
        "    df['hp*mil'] = df['hp'] * df['milage']\n",
        "    return df"
      ]
    },
    {
      "cell_type": "code",
      "execution_count": 107,
      "metadata": {
        "id": "29Sg5YusP3TF"
      },
      "outputs": [],
      "source": [
        "df = create_features(df)"
      ]
    },
    {
      "cell_type": "code",
      "source": [
        "# Create a list to track categorical variables\n",
        "# We will treat some suitable variables as categorical\n",
        "new_categoricals = list(df.select_dtypes(include=[int, object]).columns)\n",
        "new_categoricals.extend(['L', 'cylinders', 'gears'])\n",
        "new_categoricals.remove('id')\n",
        "new_categoricals"
      ],
      "metadata": {
        "colab": {
          "base_uri": "https://localhost:8080/"
        },
        "id": "p31KZOj05O-y",
        "outputId": "55568435-3ea5-4e87-da96-f1c82bad1e28"
      },
      "execution_count": 108,
      "outputs": [
        {
          "output_type": "execute_result",
          "data": {
            "text/plain": [
              "['brand',\n",
              " 'model',\n",
              " 'model_year',\n",
              " 'fuel_type',\n",
              " 'engine',\n",
              " 'transmission',\n",
              " 'ext_col',\n",
              " 'int_col',\n",
              " 'accident',\n",
              " 'clean_title',\n",
              " 'automatic',\n",
              " 'electric',\n",
              " 'L',\n",
              " 'cylinders',\n",
              " 'gears']"
            ]
          },
          "metadata": {},
          "execution_count": 108
        }
      ]
    },
    {
      "cell_type": "code",
      "source": [],
      "metadata": {
        "id": "XHDT7VWaLZEU"
      },
      "execution_count": 108,
      "outputs": []
    },
    {
      "cell_type": "markdown",
      "source": [
        "### Treat missing values of variables"
      ],
      "metadata": {
        "id": "P7TiTzu-91-b"
      }
    },
    {
      "cell_type": "code",
      "source": [
        "print(df.isnull().sum())"
      ],
      "metadata": {
        "colab": {
          "base_uri": "https://localhost:8080/"
        },
        "id": "l_dvC6iuIP9R",
        "outputId": "621b75ef-d3af-4ad7-9d81-cb27e2db753d"
      },
      "execution_count": 109,
      "outputs": [
        {
          "output_type": "stream",
          "name": "stdout",
          "text": [
            "id                   0\n",
            "brand                0\n",
            "model                0\n",
            "model_year           0\n",
            "milage               0\n",
            "fuel_type            0\n",
            "engine               0\n",
            "transmission         0\n",
            "ext_col              0\n",
            "int_col              0\n",
            "accident             0\n",
            "clean_title          0\n",
            "price                0\n",
            "automatic            0\n",
            "gears            84434\n",
            "hp               33259\n",
            "L                14214\n",
            "cylinders        37855\n",
            "electric             0\n",
            "valves          165115\n",
            "dtype: int64\n"
          ]
        }
      ]
    },
    {
      "cell_type": "code",
      "source": [
        "# Treat categorical missing values\n",
        "def df_missing_new_cat(df, new_categoricals):\n",
        "    ''' Applies mode imputer to categorical missing values '''\n",
        "    categorical_features_missing = [col for col in new_categoricals if df[col].isnull().any()]\n",
        "    print(f'Categorical missing features: {categorical_features_missing}')\n",
        "\n",
        "    mode_imputer = SimpleImputer(strategy='most_frequent')\n",
        "    df[categorical_features_missing] = mode_imputer.fit_transform(df[categorical_features_missing])\n",
        "    return df"
      ],
      "metadata": {
        "id": "rLeJrThA9URu"
      },
      "execution_count": 110,
      "outputs": []
    },
    {
      "cell_type": "code",
      "source": [
        "df = df_missing_new_cat(df, new_categoricals)\n",
        "print(df.isnull().sum())"
      ],
      "metadata": {
        "colab": {
          "base_uri": "https://localhost:8080/"
        },
        "id": "bxv8TqqFIaAj",
        "outputId": "fb2a2626-53dd-47f3-b01e-7199428db0b1"
      },
      "execution_count": 111,
      "outputs": [
        {
          "output_type": "stream",
          "name": "stdout",
          "text": [
            "Categorical missing features: ['L', 'cylinders', 'gears']\n",
            "id                   0\n",
            "brand                0\n",
            "model                0\n",
            "model_year           0\n",
            "milage               0\n",
            "fuel_type            0\n",
            "engine               0\n",
            "transmission         0\n",
            "ext_col              0\n",
            "int_col              0\n",
            "accident             0\n",
            "clean_title          0\n",
            "price                0\n",
            "automatic            0\n",
            "gears                0\n",
            "hp               33259\n",
            "L                    0\n",
            "cylinders            0\n",
            "electric             0\n",
            "valves          165115\n",
            "dtype: int64\n"
          ]
        }
      ]
    },
    {
      "cell_type": "code",
      "source": [
        "# Treat continuos missing values\n",
        "def df_missing_cont(df, new_categoricals):\n",
        "    ''' Applies mean imputer to continuos variables with missing values '''\n",
        "    continuos_features_missing = [col for col in df.columns if col not in new_categoricals and df[col].isnull().any()]\n",
        "    print(f'Missing continuos features: {continuos_features_missing}')\n",
        "\n",
        "    mean_imputer = SimpleImputer(strategy='mean')\n",
        "    df[continuos_features_missing] = mean_imputer.fit_transform(df[continuos_features_missing])\n",
        "    return df"
      ],
      "metadata": {
        "id": "JZRe7qon-RNZ"
      },
      "execution_count": 112,
      "outputs": []
    },
    {
      "cell_type": "code",
      "source": [
        "df = df_missing_cont(df, new_categoricals)"
      ],
      "metadata": {
        "colab": {
          "base_uri": "https://localhost:8080/"
        },
        "id": "Md786V20P4O6",
        "outputId": "4814e89d-038f-4bde-977a-ca6c697d3fa7"
      },
      "execution_count": 113,
      "outputs": [
        {
          "output_type": "stream",
          "name": "stdout",
          "text": [
            "Missing continuos features: ['hp', 'valves']\n"
          ]
        }
      ]
    },
    {
      "cell_type": "code",
      "source": [
        "print( df.isnull().sum())"
      ],
      "metadata": {
        "colab": {
          "base_uri": "https://localhost:8080/"
        },
        "id": "gR9a7tWn-FDe",
        "outputId": "768884b8-1543-4a9b-eddb-0037f839be3c"
      },
      "execution_count": 114,
      "outputs": [
        {
          "output_type": "stream",
          "name": "stdout",
          "text": [
            "id              0\n",
            "brand           0\n",
            "model           0\n",
            "model_year      0\n",
            "milage          0\n",
            "fuel_type       0\n",
            "engine          0\n",
            "transmission    0\n",
            "ext_col         0\n",
            "int_col         0\n",
            "accident        0\n",
            "clean_title     0\n",
            "price           0\n",
            "automatic       0\n",
            "gears           0\n",
            "hp              0\n",
            "L               0\n",
            "cylinders       0\n",
            "electric        0\n",
            "valves          0\n",
            "dtype: int64\n"
          ]
        }
      ]
    },
    {
      "cell_type": "markdown",
      "source": [
        "### Create Interaction features"
      ],
      "metadata": {
        "id": "-q3ZojAQ-uMg"
      }
    },
    {
      "cell_type": "code",
      "source": [
        "# Create interaction features\n",
        "df = create_interactions(df)"
      ],
      "metadata": {
        "id": "TSdin4u27VJo"
      },
      "execution_count": 115,
      "outputs": []
    },
    {
      "cell_type": "code",
      "source": [
        "# See milage distribution\n",
        "plt.hist(df['milage'], bins=200)\n",
        "plt.show();\n",
        "\n",
        "# milage is right skewed. Log transformation could be used.\n",
        "log_milage = np.log(df['milage'])\n",
        "plt.hist(log_milage, bins=200)\n",
        "plt.show()"
      ],
      "metadata": {
        "colab": {
          "base_uri": "https://localhost:8080/",
          "height": 843
        },
        "id": "5T-cGHn2K1wD",
        "outputId": "d784cb23-af1e-4c3f-baae-67eda2782c1f"
      },
      "execution_count": 116,
      "outputs": [
        {
          "output_type": "display_data",
          "data": {
            "text/plain": [
              "<Figure size 640x480 with 1 Axes>"
            ],
            "image/png": "[encoded data removed]"
          },
          "metadata": {}
        },
        {
          "output_type": "display_data",
          "data": {
            "text/plain": [
              "<Figure size 640x480 with 1 Axes>"
            ],
            "image/png": "[encoded data removed]"
          },
          "metadata": {}
        }
      ]
    },
    {
      "cell_type": "code",
      "source": [
        "# Add binning to milage and categorize ordinally\n",
        "\n",
        "# Get range of values\n",
        "print(np.min(df['milage']), np.max(df['milage']))\n",
        "\n",
        "bins = [99.0, 1000.0, 10000.0, 50000.0, 100000.0, 300000.0, 500000.0]\n",
        "\n",
        "binned_milage = pd.cut(df['milage'], bins, right=False)\n",
        "\n",
        "# mils_bins_category is dict of structure {interval: int} where int is increasing from 0 to 5: there are 6 Intervals\n",
        "mils_bins_category = {}\n",
        "for i in range(0, len(bins) - 1, 1):\n",
        "    mils_bins_category[pd.Interval(bins[i], bins[i+1], closed='left')] = i"
      ],
      "metadata": {
        "colab": {
          "base_uri": "https://localhost:8080/"
        },
        "id": "c0ccFjq8gQZz",
        "outputId": "b4dd8aa0-062c-434c-e253-a35612cfc976"
      },
      "execution_count": 117,
      "outputs": [
        {
          "output_type": "stream",
          "name": "stdout",
          "text": [
            "100.0 405000.0\n"
          ]
        }
      ]
    },
    {
      "cell_type": "code",
      "source": [
        "# Assign classes to brands according to their mean prices\n",
        "# Classes are of type int, ordinally categorized\n",
        "\n",
        "# Get range of values\n",
        "print(np.min(df['price']), np.max(df['price']))\n",
        "\n",
        "bins = [1000.0, 5000.0, 10000.0, 25000.0, 50000.0, 100000.0, 150000.0, 200000.0, 250000.0, 300000.0]\n",
        "\n",
        "binned_prices = pd.cut(df['price'], bins, right=False) # 9 Intervals\n",
        "\n",
        "# Create bins category mapping\n",
        "bins_category = {pd.Interval(bins[i], bins[i+1], closed='left'): i for i in range(len(bins) - 1)}\n",
        "\n",
        "# Create dict {'brand_name' : mean_price}\n",
        "brand_avg_price = df.groupby('brand')['price'].mean().to_dict()\n",
        "\n",
        "\n",
        "def get_class(mprice):\n",
        "    ''' Returns category of mean price\n",
        "    Args:\n",
        "    mprice(float) : Mean price\n",
        "    Returns:\n",
        "    category(int): Category of interval in which mrice lies\n",
        "    '''\n",
        "\n",
        "    for interval, category in bins_category.items():\n",
        "        if mprice in interval:\n",
        "          return category"
      ],
      "metadata": {
        "id": "r8g2RKT8Xf1G",
        "colab": {
          "base_uri": "https://localhost:8080/"
        },
        "outputId": "7bf51d94-1050-471e-85d4-b679dd45851f"
      },
      "execution_count": 118,
      "outputs": [
        {
          "output_type": "stream",
          "name": "stdout",
          "text": [
            "2000.0 2954083.0\n"
          ]
        }
      ]
    },
    {
      "cell_type": "code",
      "source": [
        "def additional_features(df):\n",
        "    df['AverageMilage'] = df.groupby(\"brand\")['milage'].transform('mean')\n",
        "    df['BrandFreq'] = df.groupby('brand')['brand'].transform('count')/df['brand'].count()\n",
        "\n",
        "    brand_count = df.groupby('brand')['brand'].count().to_dict() #{'brand_name' : mean_price}\n",
        "    df['brand_count'] = df['brand'].map(brand_count)\n",
        "\n",
        "    brand_avg_mil = df.groupby('brand')['milage'].mean().to_dict() #{'brand_name' : mean_price}\n",
        "    df['brand_avg_mil'] = df['brand'].map(brand_avg_mil)\n",
        "\n",
        "    df['binned_milage'] = binned_milage.map(lambda x: mils_bins_category[x])\n",
        "\n",
        "    brand_class = {brand: get_class(price) for brand, price in brand_avg_price.items()}\n",
        "    df['brand_class'] = df['brand'].map(lambda x: brand_class[x])\n",
        "\n",
        "    df['log_milage'] = np.log(df['milage'])\n",
        "\n",
        "\n",
        "    return df"
      ],
      "metadata": {
        "id": "9wcKpw3XW-Od"
      },
      "execution_count": 119,
      "outputs": []
    },
    {
      "cell_type": "code",
      "source": [
        "df = additional_features(df)"
      ],
      "metadata": {
        "id": "uTcE0Mus0480"
      },
      "execution_count": 120,
      "outputs": []
    },
    {
      "cell_type": "markdown",
      "source": [],
      "metadata": {
        "id": "eOiez_z6Katf"
      }
    },
    {
      "cell_type": "code",
      "source": [
        "'''from category_encoders import BinaryEncoder\n",
        "binaries = BinaryEncoder(cols=objects, drop_invariant=True).fit_transform(df)\n",
        "df = df.join(binaries, rsuffix='_encoded')\n",
        "df.columns'''"
      ],
      "metadata": {
        "colab": {
          "base_uri": "https://localhost:8080/",
          "height": 53
        },
        "id": "Tifsjj__idI7",
        "outputId": "93a41d9f-5575-4aed-fcd2-6be4ffb41a49"
      },
      "execution_count": 121,
      "outputs": [
        {
          "output_type": "execute_result",
          "data": {
            "text/plain": [
              "\"from category_encoders import BinaryEncoder\\nbinaries = BinaryEncoder(cols=objects, drop_invariant=True).fit_transform(df)\\ndf = df.join(binaries, rsuffix='_encoded')\\ndf.columns\""
            ],
            "application/vnd.google.colaboratory.intrinsic+json": {
              "type": "string"
            }
          },
          "metadata": {},
          "execution_count": 121
        }
      ]
    },
    {
      "cell_type": "code",
      "execution_count": 122,
      "metadata": {
        "colab": {
          "base_uri": "https://localhost:8080/"
        },
        "id": "OCeGl-JuzYgK",
        "outputId": "c436b23b-51ec-485b-e6fd-297c30d35389"
      },
      "outputs": [
        {
          "output_type": "stream",
          "name": "stdout",
          "text": [
            "id                   0\n",
            "brand                0\n",
            "model                0\n",
            "model_year           0\n",
            "milage               0\n",
            "fuel_type            0\n",
            "engine               0\n",
            "transmission         0\n",
            "ext_col              0\n",
            "int_col              0\n",
            "accident             0\n",
            "clean_title          0\n",
            "price                0\n",
            "automatic            0\n",
            "gears                0\n",
            "hp                   0\n",
            "L                    0\n",
            "cylinders            0\n",
            "electric             0\n",
            "valves               0\n",
            "hp/l                 0\n",
            "mil/l                0\n",
            "mil/hp               0\n",
            "l/cyl                0\n",
            "hp/gears             0\n",
            "mil/gears            0\n",
            "mil/cyl              0\n",
            "hp*automatic         0\n",
            "cyl*gears            0\n",
            "carAge               0\n",
            "mil/year           162\n",
            "hp*accident          0\n",
            "accident*carAge      0\n",
            "acc*milage           0\n",
            "mil*carAge           0\n",
            "hp*mil               0\n",
            "AverageMilage        0\n",
            "BrandFreq            0\n",
            "brand_count          0\n",
            "brand_avg_mil        0\n",
            "binned_milage        0\n",
            "brand_class          0\n",
            "log_milage           0\n",
            "dtype: int64\n"
          ]
        }
      ],
      "source": [
        "# Check for missing values\n",
        "print(df.isnull().sum())"
      ]
    },
    {
      "cell_type": "code",
      "execution_count": 123,
      "metadata": {
        "id": "31t-Bd5vzXWH",
        "colab": {
          "base_uri": "https://localhost:8080/"
        },
        "outputId": "881ad89e-b451-4576-e451-032fcb21117f"
      },
      "outputs": [
        {
          "output_type": "stream",
          "name": "stdout",
          "text": [
            "Missing continuos features: ['mil/year']\n"
          ]
        }
      ],
      "source": [
        "df = df_missing_cont(df, new_categoricals)"
      ]
    },
    {
      "cell_type": "code",
      "execution_count": 124,
      "metadata": {
        "colab": {
          "base_uri": "https://localhost:8080/"
        },
        "id": "PLS_B6jOzce5",
        "outputId": "9c17ce3a-20c5-4f89-a55a-0b29fc34006d"
      },
      "outputs": [
        {
          "output_type": "stream",
          "name": "stdout",
          "text": [
            "id                 0\n",
            "brand              0\n",
            "model              0\n",
            "model_year         0\n",
            "milage             0\n",
            "fuel_type          0\n",
            "engine             0\n",
            "transmission       0\n",
            "ext_col            0\n",
            "int_col            0\n",
            "accident           0\n",
            "clean_title        0\n",
            "price              0\n",
            "automatic          0\n",
            "gears              0\n",
            "hp                 0\n",
            "L                  0\n",
            "cylinders          0\n",
            "electric           0\n",
            "valves             0\n",
            "hp/l               0\n",
            "mil/l              0\n",
            "mil/hp             0\n",
            "l/cyl              0\n",
            "hp/gears           0\n",
            "mil/gears          0\n",
            "mil/cyl            0\n",
            "hp*automatic       0\n",
            "cyl*gears          0\n",
            "carAge             0\n",
            "mil/year           0\n",
            "hp*accident        0\n",
            "accident*carAge    0\n",
            "acc*milage         0\n",
            "mil*carAge         0\n",
            "hp*mil             0\n",
            "AverageMilage      0\n",
            "BrandFreq          0\n",
            "brand_count        0\n",
            "brand_avg_mil      0\n",
            "binned_milage      0\n",
            "brand_class        0\n",
            "log_milage         0\n",
            "dtype: int64\n"
          ]
        }
      ],
      "source": [
        "print(df.isnull().sum())"
      ]
    },
    {
      "cell_type": "code",
      "execution_count": 125,
      "metadata": {
        "id": "Bv4_1UudM7G4"
      },
      "outputs": [],
      "source": [
        "# Label categorical features\n",
        "for colname in new_categoricals:\n",
        "    df[colname], _ = df[colname].factorize()"
      ]
    },
    {
      "cell_type": "code",
      "execution_count": 138,
      "metadata": {
        "id": "80VYrGnHNA1E"
      },
      "outputs": [],
      "source": [
        "X = df.copy()\n",
        "y = X.pop('price')"
      ]
    },
    {
      "cell_type": "code",
      "execution_count": 139,
      "metadata": {
        "colab": {
          "base_uri": "https://localhost:8080/",
          "height": 458
        },
        "id": "zb0gZlzkRXFw",
        "outputId": "90797f42-b239-4e9a-90ac-76e2483cbcae"
      },
      "outputs": [
        {
          "output_type": "execute_result",
          "data": {
            "text/plain": [
              "0              0\n",
              "1              1\n",
              "2              2\n",
              "3              3\n",
              "4              4\n",
              "           ...  \n",
              "188528    188528\n",
              "188529    188529\n",
              "188530    188530\n",
              "188531    188531\n",
              "188532    188532\n",
              "Name: id, Length: 188533, dtype: int64"
            ],
            "text/html": [
              "<div>\n",
              "<style scoped>\n",
              "    .dataframe tbody tr th:only-of-type {\n",
              "        vertical-align: middle;\n",
              "    }\n",
              "\n",
              "    .dataframe tbody tr th {\n",
              "        vertical-align: top;\n",
              "    }\n",
              "\n",
              "    .dataframe thead th {\n",
              "        text-align: right;\n",
              "    }\n",
              "</style>\n",
              "<table border=\"1\" class=\"dataframe\">\n",
              "  <thead>\n",
              "    <tr style=\"text-align: right;\">\n",
              "      <th></th>\n",
              "      <th>id</th>\n",
              "    </tr>\n",
              "  </thead>\n",
              "  <tbody>\n",
              "    <tr>\n",
              "      <th>0</th>\n",
              "      <td>0</td>\n",
              "    </tr>\n",
              "    <tr>\n",
              "      <th>1</th>\n",
              "      <td>1</td>\n",
              "    </tr>\n",
              "    <tr>\n",
              "      <th>2</th>\n",
              "      <td>2</td>\n",
              "    </tr>\n",
              "    <tr>\n",
              "      <th>3</th>\n",
              "      <td>3</td>\n",
              "    </tr>\n",
              "    <tr>\n",
              "      <th>4</th>\n",
              "      <td>4</td>\n",
              "    </tr>\n",
              "    <tr>\n",
              "      <th>...</th>\n",
              "      <td>...</td>\n",
              "    </tr>\n",
              "    <tr>\n",
              "      <th>188528</th>\n",
              "      <td>188528</td>\n",
              "    </tr>\n",
              "    <tr>\n",
              "      <th>188529</th>\n",
              "      <td>188529</td>\n",
              "    </tr>\n",
              "    <tr>\n",
              "      <th>188530</th>\n",
              "      <td>188530</td>\n",
              "    </tr>\n",
              "    <tr>\n",
              "      <th>188531</th>\n",
              "      <td>188531</td>\n",
              "    </tr>\n",
              "    <tr>\n",
              "      <th>188532</th>\n",
              "      <td>188532</td>\n",
              "    </tr>\n",
              "  </tbody>\n",
              "</table>\n",
              "<p>188533 rows × 1 columns</p>\n",
              "</div><br><label><b>dtype:</b> int64</label>"
            ]
          },
          "metadata": {},
          "execution_count": 139
        }
      ],
      "source": [
        "X.pop('id')"
      ]
    },
    {
      "cell_type": "markdown",
      "source": [
        "#### PCA"
      ],
      "metadata": {
        "id": "QQotMJWzLwMy"
      }
    },
    {
      "cell_type": "code",
      "source": [
        "# Standardize the data (important for PCA)\n",
        "scaler_pca = StandardScaler()\n",
        "X_scaled = scaler_pca.fit_transform(X.select_dtypes(include='float'))\n",
        "\n",
        "# Apply PCA\n",
        "pca = PCA(n_components=2)  # Specify the number of components\n",
        "pca_components = pca.fit_transform(X_scaled)\n",
        "\n",
        "# Explained Variance\n",
        "explained_variance = np.sum(pca.explained_variance_ratio_)\n",
        "\n",
        "print(\"Explained Variance Ratio:\", explained_variance)\n",
        "\n",
        "# Convert to DataFrame for better readability\n",
        "pca_df = pd.DataFrame(data=pca_components, columns=['PC1', 'PC2'])\n",
        "X = pd.concat([X, pca_df], axis=1)"
      ],
      "metadata": {
        "colab": {
          "base_uri": "https://localhost:8080/"
        },
        "id": "mnFZKslUnvyg",
        "outputId": "d473468e-5c81-4cbf-8ed1-0e0679636c4d"
      },
      "execution_count": 140,
      "outputs": [
        {
          "output_type": "stream",
          "name": "stdout",
          "text": [
            "Explained Variance Ratio: 0.4938634990185205\n"
          ]
        }
      ]
    },
    {
      "cell_type": "markdown",
      "source": [
        "#### K-means Clustering"
      ],
      "metadata": {
        "id": "gOsY9EVdLtnk"
      }
    },
    {
      "cell_type": "code",
      "source": [
        "# Add cluster feature\n",
        "c_scaler = StandardScaler()\n",
        "XC = [col for col in X.columns if col not in new_categoricals]\n",
        "XC = X[XC]\n",
        "XC = c_scaler.fit_transform(XC)\n",
        "\n",
        "# Create cluster feature\n",
        "kmeans = KMeans(n_clusters=3, n_init=10)\n",
        "X['Cluster'] = kmeans.fit_predict(XC)\n",
        "X['Cluster'] = X['Cluster'].astype('category')"
      ],
      "metadata": {
        "id": "Zsrjd5UKXd9r"
      },
      "execution_count": 141,
      "outputs": []
    },
    {
      "cell_type": "markdown",
      "source": [
        "#### Output of a trained Ridge model as a feature"
      ],
      "metadata": {
        "id": "B9uYbibaLplU"
      }
    },
    {
      "cell_type": "code",
      "source": [
        "r_model = Ridge(alpha=1)\n",
        "r_model.fit(X, y)\n",
        "np.sqrt(mean_squared_error(r_model.predict(X), y))"
      ],
      "metadata": {
        "colab": {
          "base_uri": "https://localhost:8080/"
        },
        "id": "yRQmpmGFmgTx",
        "outputId": "d10418aa-0449-4bbc-c220-723f2cc45725"
      },
      "execution_count": 142,
      "outputs": [
        {
          "output_type": "stream",
          "name": "stderr",
          "text": [
            "/usr/local/lib/python3.10/dist-packages/sklearn/linear_model/_ridge.py:216: LinAlgWarning: Ill-conditioned matrix (rcond=1.74925e-20): result may not be accurate.\n",
            "  return linalg.solve(A, Xy, assume_a=\"pos\", overwrite_a=True).T\n"
          ]
        },
        {
          "output_type": "execute_result",
          "data": {
            "text/plain": [
              "73554.05595318042"
            ]
          },
          "metadata": {},
          "execution_count": 142
        }
      ]
    },
    {
      "cell_type": "code",
      "source": [
        "X['f1'] = r_model.predict(X)"
      ],
      "metadata": {
        "id": "DPW7gd2Xk85S"
      },
      "execution_count": 143,
      "outputs": []
    },
    {
      "cell_type": "code",
      "source": [
        "X.shape"
      ],
      "metadata": {
        "colab": {
          "base_uri": "https://localhost:8080/"
        },
        "id": "LZjGFQoCpKUm",
        "outputId": "f0e72bd7-7e12-45e8-a5db-82fea761a5d5"
      },
      "execution_count": 144,
      "outputs": [
        {
          "output_type": "execute_result",
          "data": {
            "text/plain": [
              "(188533, 45)"
            ]
          },
          "metadata": {},
          "execution_count": 144
        }
      ]
    },
    {
      "cell_type": "markdown",
      "source": [
        "# Features selection"
      ],
      "metadata": {
        "id": "z88uiGu865Xx"
      }
    },
    {
      "cell_type": "markdown",
      "source": [
        "### Calculate MI scores"
      ],
      "metadata": {
        "id": "bI8vUDfOMc18"
      }
    },
    {
      "cell_type": "code",
      "source": [
        "discrete_features = X.select_dtypes(include=[int, 'category'])\n",
        "discrete_features = np.array([col in discrete_features for col in X.columns])\n",
        "X.columns[discrete_features]"
      ],
      "metadata": {
        "colab": {
          "base_uri": "https://localhost:8080/"
        },
        "id": "Y1RE3cSSoJ76",
        "outputId": "4ec76810-1ed3-47a5-d94d-9c470e967185"
      },
      "execution_count": 145,
      "outputs": [
        {
          "output_type": "execute_result",
          "data": {
            "text/plain": [
              "Index(['brand', 'model', 'model_year', 'fuel_type', 'engine', 'transmission',\n",
              "       'ext_col', 'int_col', 'accident', 'clean_title', 'automatic', 'gears',\n",
              "       'L', 'cylinders', 'electric', 'carAge', 'accident*carAge',\n",
              "       'brand_count', 'binned_milage', 'brand_class', 'Cluster'],\n",
              "      dtype='object')"
            ]
          },
          "metadata": {},
          "execution_count": 145
        }
      ]
    },
    {
      "cell_type": "code",
      "execution_count": 146,
      "metadata": {
        "colab": {
          "base_uri": "https://localhost:8080/"
        },
        "id": "Pf3YkiKrNMzz",
        "outputId": "07324749-b071-4e8e-e533-a3e521e71449"
      },
      "outputs": [
        {
          "output_type": "stream",
          "name": "stdout",
          "text": [
            "(188533, 45)\n",
            "(188533,)\n"
          ]
        }
      ],
      "source": [
        "def make_mi_scores(X, y, discrete_features):\n",
        "    mi_scores = mutual_info_regression(X, y, discrete_features=discrete_features)\n",
        "    mi_scores = pd.Series(mi_scores, name=\"MI Scores\", index=X.columns)\n",
        "    mi_scores = mi_scores.sort_values(ascending=False)\n",
        "    return mi_scores\n",
        "print(X.shape)\n",
        "print(y.shape)\n",
        "mi_scores = make_mi_scores(X, y, discrete_features)"
      ]
    },
    {
      "cell_type": "code",
      "execution_count": 147,
      "metadata": {
        "id": "sWXYUQBdNOts",
        "colab": {
          "base_uri": "https://localhost:8080/",
          "height": 1000
        },
        "outputId": "9b5a8b76-c7ec-46e5-fb8b-59b7e807aa72"
      },
      "outputs": [
        {
          "output_type": "execute_result",
          "data": {
            "text/plain": [
              "log_milage         0.660801\n",
              "milage             0.659014\n",
              "engine             0.626380\n",
              "mil*carAge         0.615467\n",
              "mil/cyl            0.595424\n",
              "mil/gears          0.589889\n",
              "hp/l               0.574823\n",
              "mil/hp             0.547488\n",
              "carAge             0.541900\n",
              "model_year         0.541900\n",
              "hp                 0.539549\n",
              "hp/gears           0.496882\n",
              "f1                 0.483281\n",
              "PC1                0.482968\n",
              "mil/l              0.477406\n",
              "model              0.473102\n",
              "hp*automatic       0.468982\n",
              "transmission       0.440976\n",
              "Cluster            0.403745\n",
              "binned_milage      0.395144\n",
              "hp*mil             0.314920\n",
              "l/cyl              0.208708\n",
              "mil/year           0.206710\n",
              "L                  0.199577\n",
              "valves             0.184837\n",
              "cyl*gears          0.172857\n",
              "acc*milage         0.169575\n",
              "accident*carAge    0.162753\n",
              "AverageMilage      0.154345\n",
              "gears              0.153165\n",
              "brand_avg_mil      0.152989\n",
              "brand              0.150632\n",
              "brand_count        0.150570\n",
              "BrandFreq          0.149457\n",
              "ext_col            0.136006\n",
              "hp*accident        0.135131\n",
              "int_col            0.128704\n",
              "cylinders          0.092548\n",
              "brand_class        0.060748\n",
              "accident           0.060287\n",
              "PC2                0.027094\n",
              "fuel_type          0.020891\n",
              "automatic          0.020014\n",
              "electric           0.016666\n",
              "clean_title        0.000056\n",
              "Name: MI Scores, dtype: float64"
            ],
            "text/html": [
              "<div>\n",
              "<style scoped>\n",
              "    .dataframe tbody tr th:only-of-type {\n",
              "        vertical-align: middle;\n",
              "    }\n",
              "\n",
              "    .dataframe tbody tr th {\n",
              "        vertical-align: top;\n",
              "    }\n",
              "\n",
              "    .dataframe thead th {\n",
              "        text-align: right;\n",
              "    }\n",
              "</style>\n",
              "<table border=\"1\" class=\"dataframe\">\n",
              "  <thead>\n",
              "    <tr style=\"text-align: right;\">\n",
              "      <th></th>\n",
              "      <th>MI Scores</th>\n",
              "    </tr>\n",
              "  </thead>\n",
              "  <tbody>\n",
              "    <tr>\n",
              "      <th>log_milage</th>\n",
              "      <td>0.660801</td>\n",
              "    </tr>\n",
              "    <tr>\n",
              "      <th>milage</th>\n",
              "      <td>0.659014</td>\n",
              "    </tr>\n",
              "    <tr>\n",
              "      <th>engine</th>\n",
              "      <td>0.626380</td>\n",
              "    </tr>\n",
              "    <tr>\n",
              "      <th>mil*carAge</th>\n",
              "      <td>0.615467</td>\n",
              "    </tr>\n",
              "    <tr>\n",
              "      <th>mil/cyl</th>\n",
              "      <td>0.595424</td>\n",
              "    </tr>\n",
              "    <tr>\n",
              "      <th>mil/gears</th>\n",
              "      <td>0.589889</td>\n",
              "    </tr>\n",
              "    <tr>\n",
              "      <th>hp/l</th>\n",
              "      <td>0.574823</td>\n",
              "    </tr>\n",
              "    <tr>\n",
              "      <th>mil/hp</th>\n",
              "      <td>0.547488</td>\n",
              "    </tr>\n",
              "    <tr>\n",
              "      <th>carAge</th>\n",
              "      <td>0.541900</td>\n",
              "    </tr>\n",
              "    <tr>\n",
              "      <th>model_year</th>\n",
              "      <td>0.541900</td>\n",
              "    </tr>\n",
              "    <tr>\n",
              "      <th>hp</th>\n",
              "      <td>0.539549</td>\n",
              "    </tr>\n",
              "    <tr>\n",
              "      <th>hp/gears</th>\n",
              "      <td>0.496882</td>\n",
              "    </tr>\n",
              "    <tr>\n",
              "      <th>f1</th>\n",
              "      <td>0.483281</td>\n",
              "    </tr>\n",
              "    <tr>\n",
              "      <th>PC1</th>\n",
              "      <td>0.482968</td>\n",
              "    </tr>\n",
              "    <tr>\n",
              "      <th>mil/l</th>\n",
              "      <td>0.477406</td>\n",
              "    </tr>\n",
              "    <tr>\n",
              "      <th>model</th>\n",
              "      <td>0.473102</td>\n",
              "    </tr>\n",
              "    <tr>\n",
              "      <th>hp*automatic</th>\n",
              "      <td>0.468982</td>\n",
              "    </tr>\n",
              "    <tr>\n",
              "      <th>transmission</th>\n",
              "      <td>0.440976</td>\n",
              "    </tr>\n",
              "    <tr>\n",
              "      <th>Cluster</th>\n",
              "      <td>0.403745</td>\n",
              "    </tr>\n",
              "    <tr>\n",
              "      <th>binned_milage</th>\n",
              "      <td>0.395144</td>\n",
              "    </tr>\n",
              "    <tr>\n",
              "      <th>hp*mil</th>\n",
              "      <td>0.314920</td>\n",
              "    </tr>\n",
              "    <tr>\n",
              "      <th>l/cyl</th>\n",
              "      <td>0.208708</td>\n",
              "    </tr>\n",
              "    <tr>\n",
              "      <th>mil/year</th>\n",
              "      <td>0.206710</td>\n",
              "    </tr>\n",
              "    <tr>\n",
              "      <th>L</th>\n",
              "      <td>0.199577</td>\n",
              "    </tr>\n",
              "    <tr>\n",
              "      <th>valves</th>\n",
              "      <td>0.184837</td>\n",
              "    </tr>\n",
              "    <tr>\n",
              "      <th>cyl*gears</th>\n",
              "      <td>0.172857</td>\n",
              "    </tr>\n",
              "    <tr>\n",
              "      <th>acc*milage</th>\n",
              "      <td>0.169575</td>\n",
              "    </tr>\n",
              "    <tr>\n",
              "      <th>accident*carAge</th>\n",
              "      <td>0.162753</td>\n",
              "    </tr>\n",
              "    <tr>\n",
              "      <th>AverageMilage</th>\n",
              "      <td>0.154345</td>\n",
              "    </tr>\n",
              "    <tr>\n",
              "      <th>gears</th>\n",
              "      <td>0.153165</td>\n",
              "    </tr>\n",
              "    <tr>\n",
              "      <th>brand_avg_mil</th>\n",
              "      <td>0.152989</td>\n",
              "    </tr>\n",
              "    <tr>\n",
              "      <th>brand</th>\n",
              "      <td>0.150632</td>\n",
              "    </tr>\n",
              "    <tr>\n",
              "      <th>brand_count</th>\n",
              "      <td>0.150570</td>\n",
              "    </tr>\n",
              "    <tr>\n",
              "      <th>BrandFreq</th>\n",
              "      <td>0.149457</td>\n",
              "    </tr>\n",
              "    <tr>\n",
              "      <th>ext_col</th>\n",
              "      <td>0.136006</td>\n",
              "    </tr>\n",
              "    <tr>\n",
              "      <th>hp*accident</th>\n",
              "      <td>0.135131</td>\n",
              "    </tr>\n",
              "    <tr>\n",
              "      <th>int_col</th>\n",
              "      <td>0.128704</td>\n",
              "    </tr>\n",
              "    <tr>\n",
              "      <th>cylinders</th>\n",
              "      <td>0.092548</td>\n",
              "    </tr>\n",
              "    <tr>\n",
              "      <th>brand_class</th>\n",
              "      <td>0.060748</td>\n",
              "    </tr>\n",
              "    <tr>\n",
              "      <th>accident</th>\n",
              "      <td>0.060287</td>\n",
              "    </tr>\n",
              "    <tr>\n",
              "      <th>PC2</th>\n",
              "      <td>0.027094</td>\n",
              "    </tr>\n",
              "    <tr>\n",
              "      <th>fuel_type</th>\n",
              "      <td>0.020891</td>\n",
              "    </tr>\n",
              "    <tr>\n",
              "      <th>automatic</th>\n",
              "      <td>0.020014</td>\n",
              "    </tr>\n",
              "    <tr>\n",
              "      <th>electric</th>\n",
              "      <td>0.016666</td>\n",
              "    </tr>\n",
              "    <tr>\n",
              "      <th>clean_title</th>\n",
              "      <td>0.000056</td>\n",
              "    </tr>\n",
              "  </tbody>\n",
              "</table>\n",
              "</div><br><label><b>dtype:</b> float64</label>"
            ]
          },
          "metadata": {},
          "execution_count": 147
        }
      ],
      "source": [
        "mi_scores"
      ]
    },
    {
      "cell_type": "code",
      "source": [
        "mi_features = list(mi_scores.index)\n",
        "mi_features[:16]"
      ],
      "metadata": {
        "colab": {
          "base_uri": "https://localhost:8080/"
        },
        "id": "lHFPkDdtE7qm",
        "outputId": "54727f3d-3b7a-4046-bff7-f5de17c20a43"
      },
      "execution_count": 148,
      "outputs": [
        {
          "output_type": "execute_result",
          "data": {
            "text/plain": [
              "['log_milage',\n",
              " 'milage',\n",
              " 'engine',\n",
              " 'mil*carAge',\n",
              " 'mil/cyl',\n",
              " 'mil/gears',\n",
              " 'hp/l',\n",
              " 'mil/hp',\n",
              " 'carAge',\n",
              " 'model_year',\n",
              " 'hp',\n",
              " 'hp/gears',\n",
              " 'f1',\n",
              " 'PC1',\n",
              " 'mil/l',\n",
              " 'model']"
            ]
          },
          "metadata": {},
          "execution_count": 148
        }
      ]
    },
    {
      "cell_type": "markdown",
      "source": [
        "### RFE select features"
      ],
      "metadata": {
        "id": "MiHFFzXIMf5M"
      }
    },
    {
      "cell_type": "code",
      "source": [
        "from sklearn.feature_selection import RFE\n",
        "\n",
        "# Recursive Feature Elimination\n",
        "model = XGBRegressor(learning_rate= 0.2,\n",
        "                     max_depth = 2,\n",
        "                     n_estimators = 200,)\n",
        "selector = RFE(model, n_features_to_select=20)\n",
        "selector.fit(X, y)\n",
        "\n",
        "# Check selected features\n",
        "print(selector.support_)\n"
      ],
      "metadata": {
        "colab": {
          "base_uri": "https://localhost:8080/"
        },
        "id": "LIyvaw5N0eDq",
        "outputId": "64ece57c-2db0-4e37-d554-9f432c1247ea"
      },
      "execution_count": 149,
      "outputs": [
        {
          "output_type": "stream",
          "name": "stdout",
          "text": [
            "[False False  True  True False  True  True  True False False False False\n",
            " False  True False False False  True  True  True  True False False  True\n",
            "  True False False  True False False False False  True False  True  True\n",
            " False False False  True False  True  True False  True]\n"
          ]
        }
      ]
    },
    {
      "cell_type": "code",
      "source": [
        "rfe_features = list(X.columns[list(selector.support_)])\n",
        "rfe_features"
      ],
      "metadata": {
        "colab": {
          "base_uri": "https://localhost:8080/"
        },
        "id": "e3r3Bxsn1IG8",
        "outputId": "46ed80fc-8bbf-4de8-ba60-c5a6d3390b8b"
      },
      "execution_count": 150,
      "outputs": [
        {
          "output_type": "execute_result",
          "data": {
            "text/plain": [
              "['model_year',\n",
              " 'milage',\n",
              " 'engine',\n",
              " 'transmission',\n",
              " 'ext_col',\n",
              " 'hp',\n",
              " 'valves',\n",
              " 'hp/l',\n",
              " 'mil/l',\n",
              " 'mil/hp',\n",
              " 'mil/gears',\n",
              " 'mil/cyl',\n",
              " 'carAge',\n",
              " 'mil*carAge',\n",
              " 'AverageMilage',\n",
              " 'BrandFreq',\n",
              " 'brand_class',\n",
              " 'PC1',\n",
              " 'PC2',\n",
              " 'f1']"
            ]
          },
          "metadata": {},
          "execution_count": 150
        }
      ]
    },
    {
      "cell_type": "code",
      "source": [
        "# Include features based on both MI scores and RFE features\n",
        "selected_features = ['hp*mil',\n",
        " 'AverageMilage',\n",
        " 'BrandFreq',\n",
        " 'brand_class',\n",
        " 'PC1',\n",
        " 'PC2',\n",
        " 'Cluster',\n",
        " 'f1', 'log_milage',\n",
        " 'milage',\n",
        " 'engine',\n",
        " 'mil*carAge',\n",
        " 'mil/cyl',\n",
        " 'mil/gears',\n",
        " 'hp/l',\n",
        " 'mil/hp',\n",
        " 'model_year',\n",
        " 'carAge',\n",
        " 'hp',\n",
        " 'hp/gears']"
      ],
      "metadata": {
        "id": "dUDfRKN8FdTg"
      },
      "execution_count": 151,
      "outputs": []
    },
    {
      "cell_type": "markdown",
      "source": [
        "#### Grid search for parameter values for model"
      ],
      "metadata": {
        "id": "PLDzxUrJ6-Pj"
      }
    },
    {
      "cell_type": "code",
      "execution_count": 156,
      "metadata": {
        "id": "ofA0n7bKiDKf",
        "colab": {
          "base_uri": "https://localhost:8080/"
        },
        "outputId": "3609a22c-6e67-45c5-f2cd-faadda2381b1"
      },
      "outputs": [
        {
          "output_type": "stream",
          "name": "stdout",
          "text": [
            "{'learning_rate': 0.2, 'max_depth': 2, 'n_estimators': 100}\n"
          ]
        }
      ],
      "source": [
        "# Used to get params of model\n",
        "# Set up the parameter grid\n",
        "param_grid = {\n",
        "    'n_estimators': [50, 100, 200],\n",
        "    'learning_rate': [0.01, 0.1, 0.2],\n",
        "    'max_depth': [2, 3, 5],\n",
        "}\n",
        "\n",
        "# Create the model and GridSearch object\n",
        "model = XGBRegressor()\n",
        "grid_search = GridSearchCV(model, param_grid, cv=3)\n",
        "\n",
        "# Fit to the training data\n",
        "\n",
        "# Remove category dtype as per docs\n",
        "X_train = X.drop(['binned_milage', 'Cluster'], axis=1)\n",
        "grid_search.fit(X_train, y)\n",
        "\n",
        "# Best hyperparameters\n",
        "print(grid_search.best_params_)"
      ]
    },
    {
      "cell_type": "code",
      "execution_count": 158,
      "metadata": {
        "id": "j4MkJ-ZfjqUt"
      },
      "outputs": [],
      "source": [
        "params = {'learning_rate': 0.2, 'max_depth': 2, 'n_estimators': 100}"
      ]
    },
    {
      "cell_type": "code",
      "execution_count": 157,
      "metadata": {
        "id": "gQZTM7WUjwLT"
      },
      "outputs": [],
      "source": [
        "model = XGBRegressor(learning_rate= 0.2,\n",
        "                     max_depth = 2,\n",
        "                     n_estimators = 100,)"
      ]
    },
    {
      "cell_type": "code",
      "execution_count": 159,
      "metadata": {
        "id": "wVW9tjpl4tLZ"
      },
      "outputs": [],
      "source": [
        "# Evaluates model\n",
        "def get_error(model, x_train, x_cv, y_train, y_cv):\n",
        "    ypred = model.predict(x_train)\n",
        "    xgb_train_mse = mean_squared_error(y_train, ypred)\n",
        "    xgb_train_mse = np.sqrt(xgb_train_mse)\n",
        "\n",
        "    ypred = model.predict(x_cv)\n",
        "    xgb_cv_mse = mean_squared_error(y_cv, ypred)\n",
        "    xgb_cv_mse = np.sqrt(xgb_cv_mse)\n",
        "\n",
        "    print(f'train MSE: {xgb_train_mse}\\nValidation MSE: {xgb_cv_mse}')\n",
        "    print(f'Difference: {abs(xgb_train_mse - xgb_cv_mse):.4f}')"
      ]
    },
    {
      "cell_type": "code",
      "execution_count": 160,
      "metadata": {
        "id": "QFKKLuydVFh2"
      },
      "outputs": [],
      "source": [
        "# Choose features to use based on MI score\n",
        "def run_model(X, y, selected_features):\n",
        "    '''\n",
        "    Runs selected features on model, returns and plots training and validation MSEs\n",
        "    '''\n",
        "    train_mse = []\n",
        "    val_mse = []\n",
        "    m, n = X.shape\n",
        "\n",
        "    N = range(1, len(selected_features))\n",
        "\n",
        "    for n in N:\n",
        "        x = X[selected_features[:n]]\n",
        "\n",
        "        x_train, x_cv, y_train, y_cv = train_test_split(x, y, test_size=0.3, random_state=RANDOM_STATE)\n",
        "\n",
        "        # Scale Training data\n",
        "        scaler1 = StandardScaler()\n",
        "        x_train = scaler1.fit_transform(x_train)\n",
        "        x_cv = scaler1.transform(x_cv)\n",
        "\n",
        "        model = XGBRegressor(learning_rate= 0.2,\n",
        "                        max_depth = 2,\n",
        "                        n_estimators = 200,)\n",
        "        model.fit(x_train, y_train)\n",
        "\n",
        "        ypred = model.predict(x_train)\n",
        "        xgb_train_mse = mean_squared_error(y_train, ypred)\n",
        "        train_mse.append(np.sqrt(xgb_train_mse))\n",
        "\n",
        "        ypred = model.predict(x_cv)\n",
        "        xgb_cv_mse = mean_squared_error(y_cv, ypred)\n",
        "        val_mse.append(np.sqrt(xgb_cv_mse))\n",
        "\n",
        "\n",
        "    plt.close('all')\n",
        "    plt.plot(N, train_mse, c='r', label='training MSE')\n",
        "    plt.plot(N, val_mse, c='b', label='Val MSE')\n",
        "    plt.xlabel('Number of features')\n",
        "    plt.ylabel('MSEs')\n",
        "    plt.legend()\n",
        "    plt.show()\n",
        "\n",
        "    return train_mse, val_mse"
      ]
    },
    {
      "cell_type": "code",
      "source": [
        "t , v = run_model(X, y, selected_features)"
      ],
      "metadata": {
        "colab": {
          "base_uri": "https://localhost:8080/",
          "height": 449
        },
        "id": "lD26ItlWsec4",
        "outputId": "51964747-769f-45f7-9b5e-d9bf34e1533a"
      },
      "execution_count": 161,
      "outputs": [
        {
          "output_type": "display_data",
          "data": {
            "text/plain": [
              "<Figure size 640x480 with 1 Axes>"
            ],
            "image/png": "[encoded data removed]"
          },
          "metadata": {}
        }
      ]
    },
    {
      "cell_type": "markdown",
      "source": [
        "# Training"
      ],
      "metadata": {
        "id": "uFK0O-knbQg0"
      }
    },
    {
      "cell_type": "code",
      "execution_count": 162,
      "metadata": {
        "id": "Nbrg8WZZTPwA",
        "colab": {
          "base_uri": "https://localhost:8080/"
        },
        "outputId": "77cb1ada-9aa5-4da1-8a9b-fd03ae5faf57"
      },
      "outputs": [
        {
          "output_type": "execute_result",
          "data": {
            "text/plain": [
              "(188533, 20)"
            ]
          },
          "metadata": {},
          "execution_count": 162
        }
      ],
      "source": [
        "# Select features from MI score\n",
        "# X_train = X[mi_features[:9]]\n",
        "\n",
        "# Select features from RFE selector\n",
        "X_train = X[rfe_features]\n",
        "\n",
        "# Select features from selected features\n",
        "#X_train = X[selected_features[:8]]\n",
        "\n",
        "# From RFE\n",
        "#x = X[selected_features]\n",
        "X_train.shape"
      ]
    },
    {
      "cell_type": "code",
      "execution_count": 163,
      "metadata": {
        "id": "L13c1KKHSn_C",
        "colab": {
          "base_uri": "https://localhost:8080/"
        },
        "outputId": "62ce8435-9c5a-416c-b783-051b867d2f8f"
      },
      "outputs": [
        {
          "output_type": "stream",
          "name": "stdout",
          "text": [
            "(131973, 20) (131973,)\n"
          ]
        }
      ],
      "source": [
        "# Split dataset into training, validation and testing subsets\n",
        "X_train, X_cv, y_train, y_cv = train_test_split(X_train, y, test_size=0.3, random_state=RANDOM_STATE)\n",
        "\n",
        "print(X_train.shape, y_train.shape)"
      ]
    },
    {
      "cell_type": "code",
      "execution_count": 164,
      "metadata": {
        "id": "Ymhjlkl8O-KP",
        "colab": {
          "base_uri": "https://localhost:8080/"
        },
        "outputId": "45b253e9-e933-491b-c393-4e20a083286b"
      },
      "outputs": [
        {
          "output_type": "stream",
          "name": "stdout",
          "text": [
            "Features to be scaled: ['milage', 'hp', 'valves', 'hp/l', 'mil/l', 'mil/hp', 'mil/gears', 'mil/cyl', 'carAge', 'mil*carAge', 'AverageMilage', 'BrandFreq', 'brand_class', 'PC1', 'PC2', 'f1']\n"
          ]
        }
      ],
      "source": [
        "# Scale continuos features\n",
        "continuos_features_to_scale = [col for col in X_train.columns if col not in new_categoricals]\n",
        "print(f'Features to be scaled: {continuos_features_to_scale}')\n",
        "\n",
        "scalerTrain = StandardScaler()\n",
        "x_train = scalerTrain.fit_transform(X_train[continuos_features_to_scale])\n",
        "x_cv = scalerTrain.transform(X_cv[continuos_features_to_scale])"
      ]
    },
    {
      "cell_type": "code",
      "execution_count": 165,
      "metadata": {
        "id": "mNLCtePell1l",
        "colab": {
          "base_uri": "https://localhost:8080/",
          "height": 253
        },
        "outputId": "af2ca97e-410a-4c9a-cadb-44e50cb8cf59"
      },
      "outputs": [
        {
          "output_type": "execute_result",
          "data": {
            "text/plain": [
              "XGBRegressor(base_score=None, booster=None, callbacks=None,\n",
              "             colsample_bylevel=None, colsample_bynode=None,\n",
              "             colsample_bytree=None, device=None, early_stopping_rounds=None,\n",
              "             enable_categorical=False, eval_metric=None, feature_types=None,\n",
              "             gamma=None, grow_policy=None, importance_type=None,\n",
              "             interaction_constraints=None, learning_rate=0.2, max_bin=None,\n",
              "             max_cat_threshold=None, max_cat_to_onehot=None,\n",
              "             max_delta_step=None, max_depth=2, max_leaves=None,\n",
              "             min_child_weight=None, missing=nan, monotone_constraints=None,\n",
              "             multi_strategy=None, n_estimators=100, n_jobs=None,\n",
              "             num_parallel_tree=None, random_state=None, ...)"
            ],
            "text/html": [
              "<style>#sk-container-id-2 {\n",
              "  /* Definition of color scheme common for light and dark mode */\n",
              "  --sklearn-color-text: black;\n",
              "  --sklearn-color-line: gray;\n",
              "  /* Definition of color scheme for unfitted estimators */\n",
              "  --sklearn-color-unfitted-level-0: #fff5e6;\n",
              "  --sklearn-color-unfitted-level-1: #f6e4d2;\n",
              "  --sklearn-color-unfitted-level-2: #ffe0b3;\n",
              "  --sklearn-color-unfitted-level-3: chocolate;\n",
              "  /* Definition of color scheme for fitted estimators */\n",
              "  --sklearn-color-fitted-level-0: #f0f8ff;\n",
              "  --sklearn-color-fitted-level-1: #d4ebff;\n",
              "  --sklearn-color-fitted-level-2: #b3dbfd;\n",
              "  --sklearn-color-fitted-level-3: cornflowerblue;\n",
              "\n",
              "  /* Specific color for light theme */\n",
              "  --sklearn-color-text-on-default-background: var(--sg-text-color, var(--theme-code-foreground, var(--jp-content-font-color1, black)));\n",
              "  --sklearn-color-background: var(--sg-background-color, var(--theme-background, var(--jp-layout-color0, white)));\n",
              "  --sklearn-color-border-box: var(--sg-text-color, var(--theme-code-foreground, var(--jp-content-font-color1, black)));\n",
              "  --sklearn-color-icon: #696969;\n",
              "\n",
              "  @media (prefers-color-scheme: dark) {\n",
              "    /* Redefinition of color scheme for dark theme */\n",
              "    --sklearn-color-text-on-default-background: var(--sg-text-color, var(--theme-code-foreground, var(--jp-content-font-color1, white)));\n",
              "    --sklearn-color-background: var(--sg-background-color, var(--theme-background, var(--jp-layout-color0, #111)));\n",
              "    --sklearn-color-border-box: var(--sg-text-color, var(--theme-code-foreground, var(--jp-content-font-color1, white)));\n",
              "    --sklearn-color-icon: #878787;\n",
              "  }\n",
              "}\n",
              "\n",
              "#sk-container-id-2 {\n",
              "  color: var(--sklearn-color-text);\n",
              "}\n",
              "\n",
              "#sk-container-id-2 pre {\n",
              "  padding: 0;\n",
              "}\n",
              "\n",
              "#sk-container-id-2 input.sk-hidden--visually {\n",
              "  border: 0;\n",
              "  clip: rect(1px 1px 1px 1px);\n",
              "  clip: rect(1px, 1px, 1px, 1px);\n",
              "  height: 1px;\n",
              "  margin: -1px;\n",
              "  overflow: hidden;\n",
              "  padding: 0;\n",
              "  position: absolute;\n",
              "  width: 1px;\n",
              "}\n",
              "\n",
              "#sk-container-id-2 div.sk-dashed-wrapped {\n",
              "  border: 1px dashed var(--sklearn-color-line);\n",
              "  margin: 0 0.4em 0.5em 0.4em;\n",
              "  box-sizing: border-box;\n",
              "  padding-bottom: 0.4em;\n",
              "  background-color: var(--sklearn-color-background);\n",
              "}\n",
              "\n",
              "#sk-container-id-2 div.sk-container {\n",
              "  /* jupyter's `normalize.less` sets `[hidden] { display: none; }`\n",
              "     but bootstrap.min.css set `[hidden] { display: none !important; }`\n",
              "     so we also need the `!important` here to be able to override the\n",
              "     default hidden behavior on the sphinx rendered scikit-learn.org.\n",
              "     See: https://github.com/scikit-learn/scikit-learn/issues/21755 */\n",
              "  display: inline-block !important;\n",
              "  position: relative;\n",
              "}\n",
              "\n",
              "#sk-container-id-2 div.sk-text-repr-fallback {\n",
              "  display: none;\n",
              "}\n",
              "\n",
              "div.sk-parallel-item,\n",
              "div.sk-serial,\n",
              "div.sk-item {\n",
              "  /* draw centered vertical line to link estimators */\n",
              "  background-image: linear-gradient(var(--sklearn-color-text-on-default-background), var(--sklearn-color-text-on-default-background));\n",
              "  background-size: 2px 100%;\n",
              "  background-repeat: no-repeat;\n",
              "  background-position: center center;\n",
              "}\n",
              "\n",
              "/* Parallel-specific style estimator block */\n",
              "\n",
              "#sk-container-id-2 div.sk-parallel-item::after {\n",
              "  content: \"\";\n",
              "  width: 100%;\n",
              "  border-bottom: 2px solid var(--sklearn-color-text-on-default-background);\n",
              "  flex-grow: 1;\n",
              "}\n",
              "\n",
              "#sk-container-id-2 div.sk-parallel {\n",
              "  display: flex;\n",
              "  align-items: stretch;\n",
              "  justify-content: center;\n",
              "  background-color: var(--sklearn-color-background);\n",
              "  position: relative;\n",
              "}\n",
              "\n",
              "#sk-container-id-2 div.sk-parallel-item {\n",
              "  display: flex;\n",
              "  flex-direction: column;\n",
              "}\n",
              "\n",
              "#sk-container-id-2 div.sk-parallel-item:first-child::after {\n",
              "  align-self: flex-end;\n",
              "  width: 50%;\n",
              "}\n",
              "\n",
              "#sk-container-id-2 div.sk-parallel-item:last-child::after {\n",
              "  align-self: flex-start;\n",
              "  width: 50%;\n",
              "}\n",
              "\n",
              "#sk-container-id-2 div.sk-parallel-item:only-child::after {\n",
              "  width: 0;\n",
              "}\n",
              "\n",
              "/* Serial-specific style estimator block */\n",
              "\n",
              "#sk-container-id-2 div.sk-serial {\n",
              "  display: flex;\n",
              "  flex-direction: column;\n",
              "  align-items: center;\n",
              "  background-color: var(--sklearn-color-background);\n",
              "  padding-right: 1em;\n",
              "  padding-left: 1em;\n",
              "}\n",
              "\n",
              "\n",
              "/* Toggleable style: style used for estimator/Pipeline/ColumnTransformer box that is\n",
              "clickable and can be expanded/collapsed.\n",
              "- Pipeline and ColumnTransformer use this feature and define the default style\n",
              "- Estimators will overwrite some part of the style using the `sk-estimator` class\n",
              "*/\n",
              "\n",
              "/* Pipeline and ColumnTransformer style (default) */\n",
              "\n",
              "#sk-container-id-2 div.sk-toggleable {\n",
              "  /* Default theme specific background. It is overwritten whether we have a\n",
              "  specific estimator or a Pipeline/ColumnTransformer */\n",
              "  background-color: var(--sklearn-color-background);\n",
              "}\n",
              "\n",
              "/* Toggleable label */\n",
              "#sk-container-id-2 label.sk-toggleable__label {\n",
              "  cursor: pointer;\n",
              "  display: block;\n",
              "  width: 100%;\n",
              "  margin-bottom: 0;\n",
              "  padding: 0.5em;\n",
              "  box-sizing: border-box;\n",
              "  text-align: center;\n",
              "}\n",
              "\n",
              "#sk-container-id-2 label.sk-toggleable__label-arrow:before {\n",
              "  /* Arrow on the left of the label */\n",
              "  content: \"▸\";\n",
              "  float: left;\n",
              "  margin-right: 0.25em;\n",
              "  color: var(--sklearn-color-icon);\n",
              "}\n",
              "\n",
              "#sk-container-id-2 label.sk-toggleable__label-arrow:hover:before {\n",
              "  color: var(--sklearn-color-text);\n",
              "}\n",
              "\n",
              "/* Toggleable content - dropdown */\n",
              "\n",
              "#sk-container-id-2 div.sk-toggleable__content {\n",
              "  max-height: 0;\n",
              "  max-width: 0;\n",
              "  overflow: hidden;\n",
              "  text-align: left;\n",
              "  /* unfitted */\n",
              "  background-color: var(--sklearn-color-unfitted-level-0);\n",
              "}\n",
              "\n",
              "#sk-container-id-2 div.sk-toggleable__content.fitted {\n",
              "  /* fitted */\n",
              "  background-color: var(--sklearn-color-fitted-level-0);\n",
              "}\n",
              "\n",
              "#sk-container-id-2 div.sk-toggleable__content pre {\n",
              "  margin: 0.2em;\n",
              "  border-radius: 0.25em;\n",
              "  color: var(--sklearn-color-text);\n",
              "  /* unfitted */\n",
              "  background-color: var(--sklearn-color-unfitted-level-0);\n",
              "}\n",
              "\n",
              "#sk-container-id-2 div.sk-toggleable__content.fitted pre {\n",
              "  /* unfitted */\n",
              "  background-color: var(--sklearn-color-fitted-level-0);\n",
              "}\n",
              "\n",
              "#sk-container-id-2 input.sk-toggleable__control:checked~div.sk-toggleable__content {\n",
              "  /* Expand drop-down */\n",
              "  max-height: 200px;\n",
              "  max-width: 100%;\n",
              "  overflow: auto;\n",
              "}\n",
              "\n",
              "#sk-container-id-2 input.sk-toggleable__control:checked~label.sk-toggleable__label-arrow:before {\n",
              "  content: \"▾\";\n",
              "}\n",
              "\n",
              "/* Pipeline/ColumnTransformer-specific style */\n",
              "\n",
              "#sk-container-id-2 div.sk-label input.sk-toggleable__control:checked~label.sk-toggleable__label {\n",
              "  color: var(--sklearn-color-text);\n",
              "  background-color: var(--sklearn-color-unfitted-level-2);\n",
              "}\n",
              "\n",
              "#sk-container-id-2 div.sk-label.fitted input.sk-toggleable__control:checked~label.sk-toggleable__label {\n",
              "  background-color: var(--sklearn-color-fitted-level-2);\n",
              "}\n",
              "\n",
              "/* Estimator-specific style */\n",
              "\n",
              "/* Colorize estimator box */\n",
              "#sk-container-id-2 div.sk-estimator input.sk-toggleable__control:checked~label.sk-toggleable__label {\n",
              "  /* unfitted */\n",
              "  background-color: var(--sklearn-color-unfitted-level-2);\n",
              "}\n",
              "\n",
              "#sk-container-id-2 div.sk-estimator.fitted input.sk-toggleable__control:checked~label.sk-toggleable__label {\n",
              "  /* fitted */\n",
              "  background-color: var(--sklearn-color-fitted-level-2);\n",
              "}\n",
              "\n",
              "#sk-container-id-2 div.sk-label label.sk-toggleable__label,\n",
              "#sk-container-id-2 div.sk-label label {\n",
              "  /* The background is the default theme color */\n",
              "  color: var(--sklearn-color-text-on-default-background);\n",
              "}\n",
              "\n",
              "/* On hover, darken the color of the background */\n",
              "#sk-container-id-2 div.sk-label:hover label.sk-toggleable__label {\n",
              "  color: var(--sklearn-color-text);\n",
              "  background-color: var(--sklearn-color-unfitted-level-2);\n",
              "}\n",
              "\n",
              "/* Label box, darken color on hover, fitted */\n",
              "#sk-container-id-2 div.sk-label.fitted:hover label.sk-toggleable__label.fitted {\n",
              "  color: var(--sklearn-color-text);\n",
              "  background-color: var(--sklearn-color-fitted-level-2);\n",
              "}\n",
              "\n",
              "/* Estimator label */\n",
              "\n",
              "#sk-container-id-2 div.sk-label label {\n",
              "  font-family: monospace;\n",
              "  font-weight: bold;\n",
              "  display: inline-block;\n",
              "  line-height: 1.2em;\n",
              "}\n",
              "\n",
              "#sk-container-id-2 div.sk-label-container {\n",
              "  text-align: center;\n",
              "}\n",
              "\n",
              "/* Estimator-specific */\n",
              "#sk-container-id-2 div.sk-estimator {\n",
              "  font-family: monospace;\n",
              "  border: 1px dotted var(--sklearn-color-border-box);\n",
              "  border-radius: 0.25em;\n",
              "  box-sizing: border-box;\n",
              "  margin-bottom: 0.5em;\n",
              "  /* unfitted */\n",
              "  background-color: var(--sklearn-color-unfitted-level-0);\n",
              "}\n",
              "\n",
              "#sk-container-id-2 div.sk-estimator.fitted {\n",
              "  /* fitted */\n",
              "  background-color: var(--sklearn-color-fitted-level-0);\n",
              "}\n",
              "\n",
              "/* on hover */\n",
              "#sk-container-id-2 div.sk-estimator:hover {\n",
              "  /* unfitted */\n",
              "  background-color: var(--sklearn-color-unfitted-level-2);\n",
              "}\n",
              "\n",
              "#sk-container-id-2 div.sk-estimator.fitted:hover {\n",
              "  /* fitted */\n",
              "  background-color: var(--sklearn-color-fitted-level-2);\n",
              "}\n",
              "\n",
              "/* Specification for estimator info (e.g. \"i\" and \"?\") */\n",
              "\n",
              "/* Common style for \"i\" and \"?\" */\n",
              "\n",
              ".sk-estimator-doc-link,\n",
              "a:link.sk-estimator-doc-link,\n",
              "a:visited.sk-estimator-doc-link {\n",
              "  float: right;\n",
              "  font-size: smaller;\n",
              "  line-height: 1em;\n",
              "  font-family: monospace;\n",
              "  background-color: var(--sklearn-color-background);\n",
              "  border-radius: 1em;\n",
              "  height: 1em;\n",
              "  width: 1em;\n",
              "  text-decoration: none !important;\n",
              "  margin-left: 1ex;\n",
              "  /* unfitted */\n",
              "  border: var(--sklearn-color-unfitted-level-1) 1pt solid;\n",
              "  color: var(--sklearn-color-unfitted-level-1);\n",
              "}\n",
              "\n",
              ".sk-estimator-doc-link.fitted,\n",
              "a:link.sk-estimator-doc-link.fitted,\n",
              "a:visited.sk-estimator-doc-link.fitted {\n",
              "  /* fitted */\n",
              "  border: var(--sklearn-color-fitted-level-1) 1pt solid;\n",
              "  color: var(--sklearn-color-fitted-level-1);\n",
              "}\n",
              "\n",
              "/* On hover */\n",
              "div.sk-estimator:hover .sk-estimator-doc-link:hover,\n",
              ".sk-estimator-doc-link:hover,\n",
              "div.sk-label-container:hover .sk-estimator-doc-link:hover,\n",
              ".sk-estimator-doc-link:hover {\n",
              "  /* unfitted */\n",
              "  background-color: var(--sklearn-color-unfitted-level-3);\n",
              "  color: var(--sklearn-color-background);\n",
              "  text-decoration: none;\n",
              "}\n",
              "\n",
              "div.sk-estimator.fitted:hover .sk-estimator-doc-link.fitted:hover,\n",
              ".sk-estimator-doc-link.fitted:hover,\n",
              "div.sk-label-container:hover .sk-estimator-doc-link.fitted:hover,\n",
              ".sk-estimator-doc-link.fitted:hover {\n",
              "  /* fitted */\n",
              "  background-color: var(--sklearn-color-fitted-level-3);\n",
              "  color: var(--sklearn-color-background);\n",
              "  text-decoration: none;\n",
              "}\n",
              "\n",
              "/* Span, style for the box shown on hovering the info icon */\n",
              ".sk-estimator-doc-link span {\n",
              "  display: none;\n",
              "  z-index: 9999;\n",
              "  position: relative;\n",
              "  font-weight: normal;\n",
              "  right: .2ex;\n",
              "  padding: .5ex;\n",
              "  margin: .5ex;\n",
              "  width: min-content;\n",
              "  min-width: 20ex;\n",
              "  max-width: 50ex;\n",
              "  color: var(--sklearn-color-text);\n",
              "  box-shadow: 2pt 2pt 4pt #999;\n",
              "  /* unfitted */\n",
              "  background: var(--sklearn-color-unfitted-level-0);\n",
              "  border: .5pt solid var(--sklearn-color-unfitted-level-3);\n",
              "}\n",
              "\n",
              ".sk-estimator-doc-link.fitted span {\n",
              "  /* fitted */\n",
              "  background: var(--sklearn-color-fitted-level-0);\n",
              "  border: var(--sklearn-color-fitted-level-3);\n",
              "}\n",
              "\n",
              ".sk-estimator-doc-link:hover span {\n",
              "  display: block;\n",
              "}\n",
              "\n",
              "/* \"?\"-specific style due to the `<a>` HTML tag */\n",
              "\n",
              "#sk-container-id-2 a.estimator_doc_link {\n",
              "  float: right;\n",
              "  font-size: 1rem;\n",
              "  line-height: 1em;\n",
              "  font-family: monospace;\n",
              "  background-color: var(--sklearn-color-background);\n",
              "  border-radius: 1rem;\n",
              "  height: 1rem;\n",
              "  width: 1rem;\n",
              "  text-decoration: none;\n",
              "  /* unfitted */\n",
              "  color: var(--sklearn-color-unfitted-level-1);\n",
              "  border: var(--sklearn-color-unfitted-level-1) 1pt solid;\n",
              "}\n",
              "\n",
              "#sk-container-id-2 a.estimator_doc_link.fitted {\n",
              "  /* fitted */\n",
              "  border: var(--sklearn-color-fitted-level-1) 1pt solid;\n",
              "  color: var(--sklearn-color-fitted-level-1);\n",
              "}\n",
              "\n",
              "/* On hover */\n",
              "#sk-container-id-2 a.estimator_doc_link:hover {\n",
              "  /* unfitted */\n",
              "  background-color: var(--sklearn-color-unfitted-level-3);\n",
              "  color: var(--sklearn-color-background);\n",
              "  text-decoration: none;\n",
              "}\n",
              "\n",
              "#sk-container-id-2 a.estimator_doc_link.fitted:hover {\n",
              "  /* fitted */\n",
              "  background-color: var(--sklearn-color-fitted-level-3);\n",
              "}\n",
              "</style><div id=\"sk-container-id-2\" class=\"sk-top-container\"><div class=\"sk-text-repr-fallback\"><pre>XGBRegressor(base_score=None, booster=None, callbacks=None,\n",
              "             colsample_bylevel=None, colsample_bynode=None,\n",
              "             colsample_bytree=None, device=None, early_stopping_rounds=None,\n",
              "             enable_categorical=False, eval_metric=None, feature_types=None,\n",
              "             gamma=None, grow_policy=None, importance_type=None,\n",
              "             interaction_constraints=None, learning_rate=0.2, max_bin=None,\n",
              "             max_cat_threshold=None, max_cat_to_onehot=None,\n",
              "             max_delta_step=None, max_depth=2, max_leaves=None,\n",
              "             min_child_weight=None, missing=nan, monotone_constraints=None,\n",
              "             multi_strategy=None, n_estimators=100, n_jobs=None,\n",
              "             num_parallel_tree=None, random_state=None, ...)</pre><b>In a Jupyter environment, please rerun this cell to show the HTML representation or trust the notebook. <br />On GitHub, the HTML representation is unable to render, please try loading this page with nbviewer.org.</b></div><div class=\"sk-container\" hidden><div class=\"sk-item\"><div class=\"sk-estimator fitted sk-toggleable\"><input class=\"sk-toggleable__control sk-hidden--visually\" id=\"sk-estimator-id-2\" type=\"checkbox\" checked><label for=\"sk-estimator-id-2\" class=\"sk-toggleable__label fitted sk-toggleable__label-arrow fitted\">&nbsp;XGBRegressor<span class=\"sk-estimator-doc-link fitted\">i<span>Fitted</span></span></label><div class=\"sk-toggleable__content fitted\"><pre>XGBRegressor(base_score=None, booster=None, callbacks=None,\n",
              "             colsample_bylevel=None, colsample_bynode=None,\n",
              "             colsample_bytree=None, device=None, early_stopping_rounds=None,\n",
              "             enable_categorical=False, eval_metric=None, feature_types=None,\n",
              "             gamma=None, grow_policy=None, importance_type=None,\n",
              "             interaction_constraints=None, learning_rate=0.2, max_bin=None,\n",
              "             max_cat_threshold=None, max_cat_to_onehot=None,\n",
              "             max_delta_step=None, max_depth=2, max_leaves=None,\n",
              "             min_child_weight=None, missing=nan, monotone_constraints=None,\n",
              "             multi_strategy=None, n_estimators=100, n_jobs=None,\n",
              "             num_parallel_tree=None, random_state=None, ...)</pre></div> </div></div></div></div>"
            ]
          },
          "metadata": {},
          "execution_count": 165
        }
      ],
      "source": [
        "# Train model\n",
        "model.fit(x_train, y_train)"
      ]
    },
    {
      "cell_type": "code",
      "source": [
        "# Calculate RMSE\n",
        "ypred = model.predict(x_train)\n",
        "xgb_train_mse = mean_squared_error(y_train, ypred)\n",
        "np.sqrt(xgb_train_mse)"
      ],
      "metadata": {
        "colab": {
          "base_uri": "https://localhost:8080/"
        },
        "id": "OpPgbPamw0TJ",
        "outputId": "8abf7027-7af9-4f9d-b42b-d9cca57a0c8d"
      },
      "execution_count": 166,
      "outputs": [
        {
          "output_type": "execute_result",
          "data": {
            "text/plain": [
              "72471.80526796395"
            ]
          },
          "metadata": {},
          "execution_count": 166
        }
      ]
    },
    {
      "cell_type": "code",
      "execution_count": 167,
      "metadata": {
        "id": "dTOvxdPrmjY7",
        "colab": {
          "base_uri": "https://localhost:8080/"
        },
        "outputId": "616c55d2-8485-4d1c-aeb0-c5b722398ddd"
      },
      "outputs": [
        {
          "output_type": "stream",
          "name": "stdout",
          "text": [
            "train MSE: 72471.80526796395\n",
            "Validation MSE: 73180.94551288233\n",
            "Difference: 709.1402\n"
          ]
        }
      ],
      "source": [
        "# Evaluate model\n",
        "get_error(model, x_train, x_cv, y_train, y_cv)"
      ]
    },
    {
      "cell_type": "markdown",
      "source": [
        "### Submission"
      ],
      "metadata": {
        "id": "J-JhqEfqbM9T"
      }
    },
    {
      "cell_type": "code",
      "execution_count": 174,
      "metadata": {
        "id": "EZm4XmnzTIcx"
      },
      "outputs": [],
      "source": [
        "test = pd.read_csv('test.csv')\n",
        "id = test.pop('id')\n",
        "test['milage'] = test['milage'].astype('float')"
      ]
    },
    {
      "cell_type": "code",
      "execution_count": 175,
      "metadata": {
        "id": "OY5ODx2_9fcv",
        "colab": {
          "base_uri": "https://localhost:8080/"
        },
        "outputId": "035c583d-65d4-4c5d-c276-2f92d329c498"
      },
      "outputs": [
        {
          "output_type": "stream",
          "name": "stdout",
          "text": [
            "categorical attributes: ['brand', 'model', 'model_year', 'fuel_type', 'engine', 'transmission', 'ext_col', 'int_col', 'accident', 'clean_title']\n",
            "Missing categories: ['fuel_type', 'accident', 'clean_title']\n",
            "Categorical missing features: ['L', 'cylinders', 'gears']\n",
            "Missing continuos features: ['hp', 'valves']\n",
            "Missing continuos features: ['mil/year']\n"
          ]
        }
      ],
      "source": [
        "test = df_missing_cat(test)\n",
        "test = create_features(test)\n",
        "test = df_missing_new_cat(test, new_categoricals)\n",
        "test = df_missing_cont(test, new_categoricals)\n",
        "test = create_interactions(test)\n",
        "test = additional_features(test)\n",
        "test = df_missing_cont(test, new_categoricals)"
      ]
    },
    {
      "cell_type": "code",
      "source": [
        "for colname in new_categoricals:\n",
        "    test[colname], _ = test[colname].factorize()"
      ],
      "metadata": {
        "id": "rrvgY4IdJVWD"
      },
      "execution_count": 176,
      "outputs": []
    },
    {
      "cell_type": "code",
      "source": [
        "test_scaled = scaler_pca.transform(test.select_dtypes(include='float'))\n",
        "pca_components = pca.transform(test_scaled)\n",
        "\n",
        "pca_df = pd.DataFrame(data=pca_components, columns=['PC1', 'PC2'])\n",
        "test = pd.concat([test, pca_df], axis=1)"
      ],
      "metadata": {
        "id": "-uuPFZxsIgUK"
      },
      "execution_count": 177,
      "outputs": []
    },
    {
      "cell_type": "code",
      "source": [
        "#c_scaler = StandardScaler()\n",
        "XC = [col for col in test.columns if col not in new_categoricals]\n",
        "XC = test[XC]\n",
        "XC = c_scaler.transform(XC)\n",
        "\n",
        "# Create cluster feature\n",
        "#kmeans = KMeans(n_clusters=3, n_init=10)\n",
        "test['Cluster'] = kmeans.fit_predict(XC)\n",
        "test['Cluster'] = test['Cluster'].astype('category')"
      ],
      "metadata": {
        "id": "3qkOBjrEqNkv"
      },
      "execution_count": 178,
      "outputs": []
    },
    {
      "cell_type": "code",
      "source": [
        "# Get feature from Ridge model\n",
        "test['f1'] = r_model.predict(test)"
      ],
      "metadata": {
        "id": "HhB83X6uoj4V"
      },
      "execution_count": 180,
      "outputs": []
    },
    {
      "cell_type": "code",
      "source": [
        "x_test = test[rfe_features]\n",
        "continuos_features_to_scale = [col for col in x_test.columns if col not in new_categoricals]\n",
        "print(f'Features to be scaled: {continuos_features_to_scale}')\n",
        "\n",
        "x_test = scalerTrain.transform(x_test[continuos_features_to_scale])"
      ],
      "metadata": {
        "colab": {
          "base_uri": "https://localhost:8080/"
        },
        "id": "Y2UJ2gqQMBBh",
        "outputId": "29acce87-817c-4898-b249-fe3b6060e3fe"
      },
      "execution_count": 181,
      "outputs": [
        {
          "output_type": "stream",
          "name": "stdout",
          "text": [
            "Features to be scaled: ['milage', 'hp', 'valves', 'hp/l', 'mil/l', 'mil/hp', 'mil/gears', 'mil/cyl', 'carAge', 'mil*carAge', 'AverageMilage', 'BrandFreq', 'brand_class', 'PC1', 'PC2', 'f1']\n"
          ]
        }
      ]
    },
    {
      "cell_type": "code",
      "execution_count": 182,
      "metadata": {
        "id": "C9hARgDBFHI1"
      },
      "outputs": [],
      "source": [
        "pred = model.predict(x_test)"
      ]
    },
    {
      "cell_type": "code",
      "execution_count": 183,
      "metadata": {
        "id": "XlFdQFLkFQbM"
      },
      "outputs": [],
      "source": [
        "submision = pd.DataFrame({'id': id, 'price': pred})\n",
        "submision.to_csv('submission.csv', index=False)"
      ]
    },
    {
      "cell_type": "code",
      "execution_count": 184,
      "metadata": {
        "id": "u-KhQkibFZvh",
        "colab": {
          "base_uri": "https://localhost:8080/",
          "height": 206
        },
        "outputId": "590a72d0-a107-4e67-dd09-621cabd968c3"
      },
      "outputs": [
        {
          "output_type": "execute_result",
          "data": {
            "text/plain": [
              "       id         price\n",
              "0  188533  17664.542969\n",
              "1  188534  67978.671875\n",
              "2  188535  49807.015625\n",
              "3  188536  28842.863281\n",
              "4  188537  30406.353516"
            ],
            "text/html": [
              "\n",
              "  <div id=\"df-be4ba60e-db5b-4d52-acb5-ad0083e46bea\" class=\"colab-df-container\">\n",
              "    <div>\n",
              "<style scoped>\n",
              "    .dataframe tbody tr th:only-of-type {\n",
              "        vertical-align: middle;\n",
              "    }\n",
              "\n",
              "    .dataframe tbody tr th {\n",
              "        vertical-align: top;\n",
              "    }\n",
              "\n",
              "    .dataframe thead th {\n",
              "        text-align: right;\n",
              "    }\n",
              "</style>\n",
              "<table border=\"1\" class=\"dataframe\">\n",
              "  <thead>\n",
              "    <tr style=\"text-align: right;\">\n",
              "      <th></th>\n",
              "      <th>id</th>\n",
              "      <th>price</th>\n",
              "    </tr>\n",
              "  </thead>\n",
              "  <tbody>\n",
              "    <tr>\n",
              "      <th>0</th>\n",
              "      <td>188533</td>\n",
              "      <td>17664.542969</td>\n",
              "    </tr>\n",
              "    <tr>\n",
              "      <th>1</th>\n",
              "      <td>188534</td>\n",
              "      <td>67978.671875</td>\n",
              "    </tr>\n",
              "    <tr>\n",
              "      <th>2</th>\n",
              "      <td>188535</td>\n",
              "      <td>49807.015625</td>\n",
              "    </tr>\n",
              "    <tr>\n",
              "      <th>3</th>\n",
              "      <td>188536</td>\n",
              "      <td>28842.863281</td>\n",
              "    </tr>\n",
              "    <tr>\n",
              "      <th>4</th>\n",
              "      <td>188537</td>\n",
              "      <td>30406.353516</td>\n",
              "    </tr>\n",
              "  </tbody>\n",
              "</table>\n",
              "</div>\n",
              "    <div class=\"colab-df-buttons\">\n",
              "\n",
              "  <div class=\"colab-df-container\">\n",
              "    <button class=\"colab-df-convert\" onclick=\"convertToInteractive('df-be4ba60e-db5b-4d52-acb5-ad0083e46bea')\"\n",
              "            title=\"Convert this dataframe to an interactive table.\"\n",
              "            style=\"display:none;\">\n",
              "\n",
              "  <svg xmlns=\"http://www.w3.org/2000/svg\" height=\"24px\" viewBox=\"0 -960 960 960\">\n",
              "    <path d=\"M120-120v-720h720v720H120Zm60-500h600v-160H180v160Zm220 220h160v-160H400v160Zm0 220h160v-160H400v160ZM180-400h160v-160H180v160Zm440 0h160v-160H620v160ZM180-180h160v-160H180v160Zm440 0h160v-160H620v160Z\"/>\n",
              "  </svg>\n",
              "    </button>\n",
              "\n",
              "  <style>\n",
              "    .colab-df-container {\n",
              "      display:flex;\n",
              "      gap: 12px;\n",
              "    }\n",
              "\n",
              "    .colab-df-convert {\n",
              "      background-color: #E8F0FE;\n",
              "      border: none;\n",
              "      border-radius: 50%;\n",
              "      cursor: pointer;\n",
              "      display: none;\n",
              "      fill: #1967D2;\n",
              "      height: 32px;\n",
              "      padding: 0 0 0 0;\n",
              "      width: 32px;\n",
              "    }\n",
              "\n",
              "    .colab-df-convert:hover {\n",
              "      background-color: #E2EBFA;\n",
              "      box-shadow: 0px 1px 2px rgba(60, 64, 67, 0.3), 0px 1px 3px 1px rgba(60, 64, 67, 0.15);\n",
              "      fill: #174EA6;\n",
              "    }\n",
              "\n",
              "    .colab-df-buttons div {\n",
              "      margin-bottom: 4px;\n",
              "    }\n",
              "\n",
              "    [theme=dark] .colab-df-convert {\n",
              "      background-color: #3B4455;\n",
              "      fill: #D2E3FC;\n",
              "    }\n",
              "\n",
              "    [theme=dark] .colab-df-convert:hover {\n",
              "      background-color: #434B5C;\n",
              "      box-shadow: 0px 1px 3px 1px rgba(0, 0, 0, 0.15);\n",
              "      filter: drop-shadow(0px 1px 2px rgba(0, 0, 0, 0.3));\n",
              "      fill: #FFFFFF;\n",
              "    }\n",
              "  </style>\n",
              "\n",
              "    <script>\n",
              "      const buttonEl =\n",
              "        document.querySelector('#df-be4ba60e-db5b-4d52-acb5-ad0083e46bea button.colab-df-convert');\n",
              "      buttonEl.style.display =\n",
              "        google.colab.kernel.accessAllowed ? 'block' : 'none';\n",
              "\n",
              "      async function convertToInteractive(key) {\n",
              "        const element = document.querySelector('#df-be4ba60e-db5b-4d52-acb5-ad0083e46bea');\n",
              "        const dataTable =\n",
              "          await google.colab.kernel.invokeFunction('convertToInteractive',\n",
              "                                                    [key], {});\n",
              "        if (!dataTable) return;\n",
              "\n",
              "        const docLinkHtml = 'Like what you see? Visit the ' +\n",
              "          '<a target=\"_blank\" href=https://colab.research.google.com/notebooks/data_table.ipynb>data table notebook</a>'\n",
              "          + ' to learn more about interactive tables.';\n",
              "        element.innerHTML = '';\n",
              "        dataTable['output_type'] = 'display_data';\n",
              "        await google.colab.output.renderOutput(dataTable, element);\n",
              "        const docLink = document.createElement('div');\n",
              "        docLink.innerHTML = docLinkHtml;\n",
              "        element.appendChild(docLink);\n",
              "      }\n",
              "    </script>\n",
              "  </div>\n",
              "\n",
              "\n",
              "<div id=\"df-5d130149-576a-4168-aaa7-208287945b47\">\n",
              "  <button class=\"colab-df-quickchart\" onclick=\"quickchart('df-5d130149-576a-4168-aaa7-208287945b47')\"\n",
              "            title=\"Suggest charts\"\n",
              "            style=\"display:none;\">\n",
              "\n",
              "<svg xmlns=\"http://www.w3.org/2000/svg\" height=\"24px\"viewBox=\"0 0 24 24\"\n",
              "     width=\"24px\">\n",
              "    <g>\n",
              "        <path d=\"M19 3H5c-1.1 0-2 .9-2 2v14c0 1.1.9 2 2 2h14c1.1 0 2-.9 2-2V5c0-1.1-.9-2-2-2zM9 17H7v-7h2v7zm4 0h-2V7h2v10zm4 0h-2v-4h2v4z\"/>\n",
              "    </g>\n",
              "</svg>\n",
              "  </button>\n",
              "\n",
              "<style>\n",
              "  .colab-df-quickchart {\n",
              "      --bg-color: #E8F0FE;\n",
              "      --fill-color: #1967D2;\n",
              "      --hover-bg-color: #E2EBFA;\n",
              "      --hover-fill-color: #174EA6;\n",
              "      --disabled-fill-color: #AAA;\n",
              "      --disabled-bg-color: #DDD;\n",
              "  }\n",
              "\n",
              "  [theme=dark] .colab-df-quickchart {\n",
              "      --bg-color: #3B4455;\n",
              "      --fill-color: #D2E3FC;\n",
              "      --hover-bg-color: #434B5C;\n",
              "      --hover-fill-color: #FFFFFF;\n",
              "      --disabled-bg-color: #3B4455;\n",
              "      --disabled-fill-color: #666;\n",
              "  }\n",
              "\n",
              "  .colab-df-quickchart {\n",
              "    background-color: var(--bg-color);\n",
              "    border: none;\n",
              "    border-radius: 50%;\n",
              "    cursor: pointer;\n",
              "    display: none;\n",
              "    fill: var(--fill-color);\n",
              "    height: 32px;\n",
              "    padding: 0;\n",
              "    width: 32px;\n",
              "  }\n",
              "\n",
              "  .colab-df-quickchart:hover {\n",
              "    background-color: var(--hover-bg-color);\n",
              "    box-shadow: 0 1px 2px rgba(60, 64, 67, 0.3), 0 1px 3px 1px rgba(60, 64, 67, 0.15);\n",
              "    fill: var(--button-hover-fill-color);\n",
              "  }\n",
              "\n",
              "  .colab-df-quickchart-complete:disabled,\n",
              "  .colab-df-quickchart-complete:disabled:hover {\n",
              "    background-color: var(--disabled-bg-color);\n",
              "    fill: var(--disabled-fill-color);\n",
              "    box-shadow: none;\n",
              "  }\n",
              "\n",
              "  .colab-df-spinner {\n",
              "    border: 2px solid var(--fill-color);\n",
              "    border-color: transparent;\n",
              "    border-bottom-color: var(--fill-color);\n",
              "    animation:\n",
              "      spin 1s steps(1) infinite;\n",
              "  }\n",
              "\n",
              "  @keyframes spin {\n",
              "    0% {\n",
              "      border-color: transparent;\n",
              "      border-bottom-color: var(--fill-color);\n",
              "      border-left-color: var(--fill-color);\n",
              "    }\n",
              "    20% {\n",
              "      border-color: transparent;\n",
              "      border-left-color: var(--fill-color);\n",
              "      border-top-color: var(--fill-color);\n",
              "    }\n",
              "    30% {\n",
              "      border-color: transparent;\n",
              "      border-left-color: var(--fill-color);\n",
              "      border-top-color: var(--fill-color);\n",
              "      border-right-color: var(--fill-color);\n",
              "    }\n",
              "    40% {\n",
              "      border-color: transparent;\n",
              "      border-right-color: var(--fill-color);\n",
              "      border-top-color: var(--fill-color);\n",
              "    }\n",
              "    60% {\n",
              "      border-color: transparent;\n",
              "      border-right-color: var(--fill-color);\n",
              "    }\n",
              "    80% {\n",
              "      border-color: transparent;\n",
              "      border-right-color: var(--fill-color);\n",
              "      border-bottom-color: var(--fill-color);\n",
              "    }\n",
              "    90% {\n",
              "      border-color: transparent;\n",
              "      border-bottom-color: var(--fill-color);\n",
              "    }\n",
              "  }\n",
              "</style>\n",
              "\n",
              "  <script>\n",
              "    async function quickchart(key) {\n",
              "      const quickchartButtonEl =\n",
              "        document.querySelector('#' + key + ' button');\n",
              "      quickchartButtonEl.disabled = true;  // To prevent multiple clicks.\n",
              "      quickchartButtonEl.classList.add('colab-df-spinner');\n",
              "      try {\n",
              "        const charts = await google.colab.kernel.invokeFunction(\n",
              "            'suggestCharts', [key], {});\n",
              "      } catch (error) {\n",
              "        console.error('Error during call to suggestCharts:', error);\n",
              "      }\n",
              "      quickchartButtonEl.classList.remove('colab-df-spinner');\n",
              "      quickchartButtonEl.classList.add('colab-df-quickchart-complete');\n",
              "    }\n",
              "    (() => {\n",
              "      let quickchartButtonEl =\n",
              "        document.querySelector('#df-5d130149-576a-4168-aaa7-208287945b47 button');\n",
              "      quickchartButtonEl.style.display =\n",
              "        google.colab.kernel.accessAllowed ? 'block' : 'none';\n",
              "    })();\n",
              "  </script>\n",
              "</div>\n",
              "\n",
              "    </div>\n",
              "  </div>\n"
            ],
            "application/vnd.google.colaboratory.intrinsic+json": {
              "type": "dataframe",
              "variable_name": "submision"
            }
          },
          "metadata": {},
          "execution_count": 184
        }
      ],
      "source": [
        "submision.head()"
      ]
    },
    {
      "cell_type": "code",
      "source": [],
      "metadata": {
        "id": "acyAitY5qbV0"
      },
      "execution_count": null,
      "outputs": []
    }
  ],
  "metadata": {
    "colab": {
      "provenance": [],
      "gpuType": "T4",
      "authorship_tag": "ABX9TyOrWT9AJPKiIL6fUbOSbLtg",
      "include_colab_link": true
    },
    "kernelspec": {
      "display_name": "Python 3",
      "name": "python3"
    },
    "language_info": {
      "name": "python"
    },
    "accelerator": "GPU"
  },
  "nbformat": 4,
  "nbformat_minor": 0
}