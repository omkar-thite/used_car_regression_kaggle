{
  "cells": [
    {
      "cell_type": "markdown",
      "source": [
        "# Imports"
      ],
      "metadata": {
        "id": "S4QH-YrcEe2Q"
      }
    },
    {
      "cell_type": "code",
      "execution_count": null,
      "metadata": {
        "id": "wPd6hEMjEHGh"
      },
      "outputs": [],
      "source": [
        "# Import required libraries\n",
        "import numpy as np\n",
        "import pandas as pd\n",
        "import re\n",
        "import random\n",
        "\n",
        "from sklearn.preprocessing import StandardScaler\n",
        "from sklearn.feature_selection import mutual_info_regression\n",
        "from sklearn.metrics import mean_squared_error\n",
        "from sklearn.model_selection import train_test_split\n",
        "from sklearn.linear_model import Ridge\n",
        "from sklearn.impute import SimpleImputer\n",
        "from sklearn.decomposition import PCA\n",
        "from sklearn.cluster import KMeans\n",
        "from sklearn.preprocessing import OneHotEncoder\n",
        "\n",
        "import tensorflow as tf\n",
        "from xgboost import XGBRegressor\n",
        "import xgboost as xgb\n",
        "import seaborn as sns\n",
        "\n",
        "import matplotlib.pyplot as plt"
      ]
    },
    {
      "cell_type": "code",
      "execution_count": null,
      "metadata": {
        "id": "ziW1FOYBNIW5"
      },
      "outputs": [],
      "source": [
        "RANDOM_STATE = 123"
      ]
    },
    {
      "cell_type": "code",
      "execution_count": null,
      "metadata": {
        "colab": {
          "base_uri": "https://localhost:8080/"
        },
        "id": "Cl71m8KhMaJ5",
        "outputId": "230682fa-f96a-47f7-acfe-eb34d26fc6a5"
      },
      "outputs": [
        {
          "output_type": "execute_result",
          "data": {
            "text/plain": [
              "(188533, 12)"
            ]
          },
          "metadata": {},
          "execution_count": 432
        }
      ],
      "source": [
        "df = pd.read_csv('train.csv', delimiter=',')\n",
        "df.pop('id')\n",
        "df.shape"
      ]
    },
    {
      "cell_type": "code",
      "execution_count": null,
      "metadata": {
        "colab": {
          "base_uri": "https://localhost:8080/"
        },
        "id": "v57S_jKguIk8",
        "outputId": "ec984c62-1762-4f4d-a540-f043e232e45c"
      },
      "outputs": [
        {
          "output_type": "execute_result",
          "data": {
            "text/plain": [
              "(125690, 11)"
            ]
          },
          "metadata": {},
          "execution_count": 433
        }
      ],
      "source": [
        "test = pd.read_csv('test.csv')\n",
        "id = test.pop('id')\n",
        "test.shape"
      ]
    },
    {
      "cell_type": "code",
      "execution_count": null,
      "metadata": {
        "colab": {
          "base_uri": "https://localhost:8080/",
          "height": 414
        },
        "id": "3mFyDB_vMcUJ",
        "outputId": "190dbec1-f5b5-4479-f50d-6859216a1f0d"
      },
      "outputs": [
        {
          "output_type": "execute_result",
          "data": {
            "text/plain": [
              "           brand              model  model_year  milage      fuel_type  \\\n",
              "0           MINI      Cooper S Base        2007  213000       Gasoline   \n",
              "1        Lincoln              LS V8        2002  143250       Gasoline   \n",
              "2      Chevrolet  Silverado 2500 LT        2002  136731  E85 Flex Fuel   \n",
              "3        Genesis   G90 5.0 Ultimate        2017   19500       Gasoline   \n",
              "4  Mercedes-Benz        Metris Base        2021    7388       Gasoline   \n",
              "\n",
              "                                              engine  \\\n",
              "0       172.0HP 1.6L 4 Cylinder Engine Gasoline Fuel   \n",
              "1       252.0HP 3.9L 8 Cylinder Engine Gasoline Fuel   \n",
              "2  320.0HP 5.3L 8 Cylinder Engine Flex Fuel Capab...   \n",
              "3       420.0HP 5.0L 8 Cylinder Engine Gasoline Fuel   \n",
              "4       208.0HP 2.0L 4 Cylinder Engine Gasoline Fuel   \n",
              "\n",
              "                     transmission ext_col int_col  \\\n",
              "0                             A/T  Yellow    Gray   \n",
              "1                             A/T  Silver   Beige   \n",
              "2                             A/T    Blue    Gray   \n",
              "3  Transmission w/Dual Shift Mode   Black   Black   \n",
              "4                     7-Speed A/T   Black   Beige   \n",
              "\n",
              "                                 accident clean_title  price  \n",
              "0                           None reported         Yes   4200  \n",
              "1  At least 1 accident or damage reported         Yes   4999  \n",
              "2                           None reported         Yes  13900  \n",
              "3                           None reported         Yes  45000  \n",
              "4                           None reported         Yes  97500  "
            ],
            "text/html": [
              "\n",
              "  <div id=\"df-a718662c-3b62-467a-93e0-8edb5eea80ca\" class=\"colab-df-container\">\n",
              "    <div>\n",
              "<style scoped>\n",
              "    .dataframe tbody tr th:only-of-type {\n",
              "        vertical-align: middle;\n",
              "    }\n",
              "\n",
              "    .dataframe tbody tr th {\n",
              "        vertical-align: top;\n",
              "    }\n",
              "\n",
              "    .dataframe thead th {\n",
              "        text-align: right;\n",
              "    }\n",
              "</style>\n",
              "<table border=\"1\" class=\"dataframe\">\n",
              "  <thead>\n",
              "    <tr style=\"text-align: right;\">\n",
              "      <th></th>\n",
              "      <th>brand</th>\n",
              "      <th>model</th>\n",
              "      <th>model_year</th>\n",
              "      <th>milage</th>\n",
              "      <th>fuel_type</th>\n",
              "      <th>engine</th>\n",
              "      <th>transmission</th>\n",
              "      <th>ext_col</th>\n",
              "      <th>int_col</th>\n",
              "      <th>accident</th>\n",
              "      <th>clean_title</th>\n",
              "      <th>price</th>\n",
              "    </tr>\n",
              "  </thead>\n",
              "  <tbody>\n",
              "    <tr>\n",
              "      <th>0</th>\n",
              "      <td>MINI</td>\n",
              "      <td>Cooper S Base</td>\n",
              "      <td>2007</td>\n",
              "      <td>213000</td>\n",
              "      <td>Gasoline</td>\n",
              "      <td>172.0HP 1.6L 4 Cylinder Engine Gasoline Fuel</td>\n",
              "      <td>A/T</td>\n",
              "      <td>Yellow</td>\n",
              "      <td>Gray</td>\n",
              "      <td>None reported</td>\n",
              "      <td>Yes</td>\n",
              "      <td>4200</td>\n",
              "    </tr>\n",
              "    <tr>\n",
              "      <th>1</th>\n",
              "      <td>Lincoln</td>\n",
              "      <td>LS V8</td>\n",
              "      <td>2002</td>\n",
              "      <td>143250</td>\n",
              "      <td>Gasoline</td>\n",
              "      <td>252.0HP 3.9L 8 Cylinder Engine Gasoline Fuel</td>\n",
              "      <td>A/T</td>\n",
              "      <td>Silver</td>\n",
              "      <td>Beige</td>\n",
              "      <td>At least 1 accident or damage reported</td>\n",
              "      <td>Yes</td>\n",
              "      <td>4999</td>\n",
              "    </tr>\n",
              "    <tr>\n",
              "      <th>2</th>\n",
              "      <td>Chevrolet</td>\n",
              "      <td>Silverado 2500 LT</td>\n",
              "      <td>2002</td>\n",
              "      <td>136731</td>\n",
              "      <td>E85 Flex Fuel</td>\n",
              "      <td>320.0HP 5.3L 8 Cylinder Engine Flex Fuel Capab...</td>\n",
              "      <td>A/T</td>\n",
              "      <td>Blue</td>\n",
              "      <td>Gray</td>\n",
              "      <td>None reported</td>\n",
              "      <td>Yes</td>\n",
              "      <td>13900</td>\n",
              "    </tr>\n",
              "    <tr>\n",
              "      <th>3</th>\n",
              "      <td>Genesis</td>\n",
              "      <td>G90 5.0 Ultimate</td>\n",
              "      <td>2017</td>\n",
              "      <td>19500</td>\n",
              "      <td>Gasoline</td>\n",
              "      <td>420.0HP 5.0L 8 Cylinder Engine Gasoline Fuel</td>\n",
              "      <td>Transmission w/Dual Shift Mode</td>\n",
              "      <td>Black</td>\n",
              "      <td>Black</td>\n",
              "      <td>None reported</td>\n",
              "      <td>Yes</td>\n",
              "      <td>45000</td>\n",
              "    </tr>\n",
              "    <tr>\n",
              "      <th>4</th>\n",
              "      <td>Mercedes-Benz</td>\n",
              "      <td>Metris Base</td>\n",
              "      <td>2021</td>\n",
              "      <td>7388</td>\n",
              "      <td>Gasoline</td>\n",
              "      <td>208.0HP 2.0L 4 Cylinder Engine Gasoline Fuel</td>\n",
              "      <td>7-Speed A/T</td>\n",
              "      <td>Black</td>\n",
              "      <td>Beige</td>\n",
              "      <td>None reported</td>\n",
              "      <td>Yes</td>\n",
              "      <td>97500</td>\n",
              "    </tr>\n",
              "  </tbody>\n",
              "</table>\n",
              "</div>\n",
              "    <div class=\"colab-df-buttons\">\n",
              "\n",
              "  <div class=\"colab-df-container\">\n",
              "    <button class=\"colab-df-convert\" onclick=\"convertToInteractive('df-a718662c-3b62-467a-93e0-8edb5eea80ca')\"\n",
              "            title=\"Convert this dataframe to an interactive table.\"\n",
              "            style=\"display:none;\">\n",
              "\n",
              "  <svg xmlns=\"http://www.w3.org/2000/svg\" height=\"24px\" viewBox=\"0 -960 960 960\">\n",
              "    <path d=\"M120-120v-720h720v720H120Zm60-500h600v-160H180v160Zm220 220h160v-160H400v160Zm0 220h160v-160H400v160ZM180-400h160v-160H180v160Zm440 0h160v-160H620v160ZM180-180h160v-160H180v160Zm440 0h160v-160H620v160Z\"/>\n",
              "  </svg>\n",
              "    </button>\n",
              "\n",
              "  <style>\n",
              "    .colab-df-container {\n",
              "      display:flex;\n",
              "      gap: 12px;\n",
              "    }\n",
              "\n",
              "    .colab-df-convert {\n",
              "      background-color: #E8F0FE;\n",
              "      border: none;\n",
              "      border-radius: 50%;\n",
              "      cursor: pointer;\n",
              "      display: none;\n",
              "      fill: #1967D2;\n",
              "      height: 32px;\n",
              "      padding: 0 0 0 0;\n",
              "      width: 32px;\n",
              "    }\n",
              "\n",
              "    .colab-df-convert:hover {\n",
              "      background-color: #E2EBFA;\n",
              "      box-shadow: 0px 1px 2px rgba(60, 64, 67, 0.3), 0px 1px 3px 1px rgba(60, 64, 67, 0.15);\n",
              "      fill: #174EA6;\n",
              "    }\n",
              "\n",
              "    .colab-df-buttons div {\n",
              "      margin-bottom: 4px;\n",
              "    }\n",
              "\n",
              "    [theme=dark] .colab-df-convert {\n",
              "      background-color: #3B4455;\n",
              "      fill: #D2E3FC;\n",
              "    }\n",
              "\n",
              "    [theme=dark] .colab-df-convert:hover {\n",
              "      background-color: #434B5C;\n",
              "      box-shadow: 0px 1px 3px 1px rgba(0, 0, 0, 0.15);\n",
              "      filter: drop-shadow(0px 1px 2px rgba(0, 0, 0, 0.3));\n",
              "      fill: #FFFFFF;\n",
              "    }\n",
              "  </style>\n",
              "\n",
              "    <script>\n",
              "      const buttonEl =\n",
              "        document.querySelector('#df-a718662c-3b62-467a-93e0-8edb5eea80ca button.colab-df-convert');\n",
              "      buttonEl.style.display =\n",
              "        google.colab.kernel.accessAllowed ? 'block' : 'none';\n",
              "\n",
              "      async function convertToInteractive(key) {\n",
              "        const element = document.querySelector('#df-a718662c-3b62-467a-93e0-8edb5eea80ca');\n",
              "        const dataTable =\n",
              "          await google.colab.kernel.invokeFunction('convertToInteractive',\n",
              "                                                    [key], {});\n",
              "        if (!dataTable) return;\n",
              "\n",
              "        const docLinkHtml = 'Like what you see? Visit the ' +\n",
              "          '<a target=\"_blank\" href=https://colab.research.google.com/notebooks/data_table.ipynb>data table notebook</a>'\n",
              "          + ' to learn more about interactive tables.';\n",
              "        element.innerHTML = '';\n",
              "        dataTable['output_type'] = 'display_data';\n",
              "        await google.colab.output.renderOutput(dataTable, element);\n",
              "        const docLink = document.createElement('div');\n",
              "        docLink.innerHTML = docLinkHtml;\n",
              "        element.appendChild(docLink);\n",
              "      }\n",
              "    </script>\n",
              "  </div>\n",
              "\n",
              "\n",
              "<div id=\"df-2130c6a7-d2f5-40a5-825e-f2bff75bd699\">\n",
              "  <button class=\"colab-df-quickchart\" onclick=\"quickchart('df-2130c6a7-d2f5-40a5-825e-f2bff75bd699')\"\n",
              "            title=\"Suggest charts\"\n",
              "            style=\"display:none;\">\n",
              "\n",
              "<svg xmlns=\"http://www.w3.org/2000/svg\" height=\"24px\"viewBox=\"0 0 24 24\"\n",
              "     width=\"24px\">\n",
              "    <g>\n",
              "        <path d=\"M19 3H5c-1.1 0-2 .9-2 2v14c0 1.1.9 2 2 2h14c1.1 0 2-.9 2-2V5c0-1.1-.9-2-2-2zM9 17H7v-7h2v7zm4 0h-2V7h2v10zm4 0h-2v-4h2v4z\"/>\n",
              "    </g>\n",
              "</svg>\n",
              "  </button>\n",
              "\n",
              "<style>\n",
              "  .colab-df-quickchart {\n",
              "      --bg-color: #E8F0FE;\n",
              "      --fill-color: #1967D2;\n",
              "      --hover-bg-color: #E2EBFA;\n",
              "      --hover-fill-color: #174EA6;\n",
              "      --disabled-fill-color: #AAA;\n",
              "      --disabled-bg-color: #DDD;\n",
              "  }\n",
              "\n",
              "  [theme=dark] .colab-df-quickchart {\n",
              "      --bg-color: #3B4455;\n",
              "      --fill-color: #D2E3FC;\n",
              "      --hover-bg-color: #434B5C;\n",
              "      --hover-fill-color: #FFFFFF;\n",
              "      --disabled-bg-color: #3B4455;\n",
              "      --disabled-fill-color: #666;\n",
              "  }\n",
              "\n",
              "  .colab-df-quickchart {\n",
              "    background-color: var(--bg-color);\n",
              "    border: none;\n",
              "    border-radius: 50%;\n",
              "    cursor: pointer;\n",
              "    display: none;\n",
              "    fill: var(--fill-color);\n",
              "    height: 32px;\n",
              "    padding: 0;\n",
              "    width: 32px;\n",
              "  }\n",
              "\n",
              "  .colab-df-quickchart:hover {\n",
              "    background-color: var(--hover-bg-color);\n",
              "    box-shadow: 0 1px 2px rgba(60, 64, 67, 0.3), 0 1px 3px 1px rgba(60, 64, 67, 0.15);\n",
              "    fill: var(--button-hover-fill-color);\n",
              "  }\n",
              "\n",
              "  .colab-df-quickchart-complete:disabled,\n",
              "  .colab-df-quickchart-complete:disabled:hover {\n",
              "    background-color: var(--disabled-bg-color);\n",
              "    fill: var(--disabled-fill-color);\n",
              "    box-shadow: none;\n",
              "  }\n",
              "\n",
              "  .colab-df-spinner {\n",
              "    border: 2px solid var(--fill-color);\n",
              "    border-color: transparent;\n",
              "    border-bottom-color: var(--fill-color);\n",
              "    animation:\n",
              "      spin 1s steps(1) infinite;\n",
              "  }\n",
              "\n",
              "  @keyframes spin {\n",
              "    0% {\n",
              "      border-color: transparent;\n",
              "      border-bottom-color: var(--fill-color);\n",
              "      border-left-color: var(--fill-color);\n",
              "    }\n",
              "    20% {\n",
              "      border-color: transparent;\n",
              "      border-left-color: var(--fill-color);\n",
              "      border-top-color: var(--fill-color);\n",
              "    }\n",
              "    30% {\n",
              "      border-color: transparent;\n",
              "      border-left-color: var(--fill-color);\n",
              "      border-top-color: var(--fill-color);\n",
              "      border-right-color: var(--fill-color);\n",
              "    }\n",
              "    40% {\n",
              "      border-color: transparent;\n",
              "      border-right-color: var(--fill-color);\n",
              "      border-top-color: var(--fill-color);\n",
              "    }\n",
              "    60% {\n",
              "      border-color: transparent;\n",
              "      border-right-color: var(--fill-color);\n",
              "    }\n",
              "    80% {\n",
              "      border-color: transparent;\n",
              "      border-right-color: var(--fill-color);\n",
              "      border-bottom-color: var(--fill-color);\n",
              "    }\n",
              "    90% {\n",
              "      border-color: transparent;\n",
              "      border-bottom-color: var(--fill-color);\n",
              "    }\n",
              "  }\n",
              "</style>\n",
              "\n",
              "  <script>\n",
              "    async function quickchart(key) {\n",
              "      const quickchartButtonEl =\n",
              "        document.querySelector('#' + key + ' button');\n",
              "      quickchartButtonEl.disabled = true;  // To prevent multiple clicks.\n",
              "      quickchartButtonEl.classList.add('colab-df-spinner');\n",
              "      try {\n",
              "        const charts = await google.colab.kernel.invokeFunction(\n",
              "            'suggestCharts', [key], {});\n",
              "      } catch (error) {\n",
              "        console.error('Error during call to suggestCharts:', error);\n",
              "      }\n",
              "      quickchartButtonEl.classList.remove('colab-df-spinner');\n",
              "      quickchartButtonEl.classList.add('colab-df-quickchart-complete');\n",
              "    }\n",
              "    (() => {\n",
              "      let quickchartButtonEl =\n",
              "        document.querySelector('#df-2130c6a7-d2f5-40a5-825e-f2bff75bd699 button');\n",
              "      quickchartButtonEl.style.display =\n",
              "        google.colab.kernel.accessAllowed ? 'block' : 'none';\n",
              "    })();\n",
              "  </script>\n",
              "</div>\n",
              "\n",
              "    </div>\n",
              "  </div>\n"
            ],
            "application/vnd.google.colaboratory.intrinsic+json": {
              "type": "dataframe",
              "variable_name": "df"
            }
          },
          "metadata": {},
          "execution_count": 434
        }
      ],
      "source": [
        "df.head()"
      ]
    },
    {
      "cell_type": "code",
      "execution_count": null,
      "metadata": {
        "id": "cGpMg1VmSYXn"
      },
      "outputs": [],
      "source": [
        "# Make price and milage float to treat them as continuos features later\n",
        "\n",
        "df['price']=df['price'].astype('float')\n",
        "df['milage'] = df['milage'].astype('float')\n",
        "\n",
        "test['milage'] = test['milage'].astype('float')"
      ]
    },
    {
      "cell_type": "code",
      "execution_count": null,
      "metadata": {
        "colab": {
          "base_uri": "https://localhost:8080/"
        },
        "id": "W7AvSH1qgG08",
        "outputId": "605b55fe-47b1-45aa-9129-808a01a98704"
      },
      "outputs": [
        {
          "output_type": "stream",
          "name": "stdout",
          "text": [
            "missing train data:\n",
            "brand               0\n",
            "model               0\n",
            "model_year          0\n",
            "milage              0\n",
            "fuel_type        5083\n",
            "engine              0\n",
            "transmission        0\n",
            "ext_col             0\n",
            "int_col             0\n",
            "accident         2452\n",
            "clean_title     21419\n",
            "price               0\n",
            "dtype: int64\n"
          ]
        }
      ],
      "source": [
        "# Check for missing values\n",
        "print(f'missing train data:\\n{df.isnull().sum()}')"
      ]
    },
    {
      "cell_type": "markdown",
      "source": [],
      "metadata": {
        "id": "Z8VgcqNUEdZ2"
      }
    },
    {
      "cell_type": "code",
      "execution_count": null,
      "metadata": {
        "colab": {
          "base_uri": "https://localhost:8080/"
        },
        "id": "Ilrus79kuVD-",
        "outputId": "7a0e6c8a-287f-41a9-ea5a-a3bd50dfca3d"
      },
      "outputs": [
        {
          "output_type": "stream",
          "name": "stdout",
          "text": [
            "missing test data:\n",
            "brand               0\n",
            "model               0\n",
            "model_year          0\n",
            "milage              0\n",
            "fuel_type        3383\n",
            "engine              0\n",
            "transmission        0\n",
            "ext_col             0\n",
            "int_col             0\n",
            "accident         1632\n",
            "clean_title     14239\n",
            "dtype: int64\n"
          ]
        }
      ],
      "source": [
        "print(f'missing test data:\\n{test.isnull().sum()}')"
      ]
    },
    {
      "cell_type": "code",
      "execution_count": null,
      "metadata": {
        "id": "3gWR0PfVzL-E"
      },
      "outputs": [],
      "source": [
        "# Cleans the categorical and continuos data for missing values using imputation\n",
        "#\n",
        "class Cleaner():\n",
        "    def __init__(self, df):\n",
        "      self.df = df\n",
        "      self.categoricals = []\n",
        "      self.continuos = []\n",
        "      self.categoricals_imputed = []\n",
        "      self.continuos_imputed = []\n",
        "\n",
        "      self.mean_imputer = SimpleImputer(strategy='mean')\n",
        "      self.mode_imputer = SimpleImputer(strategy='most_frequent')\n",
        "\n",
        "      self.update_vars()\n",
        "\n",
        "\n",
        "    def update_vars(self, extra_categoricals=[], extra_continuos=[]):\n",
        "        '''\n",
        "        Updates list of categoricals and continuos variables based on dtypes\n",
        "        Features with dtype int, object and category are considered categoricals while float features are considered continuos.\n",
        "\n",
        "        Args:\n",
        "        extra_categoricals (list): Non categorical features which are to be trated as categoricals\n",
        "        extra_continuos (list) :  Non continuos features to be trated as continuos\n",
        "        '''\n",
        "        self.categoricals = list(set(self.categoricals) | set(self.df.select_dtypes(include=[int, object, 'category']).columns))\n",
        "\n",
        "        if extra_categoricals:\n",
        "            self.categoricals = list(set(self.categoricals) | set(extra_categoricals))\n",
        "\n",
        "        self.continuos = [col for col in self.df.columns if col not in self.categoricals]\n",
        "        if extra_continuos:\n",
        "            self.continuos = list(set(self.continuos) | set(extra_continuos))\n",
        "\n",
        "\n",
        "    def clean_categoricals(self):\n",
        "        '''\n",
        "        Cleans categorical features using Mode imputation\n",
        "        '''\n",
        "        self.update_vars()\n",
        "        categorical_missing_vars = list(filter(lambda x: x not in self.categoricals_imputed, self.categoricals))\n",
        "\n",
        "        if categorical_missing_vars:\n",
        "          print(f'Categorical_missing_vars: {categorical_missing_vars}')\n",
        "          self.df[categorical_missing_vars] = self.mode_imputer.fit_transform(self.df[categorical_missing_vars])\n",
        "          self.categoricals_imputed += categorical_missing_vars\n",
        "\n",
        "\n",
        "    def clean_continuos(self):\n",
        "        self.update_vars()\n",
        "\n",
        "        continuos_missing_vars = list(filter(lambda x: x not in self.continuos_imputed, self.continuos))\n",
        "\n",
        "        if continuos_missing_vars:\n",
        "          print(f'Continuos_missing_vars: {continuos_missing_vars}')\n",
        "          self.df[continuos_missing_vars] = self.mean_imputer.fit_transform(self.df[continuos_missing_vars])\n",
        "          self.continuos_imputed += continuos_missing_vars\n"
      ]
    },
    {
      "cell_type": "code",
      "source": [
        "def check_null(df, test):\n",
        "  ''' Returns DataFrame containg isnull() Series for both Train and Test set '''\n",
        "  return pd.DataFrame({'train null' : df.isnull().sum(), 'test null': test.isnull().sum()})"
      ],
      "metadata": {
        "id": "WrPHoHuNPI4T"
      },
      "execution_count": null,
      "outputs": []
    },
    {
      "cell_type": "code",
      "execution_count": null,
      "metadata": {
        "id": "My3AXsgm1JR6"
      },
      "outputs": [],
      "source": [
        "cleaner = Cleaner(df = df)\n",
        "test_cleaner = Cleaner(df = test)"
      ]
    },
    {
      "cell_type": "code",
      "execution_count": null,
      "metadata": {
        "colab": {
          "base_uri": "https://localhost:8080/"
        },
        "id": "xk58DaYGujba",
        "outputId": "ea8e4825-351f-464f-89f0-743167947531"
      },
      "outputs": [
        {
          "output_type": "stream",
          "name": "stdout",
          "text": [
            "Categorical_missing_vars: ['clean_title', 'model_year', 'ext_col', 'model', 'transmission', 'int_col', 'brand', 'accident', 'engine', 'fuel_type']\n",
            "Categorical_missing_vars: ['clean_title', 'model_year', 'ext_col', 'model', 'transmission', 'int_col', 'brand', 'accident', 'engine', 'fuel_type']\n"
          ]
        }
      ],
      "source": [
        "cleaner.clean_categoricals()\n",
        "test_cleaner.clean_categoricals()"
      ]
    },
    {
      "cell_type": "code",
      "execution_count": null,
      "metadata": {
        "colab": {
          "base_uri": "https://localhost:8080/",
          "height": 425
        },
        "id": "Jqno2w5wuw3p",
        "outputId": "f1b0d3c3-25d8-484b-f85a-07a4321d57b9"
      },
      "outputs": [
        {
          "output_type": "execute_result",
          "data": {
            "text/plain": [
              "              train null  test null\n",
              "accident               0        0.0\n",
              "brand                  0        0.0\n",
              "clean_title            0        0.0\n",
              "engine                 0        0.0\n",
              "ext_col                0        0.0\n",
              "fuel_type              0        0.0\n",
              "int_col                0        0.0\n",
              "milage                 0        0.0\n",
              "model                  0        0.0\n",
              "model_year             0        0.0\n",
              "price                  0        NaN\n",
              "transmission           0        0.0"
            ],
            "text/html": [
              "\n",
              "  <div id=\"df-e0298323-f8f2-4ecc-b17d-643a3c30cb10\" class=\"colab-df-container\">\n",
              "    <div>\n",
              "<style scoped>\n",
              "    .dataframe tbody tr th:only-of-type {\n",
              "        vertical-align: middle;\n",
              "    }\n",
              "\n",
              "    .dataframe tbody tr th {\n",
              "        vertical-align: top;\n",
              "    }\n",
              "\n",
              "    .dataframe thead th {\n",
              "        text-align: right;\n",
              "    }\n",
              "</style>\n",
              "<table border=\"1\" class=\"dataframe\">\n",
              "  <thead>\n",
              "    <tr style=\"text-align: right;\">\n",
              "      <th></th>\n",
              "      <th>train null</th>\n",
              "      <th>test null</th>\n",
              "    </tr>\n",
              "  </thead>\n",
              "  <tbody>\n",
              "    <tr>\n",
              "      <th>accident</th>\n",
              "      <td>0</td>\n",
              "      <td>0.0</td>\n",
              "    </tr>\n",
              "    <tr>\n",
              "      <th>brand</th>\n",
              "      <td>0</td>\n",
              "      <td>0.0</td>\n",
              "    </tr>\n",
              "    <tr>\n",
              "      <th>clean_title</th>\n",
              "      <td>0</td>\n",
              "      <td>0.0</td>\n",
              "    </tr>\n",
              "    <tr>\n",
              "      <th>engine</th>\n",
              "      <td>0</td>\n",
              "      <td>0.0</td>\n",
              "    </tr>\n",
              "    <tr>\n",
              "      <th>ext_col</th>\n",
              "      <td>0</td>\n",
              "      <td>0.0</td>\n",
              "    </tr>\n",
              "    <tr>\n",
              "      <th>fuel_type</th>\n",
              "      <td>0</td>\n",
              "      <td>0.0</td>\n",
              "    </tr>\n",
              "    <tr>\n",
              "      <th>int_col</th>\n",
              "      <td>0</td>\n",
              "      <td>0.0</td>\n",
              "    </tr>\n",
              "    <tr>\n",
              "      <th>milage</th>\n",
              "      <td>0</td>\n",
              "      <td>0.0</td>\n",
              "    </tr>\n",
              "    <tr>\n",
              "      <th>model</th>\n",
              "      <td>0</td>\n",
              "      <td>0.0</td>\n",
              "    </tr>\n",
              "    <tr>\n",
              "      <th>model_year</th>\n",
              "      <td>0</td>\n",
              "      <td>0.0</td>\n",
              "    </tr>\n",
              "    <tr>\n",
              "      <th>price</th>\n",
              "      <td>0</td>\n",
              "      <td>NaN</td>\n",
              "    </tr>\n",
              "    <tr>\n",
              "      <th>transmission</th>\n",
              "      <td>0</td>\n",
              "      <td>0.0</td>\n",
              "    </tr>\n",
              "  </tbody>\n",
              "</table>\n",
              "</div>\n",
              "    <div class=\"colab-df-buttons\">\n",
              "\n",
              "  <div class=\"colab-df-container\">\n",
              "    <button class=\"colab-df-convert\" onclick=\"convertToInteractive('df-e0298323-f8f2-4ecc-b17d-643a3c30cb10')\"\n",
              "            title=\"Convert this dataframe to an interactive table.\"\n",
              "            style=\"display:none;\">\n",
              "\n",
              "  <svg xmlns=\"http://www.w3.org/2000/svg\" height=\"24px\" viewBox=\"0 -960 960 960\">\n",
              "    <path d=\"M120-120v-720h720v720H120Zm60-500h600v-160H180v160Zm220 220h160v-160H400v160Zm0 220h160v-160H400v160ZM180-400h160v-160H180v160Zm440 0h160v-160H620v160ZM180-180h160v-160H180v160Zm440 0h160v-160H620v160Z\"/>\n",
              "  </svg>\n",
              "    </button>\n",
              "\n",
              "  <style>\n",
              "    .colab-df-container {\n",
              "      display:flex;\n",
              "      gap: 12px;\n",
              "    }\n",
              "\n",
              "    .colab-df-convert {\n",
              "      background-color: #E8F0FE;\n",
              "      border: none;\n",
              "      border-radius: 50%;\n",
              "      cursor: pointer;\n",
              "      display: none;\n",
              "      fill: #1967D2;\n",
              "      height: 32px;\n",
              "      padding: 0 0 0 0;\n",
              "      width: 32px;\n",
              "    }\n",
              "\n",
              "    .colab-df-convert:hover {\n",
              "      background-color: #E2EBFA;\n",
              "      box-shadow: 0px 1px 2px rgba(60, 64, 67, 0.3), 0px 1px 3px 1px rgba(60, 64, 67, 0.15);\n",
              "      fill: #174EA6;\n",
              "    }\n",
              "\n",
              "    .colab-df-buttons div {\n",
              "      margin-bottom: 4px;\n",
              "    }\n",
              "\n",
              "    [theme=dark] .colab-df-convert {\n",
              "      background-color: #3B4455;\n",
              "      fill: #D2E3FC;\n",
              "    }\n",
              "\n",
              "    [theme=dark] .colab-df-convert:hover {\n",
              "      background-color: #434B5C;\n",
              "      box-shadow: 0px 1px 3px 1px rgba(0, 0, 0, 0.15);\n",
              "      filter: drop-shadow(0px 1px 2px rgba(0, 0, 0, 0.3));\n",
              "      fill: #FFFFFF;\n",
              "    }\n",
              "  </style>\n",
              "\n",
              "    <script>\n",
              "      const buttonEl =\n",
              "        document.querySelector('#df-e0298323-f8f2-4ecc-b17d-643a3c30cb10 button.colab-df-convert');\n",
              "      buttonEl.style.display =\n",
              "        google.colab.kernel.accessAllowed ? 'block' : 'none';\n",
              "\n",
              "      async function convertToInteractive(key) {\n",
              "        const element = document.querySelector('#df-e0298323-f8f2-4ecc-b17d-643a3c30cb10');\n",
              "        const dataTable =\n",
              "          await google.colab.kernel.invokeFunction('convertToInteractive',\n",
              "                                                    [key], {});\n",
              "        if (!dataTable) return;\n",
              "\n",
              "        const docLinkHtml = 'Like what you see? Visit the ' +\n",
              "          '<a target=\"_blank\" href=https://colab.research.google.com/notebooks/data_table.ipynb>data table notebook</a>'\n",
              "          + ' to learn more about interactive tables.';\n",
              "        element.innerHTML = '';\n",
              "        dataTable['output_type'] = 'display_data';\n",
              "        await google.colab.output.renderOutput(dataTable, element);\n",
              "        const docLink = document.createElement('div');\n",
              "        docLink.innerHTML = docLinkHtml;\n",
              "        element.appendChild(docLink);\n",
              "      }\n",
              "    </script>\n",
              "  </div>\n",
              "\n",
              "\n",
              "<div id=\"df-99186c67-50d4-47fc-a14d-0e91990a10fd\">\n",
              "  <button class=\"colab-df-quickchart\" onclick=\"quickchart('df-99186c67-50d4-47fc-a14d-0e91990a10fd')\"\n",
              "            title=\"Suggest charts\"\n",
              "            style=\"display:none;\">\n",
              "\n",
              "<svg xmlns=\"http://www.w3.org/2000/svg\" height=\"24px\"viewBox=\"0 0 24 24\"\n",
              "     width=\"24px\">\n",
              "    <g>\n",
              "        <path d=\"M19 3H5c-1.1 0-2 .9-2 2v14c0 1.1.9 2 2 2h14c1.1 0 2-.9 2-2V5c0-1.1-.9-2-2-2zM9 17H7v-7h2v7zm4 0h-2V7h2v10zm4 0h-2v-4h2v4z\"/>\n",
              "    </g>\n",
              "</svg>\n",
              "  </button>\n",
              "\n",
              "<style>\n",
              "  .colab-df-quickchart {\n",
              "      --bg-color: #E8F0FE;\n",
              "      --fill-color: #1967D2;\n",
              "      --hover-bg-color: #E2EBFA;\n",
              "      --hover-fill-color: #174EA6;\n",
              "      --disabled-fill-color: #AAA;\n",
              "      --disabled-bg-color: #DDD;\n",
              "  }\n",
              "\n",
              "  [theme=dark] .colab-df-quickchart {\n",
              "      --bg-color: #3B4455;\n",
              "      --fill-color: #D2E3FC;\n",
              "      --hover-bg-color: #434B5C;\n",
              "      --hover-fill-color: #FFFFFF;\n",
              "      --disabled-bg-color: #3B4455;\n",
              "      --disabled-fill-color: #666;\n",
              "  }\n",
              "\n",
              "  .colab-df-quickchart {\n",
              "    background-color: var(--bg-color);\n",
              "    border: none;\n",
              "    border-radius: 50%;\n",
              "    cursor: pointer;\n",
              "    display: none;\n",
              "    fill: var(--fill-color);\n",
              "    height: 32px;\n",
              "    padding: 0;\n",
              "    width: 32px;\n",
              "  }\n",
              "\n",
              "  .colab-df-quickchart:hover {\n",
              "    background-color: var(--hover-bg-color);\n",
              "    box-shadow: 0 1px 2px rgba(60, 64, 67, 0.3), 0 1px 3px 1px rgba(60, 64, 67, 0.15);\n",
              "    fill: var(--button-hover-fill-color);\n",
              "  }\n",
              "\n",
              "  .colab-df-quickchart-complete:disabled,\n",
              "  .colab-df-quickchart-complete:disabled:hover {\n",
              "    background-color: var(--disabled-bg-color);\n",
              "    fill: var(--disabled-fill-color);\n",
              "    box-shadow: none;\n",
              "  }\n",
              "\n",
              "  .colab-df-spinner {\n",
              "    border: 2px solid var(--fill-color);\n",
              "    border-color: transparent;\n",
              "    border-bottom-color: var(--fill-color);\n",
              "    animation:\n",
              "      spin 1s steps(1) infinite;\n",
              "  }\n",
              "\n",
              "  @keyframes spin {\n",
              "    0% {\n",
              "      border-color: transparent;\n",
              "      border-bottom-color: var(--fill-color);\n",
              "      border-left-color: var(--fill-color);\n",
              "    }\n",
              "    20% {\n",
              "      border-color: transparent;\n",
              "      border-left-color: var(--fill-color);\n",
              "      border-top-color: var(--fill-color);\n",
              "    }\n",
              "    30% {\n",
              "      border-color: transparent;\n",
              "      border-left-color: var(--fill-color);\n",
              "      border-top-color: var(--fill-color);\n",
              "      border-right-color: var(--fill-color);\n",
              "    }\n",
              "    40% {\n",
              "      border-color: transparent;\n",
              "      border-right-color: var(--fill-color);\n",
              "      border-top-color: var(--fill-color);\n",
              "    }\n",
              "    60% {\n",
              "      border-color: transparent;\n",
              "      border-right-color: var(--fill-color);\n",
              "    }\n",
              "    80% {\n",
              "      border-color: transparent;\n",
              "      border-right-color: var(--fill-color);\n",
              "      border-bottom-color: var(--fill-color);\n",
              "    }\n",
              "    90% {\n",
              "      border-color: transparent;\n",
              "      border-bottom-color: var(--fill-color);\n",
              "    }\n",
              "  }\n",
              "</style>\n",
              "\n",
              "  <script>\n",
              "    async function quickchart(key) {\n",
              "      const quickchartButtonEl =\n",
              "        document.querySelector('#' + key + ' button');\n",
              "      quickchartButtonEl.disabled = true;  // To prevent multiple clicks.\n",
              "      quickchartButtonEl.classList.add('colab-df-spinner');\n",
              "      try {\n",
              "        const charts = await google.colab.kernel.invokeFunction(\n",
              "            'suggestCharts', [key], {});\n",
              "      } catch (error) {\n",
              "        console.error('Error during call to suggestCharts:', error);\n",
              "      }\n",
              "      quickchartButtonEl.classList.remove('colab-df-spinner');\n",
              "      quickchartButtonEl.classList.add('colab-df-quickchart-complete');\n",
              "    }\n",
              "    (() => {\n",
              "      let quickchartButtonEl =\n",
              "        document.querySelector('#df-99186c67-50d4-47fc-a14d-0e91990a10fd button');\n",
              "      quickchartButtonEl.style.display =\n",
              "        google.colab.kernel.accessAllowed ? 'block' : 'none';\n",
              "    })();\n",
              "  </script>\n",
              "</div>\n",
              "\n",
              "    </div>\n",
              "  </div>\n"
            ],
            "application/vnd.google.colaboratory.intrinsic+json": {
              "type": "dataframe",
              "summary": "{\n  \"name\": \"check_null(df, test)\",\n  \"rows\": 12,\n  \"fields\": [\n    {\n      \"column\": \"train null\",\n      \"properties\": {\n        \"dtype\": \"number\",\n        \"std\": 0,\n        \"min\": 0,\n        \"max\": 0,\n        \"num_unique_values\": 1,\n        \"samples\": [\n          0\n        ],\n        \"semantic_type\": \"\",\n        \"description\": \"\"\n      }\n    },\n    {\n      \"column\": \"test null\",\n      \"properties\": {\n        \"dtype\": \"number\",\n        \"std\": 0.0,\n        \"min\": 0.0,\n        \"max\": 0.0,\n        \"num_unique_values\": 1,\n        \"samples\": [\n          0.0\n        ],\n        \"semantic_type\": \"\",\n        \"description\": \"\"\n      }\n    }\n  ]\n}"
            }
          },
          "metadata": {},
          "execution_count": 442
        }
      ],
      "source": [
        "check_null(df, test)"
      ]
    },
    {
      "cell_type": "code",
      "execution_count": null,
      "metadata": {
        "id": "aiCde4-2V2DG"
      },
      "outputs": [],
      "source": [
        "# Categorical: Int, object: Won't be scaled and will be applied mode Imputer\n",
        "# Continuos: Float, float64:  Will be Scaled, applied mean Imputer"
      ]
    },
    {
      "cell_type": "markdown",
      "source": [
        "### Outliers\n",
        "Look at distributions of some continuos features."
      ],
      "metadata": {
        "id": "pdtcdZ9CIbh9"
      }
    },
    {
      "cell_type": "code",
      "execution_count": null,
      "metadata": {
        "colab": {
          "base_uri": "https://localhost:8080/",
          "height": 472
        },
        "id": "p_kPQRjjEXtG",
        "outputId": "a88bcec3-ace5-47d7-b7ff-460929696ec8"
      },
      "outputs": [
        {
          "output_type": "display_data",
          "data": {
            "text/plain": [
              "<Figure size 640x480 with 1 Axes>"
            ],
            "image/png": "[encoded data removed]"
          },
          "metadata": {}
        }
      ],
      "source": [
        "sns.boxplot(x=df['price'])\n",
        "plt.title(\"Distribution of Training Price\")\n",
        "plt.show()"
      ]
    },
    {
      "cell_type": "code",
      "execution_count": null,
      "metadata": {
        "colab": {
          "base_uri": "https://localhost:8080/",
          "height": 472
        },
        "id": "_KUJtx0qITj2",
        "outputId": "74b0ea40-bed8-42f1-a430-be4eb06c4844"
      },
      "outputs": [
        {
          "output_type": "display_data",
          "data": {
            "text/plain": [
              "<Figure size 640x480 with 1 Axes>"
            ],
            "image/png": "[encoded data removed]"
          },
          "metadata": {}
        }
      ],
      "source": [
        "sns.boxplot(x=df['milage'])\n",
        "plt.title(\"Distribution of training milage\")\n",
        "plt.show()"
      ]
    },
    {
      "cell_type": "code",
      "execution_count": null,
      "metadata": {
        "colab": {
          "base_uri": "https://localhost:8080/",
          "height": 472
        },
        "id": "CcbxyXHTu8zP",
        "outputId": "cac9f9cc-93c4-4fc2-ac56-ae65553590ca"
      },
      "outputs": [
        {
          "output_type": "display_data",
          "data": {
            "text/plain": [
              "<Figure size 640x480 with 1 Axes>"
            ],
            "image/png": "[encoded data removed]"
          },
          "metadata": {}
        }
      ],
      "source": [
        "sns.boxplot(x=test['milage'])\n",
        "plt.title(\"Distribution of test milage\")\n",
        "plt.show()"
      ]
    },
    {
      "cell_type": "code",
      "execution_count": null,
      "metadata": {
        "colab": {
          "base_uri": "https://localhost:8080/",
          "height": 472
        },
        "id": "SAAqCaooJE_q",
        "outputId": "596b1436-4bec-4516-9a38-52b14c2c7a7c"
      },
      "outputs": [
        {
          "output_type": "display_data",
          "data": {
            "text/plain": [
              "<Figure size 640x480 with 1 Axes>"
            ],
            "image/png": "[encoded data removed]"
          },
          "metadata": {}
        }
      ],
      "source": [
        "sns.boxplot(x=df['model_year'])\n",
        "plt.title(\"Distribution of training model_year\")\n",
        "plt.show()"
      ]
    },
    {
      "cell_type": "code",
      "execution_count": null,
      "metadata": {
        "colab": {
          "base_uri": "https://localhost:8080/",
          "height": 472
        },
        "id": "N_wEUpDGvBrV",
        "outputId": "3d516f27-4568-4a6e-8202-a6caf1d095e6"
      },
      "outputs": [
        {
          "output_type": "display_data",
          "data": {
            "text/plain": [
              "<Figure size 640x480 with 1 Axes>"
            ],
            "image/png": "[encoded data removed]"
          },
          "metadata": {}
        }
      ],
      "source": [
        "sns.boxplot(x=test['model_year'])\n",
        "plt.title(\"Distribution of test model_year\")\n",
        "plt.show()"
      ]
    },
    {
      "cell_type": "markdown",
      "source": [
        "It seems price and milage has extreme outliers."
      ],
      "metadata": {
        "id": "icmeMSqSK8gA"
      }
    },
    {
      "cell_type": "code",
      "execution_count": null,
      "metadata": {
        "colab": {
          "base_uri": "https://localhost:8080/",
          "height": 335
        },
        "id": "dvag8q80Dlk9",
        "outputId": "7d6a7b0c-0cd2-44a8-8982-24cfaedf9da4"
      },
      "outputs": [
        {
          "output_type": "execute_result",
          "data": {
            "text/plain": [
              "count    1.885330e+05\n",
              "mean     4.387802e+04\n",
              "std      7.881952e+04\n",
              "min      2.000000e+03\n",
              "25%      1.700000e+04\n",
              "50%      3.082500e+04\n",
              "75%      4.990000e+04\n",
              "max      2.954083e+06\n",
              "Name: price, dtype: float64"
            ],
            "text/html": [
              "<div>\n",
              "<style scoped>\n",
              "    .dataframe tbody tr th:only-of-type {\n",
              "        vertical-align: middle;\n",
              "    }\n",
              "\n",
              "    .dataframe tbody tr th {\n",
              "        vertical-align: top;\n",
              "    }\n",
              "\n",
              "    .dataframe thead th {\n",
              "        text-align: right;\n",
              "    }\n",
              "</style>\n",
              "<table border=\"1\" class=\"dataframe\">\n",
              "  <thead>\n",
              "    <tr style=\"text-align: right;\">\n",
              "      <th></th>\n",
              "      <th>price</th>\n",
              "    </tr>\n",
              "  </thead>\n",
              "  <tbody>\n",
              "    <tr>\n",
              "      <th>count</th>\n",
              "      <td>1.885330e+05</td>\n",
              "    </tr>\n",
              "    <tr>\n",
              "      <th>mean</th>\n",
              "      <td>4.387802e+04</td>\n",
              "    </tr>\n",
              "    <tr>\n",
              "      <th>std</th>\n",
              "      <td>7.881952e+04</td>\n",
              "    </tr>\n",
              "    <tr>\n",
              "      <th>min</th>\n",
              "      <td>2.000000e+03</td>\n",
              "    </tr>\n",
              "    <tr>\n",
              "      <th>25%</th>\n",
              "      <td>1.700000e+04</td>\n",
              "    </tr>\n",
              "    <tr>\n",
              "      <th>50%</th>\n",
              "      <td>3.082500e+04</td>\n",
              "    </tr>\n",
              "    <tr>\n",
              "      <th>75%</th>\n",
              "      <td>4.990000e+04</td>\n",
              "    </tr>\n",
              "    <tr>\n",
              "      <th>max</th>\n",
              "      <td>2.954083e+06</td>\n",
              "    </tr>\n",
              "  </tbody>\n",
              "</table>\n",
              "</div><br><label><b>dtype:</b> float64</label>"
            ]
          },
          "metadata": {},
          "execution_count": 449
        }
      ],
      "source": [
        "df['price'].describe()"
      ]
    },
    {
      "cell_type": "code",
      "source": [
        "df['milage'].describe()"
      ],
      "metadata": {
        "colab": {
          "base_uri": "https://localhost:8080/",
          "height": 335
        },
        "id": "N_UgzPYiLAiA",
        "outputId": "347dfee5-5115-42a0-cddd-487c339421bc"
      },
      "execution_count": null,
      "outputs": [
        {
          "output_type": "execute_result",
          "data": {
            "text/plain": [
              "count    188533.000000\n",
              "mean      65705.295174\n",
              "std       49798.158076\n",
              "min         100.000000\n",
              "25%       24115.000000\n",
              "50%       57785.000000\n",
              "75%       95400.000000\n",
              "max      405000.000000\n",
              "Name: milage, dtype: float64"
            ],
            "text/html": [
              "<div>\n",
              "<style scoped>\n",
              "    .dataframe tbody tr th:only-of-type {\n",
              "        vertical-align: middle;\n",
              "    }\n",
              "\n",
              "    .dataframe tbody tr th {\n",
              "        vertical-align: top;\n",
              "    }\n",
              "\n",
              "    .dataframe thead th {\n",
              "        text-align: right;\n",
              "    }\n",
              "</style>\n",
              "<table border=\"1\" class=\"dataframe\">\n",
              "  <thead>\n",
              "    <tr style=\"text-align: right;\">\n",
              "      <th></th>\n",
              "      <th>milage</th>\n",
              "    </tr>\n",
              "  </thead>\n",
              "  <tbody>\n",
              "    <tr>\n",
              "      <th>count</th>\n",
              "      <td>188533.000000</td>\n",
              "    </tr>\n",
              "    <tr>\n",
              "      <th>mean</th>\n",
              "      <td>65705.295174</td>\n",
              "    </tr>\n",
              "    <tr>\n",
              "      <th>std</th>\n",
              "      <td>49798.158076</td>\n",
              "    </tr>\n",
              "    <tr>\n",
              "      <th>min</th>\n",
              "      <td>100.000000</td>\n",
              "    </tr>\n",
              "    <tr>\n",
              "      <th>25%</th>\n",
              "      <td>24115.000000</td>\n",
              "    </tr>\n",
              "    <tr>\n",
              "      <th>50%</th>\n",
              "      <td>57785.000000</td>\n",
              "    </tr>\n",
              "    <tr>\n",
              "      <th>75%</th>\n",
              "      <td>95400.000000</td>\n",
              "    </tr>\n",
              "    <tr>\n",
              "      <th>max</th>\n",
              "      <td>405000.000000</td>\n",
              "    </tr>\n",
              "  </tbody>\n",
              "</table>\n",
              "</div><br><label><b>dtype:</b> float64</label>"
            ]
          },
          "metadata": {},
          "execution_count": 450
        }
      ]
    },
    {
      "cell_type": "code",
      "execution_count": null,
      "metadata": {
        "id": "6hfQB4f2o8Sw"
      },
      "outputs": [],
      "source": [
        "def handle_outliers(col, limit=2):\n",
        "    '''\n",
        "    Truncate outliers according to limit argument\n",
        "    Truncate here means set values to 0\n",
        "\n",
        "    Args:\n",
        "    col (Series): Column to truncate\n",
        "    limit (int) : Multiple of standard deviation at which to truncate column\n",
        "    '''\n",
        "    x = col.copy()\n",
        "    mean = x.mean()\n",
        "    std_dev = x.std()\n",
        "    lower_bound = mean - (limit * std_dev)\n",
        "    upper_bound = mean + (limit * std_dev)\n",
        "\n",
        "    x[x < lower_bound] = lower_bound\n",
        "    x[x > upper_bound] = upper_bound\n",
        "\n",
        "    return x"
      ]
    },
    {
      "cell_type": "code",
      "execution_count": null,
      "metadata": {
        "id": "A67DXkriJEYG"
      },
      "outputs": [],
      "source": [
        "df['price'] = handle_outliers(df['price'], 3)\n",
        "df['milage'] = handle_outliers(df['milage'], 3)\n",
        "df['model_year'] = handle_outliers(df['model_year'], 3)\n",
        "\n",
        "test['milage'] = handle_outliers(test['milage'], 3)\n",
        "test['model_year'] = handle_outliers(test['model_year'], 3)"
      ]
    },
    {
      "cell_type": "markdown",
      "source": [
        "After truncating outliers upto 3 * std dv, Let's see boxplot of resulting distribution of features."
      ],
      "metadata": {
        "id": "nDbvo8JdLf2p"
      }
    },
    {
      "cell_type": "code",
      "execution_count": null,
      "metadata": {
        "colab": {
          "base_uri": "https://localhost:8080/",
          "height": 927
        },
        "id": "L2vNtxL8IwGb",
        "outputId": "76d16f71-968a-4fa3-99ff-27b97b7bcbba"
      },
      "outputs": [
        {
          "output_type": "display_data",
          "data": {
            "text/plain": [
              "<Figure size 640x480 with 1 Axes>"
            ],
            "image/png": "[encoded data removed]"
          },
          "metadata": {}
        },
        {
          "output_type": "display_data",
          "data": {
            "text/plain": [
              "<Figure size 640x480 with 1 Axes>"
            ],
            "image/png": "[encoded data removed]"
          },
          "metadata": {}
        }
      ],
      "source": [
        "sns.boxplot(x=df['milage'])\n",
        "plt.title(\"Distribution of train milage\")\n",
        "plt.show()\n",
        "sns.boxplot(x=test['milage'])\n",
        "plt.title(\"Distribution of test milage\")\n",
        "plt.show()"
      ]
    },
    {
      "cell_type": "code",
      "execution_count": null,
      "metadata": {
        "colab": {
          "base_uri": "https://localhost:8080/",
          "height": 472
        },
        "id": "4KHsjcrGHlHe",
        "outputId": "94a44e7c-0c7d-4060-a696-dc8ceb776c50"
      },
      "outputs": [
        {
          "output_type": "display_data",
          "data": {
            "text/plain": [
              "<Figure size 640x480 with 1 Axes>"
            ],
            "image/png": "[encoded data removed]"
          },
          "metadata": {}
        }
      ],
      "source": [
        "sns.boxplot(x=df['price'])\n",
        "plt.title(\"Distribution of train price\")\n",
        "plt.show()"
      ]
    },
    {
      "cell_type": "code",
      "execution_count": null,
      "metadata": {
        "colab": {
          "base_uri": "https://localhost:8080/",
          "height": 927
        },
        "id": "buPpM_MPJrWR",
        "outputId": "d0ff8793-a8d9-4931-c9d6-daaa95392f7e"
      },
      "outputs": [
        {
          "output_type": "display_data",
          "data": {
            "text/plain": [
              "<Figure size 640x480 with 1 Axes>"
            ],
            "image/png": "[encoded data removed]"
          },
          "metadata": {}
        },
        {
          "output_type": "display_data",
          "data": {
            "text/plain": [
              "<Figure size 640x480 with 1 Axes>"
            ],
            "image/png": "[encoded data removed]"
          },
          "metadata": {}
        }
      ],
      "source": [
        "sns.boxplot(x=df['model_year'])\n",
        "plt.title(\"Distribution of train model_year\")\n",
        "plt.show()\n",
        "\n",
        "sns.boxplot(x=test['model_year'])\n",
        "plt.title(\"Distribution of test model_year\")\n",
        "plt.show()"
      ]
    },
    {
      "cell_type": "markdown",
      "metadata": {
        "id": "Z-WECcjlOQjS"
      },
      "source": [
        "# Feature Engineering"
      ]
    },
    {
      "cell_type": "markdown",
      "metadata": {
        "id": "XSOjmdI1OMfh"
      },
      "source": [
        "Functions to extract features from original dataset"
      ]
    },
    {
      "cell_type": "code",
      "execution_count": null,
      "metadata": {
        "id": "CA5k9ZxmMezA"
      },
      "outputs": [],
      "source": [
        "# Categorical\n",
        "def get_automatic(string):\n",
        "    string = string.lower()\n",
        "    if 'a/t' in string or 'automatic' in string or 'at' in string:\n",
        "        return 1\n",
        "    else:\n",
        "        return 0"
      ]
    },
    {
      "cell_type": "code",
      "execution_count": null,
      "metadata": {
        "id": "OCvnQF05MjD9"
      },
      "outputs": [],
      "source": [
        "# Categorical\n",
        "def get_gears(string):\n",
        "    match = re.search(r'^(\\d+)-Speed', string, re.IGNORECASE)\n",
        "    if match:\n",
        "        gears = match.group(1)\n",
        "        return int(gears)\n",
        "    else:\n",
        "        return None"
      ]
    },
    {
      "cell_type": "code",
      "execution_count": null,
      "metadata": {
        "id": "wGCevIreKiVV"
      },
      "outputs": [],
      "source": [
        "# Contiunuos\n",
        "def get_hp(engine):\n",
        "    match = re.search(r'([\\d.]+)HP', engine, re.IGNORECASE)\n",
        "    if match:\n",
        "      return float(match.group(1))\n",
        "    else:\n",
        "      return None"
      ]
    },
    {
      "cell_type": "code",
      "execution_count": null,
      "metadata": {
        "id": "h-z8CtAwLKn2"
      },
      "outputs": [],
      "source": [
        "# Continuos\n",
        "def get_L(engine):\n",
        "    match = re.search(r'([\\d.]+)L', engine, re.IGNORECASE)\n",
        "    if match:\n",
        "      return float(match.group(1))\n",
        "    else:\n",
        "      return None"
      ]
    },
    {
      "cell_type": "code",
      "execution_count": null,
      "metadata": {
        "id": "xWby4y8cO7ao"
      },
      "outputs": [],
      "source": [
        "# Categorical\n",
        "def get_cyl(engine):\n",
        "    match = re.search(r'([\\d.]+)?\\s?(?:Cylinder|Cyl|Cylinders)', engine, re.IGNORECASE)\n",
        "    if match:\n",
        "      return int(match.group(1))\n",
        "    else:\n",
        "      return None"
      ]
    },
    {
      "cell_type": "code",
      "execution_count": null,
      "metadata": {
        "id": "fsf--tACRYfP"
      },
      "outputs": [],
      "source": [
        "# Categorical\n",
        "def is_electric(engine):\n",
        "    if 'electric' in engine.lower():\n",
        "      return 1\n",
        "    else:\n",
        "      return 0"
      ]
    },
    {
      "cell_type": "code",
      "execution_count": null,
      "metadata": {
        "id": "leWepmOjSCat"
      },
      "outputs": [],
      "source": [
        "# Continuos\n",
        "def num_valves(engine):\n",
        "    match = re.search(r'([\\d+])V', engine)\n",
        "    if match:\n",
        "      return float(match.group(1))\n",
        "    else:\n",
        "      return None"
      ]
    },
    {
      "cell_type": "code",
      "execution_count": null,
      "metadata": {
        "id": "SMO0cml9MoIm"
      },
      "outputs": [],
      "source": [
        "# Categorical\n",
        "def is_accident(accident):\n",
        "    if type(accident) == str:\n",
        "        if 'accident' in accident.lower():\n",
        "          return 1\n",
        "        else:\n",
        "          return 0\n",
        "    else:\n",
        "        return None"
      ]
    },
    {
      "cell_type": "markdown",
      "metadata": {
        "id": "D5AnQ3qgOwH7"
      },
      "source": [
        "Functions to extract featurs"
      ]
    },
    {
      "cell_type": "code",
      "execution_count": null,
      "metadata": {
        "id": "fJvDz5rDM3Sg"
      },
      "outputs": [],
      "source": [
        "# Create features and insert into dataframe\n",
        "\n",
        "def create_features(df):\n",
        "    ''' Extract features using defined functions\n",
        "        Returns dataframe updated with newly created features '''\n",
        "\n",
        "    df['automatic'] = df['transmission'].apply(get_automatic)\n",
        "    df['gears'] = df['transmission'].apply(get_gears)\n",
        "    df['hp'] = df['engine'].apply(get_hp)\n",
        "    df['L'] = df['engine'].apply(get_L)\n",
        "    df['cylinders'] = df['engine'].apply(get_cyl)\n",
        "    df['accident'] = df['accident'].apply(is_accident)\n",
        "    df['electric'] = df['engine'].apply(is_electric)\n",
        "    df['valves'] = df['engine'].apply(num_valves)\n",
        "\n",
        "def create_interactions(df):\n",
        "    '''\n",
        "    Creates mathematical combinations of features mostly based on intuition\n",
        "    Updates df with these features\n",
        "\n",
        "    Args:\n",
        "    df (DataFrame) : DataFrame to add new features\n",
        "    '''\n",
        "\n",
        "    df['hp/l'] = np.where(df['L'] != 0, df['hp'] / df['L'], None).astype('float')\n",
        "    df['mil/l'] = np.where(df['L'] != 0, df['milage'] / df['L'], None).astype('float')\n",
        "    df['mil/hp'] = np.where(df['hp'] != 0, df['milage'] / df['hp'], None).astype('float')\n",
        "    df['l/cyl'] = np.where(df['cylinders'] != 0, df['L'] / df['cylinders'], None).astype('float')\n",
        "    df['hp/gears'] = np.where(df['gears'] != 0, df['hp'] / df['gears'], None).astype('float')\n",
        "    df['mil/gears'] = np.where(df['gears'] != 0, df['milage'] / df['gears'], None).astype('float')\n",
        "    df['mil/cyl'] = np.where(df['cylinders'] != 0, df['milage'] / df['cylinders'], None).astype('float')\n",
        "\n",
        "    df['hp*automatic'] = df['hp'] * df['automatic']\n",
        "    df['cyl*gears'] = df['cylinders'] * df['gears']\n",
        "\n",
        "    df['carAge'] = pd.Series(2024 - df['model_year']).astype('int')\n",
        "    df['mil/year'] = np.where(df['carAge'] != 0, df['milage'] / df['carAge'], None).astype('float')\n",
        "    df['hp*accident'] = pd.Series(df['hp'] * df['accident']).astype('float')\n",
        "    df['accident*carAge'] = pd.Series(df['accident'] * df['carAge']).astype('float')\n",
        "    df['acc*milage'] = pd.Series(df['accident'] * df['milage']).astype('float')\n",
        "\n",
        "    df['mil*carAge'] = pd.Series(df['milage'] * df['carAge']).astype('float')\n",
        "    df['hp*mil'] = pd.Series(df['hp'] * df['milage']).astype('float')\n"
      ]
    },
    {
      "cell_type": "code",
      "execution_count": null,
      "metadata": {
        "id": "29Sg5YusP3TF"
      },
      "outputs": [],
      "source": [
        "create_features(df)\n",
        "create_features(test)"
      ]
    },
    {
      "cell_type": "markdown",
      "source": [
        "We'll treat L, cylinders, gears features as categoricals as their unique values are less."
      ],
      "metadata": {
        "id": "csogYA3INcFL"
      }
    },
    {
      "cell_type": "markdown",
      "source": [
        "### Clean newly created features"
      ],
      "metadata": {
        "id": "thv5RtGWNtE0"
      }
    },
    {
      "cell_type": "code",
      "execution_count": null,
      "metadata": {
        "id": "p31KZOj05O-y"
      },
      "outputs": [],
      "source": [
        "# We will treat some suitable variables as categorical\n",
        "cleaner.update_vars(extra_categoricals = ['L', 'cylinders', 'gears'])\n",
        "test_cleaner.update_vars(extra_categoricals = ['L', 'cylinders', 'gears'])"
      ]
    },
    {
      "cell_type": "code",
      "execution_count": null,
      "metadata": {
        "colab": {
          "base_uri": "https://localhost:8080/"
        },
        "id": "SXePYpXe9GRv",
        "outputId": "e4b6fede-5ba1-43c5-e2f0-5cbf8971a95c"
      },
      "outputs": [
        {
          "output_type": "stream",
          "name": "stdout",
          "text": [
            "Categorical_missing_vars: ['L', 'electric', 'gears', 'automatic', 'cylinders']\n",
            "Continuos_missing_vars: ['milage', 'price', 'hp', 'valves']\n",
            "Categorical_missing_vars: ['L', 'electric', 'gears', 'automatic', 'cylinders']\n",
            "Continuos_missing_vars: ['milage', 'hp', 'valves']\n"
          ]
        }
      ],
      "source": [
        "cleaner.clean_categoricals()\n",
        "cleaner.clean_continuos()\n",
        "\n",
        "test_cleaner.clean_categoricals()\n",
        "test_cleaner.clean_continuos()"
      ]
    },
    {
      "cell_type": "code",
      "execution_count": null,
      "metadata": {
        "colab": {
          "base_uri": "https://localhost:8080/",
          "height": 645
        },
        "id": "l_dvC6iuIP9R",
        "outputId": "a4e2b040-c454-40a7-96dd-edfac448b8e0"
      },
      "outputs": [
        {
          "output_type": "execute_result",
          "data": {
            "text/plain": [
              "              train null  test null\n",
              "L                      0        0.0\n",
              "accident               0        0.0\n",
              "automatic              0        0.0\n",
              "brand                  0        0.0\n",
              "clean_title            0        0.0\n",
              "cylinders              0        0.0\n",
              "electric               0        0.0\n",
              "engine                 0        0.0\n",
              "ext_col                0        0.0\n",
              "fuel_type              0        0.0\n",
              "gears                  0        0.0\n",
              "hp                     0        0.0\n",
              "int_col                0        0.0\n",
              "milage                 0        0.0\n",
              "model                  0        0.0\n",
              "model_year             0        0.0\n",
              "price                  0        NaN\n",
              "transmission           0        0.0\n",
              "valves                 0        0.0"
            ],
            "text/html": [
              "\n",
              "  <div id=\"df-d9590863-96b6-4d5a-a685-bec8ae4fa68e\" class=\"colab-df-container\">\n",
              "    <div>\n",
              "<style scoped>\n",
              "    .dataframe tbody tr th:only-of-type {\n",
              "        vertical-align: middle;\n",
              "    }\n",
              "\n",
              "    .dataframe tbody tr th {\n",
              "        vertical-align: top;\n",
              "    }\n",
              "\n",
              "    .dataframe thead th {\n",
              "        text-align: right;\n",
              "    }\n",
              "</style>\n",
              "<table border=\"1\" class=\"dataframe\">\n",
              "  <thead>\n",
              "    <tr style=\"text-align: right;\">\n",
              "      <th></th>\n",
              "      <th>train null</th>\n",
              "      <th>test null</th>\n",
              "    </tr>\n",
              "  </thead>\n",
              "  <tbody>\n",
              "    <tr>\n",
              "      <th>L</th>\n",
              "      <td>0</td>\n",
              "      <td>0.0</td>\n",
              "    </tr>\n",
              "    <tr>\n",
              "      <th>accident</th>\n",
              "      <td>0</td>\n",
              "      <td>0.0</td>\n",
              "    </tr>\n",
              "    <tr>\n",
              "      <th>automatic</th>\n",
              "      <td>0</td>\n",
              "      <td>0.0</td>\n",
              "    </tr>\n",
              "    <tr>\n",
              "      <th>brand</th>\n",
              "      <td>0</td>\n",
              "      <td>0.0</td>\n",
              "    </tr>\n",
              "    <tr>\n",
              "      <th>clean_title</th>\n",
              "      <td>0</td>\n",
              "      <td>0.0</td>\n",
              "    </tr>\n",
              "    <tr>\n",
              "      <th>cylinders</th>\n",
              "      <td>0</td>\n",
              "      <td>0.0</td>\n",
              "    </tr>\n",
              "    <tr>\n",
              "      <th>electric</th>\n",
              "      <td>0</td>\n",
              "      <td>0.0</td>\n",
              "    </tr>\n",
              "    <tr>\n",
              "      <th>engine</th>\n",
              "      <td>0</td>\n",
              "      <td>0.0</td>\n",
              "    </tr>\n",
              "    <tr>\n",
              "      <th>ext_col</th>\n",
              "      <td>0</td>\n",
              "      <td>0.0</td>\n",
              "    </tr>\n",
              "    <tr>\n",
              "      <th>fuel_type</th>\n",
              "      <td>0</td>\n",
              "      <td>0.0</td>\n",
              "    </tr>\n",
              "    <tr>\n",
              "      <th>gears</th>\n",
              "      <td>0</td>\n",
              "      <td>0.0</td>\n",
              "    </tr>\n",
              "    <tr>\n",
              "      <th>hp</th>\n",
              "      <td>0</td>\n",
              "      <td>0.0</td>\n",
              "    </tr>\n",
              "    <tr>\n",
              "      <th>int_col</th>\n",
              "      <td>0</td>\n",
              "      <td>0.0</td>\n",
              "    </tr>\n",
              "    <tr>\n",
              "      <th>milage</th>\n",
              "      <td>0</td>\n",
              "      <td>0.0</td>\n",
              "    </tr>\n",
              "    <tr>\n",
              "      <th>model</th>\n",
              "      <td>0</td>\n",
              "      <td>0.0</td>\n",
              "    </tr>\n",
              "    <tr>\n",
              "      <th>model_year</th>\n",
              "      <td>0</td>\n",
              "      <td>0.0</td>\n",
              "    </tr>\n",
              "    <tr>\n",
              "      <th>price</th>\n",
              "      <td>0</td>\n",
              "      <td>NaN</td>\n",
              "    </tr>\n",
              "    <tr>\n",
              "      <th>transmission</th>\n",
              "      <td>0</td>\n",
              "      <td>0.0</td>\n",
              "    </tr>\n",
              "    <tr>\n",
              "      <th>valves</th>\n",
              "      <td>0</td>\n",
              "      <td>0.0</td>\n",
              "    </tr>\n",
              "  </tbody>\n",
              "</table>\n",
              "</div>\n",
              "    <div class=\"colab-df-buttons\">\n",
              "\n",
              "  <div class=\"colab-df-container\">\n",
              "    <button class=\"colab-df-convert\" onclick=\"convertToInteractive('df-d9590863-96b6-4d5a-a685-bec8ae4fa68e')\"\n",
              "            title=\"Convert this dataframe to an interactive table.\"\n",
              "            style=\"display:none;\">\n",
              "\n",
              "  <svg xmlns=\"http://www.w3.org/2000/svg\" height=\"24px\" viewBox=\"0 -960 960 960\">\n",
              "    <path d=\"M120-120v-720h720v720H120Zm60-500h600v-160H180v160Zm220 220h160v-160H400v160Zm0 220h160v-160H400v160ZM180-400h160v-160H180v160Zm440 0h160v-160H620v160ZM180-180h160v-160H180v160Zm440 0h160v-160H620v160Z\"/>\n",
              "  </svg>\n",
              "    </button>\n",
              "\n",
              "  <style>\n",
              "    .colab-df-container {\n",
              "      display:flex;\n",
              "      gap: 12px;\n",
              "    }\n",
              "\n",
              "    .colab-df-convert {\n",
              "      background-color: #E8F0FE;\n",
              "      border: none;\n",
              "      border-radius: 50%;\n",
              "      cursor: pointer;\n",
              "      display: none;\n",
              "      fill: #1967D2;\n",
              "      height: 32px;\n",
              "      padding: 0 0 0 0;\n",
              "      width: 32px;\n",
              "    }\n",
              "\n",
              "    .colab-df-convert:hover {\n",
              "      background-color: #E2EBFA;\n",
              "      box-shadow: 0px 1px 2px rgba(60, 64, 67, 0.3), 0px 1px 3px 1px rgba(60, 64, 67, 0.15);\n",
              "      fill: #174EA6;\n",
              "    }\n",
              "\n",
              "    .colab-df-buttons div {\n",
              "      margin-bottom: 4px;\n",
              "    }\n",
              "\n",
              "    [theme=dark] .colab-df-convert {\n",
              "      background-color: #3B4455;\n",
              "      fill: #D2E3FC;\n",
              "    }\n",
              "\n",
              "    [theme=dark] .colab-df-convert:hover {\n",
              "      background-color: #434B5C;\n",
              "      box-shadow: 0px 1px 3px 1px rgba(0, 0, 0, 0.15);\n",
              "      filter: drop-shadow(0px 1px 2px rgba(0, 0, 0, 0.3));\n",
              "      fill: #FFFFFF;\n",
              "    }\n",
              "  </style>\n",
              "\n",
              "    <script>\n",
              "      const buttonEl =\n",
              "        document.querySelector('#df-d9590863-96b6-4d5a-a685-bec8ae4fa68e button.colab-df-convert');\n",
              "      buttonEl.style.display =\n",
              "        google.colab.kernel.accessAllowed ? 'block' : 'none';\n",
              "\n",
              "      async function convertToInteractive(key) {\n",
              "        const element = document.querySelector('#df-d9590863-96b6-4d5a-a685-bec8ae4fa68e');\n",
              "        const dataTable =\n",
              "          await google.colab.kernel.invokeFunction('convertToInteractive',\n",
              "                                                    [key], {});\n",
              "        if (!dataTable) return;\n",
              "\n",
              "        const docLinkHtml = 'Like what you see? Visit the ' +\n",
              "          '<a target=\"_blank\" href=https://colab.research.google.com/notebooks/data_table.ipynb>data table notebook</a>'\n",
              "          + ' to learn more about interactive tables.';\n",
              "        element.innerHTML = '';\n",
              "        dataTable['output_type'] = 'display_data';\n",
              "        await google.colab.output.renderOutput(dataTable, element);\n",
              "        const docLink = document.createElement('div');\n",
              "        docLink.innerHTML = docLinkHtml;\n",
              "        element.appendChild(docLink);\n",
              "      }\n",
              "    </script>\n",
              "  </div>\n",
              "\n",
              "\n",
              "<div id=\"df-aeeb8449-0fe4-4cd2-8303-63a5c8041b13\">\n",
              "  <button class=\"colab-df-quickchart\" onclick=\"quickchart('df-aeeb8449-0fe4-4cd2-8303-63a5c8041b13')\"\n",
              "            title=\"Suggest charts\"\n",
              "            style=\"display:none;\">\n",
              "\n",
              "<svg xmlns=\"http://www.w3.org/2000/svg\" height=\"24px\"viewBox=\"0 0 24 24\"\n",
              "     width=\"24px\">\n",
              "    <g>\n",
              "        <path d=\"M19 3H5c-1.1 0-2 .9-2 2v14c0 1.1.9 2 2 2h14c1.1 0 2-.9 2-2V5c0-1.1-.9-2-2-2zM9 17H7v-7h2v7zm4 0h-2V7h2v10zm4 0h-2v-4h2v4z\"/>\n",
              "    </g>\n",
              "</svg>\n",
              "  </button>\n",
              "\n",
              "<style>\n",
              "  .colab-df-quickchart {\n",
              "      --bg-color: #E8F0FE;\n",
              "      --fill-color: #1967D2;\n",
              "      --hover-bg-color: #E2EBFA;\n",
              "      --hover-fill-color: #174EA6;\n",
              "      --disabled-fill-color: #AAA;\n",
              "      --disabled-bg-color: #DDD;\n",
              "  }\n",
              "\n",
              "  [theme=dark] .colab-df-quickchart {\n",
              "      --bg-color: #3B4455;\n",
              "      --fill-color: #D2E3FC;\n",
              "      --hover-bg-color: #434B5C;\n",
              "      --hover-fill-color: #FFFFFF;\n",
              "      --disabled-bg-color: #3B4455;\n",
              "      --disabled-fill-color: #666;\n",
              "  }\n",
              "\n",
              "  .colab-df-quickchart {\n",
              "    background-color: var(--bg-color);\n",
              "    border: none;\n",
              "    border-radius: 50%;\n",
              "    cursor: pointer;\n",
              "    display: none;\n",
              "    fill: var(--fill-color);\n",
              "    height: 32px;\n",
              "    padding: 0;\n",
              "    width: 32px;\n",
              "  }\n",
              "\n",
              "  .colab-df-quickchart:hover {\n",
              "    background-color: var(--hover-bg-color);\n",
              "    box-shadow: 0 1px 2px rgba(60, 64, 67, 0.3), 0 1px 3px 1px rgba(60, 64, 67, 0.15);\n",
              "    fill: var(--button-hover-fill-color);\n",
              "  }\n",
              "\n",
              "  .colab-df-quickchart-complete:disabled,\n",
              "  .colab-df-quickchart-complete:disabled:hover {\n",
              "    background-color: var(--disabled-bg-color);\n",
              "    fill: var(--disabled-fill-color);\n",
              "    box-shadow: none;\n",
              "  }\n",
              "\n",
              "  .colab-df-spinner {\n",
              "    border: 2px solid var(--fill-color);\n",
              "    border-color: transparent;\n",
              "    border-bottom-color: var(--fill-color);\n",
              "    animation:\n",
              "      spin 1s steps(1) infinite;\n",
              "  }\n",
              "\n",
              "  @keyframes spin {\n",
              "    0% {\n",
              "      border-color: transparent;\n",
              "      border-bottom-color: var(--fill-color);\n",
              "      border-left-color: var(--fill-color);\n",
              "    }\n",
              "    20% {\n",
              "      border-color: transparent;\n",
              "      border-left-color: var(--fill-color);\n",
              "      border-top-color: var(--fill-color);\n",
              "    }\n",
              "    30% {\n",
              "      border-color: transparent;\n",
              "      border-left-color: var(--fill-color);\n",
              "      border-top-color: var(--fill-color);\n",
              "      border-right-color: var(--fill-color);\n",
              "    }\n",
              "    40% {\n",
              "      border-color: transparent;\n",
              "      border-right-color: var(--fill-color);\n",
              "      border-top-color: var(--fill-color);\n",
              "    }\n",
              "    60% {\n",
              "      border-color: transparent;\n",
              "      border-right-color: var(--fill-color);\n",
              "    }\n",
              "    80% {\n",
              "      border-color: transparent;\n",
              "      border-right-color: var(--fill-color);\n",
              "      border-bottom-color: var(--fill-color);\n",
              "    }\n",
              "    90% {\n",
              "      border-color: transparent;\n",
              "      border-bottom-color: var(--fill-color);\n",
              "    }\n",
              "  }\n",
              "</style>\n",
              "\n",
              "  <script>\n",
              "    async function quickchart(key) {\n",
              "      const quickchartButtonEl =\n",
              "        document.querySelector('#' + key + ' button');\n",
              "      quickchartButtonEl.disabled = true;  // To prevent multiple clicks.\n",
              "      quickchartButtonEl.classList.add('colab-df-spinner');\n",
              "      try {\n",
              "        const charts = await google.colab.kernel.invokeFunction(\n",
              "            'suggestCharts', [key], {});\n",
              "      } catch (error) {\n",
              "        console.error('Error during call to suggestCharts:', error);\n",
              "      }\n",
              "      quickchartButtonEl.classList.remove('colab-df-spinner');\n",
              "      quickchartButtonEl.classList.add('colab-df-quickchart-complete');\n",
              "    }\n",
              "    (() => {\n",
              "      let quickchartButtonEl =\n",
              "        document.querySelector('#df-aeeb8449-0fe4-4cd2-8303-63a5c8041b13 button');\n",
              "      quickchartButtonEl.style.display =\n",
              "        google.colab.kernel.accessAllowed ? 'block' : 'none';\n",
              "    })();\n",
              "  </script>\n",
              "</div>\n",
              "\n",
              "    </div>\n",
              "  </div>\n"
            ],
            "application/vnd.google.colaboratory.intrinsic+json": {
              "type": "dataframe",
              "summary": "{\n  \"name\": \"check_null(df, test)\",\n  \"rows\": 19,\n  \"fields\": [\n    {\n      \"column\": \"train null\",\n      \"properties\": {\n        \"dtype\": \"number\",\n        \"std\": 0,\n        \"min\": 0,\n        \"max\": 0,\n        \"num_unique_values\": 1,\n        \"samples\": [\n          0\n        ],\n        \"semantic_type\": \"\",\n        \"description\": \"\"\n      }\n    },\n    {\n      \"column\": \"test null\",\n      \"properties\": {\n        \"dtype\": \"number\",\n        \"std\": 0.0,\n        \"min\": 0.0,\n        \"max\": 0.0,\n        \"num_unique_values\": 1,\n        \"samples\": [\n          0.0\n        ],\n        \"semantic_type\": \"\",\n        \"description\": \"\"\n      }\n    }\n  ]\n}"
            }
          },
          "metadata": {},
          "execution_count": 468
        }
      ],
      "source": [
        "check_null(df, test)"
      ]
    },
    {
      "cell_type": "markdown",
      "metadata": {
        "id": "-q3ZojAQ-uMg"
      },
      "source": [
        "### Create Interaction features"
      ]
    },
    {
      "cell_type": "code",
      "execution_count": null,
      "metadata": {
        "id": "TSdin4u27VJo"
      },
      "outputs": [],
      "source": [
        "# Create interaction features\n",
        "create_interactions(df)\n",
        "create_interactions(test)"
      ]
    },
    {
      "cell_type": "code",
      "source": [
        "cleaner.clean_continuos()\n",
        "test_cleaner.clean_continuos()"
      ],
      "metadata": {
        "colab": {
          "base_uri": "https://localhost:8080/"
        },
        "id": "aMCxUbXoXXg4",
        "outputId": "e45dafa0-c589-4daf-c92e-55fd282d998a"
      },
      "execution_count": null,
      "outputs": [
        {
          "output_type": "stream",
          "name": "stdout",
          "text": [
            "Continuos_missing_vars: ['hp/l', 'mil/l', 'mil/hp', 'l/cyl', 'hp/gears', 'mil/gears', 'mil/cyl', 'hp*automatic', 'cyl*gears', 'mil/year', 'hp*accident', 'accident*carAge', 'acc*milage', 'mil*carAge', 'hp*mil']\n",
            "Continuos_missing_vars: ['hp/l', 'mil/l', 'mil/hp', 'l/cyl', 'hp/gears', 'mil/gears', 'mil/cyl', 'hp*automatic', 'cyl*gears', 'mil/year', 'hp*accident', 'accident*carAge', 'acc*milage', 'mil*carAge', 'hp*mil']\n"
          ]
        }
      ]
    },
    {
      "cell_type": "markdown",
      "source": [
        "Some features might have skewed distributions, specifically righly skewed distribution. These can be log transformed to make them go near normal distribution."
      ],
      "metadata": {
        "id": "WhcXavMDQFIY"
      }
    },
    {
      "cell_type": "code",
      "execution_count": null,
      "metadata": {
        "colab": {
          "base_uri": "https://localhost:8080/",
          "height": 699
        },
        "id": "5T-cGHn2K1wD",
        "outputId": "2822a811-7468-44ed-e09b-bff88255f007"
      },
      "outputs": [
        {
          "output_type": "display_data",
          "data": {
            "text/plain": [
              "<Figure size 400x800 with 4 Axes>"
            ],
            "image/png": "[encoded data removed]"
          },
          "metadata": {}
        }
      ],
      "source": [
        "# Some features with rightly skewed data can be log transformed\n",
        "fig, axs = plt.subplots(2, 2, figsize=(4, 8))\n",
        "\n",
        "# carAge distribution\n",
        "axs[0, 0].hist(df['carAge'], bins=200)\n",
        "axs[0, 0].set_title('carAge')\n",
        "\n",
        "axs[0, 1].hist(df['milage'], bins=200)\n",
        "axs[0, 1].set_title('milage')\n",
        "\n",
        "# milage is right skewed. Log transformation could be used.\n",
        "carAge = np.where(df['carAge'] != 0, df['carAge'], 1).astype('float')\n",
        "milage = np.where(df['milage'] != 0, df['milage'], 1).astype('float')\n",
        "\n",
        "log_carAge = np.log(carAge)\n",
        "log_milage = np.log(milage)\n",
        "\n",
        "axs[1, 0].hist(log_carAge, bins=200)\n",
        "axs[1, 0].set_title('log carAge')\n",
        "\n",
        "axs[1,1].hist(log_milage, bins=200,)\n",
        "axs[1,1].set_title('log  milage')\n",
        "plt.show()"
      ]
    },
    {
      "cell_type": "markdown",
      "source": [
        "log transformation will be applied in later function."
      ],
      "metadata": {
        "id": "X5gXEnYRQhum"
      }
    },
    {
      "cell_type": "markdown",
      "source": [
        "#### Add binning to milage"
      ],
      "metadata": {
        "id": "Kfuo-t54QqZv"
      }
    },
    {
      "cell_type": "code",
      "source": [
        "# Get range of values\n",
        "print(f'min: {np.min(milage)}, max:{np.max(milage)}')"
      ],
      "metadata": {
        "colab": {
          "base_uri": "https://localhost:8080/"
        },
        "id": "JZRX89shQv5P",
        "outputId": "cc966db6-e751-4065-90ee-eb32f60d2544"
      },
      "execution_count": null,
      "outputs": [
        {
          "output_type": "stream",
          "name": "stdout",
          "text": [
            "min: 100.0, max:215099.76940105195\n"
          ]
        }
      ]
    },
    {
      "cell_type": "code",
      "execution_count": null,
      "metadata": {
        "id": "c0ccFjq8gQZz"
      },
      "outputs": [],
      "source": [
        "# Add binning to milage and categorize ordinally\n",
        "bins = [99.0, 300.0, 700.0, 1000.0, 3000.0, 7000., 10000.0, 20000., 35000., 50000.0, 75000, 100000.0, 125000.0, 150000., 175000, 200000.0, 250000.0]\n",
        "intervals = {pd.Interval(bins[i], bins[i+1], closed='left') : i for i in range(len(bins) - 1)}\n",
        "\n",
        "train_binned_milage = pd.cut(df['milage'], bins, right=False)\n",
        "test_binned_milage = pd.cut(test['milage'], bins, right=False)\n",
        "\n",
        "df['binned_milage'] = train_binned_milage.map(lambda x: intervals[x])\n",
        "test['binned_milage'] = test_binned_milage.map(lambda x: intervals[x])"
      ]
    },
    {
      "cell_type": "markdown",
      "source": [
        "Assign classes to brands according to their mean prices"
      ],
      "metadata": {
        "id": "CHAJXcFRTVEO"
      }
    },
    {
      "cell_type": "code",
      "source": [
        "# Get range of values\n",
        "print(np.min(df['price']), np.max(df['price']))"
      ],
      "metadata": {
        "colab": {
          "base_uri": "https://localhost:8080/"
        },
        "id": "tp6D97JvTcWv",
        "outputId": "e9619a30-ebf7-4ee6-8edb-e136f756cea4"
      },
      "execution_count": null,
      "outputs": [
        {
          "output_type": "stream",
          "name": "stdout",
          "text": [
            "2000.0 280336.5829409307\n"
          ]
        }
      ]
    },
    {
      "cell_type": "code",
      "execution_count": null,
      "metadata": {
        "id": "r8g2RKT8Xf1G"
      },
      "outputs": [],
      "source": [
        "# Classes will be ordinally categorized\n",
        "\n",
        "# Define bins\n",
        "bins = [1000.0, 5000.0, 10000.0, 25000.0, 50000.0, 75000., 100000.0, 125000., 150000.0, 175000., 200000.0, 225000., 250000.0, 275000.0, 300000.0]\n",
        "\n",
        "binned_prices = pd.cut(df['price'], bins, right=False)\n",
        "\n",
        "# Create interval mapping\n",
        "intervals = {pd.Interval(bins[i], bins[i+1], closed='left'): i for i in range(len(bins) - 1)}\n",
        "\n",
        "brand_avg_price = df.groupby('brand')['price'].mean().to_dict()   # {'brand_name' : mean_price}\n",
        "\n",
        "def get_class(mean_price):\n",
        "    for interval, class_ in intervals.items():\n",
        "        if mean_price in interval:\n",
        "          return class_\n",
        "\n",
        "df['brand_class'] = df['brand'].map(lambda x: get_class(brand_avg_price[x]))\n",
        "test['brand_class'] = test['brand'].map(lambda x: get_class(brand_avg_price[x]))\n"
      ]
    },
    {
      "cell_type": "code",
      "execution_count": null,
      "metadata": {
        "id": "9wcKpw3XW-Od"
      },
      "outputs": [],
      "source": [
        "def additional_features(df):\n",
        "    df['AverageMilage'] = df.groupby(\"brand\")['milage'].transform('mean')\n",
        "    df['BrandFreq'] = df.groupby('brand')['brand'].transform('count')/df['brand'].count()\n",
        "\n",
        "    brand_count = df.groupby('brand')['brand'].count().to_dict()\n",
        "    df['brand_count'] = df['brand'].map(brand_count)\n",
        "\n",
        "    brand_avg_mil = df.groupby('brand')['milage'].mean().to_dict()\n",
        "    df['brand_avg_mil'] = df['brand'].map(brand_avg_mil)\n",
        "\n",
        "    df['log_milage'] = np.log(df['milage'])\n",
        "\n",
        "    df['logL'] = np.log(df['L'])\n",
        "\n",
        "    df['logAge'] = np.log1p(df['carAge'])\n"
      ]
    },
    {
      "cell_type": "code",
      "execution_count": null,
      "metadata": {
        "id": "uTcE0Mus0480"
      },
      "outputs": [],
      "source": [
        "additional_features(df)\n",
        "additional_features(test)"
      ]
    },
    {
      "cell_type": "code",
      "source": [
        "check_null(df, test)"
      ],
      "metadata": {
        "colab": {
          "base_uri": "https://localhost:8080/",
          "height": 1000
        },
        "id": "VVxBUbKVXsPf",
        "outputId": "94c3f3d8-3be0-4e45-d059-7acc59cb8a37"
      },
      "execution_count": null,
      "outputs": [
        {
          "output_type": "execute_result",
          "data": {
            "text/plain": [
              "                 train null  test null\n",
              "AverageMilage             0        0.0\n",
              "BrandFreq                 0        0.0\n",
              "L                         0        0.0\n",
              "acc*milage                0        0.0\n",
              "accident                  0        0.0\n",
              "accident*carAge           0        0.0\n",
              "automatic                 0        0.0\n",
              "binned_milage             0        0.0\n",
              "brand                     0        0.0\n",
              "brand_avg_mil             0        0.0\n",
              "brand_class               0        0.0\n",
              "brand_count               0        0.0\n",
              "carAge                    0        0.0\n",
              "clean_title               0        0.0\n",
              "cyl*gears                 0        0.0\n",
              "cylinders                 0        0.0\n",
              "electric                  0        0.0\n",
              "engine                    0        0.0\n",
              "ext_col                   0        0.0\n",
              "fuel_type                 0        0.0\n",
              "gears                     0        0.0\n",
              "hp                        0        0.0\n",
              "hp*accident               0        0.0\n",
              "hp*automatic              0        0.0\n",
              "hp*mil                    0        0.0\n",
              "hp/gears                  0        0.0\n",
              "hp/l                      0        0.0\n",
              "int_col                   0        0.0\n",
              "l/cyl                     0        0.0\n",
              "logAge                    0        0.0\n",
              "logL                      0        0.0\n",
              "log_milage                0        0.0\n",
              "mil*carAge                0        0.0\n",
              "mil/cyl                   0        0.0\n",
              "mil/gears                 0        0.0\n",
              "mil/hp                    0        0.0\n",
              "mil/l                     0        0.0\n",
              "mil/year                  0        0.0\n",
              "milage                    0        0.0\n",
              "model                     0        0.0\n",
              "model_year                0        0.0\n",
              "price                     0        NaN\n",
              "transmission              0        0.0\n",
              "valves                    0        0.0"
            ],
            "text/html": [
              "\n",
              "  <div id=\"df-c1567a87-d661-4567-af2e-5fc48b26abc5\" class=\"colab-df-container\">\n",
              "    <div>\n",
              "<style scoped>\n",
              "    .dataframe tbody tr th:only-of-type {\n",
              "        vertical-align: middle;\n",
              "    }\n",
              "\n",
              "    .dataframe tbody tr th {\n",
              "        vertical-align: top;\n",
              "    }\n",
              "\n",
              "    .dataframe thead th {\n",
              "        text-align: right;\n",
              "    }\n",
              "</style>\n",
              "<table border=\"1\" class=\"dataframe\">\n",
              "  <thead>\n",
              "    <tr style=\"text-align: right;\">\n",
              "      <th></th>\n",
              "      <th>train null</th>\n",
              "      <th>test null</th>\n",
              "    </tr>\n",
              "  </thead>\n",
              "  <tbody>\n",
              "    <tr>\n",
              "      <th>AverageMilage</th>\n",
              "      <td>0</td>\n",
              "      <td>0.0</td>\n",
              "    </tr>\n",
              "    <tr>\n",
              "      <th>BrandFreq</th>\n",
              "      <td>0</td>\n",
              "      <td>0.0</td>\n",
              "    </tr>\n",
              "    <tr>\n",
              "      <th>L</th>\n",
              "      <td>0</td>\n",
              "      <td>0.0</td>\n",
              "    </tr>\n",
              "    <tr>\n",
              "      <th>acc*milage</th>\n",
              "      <td>0</td>\n",
              "      <td>0.0</td>\n",
              "    </tr>\n",
              "    <tr>\n",
              "      <th>accident</th>\n",
              "      <td>0</td>\n",
              "      <td>0.0</td>\n",
              "    </tr>\n",
              "    <tr>\n",
              "      <th>accident*carAge</th>\n",
              "      <td>0</td>\n",
              "      <td>0.0</td>\n",
              "    </tr>\n",
              "    <tr>\n",
              "      <th>automatic</th>\n",
              "      <td>0</td>\n",
              "      <td>0.0</td>\n",
              "    </tr>\n",
              "    <tr>\n",
              "      <th>binned_milage</th>\n",
              "      <td>0</td>\n",
              "      <td>0.0</td>\n",
              "    </tr>\n",
              "    <tr>\n",
              "      <th>brand</th>\n",
              "      <td>0</td>\n",
              "      <td>0.0</td>\n",
              "    </tr>\n",
              "    <tr>\n",
              "      <th>brand_avg_mil</th>\n",
              "      <td>0</td>\n",
              "      <td>0.0</td>\n",
              "    </tr>\n",
              "    <tr>\n",
              "      <th>brand_class</th>\n",
              "      <td>0</td>\n",
              "      <td>0.0</td>\n",
              "    </tr>\n",
              "    <tr>\n",
              "      <th>brand_count</th>\n",
              "      <td>0</td>\n",
              "      <td>0.0</td>\n",
              "    </tr>\n",
              "    <tr>\n",
              "      <th>carAge</th>\n",
              "      <td>0</td>\n",
              "      <td>0.0</td>\n",
              "    </tr>\n",
              "    <tr>\n",
              "      <th>clean_title</th>\n",
              "      <td>0</td>\n",
              "      <td>0.0</td>\n",
              "    </tr>\n",
              "    <tr>\n",
              "      <th>cyl*gears</th>\n",
              "      <td>0</td>\n",
              "      <td>0.0</td>\n",
              "    </tr>\n",
              "    <tr>\n",
              "      <th>cylinders</th>\n",
              "      <td>0</td>\n",
              "      <td>0.0</td>\n",
              "    </tr>\n",
              "    <tr>\n",
              "      <th>electric</th>\n",
              "      <td>0</td>\n",
              "      <td>0.0</td>\n",
              "    </tr>\n",
              "    <tr>\n",
              "      <th>engine</th>\n",
              "      <td>0</td>\n",
              "      <td>0.0</td>\n",
              "    </tr>\n",
              "    <tr>\n",
              "      <th>ext_col</th>\n",
              "      <td>0</td>\n",
              "      <td>0.0</td>\n",
              "    </tr>\n",
              "    <tr>\n",
              "      <th>fuel_type</th>\n",
              "      <td>0</td>\n",
              "      <td>0.0</td>\n",
              "    </tr>\n",
              "    <tr>\n",
              "      <th>gears</th>\n",
              "      <td>0</td>\n",
              "      <td>0.0</td>\n",
              "    </tr>\n",
              "    <tr>\n",
              "      <th>hp</th>\n",
              "      <td>0</td>\n",
              "      <td>0.0</td>\n",
              "    </tr>\n",
              "    <tr>\n",
              "      <th>hp*accident</th>\n",
              "      <td>0</td>\n",
              "      <td>0.0</td>\n",
              "    </tr>\n",
              "    <tr>\n",
              "      <th>hp*automatic</th>\n",
              "      <td>0</td>\n",
              "      <td>0.0</td>\n",
              "    </tr>\n",
              "    <tr>\n",
              "      <th>hp*mil</th>\n",
              "      <td>0</td>\n",
              "      <td>0.0</td>\n",
              "    </tr>\n",
              "    <tr>\n",
              "      <th>hp/gears</th>\n",
              "      <td>0</td>\n",
              "      <td>0.0</td>\n",
              "    </tr>\n",
              "    <tr>\n",
              "      <th>hp/l</th>\n",
              "      <td>0</td>\n",
              "      <td>0.0</td>\n",
              "    </tr>\n",
              "    <tr>\n",
              "      <th>int_col</th>\n",
              "      <td>0</td>\n",
              "      <td>0.0</td>\n",
              "    </tr>\n",
              "    <tr>\n",
              "      <th>l/cyl</th>\n",
              "      <td>0</td>\n",
              "      <td>0.0</td>\n",
              "    </tr>\n",
              "    <tr>\n",
              "      <th>logAge</th>\n",
              "      <td>0</td>\n",
              "      <td>0.0</td>\n",
              "    </tr>\n",
              "    <tr>\n",
              "      <th>logL</th>\n",
              "      <td>0</td>\n",
              "      <td>0.0</td>\n",
              "    </tr>\n",
              "    <tr>\n",
              "      <th>log_milage</th>\n",
              "      <td>0</td>\n",
              "      <td>0.0</td>\n",
              "    </tr>\n",
              "    <tr>\n",
              "      <th>mil*carAge</th>\n",
              "      <td>0</td>\n",
              "      <td>0.0</td>\n",
              "    </tr>\n",
              "    <tr>\n",
              "      <th>mil/cyl</th>\n",
              "      <td>0</td>\n",
              "      <td>0.0</td>\n",
              "    </tr>\n",
              "    <tr>\n",
              "      <th>mil/gears</th>\n",
              "      <td>0</td>\n",
              "      <td>0.0</td>\n",
              "    </tr>\n",
              "    <tr>\n",
              "      <th>mil/hp</th>\n",
              "      <td>0</td>\n",
              "      <td>0.0</td>\n",
              "    </tr>\n",
              "    <tr>\n",
              "      <th>mil/l</th>\n",
              "      <td>0</td>\n",
              "      <td>0.0</td>\n",
              "    </tr>\n",
              "    <tr>\n",
              "      <th>mil/year</th>\n",
              "      <td>0</td>\n",
              "      <td>0.0</td>\n",
              "    </tr>\n",
              "    <tr>\n",
              "      <th>milage</th>\n",
              "      <td>0</td>\n",
              "      <td>0.0</td>\n",
              "    </tr>\n",
              "    <tr>\n",
              "      <th>model</th>\n",
              "      <td>0</td>\n",
              "      <td>0.0</td>\n",
              "    </tr>\n",
              "    <tr>\n",
              "      <th>model_year</th>\n",
              "      <td>0</td>\n",
              "      <td>0.0</td>\n",
              "    </tr>\n",
              "    <tr>\n",
              "      <th>price</th>\n",
              "      <td>0</td>\n",
              "      <td>NaN</td>\n",
              "    </tr>\n",
              "    <tr>\n",
              "      <th>transmission</th>\n",
              "      <td>0</td>\n",
              "      <td>0.0</td>\n",
              "    </tr>\n",
              "    <tr>\n",
              "      <th>valves</th>\n",
              "      <td>0</td>\n",
              "      <td>0.0</td>\n",
              "    </tr>\n",
              "  </tbody>\n",
              "</table>\n",
              "</div>\n",
              "    <div class=\"colab-df-buttons\">\n",
              "\n",
              "  <div class=\"colab-df-container\">\n",
              "    <button class=\"colab-df-convert\" onclick=\"convertToInteractive('df-c1567a87-d661-4567-af2e-5fc48b26abc5')\"\n",
              "            title=\"Convert this dataframe to an interactive table.\"\n",
              "            style=\"display:none;\">\n",
              "\n",
              "  <svg xmlns=\"http://www.w3.org/2000/svg\" height=\"24px\" viewBox=\"0 -960 960 960\">\n",
              "    <path d=\"M120-120v-720h720v720H120Zm60-500h600v-160H180v160Zm220 220h160v-160H400v160Zm0 220h160v-160H400v160ZM180-400h160v-160H180v160Zm440 0h160v-160H620v160ZM180-180h160v-160H180v160Zm440 0h160v-160H620v160Z\"/>\n",
              "  </svg>\n",
              "    </button>\n",
              "\n",
              "  <style>\n",
              "    .colab-df-container {\n",
              "      display:flex;\n",
              "      gap: 12px;\n",
              "    }\n",
              "\n",
              "    .colab-df-convert {\n",
              "      background-color: #E8F0FE;\n",
              "      border: none;\n",
              "      border-radius: 50%;\n",
              "      cursor: pointer;\n",
              "      display: none;\n",
              "      fill: #1967D2;\n",
              "      height: 32px;\n",
              "      padding: 0 0 0 0;\n",
              "      width: 32px;\n",
              "    }\n",
              "\n",
              "    .colab-df-convert:hover {\n",
              "      background-color: #E2EBFA;\n",
              "      box-shadow: 0px 1px 2px rgba(60, 64, 67, 0.3), 0px 1px 3px 1px rgba(60, 64, 67, 0.15);\n",
              "      fill: #174EA6;\n",
              "    }\n",
              "\n",
              "    .colab-df-buttons div {\n",
              "      margin-bottom: 4px;\n",
              "    }\n",
              "\n",
              "    [theme=dark] .colab-df-convert {\n",
              "      background-color: #3B4455;\n",
              "      fill: #D2E3FC;\n",
              "    }\n",
              "\n",
              "    [theme=dark] .colab-df-convert:hover {\n",
              "      background-color: #434B5C;\n",
              "      box-shadow: 0px 1px 3px 1px rgba(0, 0, 0, 0.15);\n",
              "      filter: drop-shadow(0px 1px 2px rgba(0, 0, 0, 0.3));\n",
              "      fill: #FFFFFF;\n",
              "    }\n",
              "  </style>\n",
              "\n",
              "    <script>\n",
              "      const buttonEl =\n",
              "        document.querySelector('#df-c1567a87-d661-4567-af2e-5fc48b26abc5 button.colab-df-convert');\n",
              "      buttonEl.style.display =\n",
              "        google.colab.kernel.accessAllowed ? 'block' : 'none';\n",
              "\n",
              "      async function convertToInteractive(key) {\n",
              "        const element = document.querySelector('#df-c1567a87-d661-4567-af2e-5fc48b26abc5');\n",
              "        const dataTable =\n",
              "          await google.colab.kernel.invokeFunction('convertToInteractive',\n",
              "                                                    [key], {});\n",
              "        if (!dataTable) return;\n",
              "\n",
              "        const docLinkHtml = 'Like what you see? Visit the ' +\n",
              "          '<a target=\"_blank\" href=https://colab.research.google.com/notebooks/data_table.ipynb>data table notebook</a>'\n",
              "          + ' to learn more about interactive tables.';\n",
              "        element.innerHTML = '';\n",
              "        dataTable['output_type'] = 'display_data';\n",
              "        await google.colab.output.renderOutput(dataTable, element);\n",
              "        const docLink = document.createElement('div');\n",
              "        docLink.innerHTML = docLinkHtml;\n",
              "        element.appendChild(docLink);\n",
              "      }\n",
              "    </script>\n",
              "  </div>\n",
              "\n",
              "\n",
              "<div id=\"df-3a2b17cf-d604-466a-8253-0bbacf1b6cfe\">\n",
              "  <button class=\"colab-df-quickchart\" onclick=\"quickchart('df-3a2b17cf-d604-466a-8253-0bbacf1b6cfe')\"\n",
              "            title=\"Suggest charts\"\n",
              "            style=\"display:none;\">\n",
              "\n",
              "<svg xmlns=\"http://www.w3.org/2000/svg\" height=\"24px\"viewBox=\"0 0 24 24\"\n",
              "     width=\"24px\">\n",
              "    <g>\n",
              "        <path d=\"M19 3H5c-1.1 0-2 .9-2 2v14c0 1.1.9 2 2 2h14c1.1 0 2-.9 2-2V5c0-1.1-.9-2-2-2zM9 17H7v-7h2v7zm4 0h-2V7h2v10zm4 0h-2v-4h2v4z\"/>\n",
              "    </g>\n",
              "</svg>\n",
              "  </button>\n",
              "\n",
              "<style>\n",
              "  .colab-df-quickchart {\n",
              "      --bg-color: #E8F0FE;\n",
              "      --fill-color: #1967D2;\n",
              "      --hover-bg-color: #E2EBFA;\n",
              "      --hover-fill-color: #174EA6;\n",
              "      --disabled-fill-color: #AAA;\n",
              "      --disabled-bg-color: #DDD;\n",
              "  }\n",
              "\n",
              "  [theme=dark] .colab-df-quickchart {\n",
              "      --bg-color: #3B4455;\n",
              "      --fill-color: #D2E3FC;\n",
              "      --hover-bg-color: #434B5C;\n",
              "      --hover-fill-color: #FFFFFF;\n",
              "      --disabled-bg-color: #3B4455;\n",
              "      --disabled-fill-color: #666;\n",
              "  }\n",
              "\n",
              "  .colab-df-quickchart {\n",
              "    background-color: var(--bg-color);\n",
              "    border: none;\n",
              "    border-radius: 50%;\n",
              "    cursor: pointer;\n",
              "    display: none;\n",
              "    fill: var(--fill-color);\n",
              "    height: 32px;\n",
              "    padding: 0;\n",
              "    width: 32px;\n",
              "  }\n",
              "\n",
              "  .colab-df-quickchart:hover {\n",
              "    background-color: var(--hover-bg-color);\n",
              "    box-shadow: 0 1px 2px rgba(60, 64, 67, 0.3), 0 1px 3px 1px rgba(60, 64, 67, 0.15);\n",
              "    fill: var(--button-hover-fill-color);\n",
              "  }\n",
              "\n",
              "  .colab-df-quickchart-complete:disabled,\n",
              "  .colab-df-quickchart-complete:disabled:hover {\n",
              "    background-color: var(--disabled-bg-color);\n",
              "    fill: var(--disabled-fill-color);\n",
              "    box-shadow: none;\n",
              "  }\n",
              "\n",
              "  .colab-df-spinner {\n",
              "    border: 2px solid var(--fill-color);\n",
              "    border-color: transparent;\n",
              "    border-bottom-color: var(--fill-color);\n",
              "    animation:\n",
              "      spin 1s steps(1) infinite;\n",
              "  }\n",
              "\n",
              "  @keyframes spin {\n",
              "    0% {\n",
              "      border-color: transparent;\n",
              "      border-bottom-color: var(--fill-color);\n",
              "      border-left-color: var(--fill-color);\n",
              "    }\n",
              "    20% {\n",
              "      border-color: transparent;\n",
              "      border-left-color: var(--fill-color);\n",
              "      border-top-color: var(--fill-color);\n",
              "    }\n",
              "    30% {\n",
              "      border-color: transparent;\n",
              "      border-left-color: var(--fill-color);\n",
              "      border-top-color: var(--fill-color);\n",
              "      border-right-color: var(--fill-color);\n",
              "    }\n",
              "    40% {\n",
              "      border-color: transparent;\n",
              "      border-right-color: var(--fill-color);\n",
              "      border-top-color: var(--fill-color);\n",
              "    }\n",
              "    60% {\n",
              "      border-color: transparent;\n",
              "      border-right-color: var(--fill-color);\n",
              "    }\n",
              "    80% {\n",
              "      border-color: transparent;\n",
              "      border-right-color: var(--fill-color);\n",
              "      border-bottom-color: var(--fill-color);\n",
              "    }\n",
              "    90% {\n",
              "      border-color: transparent;\n",
              "      border-bottom-color: var(--fill-color);\n",
              "    }\n",
              "  }\n",
              "</style>\n",
              "\n",
              "  <script>\n",
              "    async function quickchart(key) {\n",
              "      const quickchartButtonEl =\n",
              "        document.querySelector('#' + key + ' button');\n",
              "      quickchartButtonEl.disabled = true;  // To prevent multiple clicks.\n",
              "      quickchartButtonEl.classList.add('colab-df-spinner');\n",
              "      try {\n",
              "        const charts = await google.colab.kernel.invokeFunction(\n",
              "            'suggestCharts', [key], {});\n",
              "      } catch (error) {\n",
              "        console.error('Error during call to suggestCharts:', error);\n",
              "      }\n",
              "      quickchartButtonEl.classList.remove('colab-df-spinner');\n",
              "      quickchartButtonEl.classList.add('colab-df-quickchart-complete');\n",
              "    }\n",
              "    (() => {\n",
              "      let quickchartButtonEl =\n",
              "        document.querySelector('#df-3a2b17cf-d604-466a-8253-0bbacf1b6cfe button');\n",
              "      quickchartButtonEl.style.display =\n",
              "        google.colab.kernel.accessAllowed ? 'block' : 'none';\n",
              "    })();\n",
              "  </script>\n",
              "</div>\n",
              "\n",
              "    </div>\n",
              "  </div>\n"
            ],
            "application/vnd.google.colaboratory.intrinsic+json": {
              "type": "dataframe",
              "summary": "{\n  \"name\": \"check_null(df, test)\",\n  \"rows\": 44,\n  \"fields\": [\n    {\n      \"column\": \"train null\",\n      \"properties\": {\n        \"dtype\": \"number\",\n        \"std\": 0,\n        \"min\": 0,\n        \"max\": 0,\n        \"num_unique_values\": 1,\n        \"samples\": [\n          0\n        ],\n        \"semantic_type\": \"\",\n        \"description\": \"\"\n      }\n    },\n    {\n      \"column\": \"test null\",\n      \"properties\": {\n        \"dtype\": \"number\",\n        \"std\": 0.0,\n        \"min\": 0.0,\n        \"max\": 0.0,\n        \"num_unique_values\": 1,\n        \"samples\": [\n          0.0\n        ],\n        \"semantic_type\": \"\",\n        \"description\": \"\"\n      }\n    }\n  ]\n}"
            }
          },
          "metadata": {},
          "execution_count": 478
        }
      ]
    },
    {
      "cell_type": "code",
      "execution_count": null,
      "metadata": {
        "colab": {
          "base_uri": "https://localhost:8080/"
        },
        "id": "qXf8aTjKIbAm",
        "outputId": "4983913a-ed12-49b3-f2f5-8ce3dd30822a"
      },
      "outputs": [
        {
          "output_type": "stream",
          "name": "stdout",
          "text": [
            "Continuos_missing_vars: ['AverageMilage', 'BrandFreq', 'brand_avg_mil', 'log_milage', 'logL', 'logAge']\n",
            "Continuos_missing_vars: ['AverageMilage', 'BrandFreq', 'brand_avg_mil', 'log_milage', 'logL', 'logAge']\n"
          ]
        }
      ],
      "source": [
        "cleaner.clean_continuos()\n",
        "test_cleaner.clean_continuos()"
      ]
    },
    {
      "cell_type": "markdown",
      "source": [
        "## Label encode categoricals"
      ],
      "metadata": {
        "id": "zRKMFeKyXAHd"
      }
    },
    {
      "cell_type": "code",
      "execution_count": null,
      "metadata": {
        "id": "Bv4_1UudM7G4"
      },
      "outputs": [],
      "source": [
        "# Label categorical features\n",
        "for colname in cleaner.categoricals:\n",
        "    df[colname], _ = df[colname].factorize()\n",
        "\n",
        "for colname in test_cleaner.categoricals:\n",
        "    test[colname], _ = test[colname].factorize()"
      ]
    },
    {
      "cell_type": "code",
      "execution_count": null,
      "metadata": {
        "id": "80VYrGnHNA1E"
      },
      "outputs": [],
      "source": [
        "X = df.copy()\n",
        "y = X.pop('price')"
      ]
    },
    {
      "cell_type": "code",
      "execution_count": null,
      "metadata": {
        "colab": {
          "base_uri": "https://localhost:8080/"
        },
        "id": "td2iG6nOhiSH",
        "outputId": "d33e466b-a49d-4f3b-d2a9-596de0d7282f"
      },
      "outputs": [
        {
          "output_type": "execute_result",
          "data": {
            "text/plain": [
              "(35750, 38)"
            ]
          },
          "metadata": {},
          "execution_count": 50
        }
      ],
      "source": [
        "X.shape, y.shape"
      ]
    },
    {
      "cell_type": "code",
      "execution_count": null,
      "metadata": {
        "colab": {
          "base_uri": "https://localhost:8080/"
        },
        "id": "GroFKHPtwjGz",
        "outputId": "013a1b7e-5575-482f-c975-92df490de72c"
      },
      "outputs": [
        {
          "output_type": "execute_result",
          "data": {
            "text/plain": [
              "(29519, 34)"
            ]
          },
          "metadata": {},
          "execution_count": 51
        }
      ],
      "source": [
        "test.shape"
      ]
    },
    {
      "cell_type": "markdown",
      "metadata": {
        "id": "QQotMJWzLwMy"
      },
      "source": [
        "#### PCA"
      ]
    },
    {
      "cell_type": "code",
      "execution_count": null,
      "metadata": {
        "colab": {
          "base_uri": "https://localhost:8080/",
          "height": 356
        },
        "id": "mnFZKslUnvyg",
        "outputId": "e3893ea6-0295-460c-bf35-af60e0b7cd17"
      },
      "outputs": [
        {
          "output_type": "error",
          "ename": "ValueError",
          "evalue": "Columns must be same length as key",
          "traceback": [
            "\u001b[0;31m---------------------------------------------------------------------------\u001b[0m",
            "\u001b[0;31mValueError\u001b[0m                                Traceback (most recent call last)",
            "\u001b[0;32m<ipython-input-52-76652676579a>\u001b[0m in \u001b[0;36m<cell line: 0>\u001b[0;34m()\u001b[0m\n\u001b[1;32m      6\u001b[0m \u001b[0;34m\u001b[0m\u001b[0m\n\u001b[1;32m      7\u001b[0m \u001b[0mX_pca\u001b[0m\u001b[0;34m[\u001b[0m\u001b[0mX_pca\u001b[0m\u001b[0;34m.\u001b[0m\u001b[0mselect_dtypes\u001b[0m\u001b[0;34m(\u001b[0m\u001b[0minclude\u001b[0m\u001b[0;34m=\u001b[0m\u001b[0;34m'float'\u001b[0m\u001b[0;34m)\u001b[0m\u001b[0;34m.\u001b[0m\u001b[0mcolumns\u001b[0m\u001b[0;34m]\u001b[0m \u001b[0;34m=\u001b[0m \u001b[0mscaler_pca\u001b[0m\u001b[0;34m.\u001b[0m\u001b[0mfit_transform\u001b[0m\u001b[0;34m(\u001b[0m\u001b[0mX_pca\u001b[0m\u001b[0;34m.\u001b[0m\u001b[0mselect_dtypes\u001b[0m\u001b[0;34m(\u001b[0m\u001b[0minclude\u001b[0m\u001b[0;34m=\u001b[0m\u001b[0;34m'float'\u001b[0m\u001b[0;34m)\u001b[0m\u001b[0;34m)\u001b[0m\u001b[0;34m\u001b[0m\u001b[0;34m\u001b[0m\u001b[0m\n\u001b[0;32m----> 8\u001b[0;31m \u001b[0mtest_pca\u001b[0m\u001b[0;34m[\u001b[0m\u001b[0mX_pca\u001b[0m\u001b[0;34m.\u001b[0m\u001b[0mselect_dtypes\u001b[0m\u001b[0;34m(\u001b[0m\u001b[0minclude\u001b[0m\u001b[0;34m=\u001b[0m\u001b[0;34m'float'\u001b[0m\u001b[0;34m)\u001b[0m\u001b[0;34m.\u001b[0m\u001b[0mcolumns\u001b[0m\u001b[0;34m]\u001b[0m \u001b[0;34m=\u001b[0m \u001b[0mscaler_pca\u001b[0m\u001b[0;34m.\u001b[0m\u001b[0mfit_transform\u001b[0m\u001b[0;34m(\u001b[0m\u001b[0mtest_pca\u001b[0m\u001b[0;34m.\u001b[0m\u001b[0mselect_dtypes\u001b[0m\u001b[0;34m(\u001b[0m\u001b[0minclude\u001b[0m\u001b[0;34m=\u001b[0m\u001b[0;34m'float'\u001b[0m\u001b[0;34m)\u001b[0m\u001b[0;34m)\u001b[0m\u001b[0;34m\u001b[0m\u001b[0;34m\u001b[0m\u001b[0m\n\u001b[0m\u001b[1;32m      9\u001b[0m \u001b[0mprint\u001b[0m\u001b[0;34m(\u001b[0m\u001b[0mX_pca\u001b[0m\u001b[0;34m.\u001b[0m\u001b[0mselect_dtypes\u001b[0m\u001b[0;34m(\u001b[0m\u001b[0minclude\u001b[0m\u001b[0;34m=\u001b[0m\u001b[0;34m'float'\u001b[0m\u001b[0;34m)\u001b[0m\u001b[0;34m.\u001b[0m\u001b[0mcolumns\u001b[0m\u001b[0;34m)\u001b[0m\u001b[0;34m\u001b[0m\u001b[0;34m\u001b[0m\u001b[0m\n\u001b[1;32m     10\u001b[0m \u001b[0;34m\u001b[0m\u001b[0m\n",
            "\u001b[0;32m/usr/local/lib/python3.11/dist-packages/pandas/core/frame.py\u001b[0m in \u001b[0;36m__setitem__\u001b[0;34m(self, key, value)\u001b[0m\n\u001b[1;32m   4297\u001b[0m             \u001b[0mself\u001b[0m\u001b[0;34m.\u001b[0m\u001b[0m_setitem_frame\u001b[0m\u001b[0;34m(\u001b[0m\u001b[0mkey\u001b[0m\u001b[0;34m,\u001b[0m \u001b[0mvalue\u001b[0m\u001b[0;34m)\u001b[0m\u001b[0;34m\u001b[0m\u001b[0;34m\u001b[0m\u001b[0m\n\u001b[1;32m   4298\u001b[0m         \u001b[0;32melif\u001b[0m \u001b[0misinstance\u001b[0m\u001b[0;34m(\u001b[0m\u001b[0mkey\u001b[0m\u001b[0;34m,\u001b[0m \u001b[0;34m(\u001b[0m\u001b[0mSeries\u001b[0m\u001b[0;34m,\u001b[0m \u001b[0mnp\u001b[0m\u001b[0;34m.\u001b[0m\u001b[0mndarray\u001b[0m\u001b[0;34m,\u001b[0m \u001b[0mlist\u001b[0m\u001b[0;34m,\u001b[0m \u001b[0mIndex\u001b[0m\u001b[0;34m)\u001b[0m\u001b[0;34m)\u001b[0m\u001b[0;34m:\u001b[0m\u001b[0;34m\u001b[0m\u001b[0;34m\u001b[0m\u001b[0m\n\u001b[0;32m-> 4299\u001b[0;31m             \u001b[0mself\u001b[0m\u001b[0;34m.\u001b[0m\u001b[0m_setitem_array\u001b[0m\u001b[0;34m(\u001b[0m\u001b[0mkey\u001b[0m\u001b[0;34m,\u001b[0m \u001b[0mvalue\u001b[0m\u001b[0;34m)\u001b[0m\u001b[0;34m\u001b[0m\u001b[0;34m\u001b[0m\u001b[0m\n\u001b[0m\u001b[1;32m   4300\u001b[0m         \u001b[0;32melif\u001b[0m \u001b[0misinstance\u001b[0m\u001b[0;34m(\u001b[0m\u001b[0mvalue\u001b[0m\u001b[0;34m,\u001b[0m \u001b[0mDataFrame\u001b[0m\u001b[0;34m)\u001b[0m\u001b[0;34m:\u001b[0m\u001b[0;34m\u001b[0m\u001b[0;34m\u001b[0m\u001b[0m\n\u001b[1;32m   4301\u001b[0m             \u001b[0mself\u001b[0m\u001b[0;34m.\u001b[0m\u001b[0m_set_item_frame_value\u001b[0m\u001b[0;34m(\u001b[0m\u001b[0mkey\u001b[0m\u001b[0;34m,\u001b[0m \u001b[0mvalue\u001b[0m\u001b[0;34m)\u001b[0m\u001b[0;34m\u001b[0m\u001b[0;34m\u001b[0m\u001b[0m\n",
            "\u001b[0;32m/usr/local/lib/python3.11/dist-packages/pandas/core/frame.py\u001b[0m in \u001b[0;36m_setitem_array\u001b[0;34m(self, key, value)\u001b[0m\n\u001b[1;32m   4348\u001b[0m \u001b[0;34m\u001b[0m\u001b[0m\n\u001b[1;32m   4349\u001b[0m             \u001b[0;32melif\u001b[0m \u001b[0misinstance\u001b[0m\u001b[0;34m(\u001b[0m\u001b[0mvalue\u001b[0m\u001b[0;34m,\u001b[0m \u001b[0mnp\u001b[0m\u001b[0;34m.\u001b[0m\u001b[0mndarray\u001b[0m\u001b[0;34m)\u001b[0m \u001b[0;32mand\u001b[0m \u001b[0mvalue\u001b[0m\u001b[0;34m.\u001b[0m\u001b[0mndim\u001b[0m \u001b[0;34m==\u001b[0m \u001b[0;36m2\u001b[0m\u001b[0;34m:\u001b[0m\u001b[0;34m\u001b[0m\u001b[0;34m\u001b[0m\u001b[0m\n\u001b[0;32m-> 4350\u001b[0;31m                 \u001b[0mself\u001b[0m\u001b[0;34m.\u001b[0m\u001b[0m_iset_not_inplace\u001b[0m\u001b[0;34m(\u001b[0m\u001b[0mkey\u001b[0m\u001b[0;34m,\u001b[0m \u001b[0mvalue\u001b[0m\u001b[0;34m)\u001b[0m\u001b[0;34m\u001b[0m\u001b[0;34m\u001b[0m\u001b[0m\n\u001b[0m\u001b[1;32m   4351\u001b[0m \u001b[0;34m\u001b[0m\u001b[0m\n\u001b[1;32m   4352\u001b[0m             \u001b[0;32melif\u001b[0m \u001b[0mnp\u001b[0m\u001b[0;34m.\u001b[0m\u001b[0mndim\u001b[0m\u001b[0;34m(\u001b[0m\u001b[0mvalue\u001b[0m\u001b[0;34m)\u001b[0m \u001b[0;34m>\u001b[0m \u001b[0;36m1\u001b[0m\u001b[0;34m:\u001b[0m\u001b[0;34m\u001b[0m\u001b[0;34m\u001b[0m\u001b[0m\n",
            "\u001b[0;32m/usr/local/lib/python3.11/dist-packages/pandas/core/frame.py\u001b[0m in \u001b[0;36m_iset_not_inplace\u001b[0;34m(self, key, value)\u001b[0m\n\u001b[1;32m   4375\u001b[0m         \u001b[0;32mif\u001b[0m \u001b[0mself\u001b[0m\u001b[0;34m.\u001b[0m\u001b[0mcolumns\u001b[0m\u001b[0;34m.\u001b[0m\u001b[0mis_unique\u001b[0m\u001b[0;34m:\u001b[0m\u001b[0;34m\u001b[0m\u001b[0;34m\u001b[0m\u001b[0m\n\u001b[1;32m   4376\u001b[0m             \u001b[0;32mif\u001b[0m \u001b[0mnp\u001b[0m\u001b[0;34m.\u001b[0m\u001b[0mshape\u001b[0m\u001b[0;34m(\u001b[0m\u001b[0mvalue\u001b[0m\u001b[0;34m)\u001b[0m\u001b[0;34m[\u001b[0m\u001b[0;34m-\u001b[0m\u001b[0;36m1\u001b[0m\u001b[0;34m]\u001b[0m \u001b[0;34m!=\u001b[0m \u001b[0mlen\u001b[0m\u001b[0;34m(\u001b[0m\u001b[0mkey\u001b[0m\u001b[0;34m)\u001b[0m\u001b[0;34m:\u001b[0m\u001b[0;34m\u001b[0m\u001b[0;34m\u001b[0m\u001b[0m\n\u001b[0;32m-> 4377\u001b[0;31m                 \u001b[0;32mraise\u001b[0m \u001b[0mValueError\u001b[0m\u001b[0;34m(\u001b[0m\u001b[0;34m\"Columns must be same length as key\"\u001b[0m\u001b[0;34m)\u001b[0m\u001b[0;34m\u001b[0m\u001b[0;34m\u001b[0m\u001b[0m\n\u001b[0m\u001b[1;32m   4378\u001b[0m \u001b[0;34m\u001b[0m\u001b[0m\n\u001b[1;32m   4379\u001b[0m             \u001b[0;32mfor\u001b[0m \u001b[0mi\u001b[0m\u001b[0;34m,\u001b[0m \u001b[0mcol\u001b[0m \u001b[0;32min\u001b[0m \u001b[0menumerate\u001b[0m\u001b[0;34m(\u001b[0m\u001b[0mkey\u001b[0m\u001b[0;34m)\u001b[0m\u001b[0;34m:\u001b[0m\u001b[0;34m\u001b[0m\u001b[0;34m\u001b[0m\u001b[0m\n",
            "\u001b[0;31mValueError\u001b[0m: Columns must be same length as key"
          ]
        }
      ],
      "source": [
        "# Standardize the data (important for PCA)\n",
        "X_pca = X.copy()\n",
        "test_pca = test.copy()\n",
        "\n",
        "scaler_pca = StandardScaler()\n",
        "\n",
        "X_pca[X_pca.select_dtypes(include='float').columns] = scaler_pca.fit_transform(X_pca.select_dtypes(include='float'))\n",
        "test_pca[X_pca.select_dtypes(include='float').columns] = scaler_pca.fit_transform(test_pca.select_dtypes(include='float'))\n",
        "print(X_pca.select_dtypes(include='float').columns)\n",
        "\n",
        "# Apply PCA\n",
        "pca = PCA(n_components=2)  # Specify the number of components\n",
        "X_pca_components = pca.fit_transform(X_pca)\n",
        "test_pca_components = pca.fit_transform(test_pca)\n",
        "\n",
        "# Explained Variance\n",
        "explained_variance = np.sum(pca.explained_variance_ratio_)\n",
        "\n",
        "print(\"Explained Variance Ratio:\", explained_variance)\n",
        "\n",
        "# Convert to DataFrame for better readability\n",
        "pca_df = pd.DataFrame(data=X_pca_components, columns=['PC1', 'PC2'])\n",
        "X = pd.concat([X, pca_df], axis=1)\n",
        "\n",
        "pca_df = pd.DataFrame(data=test_pca_components, columns=['PC1', 'PC2'])\n",
        "test = pd.concat([test, pca_df], axis=1)"
      ]
    },
    {
      "cell_type": "code",
      "execution_count": null,
      "metadata": {
        "id": "ZFfOH77wVBld"
      },
      "outputs": [],
      "source": [
        "cleaner.categoricals.extend(['PC1', 'PC2'])\n",
        "test_cleaner.categoricals.extend(['PC1', 'PC2'])"
      ]
    },
    {
      "cell_type": "code",
      "execution_count": null,
      "metadata": {
        "colab": {
          "base_uri": "https://localhost:8080/",
          "height": 211
        },
        "id": "2QzibUXXfIpH",
        "outputId": "01e64062-305b-4081-a1a1-b01543a267af"
      },
      "outputs": [
        {
          "output_type": "error",
          "ename": "NameError",
          "evalue": "name 'pca' is not defined",
          "traceback": [
            "\u001b[0;31m---------------------------------------------------------------------------\u001b[0m",
            "\u001b[0;31mNameError\u001b[0m                                 Traceback (most recent call last)",
            "\u001b[0;32m<ipython-input-54-4010d2e36571>\u001b[0m in \u001b[0;36m<cell line: 0>\u001b[0;34m()\u001b[0m\n\u001b[1;32m      2\u001b[0m \u001b[0;34m\u001b[0m\u001b[0m\n\u001b[1;32m      3\u001b[0m \u001b[0;31m# Get the principal components (PCs)\u001b[0m\u001b[0;34m\u001b[0m\u001b[0;34m\u001b[0m\u001b[0m\n\u001b[0;32m----> 4\u001b[0;31m \u001b[0mcomponents\u001b[0m \u001b[0;34m=\u001b[0m \u001b[0mpca\u001b[0m\u001b[0;34m.\u001b[0m\u001b[0mcomponents_\u001b[0m\u001b[0;34m\u001b[0m\u001b[0;34m\u001b[0m\u001b[0m\n\u001b[0m\u001b[1;32m      5\u001b[0m \u001b[0mprint\u001b[0m\u001b[0;34m(\u001b[0m\u001b[0mcomponents\u001b[0m\u001b[0;34m.\u001b[0m\u001b[0mshape\u001b[0m\u001b[0;34m)\u001b[0m\u001b[0;34m\u001b[0m\u001b[0;34m\u001b[0m\u001b[0m\n\u001b[1;32m      6\u001b[0m \u001b[0;34m\u001b[0m\u001b[0m\n",
            "\u001b[0;31mNameError\u001b[0m: name 'pca' is not defined"
          ]
        }
      ],
      "source": [
        "# See loadings\n",
        "\n",
        "# Get the principal components (PCs)\n",
        "components = pca.components_\n",
        "print(components.shape)\n",
        "\n",
        "# Create a DataFrame for easy visualization\n",
        "components_df = pd.DataFrame(components, columns=X_pca.columns, index=['PC1', 'PC2'])\n",
        "\n",
        "# Display the loadings (contributions of each feature to each component)\n",
        "components_df"
      ]
    },
    {
      "cell_type": "code",
      "execution_count": null,
      "metadata": {
        "id": "9B8JwBa1l2er"
      },
      "outputs": [],
      "source": [
        "me_en = np.where(X['engine'] != 0, X['model'] / X['engine'], 0)"
      ]
    },
    {
      "cell_type": "code",
      "execution_count": null,
      "metadata": {
        "id": "-3jHoU1wm05T"
      },
      "outputs": [],
      "source": [
        "me_bf = X['BrandFreq'] * X['engine']\n",
        "me_bf_mi = mutual_info_regression(pd.DataFrame(me_bf), y)"
      ]
    },
    {
      "cell_type": "code",
      "execution_count": null,
      "metadata": {
        "colab": {
          "base_uri": "https://localhost:8080/"
        },
        "id": "VXxXMk0cmK0b",
        "outputId": "7e52e016-0a77-4f6d-a307-5f82d01bd840"
      },
      "outputs": [
        {
          "output_type": "execute_result",
          "data": {
            "text/plain": [
              "array([0.42379044])"
            ]
          },
          "metadata": {},
          "execution_count": 56
        }
      ],
      "source": [
        "me_bf_mi"
      ]
    },
    {
      "cell_type": "code",
      "execution_count": null,
      "metadata": {
        "colab": {
          "base_uri": "https://localhost:8080/",
          "height": 447
        },
        "id": "Htgp4Z5KkDQw",
        "outputId": "010f0636-b087-422c-a8c9-0e7718ca7181"
      },
      "outputs": [
        {
          "output_type": "execute_result",
          "data": {
            "text/plain": [
              "<matplotlib.collections.PathCollection at 0x7bfa70211810>"
            ]
          },
          "metadata": {},
          "execution_count": 57
        },
        {
          "output_type": "display_data",
          "data": {
            "text/plain": [
              "<Figure size 640x480 with 1 Axes>"
            ],
            "image/png": "[encoded data removed]"
          },
          "metadata": {}
        }
      ],
      "source": [
        "plt.scatter(me_bf, y, c=X['engine'])"
      ]
    },
    {
      "cell_type": "code",
      "execution_count": null,
      "metadata": {
        "id": "gpzOm-_1n7eB"
      },
      "outputs": [],
      "source": [
        "X['me_bfr'] = me_bf\n",
        "test['me_bfr'] = test['BrandFreq'] * test['engine']"
      ]
    },
    {
      "cell_type": "code",
      "execution_count": null,
      "metadata": {
        "colab": {
          "base_uri": "https://localhost:8080/",
          "height": 451
        },
        "id": "QXwt_eTQeimR",
        "outputId": "d83b84f5-08ca-41c5-ddf7-82273ffc0666"
      },
      "outputs": [
        {
          "output_type": "execute_result",
          "data": {
            "text/plain": [
              "<matplotlib.collections.PathCollection at 0x7bf9cef29d50>"
            ]
          },
          "metadata": {},
          "execution_count": 59
        },
        {
          "output_type": "display_data",
          "data": {
            "text/plain": [
              "<Figure size 640x480 with 1 Axes>"
            ],
            "image/png": "[encoded data removed]"
          },
          "metadata": {}
        }
      ],
      "source": [
        "plt.scatter(X['PC1'], X['PC2'])"
      ]
    },
    {
      "cell_type": "code",
      "execution_count": null,
      "metadata": {
        "colab": {
          "base_uri": "https://localhost:8080/",
          "height": 447
        },
        "id": "65afwEAOwwm3",
        "outputId": "d08254e3-8283-4024-ee8c-031e535b16db"
      },
      "outputs": [
        {
          "output_type": "execute_result",
          "data": {
            "text/plain": [
              "<matplotlib.collections.PathCollection at 0x7bf9ced657e0>"
            ]
          },
          "metadata": {},
          "execution_count": 60
        },
        {
          "output_type": "display_data",
          "data": {
            "text/plain": [
              "<Figure size 640x480 with 1 Axes>"
            ],
            "image/png": "[encoded data removed]"
          },
          "metadata": {}
        }
      ],
      "source": [
        "plt.scatter(test['PC1'], test['PC2'])"
      ]
    },
    {
      "cell_type": "markdown",
      "metadata": {
        "id": "gOsY9EVdLtnk"
      },
      "source": [
        "#### K-means Clustering"
      ]
    },
    {
      "cell_type": "code",
      "execution_count": null,
      "metadata": {
        "id": "Zsrjd5UKXd9r"
      },
      "outputs": [],
      "source": [
        "# Add cluster feature\n",
        "c_scaler = StandardScaler()\n",
        "\n",
        "kmeans = KMeans(n_clusters=3, n_init=10)\n",
        "\n",
        "XC = [col for col in X.columns if col not in cleaner.categoricals]\n",
        "XC = X[XC]\n",
        "XC = c_scaler.fit_transform(XC)\n",
        "X['Cluster'] = kmeans.fit_predict(XC)\n",
        "X['Cluster'] = X['Cluster'].astype('int')\n",
        "\n",
        "test_conts = [col for col in test.columns if col not in test_cleaner.categoricals]\n",
        "test_conts = test[test_conts]\n",
        "test_conts = c_scaler.transform(test_conts)\n",
        "test['Cluster'] = kmeans.fit_predict(test_conts)\n",
        "test['Cluster'] = test['Cluster'].astype('int')"
      ]
    },
    {
      "cell_type": "code",
      "execution_count": null,
      "metadata": {
        "id": "SqqSY-7HVPyu"
      },
      "outputs": [],
      "source": [
        "cleaner.categoricals.extend(['Cluster'])\n",
        "test_cleaner.categoricals.extend(['Cluster'])"
      ]
    },
    {
      "cell_type": "markdown",
      "metadata": {
        "id": "B9uYbibaLplU"
      },
      "source": [
        "#### Output of a trained Ridge model as a feature"
      ]
    },
    {
      "cell_type": "code",
      "execution_count": null,
      "metadata": {
        "colab": {
          "base_uri": "https://localhost:8080/"
        },
        "id": "yRQmpmGFmgTx",
        "outputId": "3af5b052-281b-4384-dc24-2d79db54666e"
      },
      "outputs": [
        {
          "output_type": "stream",
          "name": "stdout",
          "text": [
            "train error: 27194.157419646734\n"
          ]
        },
        {
          "output_type": "stream",
          "name": "stderr",
          "text": [
            "/usr/local/lib/python3.10/dist-packages/sklearn/linear_model/_ridge.py:215: LinAlgWarning: Ill-conditioned matrix (rcond=2.23482e-20): result may not be accurate.\n",
            "  return linalg.solve(A, Xy, assume_a=\"pos\", overwrite_a=True).T\n"
          ]
        }
      ],
      "source": [
        "r_model = Ridge(alpha=1)\n",
        "r_model.fit(X, y)\n",
        "\n",
        "print(f'train error: {np.sqrt(mean_squared_error(r_model.predict(X), y))}')\n",
        "\n",
        "X['r_predict'] = r_model.predict(X)\n",
        "test['r_predict'] = r_model.predict(test)"
      ]
    },
    {
      "cell_type": "code",
      "execution_count": null,
      "metadata": {
        "colab": {
          "base_uri": "https://localhost:8080/",
          "height": 88
        },
        "id": "hbqGrTXkQ7J2",
        "outputId": "0308f3f6-f092-47c3-f8bf-79fd0062f398"
      },
      "outputs": [
        {
          "output_type": "execute_result",
          "data": {
            "text/plain": [
              "\"cols = ['model', 'fuel_type', 'brand', 'int_col', 'ext_col', 'transmission', 'brand_class', 'Cluster',]\\n\\n# One-hot encoding\\nencoded_data = pd.get_dummies(X[cols].astype('str'))\\nX = pd.concat([X, encoded_data], axis=1)\\n\\n# Remove original encoded features\\nX = X.drop(cols, axis=1)\\n\\n# Update categoricals list in cleaner\\ncleaner.categoricals = [col for col in cleaner.categoricals if col not in cols]\\ncleaner.categoricals.extend(encoded_data.columns.tolist())\\nlen(cleaner.categoricals)\""
            ],
            "application/vnd.google.colaboratory.intrinsic+json": {
              "type": "string"
            }
          },
          "metadata": {},
          "execution_count": 64
        }
      ],
      "source": [
        "'''cols = ['model', 'fuel_type', 'brand', 'int_col', 'ext_col', 'transmission', 'brand_class', 'Cluster',]\n",
        "\n",
        "# One-hot encoding\n",
        "encoded_data = pd.get_dummies(X[cols].astype('str'))\n",
        "X = pd.concat([X, encoded_data], axis=1)\n",
        "\n",
        "# Remove original encoded features\n",
        "X = X.drop(cols, axis=1)\n",
        "\n",
        "# Update categoricals list in cleaner\n",
        "cleaner.categoricals = [col for col in cleaner.categoricals if col not in cols]\n",
        "cleaner.categoricals.extend(encoded_data.columns.tolist())\n",
        "len(cleaner.categoricals)'''"
      ]
    },
    {
      "cell_type": "code",
      "execution_count": null,
      "metadata": {
        "colab": {
          "base_uri": "https://localhost:8080/"
        },
        "id": "IP2GdmNNJoAx",
        "outputId": "b247a06f-6d8c-474b-9c41-1249643272da"
      },
      "outputs": [
        {
          "output_type": "stream",
          "name": "stdout",
          "text": [
            "brand              0\n",
            "model              0\n",
            "model_year         0\n",
            "milage             0\n",
            "fuel_type          0\n",
            "engine             0\n",
            "transmission       0\n",
            "ext_col            0\n",
            "int_col            0\n",
            "accident           0\n",
            "clean_title        0\n",
            "price              0\n",
            "automatic          0\n",
            "gears              0\n",
            "hp                 0\n",
            "L                  0\n",
            "cylinders          0\n",
            "electric           0\n",
            "valves             0\n",
            "hp/l               0\n",
            "mil/l              0\n",
            "mil/hp             0\n",
            "l/cyl              0\n",
            "hp/gears           0\n",
            "mil/gears          0\n",
            "mil/cyl            0\n",
            "hp*automatic       0\n",
            "cyl*gears          0\n",
            "carAge             0\n",
            "mil/year           0\n",
            "hp*accident        0\n",
            "accident*carAge    0\n",
            "acc*milage         0\n",
            "mil*carAge         0\n",
            "hp*mil             0\n",
            "AverageMilage      0\n",
            "BrandFreq          0\n",
            "brand_count        0\n",
            "brand_avg_mil      0\n",
            "binned_milage      0\n",
            "brand_class        0\n",
            "log_milage         0\n",
            "logL               0\n",
            "logAge             0\n",
            "dtype: int64 brand              0\n",
            "model              0\n",
            "model_year         0\n",
            "milage             0\n",
            "fuel_type          0\n",
            "engine             0\n",
            "transmission       0\n",
            "ext_col            0\n",
            "int_col            0\n",
            "accident           0\n",
            "clean_title        0\n",
            "automatic          0\n",
            "gears              0\n",
            "hp                 0\n",
            "L                  0\n",
            "cylinders          0\n",
            "electric           0\n",
            "valves             0\n",
            "hp/l               0\n",
            "mil/l              0\n",
            "mil/hp             0\n",
            "l/cyl              0\n",
            "hp/gears           0\n",
            "mil/gears          0\n",
            "mil/cyl            0\n",
            "hp*automatic       0\n",
            "cyl*gears          0\n",
            "carAge             0\n",
            "mil/year           0\n",
            "hp*accident        0\n",
            "accident*carAge    0\n",
            "acc*milage         0\n",
            "mil*carAge         0\n",
            "hp*mil             0\n",
            "AverageMilage      0\n",
            "BrandFreq          0\n",
            "brand_count        0\n",
            "brand_avg_mil      0\n",
            "binned_milage      0\n",
            "brand_class        0\n",
            "log_milage         0\n",
            "logL               0\n",
            "logAge             0\n",
            "PC1                0\n",
            "PC2                0\n",
            "me_bfr             0\n",
            "Cluster            0\n",
            "r_predict          0\n",
            "dtype: int64\n"
          ]
        }
      ],
      "source": [
        "print(df.isnull().sum(), test.isnull().sum())"
      ]
    },
    {
      "cell_type": "code",
      "execution_count": null,
      "metadata": {
        "colab": {
          "base_uri": "https://localhost:8080/"
        },
        "id": "crqZ1gnCGcd6",
        "outputId": "d256d128-2a0e-40eb-dd9c-727b8f25f3d5"
      },
      "outputs": [
        {
          "output_type": "stream",
          "name": "stdout",
          "text": [
            "Features to be scaled: ['milage', 'hp', 'valves', 'hp/l', 'mil/l', 'mil/hp', 'l/cyl', 'hp/gears', 'mil/gears', 'mil/cyl', 'hp*automatic', 'cyl*gears', 'mil/year', 'hp*accident', 'accident*carAge', 'acc*milage', 'mil*carAge', 'hp*mil', 'AverageMilage', 'BrandFreq', 'brand_avg_mil', 'log_milage', 'logL', 'logAge', 'me_bfr', 'r_predict']\n"
          ]
        }
      ],
      "source": [
        "# Scale train continuos features\n",
        "continuos_features_to_scale = [col for col in X.columns if col not in cleaner.categoricals]\n",
        "print(f'Features to be scaled: {continuos_features_to_scale}')\n",
        "\n",
        "scalerTrain = StandardScaler()\n",
        "X[continuos_features_to_scale] = scalerTrain.fit_transform(X[continuos_features_to_scale])"
      ]
    },
    {
      "cell_type": "code",
      "execution_count": null,
      "metadata": {
        "colab": {
          "base_uri": "https://localhost:8080/"
        },
        "id": "MbKwdobOxYPN",
        "outputId": "32792852-f84d-4b24-cf08-c133a692fbc3"
      },
      "outputs": [
        {
          "output_type": "stream",
          "name": "stdout",
          "text": [
            "Features to be scaled: ['milage', 'hp', 'valves', 'hp/l', 'mil/l', 'mil/hp', 'l/cyl', 'hp/gears', 'mil/gears', 'mil/cyl', 'hp*automatic', 'cyl*gears', 'mil/year', 'hp*accident', 'accident*carAge', 'acc*milage', 'mil*carAge', 'hp*mil', 'AverageMilage', 'BrandFreq', 'brand_avg_mil', 'log_milage', 'logL', 'logAge', 'me_bfr', 'r_predict']\n"
          ]
        }
      ],
      "source": [
        "# Scale test continuos features\n",
        "continuos_features_to_scale = [col for col in test.columns if col not in test_cleaner.categoricals]\n",
        "print(f'Features to be scaled: {continuos_features_to_scale}')\n",
        "\n",
        "test[continuos_features_to_scale] = scalerTrain.transform(test[continuos_features_to_scale])"
      ]
    },
    {
      "cell_type": "code",
      "execution_count": null,
      "metadata": {
        "id": "ykeJa7_ZIEl4"
      },
      "outputs": [],
      "source": [
        "selected_features = ['me_bfr', 'milage', 'log_milage', 'engine', 'mil*carAge', 'mil/cyl', 'mil/gears', 'hp/l', 'mil/hp', 'carAge', 'model_year', 'hp', 'logAge', 'PC1', 'hp/gears', 'r_predict', 'brand', 'model_year', 'milage', 'engine', 'transmission', 'ext_col', 'hp', 'valves', 'hp/l', 'mil/l', 'mil/hp', 'mil/gears', 'mil*carAge', 'AverageMilage', 'BrandFreq', 'brand_class', 'logAge', 'PC1', 'PC2', 'r_predict']"
      ]
    },
    {
      "cell_type": "code",
      "execution_count": null,
      "metadata": {
        "id": "QcarAeYpHm9L"
      },
      "outputs": [],
      "source": [
        "X = X[selected_features]"
      ]
    },
    {
      "cell_type": "code",
      "execution_count": null,
      "metadata": {
        "colab": {
          "base_uri": "https://localhost:8080/"
        },
        "id": "9l_KaFTDDJOk",
        "outputId": "bb03f210-ccda-4462-c276-cc0f0f21b489"
      },
      "outputs": [
        {
          "output_type": "stream",
          "name": "stdout",
          "text": [
            "(169679, 36) (9427, 36)\n"
          ]
        }
      ],
      "source": [
        "X_train, X_, y_train, y_ = train_test_split(X, y, test_size=0.1, random_state=RANDOM_STATE)\n",
        "X_val, X_test, y_val, y_test = train_test_split(X_, y_, test_size=0.5, random_state=123)\n",
        "print(X_train.shape, X_test.shape)"
      ]
    },
    {
      "cell_type": "markdown",
      "source": [
        "### TensorFlow Neural Network"
      ],
      "metadata": {
        "id": "sQNzf82h3Hcp"
      }
    },
    {
      "cell_type": "code",
      "execution_count": null,
      "metadata": {
        "id": "4GtPuLx73Gaz"
      },
      "outputs": [],
      "source": [
        "# Define a custom RMSE metric\n",
        "def rmse(y_true, y_pred):\n",
        "    return tf.sqrt(tf.reduce_mean(tf.square(y_true - y_pred)))"
      ]
    },
    {
      "cell_type": "code",
      "execution_count": null,
      "metadata": {
        "colab": {
          "base_uri": "https://localhost:8080/"
        },
        "id": "Z_IIGbXczSQd",
        "outputId": "994af03d-9f15-41e9-a6bf-f770864ee2e4"
      },
      "outputs": [
        {
          "name": "stdout",
          "output_type": "stream",
          "text": [
            "Epoch 1/5\n",
            "\u001b[1m5303/5303\u001b[0m \u001b[32m━━━━━━━━━━━━━━━━━━━━\u001b[0m\u001b[37m\u001b[0m \u001b[1m18s\u001b[0m 3ms/step - loss: 2183784192.0000 - rmse: 45340.7617 - val_loss: 1153764096.0000 - val_rmse: 32393.8008\n",
            "Epoch 2/5\n",
            "\u001b[1m5303/5303\u001b[0m \u001b[32m━━━━━━━━━━━━━━━━━━━━\u001b[0m\u001b[37m\u001b[0m \u001b[1m24s\u001b[0m 4ms/step - loss: 1564284544.0000 - rmse: 38264.1484 - val_loss: 1005753984.0000 - val_rmse: 30053.8750\n",
            "Epoch 3/5\n",
            "\u001b[1m5303/5303\u001b[0m \u001b[32m━━━━━━━━━━━━━━━━━━━━\u001b[0m\u001b[37m\u001b[0m \u001b[1m16s\u001b[0m 3ms/step - loss: 1478711296.0000 - rmse: 37226.7109 - val_loss: 973924224.0000 - val_rmse: 29556.0312\n",
            "Epoch 4/5\n",
            "\u001b[1m5303/5303\u001b[0m \u001b[32m━━━━━━━━━━━━━━━━━━━━\u001b[0m\u001b[37m\u001b[0m \u001b[1m18s\u001b[0m 3ms/step - loss: 1471521152.0000 - rmse: 37088.7344 - val_loss: 959811904.0000 - val_rmse: 29342.0547\n",
            "Epoch 5/5\n",
            "\u001b[1m5303/5303\u001b[0m \u001b[32m━━━━━━━━━━━━━━━━━━━━\u001b[0m\u001b[37m\u001b[0m \u001b[1m23s\u001b[0m 4ms/step - loss: 1472539520.0000 - rmse: 37093.0156 - val_loss: 974661824.0000 - val_rmse: 29592.3125\n"
          ]
        }
      ],
      "source": [
        "model = tf.keras.models.Sequential([\n",
        "    tf.keras.layers.Dense(20, activation='relu', kernel_regularizer=tf.keras.regularizers.L2(2)),\n",
        "    tf.keras.layers.Dropout(0.5),\n",
        "    tf.keras.layers.Dense(3, kernel_regularizer=tf.keras.regularizers.L2(2)),\n",
        "    tf.keras.layers.Dropout(0.5),\n",
        "    tf.keras.layers.Dense(1),\n",
        "])\n",
        "\n",
        "model.compile(loss='mse', optimizer=tf.keras.optimizers.Adam(), metrics=[rmse])\n",
        "\n",
        "history = model.fit(X_train, y_train, validation_data=(X_val, y_val), epochs=5)"
      ]
    },
    {
      "cell_type": "code",
      "execution_count": null,
      "metadata": {
        "colab": {
          "base_uri": "https://localhost:8080/",
          "height": 450
        },
        "id": "wmyGoWU_2P2b",
        "outputId": "2cd26c04-91ba-4003-fe77-908d80cefcf1"
      },
      "outputs": [
        {
          "data": {
            "text/plain": [
              "[<matplotlib.lines.Line2D at 0x7a41008f1b10>]"
            ]
          },
          "execution_count": 188,
          "metadata": {},
          "output_type": "execute_result"
        },
        {
          "data": {
            "image/png": "[encoded data removed]",
            "text/plain": [
              "<Figure size 640x480 with 1 Axes>"
            ]
          },
          "metadata": {},
          "output_type": "display_data"
        }
      ],
      "source": [
        "t_loss = np.sqrt(history.history['loss'])\n",
        "v_loss = np.sqrt(history.history['val_loss'])\n",
        "plt.plot(t_loss, c='r')\n",
        "plt.plot(v_loss, c='b')"
      ]
    },
    {
      "cell_type": "code",
      "execution_count": null,
      "metadata": {
        "colab": {
          "base_uri": "https://localhost:8080/"
        },
        "id": "Es0dUJ20JXrt",
        "outputId": "48c8735e-181a-4535-f4b5-79bc268a5174"
      },
      "outputs": [
        {
          "name": "stdout",
          "output_type": "stream",
          "text": [
            "\u001b[1m295/295\u001b[0m \u001b[32m━━━━━━━━━━━━━━━━━━━━\u001b[0m\u001b[37m\u001b[0m \u001b[1m0s\u001b[0m 1ms/step - loss: 1031210176.0000 - rmse: 30297.6680\n",
            "Test RMSE Loss: [30947.6150939    171.28100769]\n"
          ]
        }
      ],
      "source": [
        "test_loss = model.evaluate(X_test, y_test)\n",
        "print(f'Test RMSE Loss: {np.sqrt(test_loss)}')"
      ]
    },
    {
      "cell_type": "markdown",
      "source": [
        "### XGB Regressor Model"
      ],
      "metadata": {
        "id": "xHzuQtNh3CkJ"
      }
    },
    {
      "cell_type": "code",
      "execution_count": null,
      "metadata": {
        "id": "1oeU4FIBBFir"
      },
      "outputs": [],
      "source": [
        "x_train = X_train.values\n",
        "y_train = y_train.values\n",
        "x_cv = X_val.values\n",
        "y_cv = y_val.values\n",
        "x_test = X_test.values\n",
        "y_test = y_test.values"
      ]
    },
    {
      "cell_type": "code",
      "execution_count": null,
      "metadata": {
        "id": "HX1kws0f8a3f"
      },
      "outputs": [],
      "source": [
        "xgb_model = XGBRegressor(learning_rate= 0.1,\n",
        "                        max_depth = 4,\n",
        "                        n_estimators = 900,\n",
        "                        enable_categorical=True,\n",
        "                        subsample= 0.7,\n",
        "                        reg_lambda=0.8,\n",
        "                     )"
      ]
    },
    {
      "cell_type": "code",
      "execution_count": null,
      "metadata": {
        "colab": {
          "background_save": true
        },
        "id": "WLCyh4EQ4p5r",
        "outputId": "5aa41409-f6c5-405e-8b44-b221e4cd89dc"
      },
      "outputs": [
        {
          "data": {
            "text/plain": [
              "[<matplotlib.lines.Line2D at 0x7adf0aa28130>]"
            ]
          },
          "execution_count": 325,
          "metadata": {},
          "output_type": "execute_result"
        },
        {
          "data": {
            "image/png": "[encoded data removed]",
            "text/plain": [
              "<Figure size 640x480 with 1 Axes>"
            ]
          },
          "metadata": {},
          "output_type": "display_data"
        }
      ],
      "source": [
        "rates = [0.001, 0.003, 0.005, 0.007, 0.01, 0.05, 0.07, 0.1, 0.5, 0.7, 1.0]\n",
        "cv = []\n",
        "tr = []\n",
        "\n",
        "for rate in rates:\n",
        "    xgb_model = XGBRegressor(learning_rate= rate,\n",
        "                        max_depth = 4,\n",
        "                        n_estimators = 900,\n",
        "                        enable_categorical=True,\n",
        "                        subsample= 0.7,\n",
        "                        reg_lambda=0.8,\n",
        "                     )\n",
        "    xgb_model.fit(x_train, y_train)\n",
        "    ypred = xgb_model.predict(x_train)\n",
        "    xgb_train_mse = mean_squared_error(y_train, ypred)\n",
        "    tr.append(np.sqrt(xgb_train_mse))\n",
        "\n",
        "    ypred = xgb_model.predict(x_cv)\n",
        "    xgb_cv_mse = mean_squared_error(y_cv, ypred)\n",
        "    cv.append(np.sqrt(xgb_cv_mse))\n",
        "plt.plot(rates, tr, c='r')\n",
        "plt.plot(rates, cv, c='b')\n"
      ]
    },
    {
      "cell_type": "code",
      "execution_count": null,
      "metadata": {
        "colab": {
          "base_uri": "https://localhost:8080/"
        },
        "id": "tNjUyF2s5uKt",
        "outputId": "703b47c4-ba7b-4e50-b8d2-72b21d27a77f"
      },
      "outputs": [
        {
          "data": {
            "text/plain": [
              "0.05"
            ]
          },
          "execution_count": 141,
          "metadata": {},
          "output_type": "execute_result"
        }
      ],
      "source": [
        "rates[np.argmin(cv)]"
      ]
    },
    {
      "cell_type": "code",
      "execution_count": null,
      "metadata": {
        "colab": {
          "base_uri": "https://localhost:8080/",
          "height": 447
        },
        "id": "eSyJoPQp6Nyg",
        "outputId": "f1faadf0-1e48-4619-fdb9-ff8d6d6b0149"
      },
      "outputs": [
        {
          "data": {
            "text/plain": [
              "[<matplotlib.lines.Line2D at 0x7adef4b7c160>]"
            ]
          },
          "execution_count": 142,
          "metadata": {},
          "output_type": "execute_result"
        },
        {
          "data": {
            "image/png": "[encoded data removed]",
            "text/plain": [
              "<Figure size 640x480 with 1 Axes>"
            ]
          },
          "metadata": {},
          "output_type": "display_data"
        }
      ],
      "source": [
        "rates = [2, 3, 4, 5, 6]\n",
        "cv = []\n",
        "tr = []\n",
        "\n",
        "for rate in rates:\n",
        "    xgb_model = XGBRegressor(learning_rate= 0.05,\n",
        "                        max_depth = rate,\n",
        "                        n_estimators = 900,\n",
        "                        enable_categorical=True,\n",
        "                        subsample= 0.7,\n",
        "                        reg_lambda=0.8,\n",
        "                     )\n",
        "    xgb_model.fit(x_train, y_train)\n",
        "    ypred = xgb_model.predict(x_train)\n",
        "    xgb_train_mse = mean_squared_error(y_train, ypred)\n",
        "    tr.append(np.sqrt(xgb_train_mse))\n",
        "\n",
        "    ypred = xgb_model.predict(x_cv)\n",
        "    xgb_cv_mse = mean_squared_error(y_cv, ypred)\n",
        "    cv.append(np.sqrt(xgb_cv_mse))\n",
        "plt.plot(rates, tr, c='r')\n",
        "plt.plot(rates, cv, c='b')\n"
      ]
    },
    {
      "cell_type": "code",
      "execution_count": null,
      "metadata": {
        "colab": {
          "base_uri": "https://localhost:8080/"
        },
        "id": "aSlKQIwp6Uqk",
        "outputId": "7382a078-e9bf-422f-9e2e-cfe6744f6ac6"
      },
      "outputs": [
        {
          "data": {
            "text/plain": [
              "4"
            ]
          },
          "execution_count": 143,
          "metadata": {},
          "output_type": "execute_result"
        }
      ],
      "source": [
        "rates[np.argmin(cv)]"
      ]
    },
    {
      "cell_type": "code",
      "execution_count": null,
      "metadata": {
        "colab": {
          "base_uri": "https://localhost:8080/",
          "height": 447
        },
        "id": "p1I0yWp66mZB",
        "outputId": "996e7af5-550f-4895-b09c-27be7a917215"
      },
      "outputs": [
        {
          "data": {
            "text/plain": [
              "[<matplotlib.lines.Line2D at 0x7adeffd6ebf0>]"
            ]
          },
          "execution_count": 146,
          "metadata": {},
          "output_type": "execute_result"
        },
        {
          "data": {
            "image/png": "[encoded data removed]",
            "text/plain": [
              "<Figure size 640x480 with 1 Axes>"
            ]
          },
          "metadata": {},
          "output_type": "display_data"
        }
      ],
      "source": [
        "rates = [0.3, 0.5, 0.6, 0.7, 0.8, 0.9, 1.0]\n",
        "cv = []\n",
        "tr = []\n",
        "\n",
        "for rate in rates:\n",
        "    xgb_model = XGBRegressor(learning_rate= 0.05,\n",
        "                        max_depth = 4,\n",
        "                        n_estimators = 500,\n",
        "                        enable_categorical=True,\n",
        "                        subsample= rate,\n",
        "                        reg_lambda=0.8,\n",
        "                     )\n",
        "    xgb_model.fit(x_train, y_train)\n",
        "    ypred = xgb_model.predict(x_train)\n",
        "    xgb_train_mse = mean_squared_error(y_train, ypred)\n",
        "    tr.append(np.sqrt(xgb_train_mse))\n",
        "\n",
        "    ypred = xgb_model.predict(x_cv)\n",
        "    xgb_cv_mse = mean_squared_error(y_cv, ypred)\n",
        "    cv.append(np.sqrt(xgb_cv_mse))\n",
        "plt.plot(rates, tr, c='r')\n",
        "plt.plot(rates, cv, c='b')\n"
      ]
    },
    {
      "cell_type": "code",
      "execution_count": null,
      "metadata": {
        "colab": {
          "base_uri": "https://localhost:8080/"
        },
        "id": "N3AHrKXV7QPO",
        "outputId": "3ac76fde-e42a-4386-b1ee-3657eefe832d"
      },
      "outputs": [
        {
          "data": {
            "text/plain": [
              "0.9"
            ]
          },
          "execution_count": 147,
          "metadata": {},
          "output_type": "execute_result"
        }
      ],
      "source": [
        "rates[np.argmin(cv)]"
      ]
    },
    {
      "cell_type": "code",
      "execution_count": null,
      "metadata": {
        "colab": {
          "base_uri": "https://localhost:8080/",
          "height": 452
        },
        "id": "kLd9rpso7TVA",
        "outputId": "0272ab7d-d14e-4b89-fa26-477fe5773773"
      },
      "outputs": [
        {
          "data": {
            "text/plain": [
              "[<matplotlib.lines.Line2D at 0x7adefdfc3c40>]"
            ]
          },
          "execution_count": 148,
          "metadata": {},
          "output_type": "execute_result"
        },
        {
          "data": {
            "image/png": "[encoded data removed]",
            "text/plain": [
              "<Figure size 640x480 with 1 Axes>"
            ]
          },
          "metadata": {},
          "output_type": "display_data"
        }
      ],
      "source": [
        "rates = [0.3, 0.5, 0.6, 0.7, 0.8, 0.9, 1.0, 5.0, 10., 50., 100.]\n",
        "cv = []\n",
        "tr = []\n",
        "\n",
        "for rate in rates:\n",
        "    xgb_model = XGBRegressor(learning_rate= 0.05,\n",
        "                        max_depth = 4,\n",
        "                        n_estimators = 500,\n",
        "                        enable_categorical=True,\n",
        "                        subsample= 0.9,\n",
        "                        reg_lambda=rate,\n",
        "                     )\n",
        "    xgb_model.fit(x_train, y_train)\n",
        "    ypred = xgb_model.predict(x_train)\n",
        "    xgb_train_mse = mean_squared_error(y_train, ypred)\n",
        "    tr.append(np.sqrt(xgb_train_mse))\n",
        "\n",
        "    ypred = xgb_model.predict(x_cv)\n",
        "    xgb_cv_mse = mean_squared_error(y_cv, ypred)\n",
        "    cv.append(np.sqrt(xgb_cv_mse))\n",
        "plt.plot(rates, tr, c='r')\n",
        "plt.plot(rates, cv, c='b')\n"
      ]
    },
    {
      "cell_type": "code",
      "execution_count": null,
      "metadata": {
        "colab": {
          "base_uri": "https://localhost:8080/"
        },
        "id": "MH-aSMno72Vp",
        "outputId": "17ef1838-dfcc-49b0-9cac-2fed35778332"
      },
      "outputs": [
        {
          "data": {
            "text/plain": [
              "5.0"
            ]
          },
          "execution_count": 149,
          "metadata": {},
          "output_type": "execute_result"
        }
      ],
      "source": [
        "rates[np.argmin(cv)]"
      ]
    },
    {
      "cell_type": "code",
      "execution_count": null,
      "metadata": {
        "id": "sYlYkl1C7_KH"
      },
      "outputs": [],
      "source": [
        "xgb_model = XGBRegressor(learning_rate= 0.05,\n",
        "                        max_depth = 4,\n",
        "                        n_estimators = 500,\n",
        "                        enable_categorical=True,\n",
        "                        subsample= 0.9,\n",
        "                        reg_lambda=5.0,\n",
        "                     )"
      ]
    },
    {
      "cell_type": "code",
      "execution_count": null,
      "metadata": {
        "colab": {
          "base_uri": "https://localhost:8080/"
        },
        "id": "k40C7-_98tl9",
        "outputId": "b4a9f862-1fad-4ec8-c2ec-2d85e6fc5276"
      },
      "outputs": [
        {
          "output_type": "execute_result",
          "data": {
            "text/plain": [
              "25330.14344732143"
            ]
          },
          "metadata": {},
          "execution_count": 79
        }
      ],
      "source": [
        "# Train model\n",
        "xgb_model.fit(x_train, y_train)\n",
        "\n",
        "# Calculate RMSE\n",
        "ypred = xgb_model.predict(x_train)\n",
        "xgb_train_mse = mean_squared_error(y_train, ypred)\n",
        "\n",
        "np.sqrt(xgb_train_mse)"
      ]
    },
    {
      "cell_type": "code",
      "execution_count": null,
      "metadata": {
        "colab": {
          "base_uri": "https://localhost:8080/"
        },
        "id": "Amsoo5wM9DGP",
        "outputId": "fbab5e5d-1243-496b-a1cd-7affe29dc464"
      },
      "outputs": [
        {
          "output_type": "stream",
          "name": "stdout",
          "text": [
            "train MSE: 25330.14344732143\n",
            "Validation MSE: 25711.55481652648\n",
            "Difference: 381.4114\n"
          ]
        }
      ],
      "source": [
        "ypred = xgb_model.predict(x_train)\n",
        "xgb_train_mse = mean_squared_error(y_train, ypred)\n",
        "xgb_train_mse = np.sqrt(xgb_train_mse)\n",
        "\n",
        "ypred = xgb_model.predict(x_cv)\n",
        "xgb_cv_mse = mean_squared_error(y_cv, ypred)\n",
        "xgb_cv_mse = np.sqrt(xgb_cv_mse)\n",
        "\n",
        "\n",
        "print(f'train MSE: {xgb_train_mse}\\nValidation MSE: {xgb_cv_mse}')\n",
        "print(f'Difference: {abs(xgb_train_mse - xgb_cv_mse):.4f}')\n"
      ]
    },
    {
      "cell_type": "code",
      "execution_count": null,
      "metadata": {
        "colab": {
          "base_uri": "https://localhost:8080/"
        },
        "id": "NmZbYlsg_ucj",
        "outputId": "06cbfb58-6b1c-4ae4-e2ea-128236516314"
      },
      "outputs": [
        {
          "data": {
            "text/plain": [
              "25889.89848918659"
            ]
          },
          "execution_count": 233,
          "metadata": {},
          "output_type": "execute_result"
        }
      ],
      "source": [
        "y_pred = xgb_model.predict(x_test)\n",
        "test_error = mean_squared_error(y_pred, y_test)\n",
        "np.sqrt(test_error)"
      ]
    },
    {
      "cell_type": "code",
      "execution_count": null,
      "metadata": {
        "colab": {
          "base_uri": "https://localhost:8080/",
          "height": 140
        },
        "id": "xg7VysPcG3wD",
        "outputId": "ff3dfa1c-0896-4488-eb0e-a089a5cad092"
      },
      "outputs": [
        {
          "data": {
            "application/vnd.google.colaboratory.intrinsic+json": {
              "type": "string"
            },
            "text/plain": [
              "'from sklearn.model_selection import RandomizedSearchCV\\n\\n# Define the parameter grid\\nparam_distributions = {\\n    \\'n_estimators\\': np.arange(100, 1000, 100),         # Number of trees\\n    \\'max_depth\\': np.arange(3, 10),                     # Tree depth\\n    \\'learning_rate\\': np.linspace(0.01, 0.3, 10),       # Learning rate (eta)\\n    \\'subsample\\': np.linspace(0.5, 1.0, 5),             # Subsample ratio\\n    \\'colsample_bytree\\': np.linspace(0.5, 1.0, 5),      # Column subsampling\\n    \\'gamma\\': np.linspace(0, 5, 10),                    # Minimum loss reduction\\n    \\'alpha\\': np.linspace(0, 1, 10),                    # L1 regularization\\n    \\'lambda\\': np.linspace(0, 1, 10)                    # L2 regularization\\n}\\n\\n# Initialize RandomizedSearchCV\\nrandom_search = RandomizedSearchCV(\\n    estimator=xgb_model,\\n    param_distributions=param_distributions,\\n    n_iter=50,                 # Number of random combinations to try\\n    scoring=\\'neg_mean_squared_error\\',  # Evaluation metric\\n    cv=3,                      # 3-fold cross-validation\\n    verbose=1,                 # Print progress\\n    random_state=42,           # Reproducibility\\n    n_jobs=-1,\\n)\\n\\n# Fit RandomizedSearchCV\\nrandom_search.fit(x_train, y_train)\\n\\n# Best parameters and score\\nprint(\"Best Parameters:\", random_search.best_params_)\\nprint(\"Best Score:\", random_search.best_score_)\\n'"
            ]
          },
          "execution_count": 298,
          "metadata": {},
          "output_type": "execute_result"
        }
      ],
      "source": [
        "'''from sklearn.model_selection import RandomizedSearchCV\n",
        "\n",
        "# Define the parameter grid\n",
        "param_distributions = {\n",
        "    'n_estimators': np.arange(100, 1000, 100),         # Number of trees\n",
        "    'max_depth': np.arange(3, 10),                     # Tree depth\n",
        "    'learning_rate': np.linspace(0.01, 0.3, 10),       # Learning rate (eta)\n",
        "    'subsample': np.linspace(0.5, 1.0, 5),             # Subsample ratio\n",
        "    'colsample_bytree': np.linspace(0.5, 1.0, 5),      # Column subsampling\n",
        "    'gamma': np.linspace(0, 5, 10),                    # Minimum loss reduction\n",
        "    'alpha': np.linspace(0, 1, 10),                    # L1 regularization\n",
        "    'lambda': np.linspace(0, 1, 10)                    # L2 regularization\n",
        "}\n",
        "\n",
        "# Initialize RandomizedSearchCV\n",
        "random_search = RandomizedSearchCV(\n",
        "    estimator=xgb_model,\n",
        "    param_distributions=param_distributions,\n",
        "    n_iter=50,                 # Number of random combinations to try\n",
        "    scoring='neg_mean_squared_error',  # Evaluation metric\n",
        "    cv=3,                      # 3-fold cross-validation\n",
        "    verbose=1,                 # Print progress\n",
        "    random_state=42,           # Reproducibility\n",
        "    n_jobs=-1,\n",
        ")\n",
        "\n",
        "# Fit RandomizedSearchCV\n",
        "random_search.fit(x_train, y_train)\n",
        "\n",
        "# Best parameters and score\n",
        "print(\"Best Parameters:\", random_search.best_params_)\n",
        "print(\"Best Score:\", random_search.best_score_)\n",
        "'''"
      ]
    },
    {
      "cell_type": "code",
      "execution_count": null,
      "metadata": {
        "id": "bqnnm5sHOVEh"
      },
      "outputs": [],
      "source": [
        "'''# Obtained by running RandomSearchCV for 23 mins with t4 gpu\n",
        "best_parameters= {'subsample': 0.875,\n",
        "                  'n_estimators': 900,\n",
        "                  'max_depth': 7,\n",
        "                  'learning_rate': 0.042222222222222223,\n",
        "                  'lambda': 100.0,\n",
        "                  'gamma': 1.6666666666666667,\n",
        "                  'colsample_bytree': 0.3,\n",
        "                  'alpha': 0.4444444444444444,\n",
        "                  'subsample': 0.3,\n",
        "                  'alpha':100,\n",
        "                  'min_child_weight':10,\n",
        "                     }\n",
        "s_model = XGBRegressor(**best_parameters)'''"
      ]
    },
    {
      "cell_type": "code",
      "execution_count": null,
      "metadata": {
        "colab": {
          "base_uri": "https://localhost:8080/",
          "height": 534
        },
        "id": "H0yXZ-d8EBEJ",
        "outputId": "0bdb6243-f6d5-47a1-952a-0239b856cf2c"
      },
      "outputs": [
        {
          "data": {
            "text/plain": [
              "(array([4.3870e+04, 5.1657e+04, 4.0557e+04, 1.9971e+04, 9.2690e+03,\n",
              "        2.7890e+03, 9.6400e+02, 4.6000e+02, 1.2400e+02, 1.8000e+01]),\n",
              " array([   472.20080566,  20304.10546875,  40136.01171875,  59967.9140625 ,\n",
              "         79799.8203125 ,  99631.7265625 , 119463.6328125 , 139295.53125   ,\n",
              "        159127.4375    , 178959.34375   , 198791.25      ]),\n",
              " <BarContainer object of 10 artists>)"
            ]
          },
          "execution_count": 235,
          "metadata": {},
          "output_type": "execute_result"
        },
        {
          "data": {
            "image/png": "[encoded data removed]",
            "text/plain": [
              "<Figure size 640x480 with 1 Axes>"
            ]
          },
          "metadata": {},
          "output_type": "display_data"
        }
      ],
      "source": [
        "train_pred = xgb_model.predict(x_train)\n",
        "plt.hist(y_train)\n",
        "plt.hist(train_pred)"
      ]
    },
    {
      "cell_type": "code",
      "execution_count": null,
      "metadata": {
        "id": "TZB66jZlJ3L_"
      },
      "outputs": [],
      "source": [
        "train_pred = xgb_model.predict(x_train)"
      ]
    },
    {
      "cell_type": "markdown",
      "source": [
        "### Submission"
      ],
      "metadata": {
        "id": "QbAbSLPW3ia4"
      }
    },
    {
      "cell_type": "code",
      "execution_count": null,
      "metadata": {
        "id": "k8__ZRAAyLa7"
      },
      "outputs": [],
      "source": [
        "pred = xgb_model.predict(test[selected_features].values).flatten()"
      ]
    },
    {
      "cell_type": "code",
      "execution_count": null,
      "metadata": {
        "id": "WJhzSNfoyRRT"
      },
      "outputs": [],
      "source": [
        "submision = pd.DataFrame({'id': id, 'price': pred})"
      ]
    },
    {
      "cell_type": "code",
      "execution_count": null,
      "metadata": {
        "id": "eQA8Cl_9yYZ8"
      },
      "outputs": [],
      "source": [
        "submision.to_csv('submission.csv', index=False)"
      ]
    },
    {
      "cell_type": "code",
      "execution_count": null,
      "metadata": {
        "colab": {
          "base_uri": "https://localhost:8080/",
          "height": 534
        },
        "id": "IxFAziL57p-C",
        "outputId": "facd6f1e-8fe4-4c08-f445-d037fe0cf7d4"
      },
      "outputs": [
        {
          "data": {
            "text/plain": [
              "(array([3.6764e+04, 3.5013e+04, 2.8636e+04, 1.3722e+04, 6.6490e+03,\n",
              "        3.2900e+03, 1.0290e+03, 4.2100e+02, 1.3800e+02, 2.8000e+01]),\n",
              " array([  2753.89746094,  21125.06640625,  39496.234375  ,  57867.40234375,\n",
              "         76238.5703125 ,  94609.734375  , 112980.90625   , 131352.078125  ,\n",
              "        149723.234375  , 168094.40625   , 186465.578125  ]),\n",
              " <BarContainer object of 10 artists>)"
            ]
          },
          "execution_count": 240,
          "metadata": {},
          "output_type": "execute_result"
        },
        {
          "data": {
            "image/png": "[encoded data removed]",
            "text/plain": [
              "<Figure size 640x480 with 1 Axes>"
            ]
          },
          "metadata": {},
          "output_type": "display_data"
        }
      ],
      "source": [
        "plt.hist(y_train)\n",
        "plt.hist(train_pred)\n",
        "plt.hist(pred)"
      ]
    },
    {
      "cell_type": "markdown",
      "source": [
        "### Thank you."
      ],
      "metadata": {
        "id": "4uK_uEtT3oRX"
      }
    },
    {
      "cell_type": "code",
      "source": [],
      "metadata": {
        "id": "QwcLI0oE3rUR"
      },
      "execution_count": null,
      "outputs": []
    }
  ],
  "metadata": {
    "colab": {
      "provenance": [],
      "authorship_tag": "ABX9TyPQhBPgzEU3zQk3yeKk9atX"
    },
    "kernelspec": {
      "display_name": "Python 3",
      "name": "python3"
    },
    "language_info": {
      "name": "python"
    }
  },
  "nbformat": 4,
  "nbformat_minor": 0
}