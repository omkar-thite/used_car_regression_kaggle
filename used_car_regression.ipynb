{
  "cells": [
    {
      "cell_type": "markdown",
      "metadata": {
        "id": "view-in-github",
        "colab_type": "text"
      },
      "source": [
        "<a href=\"https://colab.research.google.com/github/omkar-thite/used_car_regression_kaggle/blob/main/used_car_regression.ipynb\" target=\"_parent\"><img src=\"https://colab.research.google.com/assets/colab-badge.svg\" alt=\"Open In Colab\"/></a>"
      ]
    },
    {
      "cell_type": "markdown",
      "source": [
        "# Imports"
      ],
      "metadata": {
        "id": "S4QH-YrcEe2Q"
      }
    },
    {
      "cell_type": "code",
      "execution_count": 218,
      "metadata": {
        "id": "wPd6hEMjEHGh"
      },
      "outputs": [],
      "source": [
        "# Import required libraries\n",
        "import numpy as np\n",
        "import pandas as pd\n",
        "import re\n",
        "import random\n",
        "\n",
        "from sklearn.preprocessing import StandardScaler\n",
        "from sklearn.feature_selection import mutual_info_regression\n",
        "from sklearn.metrics import mean_squared_error\n",
        "from sklearn.model_selection import train_test_split\n",
        "from sklearn.linear_model import Ridge, LinearRegression\n",
        "from sklearn.impute import SimpleImputer\n",
        "from sklearn.decomposition import PCA\n",
        "from sklearn.cluster import KMeans\n",
        "from sklearn.preprocessing import OneHotEncoder\n",
        "\n",
        "import tensorflow as tf\n",
        "from xgboost import XGBRegressor\n",
        "import xgboost as xgb\n",
        "import seaborn as sns\n",
        "\n",
        "import matplotlib.pyplot as plt"
      ]
    },
    {
      "cell_type": "code",
      "execution_count": 219,
      "metadata": {
        "id": "ziW1FOYBNIW5"
      },
      "outputs": [],
      "source": [
        "RANDOM_STATE = 123"
      ]
    },
    {
      "cell_type": "code",
      "execution_count": 220,
      "metadata": {
        "colab": {
          "base_uri": "https://localhost:8080/"
        },
        "id": "Cl71m8KhMaJ5",
        "outputId": "ac63f4a8-c04f-4646-f9d5-c6cea1a537cc"
      },
      "outputs": [
        {
          "output_type": "execute_result",
          "data": {
            "text/plain": [
              "(188533, 12)"
            ]
          },
          "metadata": {},
          "execution_count": 220
        }
      ],
      "source": [
        "df = pd.read_csv('train.csv', delimiter=',')\n",
        "df.pop('id')\n",
        "df.shape"
      ]
    },
    {
      "cell_type": "code",
      "execution_count": 221,
      "metadata": {
        "colab": {
          "base_uri": "https://localhost:8080/"
        },
        "id": "v57S_jKguIk8",
        "outputId": "fa8b888f-fe29-4ada-f04a-a0bc510fc536"
      },
      "outputs": [
        {
          "output_type": "execute_result",
          "data": {
            "text/plain": [
              "(125690, 11)"
            ]
          },
          "metadata": {},
          "execution_count": 221
        }
      ],
      "source": [
        "test = pd.read_csv('test.csv')\n",
        "id = test.pop('id')\n",
        "test.shape"
      ]
    },
    {
      "cell_type": "code",
      "execution_count": 222,
      "metadata": {
        "colab": {
          "base_uri": "https://localhost:8080/",
          "height": 414
        },
        "id": "3mFyDB_vMcUJ",
        "outputId": "8ed21ca5-320b-4fd8-c1bc-f102878449b0"
      },
      "outputs": [
        {
          "output_type": "execute_result",
          "data": {
            "text/plain": [
              "           brand              model  model_year  milage      fuel_type  \\\n",
              "0           MINI      Cooper S Base        2007  213000       Gasoline   \n",
              "1        Lincoln              LS V8        2002  143250       Gasoline   \n",
              "2      Chevrolet  Silverado 2500 LT        2002  136731  E85 Flex Fuel   \n",
              "3        Genesis   G90 5.0 Ultimate        2017   19500       Gasoline   \n",
              "4  Mercedes-Benz        Metris Base        2021    7388       Gasoline   \n",
              "\n",
              "                                              engine  \\\n",
              "0       172.0HP 1.6L 4 Cylinder Engine Gasoline Fuel   \n",
              "1       252.0HP 3.9L 8 Cylinder Engine Gasoline Fuel   \n",
              "2  320.0HP 5.3L 8 Cylinder Engine Flex Fuel Capab...   \n",
              "3       420.0HP 5.0L 8 Cylinder Engine Gasoline Fuel   \n",
              "4       208.0HP 2.0L 4 Cylinder Engine Gasoline Fuel   \n",
              "\n",
              "                     transmission ext_col int_col  \\\n",
              "0                             A/T  Yellow    Gray   \n",
              "1                             A/T  Silver   Beige   \n",
              "2                             A/T    Blue    Gray   \n",
              "3  Transmission w/Dual Shift Mode   Black   Black   \n",
              "4                     7-Speed A/T   Black   Beige   \n",
              "\n",
              "                                 accident clean_title  price  \n",
              "0                           None reported         Yes   4200  \n",
              "1  At least 1 accident or damage reported         Yes   4999  \n",
              "2                           None reported         Yes  13900  \n",
              "3                           None reported         Yes  45000  \n",
              "4                           None reported         Yes  97500  "
            ],
            "text/html": [
              "\n",
              "  <div id=\"df-a5c392dd-70db-4d5a-8437-a9079d4cf1b3\" class=\"colab-df-container\">\n",
              "    <div>\n",
              "<style scoped>\n",
              "    .dataframe tbody tr th:only-of-type {\n",
              "        vertical-align: middle;\n",
              "    }\n",
              "\n",
              "    .dataframe tbody tr th {\n",
              "        vertical-align: top;\n",
              "    }\n",
              "\n",
              "    .dataframe thead th {\n",
              "        text-align: right;\n",
              "    }\n",
              "</style>\n",
              "<table border=\"1\" class=\"dataframe\">\n",
              "  <thead>\n",
              "    <tr style=\"text-align: right;\">\n",
              "      <th></th>\n",
              "      <th>brand</th>\n",
              "      <th>model</th>\n",
              "      <th>model_year</th>\n",
              "      <th>milage</th>\n",
              "      <th>fuel_type</th>\n",
              "      <th>engine</th>\n",
              "      <th>transmission</th>\n",
              "      <th>ext_col</th>\n",
              "      <th>int_col</th>\n",
              "      <th>accident</th>\n",
              "      <th>clean_title</th>\n",
              "      <th>price</th>\n",
              "    </tr>\n",
              "  </thead>\n",
              "  <tbody>\n",
              "    <tr>\n",
              "      <th>0</th>\n",
              "      <td>MINI</td>\n",
              "      <td>Cooper S Base</td>\n",
              "      <td>2007</td>\n",
              "      <td>213000</td>\n",
              "      <td>Gasoline</td>\n",
              "      <td>172.0HP 1.6L 4 Cylinder Engine Gasoline Fuel</td>\n",
              "      <td>A/T</td>\n",
              "      <td>Yellow</td>\n",
              "      <td>Gray</td>\n",
              "      <td>None reported</td>\n",
              "      <td>Yes</td>\n",
              "      <td>4200</td>\n",
              "    </tr>\n",
              "    <tr>\n",
              "      <th>1</th>\n",
              "      <td>Lincoln</td>\n",
              "      <td>LS V8</td>\n",
              "      <td>2002</td>\n",
              "      <td>143250</td>\n",
              "      <td>Gasoline</td>\n",
              "      <td>252.0HP 3.9L 8 Cylinder Engine Gasoline Fuel</td>\n",
              "      <td>A/T</td>\n",
              "      <td>Silver</td>\n",
              "      <td>Beige</td>\n",
              "      <td>At least 1 accident or damage reported</td>\n",
              "      <td>Yes</td>\n",
              "      <td>4999</td>\n",
              "    </tr>\n",
              "    <tr>\n",
              "      <th>2</th>\n",
              "      <td>Chevrolet</td>\n",
              "      <td>Silverado 2500 LT</td>\n",
              "      <td>2002</td>\n",
              "      <td>136731</td>\n",
              "      <td>E85 Flex Fuel</td>\n",
              "      <td>320.0HP 5.3L 8 Cylinder Engine Flex Fuel Capab...</td>\n",
              "      <td>A/T</td>\n",
              "      <td>Blue</td>\n",
              "      <td>Gray</td>\n",
              "      <td>None reported</td>\n",
              "      <td>Yes</td>\n",
              "      <td>13900</td>\n",
              "    </tr>\n",
              "    <tr>\n",
              "      <th>3</th>\n",
              "      <td>Genesis</td>\n",
              "      <td>G90 5.0 Ultimate</td>\n",
              "      <td>2017</td>\n",
              "      <td>19500</td>\n",
              "      <td>Gasoline</td>\n",
              "      <td>420.0HP 5.0L 8 Cylinder Engine Gasoline Fuel</td>\n",
              "      <td>Transmission w/Dual Shift Mode</td>\n",
              "      <td>Black</td>\n",
              "      <td>Black</td>\n",
              "      <td>None reported</td>\n",
              "      <td>Yes</td>\n",
              "      <td>45000</td>\n",
              "    </tr>\n",
              "    <tr>\n",
              "      <th>4</th>\n",
              "      <td>Mercedes-Benz</td>\n",
              "      <td>Metris Base</td>\n",
              "      <td>2021</td>\n",
              "      <td>7388</td>\n",
              "      <td>Gasoline</td>\n",
              "      <td>208.0HP 2.0L 4 Cylinder Engine Gasoline Fuel</td>\n",
              "      <td>7-Speed A/T</td>\n",
              "      <td>Black</td>\n",
              "      <td>Beige</td>\n",
              "      <td>None reported</td>\n",
              "      <td>Yes</td>\n",
              "      <td>97500</td>\n",
              "    </tr>\n",
              "  </tbody>\n",
              "</table>\n",
              "</div>\n",
              "    <div class=\"colab-df-buttons\">\n",
              "\n",
              "  <div class=\"colab-df-container\">\n",
              "    <button class=\"colab-df-convert\" onclick=\"convertToInteractive('df-a5c392dd-70db-4d5a-8437-a9079d4cf1b3')\"\n",
              "            title=\"Convert this dataframe to an interactive table.\"\n",
              "            style=\"display:none;\">\n",
              "\n",
              "  <svg xmlns=\"http://www.w3.org/2000/svg\" height=\"24px\" viewBox=\"0 -960 960 960\">\n",
              "    <path d=\"M120-120v-720h720v720H120Zm60-500h600v-160H180v160Zm220 220h160v-160H400v160Zm0 220h160v-160H400v160ZM180-400h160v-160H180v160Zm440 0h160v-160H620v160ZM180-180h160v-160H180v160Zm440 0h160v-160H620v160Z\"/>\n",
              "  </svg>\n",
              "    </button>\n",
              "\n",
              "  <style>\n",
              "    .colab-df-container {\n",
              "      display:flex;\n",
              "      gap: 12px;\n",
              "    }\n",
              "\n",
              "    .colab-df-convert {\n",
              "      background-color: #E8F0FE;\n",
              "      border: none;\n",
              "      border-radius: 50%;\n",
              "      cursor: pointer;\n",
              "      display: none;\n",
              "      fill: #1967D2;\n",
              "      height: 32px;\n",
              "      padding: 0 0 0 0;\n",
              "      width: 32px;\n",
              "    }\n",
              "\n",
              "    .colab-df-convert:hover {\n",
              "      background-color: #E2EBFA;\n",
              "      box-shadow: 0px 1px 2px rgba(60, 64, 67, 0.3), 0px 1px 3px 1px rgba(60, 64, 67, 0.15);\n",
              "      fill: #174EA6;\n",
              "    }\n",
              "\n",
              "    .colab-df-buttons div {\n",
              "      margin-bottom: 4px;\n",
              "    }\n",
              "\n",
              "    [theme=dark] .colab-df-convert {\n",
              "      background-color: #3B4455;\n",
              "      fill: #D2E3FC;\n",
              "    }\n",
              "\n",
              "    [theme=dark] .colab-df-convert:hover {\n",
              "      background-color: #434B5C;\n",
              "      box-shadow: 0px 1px 3px 1px rgba(0, 0, 0, 0.15);\n",
              "      filter: drop-shadow(0px 1px 2px rgba(0, 0, 0, 0.3));\n",
              "      fill: #FFFFFF;\n",
              "    }\n",
              "  </style>\n",
              "\n",
              "    <script>\n",
              "      const buttonEl =\n",
              "        document.querySelector('#df-a5c392dd-70db-4d5a-8437-a9079d4cf1b3 button.colab-df-convert');\n",
              "      buttonEl.style.display =\n",
              "        google.colab.kernel.accessAllowed ? 'block' : 'none';\n",
              "\n",
              "      async function convertToInteractive(key) {\n",
              "        const element = document.querySelector('#df-a5c392dd-70db-4d5a-8437-a9079d4cf1b3');\n",
              "        const dataTable =\n",
              "          await google.colab.kernel.invokeFunction('convertToInteractive',\n",
              "                                                    [key], {});\n",
              "        if (!dataTable) return;\n",
              "\n",
              "        const docLinkHtml = 'Like what you see? Visit the ' +\n",
              "          '<a target=\"_blank\" href=https://colab.research.google.com/notebooks/data_table.ipynb>data table notebook</a>'\n",
              "          + ' to learn more about interactive tables.';\n",
              "        element.innerHTML = '';\n",
              "        dataTable['output_type'] = 'display_data';\n",
              "        await google.colab.output.renderOutput(dataTable, element);\n",
              "        const docLink = document.createElement('div');\n",
              "        docLink.innerHTML = docLinkHtml;\n",
              "        element.appendChild(docLink);\n",
              "      }\n",
              "    </script>\n",
              "  </div>\n",
              "\n",
              "\n",
              "<div id=\"df-64c96998-4c41-4cf0-b7ea-0fccb9b42122\">\n",
              "  <button class=\"colab-df-quickchart\" onclick=\"quickchart('df-64c96998-4c41-4cf0-b7ea-0fccb9b42122')\"\n",
              "            title=\"Suggest charts\"\n",
              "            style=\"display:none;\">\n",
              "\n",
              "<svg xmlns=\"http://www.w3.org/2000/svg\" height=\"24px\"viewBox=\"0 0 24 24\"\n",
              "     width=\"24px\">\n",
              "    <g>\n",
              "        <path d=\"M19 3H5c-1.1 0-2 .9-2 2v14c0 1.1.9 2 2 2h14c1.1 0 2-.9 2-2V5c0-1.1-.9-2-2-2zM9 17H7v-7h2v7zm4 0h-2V7h2v10zm4 0h-2v-4h2v4z\"/>\n",
              "    </g>\n",
              "</svg>\n",
              "  </button>\n",
              "\n",
              "<style>\n",
              "  .colab-df-quickchart {\n",
              "      --bg-color: #E8F0FE;\n",
              "      --fill-color: #1967D2;\n",
              "      --hover-bg-color: #E2EBFA;\n",
              "      --hover-fill-color: #174EA6;\n",
              "      --disabled-fill-color: #AAA;\n",
              "      --disabled-bg-color: #DDD;\n",
              "  }\n",
              "\n",
              "  [theme=dark] .colab-df-quickchart {\n",
              "      --bg-color: #3B4455;\n",
              "      --fill-color: #D2E3FC;\n",
              "      --hover-bg-color: #434B5C;\n",
              "      --hover-fill-color: #FFFFFF;\n",
              "      --disabled-bg-color: #3B4455;\n",
              "      --disabled-fill-color: #666;\n",
              "  }\n",
              "\n",
              "  .colab-df-quickchart {\n",
              "    background-color: var(--bg-color);\n",
              "    border: none;\n",
              "    border-radius: 50%;\n",
              "    cursor: pointer;\n",
              "    display: none;\n",
              "    fill: var(--fill-color);\n",
              "    height: 32px;\n",
              "    padding: 0;\n",
              "    width: 32px;\n",
              "  }\n",
              "\n",
              "  .colab-df-quickchart:hover {\n",
              "    background-color: var(--hover-bg-color);\n",
              "    box-shadow: 0 1px 2px rgba(60, 64, 67, 0.3), 0 1px 3px 1px rgba(60, 64, 67, 0.15);\n",
              "    fill: var(--button-hover-fill-color);\n",
              "  }\n",
              "\n",
              "  .colab-df-quickchart-complete:disabled,\n",
              "  .colab-df-quickchart-complete:disabled:hover {\n",
              "    background-color: var(--disabled-bg-color);\n",
              "    fill: var(--disabled-fill-color);\n",
              "    box-shadow: none;\n",
              "  }\n",
              "\n",
              "  .colab-df-spinner {\n",
              "    border: 2px solid var(--fill-color);\n",
              "    border-color: transparent;\n",
              "    border-bottom-color: var(--fill-color);\n",
              "    animation:\n",
              "      spin 1s steps(1) infinite;\n",
              "  }\n",
              "\n",
              "  @keyframes spin {\n",
              "    0% {\n",
              "      border-color: transparent;\n",
              "      border-bottom-color: var(--fill-color);\n",
              "      border-left-color: var(--fill-color);\n",
              "    }\n",
              "    20% {\n",
              "      border-color: transparent;\n",
              "      border-left-color: var(--fill-color);\n",
              "      border-top-color: var(--fill-color);\n",
              "    }\n",
              "    30% {\n",
              "      border-color: transparent;\n",
              "      border-left-color: var(--fill-color);\n",
              "      border-top-color: var(--fill-color);\n",
              "      border-right-color: var(--fill-color);\n",
              "    }\n",
              "    40% {\n",
              "      border-color: transparent;\n",
              "      border-right-color: var(--fill-color);\n",
              "      border-top-color: var(--fill-color);\n",
              "    }\n",
              "    60% {\n",
              "      border-color: transparent;\n",
              "      border-right-color: var(--fill-color);\n",
              "    }\n",
              "    80% {\n",
              "      border-color: transparent;\n",
              "      border-right-color: var(--fill-color);\n",
              "      border-bottom-color: var(--fill-color);\n",
              "    }\n",
              "    90% {\n",
              "      border-color: transparent;\n",
              "      border-bottom-color: var(--fill-color);\n",
              "    }\n",
              "  }\n",
              "</style>\n",
              "\n",
              "  <script>\n",
              "    async function quickchart(key) {\n",
              "      const quickchartButtonEl =\n",
              "        document.querySelector('#' + key + ' button');\n",
              "      quickchartButtonEl.disabled = true;  // To prevent multiple clicks.\n",
              "      quickchartButtonEl.classList.add('colab-df-spinner');\n",
              "      try {\n",
              "        const charts = await google.colab.kernel.invokeFunction(\n",
              "            'suggestCharts', [key], {});\n",
              "      } catch (error) {\n",
              "        console.error('Error during call to suggestCharts:', error);\n",
              "      }\n",
              "      quickchartButtonEl.classList.remove('colab-df-spinner');\n",
              "      quickchartButtonEl.classList.add('colab-df-quickchart-complete');\n",
              "    }\n",
              "    (() => {\n",
              "      let quickchartButtonEl =\n",
              "        document.querySelector('#df-64c96998-4c41-4cf0-b7ea-0fccb9b42122 button');\n",
              "      quickchartButtonEl.style.display =\n",
              "        google.colab.kernel.accessAllowed ? 'block' : 'none';\n",
              "    })();\n",
              "  </script>\n",
              "</div>\n",
              "\n",
              "    </div>\n",
              "  </div>\n"
            ],
            "application/vnd.google.colaboratory.intrinsic+json": {
              "type": "dataframe",
              "variable_name": "df"
            }
          },
          "metadata": {},
          "execution_count": 222
        }
      ],
      "source": [
        "df.head()"
      ]
    },
    {
      "cell_type": "code",
      "execution_count": 223,
      "metadata": {
        "id": "cGpMg1VmSYXn"
      },
      "outputs": [],
      "source": [
        "# Make price and milage float to treat them as continuos features later\n",
        "\n",
        "df['price']=df['price'].astype('float')\n",
        "df['milage'] = df['milage'].astype('float')\n",
        "\n",
        "test['milage'] = test['milage'].astype('float')"
      ]
    },
    {
      "cell_type": "markdown",
      "source": [
        "# BASELINE MODEL"
      ],
      "metadata": {
        "id": "nLVbPTw-K87U"
      }
    },
    {
      "cell_type": "markdown",
      "source": [
        "### Outliers\n",
        "Look at distributions of some continuos features."
      ],
      "metadata": {
        "id": "pdtcdZ9CIbh9"
      }
    },
    {
      "cell_type": "code",
      "execution_count": 224,
      "metadata": {
        "colab": {
          "base_uri": "https://localhost:8080/",
          "height": 472
        },
        "id": "p_kPQRjjEXtG",
        "outputId": "9d0b8140-eed2-4392-fb13-77abfc14ff77"
      },
      "outputs": [
        {
          "output_type": "display_data",
          "data": {
            "text/plain": [
              "<Figure size 640x480 with 1 Axes>"
            ],
            "image/png": "[encoded data removed]"
          },
          "metadata": {}
        }
      ],
      "source": [
        "sns.boxplot(x=df['price'])\n",
        "plt.title(\"Distribution of Training Price\")\n",
        "plt.show()"
      ]
    },
    {
      "cell_type": "code",
      "execution_count": 225,
      "metadata": {
        "colab": {
          "base_uri": "https://localhost:8080/",
          "height": 472
        },
        "id": "_KUJtx0qITj2",
        "outputId": "baf407f0-823e-4335-c6bf-d5536cc98013"
      },
      "outputs": [
        {
          "output_type": "display_data",
          "data": {
            "text/plain": [
              "<Figure size 640x480 with 1 Axes>"
            ],
            "image/png": "[encoded data removed]"
          },
          "metadata": {}
        }
      ],
      "source": [
        "sns.boxplot(x=df['milage'])\n",
        "plt.title(\"Distribution of training milage\")\n",
        "plt.show()"
      ]
    },
    {
      "cell_type": "code",
      "execution_count": 226,
      "metadata": {
        "colab": {
          "base_uri": "https://localhost:8080/",
          "height": 472
        },
        "id": "CcbxyXHTu8zP",
        "outputId": "3f8cf4cd-0aaa-4436-f8d0-15ab9748f39d"
      },
      "outputs": [
        {
          "output_type": "display_data",
          "data": {
            "text/plain": [
              "<Figure size 640x480 with 1 Axes>"
            ],
            "image/png": "[encoded data removed]"
          },
          "metadata": {}
        }
      ],
      "source": [
        "sns.boxplot(x=test['milage'])\n",
        "plt.title(\"Distribution of test milage\")\n",
        "plt.show()"
      ]
    },
    {
      "cell_type": "code",
      "execution_count": 227,
      "metadata": {
        "colab": {
          "base_uri": "https://localhost:8080/",
          "height": 472
        },
        "id": "SAAqCaooJE_q",
        "outputId": "378b2d25-e74c-4201-81a1-eb79c0095e79"
      },
      "outputs": [
        {
          "output_type": "display_data",
          "data": {
            "text/plain": [
              "<Figure size 640x480 with 1 Axes>"
            ],
            "image/png": "[encoded data removed]"
          },
          "metadata": {}
        }
      ],
      "source": [
        "sns.boxplot(x=df['model_year'])\n",
        "plt.title(\"Distribution of training model_year\")\n",
        "plt.show()"
      ]
    },
    {
      "cell_type": "code",
      "execution_count": 228,
      "metadata": {
        "colab": {
          "base_uri": "https://localhost:8080/",
          "height": 472
        },
        "id": "N_wEUpDGvBrV",
        "outputId": "cac90586-47ab-445e-c943-2bd2bf8bb5c5"
      },
      "outputs": [
        {
          "output_type": "display_data",
          "data": {
            "text/plain": [
              "<Figure size 640x480 with 1 Axes>"
            ],
            "image/png": "[encoded data removed]"
          },
          "metadata": {}
        }
      ],
      "source": [
        "sns.boxplot(x=test['model_year'])\n",
        "plt.title(\"Distribution of test model_year\")\n",
        "plt.show()"
      ]
    },
    {
      "cell_type": "markdown",
      "source": [
        "It seems price and milage has extreme outliers."
      ],
      "metadata": {
        "id": "icmeMSqSK8gA"
      }
    },
    {
      "cell_type": "code",
      "execution_count": 229,
      "metadata": {
        "colab": {
          "base_uri": "https://localhost:8080/",
          "height": 335
        },
        "id": "dvag8q80Dlk9",
        "outputId": "47773220-ac27-480c-a31f-5351bf1501c4"
      },
      "outputs": [
        {
          "output_type": "execute_result",
          "data": {
            "text/plain": [
              "count    1.885330e+05\n",
              "mean     4.387802e+04\n",
              "std      7.881952e+04\n",
              "min      2.000000e+03\n",
              "25%      1.700000e+04\n",
              "50%      3.082500e+04\n",
              "75%      4.990000e+04\n",
              "max      2.954083e+06\n",
              "Name: price, dtype: float64"
            ],
            "text/html": [
              "<div>\n",
              "<style scoped>\n",
              "    .dataframe tbody tr th:only-of-type {\n",
              "        vertical-align: middle;\n",
              "    }\n",
              "\n",
              "    .dataframe tbody tr th {\n",
              "        vertical-align: top;\n",
              "    }\n",
              "\n",
              "    .dataframe thead th {\n",
              "        text-align: right;\n",
              "    }\n",
              "</style>\n",
              "<table border=\"1\" class=\"dataframe\">\n",
              "  <thead>\n",
              "    <tr style=\"text-align: right;\">\n",
              "      <th></th>\n",
              "      <th>price</th>\n",
              "    </tr>\n",
              "  </thead>\n",
              "  <tbody>\n",
              "    <tr>\n",
              "      <th>count</th>\n",
              "      <td>1.885330e+05</td>\n",
              "    </tr>\n",
              "    <tr>\n",
              "      <th>mean</th>\n",
              "      <td>4.387802e+04</td>\n",
              "    </tr>\n",
              "    <tr>\n",
              "      <th>std</th>\n",
              "      <td>7.881952e+04</td>\n",
              "    </tr>\n",
              "    <tr>\n",
              "      <th>min</th>\n",
              "      <td>2.000000e+03</td>\n",
              "    </tr>\n",
              "    <tr>\n",
              "      <th>25%</th>\n",
              "      <td>1.700000e+04</td>\n",
              "    </tr>\n",
              "    <tr>\n",
              "      <th>50%</th>\n",
              "      <td>3.082500e+04</td>\n",
              "    </tr>\n",
              "    <tr>\n",
              "      <th>75%</th>\n",
              "      <td>4.990000e+04</td>\n",
              "    </tr>\n",
              "    <tr>\n",
              "      <th>max</th>\n",
              "      <td>2.954083e+06</td>\n",
              "    </tr>\n",
              "  </tbody>\n",
              "</table>\n",
              "</div><br><label><b>dtype:</b> float64</label>"
            ]
          },
          "metadata": {},
          "execution_count": 229
        }
      ],
      "source": [
        "df['price'].describe()"
      ]
    },
    {
      "cell_type": "code",
      "source": [
        "df['milage'].describe()"
      ],
      "metadata": {
        "colab": {
          "base_uri": "https://localhost:8080/",
          "height": 335
        },
        "id": "N_UgzPYiLAiA",
        "outputId": "38d62b8e-4249-4b9f-9b03-c8fd09de67b2"
      },
      "execution_count": 230,
      "outputs": [
        {
          "output_type": "execute_result",
          "data": {
            "text/plain": [
              "count    188533.000000\n",
              "mean      65705.295174\n",
              "std       49798.158076\n",
              "min         100.000000\n",
              "25%       24115.000000\n",
              "50%       57785.000000\n",
              "75%       95400.000000\n",
              "max      405000.000000\n",
              "Name: milage, dtype: float64"
            ],
            "text/html": [
              "<div>\n",
              "<style scoped>\n",
              "    .dataframe tbody tr th:only-of-type {\n",
              "        vertical-align: middle;\n",
              "    }\n",
              "\n",
              "    .dataframe tbody tr th {\n",
              "        vertical-align: top;\n",
              "    }\n",
              "\n",
              "    .dataframe thead th {\n",
              "        text-align: right;\n",
              "    }\n",
              "</style>\n",
              "<table border=\"1\" class=\"dataframe\">\n",
              "  <thead>\n",
              "    <tr style=\"text-align: right;\">\n",
              "      <th></th>\n",
              "      <th>milage</th>\n",
              "    </tr>\n",
              "  </thead>\n",
              "  <tbody>\n",
              "    <tr>\n",
              "      <th>count</th>\n",
              "      <td>188533.000000</td>\n",
              "    </tr>\n",
              "    <tr>\n",
              "      <th>mean</th>\n",
              "      <td>65705.295174</td>\n",
              "    </tr>\n",
              "    <tr>\n",
              "      <th>std</th>\n",
              "      <td>49798.158076</td>\n",
              "    </tr>\n",
              "    <tr>\n",
              "      <th>min</th>\n",
              "      <td>100.000000</td>\n",
              "    </tr>\n",
              "    <tr>\n",
              "      <th>25%</th>\n",
              "      <td>24115.000000</td>\n",
              "    </tr>\n",
              "    <tr>\n",
              "      <th>50%</th>\n",
              "      <td>57785.000000</td>\n",
              "    </tr>\n",
              "    <tr>\n",
              "      <th>75%</th>\n",
              "      <td>95400.000000</td>\n",
              "    </tr>\n",
              "    <tr>\n",
              "      <th>max</th>\n",
              "      <td>405000.000000</td>\n",
              "    </tr>\n",
              "  </tbody>\n",
              "</table>\n",
              "</div><br><label><b>dtype:</b> float64</label>"
            ]
          },
          "metadata": {},
          "execution_count": 230
        }
      ]
    },
    {
      "cell_type": "code",
      "execution_count": 231,
      "metadata": {
        "id": "6hfQB4f2o8Sw"
      },
      "outputs": [],
      "source": [
        "def handle_outliers(col, limit=2):\n",
        "    '''\n",
        "    Truncate outliers according to limit argument\n",
        "    Truncate here means set values to 0\n",
        "\n",
        "    Args:\n",
        "    col (Series): Column to truncate\n",
        "    limit (int) : Multiple of standard deviation at which to truncate column\n",
        "    '''\n",
        "    x = col.copy()\n",
        "    mean = x.mean()\n",
        "    std_dev = x.std()\n",
        "    lower_bound = mean - (limit * std_dev)\n",
        "    upper_bound = mean + (limit * std_dev)\n",
        "\n",
        "    x[x < lower_bound] = lower_bound\n",
        "    x[x > upper_bound] = upper_bound\n",
        "\n",
        "    return x"
      ]
    },
    {
      "cell_type": "code",
      "execution_count": 232,
      "metadata": {
        "id": "A67DXkriJEYG",
        "colab": {
          "base_uri": "https://localhost:8080/"
        },
        "outputId": "7f9c0ef0-6f2b-4c48-d875-dc0e49c343a6"
      },
      "outputs": [
        {
          "output_type": "stream",
          "name": "stderr",
          "text": [
            "<ipython-input-231-17bf7a5b4acc>:16: FutureWarning: Setting an item of incompatible dtype is deprecated and will raise an error in a future version of pandas. Value '2004.5080633748582' has dtype incompatible with int64, please explicitly cast to a compatible dtype first.\n",
            "  x[x < lower_bound] = lower_bound\n",
            "<ipython-input-231-17bf7a5b4acc>:16: FutureWarning: Setting an item of incompatible dtype is deprecated and will raise an error in a future version of pandas. Value '2004.4499324831122' has dtype incompatible with int64, please explicitly cast to a compatible dtype first.\n",
            "  x[x < lower_bound] = lower_bound\n"
          ]
        }
      ],
      "source": [
        "df['price'] = handle_outliers(df['price'], 2)\n",
        "df['milage'] = handle_outliers(df['milage'], 2)\n",
        "df['model_year'] = handle_outliers(df['model_year'], 2)\n",
        "\n",
        "test['milage'] = handle_outliers(test['milage'], 2)\n",
        "test['model_year'] = handle_outliers(test['model_year'], 2)"
      ]
    },
    {
      "cell_type": "markdown",
      "source": [
        "After truncating outliers upto 2 * std dv, Let's see boxplot of resulting distribution of features."
      ],
      "metadata": {
        "id": "nDbvo8JdLf2p"
      }
    },
    {
      "cell_type": "code",
      "execution_count": 233,
      "metadata": {
        "colab": {
          "base_uri": "https://localhost:8080/",
          "height": 927
        },
        "id": "L2vNtxL8IwGb",
        "outputId": "49cabc5b-78c2-42b4-c683-120af4fb0e5f"
      },
      "outputs": [
        {
          "output_type": "display_data",
          "data": {
            "text/plain": [
              "<Figure size 640x480 with 1 Axes>"
            ],
            "image/png": "[encoded data removed]"
          },
          "metadata": {}
        },
        {
          "output_type": "display_data",
          "data": {
            "text/plain": [
              "<Figure size 640x480 with 1 Axes>"
            ],
            "image/png": "[encoded data removed]"
          },
          "metadata": {}
        }
      ],
      "source": [
        "sns.boxplot(x=df['milage'])\n",
        "plt.title(\"Distribution of train milage\")\n",
        "plt.show()\n",
        "sns.boxplot(x=test['milage'])\n",
        "plt.title(\"Distribution of test milage\")\n",
        "plt.show()"
      ]
    },
    {
      "cell_type": "markdown",
      "source": [
        "Visualize price and model_year outliers"
      ],
      "metadata": {
        "id": "gyT8ss-9eHaP"
      }
    },
    {
      "cell_type": "code",
      "execution_count": 234,
      "metadata": {
        "colab": {
          "base_uri": "https://localhost:8080/",
          "height": 472
        },
        "id": "4KHsjcrGHlHe",
        "outputId": "903040d7-ae64-4e62-b641-649468c12763"
      },
      "outputs": [
        {
          "output_type": "display_data",
          "data": {
            "text/plain": [
              "<Figure size 640x480 with 1 Axes>"
            ],
            "image/png": "[encoded data removed]"
          },
          "metadata": {}
        }
      ],
      "source": [
        "sns.boxplot(x=df['price'])\n",
        "plt.title(\"Distribution of train price\")\n",
        "plt.show()"
      ]
    },
    {
      "cell_type": "code",
      "execution_count": 235,
      "metadata": {
        "colab": {
          "base_uri": "https://localhost:8080/",
          "height": 927
        },
        "id": "buPpM_MPJrWR",
        "outputId": "eb3e181b-6604-4580-9774-568848b59d24"
      },
      "outputs": [
        {
          "output_type": "display_data",
          "data": {
            "text/plain": [
              "<Figure size 640x480 with 1 Axes>"
            ],
            "image/png": "[encoded data removed]"
          },
          "metadata": {}
        },
        {
          "output_type": "display_data",
          "data": {
            "text/plain": [
              "<Figure size 640x480 with 1 Axes>"
            ],
            "image/png": "[encoded data removed]"
          },
          "metadata": {}
        }
      ],
      "source": [
        "sns.boxplot(x=df['model_year'])\n",
        "plt.title(\"Distribution of train model_year\")\n",
        "plt.show()\n",
        "\n",
        "sns.boxplot(x=test['model_year'])\n",
        "plt.title(\"Distribution of test model_year\")\n",
        "plt.show()"
      ]
    },
    {
      "cell_type": "markdown",
      "source": [
        "# Clean missing values"
      ],
      "metadata": {
        "id": "C1vwpzD9ehdx"
      }
    },
    {
      "cell_type": "code",
      "source": [
        "def check_null(df, test):\n",
        "  ''' Returns DataFrame containg isnull() Series for both Train and Test set '''\n",
        "  return pd.DataFrame({'train null' : df.isnull().sum(), 'test null': test.isnull().sum()})"
      ],
      "metadata": {
        "id": "WrPHoHuNPI4T"
      },
      "execution_count": 236,
      "outputs": []
    },
    {
      "cell_type": "code",
      "execution_count": 237,
      "metadata": {
        "colab": {
          "base_uri": "https://localhost:8080/",
          "height": 425
        },
        "id": "W7AvSH1qgG08",
        "outputId": "117aafbb-493a-4b8c-9ebb-612723c3391f"
      },
      "outputs": [
        {
          "output_type": "execute_result",
          "data": {
            "text/plain": [
              "              train null  test null\n",
              "accident            2452     1632.0\n",
              "brand                  0        0.0\n",
              "clean_title        21419    14239.0\n",
              "engine                 0        0.0\n",
              "ext_col                0        0.0\n",
              "fuel_type           5083     3383.0\n",
              "int_col                0        0.0\n",
              "milage                 0        0.0\n",
              "model                  0        0.0\n",
              "model_year             0        0.0\n",
              "price                  0        NaN\n",
              "transmission           0        0.0"
            ],
            "text/html": [
              "\n",
              "  <div id=\"df-d01cf4e6-0232-467d-8e9b-87beae13b842\" class=\"colab-df-container\">\n",
              "    <div>\n",
              "<style scoped>\n",
              "    .dataframe tbody tr th:only-of-type {\n",
              "        vertical-align: middle;\n",
              "    }\n",
              "\n",
              "    .dataframe tbody tr th {\n",
              "        vertical-align: top;\n",
              "    }\n",
              "\n",
              "    .dataframe thead th {\n",
              "        text-align: right;\n",
              "    }\n",
              "</style>\n",
              "<table border=\"1\" class=\"dataframe\">\n",
              "  <thead>\n",
              "    <tr style=\"text-align: right;\">\n",
              "      <th></th>\n",
              "      <th>train null</th>\n",
              "      <th>test null</th>\n",
              "    </tr>\n",
              "  </thead>\n",
              "  <tbody>\n",
              "    <tr>\n",
              "      <th>accident</th>\n",
              "      <td>2452</td>\n",
              "      <td>1632.0</td>\n",
              "    </tr>\n",
              "    <tr>\n",
              "      <th>brand</th>\n",
              "      <td>0</td>\n",
              "      <td>0.0</td>\n",
              "    </tr>\n",
              "    <tr>\n",
              "      <th>clean_title</th>\n",
              "      <td>21419</td>\n",
              "      <td>14239.0</td>\n",
              "    </tr>\n",
              "    <tr>\n",
              "      <th>engine</th>\n",
              "      <td>0</td>\n",
              "      <td>0.0</td>\n",
              "    </tr>\n",
              "    <tr>\n",
              "      <th>ext_col</th>\n",
              "      <td>0</td>\n",
              "      <td>0.0</td>\n",
              "    </tr>\n",
              "    <tr>\n",
              "      <th>fuel_type</th>\n",
              "      <td>5083</td>\n",
              "      <td>3383.0</td>\n",
              "    </tr>\n",
              "    <tr>\n",
              "      <th>int_col</th>\n",
              "      <td>0</td>\n",
              "      <td>0.0</td>\n",
              "    </tr>\n",
              "    <tr>\n",
              "      <th>milage</th>\n",
              "      <td>0</td>\n",
              "      <td>0.0</td>\n",
              "    </tr>\n",
              "    <tr>\n",
              "      <th>model</th>\n",
              "      <td>0</td>\n",
              "      <td>0.0</td>\n",
              "    </tr>\n",
              "    <tr>\n",
              "      <th>model_year</th>\n",
              "      <td>0</td>\n",
              "      <td>0.0</td>\n",
              "    </tr>\n",
              "    <tr>\n",
              "      <th>price</th>\n",
              "      <td>0</td>\n",
              "      <td>NaN</td>\n",
              "    </tr>\n",
              "    <tr>\n",
              "      <th>transmission</th>\n",
              "      <td>0</td>\n",
              "      <td>0.0</td>\n",
              "    </tr>\n",
              "  </tbody>\n",
              "</table>\n",
              "</div>\n",
              "    <div class=\"colab-df-buttons\">\n",
              "\n",
              "  <div class=\"colab-df-container\">\n",
              "    <button class=\"colab-df-convert\" onclick=\"convertToInteractive('df-d01cf4e6-0232-467d-8e9b-87beae13b842')\"\n",
              "            title=\"Convert this dataframe to an interactive table.\"\n",
              "            style=\"display:none;\">\n",
              "\n",
              "  <svg xmlns=\"http://www.w3.org/2000/svg\" height=\"24px\" viewBox=\"0 -960 960 960\">\n",
              "    <path d=\"M120-120v-720h720v720H120Zm60-500h600v-160H180v160Zm220 220h160v-160H400v160Zm0 220h160v-160H400v160ZM180-400h160v-160H180v160Zm440 0h160v-160H620v160ZM180-180h160v-160H180v160Zm440 0h160v-160H620v160Z\"/>\n",
              "  </svg>\n",
              "    </button>\n",
              "\n",
              "  <style>\n",
              "    .colab-df-container {\n",
              "      display:flex;\n",
              "      gap: 12px;\n",
              "    }\n",
              "\n",
              "    .colab-df-convert {\n",
              "      background-color: #E8F0FE;\n",
              "      border: none;\n",
              "      border-radius: 50%;\n",
              "      cursor: pointer;\n",
              "      display: none;\n",
              "      fill: #1967D2;\n",
              "      height: 32px;\n",
              "      padding: 0 0 0 0;\n",
              "      width: 32px;\n",
              "    }\n",
              "\n",
              "    .colab-df-convert:hover {\n",
              "      background-color: #E2EBFA;\n",
              "      box-shadow: 0px 1px 2px rgba(60, 64, 67, 0.3), 0px 1px 3px 1px rgba(60, 64, 67, 0.15);\n",
              "      fill: #174EA6;\n",
              "    }\n",
              "\n",
              "    .colab-df-buttons div {\n",
              "      margin-bottom: 4px;\n",
              "    }\n",
              "\n",
              "    [theme=dark] .colab-df-convert {\n",
              "      background-color: #3B4455;\n",
              "      fill: #D2E3FC;\n",
              "    }\n",
              "\n",
              "    [theme=dark] .colab-df-convert:hover {\n",
              "      background-color: #434B5C;\n",
              "      box-shadow: 0px 1px 3px 1px rgba(0, 0, 0, 0.15);\n",
              "      filter: drop-shadow(0px 1px 2px rgba(0, 0, 0, 0.3));\n",
              "      fill: #FFFFFF;\n",
              "    }\n",
              "  </style>\n",
              "\n",
              "    <script>\n",
              "      const buttonEl =\n",
              "        document.querySelector('#df-d01cf4e6-0232-467d-8e9b-87beae13b842 button.colab-df-convert');\n",
              "      buttonEl.style.display =\n",
              "        google.colab.kernel.accessAllowed ? 'block' : 'none';\n",
              "\n",
              "      async function convertToInteractive(key) {\n",
              "        const element = document.querySelector('#df-d01cf4e6-0232-467d-8e9b-87beae13b842');\n",
              "        const dataTable =\n",
              "          await google.colab.kernel.invokeFunction('convertToInteractive',\n",
              "                                                    [key], {});\n",
              "        if (!dataTable) return;\n",
              "\n",
              "        const docLinkHtml = 'Like what you see? Visit the ' +\n",
              "          '<a target=\"_blank\" href=https://colab.research.google.com/notebooks/data_table.ipynb>data table notebook</a>'\n",
              "          + ' to learn more about interactive tables.';\n",
              "        element.innerHTML = '';\n",
              "        dataTable['output_type'] = 'display_data';\n",
              "        await google.colab.output.renderOutput(dataTable, element);\n",
              "        const docLink = document.createElement('div');\n",
              "        docLink.innerHTML = docLinkHtml;\n",
              "        element.appendChild(docLink);\n",
              "      }\n",
              "    </script>\n",
              "  </div>\n",
              "\n",
              "\n",
              "<div id=\"df-8e7c5364-94cc-4379-9d57-0cc75cfa1b03\">\n",
              "  <button class=\"colab-df-quickchart\" onclick=\"quickchart('df-8e7c5364-94cc-4379-9d57-0cc75cfa1b03')\"\n",
              "            title=\"Suggest charts\"\n",
              "            style=\"display:none;\">\n",
              "\n",
              "<svg xmlns=\"http://www.w3.org/2000/svg\" height=\"24px\"viewBox=\"0 0 24 24\"\n",
              "     width=\"24px\">\n",
              "    <g>\n",
              "        <path d=\"M19 3H5c-1.1 0-2 .9-2 2v14c0 1.1.9 2 2 2h14c1.1 0 2-.9 2-2V5c0-1.1-.9-2-2-2zM9 17H7v-7h2v7zm4 0h-2V7h2v10zm4 0h-2v-4h2v4z\"/>\n",
              "    </g>\n",
              "</svg>\n",
              "  </button>\n",
              "\n",
              "<style>\n",
              "  .colab-df-quickchart {\n",
              "      --bg-color: #E8F0FE;\n",
              "      --fill-color: #1967D2;\n",
              "      --hover-bg-color: #E2EBFA;\n",
              "      --hover-fill-color: #174EA6;\n",
              "      --disabled-fill-color: #AAA;\n",
              "      --disabled-bg-color: #DDD;\n",
              "  }\n",
              "\n",
              "  [theme=dark] .colab-df-quickchart {\n",
              "      --bg-color: #3B4455;\n",
              "      --fill-color: #D2E3FC;\n",
              "      --hover-bg-color: #434B5C;\n",
              "      --hover-fill-color: #FFFFFF;\n",
              "      --disabled-bg-color: #3B4455;\n",
              "      --disabled-fill-color: #666;\n",
              "  }\n",
              "\n",
              "  .colab-df-quickchart {\n",
              "    background-color: var(--bg-color);\n",
              "    border: none;\n",
              "    border-radius: 50%;\n",
              "    cursor: pointer;\n",
              "    display: none;\n",
              "    fill: var(--fill-color);\n",
              "    height: 32px;\n",
              "    padding: 0;\n",
              "    width: 32px;\n",
              "  }\n",
              "\n",
              "  .colab-df-quickchart:hover {\n",
              "    background-color: var(--hover-bg-color);\n",
              "    box-shadow: 0 1px 2px rgba(60, 64, 67, 0.3), 0 1px 3px 1px rgba(60, 64, 67, 0.15);\n",
              "    fill: var(--button-hover-fill-color);\n",
              "  }\n",
              "\n",
              "  .colab-df-quickchart-complete:disabled,\n",
              "  .colab-df-quickchart-complete:disabled:hover {\n",
              "    background-color: var(--disabled-bg-color);\n",
              "    fill: var(--disabled-fill-color);\n",
              "    box-shadow: none;\n",
              "  }\n",
              "\n",
              "  .colab-df-spinner {\n",
              "    border: 2px solid var(--fill-color);\n",
              "    border-color: transparent;\n",
              "    border-bottom-color: var(--fill-color);\n",
              "    animation:\n",
              "      spin 1s steps(1) infinite;\n",
              "  }\n",
              "\n",
              "  @keyframes spin {\n",
              "    0% {\n",
              "      border-color: transparent;\n",
              "      border-bottom-color: var(--fill-color);\n",
              "      border-left-color: var(--fill-color);\n",
              "    }\n",
              "    20% {\n",
              "      border-color: transparent;\n",
              "      border-left-color: var(--fill-color);\n",
              "      border-top-color: var(--fill-color);\n",
              "    }\n",
              "    30% {\n",
              "      border-color: transparent;\n",
              "      border-left-color: var(--fill-color);\n",
              "      border-top-color: var(--fill-color);\n",
              "      border-right-color: var(--fill-color);\n",
              "    }\n",
              "    40% {\n",
              "      border-color: transparent;\n",
              "      border-right-color: var(--fill-color);\n",
              "      border-top-color: var(--fill-color);\n",
              "    }\n",
              "    60% {\n",
              "      border-color: transparent;\n",
              "      border-right-color: var(--fill-color);\n",
              "    }\n",
              "    80% {\n",
              "      border-color: transparent;\n",
              "      border-right-color: var(--fill-color);\n",
              "      border-bottom-color: var(--fill-color);\n",
              "    }\n",
              "    90% {\n",
              "      border-color: transparent;\n",
              "      border-bottom-color: var(--fill-color);\n",
              "    }\n",
              "  }\n",
              "</style>\n",
              "\n",
              "  <script>\n",
              "    async function quickchart(key) {\n",
              "      const quickchartButtonEl =\n",
              "        document.querySelector('#' + key + ' button');\n",
              "      quickchartButtonEl.disabled = true;  // To prevent multiple clicks.\n",
              "      quickchartButtonEl.classList.add('colab-df-spinner');\n",
              "      try {\n",
              "        const charts = await google.colab.kernel.invokeFunction(\n",
              "            'suggestCharts', [key], {});\n",
              "      } catch (error) {\n",
              "        console.error('Error during call to suggestCharts:', error);\n",
              "      }\n",
              "      quickchartButtonEl.classList.remove('colab-df-spinner');\n",
              "      quickchartButtonEl.classList.add('colab-df-quickchart-complete');\n",
              "    }\n",
              "    (() => {\n",
              "      let quickchartButtonEl =\n",
              "        document.querySelector('#df-8e7c5364-94cc-4379-9d57-0cc75cfa1b03 button');\n",
              "      quickchartButtonEl.style.display =\n",
              "        google.colab.kernel.accessAllowed ? 'block' : 'none';\n",
              "    })();\n",
              "  </script>\n",
              "</div>\n",
              "\n",
              "    </div>\n",
              "  </div>\n"
            ],
            "application/vnd.google.colaboratory.intrinsic+json": {
              "type": "dataframe",
              "summary": "{\n  \"name\": \"check_null(df, test)\",\n  \"rows\": 12,\n  \"fields\": [\n    {\n      \"column\": \"train null\",\n      \"properties\": {\n        \"dtype\": \"number\",\n        \"std\": 6184,\n        \"min\": 0,\n        \"max\": 21419,\n        \"num_unique_values\": 4,\n        \"samples\": [\n          0,\n          5083,\n          2452\n        ],\n        \"semantic_type\": \"\",\n        \"description\": \"\"\n      }\n    },\n    {\n      \"column\": \"test null\",\n      \"properties\": {\n        \"dtype\": \"number\",\n        \"std\": 4279.669759986798,\n        \"min\": 0.0,\n        \"max\": 14239.0,\n        \"num_unique_values\": 4,\n        \"samples\": [\n          0.0,\n          3383.0,\n          1632.0\n        ],\n        \"semantic_type\": \"\",\n        \"description\": \"\"\n      }\n    }\n  ]\n}"
            }
          },
          "metadata": {},
          "execution_count": 237
        }
      ],
      "source": [
        "# Check for missing values\n",
        "check_null(df, test)"
      ]
    },
    {
      "cell_type": "markdown",
      "source": [],
      "metadata": {
        "id": "Z8VgcqNUEdZ2"
      }
    },
    {
      "cell_type": "code",
      "execution_count": 238,
      "metadata": {
        "id": "3gWR0PfVzL-E"
      },
      "outputs": [],
      "source": [
        "# Cleans the categorical and continuos data for missing values using imputation\n",
        "# try experimeting with median imputer for both continuos and categorical\n",
        "\n",
        "class Cleaner():\n",
        "    def __init__(self, df):\n",
        "      self.df = df\n",
        "      self.categoricals = []\n",
        "      self.continuos = []\n",
        "      self.categoricals_imputed = []\n",
        "      self.continuos_imputed = []\n",
        "\n",
        "      self.mean_imputer = SimpleImputer(strategy='mean')\n",
        "      self.mode_imputer = SimpleImputer(strategy='most_frequent')\n",
        "\n",
        "      self.update_vars()\n",
        "\n",
        "\n",
        "    def update_vars(self, extra_categoricals=[], extra_continuos=[]):\n",
        "        '''\n",
        "        Updates list of categoricals and continuos variables based on dtypes\n",
        "        Features with dtype int, object and category are considered categoricals while float features are considered continuos.\n",
        "\n",
        "        Args:\n",
        "        extra_categoricals (list): Non categorical features which are to be trated as categoricals\n",
        "        extra_continuos (list) :  Non continuos features to be trated as continuos\n",
        "        '''\n",
        "        self.categoricals = list(set(self.categoricals) | set(self.df.select_dtypes(include=[int, object, 'category']).columns))\n",
        "\n",
        "        if extra_categoricals:\n",
        "            self.categoricals = list(set(self.categoricals) | set(extra_categoricals))\n",
        "\n",
        "        self.continuos = [col for col in self.df.columns if col not in self.categoricals]\n",
        "        if extra_continuos:\n",
        "            self.continuos = list(set(self.continuos) | set(extra_continuos))\n",
        "\n",
        "\n",
        "    def clean_categoricals(self):\n",
        "        '''\n",
        "        Cleans categorical features using Mode imputation\n",
        "        '''\n",
        "        self.update_vars()\n",
        "        categorical_missing_vars = list(filter(lambda x: x not in self.categoricals_imputed, self.categoricals))\n",
        "\n",
        "        if categorical_missing_vars:\n",
        "          print(f'Categorical_missing_vars: {categorical_missing_vars}')\n",
        "          self.df[categorical_missing_vars] = self.mode_imputer.fit_transform(self.df[categorical_missing_vars])\n",
        "          self.categoricals_imputed += categorical_missing_vars\n",
        "\n",
        "\n",
        "    def clean_continuos(self):\n",
        "        self.update_vars()\n",
        "\n",
        "        continuos_missing_vars = list(filter(lambda x: x not in self.continuos_imputed, self.continuos))\n",
        "\n",
        "        if continuos_missing_vars:\n",
        "          print(f'Continuos_missing_vars: {continuos_missing_vars}')\n",
        "          self.df[continuos_missing_vars] = self.mean_imputer.fit_transform(self.df[continuos_missing_vars])\n",
        "          self.continuos_imputed += continuos_missing_vars\n"
      ]
    },
    {
      "cell_type": "code",
      "execution_count": 239,
      "metadata": {
        "id": "My3AXsgm1JR6"
      },
      "outputs": [],
      "source": [
        "cleaner = Cleaner(df = df)\n",
        "test_cleaner = Cleaner(df = test)"
      ]
    },
    {
      "cell_type": "code",
      "execution_count": 240,
      "metadata": {
        "colab": {
          "base_uri": "https://localhost:8080/"
        },
        "id": "xk58DaYGujba",
        "outputId": "02aae672-830a-498c-db46-53b3466c1322"
      },
      "outputs": [
        {
          "output_type": "stream",
          "name": "stdout",
          "text": [
            "Categorical_missing_vars: ['accident', 'int_col', 'engine', 'model', 'transmission', 'fuel_type', 'ext_col', 'clean_title', 'brand']\n",
            "Categorical_missing_vars: ['accident', 'int_col', 'engine', 'model', 'transmission', 'fuel_type', 'ext_col', 'clean_title', 'brand']\n"
          ]
        }
      ],
      "source": [
        "cleaner.clean_categoricals()\n",
        "test_cleaner.clean_categoricals()"
      ]
    },
    {
      "cell_type": "code",
      "execution_count": 241,
      "metadata": {
        "colab": {
          "base_uri": "https://localhost:8080/",
          "height": 425
        },
        "id": "Jqno2w5wuw3p",
        "outputId": "5b1b5446-d73b-487a-96fc-846040e3708b"
      },
      "outputs": [
        {
          "output_type": "execute_result",
          "data": {
            "text/plain": [
              "              train null  test null\n",
              "accident               0        0.0\n",
              "brand                  0        0.0\n",
              "clean_title            0        0.0\n",
              "engine                 0        0.0\n",
              "ext_col                0        0.0\n",
              "fuel_type              0        0.0\n",
              "int_col                0        0.0\n",
              "milage                 0        0.0\n",
              "model                  0        0.0\n",
              "model_year             0        0.0\n",
              "price                  0        NaN\n",
              "transmission           0        0.0"
            ],
            "text/html": [
              "\n",
              "  <div id=\"df-fe629b56-2f36-40be-8045-b23471ba9d87\" class=\"colab-df-container\">\n",
              "    <div>\n",
              "<style scoped>\n",
              "    .dataframe tbody tr th:only-of-type {\n",
              "        vertical-align: middle;\n",
              "    }\n",
              "\n",
              "    .dataframe tbody tr th {\n",
              "        vertical-align: top;\n",
              "    }\n",
              "\n",
              "    .dataframe thead th {\n",
              "        text-align: right;\n",
              "    }\n",
              "</style>\n",
              "<table border=\"1\" class=\"dataframe\">\n",
              "  <thead>\n",
              "    <tr style=\"text-align: right;\">\n",
              "      <th></th>\n",
              "      <th>train null</th>\n",
              "      <th>test null</th>\n",
              "    </tr>\n",
              "  </thead>\n",
              "  <tbody>\n",
              "    <tr>\n",
              "      <th>accident</th>\n",
              "      <td>0</td>\n",
              "      <td>0.0</td>\n",
              "    </tr>\n",
              "    <tr>\n",
              "      <th>brand</th>\n",
              "      <td>0</td>\n",
              "      <td>0.0</td>\n",
              "    </tr>\n",
              "    <tr>\n",
              "      <th>clean_title</th>\n",
              "      <td>0</td>\n",
              "      <td>0.0</td>\n",
              "    </tr>\n",
              "    <tr>\n",
              "      <th>engine</th>\n",
              "      <td>0</td>\n",
              "      <td>0.0</td>\n",
              "    </tr>\n",
              "    <tr>\n",
              "      <th>ext_col</th>\n",
              "      <td>0</td>\n",
              "      <td>0.0</td>\n",
              "    </tr>\n",
              "    <tr>\n",
              "      <th>fuel_type</th>\n",
              "      <td>0</td>\n",
              "      <td>0.0</td>\n",
              "    </tr>\n",
              "    <tr>\n",
              "      <th>int_col</th>\n",
              "      <td>0</td>\n",
              "      <td>0.0</td>\n",
              "    </tr>\n",
              "    <tr>\n",
              "      <th>milage</th>\n",
              "      <td>0</td>\n",
              "      <td>0.0</td>\n",
              "    </tr>\n",
              "    <tr>\n",
              "      <th>model</th>\n",
              "      <td>0</td>\n",
              "      <td>0.0</td>\n",
              "    </tr>\n",
              "    <tr>\n",
              "      <th>model_year</th>\n",
              "      <td>0</td>\n",
              "      <td>0.0</td>\n",
              "    </tr>\n",
              "    <tr>\n",
              "      <th>price</th>\n",
              "      <td>0</td>\n",
              "      <td>NaN</td>\n",
              "    </tr>\n",
              "    <tr>\n",
              "      <th>transmission</th>\n",
              "      <td>0</td>\n",
              "      <td>0.0</td>\n",
              "    </tr>\n",
              "  </tbody>\n",
              "</table>\n",
              "</div>\n",
              "    <div class=\"colab-df-buttons\">\n",
              "\n",
              "  <div class=\"colab-df-container\">\n",
              "    <button class=\"colab-df-convert\" onclick=\"convertToInteractive('df-fe629b56-2f36-40be-8045-b23471ba9d87')\"\n",
              "            title=\"Convert this dataframe to an interactive table.\"\n",
              "            style=\"display:none;\">\n",
              "\n",
              "  <svg xmlns=\"http://www.w3.org/2000/svg\" height=\"24px\" viewBox=\"0 -960 960 960\">\n",
              "    <path d=\"M120-120v-720h720v720H120Zm60-500h600v-160H180v160Zm220 220h160v-160H400v160Zm0 220h160v-160H400v160ZM180-400h160v-160H180v160Zm440 0h160v-160H620v160ZM180-180h160v-160H180v160Zm440 0h160v-160H620v160Z\"/>\n",
              "  </svg>\n",
              "    </button>\n",
              "\n",
              "  <style>\n",
              "    .colab-df-container {\n",
              "      display:flex;\n",
              "      gap: 12px;\n",
              "    }\n",
              "\n",
              "    .colab-df-convert {\n",
              "      background-color: #E8F0FE;\n",
              "      border: none;\n",
              "      border-radius: 50%;\n",
              "      cursor: pointer;\n",
              "      display: none;\n",
              "      fill: #1967D2;\n",
              "      height: 32px;\n",
              "      padding: 0 0 0 0;\n",
              "      width: 32px;\n",
              "    }\n",
              "\n",
              "    .colab-df-convert:hover {\n",
              "      background-color: #E2EBFA;\n",
              "      box-shadow: 0px 1px 2px rgba(60, 64, 67, 0.3), 0px 1px 3px 1px rgba(60, 64, 67, 0.15);\n",
              "      fill: #174EA6;\n",
              "    }\n",
              "\n",
              "    .colab-df-buttons div {\n",
              "      margin-bottom: 4px;\n",
              "    }\n",
              "\n",
              "    [theme=dark] .colab-df-convert {\n",
              "      background-color: #3B4455;\n",
              "      fill: #D2E3FC;\n",
              "    }\n",
              "\n",
              "    [theme=dark] .colab-df-convert:hover {\n",
              "      background-color: #434B5C;\n",
              "      box-shadow: 0px 1px 3px 1px rgba(0, 0, 0, 0.15);\n",
              "      filter: drop-shadow(0px 1px 2px rgba(0, 0, 0, 0.3));\n",
              "      fill: #FFFFFF;\n",
              "    }\n",
              "  </style>\n",
              "\n",
              "    <script>\n",
              "      const buttonEl =\n",
              "        document.querySelector('#df-fe629b56-2f36-40be-8045-b23471ba9d87 button.colab-df-convert');\n",
              "      buttonEl.style.display =\n",
              "        google.colab.kernel.accessAllowed ? 'block' : 'none';\n",
              "\n",
              "      async function convertToInteractive(key) {\n",
              "        const element = document.querySelector('#df-fe629b56-2f36-40be-8045-b23471ba9d87');\n",
              "        const dataTable =\n",
              "          await google.colab.kernel.invokeFunction('convertToInteractive',\n",
              "                                                    [key], {});\n",
              "        if (!dataTable) return;\n",
              "\n",
              "        const docLinkHtml = 'Like what you see? Visit the ' +\n",
              "          '<a target=\"_blank\" href=https://colab.research.google.com/notebooks/data_table.ipynb>data table notebook</a>'\n",
              "          + ' to learn more about interactive tables.';\n",
              "        element.innerHTML = '';\n",
              "        dataTable['output_type'] = 'display_data';\n",
              "        await google.colab.output.renderOutput(dataTable, element);\n",
              "        const docLink = document.createElement('div');\n",
              "        docLink.innerHTML = docLinkHtml;\n",
              "        element.appendChild(docLink);\n",
              "      }\n",
              "    </script>\n",
              "  </div>\n",
              "\n",
              "\n",
              "<div id=\"df-f86966ed-5e7f-4301-9df2-1a124f78bd9b\">\n",
              "  <button class=\"colab-df-quickchart\" onclick=\"quickchart('df-f86966ed-5e7f-4301-9df2-1a124f78bd9b')\"\n",
              "            title=\"Suggest charts\"\n",
              "            style=\"display:none;\">\n",
              "\n",
              "<svg xmlns=\"http://www.w3.org/2000/svg\" height=\"24px\"viewBox=\"0 0 24 24\"\n",
              "     width=\"24px\">\n",
              "    <g>\n",
              "        <path d=\"M19 3H5c-1.1 0-2 .9-2 2v14c0 1.1.9 2 2 2h14c1.1 0 2-.9 2-2V5c0-1.1-.9-2-2-2zM9 17H7v-7h2v7zm4 0h-2V7h2v10zm4 0h-2v-4h2v4z\"/>\n",
              "    </g>\n",
              "</svg>\n",
              "  </button>\n",
              "\n",
              "<style>\n",
              "  .colab-df-quickchart {\n",
              "      --bg-color: #E8F0FE;\n",
              "      --fill-color: #1967D2;\n",
              "      --hover-bg-color: #E2EBFA;\n",
              "      --hover-fill-color: #174EA6;\n",
              "      --disabled-fill-color: #AAA;\n",
              "      --disabled-bg-color: #DDD;\n",
              "  }\n",
              "\n",
              "  [theme=dark] .colab-df-quickchart {\n",
              "      --bg-color: #3B4455;\n",
              "      --fill-color: #D2E3FC;\n",
              "      --hover-bg-color: #434B5C;\n",
              "      --hover-fill-color: #FFFFFF;\n",
              "      --disabled-bg-color: #3B4455;\n",
              "      --disabled-fill-color: #666;\n",
              "  }\n",
              "\n",
              "  .colab-df-quickchart {\n",
              "    background-color: var(--bg-color);\n",
              "    border: none;\n",
              "    border-radius: 50%;\n",
              "    cursor: pointer;\n",
              "    display: none;\n",
              "    fill: var(--fill-color);\n",
              "    height: 32px;\n",
              "    padding: 0;\n",
              "    width: 32px;\n",
              "  }\n",
              "\n",
              "  .colab-df-quickchart:hover {\n",
              "    background-color: var(--hover-bg-color);\n",
              "    box-shadow: 0 1px 2px rgba(60, 64, 67, 0.3), 0 1px 3px 1px rgba(60, 64, 67, 0.15);\n",
              "    fill: var(--button-hover-fill-color);\n",
              "  }\n",
              "\n",
              "  .colab-df-quickchart-complete:disabled,\n",
              "  .colab-df-quickchart-complete:disabled:hover {\n",
              "    background-color: var(--disabled-bg-color);\n",
              "    fill: var(--disabled-fill-color);\n",
              "    box-shadow: none;\n",
              "  }\n",
              "\n",
              "  .colab-df-spinner {\n",
              "    border: 2px solid var(--fill-color);\n",
              "    border-color: transparent;\n",
              "    border-bottom-color: var(--fill-color);\n",
              "    animation:\n",
              "      spin 1s steps(1) infinite;\n",
              "  }\n",
              "\n",
              "  @keyframes spin {\n",
              "    0% {\n",
              "      border-color: transparent;\n",
              "      border-bottom-color: var(--fill-color);\n",
              "      border-left-color: var(--fill-color);\n",
              "    }\n",
              "    20% {\n",
              "      border-color: transparent;\n",
              "      border-left-color: var(--fill-color);\n",
              "      border-top-color: var(--fill-color);\n",
              "    }\n",
              "    30% {\n",
              "      border-color: transparent;\n",
              "      border-left-color: var(--fill-color);\n",
              "      border-top-color: var(--fill-color);\n",
              "      border-right-color: var(--fill-color);\n",
              "    }\n",
              "    40% {\n",
              "      border-color: transparent;\n",
              "      border-right-color: var(--fill-color);\n",
              "      border-top-color: var(--fill-color);\n",
              "    }\n",
              "    60% {\n",
              "      border-color: transparent;\n",
              "      border-right-color: var(--fill-color);\n",
              "    }\n",
              "    80% {\n",
              "      border-color: transparent;\n",
              "      border-right-color: var(--fill-color);\n",
              "      border-bottom-color: var(--fill-color);\n",
              "    }\n",
              "    90% {\n",
              "      border-color: transparent;\n",
              "      border-bottom-color: var(--fill-color);\n",
              "    }\n",
              "  }\n",
              "</style>\n",
              "\n",
              "  <script>\n",
              "    async function quickchart(key) {\n",
              "      const quickchartButtonEl =\n",
              "        document.querySelector('#' + key + ' button');\n",
              "      quickchartButtonEl.disabled = true;  // To prevent multiple clicks.\n",
              "      quickchartButtonEl.classList.add('colab-df-spinner');\n",
              "      try {\n",
              "        const charts = await google.colab.kernel.invokeFunction(\n",
              "            'suggestCharts', [key], {});\n",
              "      } catch (error) {\n",
              "        console.error('Error during call to suggestCharts:', error);\n",
              "      }\n",
              "      quickchartButtonEl.classList.remove('colab-df-spinner');\n",
              "      quickchartButtonEl.classList.add('colab-df-quickchart-complete');\n",
              "    }\n",
              "    (() => {\n",
              "      let quickchartButtonEl =\n",
              "        document.querySelector('#df-f86966ed-5e7f-4301-9df2-1a124f78bd9b button');\n",
              "      quickchartButtonEl.style.display =\n",
              "        google.colab.kernel.accessAllowed ? 'block' : 'none';\n",
              "    })();\n",
              "  </script>\n",
              "</div>\n",
              "\n",
              "    </div>\n",
              "  </div>\n"
            ],
            "application/vnd.google.colaboratory.intrinsic+json": {
              "type": "dataframe",
              "summary": "{\n  \"name\": \"check_null(df, test)\",\n  \"rows\": 12,\n  \"fields\": [\n    {\n      \"column\": \"train null\",\n      \"properties\": {\n        \"dtype\": \"number\",\n        \"std\": 0,\n        \"min\": 0,\n        \"max\": 0,\n        \"num_unique_values\": 1,\n        \"samples\": [\n          0\n        ],\n        \"semantic_type\": \"\",\n        \"description\": \"\"\n      }\n    },\n    {\n      \"column\": \"test null\",\n      \"properties\": {\n        \"dtype\": \"number\",\n        \"std\": 0.0,\n        \"min\": 0.0,\n        \"max\": 0.0,\n        \"num_unique_values\": 1,\n        \"samples\": [\n          0.0\n        ],\n        \"semantic_type\": \"\",\n        \"description\": \"\"\n      }\n    }\n  ]\n}"
            }
          },
          "metadata": {},
          "execution_count": 241
        }
      ],
      "source": [
        "check_null(df, test)"
      ]
    },
    {
      "cell_type": "code",
      "execution_count": 242,
      "metadata": {
        "id": "aiCde4-2V2DG"
      },
      "outputs": [],
      "source": [
        "# Categorical: Int, object: Won't be scaled and will be applied mode Imputer\n",
        "# Continuos: Float, float64:  Will be Scaled, applied mean Imputer"
      ]
    },
    {
      "cell_type": "markdown",
      "metadata": {
        "id": "Z-WECcjlOQjS"
      },
      "source": [
        "# Feature Engineering"
      ]
    },
    {
      "cell_type": "markdown",
      "metadata": {
        "id": "XSOjmdI1OMfh"
      },
      "source": [
        "Functions to extract features from original dataset"
      ]
    },
    {
      "cell_type": "code",
      "execution_count": 243,
      "metadata": {
        "id": "CA5k9ZxmMezA"
      },
      "outputs": [],
      "source": [
        "# Categorical\n",
        "def get_automatic(string):\n",
        "    string = string.lower()\n",
        "    if 'a/t' in string or 'automatic' in string or 'at' in string:\n",
        "        return 1\n",
        "    else:\n",
        "        return 0"
      ]
    },
    {
      "cell_type": "code",
      "execution_count": 244,
      "metadata": {
        "id": "OCvnQF05MjD9"
      },
      "outputs": [],
      "source": [
        "# Categorical\n",
        "def get_gears(string):\n",
        "    match = re.search(r'^(\\d+)-Speed', string, re.IGNORECASE)\n",
        "    if match:\n",
        "        gears = match.group(1)\n",
        "        return int(gears)\n",
        "    else:\n",
        "        return None"
      ]
    },
    {
      "cell_type": "code",
      "execution_count": 245,
      "metadata": {
        "id": "wGCevIreKiVV"
      },
      "outputs": [],
      "source": [
        "# Contiunuos\n",
        "def get_hp(engine):\n",
        "    match = re.search(r'([\\d.]+)HP', engine, re.IGNORECASE)\n",
        "    if match:\n",
        "      return float(match.group(1))\n",
        "    else:\n",
        "      return None"
      ]
    },
    {
      "cell_type": "code",
      "execution_count": 246,
      "metadata": {
        "id": "h-z8CtAwLKn2"
      },
      "outputs": [],
      "source": [
        "# Continuos\n",
        "def get_L(engine):\n",
        "    match = re.search(r'([\\d.]+)L', engine, re.IGNORECASE)\n",
        "    if match:\n",
        "      return float(match.group(1))\n",
        "    else:\n",
        "      return None"
      ]
    },
    {
      "cell_type": "code",
      "execution_count": 247,
      "metadata": {
        "id": "xWby4y8cO7ao"
      },
      "outputs": [],
      "source": [
        "# Categorical\n",
        "def get_cyl(engine):\n",
        "    match = re.search(r'([\\d.]+)?\\s?(?:Cylinder|Cyl|Cylinders)', engine, re.IGNORECASE)\n",
        "    if match:\n",
        "      return int(match.group(1))\n",
        "    else:\n",
        "      return None"
      ]
    },
    {
      "cell_type": "code",
      "execution_count": 248,
      "metadata": {
        "id": "fsf--tACRYfP"
      },
      "outputs": [],
      "source": [
        "# Categorical\n",
        "def is_electric(engine):\n",
        "    if 'electric' in engine.lower():\n",
        "      return 1\n",
        "    else:\n",
        "      return 0"
      ]
    },
    {
      "cell_type": "code",
      "execution_count": 249,
      "metadata": {
        "id": "leWepmOjSCat"
      },
      "outputs": [],
      "source": [
        "# Continuos\n",
        "def num_valves(engine):\n",
        "    match = re.search(r'([\\d+])V', engine)\n",
        "    if match:\n",
        "      return float(match.group(1))\n",
        "    else:\n",
        "      return None"
      ]
    },
    {
      "cell_type": "code",
      "execution_count": 250,
      "metadata": {
        "id": "SMO0cml9MoIm"
      },
      "outputs": [],
      "source": [
        "# Categorical\n",
        "def is_accident(accident):\n",
        "    if type(accident) == str:\n",
        "        if 'accident' in accident.lower():\n",
        "          return 1\n",
        "        else:\n",
        "          return 0\n",
        "    else:\n",
        "        return None"
      ]
    },
    {
      "cell_type": "code",
      "execution_count": 251,
      "metadata": {
        "id": "fJvDz5rDM3Sg"
      },
      "outputs": [],
      "source": [
        "# Create features and insert into dataframe\n",
        "\n",
        "def create_features(df):\n",
        "    ''' Extract features using defined functions\n",
        "        Returns dataframe updated with newly created features '''\n",
        "\n",
        "    df['automatic'] = df['transmission'].apply(get_automatic)\n",
        "    df['gears'] = df['transmission'].apply(get_gears)\n",
        "    df['hp'] = df['engine'].apply(get_hp)\n",
        "    df['L'] = df['engine'].apply(get_L)\n",
        "    df['cylinders'] = df['engine'].apply(get_cyl)\n",
        "    df['accident'] = df['accident'].apply(is_accident)\n",
        "    df['electric'] = df['engine'].apply(is_electric)\n",
        "    df['valves'] = df['engine'].apply(num_valves)\n",
        "\n",
        "def create_interactions(df):\n",
        "    '''\n",
        "    Creates mathematical combinations of features mostly based on intuition.\n",
        "    Updates df with new features\n",
        "\n",
        "    Args:\n",
        "    df (DataFrame) : DataFrame to add new features\n",
        "    '''\n",
        "\n",
        "    df['hp/l'] = np.where(df['L'] != 0, df['hp'] / df['L'], None).astype('float')\n",
        "    df['mil/l'] = np.where(df['L'] != 0, df['milage'] / df['L'], None).astype('float')\n",
        "    df['mil/hp'] = np.where(df['hp'] != 0, df['milage'] / df['hp'], None).astype('float')\n",
        "    df['l/cyl'] = np.where(df['cylinders'] != 0, df['L'] / df['cylinders'], None).astype('float')\n",
        "    df['hp/gears'] = np.where(df['gears'] != 0, df['hp'] / df['gears'], None).astype('float')\n",
        "    df['mil/gears'] = np.where(df['gears'] != 0, df['milage'] / df['gears'], None).astype('float')\n",
        "    df['mil/cyl'] = np.where(df['cylinders'] != 0, df['milage'] / df['cylinders'], None).astype('float')\n",
        "\n",
        "    df['hp*automatic'] = df['hp'] * df['automatic']\n",
        "    df['cyl*gears'] = df['cylinders'] * df['gears']\n",
        "\n",
        "    df['carAge'] = pd.Series(2024 - df['model_year']).astype('int')\n",
        "    df['mil/year'] = np.where(df['carAge'] != 0, df['milage'] / df['carAge'], None).astype('float')\n",
        "    df['hp*accident'] = pd.Series(df['hp'] * df['accident']).astype('float')\n",
        "    df['accident*carAge'] = pd.Series(df['accident'] * df['carAge']).astype('float')\n",
        "    df['acc*milage'] = pd.Series(df['accident'] * df['milage']).astype('float')\n",
        "\n",
        "    df['mil*carAge'] = pd.Series(df['milage'] * df['carAge']).astype('float')\n",
        "    df['hp*mil'] = pd.Series(df['hp'] * df['milage']).astype('float')\n"
      ]
    },
    {
      "cell_type": "code",
      "execution_count": 252,
      "metadata": {
        "id": "29Sg5YusP3TF"
      },
      "outputs": [],
      "source": [
        "create_features(df)\n",
        "create_features(test)"
      ]
    },
    {
      "cell_type": "markdown",
      "source": [
        "We'll treat L, cylinders, gears features as categoricals as their unique values are less."
      ],
      "metadata": {
        "id": "csogYA3INcFL"
      }
    },
    {
      "cell_type": "markdown",
      "source": [
        "### Clean newly created features"
      ],
      "metadata": {
        "id": "thv5RtGWNtE0"
      }
    },
    {
      "cell_type": "code",
      "execution_count": 253,
      "metadata": {
        "id": "p31KZOj05O-y"
      },
      "outputs": [],
      "source": [
        "# We will treat some suitable variables as categorical\n",
        "cleaner.update_vars(extra_categoricals = ['L', 'cylinders', 'gears'])\n",
        "test_cleaner.update_vars(extra_categoricals = ['L', 'cylinders', 'gears'])"
      ]
    },
    {
      "cell_type": "code",
      "execution_count": 254,
      "metadata": {
        "colab": {
          "base_uri": "https://localhost:8080/"
        },
        "id": "SXePYpXe9GRv",
        "outputId": "246bae12-b28d-45e2-94e2-c937bd154ee5"
      },
      "outputs": [
        {
          "output_type": "stream",
          "name": "stdout",
          "text": [
            "Categorical_missing_vars: ['gears', 'L', 'electric', 'automatic', 'cylinders']\n",
            "Continuos_missing_vars: ['model_year', 'milage', 'price', 'hp', 'valves']\n",
            "Categorical_missing_vars: ['gears', 'L', 'electric', 'automatic', 'cylinders']\n",
            "Continuos_missing_vars: ['model_year', 'milage', 'hp', 'valves']\n"
          ]
        }
      ],
      "source": [
        "cleaner.clean_categoricals()\n",
        "cleaner.clean_continuos()\n",
        "\n",
        "test_cleaner.clean_categoricals()\n",
        "test_cleaner.clean_continuos()"
      ]
    },
    {
      "cell_type": "code",
      "execution_count": 255,
      "metadata": {
        "colab": {
          "base_uri": "https://localhost:8080/",
          "height": 645
        },
        "id": "l_dvC6iuIP9R",
        "outputId": "b525e9c1-5375-41c5-bba7-288e13147404"
      },
      "outputs": [
        {
          "output_type": "execute_result",
          "data": {
            "text/plain": [
              "              train null  test null\n",
              "L                      0        0.0\n",
              "accident               0        0.0\n",
              "automatic              0        0.0\n",
              "brand                  0        0.0\n",
              "clean_title            0        0.0\n",
              "cylinders              0        0.0\n",
              "electric               0        0.0\n",
              "engine                 0        0.0\n",
              "ext_col                0        0.0\n",
              "fuel_type              0        0.0\n",
              "gears                  0        0.0\n",
              "hp                     0        0.0\n",
              "int_col                0        0.0\n",
              "milage                 0        0.0\n",
              "model                  0        0.0\n",
              "model_year             0        0.0\n",
              "price                  0        NaN\n",
              "transmission           0        0.0\n",
              "valves                 0        0.0"
            ],
            "text/html": [
              "\n",
              "  <div id=\"df-0fa252ed-ace0-4d0d-a9ea-d4b613f83eb4\" class=\"colab-df-container\">\n",
              "    <div>\n",
              "<style scoped>\n",
              "    .dataframe tbody tr th:only-of-type {\n",
              "        vertical-align: middle;\n",
              "    }\n",
              "\n",
              "    .dataframe tbody tr th {\n",
              "        vertical-align: top;\n",
              "    }\n",
              "\n",
              "    .dataframe thead th {\n",
              "        text-align: right;\n",
              "    }\n",
              "</style>\n",
              "<table border=\"1\" class=\"dataframe\">\n",
              "  <thead>\n",
              "    <tr style=\"text-align: right;\">\n",
              "      <th></th>\n",
              "      <th>train null</th>\n",
              "      <th>test null</th>\n",
              "    </tr>\n",
              "  </thead>\n",
              "  <tbody>\n",
              "    <tr>\n",
              "      <th>L</th>\n",
              "      <td>0</td>\n",
              "      <td>0.0</td>\n",
              "    </tr>\n",
              "    <tr>\n",
              "      <th>accident</th>\n",
              "      <td>0</td>\n",
              "      <td>0.0</td>\n",
              "    </tr>\n",
              "    <tr>\n",
              "      <th>automatic</th>\n",
              "      <td>0</td>\n",
              "      <td>0.0</td>\n",
              "    </tr>\n",
              "    <tr>\n",
              "      <th>brand</th>\n",
              "      <td>0</td>\n",
              "      <td>0.0</td>\n",
              "    </tr>\n",
              "    <tr>\n",
              "      <th>clean_title</th>\n",
              "      <td>0</td>\n",
              "      <td>0.0</td>\n",
              "    </tr>\n",
              "    <tr>\n",
              "      <th>cylinders</th>\n",
              "      <td>0</td>\n",
              "      <td>0.0</td>\n",
              "    </tr>\n",
              "    <tr>\n",
              "      <th>electric</th>\n",
              "      <td>0</td>\n",
              "      <td>0.0</td>\n",
              "    </tr>\n",
              "    <tr>\n",
              "      <th>engine</th>\n",
              "      <td>0</td>\n",
              "      <td>0.0</td>\n",
              "    </tr>\n",
              "    <tr>\n",
              "      <th>ext_col</th>\n",
              "      <td>0</td>\n",
              "      <td>0.0</td>\n",
              "    </tr>\n",
              "    <tr>\n",
              "      <th>fuel_type</th>\n",
              "      <td>0</td>\n",
              "      <td>0.0</td>\n",
              "    </tr>\n",
              "    <tr>\n",
              "      <th>gears</th>\n",
              "      <td>0</td>\n",
              "      <td>0.0</td>\n",
              "    </tr>\n",
              "    <tr>\n",
              "      <th>hp</th>\n",
              "      <td>0</td>\n",
              "      <td>0.0</td>\n",
              "    </tr>\n",
              "    <tr>\n",
              "      <th>int_col</th>\n",
              "      <td>0</td>\n",
              "      <td>0.0</td>\n",
              "    </tr>\n",
              "    <tr>\n",
              "      <th>milage</th>\n",
              "      <td>0</td>\n",
              "      <td>0.0</td>\n",
              "    </tr>\n",
              "    <tr>\n",
              "      <th>model</th>\n",
              "      <td>0</td>\n",
              "      <td>0.0</td>\n",
              "    </tr>\n",
              "    <tr>\n",
              "      <th>model_year</th>\n",
              "      <td>0</td>\n",
              "      <td>0.0</td>\n",
              "    </tr>\n",
              "    <tr>\n",
              "      <th>price</th>\n",
              "      <td>0</td>\n",
              "      <td>NaN</td>\n",
              "    </tr>\n",
              "    <tr>\n",
              "      <th>transmission</th>\n",
              "      <td>0</td>\n",
              "      <td>0.0</td>\n",
              "    </tr>\n",
              "    <tr>\n",
              "      <th>valves</th>\n",
              "      <td>0</td>\n",
              "      <td>0.0</td>\n",
              "    </tr>\n",
              "  </tbody>\n",
              "</table>\n",
              "</div>\n",
              "    <div class=\"colab-df-buttons\">\n",
              "\n",
              "  <div class=\"colab-df-container\">\n",
              "    <button class=\"colab-df-convert\" onclick=\"convertToInteractive('df-0fa252ed-ace0-4d0d-a9ea-d4b613f83eb4')\"\n",
              "            title=\"Convert this dataframe to an interactive table.\"\n",
              "            style=\"display:none;\">\n",
              "\n",
              "  <svg xmlns=\"http://www.w3.org/2000/svg\" height=\"24px\" viewBox=\"0 -960 960 960\">\n",
              "    <path d=\"M120-120v-720h720v720H120Zm60-500h600v-160H180v160Zm220 220h160v-160H400v160Zm0 220h160v-160H400v160ZM180-400h160v-160H180v160Zm440 0h160v-160H620v160ZM180-180h160v-160H180v160Zm440 0h160v-160H620v160Z\"/>\n",
              "  </svg>\n",
              "    </button>\n",
              "\n",
              "  <style>\n",
              "    .colab-df-container {\n",
              "      display:flex;\n",
              "      gap: 12px;\n",
              "    }\n",
              "\n",
              "    .colab-df-convert {\n",
              "      background-color: #E8F0FE;\n",
              "      border: none;\n",
              "      border-radius: 50%;\n",
              "      cursor: pointer;\n",
              "      display: none;\n",
              "      fill: #1967D2;\n",
              "      height: 32px;\n",
              "      padding: 0 0 0 0;\n",
              "      width: 32px;\n",
              "    }\n",
              "\n",
              "    .colab-df-convert:hover {\n",
              "      background-color: #E2EBFA;\n",
              "      box-shadow: 0px 1px 2px rgba(60, 64, 67, 0.3), 0px 1px 3px 1px rgba(60, 64, 67, 0.15);\n",
              "      fill: #174EA6;\n",
              "    }\n",
              "\n",
              "    .colab-df-buttons div {\n",
              "      margin-bottom: 4px;\n",
              "    }\n",
              "\n",
              "    [theme=dark] .colab-df-convert {\n",
              "      background-color: #3B4455;\n",
              "      fill: #D2E3FC;\n",
              "    }\n",
              "\n",
              "    [theme=dark] .colab-df-convert:hover {\n",
              "      background-color: #434B5C;\n",
              "      box-shadow: 0px 1px 3px 1px rgba(0, 0, 0, 0.15);\n",
              "      filter: drop-shadow(0px 1px 2px rgba(0, 0, 0, 0.3));\n",
              "      fill: #FFFFFF;\n",
              "    }\n",
              "  </style>\n",
              "\n",
              "    <script>\n",
              "      const buttonEl =\n",
              "        document.querySelector('#df-0fa252ed-ace0-4d0d-a9ea-d4b613f83eb4 button.colab-df-convert');\n",
              "      buttonEl.style.display =\n",
              "        google.colab.kernel.accessAllowed ? 'block' : 'none';\n",
              "\n",
              "      async function convertToInteractive(key) {\n",
              "        const element = document.querySelector('#df-0fa252ed-ace0-4d0d-a9ea-d4b613f83eb4');\n",
              "        const dataTable =\n",
              "          await google.colab.kernel.invokeFunction('convertToInteractive',\n",
              "                                                    [key], {});\n",
              "        if (!dataTable) return;\n",
              "\n",
              "        const docLinkHtml = 'Like what you see? Visit the ' +\n",
              "          '<a target=\"_blank\" href=https://colab.research.google.com/notebooks/data_table.ipynb>data table notebook</a>'\n",
              "          + ' to learn more about interactive tables.';\n",
              "        element.innerHTML = '';\n",
              "        dataTable['output_type'] = 'display_data';\n",
              "        await google.colab.output.renderOutput(dataTable, element);\n",
              "        const docLink = document.createElement('div');\n",
              "        docLink.innerHTML = docLinkHtml;\n",
              "        element.appendChild(docLink);\n",
              "      }\n",
              "    </script>\n",
              "  </div>\n",
              "\n",
              "\n",
              "<div id=\"df-960457a6-049b-493d-b3e6-19eac55dc1bd\">\n",
              "  <button class=\"colab-df-quickchart\" onclick=\"quickchart('df-960457a6-049b-493d-b3e6-19eac55dc1bd')\"\n",
              "            title=\"Suggest charts\"\n",
              "            style=\"display:none;\">\n",
              "\n",
              "<svg xmlns=\"http://www.w3.org/2000/svg\" height=\"24px\"viewBox=\"0 0 24 24\"\n",
              "     width=\"24px\">\n",
              "    <g>\n",
              "        <path d=\"M19 3H5c-1.1 0-2 .9-2 2v14c0 1.1.9 2 2 2h14c1.1 0 2-.9 2-2V5c0-1.1-.9-2-2-2zM9 17H7v-7h2v7zm4 0h-2V7h2v10zm4 0h-2v-4h2v4z\"/>\n",
              "    </g>\n",
              "</svg>\n",
              "  </button>\n",
              "\n",
              "<style>\n",
              "  .colab-df-quickchart {\n",
              "      --bg-color: #E8F0FE;\n",
              "      --fill-color: #1967D2;\n",
              "      --hover-bg-color: #E2EBFA;\n",
              "      --hover-fill-color: #174EA6;\n",
              "      --disabled-fill-color: #AAA;\n",
              "      --disabled-bg-color: #DDD;\n",
              "  }\n",
              "\n",
              "  [theme=dark] .colab-df-quickchart {\n",
              "      --bg-color: #3B4455;\n",
              "      --fill-color: #D2E3FC;\n",
              "      --hover-bg-color: #434B5C;\n",
              "      --hover-fill-color: #FFFFFF;\n",
              "      --disabled-bg-color: #3B4455;\n",
              "      --disabled-fill-color: #666;\n",
              "  }\n",
              "\n",
              "  .colab-df-quickchart {\n",
              "    background-color: var(--bg-color);\n",
              "    border: none;\n",
              "    border-radius: 50%;\n",
              "    cursor: pointer;\n",
              "    display: none;\n",
              "    fill: var(--fill-color);\n",
              "    height: 32px;\n",
              "    padding: 0;\n",
              "    width: 32px;\n",
              "  }\n",
              "\n",
              "  .colab-df-quickchart:hover {\n",
              "    background-color: var(--hover-bg-color);\n",
              "    box-shadow: 0 1px 2px rgba(60, 64, 67, 0.3), 0 1px 3px 1px rgba(60, 64, 67, 0.15);\n",
              "    fill: var(--button-hover-fill-color);\n",
              "  }\n",
              "\n",
              "  .colab-df-quickchart-complete:disabled,\n",
              "  .colab-df-quickchart-complete:disabled:hover {\n",
              "    background-color: var(--disabled-bg-color);\n",
              "    fill: var(--disabled-fill-color);\n",
              "    box-shadow: none;\n",
              "  }\n",
              "\n",
              "  .colab-df-spinner {\n",
              "    border: 2px solid var(--fill-color);\n",
              "    border-color: transparent;\n",
              "    border-bottom-color: var(--fill-color);\n",
              "    animation:\n",
              "      spin 1s steps(1) infinite;\n",
              "  }\n",
              "\n",
              "  @keyframes spin {\n",
              "    0% {\n",
              "      border-color: transparent;\n",
              "      border-bottom-color: var(--fill-color);\n",
              "      border-left-color: var(--fill-color);\n",
              "    }\n",
              "    20% {\n",
              "      border-color: transparent;\n",
              "      border-left-color: var(--fill-color);\n",
              "      border-top-color: var(--fill-color);\n",
              "    }\n",
              "    30% {\n",
              "      border-color: transparent;\n",
              "      border-left-color: var(--fill-color);\n",
              "      border-top-color: var(--fill-color);\n",
              "      border-right-color: var(--fill-color);\n",
              "    }\n",
              "    40% {\n",
              "      border-color: transparent;\n",
              "      border-right-color: var(--fill-color);\n",
              "      border-top-color: var(--fill-color);\n",
              "    }\n",
              "    60% {\n",
              "      border-color: transparent;\n",
              "      border-right-color: var(--fill-color);\n",
              "    }\n",
              "    80% {\n",
              "      border-color: transparent;\n",
              "      border-right-color: var(--fill-color);\n",
              "      border-bottom-color: var(--fill-color);\n",
              "    }\n",
              "    90% {\n",
              "      border-color: transparent;\n",
              "      border-bottom-color: var(--fill-color);\n",
              "    }\n",
              "  }\n",
              "</style>\n",
              "\n",
              "  <script>\n",
              "    async function quickchart(key) {\n",
              "      const quickchartButtonEl =\n",
              "        document.querySelector('#' + key + ' button');\n",
              "      quickchartButtonEl.disabled = true;  // To prevent multiple clicks.\n",
              "      quickchartButtonEl.classList.add('colab-df-spinner');\n",
              "      try {\n",
              "        const charts = await google.colab.kernel.invokeFunction(\n",
              "            'suggestCharts', [key], {});\n",
              "      } catch (error) {\n",
              "        console.error('Error during call to suggestCharts:', error);\n",
              "      }\n",
              "      quickchartButtonEl.classList.remove('colab-df-spinner');\n",
              "      quickchartButtonEl.classList.add('colab-df-quickchart-complete');\n",
              "    }\n",
              "    (() => {\n",
              "      let quickchartButtonEl =\n",
              "        document.querySelector('#df-960457a6-049b-493d-b3e6-19eac55dc1bd button');\n",
              "      quickchartButtonEl.style.display =\n",
              "        google.colab.kernel.accessAllowed ? 'block' : 'none';\n",
              "    })();\n",
              "  </script>\n",
              "</div>\n",
              "\n",
              "    </div>\n",
              "  </div>\n"
            ],
            "application/vnd.google.colaboratory.intrinsic+json": {
              "type": "dataframe",
              "summary": "{\n  \"name\": \"check_null(df, test)\",\n  \"rows\": 19,\n  \"fields\": [\n    {\n      \"column\": \"train null\",\n      \"properties\": {\n        \"dtype\": \"number\",\n        \"std\": 0,\n        \"min\": 0,\n        \"max\": 0,\n        \"num_unique_values\": 1,\n        \"samples\": [\n          0\n        ],\n        \"semantic_type\": \"\",\n        \"description\": \"\"\n      }\n    },\n    {\n      \"column\": \"test null\",\n      \"properties\": {\n        \"dtype\": \"number\",\n        \"std\": 0.0,\n        \"min\": 0.0,\n        \"max\": 0.0,\n        \"num_unique_values\": 1,\n        \"samples\": [\n          0.0\n        ],\n        \"semantic_type\": \"\",\n        \"description\": \"\"\n      }\n    }\n  ]\n}"
            }
          },
          "metadata": {},
          "execution_count": 255
        }
      ],
      "source": [
        "check_null(df, test)"
      ]
    },
    {
      "cell_type": "markdown",
      "metadata": {
        "id": "-q3ZojAQ-uMg"
      },
      "source": [
        "### Create Interaction features"
      ]
    },
    {
      "cell_type": "code",
      "execution_count": 256,
      "metadata": {
        "id": "TSdin4u27VJo"
      },
      "outputs": [],
      "source": [
        "# Create interaction features\n",
        "create_interactions(df)\n",
        "create_interactions(test)"
      ]
    },
    {
      "cell_type": "code",
      "source": [
        "cleaner.update_vars()\n",
        "test_cleaner.update_vars()\n",
        "\n",
        "non_impute_cols = [col for col in df.columns if col in cleaner.continuos and col not in cleaner.continuos_imputed]\n",
        "\n",
        "for col in non_impute_cols:\n",
        "  df[col] =  handle_outliers(df[col], 3)\n",
        "  test[col] = handle_outliers(test[col], 3)"
      ],
      "metadata": {
        "id": "fGty3WGECA9V"
      },
      "execution_count": 257,
      "outputs": []
    },
    {
      "cell_type": "code",
      "source": [
        "cleaner.clean_continuos()\n",
        "test_cleaner.clean_continuos()"
      ],
      "metadata": {
        "colab": {
          "base_uri": "https://localhost:8080/"
        },
        "id": "aMCxUbXoXXg4",
        "outputId": "388fe944-0074-466b-cc61-8cf4a282d89a"
      },
      "execution_count": 258,
      "outputs": [
        {
          "output_type": "stream",
          "name": "stdout",
          "text": [
            "Continuos_missing_vars: ['hp/l', 'mil/l', 'mil/hp', 'l/cyl', 'hp/gears', 'mil/gears', 'mil/cyl', 'hp*automatic', 'cyl*gears', 'mil/year', 'hp*accident', 'accident*carAge', 'acc*milage', 'mil*carAge', 'hp*mil']\n",
            "Continuos_missing_vars: ['hp/l', 'mil/l', 'mil/hp', 'l/cyl', 'hp/gears', 'mil/gears', 'mil/cyl', 'hp*automatic', 'cyl*gears', 'mil/year', 'hp*accident', 'accident*carAge', 'acc*milage', 'mil*carAge', 'hp*mil']\n"
          ]
        }
      ]
    },
    {
      "cell_type": "markdown",
      "source": [
        "Some features might have skewed distributions, specifically righly skewed distribution. These can be log transformed to make them go near normal distribution."
      ],
      "metadata": {
        "id": "WhcXavMDQFIY"
      }
    },
    {
      "cell_type": "code",
      "execution_count": 259,
      "metadata": {
        "colab": {
          "base_uri": "https://localhost:8080/",
          "height": 699
        },
        "id": "5T-cGHn2K1wD",
        "outputId": "fd345dcc-f2d6-4da4-9bf7-13e8e4326217"
      },
      "outputs": [
        {
          "output_type": "display_data",
          "data": {
            "text/plain": [
              "<Figure size 400x800 with 4 Axes>"
            ],
            "image/png": "[encoded data removed]"
          },
          "metadata": {}
        }
      ],
      "source": [
        "# Some features with rightly skewed data can be log transformed\n",
        "fig, axs = plt.subplots(2, 2, figsize=(4, 8))\n",
        "\n",
        "# carAge distribution\n",
        "axs[0, 0].hist(df['carAge'], bins=200)\n",
        "axs[0, 0].set_title('carAge')\n",
        "\n",
        "axs[1, 0].hist(df['milage'], bins=200)\n",
        "axs[1, 0].set_title('milage')\n",
        "\n",
        "# milage is right skewed. Log transformation could be used.\n",
        "carAge = np.where(df['carAge'] != 0, df['carAge'], 1).astype('float')\n",
        "milage = np.where(df['milage'] != 0, df['milage'], 1).astype('float')\n",
        "\n",
        "log_carAge = np.log(carAge)\n",
        "log_milage = np.log(milage)\n",
        "\n",
        "axs[0, 1].hist(log_carAge, bins=200)\n",
        "axs[0, 1].set_title('log carAge')\n",
        "\n",
        "axs[1,1].hist(log_milage, bins=200,)\n",
        "axs[1,1].set_title('log  milage')\n",
        "plt.show()"
      ]
    },
    {
      "cell_type": "markdown",
      "source": [
        "log transformation will be applied in later function."
      ],
      "metadata": {
        "id": "X5gXEnYRQhum"
      }
    },
    {
      "cell_type": "markdown",
      "source": [
        "#### Add binning to milage"
      ],
      "metadata": {
        "id": "Kfuo-t54QqZv"
      }
    },
    {
      "cell_type": "code",
      "source": [
        "# Get range of values\n",
        "print(f'min: {np.min(milage)}, max:{np.max(milage)}')"
      ],
      "metadata": {
        "colab": {
          "base_uri": "https://localhost:8080/"
        },
        "id": "JZRX89shQv5P",
        "outputId": "35d90cf4-eee5-473d-e57f-668294ec0674"
      },
      "execution_count": 260,
      "outputs": [
        {
          "output_type": "stream",
          "name": "stdout",
          "text": [
            "min: 100.0, max:165301.61132529768\n"
          ]
        }
      ]
    },
    {
      "cell_type": "code",
      "execution_count": 261,
      "metadata": {
        "id": "c0ccFjq8gQZz"
      },
      "outputs": [],
      "source": [
        "# Add binning to milage and categorize ordinally\n",
        "bins = [99.0, 300.0, 700.0, 1000.0, 3000.0, 7000., 10000.0, 20000., 35000., 50000.0, 75000, 100000.0, 125000.0, 150000., 175000, 200000.0, 250000.0]\n",
        "intervals = {pd.Interval(bins[i], bins[i+1], closed='left') : i for i in range(len(bins) - 1)}\n",
        "\n",
        "train_binned_milage = pd.cut(df['milage'], bins, right=False)\n",
        "test_binned_milage = pd.cut(test['milage'], bins, right=False)\n",
        "\n",
        "df['binned_milage'] = train_binned_milage.map(lambda x: intervals[x])\n",
        "test['binned_milage'] = test_binned_milage.map(lambda x: intervals[x])"
      ]
    },
    {
      "cell_type": "markdown",
      "source": [
        "Assign classes to brands according to their mean prices"
      ],
      "metadata": {
        "id": "CHAJXcFRTVEO"
      }
    },
    {
      "cell_type": "code",
      "source": [
        "# Get range of values\n",
        "print(np.min(df['price']), np.max(df['price']))"
      ],
      "metadata": {
        "colab": {
          "base_uri": "https://localhost:8080/"
        },
        "id": "tp6D97JvTcWv",
        "outputId": "417d4030-2f52-426a-8215-912d18a078d5"
      },
      "execution_count": 262,
      "outputs": [
        {
          "output_type": "stream",
          "name": "stdout",
          "text": [
            "2000.0 201517.06068646687\n"
          ]
        }
      ]
    },
    {
      "cell_type": "code",
      "execution_count": 263,
      "metadata": {
        "id": "r8g2RKT8Xf1G"
      },
      "outputs": [],
      "source": [
        "# Classes will be ordinally categorized\n",
        "\n",
        "# Define bins\n",
        "bins = [1000.0, 5000.0, 10000.0, 25000.0, 50000.0, 75000., 100000.0, 125000., 150000.0, 175000., 200000.0, 225000., 250000.0, 275000.0, 300000.0]\n",
        "\n",
        "binned_prices = pd.cut(df['price'], bins, right=False)\n",
        "\n",
        "# Create interval mapping\n",
        "intervals = {pd.Interval(bins[i], bins[i+1], closed='left'): i for i in range(len(bins) - 1)}\n",
        "\n",
        "brand_avg_price = df.groupby('brand')['price'].mean().to_dict()   # {'brand_name' : mean_price}\n",
        "\n",
        "def get_class(mean_price):\n",
        "    for interval, class_ in intervals.items():\n",
        "        if mean_price in interval:\n",
        "          return class_\n",
        "\n",
        "df['brand_class'] = df['brand'].map(lambda x: get_class(brand_avg_price[x]))\n",
        "test['brand_class'] = test['brand'].map(lambda x: get_class(brand_avg_price[x]))\n"
      ]
    },
    {
      "cell_type": "code",
      "execution_count": 264,
      "metadata": {
        "id": "9wcKpw3XW-Od"
      },
      "outputs": [],
      "source": [
        "def additional_features(df):\n",
        "    df['AverageMilage'] = df.groupby(\"brand\")['milage'].transform('mean')\n",
        "    df['BrandFreq'] = df.groupby('brand')['brand'].transform('count')/df['brand'].count()\n",
        "\n",
        "    brand_count = df.groupby('brand')['brand'].count().to_dict()\n",
        "    df['brand_count'] = df['brand'].map(brand_count)\n",
        "\n",
        "    brand_avg_mil = df.groupby('brand')['milage'].mean().to_dict()\n",
        "    df['brand_avg_mil'] = df['brand'].map(brand_avg_mil)\n",
        "\n",
        "    df['log_milage'] = np.log(df['milage'])\n",
        "\n",
        "    df['logL'] = np.log(df['L'])\n",
        "\n",
        "    df['logAge'] = np.log1p(df['carAge'])\n"
      ]
    },
    {
      "cell_type": "code",
      "execution_count": 265,
      "metadata": {
        "id": "uTcE0Mus0480"
      },
      "outputs": [],
      "source": [
        "additional_features(df)\n",
        "additional_features(test)"
      ]
    },
    {
      "cell_type": "code",
      "source": [
        "cleaner.update_vars()\n",
        "test_cleaner.update_vars()\n",
        "\n",
        "non_impute_cols = [col for col in df.columns if col in cleaner.continuos and col not in cleaner.continuos_imputed]\n",
        "\n",
        "for col in non_impute_cols:\n",
        "  df[col] =  handle_outliers(df[col], 3)\n",
        "  test[col] = handle_outliers(test[col], 3)"
      ],
      "metadata": {
        "id": "3H8Jz9AwE4af"
      },
      "execution_count": 266,
      "outputs": []
    },
    {
      "cell_type": "code",
      "source": [
        "check_null(df, test)"
      ],
      "metadata": {
        "colab": {
          "base_uri": "https://localhost:8080/",
          "height": 1000
        },
        "id": "VVxBUbKVXsPf",
        "outputId": "07883a84-c685-466e-af3a-f4e636f82734"
      },
      "execution_count": 267,
      "outputs": [
        {
          "output_type": "execute_result",
          "data": {
            "text/plain": [
              "                 train null  test null\n",
              "AverageMilage             0        0.0\n",
              "BrandFreq                 0        0.0\n",
              "L                         0        0.0\n",
              "acc*milage                0        0.0\n",
              "accident                  0        0.0\n",
              "accident*carAge           0        0.0\n",
              "automatic                 0        0.0\n",
              "binned_milage             0        0.0\n",
              "brand                     0        0.0\n",
              "brand_avg_mil             0        0.0\n",
              "brand_class               0        0.0\n",
              "brand_count               0        0.0\n",
              "carAge                    0        0.0\n",
              "clean_title               0        0.0\n",
              "cyl*gears                 0        0.0\n",
              "cylinders                 0        0.0\n",
              "electric                  0        0.0\n",
              "engine                    0        0.0\n",
              "ext_col                   0        0.0\n",
              "fuel_type                 0        0.0\n",
              "gears                     0        0.0\n",
              "hp                        0        0.0\n",
              "hp*accident               0        0.0\n",
              "hp*automatic              0        0.0\n",
              "hp*mil                    0        0.0\n",
              "hp/gears                  0        0.0\n",
              "hp/l                      0        0.0\n",
              "int_col                   0        0.0\n",
              "l/cyl                     0        0.0\n",
              "logAge                    0        0.0\n",
              "logL                      0        0.0\n",
              "log_milage                0        0.0\n",
              "mil*carAge                0        0.0\n",
              "mil/cyl                   0        0.0\n",
              "mil/gears                 0        0.0\n",
              "mil/hp                    0        0.0\n",
              "mil/l                     0        0.0\n",
              "mil/year                  0        0.0\n",
              "milage                    0        0.0\n",
              "model                     0        0.0\n",
              "model_year                0        0.0\n",
              "price                     0        NaN\n",
              "transmission              0        0.0\n",
              "valves                    0        0.0"
            ],
            "text/html": [
              "\n",
              "  <div id=\"df-923d26ff-f1ce-4428-a737-8228dc90861b\" class=\"colab-df-container\">\n",
              "    <div>\n",
              "<style scoped>\n",
              "    .dataframe tbody tr th:only-of-type {\n",
              "        vertical-align: middle;\n",
              "    }\n",
              "\n",
              "    .dataframe tbody tr th {\n",
              "        vertical-align: top;\n",
              "    }\n",
              "\n",
              "    .dataframe thead th {\n",
              "        text-align: right;\n",
              "    }\n",
              "</style>\n",
              "<table border=\"1\" class=\"dataframe\">\n",
              "  <thead>\n",
              "    <tr style=\"text-align: right;\">\n",
              "      <th></th>\n",
              "      <th>train null</th>\n",
              "      <th>test null</th>\n",
              "    </tr>\n",
              "  </thead>\n",
              "  <tbody>\n",
              "    <tr>\n",
              "      <th>AverageMilage</th>\n",
              "      <td>0</td>\n",
              "      <td>0.0</td>\n",
              "    </tr>\n",
              "    <tr>\n",
              "      <th>BrandFreq</th>\n",
              "      <td>0</td>\n",
              "      <td>0.0</td>\n",
              "    </tr>\n",
              "    <tr>\n",
              "      <th>L</th>\n",
              "      <td>0</td>\n",
              "      <td>0.0</td>\n",
              "    </tr>\n",
              "    <tr>\n",
              "      <th>acc*milage</th>\n",
              "      <td>0</td>\n",
              "      <td>0.0</td>\n",
              "    </tr>\n",
              "    <tr>\n",
              "      <th>accident</th>\n",
              "      <td>0</td>\n",
              "      <td>0.0</td>\n",
              "    </tr>\n",
              "    <tr>\n",
              "      <th>accident*carAge</th>\n",
              "      <td>0</td>\n",
              "      <td>0.0</td>\n",
              "    </tr>\n",
              "    <tr>\n",
              "      <th>automatic</th>\n",
              "      <td>0</td>\n",
              "      <td>0.0</td>\n",
              "    </tr>\n",
              "    <tr>\n",
              "      <th>binned_milage</th>\n",
              "      <td>0</td>\n",
              "      <td>0.0</td>\n",
              "    </tr>\n",
              "    <tr>\n",
              "      <th>brand</th>\n",
              "      <td>0</td>\n",
              "      <td>0.0</td>\n",
              "    </tr>\n",
              "    <tr>\n",
              "      <th>brand_avg_mil</th>\n",
              "      <td>0</td>\n",
              "      <td>0.0</td>\n",
              "    </tr>\n",
              "    <tr>\n",
              "      <th>brand_class</th>\n",
              "      <td>0</td>\n",
              "      <td>0.0</td>\n",
              "    </tr>\n",
              "    <tr>\n",
              "      <th>brand_count</th>\n",
              "      <td>0</td>\n",
              "      <td>0.0</td>\n",
              "    </tr>\n",
              "    <tr>\n",
              "      <th>carAge</th>\n",
              "      <td>0</td>\n",
              "      <td>0.0</td>\n",
              "    </tr>\n",
              "    <tr>\n",
              "      <th>clean_title</th>\n",
              "      <td>0</td>\n",
              "      <td>0.0</td>\n",
              "    </tr>\n",
              "    <tr>\n",
              "      <th>cyl*gears</th>\n",
              "      <td>0</td>\n",
              "      <td>0.0</td>\n",
              "    </tr>\n",
              "    <tr>\n",
              "      <th>cylinders</th>\n",
              "      <td>0</td>\n",
              "      <td>0.0</td>\n",
              "    </tr>\n",
              "    <tr>\n",
              "      <th>electric</th>\n",
              "      <td>0</td>\n",
              "      <td>0.0</td>\n",
              "    </tr>\n",
              "    <tr>\n",
              "      <th>engine</th>\n",
              "      <td>0</td>\n",
              "      <td>0.0</td>\n",
              "    </tr>\n",
              "    <tr>\n",
              "      <th>ext_col</th>\n",
              "      <td>0</td>\n",
              "      <td>0.0</td>\n",
              "    </tr>\n",
              "    <tr>\n",
              "      <th>fuel_type</th>\n",
              "      <td>0</td>\n",
              "      <td>0.0</td>\n",
              "    </tr>\n",
              "    <tr>\n",
              "      <th>gears</th>\n",
              "      <td>0</td>\n",
              "      <td>0.0</td>\n",
              "    </tr>\n",
              "    <tr>\n",
              "      <th>hp</th>\n",
              "      <td>0</td>\n",
              "      <td>0.0</td>\n",
              "    </tr>\n",
              "    <tr>\n",
              "      <th>hp*accident</th>\n",
              "      <td>0</td>\n",
              "      <td>0.0</td>\n",
              "    </tr>\n",
              "    <tr>\n",
              "      <th>hp*automatic</th>\n",
              "      <td>0</td>\n",
              "      <td>0.0</td>\n",
              "    </tr>\n",
              "    <tr>\n",
              "      <th>hp*mil</th>\n",
              "      <td>0</td>\n",
              "      <td>0.0</td>\n",
              "    </tr>\n",
              "    <tr>\n",
              "      <th>hp/gears</th>\n",
              "      <td>0</td>\n",
              "      <td>0.0</td>\n",
              "    </tr>\n",
              "    <tr>\n",
              "      <th>hp/l</th>\n",
              "      <td>0</td>\n",
              "      <td>0.0</td>\n",
              "    </tr>\n",
              "    <tr>\n",
              "      <th>int_col</th>\n",
              "      <td>0</td>\n",
              "      <td>0.0</td>\n",
              "    </tr>\n",
              "    <tr>\n",
              "      <th>l/cyl</th>\n",
              "      <td>0</td>\n",
              "      <td>0.0</td>\n",
              "    </tr>\n",
              "    <tr>\n",
              "      <th>logAge</th>\n",
              "      <td>0</td>\n",
              "      <td>0.0</td>\n",
              "    </tr>\n",
              "    <tr>\n",
              "      <th>logL</th>\n",
              "      <td>0</td>\n",
              "      <td>0.0</td>\n",
              "    </tr>\n",
              "    <tr>\n",
              "      <th>log_milage</th>\n",
              "      <td>0</td>\n",
              "      <td>0.0</td>\n",
              "    </tr>\n",
              "    <tr>\n",
              "      <th>mil*carAge</th>\n",
              "      <td>0</td>\n",
              "      <td>0.0</td>\n",
              "    </tr>\n",
              "    <tr>\n",
              "      <th>mil/cyl</th>\n",
              "      <td>0</td>\n",
              "      <td>0.0</td>\n",
              "    </tr>\n",
              "    <tr>\n",
              "      <th>mil/gears</th>\n",
              "      <td>0</td>\n",
              "      <td>0.0</td>\n",
              "    </tr>\n",
              "    <tr>\n",
              "      <th>mil/hp</th>\n",
              "      <td>0</td>\n",
              "      <td>0.0</td>\n",
              "    </tr>\n",
              "    <tr>\n",
              "      <th>mil/l</th>\n",
              "      <td>0</td>\n",
              "      <td>0.0</td>\n",
              "    </tr>\n",
              "    <tr>\n",
              "      <th>mil/year</th>\n",
              "      <td>0</td>\n",
              "      <td>0.0</td>\n",
              "    </tr>\n",
              "    <tr>\n",
              "      <th>milage</th>\n",
              "      <td>0</td>\n",
              "      <td>0.0</td>\n",
              "    </tr>\n",
              "    <tr>\n",
              "      <th>model</th>\n",
              "      <td>0</td>\n",
              "      <td>0.0</td>\n",
              "    </tr>\n",
              "    <tr>\n",
              "      <th>model_year</th>\n",
              "      <td>0</td>\n",
              "      <td>0.0</td>\n",
              "    </tr>\n",
              "    <tr>\n",
              "      <th>price</th>\n",
              "      <td>0</td>\n",
              "      <td>NaN</td>\n",
              "    </tr>\n",
              "    <tr>\n",
              "      <th>transmission</th>\n",
              "      <td>0</td>\n",
              "      <td>0.0</td>\n",
              "    </tr>\n",
              "    <tr>\n",
              "      <th>valves</th>\n",
              "      <td>0</td>\n",
              "      <td>0.0</td>\n",
              "    </tr>\n",
              "  </tbody>\n",
              "</table>\n",
              "</div>\n",
              "    <div class=\"colab-df-buttons\">\n",
              "\n",
              "  <div class=\"colab-df-container\">\n",
              "    <button class=\"colab-df-convert\" onclick=\"convertToInteractive('df-923d26ff-f1ce-4428-a737-8228dc90861b')\"\n",
              "            title=\"Convert this dataframe to an interactive table.\"\n",
              "            style=\"display:none;\">\n",
              "\n",
              "  <svg xmlns=\"http://www.w3.org/2000/svg\" height=\"24px\" viewBox=\"0 -960 960 960\">\n",
              "    <path d=\"M120-120v-720h720v720H120Zm60-500h600v-160H180v160Zm220 220h160v-160H400v160Zm0 220h160v-160H400v160ZM180-400h160v-160H180v160Zm440 0h160v-160H620v160ZM180-180h160v-160H180v160Zm440 0h160v-160H620v160Z\"/>\n",
              "  </svg>\n",
              "    </button>\n",
              "\n",
              "  <style>\n",
              "    .colab-df-container {\n",
              "      display:flex;\n",
              "      gap: 12px;\n",
              "    }\n",
              "\n",
              "    .colab-df-convert {\n",
              "      background-color: #E8F0FE;\n",
              "      border: none;\n",
              "      border-radius: 50%;\n",
              "      cursor: pointer;\n",
              "      display: none;\n",
              "      fill: #1967D2;\n",
              "      height: 32px;\n",
              "      padding: 0 0 0 0;\n",
              "      width: 32px;\n",
              "    }\n",
              "\n",
              "    .colab-df-convert:hover {\n",
              "      background-color: #E2EBFA;\n",
              "      box-shadow: 0px 1px 2px rgba(60, 64, 67, 0.3), 0px 1px 3px 1px rgba(60, 64, 67, 0.15);\n",
              "      fill: #174EA6;\n",
              "    }\n",
              "\n",
              "    .colab-df-buttons div {\n",
              "      margin-bottom: 4px;\n",
              "    }\n",
              "\n",
              "    [theme=dark] .colab-df-convert {\n",
              "      background-color: #3B4455;\n",
              "      fill: #D2E3FC;\n",
              "    }\n",
              "\n",
              "    [theme=dark] .colab-df-convert:hover {\n",
              "      background-color: #434B5C;\n",
              "      box-shadow: 0px 1px 3px 1px rgba(0, 0, 0, 0.15);\n",
              "      filter: drop-shadow(0px 1px 2px rgba(0, 0, 0, 0.3));\n",
              "      fill: #FFFFFF;\n",
              "    }\n",
              "  </style>\n",
              "\n",
              "    <script>\n",
              "      const buttonEl =\n",
              "        document.querySelector('#df-923d26ff-f1ce-4428-a737-8228dc90861b button.colab-df-convert');\n",
              "      buttonEl.style.display =\n",
              "        google.colab.kernel.accessAllowed ? 'block' : 'none';\n",
              "\n",
              "      async function convertToInteractive(key) {\n",
              "        const element = document.querySelector('#df-923d26ff-f1ce-4428-a737-8228dc90861b');\n",
              "        const dataTable =\n",
              "          await google.colab.kernel.invokeFunction('convertToInteractive',\n",
              "                                                    [key], {});\n",
              "        if (!dataTable) return;\n",
              "\n",
              "        const docLinkHtml = 'Like what you see? Visit the ' +\n",
              "          '<a target=\"_blank\" href=https://colab.research.google.com/notebooks/data_table.ipynb>data table notebook</a>'\n",
              "          + ' to learn more about interactive tables.';\n",
              "        element.innerHTML = '';\n",
              "        dataTable['output_type'] = 'display_data';\n",
              "        await google.colab.output.renderOutput(dataTable, element);\n",
              "        const docLink = document.createElement('div');\n",
              "        docLink.innerHTML = docLinkHtml;\n",
              "        element.appendChild(docLink);\n",
              "      }\n",
              "    </script>\n",
              "  </div>\n",
              "\n",
              "\n",
              "<div id=\"df-7e22f56e-aed6-4767-b8e5-142b85690295\">\n",
              "  <button class=\"colab-df-quickchart\" onclick=\"quickchart('df-7e22f56e-aed6-4767-b8e5-142b85690295')\"\n",
              "            title=\"Suggest charts\"\n",
              "            style=\"display:none;\">\n",
              "\n",
              "<svg xmlns=\"http://www.w3.org/2000/svg\" height=\"24px\"viewBox=\"0 0 24 24\"\n",
              "     width=\"24px\">\n",
              "    <g>\n",
              "        <path d=\"M19 3H5c-1.1 0-2 .9-2 2v14c0 1.1.9 2 2 2h14c1.1 0 2-.9 2-2V5c0-1.1-.9-2-2-2zM9 17H7v-7h2v7zm4 0h-2V7h2v10zm4 0h-2v-4h2v4z\"/>\n",
              "    </g>\n",
              "</svg>\n",
              "  </button>\n",
              "\n",
              "<style>\n",
              "  .colab-df-quickchart {\n",
              "      --bg-color: #E8F0FE;\n",
              "      --fill-color: #1967D2;\n",
              "      --hover-bg-color: #E2EBFA;\n",
              "      --hover-fill-color: #174EA6;\n",
              "      --disabled-fill-color: #AAA;\n",
              "      --disabled-bg-color: #DDD;\n",
              "  }\n",
              "\n",
              "  [theme=dark] .colab-df-quickchart {\n",
              "      --bg-color: #3B4455;\n",
              "      --fill-color: #D2E3FC;\n",
              "      --hover-bg-color: #434B5C;\n",
              "      --hover-fill-color: #FFFFFF;\n",
              "      --disabled-bg-color: #3B4455;\n",
              "      --disabled-fill-color: #666;\n",
              "  }\n",
              "\n",
              "  .colab-df-quickchart {\n",
              "    background-color: var(--bg-color);\n",
              "    border: none;\n",
              "    border-radius: 50%;\n",
              "    cursor: pointer;\n",
              "    display: none;\n",
              "    fill: var(--fill-color);\n",
              "    height: 32px;\n",
              "    padding: 0;\n",
              "    width: 32px;\n",
              "  }\n",
              "\n",
              "  .colab-df-quickchart:hover {\n",
              "    background-color: var(--hover-bg-color);\n",
              "    box-shadow: 0 1px 2px rgba(60, 64, 67, 0.3), 0 1px 3px 1px rgba(60, 64, 67, 0.15);\n",
              "    fill: var(--button-hover-fill-color);\n",
              "  }\n",
              "\n",
              "  .colab-df-quickchart-complete:disabled,\n",
              "  .colab-df-quickchart-complete:disabled:hover {\n",
              "    background-color: var(--disabled-bg-color);\n",
              "    fill: var(--disabled-fill-color);\n",
              "    box-shadow: none;\n",
              "  }\n",
              "\n",
              "  .colab-df-spinner {\n",
              "    border: 2px solid var(--fill-color);\n",
              "    border-color: transparent;\n",
              "    border-bottom-color: var(--fill-color);\n",
              "    animation:\n",
              "      spin 1s steps(1) infinite;\n",
              "  }\n",
              "\n",
              "  @keyframes spin {\n",
              "    0% {\n",
              "      border-color: transparent;\n",
              "      border-bottom-color: var(--fill-color);\n",
              "      border-left-color: var(--fill-color);\n",
              "    }\n",
              "    20% {\n",
              "      border-color: transparent;\n",
              "      border-left-color: var(--fill-color);\n",
              "      border-top-color: var(--fill-color);\n",
              "    }\n",
              "    30% {\n",
              "      border-color: transparent;\n",
              "      border-left-color: var(--fill-color);\n",
              "      border-top-color: var(--fill-color);\n",
              "      border-right-color: var(--fill-color);\n",
              "    }\n",
              "    40% {\n",
              "      border-color: transparent;\n",
              "      border-right-color: var(--fill-color);\n",
              "      border-top-color: var(--fill-color);\n",
              "    }\n",
              "    60% {\n",
              "      border-color: transparent;\n",
              "      border-right-color: var(--fill-color);\n",
              "    }\n",
              "    80% {\n",
              "      border-color: transparent;\n",
              "      border-right-color: var(--fill-color);\n",
              "      border-bottom-color: var(--fill-color);\n",
              "    }\n",
              "    90% {\n",
              "      border-color: transparent;\n",
              "      border-bottom-color: var(--fill-color);\n",
              "    }\n",
              "  }\n",
              "</style>\n",
              "\n",
              "  <script>\n",
              "    async function quickchart(key) {\n",
              "      const quickchartButtonEl =\n",
              "        document.querySelector('#' + key + ' button');\n",
              "      quickchartButtonEl.disabled = true;  // To prevent multiple clicks.\n",
              "      quickchartButtonEl.classList.add('colab-df-spinner');\n",
              "      try {\n",
              "        const charts = await google.colab.kernel.invokeFunction(\n",
              "            'suggestCharts', [key], {});\n",
              "      } catch (error) {\n",
              "        console.error('Error during call to suggestCharts:', error);\n",
              "      }\n",
              "      quickchartButtonEl.classList.remove('colab-df-spinner');\n",
              "      quickchartButtonEl.classList.add('colab-df-quickchart-complete');\n",
              "    }\n",
              "    (() => {\n",
              "      let quickchartButtonEl =\n",
              "        document.querySelector('#df-7e22f56e-aed6-4767-b8e5-142b85690295 button');\n",
              "      quickchartButtonEl.style.display =\n",
              "        google.colab.kernel.accessAllowed ? 'block' : 'none';\n",
              "    })();\n",
              "  </script>\n",
              "</div>\n",
              "\n",
              "    </div>\n",
              "  </div>\n"
            ],
            "application/vnd.google.colaboratory.intrinsic+json": {
              "type": "dataframe",
              "summary": "{\n  \"name\": \"check_null(df, test)\",\n  \"rows\": 44,\n  \"fields\": [\n    {\n      \"column\": \"train null\",\n      \"properties\": {\n        \"dtype\": \"number\",\n        \"std\": 0,\n        \"min\": 0,\n        \"max\": 0,\n        \"num_unique_values\": 1,\n        \"samples\": [\n          0\n        ],\n        \"semantic_type\": \"\",\n        \"description\": \"\"\n      }\n    },\n    {\n      \"column\": \"test null\",\n      \"properties\": {\n        \"dtype\": \"number\",\n        \"std\": 0.0,\n        \"min\": 0.0,\n        \"max\": 0.0,\n        \"num_unique_values\": 1,\n        \"samples\": [\n          0.0\n        ],\n        \"semantic_type\": \"\",\n        \"description\": \"\"\n      }\n    }\n  ]\n}"
            }
          },
          "metadata": {},
          "execution_count": 267
        }
      ]
    },
    {
      "cell_type": "code",
      "execution_count": 268,
      "metadata": {
        "colab": {
          "base_uri": "https://localhost:8080/"
        },
        "id": "qXf8aTjKIbAm",
        "outputId": "4986ab33-6846-4cfb-c1ab-91db84e29e39"
      },
      "outputs": [
        {
          "output_type": "stream",
          "name": "stdout",
          "text": [
            "Continuos_missing_vars: ['AverageMilage', 'BrandFreq', 'brand_avg_mil', 'log_milage', 'logL', 'logAge']\n",
            "Continuos_missing_vars: ['AverageMilage', 'BrandFreq', 'brand_avg_mil', 'log_milage', 'logL', 'logAge']\n"
          ]
        }
      ],
      "source": [
        "cleaner.clean_continuos()\n",
        "test_cleaner.clean_continuos()"
      ]
    },
    {
      "cell_type": "markdown",
      "source": [
        "## Label encode categoricals"
      ],
      "metadata": {
        "id": "zRKMFeKyXAHd"
      }
    },
    {
      "cell_type": "code",
      "execution_count": 269,
      "metadata": {
        "id": "Bv4_1UudM7G4"
      },
      "outputs": [],
      "source": [
        "# Label categorical features\n",
        "for colname in cleaner.categoricals:\n",
        "    df[colname], _ = df[colname].factorize()\n",
        "\n",
        "for colname in test_cleaner.categoricals:\n",
        "    test[colname], _ = test[colname].factorize()"
      ]
    },
    {
      "cell_type": "code",
      "execution_count": 270,
      "metadata": {
        "id": "80VYrGnHNA1E"
      },
      "outputs": [],
      "source": [
        "X = df.copy()\n",
        "y = X.pop('price')"
      ]
    },
    {
      "cell_type": "code",
      "execution_count": 271,
      "metadata": {
        "colab": {
          "base_uri": "https://localhost:8080/"
        },
        "id": "td2iG6nOhiSH",
        "outputId": "d9ff071e-9817-4235-e761-d9b0e706e055"
      },
      "outputs": [
        {
          "output_type": "execute_result",
          "data": {
            "text/plain": [
              "((188533, 43), (188533,))"
            ]
          },
          "metadata": {},
          "execution_count": 271
        }
      ],
      "source": [
        "X.shape, y.shape"
      ]
    },
    {
      "cell_type": "code",
      "execution_count": 272,
      "metadata": {
        "colab": {
          "base_uri": "https://localhost:8080/"
        },
        "id": "GroFKHPtwjGz",
        "outputId": "586b164c-d815-4f77-e40b-28f594ec43a6"
      },
      "outputs": [
        {
          "output_type": "execute_result",
          "data": {
            "text/plain": [
              "(125690, 43)"
            ]
          },
          "metadata": {},
          "execution_count": 272
        }
      ],
      "source": [
        "test.shape"
      ]
    },
    {
      "cell_type": "markdown",
      "metadata": {
        "id": "QQotMJWzLwMy"
      },
      "source": [
        "#### PCA"
      ]
    },
    {
      "cell_type": "code",
      "execution_count": 273,
      "metadata": {
        "colab": {
          "base_uri": "https://localhost:8080/"
        },
        "id": "mnFZKslUnvyg",
        "outputId": "e84d9a54-56ad-4657-a5a1-bd2a7dfb383b"
      },
      "outputs": [
        {
          "output_type": "stream",
          "name": "stdout",
          "text": [
            "Index(['model_year', 'milage', 'hp', 'valves', 'hp/l', 'mil/l', 'mil/hp',\n",
            "       'l/cyl', 'hp/gears', 'mil/gears', 'mil/cyl', 'hp*automatic',\n",
            "       'cyl*gears', 'mil/year', 'hp*accident', 'accident*carAge', 'acc*milage',\n",
            "       'mil*carAge', 'hp*mil', 'AverageMilage', 'BrandFreq', 'brand_avg_mil',\n",
            "       'log_milage', 'logL', 'logAge'],\n",
            "      dtype='object')\n",
            "Explained Variance Ratio: 0.992004730676758\n"
          ]
        }
      ],
      "source": [
        "# Standardize the data (important for PCA)\n",
        "X_pca = X.copy()\n",
        "test_pca = test.copy()\n",
        "\n",
        "scaler_pca = StandardScaler()\n",
        "\n",
        "X_pca[X_pca.select_dtypes(include='float').columns] = scaler_pca.fit_transform(X_pca.select_dtypes(include='float'))\n",
        "test_pca[X_pca.select_dtypes(include='float').columns] = scaler_pca.fit_transform(test_pca.select_dtypes(include='float'))\n",
        "print(X_pca.select_dtypes(include='float').columns)\n",
        "\n",
        "# Apply PCA\n",
        "pca = PCA(n_components=2)  # Specify the number of components\n",
        "X_pca_components = pca.fit_transform(X_pca)\n",
        "test_pca_components = pca.fit_transform(test_pca)\n",
        "\n",
        "# Explained Variance\n",
        "explained_variance = np.sum(pca.explained_variance_ratio_)\n",
        "\n",
        "print(\"Explained Variance Ratio:\", explained_variance)\n",
        "\n",
        "# Convert to DataFrame for better readability\n",
        "pca_df = pd.DataFrame(data=X_pca_components, columns=['PC1', 'PC2'])\n",
        "X = pd.concat([X, pca_df], axis=1)\n",
        "\n",
        "pca_df = pd.DataFrame(data=test_pca_components, columns=['PC1', 'PC2'])\n",
        "test = pd.concat([test, pca_df], axis=1)"
      ]
    },
    {
      "cell_type": "code",
      "execution_count": 274,
      "metadata": {
        "id": "ZFfOH77wVBld"
      },
      "outputs": [],
      "source": [
        "cleaner.categoricals.extend(['PC1', 'PC2'])\n",
        "test_cleaner.categoricals.extend(['PC1', 'PC2'])"
      ]
    },
    {
      "cell_type": "code",
      "execution_count": 275,
      "metadata": {
        "colab": {
          "base_uri": "https://localhost:8080/",
          "height": 179
        },
        "id": "2QzibUXXfIpH",
        "outputId": "4373dc53-1e1b-435a-b01c-c7bef12cdd9b"
      },
      "outputs": [
        {
          "output_type": "stream",
          "name": "stdout",
          "text": [
            "(2, 43)\n"
          ]
        },
        {
          "output_type": "execute_result",
          "data": {
            "text/plain": [
              "        brand     model  model_year    milage  fuel_type    engine  \\\n",
              "PC1  0.006061  0.972764   -0.000082  0.000035   0.000117  0.231487   \n",
              "PC2  0.003505 -0.231482   -0.000793  0.000418   0.000378  0.972739   \n",
              "\n",
              "     transmission   ext_col   int_col  accident  ...    hp*mil  binned_milage  \\\n",
              "PC1      0.000563  0.007673  0.001991  0.000029  ... -0.000102       0.000188   \n",
              "PC2      0.001848 -0.008459 -0.001268  0.000069  ...  0.000308       0.000442   \n",
              "\n",
              "     brand_class  AverageMilage  BrandFreq  brand_count  brand_avg_mil  \\\n",
              "PC1     0.000219       0.000077  -0.000579     0.006061       0.000077   \n",
              "PC2     0.000538       0.000139  -0.000199     0.003505       0.000139   \n",
              "\n",
              "     log_milage      logL    logAge  \n",
              "PC1   -0.000010 -0.000287  0.000034  \n",
              "PC2    0.000228  0.000177  0.000644  \n",
              "\n",
              "[2 rows x 43 columns]"
            ],
            "text/html": [
              "\n",
              "  <div id=\"df-34de5c83-5a3d-49a7-8c25-5e9c7ee1e14e\" class=\"colab-df-container\">\n",
              "    <div>\n",
              "<style scoped>\n",
              "    .dataframe tbody tr th:only-of-type {\n",
              "        vertical-align: middle;\n",
              "    }\n",
              "\n",
              "    .dataframe tbody tr th {\n",
              "        vertical-align: top;\n",
              "    }\n",
              "\n",
              "    .dataframe thead th {\n",
              "        text-align: right;\n",
              "    }\n",
              "</style>\n",
              "<table border=\"1\" class=\"dataframe\">\n",
              "  <thead>\n",
              "    <tr style=\"text-align: right;\">\n",
              "      <th></th>\n",
              "      <th>brand</th>\n",
              "      <th>model</th>\n",
              "      <th>model_year</th>\n",
              "      <th>milage</th>\n",
              "      <th>fuel_type</th>\n",
              "      <th>engine</th>\n",
              "      <th>transmission</th>\n",
              "      <th>ext_col</th>\n",
              "      <th>int_col</th>\n",
              "      <th>accident</th>\n",
              "      <th>...</th>\n",
              "      <th>hp*mil</th>\n",
              "      <th>binned_milage</th>\n",
              "      <th>brand_class</th>\n",
              "      <th>AverageMilage</th>\n",
              "      <th>BrandFreq</th>\n",
              "      <th>brand_count</th>\n",
              "      <th>brand_avg_mil</th>\n",
              "      <th>log_milage</th>\n",
              "      <th>logL</th>\n",
              "      <th>logAge</th>\n",
              "    </tr>\n",
              "  </thead>\n",
              "  <tbody>\n",
              "    <tr>\n",
              "      <th>PC1</th>\n",
              "      <td>0.006061</td>\n",
              "      <td>0.972764</td>\n",
              "      <td>-0.000082</td>\n",
              "      <td>0.000035</td>\n",
              "      <td>0.000117</td>\n",
              "      <td>0.231487</td>\n",
              "      <td>0.000563</td>\n",
              "      <td>0.007673</td>\n",
              "      <td>0.001991</td>\n",
              "      <td>0.000029</td>\n",
              "      <td>...</td>\n",
              "      <td>-0.000102</td>\n",
              "      <td>0.000188</td>\n",
              "      <td>0.000219</td>\n",
              "      <td>0.000077</td>\n",
              "      <td>-0.000579</td>\n",
              "      <td>0.006061</td>\n",
              "      <td>0.000077</td>\n",
              "      <td>-0.000010</td>\n",
              "      <td>-0.000287</td>\n",
              "      <td>0.000034</td>\n",
              "    </tr>\n",
              "    <tr>\n",
              "      <th>PC2</th>\n",
              "      <td>0.003505</td>\n",
              "      <td>-0.231482</td>\n",
              "      <td>-0.000793</td>\n",
              "      <td>0.000418</td>\n",
              "      <td>0.000378</td>\n",
              "      <td>0.972739</td>\n",
              "      <td>0.001848</td>\n",
              "      <td>-0.008459</td>\n",
              "      <td>-0.001268</td>\n",
              "      <td>0.000069</td>\n",
              "      <td>...</td>\n",
              "      <td>0.000308</td>\n",
              "      <td>0.000442</td>\n",
              "      <td>0.000538</td>\n",
              "      <td>0.000139</td>\n",
              "      <td>-0.000199</td>\n",
              "      <td>0.003505</td>\n",
              "      <td>0.000139</td>\n",
              "      <td>0.000228</td>\n",
              "      <td>0.000177</td>\n",
              "      <td>0.000644</td>\n",
              "    </tr>\n",
              "  </tbody>\n",
              "</table>\n",
              "<p>2 rows × 43 columns</p>\n",
              "</div>\n",
              "    <div class=\"colab-df-buttons\">\n",
              "\n",
              "  <div class=\"colab-df-container\">\n",
              "    <button class=\"colab-df-convert\" onclick=\"convertToInteractive('df-34de5c83-5a3d-49a7-8c25-5e9c7ee1e14e')\"\n",
              "            title=\"Convert this dataframe to an interactive table.\"\n",
              "            style=\"display:none;\">\n",
              "\n",
              "  <svg xmlns=\"http://www.w3.org/2000/svg\" height=\"24px\" viewBox=\"0 -960 960 960\">\n",
              "    <path d=\"M120-120v-720h720v720H120Zm60-500h600v-160H180v160Zm220 220h160v-160H400v160Zm0 220h160v-160H400v160ZM180-400h160v-160H180v160Zm440 0h160v-160H620v160ZM180-180h160v-160H180v160Zm440 0h160v-160H620v160Z\"/>\n",
              "  </svg>\n",
              "    </button>\n",
              "\n",
              "  <style>\n",
              "    .colab-df-container {\n",
              "      display:flex;\n",
              "      gap: 12px;\n",
              "    }\n",
              "\n",
              "    .colab-df-convert {\n",
              "      background-color: #E8F0FE;\n",
              "      border: none;\n",
              "      border-radius: 50%;\n",
              "      cursor: pointer;\n",
              "      display: none;\n",
              "      fill: #1967D2;\n",
              "      height: 32px;\n",
              "      padding: 0 0 0 0;\n",
              "      width: 32px;\n",
              "    }\n",
              "\n",
              "    .colab-df-convert:hover {\n",
              "      background-color: #E2EBFA;\n",
              "      box-shadow: 0px 1px 2px rgba(60, 64, 67, 0.3), 0px 1px 3px 1px rgba(60, 64, 67, 0.15);\n",
              "      fill: #174EA6;\n",
              "    }\n",
              "\n",
              "    .colab-df-buttons div {\n",
              "      margin-bottom: 4px;\n",
              "    }\n",
              "\n",
              "    [theme=dark] .colab-df-convert {\n",
              "      background-color: #3B4455;\n",
              "      fill: #D2E3FC;\n",
              "    }\n",
              "\n",
              "    [theme=dark] .colab-df-convert:hover {\n",
              "      background-color: #434B5C;\n",
              "      box-shadow: 0px 1px 3px 1px rgba(0, 0, 0, 0.15);\n",
              "      filter: drop-shadow(0px 1px 2px rgba(0, 0, 0, 0.3));\n",
              "      fill: #FFFFFF;\n",
              "    }\n",
              "  </style>\n",
              "\n",
              "    <script>\n",
              "      const buttonEl =\n",
              "        document.querySelector('#df-34de5c83-5a3d-49a7-8c25-5e9c7ee1e14e button.colab-df-convert');\n",
              "      buttonEl.style.display =\n",
              "        google.colab.kernel.accessAllowed ? 'block' : 'none';\n",
              "\n",
              "      async function convertToInteractive(key) {\n",
              "        const element = document.querySelector('#df-34de5c83-5a3d-49a7-8c25-5e9c7ee1e14e');\n",
              "        const dataTable =\n",
              "          await google.colab.kernel.invokeFunction('convertToInteractive',\n",
              "                                                    [key], {});\n",
              "        if (!dataTable) return;\n",
              "\n",
              "        const docLinkHtml = 'Like what you see? Visit the ' +\n",
              "          '<a target=\"_blank\" href=https://colab.research.google.com/notebooks/data_table.ipynb>data table notebook</a>'\n",
              "          + ' to learn more about interactive tables.';\n",
              "        element.innerHTML = '';\n",
              "        dataTable['output_type'] = 'display_data';\n",
              "        await google.colab.output.renderOutput(dataTable, element);\n",
              "        const docLink = document.createElement('div');\n",
              "        docLink.innerHTML = docLinkHtml;\n",
              "        element.appendChild(docLink);\n",
              "      }\n",
              "    </script>\n",
              "  </div>\n",
              "\n",
              "\n",
              "<div id=\"df-7c2b3f79-31af-4dec-a8c2-db5bef6c4bd9\">\n",
              "  <button class=\"colab-df-quickchart\" onclick=\"quickchart('df-7c2b3f79-31af-4dec-a8c2-db5bef6c4bd9')\"\n",
              "            title=\"Suggest charts\"\n",
              "            style=\"display:none;\">\n",
              "\n",
              "<svg xmlns=\"http://www.w3.org/2000/svg\" height=\"24px\"viewBox=\"0 0 24 24\"\n",
              "     width=\"24px\">\n",
              "    <g>\n",
              "        <path d=\"M19 3H5c-1.1 0-2 .9-2 2v14c0 1.1.9 2 2 2h14c1.1 0 2-.9 2-2V5c0-1.1-.9-2-2-2zM9 17H7v-7h2v7zm4 0h-2V7h2v10zm4 0h-2v-4h2v4z\"/>\n",
              "    </g>\n",
              "</svg>\n",
              "  </button>\n",
              "\n",
              "<style>\n",
              "  .colab-df-quickchart {\n",
              "      --bg-color: #E8F0FE;\n",
              "      --fill-color: #1967D2;\n",
              "      --hover-bg-color: #E2EBFA;\n",
              "      --hover-fill-color: #174EA6;\n",
              "      --disabled-fill-color: #AAA;\n",
              "      --disabled-bg-color: #DDD;\n",
              "  }\n",
              "\n",
              "  [theme=dark] .colab-df-quickchart {\n",
              "      --bg-color: #3B4455;\n",
              "      --fill-color: #D2E3FC;\n",
              "      --hover-bg-color: #434B5C;\n",
              "      --hover-fill-color: #FFFFFF;\n",
              "      --disabled-bg-color: #3B4455;\n",
              "      --disabled-fill-color: #666;\n",
              "  }\n",
              "\n",
              "  .colab-df-quickchart {\n",
              "    background-color: var(--bg-color);\n",
              "    border: none;\n",
              "    border-radius: 50%;\n",
              "    cursor: pointer;\n",
              "    display: none;\n",
              "    fill: var(--fill-color);\n",
              "    height: 32px;\n",
              "    padding: 0;\n",
              "    width: 32px;\n",
              "  }\n",
              "\n",
              "  .colab-df-quickchart:hover {\n",
              "    background-color: var(--hover-bg-color);\n",
              "    box-shadow: 0 1px 2px rgba(60, 64, 67, 0.3), 0 1px 3px 1px rgba(60, 64, 67, 0.15);\n",
              "    fill: var(--button-hover-fill-color);\n",
              "  }\n",
              "\n",
              "  .colab-df-quickchart-complete:disabled,\n",
              "  .colab-df-quickchart-complete:disabled:hover {\n",
              "    background-color: var(--disabled-bg-color);\n",
              "    fill: var(--disabled-fill-color);\n",
              "    box-shadow: none;\n",
              "  }\n",
              "\n",
              "  .colab-df-spinner {\n",
              "    border: 2px solid var(--fill-color);\n",
              "    border-color: transparent;\n",
              "    border-bottom-color: var(--fill-color);\n",
              "    animation:\n",
              "      spin 1s steps(1) infinite;\n",
              "  }\n",
              "\n",
              "  @keyframes spin {\n",
              "    0% {\n",
              "      border-color: transparent;\n",
              "      border-bottom-color: var(--fill-color);\n",
              "      border-left-color: var(--fill-color);\n",
              "    }\n",
              "    20% {\n",
              "      border-color: transparent;\n",
              "      border-left-color: var(--fill-color);\n",
              "      border-top-color: var(--fill-color);\n",
              "    }\n",
              "    30% {\n",
              "      border-color: transparent;\n",
              "      border-left-color: var(--fill-color);\n",
              "      border-top-color: var(--fill-color);\n",
              "      border-right-color: var(--fill-color);\n",
              "    }\n",
              "    40% {\n",
              "      border-color: transparent;\n",
              "      border-right-color: var(--fill-color);\n",
              "      border-top-color: var(--fill-color);\n",
              "    }\n",
              "    60% {\n",
              "      border-color: transparent;\n",
              "      border-right-color: var(--fill-color);\n",
              "    }\n",
              "    80% {\n",
              "      border-color: transparent;\n",
              "      border-right-color: var(--fill-color);\n",
              "      border-bottom-color: var(--fill-color);\n",
              "    }\n",
              "    90% {\n",
              "      border-color: transparent;\n",
              "      border-bottom-color: var(--fill-color);\n",
              "    }\n",
              "  }\n",
              "</style>\n",
              "\n",
              "  <script>\n",
              "    async function quickchart(key) {\n",
              "      const quickchartButtonEl =\n",
              "        document.querySelector('#' + key + ' button');\n",
              "      quickchartButtonEl.disabled = true;  // To prevent multiple clicks.\n",
              "      quickchartButtonEl.classList.add('colab-df-spinner');\n",
              "      try {\n",
              "        const charts = await google.colab.kernel.invokeFunction(\n",
              "            'suggestCharts', [key], {});\n",
              "      } catch (error) {\n",
              "        console.error('Error during call to suggestCharts:', error);\n",
              "      }\n",
              "      quickchartButtonEl.classList.remove('colab-df-spinner');\n",
              "      quickchartButtonEl.classList.add('colab-df-quickchart-complete');\n",
              "    }\n",
              "    (() => {\n",
              "      let quickchartButtonEl =\n",
              "        document.querySelector('#df-7c2b3f79-31af-4dec-a8c2-db5bef6c4bd9 button');\n",
              "      quickchartButtonEl.style.display =\n",
              "        google.colab.kernel.accessAllowed ? 'block' : 'none';\n",
              "    })();\n",
              "  </script>\n",
              "</div>\n",
              "\n",
              "  <div id=\"id_0a4e5132-3ae2-41bf-b27a-3a85a9c5ed4c\">\n",
              "    <style>\n",
              "      .colab-df-generate {\n",
              "        background-color: #E8F0FE;\n",
              "        border: none;\n",
              "        border-radius: 50%;\n",
              "        cursor: pointer;\n",
              "        display: none;\n",
              "        fill: #1967D2;\n",
              "        height: 32px;\n",
              "        padding: 0 0 0 0;\n",
              "        width: 32px;\n",
              "      }\n",
              "\n",
              "      .colab-df-generate:hover {\n",
              "        background-color: #E2EBFA;\n",
              "        box-shadow: 0px 1px 2px rgba(60, 64, 67, 0.3), 0px 1px 3px 1px rgba(60, 64, 67, 0.15);\n",
              "        fill: #174EA6;\n",
              "      }\n",
              "\n",
              "      [theme=dark] .colab-df-generate {\n",
              "        background-color: #3B4455;\n",
              "        fill: #D2E3FC;\n",
              "      }\n",
              "\n",
              "      [theme=dark] .colab-df-generate:hover {\n",
              "        background-color: #434B5C;\n",
              "        box-shadow: 0px 1px 3px 1px rgba(0, 0, 0, 0.15);\n",
              "        filter: drop-shadow(0px 1px 2px rgba(0, 0, 0, 0.3));\n",
              "        fill: #FFFFFF;\n",
              "      }\n",
              "    </style>\n",
              "    <button class=\"colab-df-generate\" onclick=\"generateWithVariable('components_df')\"\n",
              "            title=\"Generate code using this dataframe.\"\n",
              "            style=\"display:none;\">\n",
              "\n",
              "  <svg xmlns=\"http://www.w3.org/2000/svg\" height=\"24px\"viewBox=\"0 0 24 24\"\n",
              "       width=\"24px\">\n",
              "    <path d=\"M7,19H8.4L18.45,9,17,7.55,7,17.6ZM5,21V16.75L18.45,3.32a2,2,0,0,1,2.83,0l1.4,1.43a1.91,1.91,0,0,1,.58,1.4,1.91,1.91,0,0,1-.58,1.4L9.25,21ZM18.45,9,17,7.55Zm-12,3A5.31,5.31,0,0,0,4.9,8.1,5.31,5.31,0,0,0,1,6.5,5.31,5.31,0,0,0,4.9,4.9,5.31,5.31,0,0,0,6.5,1,5.31,5.31,0,0,0,8.1,4.9,5.31,5.31,0,0,0,12,6.5,5.46,5.46,0,0,0,6.5,12Z\"/>\n",
              "  </svg>\n",
              "    </button>\n",
              "    <script>\n",
              "      (() => {\n",
              "      const buttonEl =\n",
              "        document.querySelector('#id_0a4e5132-3ae2-41bf-b27a-3a85a9c5ed4c button.colab-df-generate');\n",
              "      buttonEl.style.display =\n",
              "        google.colab.kernel.accessAllowed ? 'block' : 'none';\n",
              "\n",
              "      buttonEl.onclick = () => {\n",
              "        google.colab.notebook.generateWithVariable('components_df');\n",
              "      }\n",
              "      })();\n",
              "    </script>\n",
              "  </div>\n",
              "\n",
              "    </div>\n",
              "  </div>\n"
            ],
            "application/vnd.google.colaboratory.intrinsic+json": {
              "type": "dataframe",
              "variable_name": "components_df"
            }
          },
          "metadata": {},
          "execution_count": 275
        }
      ],
      "source": [
        "# See loadings\n",
        "\n",
        "# Get the principal components (PCs)\n",
        "components = pca.components_\n",
        "print(components.shape)\n",
        "\n",
        "# Create a DataFrame for easy visualization\n",
        "components_df = pd.DataFrame(components, columns=X_pca.columns, index=['PC1', 'PC2'])\n",
        "\n",
        "# Display the loadings (contributions of each feature to each component)\n",
        "components_df"
      ]
    },
    {
      "cell_type": "markdown",
      "source": [
        "Create features inspired by results of PCA"
      ],
      "metadata": {
        "id": "igykY-AlFRm8"
      }
    },
    {
      "cell_type": "code",
      "execution_count": 276,
      "metadata": {
        "id": "9B8JwBa1l2er"
      },
      "outputs": [],
      "source": [
        "mo_en = np.where(X['engine'] != 0, X['model'] / X['engine'], 0)"
      ]
    },
    {
      "cell_type": "markdown",
      "source": [
        "Calculate mutual informtion score to see feature is significant"
      ],
      "metadata": {
        "id": "a4xG86Fef4F9"
      }
    },
    {
      "cell_type": "code",
      "execution_count": 277,
      "metadata": {
        "id": "-3jHoU1wm05T"
      },
      "outputs": [],
      "source": [
        "bf_en = X['BrandFreq'] * X['engine']\n",
        "bf_en_mi = mutual_info_regression(pd.DataFrame(bf_en), y)"
      ]
    },
    {
      "cell_type": "code",
      "execution_count": 278,
      "metadata": {
        "colab": {
          "base_uri": "https://localhost:8080/"
        },
        "id": "VXxXMk0cmK0b",
        "outputId": "73be08fc-01b3-481c-fe77-9d608dadbe72"
      },
      "outputs": [
        {
          "output_type": "execute_result",
          "data": {
            "text/plain": [
              "array([0.42409269])"
            ]
          },
          "metadata": {},
          "execution_count": 278
        }
      ],
      "source": [
        "bf_en_mi"
      ]
    },
    {
      "cell_type": "markdown",
      "source": [
        "Add feature to dataset"
      ],
      "metadata": {
        "id": "Vm1Q5PW3gs_5"
      }
    },
    {
      "cell_type": "code",
      "execution_count": 279,
      "metadata": {
        "id": "gpzOm-_1n7eB"
      },
      "outputs": [],
      "source": [
        "X['bf_en'] = bf_en\n",
        "test['bf_en'] = test['BrandFreq'] * test['engine']"
      ]
    },
    {
      "cell_type": "markdown",
      "metadata": {
        "id": "gOsY9EVdLtnk"
      },
      "source": [
        "#### K-means Clustering"
      ]
    },
    {
      "cell_type": "code",
      "execution_count": 280,
      "metadata": {
        "id": "Zsrjd5UKXd9r"
      },
      "outputs": [],
      "source": [
        "# Add cluster feature\n",
        "c_scaler = StandardScaler()\n",
        "\n",
        "kmeans = KMeans(n_clusters=3, n_init=10)\n",
        "\n",
        "XC = [col for col in X.columns if col not in cleaner.categoricals]\n",
        "XC = X[XC]\n",
        "XC = c_scaler.fit_transform(XC)\n",
        "X['Cluster'] = kmeans.fit_predict(XC)\n",
        "X['Cluster'] = X['Cluster'].astype('int')\n",
        "\n",
        "test_conts = [col for col in test.columns if col not in test_cleaner.categoricals]\n",
        "test_conts = test[test_conts]\n",
        "test_conts = c_scaler.transform(test_conts)\n",
        "test['Cluster'] = kmeans.fit_predict(test_conts)\n",
        "test['Cluster'] = test['Cluster'].astype('int')"
      ]
    },
    {
      "cell_type": "code",
      "execution_count": 281,
      "metadata": {
        "id": "SqqSY-7HVPyu"
      },
      "outputs": [],
      "source": [
        "cleaner.categoricals.extend(['Cluster'])\n",
        "test_cleaner.categoricals.extend(['Cluster'])"
      ]
    },
    {
      "cell_type": "markdown",
      "metadata": {
        "id": "B9uYbibaLplU"
      },
      "source": [
        "#### Output of a trained Ridge model as a feature"
      ]
    },
    {
      "cell_type": "code",
      "execution_count": 282,
      "metadata": {
        "colab": {
          "base_uri": "https://localhost:8080/"
        },
        "id": "yRQmpmGFmgTx",
        "outputId": "6441de6c-f1a7-4737-a921-223232771383"
      },
      "outputs": [
        {
          "output_type": "stream",
          "name": "stdout",
          "text": [
            "train error: 27137.776003415176\n"
          ]
        },
        {
          "output_type": "stream",
          "name": "stderr",
          "text": [
            "/usr/local/lib/python3.11/dist-packages/sklearn/linear_model/_ridge.py:204: LinAlgWarning: Ill-conditioned matrix (rcond=2.29552e-20): result may not be accurate.\n",
            "  return linalg.solve(A, Xy, assume_a=\"pos\", overwrite_a=True).T\n"
          ]
        }
      ],
      "source": [
        "r_model = Ridge(alpha=1)\n",
        "r_model.fit(X, y)\n",
        "\n",
        "print(f'train error: {np.sqrt(mean_squared_error(r_model.predict(X), y))}')\n",
        "\n",
        "X['r_predict'] = r_model.predict(X)\n",
        "test['r_predict'] = r_model.predict(test)"
      ]
    },
    {
      "cell_type": "markdown",
      "source": [
        "# One Hot encoding"
      ],
      "metadata": {
        "id": "wJhC4HDPg7NN"
      }
    },
    {
      "cell_type": "code",
      "execution_count": 283,
      "metadata": {
        "colab": {
          "base_uri": "https://localhost:8080/",
          "height": 88
        },
        "id": "hbqGrTXkQ7J2",
        "outputId": "17cf90ce-3f03-425a-88c4-98ac9f6f4a2a"
      },
      "outputs": [
        {
          "output_type": "execute_result",
          "data": {
            "text/plain": [
              "\"cols = ['model', 'fuel_type', 'brand', 'int_col', 'ext_col', 'transmission', 'brand_class', 'Cluster',]\\n\\n# One-hot encoding\\nencoded_data = pd.get_dummies(X[cols].astype('str'))\\nX = pd.concat([X, encoded_data], axis=1)\\n\\n# Remove original encoded features\\nX = X.drop(cols, axis=1)\\n\\n# Update categoricals list in cleaner\\ncleaner.categoricals = [col for col in cleaner.categoricals if col not in cols]\\ncleaner.categoricals.extend(encoded_data.columns.tolist())\\nlen(cleaner.categoricals)\""
            ],
            "application/vnd.google.colaboratory.intrinsic+json": {
              "type": "string"
            }
          },
          "metadata": {},
          "execution_count": 283
        }
      ],
      "source": [
        "'''cols = ['model', 'fuel_type', 'brand', 'int_col', 'ext_col', 'transmission', 'brand_class', 'Cluster',]\n",
        "\n",
        "# One-hot encoding\n",
        "encoded_data = pd.get_dummies(X[cols].astype('str'))\n",
        "X = pd.concat([X, encoded_data], axis=1)\n",
        "\n",
        "# Remove original encoded features\n",
        "X = X.drop(cols, axis=1)\n",
        "\n",
        "# Update categoricals list in cleaner\n",
        "cleaner.categoricals = [col for col in cleaner.categoricals if col not in cols]\n",
        "cleaner.categoricals.extend(encoded_data.columns.tolist())\n",
        "len(cleaner.categoricals)'''"
      ]
    },
    {
      "cell_type": "markdown",
      "source": [
        "one hot encoding didn't showed much improvement.so we drop it."
      ],
      "metadata": {
        "id": "LLkOKn1DhGZB"
      }
    },
    {
      "cell_type": "code",
      "execution_count": 284,
      "metadata": {
        "colab": {
          "base_uri": "https://localhost:8080/",
          "height": 1000
        },
        "id": "IP2GdmNNJoAx",
        "outputId": "ea2753bd-818b-4fb7-b88f-ec3cd5890600"
      },
      "outputs": [
        {
          "output_type": "execute_result",
          "data": {
            "text/plain": [
              "                 train null  test null\n",
              "brand                     0          0\n",
              "model                     0          0\n",
              "model_year                0          0\n",
              "milage                    0          0\n",
              "fuel_type                 0          0\n",
              "engine                    0          0\n",
              "transmission              0          0\n",
              "ext_col                   0          0\n",
              "int_col                   0          0\n",
              "accident                  0          0\n",
              "clean_title               0          0\n",
              "automatic                 0          0\n",
              "gears                     0          0\n",
              "hp                        0          0\n",
              "L                         0          0\n",
              "cylinders                 0          0\n",
              "electric                  0          0\n",
              "valves                    0          0\n",
              "hp/l                      0          0\n",
              "mil/l                     0          0\n",
              "mil/hp                    0          0\n",
              "l/cyl                     0          0\n",
              "hp/gears                  0          0\n",
              "mil/gears                 0          0\n",
              "mil/cyl                   0          0\n",
              "hp*automatic              0          0\n",
              "cyl*gears                 0          0\n",
              "carAge                    0          0\n",
              "mil/year                  0          0\n",
              "hp*accident               0          0\n",
              "accident*carAge           0          0\n",
              "acc*milage                0          0\n",
              "mil*carAge                0          0\n",
              "hp*mil                    0          0\n",
              "binned_milage             0          0\n",
              "brand_class               0          0\n",
              "AverageMilage             0          0\n",
              "BrandFreq                 0          0\n",
              "brand_count               0          0\n",
              "brand_avg_mil             0          0\n",
              "log_milage                0          0\n",
              "logL                      0          0\n",
              "logAge                    0          0\n",
              "PC1                       0          0\n",
              "PC2                       0          0\n",
              "bf_en                     0          0\n",
              "Cluster                   0          0\n",
              "r_predict                 0          0"
            ],
            "text/html": [
              "\n",
              "  <div id=\"df-8d86bced-7c12-49d1-926b-62c5b5b4f045\" class=\"colab-df-container\">\n",
              "    <div>\n",
              "<style scoped>\n",
              "    .dataframe tbody tr th:only-of-type {\n",
              "        vertical-align: middle;\n",
              "    }\n",
              "\n",
              "    .dataframe tbody tr th {\n",
              "        vertical-align: top;\n",
              "    }\n",
              "\n",
              "    .dataframe thead th {\n",
              "        text-align: right;\n",
              "    }\n",
              "</style>\n",
              "<table border=\"1\" class=\"dataframe\">\n",
              "  <thead>\n",
              "    <tr style=\"text-align: right;\">\n",
              "      <th></th>\n",
              "      <th>train null</th>\n",
              "      <th>test null</th>\n",
              "    </tr>\n",
              "  </thead>\n",
              "  <tbody>\n",
              "    <tr>\n",
              "      <th>brand</th>\n",
              "      <td>0</td>\n",
              "      <td>0</td>\n",
              "    </tr>\n",
              "    <tr>\n",
              "      <th>model</th>\n",
              "      <td>0</td>\n",
              "      <td>0</td>\n",
              "    </tr>\n",
              "    <tr>\n",
              "      <th>model_year</th>\n",
              "      <td>0</td>\n",
              "      <td>0</td>\n",
              "    </tr>\n",
              "    <tr>\n",
              "      <th>milage</th>\n",
              "      <td>0</td>\n",
              "      <td>0</td>\n",
              "    </tr>\n",
              "    <tr>\n",
              "      <th>fuel_type</th>\n",
              "      <td>0</td>\n",
              "      <td>0</td>\n",
              "    </tr>\n",
              "    <tr>\n",
              "      <th>engine</th>\n",
              "      <td>0</td>\n",
              "      <td>0</td>\n",
              "    </tr>\n",
              "    <tr>\n",
              "      <th>transmission</th>\n",
              "      <td>0</td>\n",
              "      <td>0</td>\n",
              "    </tr>\n",
              "    <tr>\n",
              "      <th>ext_col</th>\n",
              "      <td>0</td>\n",
              "      <td>0</td>\n",
              "    </tr>\n",
              "    <tr>\n",
              "      <th>int_col</th>\n",
              "      <td>0</td>\n",
              "      <td>0</td>\n",
              "    </tr>\n",
              "    <tr>\n",
              "      <th>accident</th>\n",
              "      <td>0</td>\n",
              "      <td>0</td>\n",
              "    </tr>\n",
              "    <tr>\n",
              "      <th>clean_title</th>\n",
              "      <td>0</td>\n",
              "      <td>0</td>\n",
              "    </tr>\n",
              "    <tr>\n",
              "      <th>automatic</th>\n",
              "      <td>0</td>\n",
              "      <td>0</td>\n",
              "    </tr>\n",
              "    <tr>\n",
              "      <th>gears</th>\n",
              "      <td>0</td>\n",
              "      <td>0</td>\n",
              "    </tr>\n",
              "    <tr>\n",
              "      <th>hp</th>\n",
              "      <td>0</td>\n",
              "      <td>0</td>\n",
              "    </tr>\n",
              "    <tr>\n",
              "      <th>L</th>\n",
              "      <td>0</td>\n",
              "      <td>0</td>\n",
              "    </tr>\n",
              "    <tr>\n",
              "      <th>cylinders</th>\n",
              "      <td>0</td>\n",
              "      <td>0</td>\n",
              "    </tr>\n",
              "    <tr>\n",
              "      <th>electric</th>\n",
              "      <td>0</td>\n",
              "      <td>0</td>\n",
              "    </tr>\n",
              "    <tr>\n",
              "      <th>valves</th>\n",
              "      <td>0</td>\n",
              "      <td>0</td>\n",
              "    </tr>\n",
              "    <tr>\n",
              "      <th>hp/l</th>\n",
              "      <td>0</td>\n",
              "      <td>0</td>\n",
              "    </tr>\n",
              "    <tr>\n",
              "      <th>mil/l</th>\n",
              "      <td>0</td>\n",
              "      <td>0</td>\n",
              "    </tr>\n",
              "    <tr>\n",
              "      <th>mil/hp</th>\n",
              "      <td>0</td>\n",
              "      <td>0</td>\n",
              "    </tr>\n",
              "    <tr>\n",
              "      <th>l/cyl</th>\n",
              "      <td>0</td>\n",
              "      <td>0</td>\n",
              "    </tr>\n",
              "    <tr>\n",
              "      <th>hp/gears</th>\n",
              "      <td>0</td>\n",
              "      <td>0</td>\n",
              "    </tr>\n",
              "    <tr>\n",
              "      <th>mil/gears</th>\n",
              "      <td>0</td>\n",
              "      <td>0</td>\n",
              "    </tr>\n",
              "    <tr>\n",
              "      <th>mil/cyl</th>\n",
              "      <td>0</td>\n",
              "      <td>0</td>\n",
              "    </tr>\n",
              "    <tr>\n",
              "      <th>hp*automatic</th>\n",
              "      <td>0</td>\n",
              "      <td>0</td>\n",
              "    </tr>\n",
              "    <tr>\n",
              "      <th>cyl*gears</th>\n",
              "      <td>0</td>\n",
              "      <td>0</td>\n",
              "    </tr>\n",
              "    <tr>\n",
              "      <th>carAge</th>\n",
              "      <td>0</td>\n",
              "      <td>0</td>\n",
              "    </tr>\n",
              "    <tr>\n",
              "      <th>mil/year</th>\n",
              "      <td>0</td>\n",
              "      <td>0</td>\n",
              "    </tr>\n",
              "    <tr>\n",
              "      <th>hp*accident</th>\n",
              "      <td>0</td>\n",
              "      <td>0</td>\n",
              "    </tr>\n",
              "    <tr>\n",
              "      <th>accident*carAge</th>\n",
              "      <td>0</td>\n",
              "      <td>0</td>\n",
              "    </tr>\n",
              "    <tr>\n",
              "      <th>acc*milage</th>\n",
              "      <td>0</td>\n",
              "      <td>0</td>\n",
              "    </tr>\n",
              "    <tr>\n",
              "      <th>mil*carAge</th>\n",
              "      <td>0</td>\n",
              "      <td>0</td>\n",
              "    </tr>\n",
              "    <tr>\n",
              "      <th>hp*mil</th>\n",
              "      <td>0</td>\n",
              "      <td>0</td>\n",
              "    </tr>\n",
              "    <tr>\n",
              "      <th>binned_milage</th>\n",
              "      <td>0</td>\n",
              "      <td>0</td>\n",
              "    </tr>\n",
              "    <tr>\n",
              "      <th>brand_class</th>\n",
              "      <td>0</td>\n",
              "      <td>0</td>\n",
              "    </tr>\n",
              "    <tr>\n",
              "      <th>AverageMilage</th>\n",
              "      <td>0</td>\n",
              "      <td>0</td>\n",
              "    </tr>\n",
              "    <tr>\n",
              "      <th>BrandFreq</th>\n",
              "      <td>0</td>\n",
              "      <td>0</td>\n",
              "    </tr>\n",
              "    <tr>\n",
              "      <th>brand_count</th>\n",
              "      <td>0</td>\n",
              "      <td>0</td>\n",
              "    </tr>\n",
              "    <tr>\n",
              "      <th>brand_avg_mil</th>\n",
              "      <td>0</td>\n",
              "      <td>0</td>\n",
              "    </tr>\n",
              "    <tr>\n",
              "      <th>log_milage</th>\n",
              "      <td>0</td>\n",
              "      <td>0</td>\n",
              "    </tr>\n",
              "    <tr>\n",
              "      <th>logL</th>\n",
              "      <td>0</td>\n",
              "      <td>0</td>\n",
              "    </tr>\n",
              "    <tr>\n",
              "      <th>logAge</th>\n",
              "      <td>0</td>\n",
              "      <td>0</td>\n",
              "    </tr>\n",
              "    <tr>\n",
              "      <th>PC1</th>\n",
              "      <td>0</td>\n",
              "      <td>0</td>\n",
              "    </tr>\n",
              "    <tr>\n",
              "      <th>PC2</th>\n",
              "      <td>0</td>\n",
              "      <td>0</td>\n",
              "    </tr>\n",
              "    <tr>\n",
              "      <th>bf_en</th>\n",
              "      <td>0</td>\n",
              "      <td>0</td>\n",
              "    </tr>\n",
              "    <tr>\n",
              "      <th>Cluster</th>\n",
              "      <td>0</td>\n",
              "      <td>0</td>\n",
              "    </tr>\n",
              "    <tr>\n",
              "      <th>r_predict</th>\n",
              "      <td>0</td>\n",
              "      <td>0</td>\n",
              "    </tr>\n",
              "  </tbody>\n",
              "</table>\n",
              "</div>\n",
              "    <div class=\"colab-df-buttons\">\n",
              "\n",
              "  <div class=\"colab-df-container\">\n",
              "    <button class=\"colab-df-convert\" onclick=\"convertToInteractive('df-8d86bced-7c12-49d1-926b-62c5b5b4f045')\"\n",
              "            title=\"Convert this dataframe to an interactive table.\"\n",
              "            style=\"display:none;\">\n",
              "\n",
              "  <svg xmlns=\"http://www.w3.org/2000/svg\" height=\"24px\" viewBox=\"0 -960 960 960\">\n",
              "    <path d=\"M120-120v-720h720v720H120Zm60-500h600v-160H180v160Zm220 220h160v-160H400v160Zm0 220h160v-160H400v160ZM180-400h160v-160H180v160Zm440 0h160v-160H620v160ZM180-180h160v-160H180v160Zm440 0h160v-160H620v160Z\"/>\n",
              "  </svg>\n",
              "    </button>\n",
              "\n",
              "  <style>\n",
              "    .colab-df-container {\n",
              "      display:flex;\n",
              "      gap: 12px;\n",
              "    }\n",
              "\n",
              "    .colab-df-convert {\n",
              "      background-color: #E8F0FE;\n",
              "      border: none;\n",
              "      border-radius: 50%;\n",
              "      cursor: pointer;\n",
              "      display: none;\n",
              "      fill: #1967D2;\n",
              "      height: 32px;\n",
              "      padding: 0 0 0 0;\n",
              "      width: 32px;\n",
              "    }\n",
              "\n",
              "    .colab-df-convert:hover {\n",
              "      background-color: #E2EBFA;\n",
              "      box-shadow: 0px 1px 2px rgba(60, 64, 67, 0.3), 0px 1px 3px 1px rgba(60, 64, 67, 0.15);\n",
              "      fill: #174EA6;\n",
              "    }\n",
              "\n",
              "    .colab-df-buttons div {\n",
              "      margin-bottom: 4px;\n",
              "    }\n",
              "\n",
              "    [theme=dark] .colab-df-convert {\n",
              "      background-color: #3B4455;\n",
              "      fill: #D2E3FC;\n",
              "    }\n",
              "\n",
              "    [theme=dark] .colab-df-convert:hover {\n",
              "      background-color: #434B5C;\n",
              "      box-shadow: 0px 1px 3px 1px rgba(0, 0, 0, 0.15);\n",
              "      filter: drop-shadow(0px 1px 2px rgba(0, 0, 0, 0.3));\n",
              "      fill: #FFFFFF;\n",
              "    }\n",
              "  </style>\n",
              "\n",
              "    <script>\n",
              "      const buttonEl =\n",
              "        document.querySelector('#df-8d86bced-7c12-49d1-926b-62c5b5b4f045 button.colab-df-convert');\n",
              "      buttonEl.style.display =\n",
              "        google.colab.kernel.accessAllowed ? 'block' : 'none';\n",
              "\n",
              "      async function convertToInteractive(key) {\n",
              "        const element = document.querySelector('#df-8d86bced-7c12-49d1-926b-62c5b5b4f045');\n",
              "        const dataTable =\n",
              "          await google.colab.kernel.invokeFunction('convertToInteractive',\n",
              "                                                    [key], {});\n",
              "        if (!dataTable) return;\n",
              "\n",
              "        const docLinkHtml = 'Like what you see? Visit the ' +\n",
              "          '<a target=\"_blank\" href=https://colab.research.google.com/notebooks/data_table.ipynb>data table notebook</a>'\n",
              "          + ' to learn more about interactive tables.';\n",
              "        element.innerHTML = '';\n",
              "        dataTable['output_type'] = 'display_data';\n",
              "        await google.colab.output.renderOutput(dataTable, element);\n",
              "        const docLink = document.createElement('div');\n",
              "        docLink.innerHTML = docLinkHtml;\n",
              "        element.appendChild(docLink);\n",
              "      }\n",
              "    </script>\n",
              "  </div>\n",
              "\n",
              "\n",
              "<div id=\"df-589d6f92-fd02-4fc5-b6ff-f1c4dd1e9d3e\">\n",
              "  <button class=\"colab-df-quickchart\" onclick=\"quickchart('df-589d6f92-fd02-4fc5-b6ff-f1c4dd1e9d3e')\"\n",
              "            title=\"Suggest charts\"\n",
              "            style=\"display:none;\">\n",
              "\n",
              "<svg xmlns=\"http://www.w3.org/2000/svg\" height=\"24px\"viewBox=\"0 0 24 24\"\n",
              "     width=\"24px\">\n",
              "    <g>\n",
              "        <path d=\"M19 3H5c-1.1 0-2 .9-2 2v14c0 1.1.9 2 2 2h14c1.1 0 2-.9 2-2V5c0-1.1-.9-2-2-2zM9 17H7v-7h2v7zm4 0h-2V7h2v10zm4 0h-2v-4h2v4z\"/>\n",
              "    </g>\n",
              "</svg>\n",
              "  </button>\n",
              "\n",
              "<style>\n",
              "  .colab-df-quickchart {\n",
              "      --bg-color: #E8F0FE;\n",
              "      --fill-color: #1967D2;\n",
              "      --hover-bg-color: #E2EBFA;\n",
              "      --hover-fill-color: #174EA6;\n",
              "      --disabled-fill-color: #AAA;\n",
              "      --disabled-bg-color: #DDD;\n",
              "  }\n",
              "\n",
              "  [theme=dark] .colab-df-quickchart {\n",
              "      --bg-color: #3B4455;\n",
              "      --fill-color: #D2E3FC;\n",
              "      --hover-bg-color: #434B5C;\n",
              "      --hover-fill-color: #FFFFFF;\n",
              "      --disabled-bg-color: #3B4455;\n",
              "      --disabled-fill-color: #666;\n",
              "  }\n",
              "\n",
              "  .colab-df-quickchart {\n",
              "    background-color: var(--bg-color);\n",
              "    border: none;\n",
              "    border-radius: 50%;\n",
              "    cursor: pointer;\n",
              "    display: none;\n",
              "    fill: var(--fill-color);\n",
              "    height: 32px;\n",
              "    padding: 0;\n",
              "    width: 32px;\n",
              "  }\n",
              "\n",
              "  .colab-df-quickchart:hover {\n",
              "    background-color: var(--hover-bg-color);\n",
              "    box-shadow: 0 1px 2px rgba(60, 64, 67, 0.3), 0 1px 3px 1px rgba(60, 64, 67, 0.15);\n",
              "    fill: var(--button-hover-fill-color);\n",
              "  }\n",
              "\n",
              "  .colab-df-quickchart-complete:disabled,\n",
              "  .colab-df-quickchart-complete:disabled:hover {\n",
              "    background-color: var(--disabled-bg-color);\n",
              "    fill: var(--disabled-fill-color);\n",
              "    box-shadow: none;\n",
              "  }\n",
              "\n",
              "  .colab-df-spinner {\n",
              "    border: 2px solid var(--fill-color);\n",
              "    border-color: transparent;\n",
              "    border-bottom-color: var(--fill-color);\n",
              "    animation:\n",
              "      spin 1s steps(1) infinite;\n",
              "  }\n",
              "\n",
              "  @keyframes spin {\n",
              "    0% {\n",
              "      border-color: transparent;\n",
              "      border-bottom-color: var(--fill-color);\n",
              "      border-left-color: var(--fill-color);\n",
              "    }\n",
              "    20% {\n",
              "      border-color: transparent;\n",
              "      border-left-color: var(--fill-color);\n",
              "      border-top-color: var(--fill-color);\n",
              "    }\n",
              "    30% {\n",
              "      border-color: transparent;\n",
              "      border-left-color: var(--fill-color);\n",
              "      border-top-color: var(--fill-color);\n",
              "      border-right-color: var(--fill-color);\n",
              "    }\n",
              "    40% {\n",
              "      border-color: transparent;\n",
              "      border-right-color: var(--fill-color);\n",
              "      border-top-color: var(--fill-color);\n",
              "    }\n",
              "    60% {\n",
              "      border-color: transparent;\n",
              "      border-right-color: var(--fill-color);\n",
              "    }\n",
              "    80% {\n",
              "      border-color: transparent;\n",
              "      border-right-color: var(--fill-color);\n",
              "      border-bottom-color: var(--fill-color);\n",
              "    }\n",
              "    90% {\n",
              "      border-color: transparent;\n",
              "      border-bottom-color: var(--fill-color);\n",
              "    }\n",
              "  }\n",
              "</style>\n",
              "\n",
              "  <script>\n",
              "    async function quickchart(key) {\n",
              "      const quickchartButtonEl =\n",
              "        document.querySelector('#' + key + ' button');\n",
              "      quickchartButtonEl.disabled = true;  // To prevent multiple clicks.\n",
              "      quickchartButtonEl.classList.add('colab-df-spinner');\n",
              "      try {\n",
              "        const charts = await google.colab.kernel.invokeFunction(\n",
              "            'suggestCharts', [key], {});\n",
              "      } catch (error) {\n",
              "        console.error('Error during call to suggestCharts:', error);\n",
              "      }\n",
              "      quickchartButtonEl.classList.remove('colab-df-spinner');\n",
              "      quickchartButtonEl.classList.add('colab-df-quickchart-complete');\n",
              "    }\n",
              "    (() => {\n",
              "      let quickchartButtonEl =\n",
              "        document.querySelector('#df-589d6f92-fd02-4fc5-b6ff-f1c4dd1e9d3e button');\n",
              "      quickchartButtonEl.style.display =\n",
              "        google.colab.kernel.accessAllowed ? 'block' : 'none';\n",
              "    })();\n",
              "  </script>\n",
              "</div>\n",
              "\n",
              "    </div>\n",
              "  </div>\n"
            ],
            "application/vnd.google.colaboratory.intrinsic+json": {
              "type": "dataframe",
              "summary": "{\n  \"name\": \"check_null(X, test)\",\n  \"rows\": 48,\n  \"fields\": [\n    {\n      \"column\": \"train null\",\n      \"properties\": {\n        \"dtype\": \"number\",\n        \"std\": 0,\n        \"min\": 0,\n        \"max\": 0,\n        \"num_unique_values\": 1,\n        \"samples\": [\n          0\n        ],\n        \"semantic_type\": \"\",\n        \"description\": \"\"\n      }\n    },\n    {\n      \"column\": \"test null\",\n      \"properties\": {\n        \"dtype\": \"number\",\n        \"std\": 0,\n        \"min\": 0,\n        \"max\": 0,\n        \"num_unique_values\": 1,\n        \"samples\": [\n          0\n        ],\n        \"semantic_type\": \"\",\n        \"description\": \"\"\n      }\n    }\n  ]\n}"
            }
          },
          "metadata": {},
          "execution_count": 284
        }
      ],
      "source": [
        "check_null(X, test)"
      ]
    },
    {
      "cell_type": "markdown",
      "source": [
        "# Split the data\n",
        "\n",
        "Below features are selected using mutual_info_regression and RFE, both of sklearn library."
      ],
      "metadata": {
        "id": "XS1rNcgWG-XU"
      }
    },
    {
      "cell_type": "code",
      "execution_count": 285,
      "metadata": {
        "id": "ykeJa7_ZIEl4"
      },
      "outputs": [],
      "source": [
        "selected_features = ['bf_en', 'milage', 'log_milage', 'engine', 'mil*carAge', 'mil/cyl', 'mil/gears', 'hp/l', 'mil/hp', 'carAge', 'model_year', 'hp', 'logAge', 'PC1', 'hp/gears', 'r_predict', 'brand', 'model_year', 'milage', 'engine', 'transmission', 'ext_col', 'hp', 'valves', 'hp/l', 'mil/l', 'mil/hp', 'mil/gears', 'mil*carAge', 'AverageMilage', 'BrandFreq', 'brand_class', 'logAge', 'PC1', 'PC2', 'r_predict']"
      ]
    },
    {
      "cell_type": "code",
      "execution_count": 286,
      "metadata": {
        "id": "QcarAeYpHm9L"
      },
      "outputs": [],
      "source": [
        "X_split = X[selected_features]\n",
        "test = test[selected_features]"
      ]
    },
    {
      "cell_type": "code",
      "execution_count": 287,
      "metadata": {
        "colab": {
          "base_uri": "https://localhost:8080/"
        },
        "id": "9l_KaFTDDJOk",
        "outputId": "41e7ba4c-3f49-4a3c-aa15-afcb6b83a5c7"
      },
      "outputs": [
        {
          "output_type": "stream",
          "name": "stdout",
          "text": [
            "(150826, 36) (18854, 36)\n"
          ]
        }
      ],
      "source": [
        "X_train, X_, y_train, y_ = train_test_split(X_split, y, test_size=0.2, random_state=RANDOM_STATE)\n",
        "X_val, X_test, y_val, y_test = train_test_split(X_, y_, test_size=0.5, random_state=RANDOM_STATE)\n",
        "print(X_train.shape, X_test.shape)"
      ]
    },
    {
      "cell_type": "markdown",
      "source": [
        "# Standardize the data\n",
        "Standardize only contunios features."
      ],
      "metadata": {
        "id": "ZhZDqurbHR_K"
      }
    },
    {
      "cell_type": "code",
      "execution_count": 288,
      "metadata": {
        "id": "crqZ1gnCGcd6",
        "colab": {
          "base_uri": "https://localhost:8080/",
          "height": 376
        },
        "outputId": "bfa01189-22d2-4ca5-a7f5-50a10afd7a26"
      },
      "outputs": [
        {
          "output_type": "stream",
          "name": "stdout",
          "text": [
            "Features to be scaled: ['model_year', 'milage', 'hp', 'valves', 'hp/l', 'mil/l', 'mil/hp', 'l/cyl', 'hp/gears', 'mil/gears', 'mil/cyl', 'hp*automatic', 'cyl*gears', 'mil/year', 'hp*accident', 'accident*carAge', 'acc*milage', 'mil*carAge', 'hp*mil', 'AverageMilage', 'BrandFreq', 'brand_avg_mil', 'log_milage', 'logL', 'logAge', 'bf_en', 'r_predict']\n"
          ]
        },
        {
          "output_type": "error",
          "ename": "KeyError",
          "evalue": "\"['l/cyl', 'hp*automatic', 'cyl*gears', 'mil/year', 'hp*accident', 'accident*carAge', 'acc*milage', 'hp*mil', 'brand_avg_mil', 'logL'] not in index\"",
          "traceback": [
            "\u001b[0;31m---------------------------------------------------------------------------\u001b[0m",
            "\u001b[0;31mKeyError\u001b[0m                                  Traceback (most recent call last)",
            "\u001b[0;32m<ipython-input-288-df5aa364b1ca>\u001b[0m in \u001b[0;36m<cell line: 0>\u001b[0;34m()\u001b[0m\n\u001b[1;32m      5\u001b[0m \u001b[0mscalerTrain\u001b[0m \u001b[0;34m=\u001b[0m \u001b[0mStandardScaler\u001b[0m\u001b[0;34m(\u001b[0m\u001b[0;34m)\u001b[0m\u001b[0;34m\u001b[0m\u001b[0;34m\u001b[0m\u001b[0m\n\u001b[1;32m      6\u001b[0m \u001b[0mX\u001b[0m\u001b[0;34m[\u001b[0m\u001b[0mcontinuos_features_to_scale\u001b[0m\u001b[0;34m]\u001b[0m \u001b[0;34m=\u001b[0m \u001b[0mscalerTrain\u001b[0m\u001b[0;34m.\u001b[0m\u001b[0mfit_transform\u001b[0m\u001b[0;34m(\u001b[0m\u001b[0mX\u001b[0m\u001b[0;34m[\u001b[0m\u001b[0mcontinuos_features_to_scale\u001b[0m\u001b[0;34m]\u001b[0m\u001b[0;34m)\u001b[0m\u001b[0;34m\u001b[0m\u001b[0;34m\u001b[0m\u001b[0m\n\u001b[0;32m----> 7\u001b[0;31m \u001b[0mtest\u001b[0m\u001b[0;34m[\u001b[0m\u001b[0mcontinuos_features_to_scale\u001b[0m\u001b[0;34m]\u001b[0m \u001b[0;34m=\u001b[0m \u001b[0mscalerTrain\u001b[0m\u001b[0;34m.\u001b[0m\u001b[0mtransform\u001b[0m\u001b[0;34m(\u001b[0m\u001b[0mtest\u001b[0m\u001b[0;34m[\u001b[0m\u001b[0mcontinuos_features_to_scale\u001b[0m\u001b[0;34m]\u001b[0m\u001b[0;34m)\u001b[0m\u001b[0;34m\u001b[0m\u001b[0;34m\u001b[0m\u001b[0m\n\u001b[0m",
            "\u001b[0;32m/usr/local/lib/python3.11/dist-packages/pandas/core/frame.py\u001b[0m in \u001b[0;36m__getitem__\u001b[0;34m(self, key)\u001b[0m\n\u001b[1;32m   4106\u001b[0m             \u001b[0;32mif\u001b[0m \u001b[0mis_iterator\u001b[0m\u001b[0;34m(\u001b[0m\u001b[0mkey\u001b[0m\u001b[0;34m)\u001b[0m\u001b[0;34m:\u001b[0m\u001b[0;34m\u001b[0m\u001b[0;34m\u001b[0m\u001b[0m\n\u001b[1;32m   4107\u001b[0m                 \u001b[0mkey\u001b[0m \u001b[0;34m=\u001b[0m \u001b[0mlist\u001b[0m\u001b[0;34m(\u001b[0m\u001b[0mkey\u001b[0m\u001b[0;34m)\u001b[0m\u001b[0;34m\u001b[0m\u001b[0;34m\u001b[0m\u001b[0m\n\u001b[0;32m-> 4108\u001b[0;31m             \u001b[0mindexer\u001b[0m \u001b[0;34m=\u001b[0m \u001b[0mself\u001b[0m\u001b[0;34m.\u001b[0m\u001b[0mcolumns\u001b[0m\u001b[0;34m.\u001b[0m\u001b[0m_get_indexer_strict\u001b[0m\u001b[0;34m(\u001b[0m\u001b[0mkey\u001b[0m\u001b[0;34m,\u001b[0m \u001b[0;34m\"columns\"\u001b[0m\u001b[0;34m)\u001b[0m\u001b[0;34m[\u001b[0m\u001b[0;36m1\u001b[0m\u001b[0;34m]\u001b[0m\u001b[0;34m\u001b[0m\u001b[0;34m\u001b[0m\u001b[0m\n\u001b[0m\u001b[1;32m   4109\u001b[0m \u001b[0;34m\u001b[0m\u001b[0m\n\u001b[1;32m   4110\u001b[0m         \u001b[0;31m# take() does not accept boolean indexers\u001b[0m\u001b[0;34m\u001b[0m\u001b[0;34m\u001b[0m\u001b[0m\n",
            "\u001b[0;32m/usr/local/lib/python3.11/dist-packages/pandas/core/indexes/base.py\u001b[0m in \u001b[0;36m_get_indexer_strict\u001b[0;34m(self, key, axis_name)\u001b[0m\n\u001b[1;32m   6198\u001b[0m             \u001b[0mkeyarr\u001b[0m\u001b[0;34m,\u001b[0m \u001b[0mindexer\u001b[0m\u001b[0;34m,\u001b[0m \u001b[0mnew_indexer\u001b[0m \u001b[0;34m=\u001b[0m \u001b[0mself\u001b[0m\u001b[0;34m.\u001b[0m\u001b[0m_reindex_non_unique\u001b[0m\u001b[0;34m(\u001b[0m\u001b[0mkeyarr\u001b[0m\u001b[0;34m)\u001b[0m\u001b[0;34m\u001b[0m\u001b[0;34m\u001b[0m\u001b[0m\n\u001b[1;32m   6199\u001b[0m \u001b[0;34m\u001b[0m\u001b[0m\n\u001b[0;32m-> 6200\u001b[0;31m         \u001b[0mself\u001b[0m\u001b[0;34m.\u001b[0m\u001b[0m_raise_if_missing\u001b[0m\u001b[0;34m(\u001b[0m\u001b[0mkeyarr\u001b[0m\u001b[0;34m,\u001b[0m \u001b[0mindexer\u001b[0m\u001b[0;34m,\u001b[0m \u001b[0maxis_name\u001b[0m\u001b[0;34m)\u001b[0m\u001b[0;34m\u001b[0m\u001b[0;34m\u001b[0m\u001b[0m\n\u001b[0m\u001b[1;32m   6201\u001b[0m \u001b[0;34m\u001b[0m\u001b[0m\n\u001b[1;32m   6202\u001b[0m         \u001b[0mkeyarr\u001b[0m \u001b[0;34m=\u001b[0m \u001b[0mself\u001b[0m\u001b[0;34m.\u001b[0m\u001b[0mtake\u001b[0m\u001b[0;34m(\u001b[0m\u001b[0mindexer\u001b[0m\u001b[0;34m)\u001b[0m\u001b[0;34m\u001b[0m\u001b[0;34m\u001b[0m\u001b[0m\n",
            "\u001b[0;32m/usr/local/lib/python3.11/dist-packages/pandas/core/indexes/base.py\u001b[0m in \u001b[0;36m_raise_if_missing\u001b[0;34m(self, key, indexer, axis_name)\u001b[0m\n\u001b[1;32m   6250\u001b[0m \u001b[0;34m\u001b[0m\u001b[0m\n\u001b[1;32m   6251\u001b[0m             \u001b[0mnot_found\u001b[0m \u001b[0;34m=\u001b[0m \u001b[0mlist\u001b[0m\u001b[0;34m(\u001b[0m\u001b[0mensure_index\u001b[0m\u001b[0;34m(\u001b[0m\u001b[0mkey\u001b[0m\u001b[0;34m)\u001b[0m\u001b[0;34m[\u001b[0m\u001b[0mmissing_mask\u001b[0m\u001b[0;34m.\u001b[0m\u001b[0mnonzero\u001b[0m\u001b[0;34m(\u001b[0m\u001b[0;34m)\u001b[0m\u001b[0;34m[\u001b[0m\u001b[0;36m0\u001b[0m\u001b[0;34m]\u001b[0m\u001b[0;34m]\u001b[0m\u001b[0;34m.\u001b[0m\u001b[0munique\u001b[0m\u001b[0;34m(\u001b[0m\u001b[0;34m)\u001b[0m\u001b[0;34m)\u001b[0m\u001b[0;34m\u001b[0m\u001b[0;34m\u001b[0m\u001b[0m\n\u001b[0;32m-> 6252\u001b[0;31m             \u001b[0;32mraise\u001b[0m \u001b[0mKeyError\u001b[0m\u001b[0;34m(\u001b[0m\u001b[0;34mf\"{not_found} not in index\"\u001b[0m\u001b[0;34m)\u001b[0m\u001b[0;34m\u001b[0m\u001b[0;34m\u001b[0m\u001b[0m\n\u001b[0m\u001b[1;32m   6253\u001b[0m \u001b[0;34m\u001b[0m\u001b[0m\n\u001b[1;32m   6254\u001b[0m     \u001b[0;34m@\u001b[0m\u001b[0moverload\u001b[0m\u001b[0;34m\u001b[0m\u001b[0;34m\u001b[0m\u001b[0m\n",
            "\u001b[0;31mKeyError\u001b[0m: \"['l/cyl', 'hp*automatic', 'cyl*gears', 'mil/year', 'hp*accident', 'accident*carAge', 'acc*milage', 'hp*mil', 'brand_avg_mil', 'logL'] not in index\""
          ]
        }
      ],
      "source": [
        "# Scale train continuos features\n",
        "continuos_features_to_scale = [col for col in X.columns if col not in cleaner.categoricals]\n",
        "print(f'Features to be scaled: {continuos_features_to_scale}')\n",
        "\n",
        "scalerTrain = StandardScaler()\n",
        "X[continuos_features_to_scale] = scalerTrain.fit_transform(X[continuos_features_to_scale])\n",
        "test[continuos_features_to_scale] = scalerTrain.transform(test[continuos_features_to_scale])"
      ]
    },
    {
      "cell_type": "markdown",
      "source": [
        "# Model Training"
      ],
      "metadata": {
        "id": "DR1vK_RKhfYo"
      }
    },
    {
      "cell_type": "markdown",
      "source": [
        "### TensorFlow Neural Network"
      ],
      "metadata": {
        "id": "sQNzf82h3Hcp"
      }
    },
    {
      "cell_type": "code",
      "execution_count": 289,
      "metadata": {
        "id": "4GtPuLx73Gaz",
        "colab": {
          "base_uri": "https://localhost:8080/",
          "height": 36
        },
        "outputId": "c1672e3c-7fea-4e91-deae-e58fdca545dc"
      },
      "outputs": [
        {
          "output_type": "execute_result",
          "data": {
            "text/plain": [
              "'# Define a custom RMSE metric\\ndef rmse(y_true, y_pred):\\n    return tf.sqrt(tf.reduce_mean(tf.square(y_true - y_pred)))'"
            ],
            "application/vnd.google.colaboratory.intrinsic+json": {
              "type": "string"
            }
          },
          "metadata": {},
          "execution_count": 289
        }
      ],
      "source": [
        "'''# Define a custom RMSE metric\n",
        "def rmse(y_true, y_pred):\n",
        "    return tf.sqrt(tf.reduce_mean(tf.square(y_true - y_pred)))'''"
      ]
    },
    {
      "cell_type": "code",
      "execution_count": 192,
      "metadata": {
        "colab": {
          "base_uri": "https://localhost:8080/",
          "height": 88
        },
        "id": "Z_IIGbXczSQd",
        "outputId": "4f48d53a-e48a-48a3-dc04-045a3fdbc642"
      },
      "outputs": [
        {
          "output_type": "execute_result",
          "data": {
            "text/plain": [
              "\"model = tf.keras.models.Sequential([\\n    tf.keras.layers.Dense(20, activation='relu', kernel_regularizer=tf.keras.regularizers.L2(2)),\\n    tf.keras.layers.Dropout(0.5),\\n    tf.keras.layers.Dense(3, 'relu', kernel_regularizer=tf.keras.regularizers.L2(2)),\\n    tf.keras.layers.Dropout(0.5),\\n    tf.keras.layers.Dense(1),\\n])\\n\\nmodel.compile(loss='mse', optimizer=tf.keras.optimizers.Adam(), metrics=[rmse])\\n\\nhistory = model.fit(X_train, y_train, validation_data=(X_val, y_val), epochs=5)\""
            ],
            "application/vnd.google.colaboratory.intrinsic+json": {
              "type": "string"
            }
          },
          "metadata": {},
          "execution_count": 192
        }
      ],
      "source": [
        "'''model = tf.keras.models.Sequential([\n",
        "    tf.keras.layers.Dense(20, activation='relu', kernel_regularizer=tf.keras.regularizers.L2(2)),\n",
        "    tf.keras.layers.Dropout(0.5),\n",
        "    tf.keras.layers.Dense(3, 'relu', kernel_regularizer=tf.keras.regularizers.L2(2)),\n",
        "    tf.keras.layers.Dropout(0.5),\n",
        "    tf.keras.layers.Dense(1),\n",
        "])\n",
        "\n",
        "model.compile(loss='mse', optimizer=tf.keras.optimizers.Adam(), metrics=[rmse])\n",
        "\n",
        "history = model.fit(X_train, y_train, validation_data=(X_val, y_val), epochs=5)'''"
      ]
    },
    {
      "cell_type": "code",
      "execution_count": 193,
      "metadata": {
        "colab": {
          "base_uri": "https://localhost:8080/",
          "height": 53
        },
        "id": "wmyGoWU_2P2b",
        "outputId": "0e5ecf87-14b7-4926-fc3f-dec519eae133"
      },
      "outputs": [
        {
          "output_type": "execute_result",
          "data": {
            "text/plain": [
              "\"t_loss = np.sqrt(history.history['loss'])\\nv_loss = np.sqrt(history.history['val_loss'])\\nplt.plot(t_loss, c='r', label='train loss')\\nplt.plot(v_loss, c='b', label='validation loss')\\nplt.title('Train/Validation MSEs')\\nplt.legend()\\nplt.show()\""
            ],
            "application/vnd.google.colaboratory.intrinsic+json": {
              "type": "string"
            }
          },
          "metadata": {},
          "execution_count": 193
        }
      ],
      "source": [
        "'''t_loss = np.sqrt(history.history['loss'])\n",
        "v_loss = np.sqrt(history.history['val_loss'])\n",
        "plt.plot(t_loss, c='r', label='train loss')\n",
        "plt.plot(v_loss, c='b', label='validation loss')\n",
        "plt.title('Train/Validation MSEs')\n",
        "plt.legend()\n",
        "plt.show()'''"
      ]
    },
    {
      "cell_type": "code",
      "execution_count": 194,
      "metadata": {
        "colab": {
          "base_uri": "https://localhost:8080/",
          "height": 36
        },
        "id": "Es0dUJ20JXrt",
        "outputId": "30cae360-e385-4142-dd42-c7ab57564e47"
      },
      "outputs": [
        {
          "output_type": "execute_result",
          "data": {
            "text/plain": [
              "\"test_loss = model.evaluate(X_test, y_test)\\nprint(f'Test RMSE Loss: {np.sqrt(test_loss)}')\""
            ],
            "application/vnd.google.colaboratory.intrinsic+json": {
              "type": "string"
            }
          },
          "metadata": {},
          "execution_count": 194
        }
      ],
      "source": [
        "'''test_loss = model.evaluate(X_test, y_test)\n",
        "print(f'Test RMSE Loss: {np.sqrt(test_loss)}')'''"
      ]
    },
    {
      "cell_type": "markdown",
      "source": [
        "### XGB Regressor Model"
      ],
      "metadata": {
        "id": "xHzuQtNh3CkJ"
      }
    },
    {
      "cell_type": "code",
      "execution_count": 290,
      "metadata": {
        "id": "1oeU4FIBBFir"
      },
      "outputs": [],
      "source": [
        "x_train = X_train.values\n",
        "y_train = y_train.values\n",
        "x_cv = X_val.values\n",
        "y_cv = y_val.values\n",
        "x_test = X_test.values\n",
        "y_test = y_test.values\n",
        "test = test.values"
      ]
    },
    {
      "cell_type": "markdown",
      "source": [
        "# Hyperparameters Search"
      ],
      "metadata": {
        "id": "OM2SJ6fRhvCa"
      }
    },
    {
      "cell_type": "code",
      "execution_count": 197,
      "metadata": {
        "colab": {
          "base_uri": "https://localhost:8080/",
          "height": 140
        },
        "id": "xg7VysPcG3wD",
        "outputId": "540d4f31-4ac0-4148-b1f7-012414863225"
      },
      "outputs": [
        {
          "output_type": "execute_result",
          "data": {
            "text/plain": [
              "'from sklearn.model_selection import RandomizedSearchCV\\n\\n# Define the parameter grid\\nparam_distributions = {\\n    \\'n_estimators\\': np.arange(100, 1000, 100),         # Number of trees\\n    \\'max_depth\\': np.arange(3, 10),                     # Tree depth\\n    \\'learning_rate\\': np.linspace(0.01, 0.3, 10),       # Learning rate (eta)\\n    \\'subsample\\': np.linspace(0.5, 1.0, 5),             # Subsample ratio\\n    \\'colsample_bytree\\': np.linspace(0.5, 1.0, 5),      # Column subsampling\\n    \\'gamma\\': np.linspace(0, 5, 10),                    # Minimum loss reduction\\n    \\'alpha\\': np.linspace(0, 1, 10),                    # L1 regularization\\n    \\'lambda\\': np.linspace(0, 1, 10)                    # L2 regularization\\n}\\n\\n# Initialize RandomizedSearchCV\\nrandom_search = RandomizedSearchCV(\\n    estimator=xgb_model,\\n    param_distributions=param_distributions,\\n    n_iter=50,                 # Number of random combinations to try\\n    scoring=\\'neg_mean_squared_error\\',  # Evaluation metric\\n    cv=3,                      # 3-fold cross-validation\\n    verbose=1,                 # Print progress\\n    random_state=42,           # Reproducibility\\n    n_jobs=-1,\\n)\\n\\n# Fit RandomizedSearchCV\\nrandom_search.fit(x_train, y_train)\\n\\n# Best parameters and score\\nprint(\"Best Parameters:\", random_search.best_params_)\\nprint(\"Best Score:\", random_search.best_score_)\\n'"
            ],
            "application/vnd.google.colaboratory.intrinsic+json": {
              "type": "string"
            }
          },
          "metadata": {},
          "execution_count": 197
        }
      ],
      "source": [
        "'''from sklearn.model_selection import RandomizedSearchCV\n",
        "\n",
        "# Define the parameter grid\n",
        "param_distributions = {\n",
        "    'n_estimators': np.arange(100, 1000, 100),         # Number of trees\n",
        "    'max_depth': np.arange(3, 10),                     # Tree depth\n",
        "    'learning_rate': np.linspace(0.01, 0.3, 10),       # Learning rate (eta)\n",
        "    'subsample': np.linspace(0.5, 1.0, 5),             # Subsample ratio\n",
        "    'colsample_bytree': np.linspace(0.5, 1.0, 5),      # Column subsampling\n",
        "    'gamma': np.linspace(0, 5, 10),                    # Minimum loss reduction\n",
        "    'alpha': np.linspace(0, 1, 10),                    # L1 regularization\n",
        "    'lambda': np.linspace(0, 1, 10)                    # L2 regularization\n",
        "}\n",
        "\n",
        "# Initialize RandomizedSearchCV\n",
        "random_search = RandomizedSearchCV(\n",
        "    estimator=xgb_model,\n",
        "    param_distributions=param_distributions,\n",
        "    n_iter=50,                 # Number of random combinations to try\n",
        "    scoring='neg_mean_squared_error',  # Evaluation metric\n",
        "    cv=3,                      # 3-fold cross-validation\n",
        "    verbose=1,                 # Print progress\n",
        "    random_state=42,           # Reproducibility\n",
        "    n_jobs=-1,\n",
        ")\n",
        "\n",
        "# Fit RandomizedSearchCV\n",
        "random_search.fit(x_train, y_train)\n",
        "\n",
        "# Best parameters and score\n",
        "print(\"Best Parameters:\", random_search.best_params_)\n",
        "print(\"Best Score:\", random_search.best_score_)\n",
        "'''"
      ]
    },
    {
      "cell_type": "markdown",
      "source": [
        "Obtained by running RandomSearchCV for 23 mins with t4 gpu\n",
        "```python  \n",
        "best_parameters= {'subsample': 0.875,\n",
        "                  'n_estimators': 900,\n",
        "                  'max_depth': 7,\n",
        "                  'learning_rate': 0.042222222222222223,\n",
        "                  'lambda': 100.0,\n",
        "                  'gamma': 1.6666666666666667,\n",
        "                  'colsample_bytree': 0.3,\n",
        "                  'alpha': 0.4444444444444444,\n",
        "                  'subsample': 0.3,\n",
        "                  'alpha':100,\n",
        "                  'min_child_weight':10,\n",
        "                     }\n",
        "```                     \n"
      ],
      "metadata": {
        "id": "yWdaMBWMh2Dw"
      }
    },
    {
      "cell_type": "markdown",
      "source": [
        "# Manual Hyperparameter tuning"
      ],
      "metadata": {
        "id": "C4_9Fr6dJikD"
      }
    },
    {
      "cell_type": "code",
      "execution_count": 198,
      "metadata": {
        "colab": {
          "base_uri": "https://localhost:8080/",
          "height": 430
        },
        "id": "WLCyh4EQ4p5r",
        "outputId": "52e68d44-65c0-4f2d-fbc5-1a69594db489"
      },
      "outputs": [
        {
          "output_type": "display_data",
          "data": {
            "text/plain": [
              "<Figure size 640x480 with 1 Axes>"
            ],
            "image/png": "[encoded data removed]"
          },
          "metadata": {}
        }
      ],
      "source": [
        "rates = [0.001, 0.01, 0.05, 0.07, 0.1, 0.5, 0.7, 1.0]\n",
        "cv = []\n",
        "tr = []\n",
        "\n",
        "for rate in rates:\n",
        "    xgb_model = XGBRegressor(learning_rate= rate,\n",
        "                        max_depth = 2,\n",
        "                        n_estimators = 200,\n",
        "                        enable_categorical=True,\n",
        "                     )\n",
        "\n",
        "    xgb_model.fit(x_train, y_train)\n",
        "    ypred = xgb_model.predict(x_train)\n",
        "    xgb_train_mse = mean_squared_error(y_train, ypred)\n",
        "    tr.append(np.sqrt(xgb_train_mse))\n",
        "\n",
        "    ypred = xgb_model.predict(x_cv)\n",
        "    xgb_cv_mse = mean_squared_error(y_cv, ypred)\n",
        "    cv.append(np.sqrt(xgb_cv_mse))\n",
        "\n",
        "plt.plot(rates, tr, c='r', label='training loss')\n",
        "plt.plot(rates, cv, c='b', label='validation_loss')\n",
        "plt.legend()\n",
        "plt.show()"
      ]
    },
    {
      "cell_type": "code",
      "execution_count": 199,
      "metadata": {
        "colab": {
          "base_uri": "https://localhost:8080/"
        },
        "id": "tNjUyF2s5uKt",
        "outputId": "238e0245-76d6-4476-b975-bd6e3341da9b"
      },
      "outputs": [
        {
          "output_type": "execute_result",
          "data": {
            "text/plain": [
              "0.7"
            ]
          },
          "metadata": {},
          "execution_count": 199
        }
      ],
      "source": [
        "optimum_lrate = rates[np.argmin(cv)]\n",
        "optimum_lrate"
      ]
    },
    {
      "cell_type": "code",
      "execution_count": 200,
      "metadata": {
        "colab": {
          "base_uri": "https://localhost:8080/",
          "height": 430
        },
        "id": "eSyJoPQp6Nyg",
        "outputId": "064b9f6b-7ae2-4247-bb19-57c49604b703"
      },
      "outputs": [
        {
          "output_type": "display_data",
          "data": {
            "text/plain": [
              "<Figure size 640x480 with 1 Axes>"
            ],
            "image/png": "[encoded data removed]"
          },
          "metadata": {}
        }
      ],
      "source": [
        "depths = [2, 3, 4, 5]\n",
        "cv = []\n",
        "tr = []\n",
        "\n",
        "for depth in depths:\n",
        "    xgb_model = XGBRegressor(learning_rate= optimum_lrate,\n",
        "                        max_depth = depth,\n",
        "                        n_estimators = 200,\n",
        "                        enable_categorical=True,\n",
        "                     )\n",
        "    xgb_model.fit(x_train, y_train)\n",
        "    ypred = xgb_model.predict(x_train)\n",
        "    xgb_train_mse = mean_squared_error(y_train, ypred)\n",
        "    tr.append(np.sqrt(xgb_train_mse))\n",
        "\n",
        "    ypred = xgb_model.predict(x_cv)\n",
        "    xgb_cv_mse = mean_squared_error(y_cv, ypred)\n",
        "    cv.append(np.sqrt(xgb_cv_mse))\n",
        "\n",
        "plt.plot(depths, tr, c='r', label='training loss')\n",
        "plt.plot(depths, cv, c='b', label='validation_loss')\n",
        "plt.legend()\n",
        "plt.show()"
      ]
    },
    {
      "cell_type": "code",
      "execution_count": 201,
      "metadata": {
        "colab": {
          "base_uri": "https://localhost:8080/"
        },
        "id": "aSlKQIwp6Uqk",
        "outputId": "d7e3bd47-3ea5-4ff8-ecd2-b27a3e88a435"
      },
      "outputs": [
        {
          "output_type": "execute_result",
          "data": {
            "text/plain": [
              "2"
            ]
          },
          "metadata": {},
          "execution_count": 201
        }
      ],
      "source": [
        "optimum_depth = depths[np.argmin(cv)]\n",
        "optimum_depth"
      ]
    },
    {
      "cell_type": "code",
      "execution_count": 202,
      "metadata": {
        "id": "p1I0yWp66mZB"
      },
      "outputs": [],
      "source": [
        "subsamples = [0.3, 0.5, 0.6, 0.7, 0.8, 0.9, 1.0]\n",
        "cv = []\n",
        "tr = []\n",
        "\n",
        "for fraction in subsamples:\n",
        "    xgb_model = XGBRegressor(learning_rate= optimum_lrate,\n",
        "                        max_depth = optimum_depth,\n",
        "                        n_estimators = 200,\n",
        "                        enable_categorical=True,\n",
        "                        subsample= fraction,\n",
        "                     )\n",
        "\n",
        "    xgb_model.fit(x_train, y_train)\n",
        "    ypred = xgb_model.predict(x_train)\n",
        "    xgb_train_mse = mean_squared_error(y_train, ypred)\n",
        "    tr.append(np.sqrt(xgb_train_mse))\n",
        "\n",
        "    ypred = xgb_model.predict(x_cv)\n",
        "    xgb_cv_mse = mean_squared_error(y_cv, ypred)\n",
        "    cv.append(np.sqrt(xgb_cv_mse))\n"
      ]
    },
    {
      "cell_type": "code",
      "source": [
        "plt.plot(subsamples, tr, c='r', label='training loss')\n",
        "plt.plot(subsamples, cv, c='b', label='validation_loss')\n",
        "plt.legend()\n",
        "plt.show()"
      ],
      "metadata": {
        "colab": {
          "base_uri": "https://localhost:8080/",
          "height": 430
        },
        "id": "AA04UcKXnxOb",
        "outputId": "751c31db-cf79-484c-b249-f528441c0233"
      },
      "execution_count": 203,
      "outputs": [
        {
          "output_type": "display_data",
          "data": {
            "text/plain": [
              "<Figure size 640x480 with 1 Axes>"
            ],
            "image/png": "[encoded data removed]"
          },
          "metadata": {}
        }
      ]
    },
    {
      "cell_type": "code",
      "execution_count": 204,
      "metadata": {
        "colab": {
          "base_uri": "https://localhost:8080/"
        },
        "id": "N3AHrKXV7QPO",
        "outputId": "de1201a9-8d91-4f40-e90e-e04fa74d19dd"
      },
      "outputs": [
        {
          "output_type": "execute_result",
          "data": {
            "text/plain": [
              "1.0"
            ]
          },
          "metadata": {},
          "execution_count": 204
        }
      ],
      "source": [
        "optimum_subsample = subsamples[np.argmin(cv)]\n",
        "optimum_subsample"
      ]
    },
    {
      "cell_type": "code",
      "execution_count": 205,
      "metadata": {
        "id": "kLd9rpso7TVA"
      },
      "outputs": [],
      "source": [
        "lambdas = [0.001, 0.05, 0.1, 0.5, 0.7, 1.0, 3.0, 7., 10., 20.]\n",
        "cv = []\n",
        "tr = []\n",
        "\n",
        "for lambd in lambdas:\n",
        "    xgb_model = XGBRegressor(learning_rate= optimum_lrate,\n",
        "                        max_depth = optimum_depth,\n",
        "                        n_estimators = 200,\n",
        "                        enable_categorical=True,\n",
        "                        subsample= optimum_subsample,\n",
        "                        reg_lambda=lambd\n",
        "                     )\n",
        "\n",
        "    xgb_model.fit(x_train, y_train)\n",
        "    ypred = xgb_model.predict(x_train)\n",
        "    xgb_train_mse = mean_squared_error(y_train, ypred)\n",
        "    tr.append(np.sqrt(xgb_train_mse))\n",
        "\n",
        "    ypred = xgb_model.predict(x_cv)\n",
        "    xgb_cv_mse = mean_squared_error(y_cv, ypred)\n",
        "    cv.append(np.sqrt(xgb_cv_mse))\n"
      ]
    },
    {
      "cell_type": "code",
      "source": [
        "plt.plot(lambdas, tr, c='r', label='training loss')\n",
        "plt.plot(lambdas, cv, c='b', label='validation_loss')\n",
        "plt.legend()\n",
        "plt.show()"
      ],
      "metadata": {
        "colab": {
          "base_uri": "https://localhost:8080/",
          "height": 430
        },
        "id": "4rumb6WQn32N",
        "outputId": "868e556a-fd34-486c-c5e3-5f60871f1d77"
      },
      "execution_count": 206,
      "outputs": [
        {
          "output_type": "display_data",
          "data": {
            "text/plain": [
              "<Figure size 640x480 with 1 Axes>"
            ],
            "image/png": "[encoded data removed]"
          },
          "metadata": {}
        }
      ]
    },
    {
      "cell_type": "code",
      "execution_count": 207,
      "metadata": {
        "colab": {
          "base_uri": "https://localhost:8080/"
        },
        "id": "MH-aSMno72Vp",
        "outputId": "fefd8557-4e51-4632-ed3b-b23c9058549e"
      },
      "outputs": [
        {
          "output_type": "execute_result",
          "data": {
            "text/plain": [
              "3.0"
            ]
          },
          "metadata": {},
          "execution_count": 207
        }
      ],
      "source": [
        "optimum_lambda = lambdas[np.argmin(cv)]\n",
        "optimum_lambda"
      ]
    },
    {
      "cell_type": "markdown",
      "source": [
        "# Final Model"
      ],
      "metadata": {
        "id": "VR0KahssJoiN"
      }
    },
    {
      "cell_type": "code",
      "execution_count": 291,
      "metadata": {
        "id": "sYlYkl1C7_KH"
      },
      "outputs": [],
      "source": [
        "xgb_model = XGBRegressor(learning_rate= optimum_lrate,\n",
        "                        max_depth = optimum_depth,\n",
        "                        n_estimators = 200,\n",
        "                        enable_categorical=True,\n",
        "                        subsample = optimum_subsample,\n",
        "                        reg_lambda = optimum_lambda\n",
        "                     )"
      ]
    },
    {
      "cell_type": "code",
      "execution_count": 292,
      "metadata": {
        "colab": {
          "base_uri": "https://localhost:8080/",
          "height": 253
        },
        "id": "k40C7-_98tl9",
        "outputId": "971064d6-15ec-4865-9d34-7e883492b6e9"
      },
      "outputs": [
        {
          "output_type": "execute_result",
          "data": {
            "text/plain": [
              "XGBRegressor(base_score=None, booster=None, callbacks=None,\n",
              "             colsample_bylevel=None, colsample_bynode=None,\n",
              "             colsample_bytree=None, device=None, early_stopping_rounds=None,\n",
              "             enable_categorical=True, eval_metric=None, feature_types=None,\n",
              "             gamma=None, grow_policy=None, importance_type=None,\n",
              "             interaction_constraints=None, learning_rate=0.7, max_bin=None,\n",
              "             max_cat_threshold=None, max_cat_to_onehot=None,\n",
              "             max_delta_step=None, max_depth=2, max_leaves=None,\n",
              "             min_child_weight=None, missing=nan, monotone_constraints=None,\n",
              "             multi_strategy=None, n_estimators=200, n_jobs=None,\n",
              "             num_parallel_tree=None, random_state=None, ...)"
            ],
            "text/html": [
              "<style>#sk-container-id-4 {\n",
              "  /* Definition of color scheme common for light and dark mode */\n",
              "  --sklearn-color-text: black;\n",
              "  --sklearn-color-line: gray;\n",
              "  /* Definition of color scheme for unfitted estimators */\n",
              "  --sklearn-color-unfitted-level-0: #fff5e6;\n",
              "  --sklearn-color-unfitted-level-1: #f6e4d2;\n",
              "  --sklearn-color-unfitted-level-2: #ffe0b3;\n",
              "  --sklearn-color-unfitted-level-3: chocolate;\n",
              "  /* Definition of color scheme for fitted estimators */\n",
              "  --sklearn-color-fitted-level-0: #f0f8ff;\n",
              "  --sklearn-color-fitted-level-1: #d4ebff;\n",
              "  --sklearn-color-fitted-level-2: #b3dbfd;\n",
              "  --sklearn-color-fitted-level-3: cornflowerblue;\n",
              "\n",
              "  /* Specific color for light theme */\n",
              "  --sklearn-color-text-on-default-background: var(--sg-text-color, var(--theme-code-foreground, var(--jp-content-font-color1, black)));\n",
              "  --sklearn-color-background: var(--sg-background-color, var(--theme-background, var(--jp-layout-color0, white)));\n",
              "  --sklearn-color-border-box: var(--sg-text-color, var(--theme-code-foreground, var(--jp-content-font-color1, black)));\n",
              "  --sklearn-color-icon: #696969;\n",
              "\n",
              "  @media (prefers-color-scheme: dark) {\n",
              "    /* Redefinition of color scheme for dark theme */\n",
              "    --sklearn-color-text-on-default-background: var(--sg-text-color, var(--theme-code-foreground, var(--jp-content-font-color1, white)));\n",
              "    --sklearn-color-background: var(--sg-background-color, var(--theme-background, var(--jp-layout-color0, #111)));\n",
              "    --sklearn-color-border-box: var(--sg-text-color, var(--theme-code-foreground, var(--jp-content-font-color1, white)));\n",
              "    --sklearn-color-icon: #878787;\n",
              "  }\n",
              "}\n",
              "\n",
              "#sk-container-id-4 {\n",
              "  color: var(--sklearn-color-text);\n",
              "}\n",
              "\n",
              "#sk-container-id-4 pre {\n",
              "  padding: 0;\n",
              "}\n",
              "\n",
              "#sk-container-id-4 input.sk-hidden--visually {\n",
              "  border: 0;\n",
              "  clip: rect(1px 1px 1px 1px);\n",
              "  clip: rect(1px, 1px, 1px, 1px);\n",
              "  height: 1px;\n",
              "  margin: -1px;\n",
              "  overflow: hidden;\n",
              "  padding: 0;\n",
              "  position: absolute;\n",
              "  width: 1px;\n",
              "}\n",
              "\n",
              "#sk-container-id-4 div.sk-dashed-wrapped {\n",
              "  border: 1px dashed var(--sklearn-color-line);\n",
              "  margin: 0 0.4em 0.5em 0.4em;\n",
              "  box-sizing: border-box;\n",
              "  padding-bottom: 0.4em;\n",
              "  background-color: var(--sklearn-color-background);\n",
              "}\n",
              "\n",
              "#sk-container-id-4 div.sk-container {\n",
              "  /* jupyter's `normalize.less` sets `[hidden] { display: none; }`\n",
              "     but bootstrap.min.css set `[hidden] { display: none !important; }`\n",
              "     so we also need the `!important` here to be able to override the\n",
              "     default hidden behavior on the sphinx rendered scikit-learn.org.\n",
              "     See: https://github.com/scikit-learn/scikit-learn/issues/21755 */\n",
              "  display: inline-block !important;\n",
              "  position: relative;\n",
              "}\n",
              "\n",
              "#sk-container-id-4 div.sk-text-repr-fallback {\n",
              "  display: none;\n",
              "}\n",
              "\n",
              "div.sk-parallel-item,\n",
              "div.sk-serial,\n",
              "div.sk-item {\n",
              "  /* draw centered vertical line to link estimators */\n",
              "  background-image: linear-gradient(var(--sklearn-color-text-on-default-background), var(--sklearn-color-text-on-default-background));\n",
              "  background-size: 2px 100%;\n",
              "  background-repeat: no-repeat;\n",
              "  background-position: center center;\n",
              "}\n",
              "\n",
              "/* Parallel-specific style estimator block */\n",
              "\n",
              "#sk-container-id-4 div.sk-parallel-item::after {\n",
              "  content: \"\";\n",
              "  width: 100%;\n",
              "  border-bottom: 2px solid var(--sklearn-color-text-on-default-background);\n",
              "  flex-grow: 1;\n",
              "}\n",
              "\n",
              "#sk-container-id-4 div.sk-parallel {\n",
              "  display: flex;\n",
              "  align-items: stretch;\n",
              "  justify-content: center;\n",
              "  background-color: var(--sklearn-color-background);\n",
              "  position: relative;\n",
              "}\n",
              "\n",
              "#sk-container-id-4 div.sk-parallel-item {\n",
              "  display: flex;\n",
              "  flex-direction: column;\n",
              "}\n",
              "\n",
              "#sk-container-id-4 div.sk-parallel-item:first-child::after {\n",
              "  align-self: flex-end;\n",
              "  width: 50%;\n",
              "}\n",
              "\n",
              "#sk-container-id-4 div.sk-parallel-item:last-child::after {\n",
              "  align-self: flex-start;\n",
              "  width: 50%;\n",
              "}\n",
              "\n",
              "#sk-container-id-4 div.sk-parallel-item:only-child::after {\n",
              "  width: 0;\n",
              "}\n",
              "\n",
              "/* Serial-specific style estimator block */\n",
              "\n",
              "#sk-container-id-4 div.sk-serial {\n",
              "  display: flex;\n",
              "  flex-direction: column;\n",
              "  align-items: center;\n",
              "  background-color: var(--sklearn-color-background);\n",
              "  padding-right: 1em;\n",
              "  padding-left: 1em;\n",
              "}\n",
              "\n",
              "\n",
              "/* Toggleable style: style used for estimator/Pipeline/ColumnTransformer box that is\n",
              "clickable and can be expanded/collapsed.\n",
              "- Pipeline and ColumnTransformer use this feature and define the default style\n",
              "- Estimators will overwrite some part of the style using the `sk-estimator` class\n",
              "*/\n",
              "\n",
              "/* Pipeline and ColumnTransformer style (default) */\n",
              "\n",
              "#sk-container-id-4 div.sk-toggleable {\n",
              "  /* Default theme specific background. It is overwritten whether we have a\n",
              "  specific estimator or a Pipeline/ColumnTransformer */\n",
              "  background-color: var(--sklearn-color-background);\n",
              "}\n",
              "\n",
              "/* Toggleable label */\n",
              "#sk-container-id-4 label.sk-toggleable__label {\n",
              "  cursor: pointer;\n",
              "  display: block;\n",
              "  width: 100%;\n",
              "  margin-bottom: 0;\n",
              "  padding: 0.5em;\n",
              "  box-sizing: border-box;\n",
              "  text-align: center;\n",
              "}\n",
              "\n",
              "#sk-container-id-4 label.sk-toggleable__label-arrow:before {\n",
              "  /* Arrow on the left of the label */\n",
              "  content: \"▸\";\n",
              "  float: left;\n",
              "  margin-right: 0.25em;\n",
              "  color: var(--sklearn-color-icon);\n",
              "}\n",
              "\n",
              "#sk-container-id-4 label.sk-toggleable__label-arrow:hover:before {\n",
              "  color: var(--sklearn-color-text);\n",
              "}\n",
              "\n",
              "/* Toggleable content - dropdown */\n",
              "\n",
              "#sk-container-id-4 div.sk-toggleable__content {\n",
              "  max-height: 0;\n",
              "  max-width: 0;\n",
              "  overflow: hidden;\n",
              "  text-align: left;\n",
              "  /* unfitted */\n",
              "  background-color: var(--sklearn-color-unfitted-level-0);\n",
              "}\n",
              "\n",
              "#sk-container-id-4 div.sk-toggleable__content.fitted {\n",
              "  /* fitted */\n",
              "  background-color: var(--sklearn-color-fitted-level-0);\n",
              "}\n",
              "\n",
              "#sk-container-id-4 div.sk-toggleable__content pre {\n",
              "  margin: 0.2em;\n",
              "  border-radius: 0.25em;\n",
              "  color: var(--sklearn-color-text);\n",
              "  /* unfitted */\n",
              "  background-color: var(--sklearn-color-unfitted-level-0);\n",
              "}\n",
              "\n",
              "#sk-container-id-4 div.sk-toggleable__content.fitted pre {\n",
              "  /* unfitted */\n",
              "  background-color: var(--sklearn-color-fitted-level-0);\n",
              "}\n",
              "\n",
              "#sk-container-id-4 input.sk-toggleable__control:checked~div.sk-toggleable__content {\n",
              "  /* Expand drop-down */\n",
              "  max-height: 200px;\n",
              "  max-width: 100%;\n",
              "  overflow: auto;\n",
              "}\n",
              "\n",
              "#sk-container-id-4 input.sk-toggleable__control:checked~label.sk-toggleable__label-arrow:before {\n",
              "  content: \"▾\";\n",
              "}\n",
              "\n",
              "/* Pipeline/ColumnTransformer-specific style */\n",
              "\n",
              "#sk-container-id-4 div.sk-label input.sk-toggleable__control:checked~label.sk-toggleable__label {\n",
              "  color: var(--sklearn-color-text);\n",
              "  background-color: var(--sklearn-color-unfitted-level-2);\n",
              "}\n",
              "\n",
              "#sk-container-id-4 div.sk-label.fitted input.sk-toggleable__control:checked~label.sk-toggleable__label {\n",
              "  background-color: var(--sklearn-color-fitted-level-2);\n",
              "}\n",
              "\n",
              "/* Estimator-specific style */\n",
              "\n",
              "/* Colorize estimator box */\n",
              "#sk-container-id-4 div.sk-estimator input.sk-toggleable__control:checked~label.sk-toggleable__label {\n",
              "  /* unfitted */\n",
              "  background-color: var(--sklearn-color-unfitted-level-2);\n",
              "}\n",
              "\n",
              "#sk-container-id-4 div.sk-estimator.fitted input.sk-toggleable__control:checked~label.sk-toggleable__label {\n",
              "  /* fitted */\n",
              "  background-color: var(--sklearn-color-fitted-level-2);\n",
              "}\n",
              "\n",
              "#sk-container-id-4 div.sk-label label.sk-toggleable__label,\n",
              "#sk-container-id-4 div.sk-label label {\n",
              "  /* The background is the default theme color */\n",
              "  color: var(--sklearn-color-text-on-default-background);\n",
              "}\n",
              "\n",
              "/* On hover, darken the color of the background */\n",
              "#sk-container-id-4 div.sk-label:hover label.sk-toggleable__label {\n",
              "  color: var(--sklearn-color-text);\n",
              "  background-color: var(--sklearn-color-unfitted-level-2);\n",
              "}\n",
              "\n",
              "/* Label box, darken color on hover, fitted */\n",
              "#sk-container-id-4 div.sk-label.fitted:hover label.sk-toggleable__label.fitted {\n",
              "  color: var(--sklearn-color-text);\n",
              "  background-color: var(--sklearn-color-fitted-level-2);\n",
              "}\n",
              "\n",
              "/* Estimator label */\n",
              "\n",
              "#sk-container-id-4 div.sk-label label {\n",
              "  font-family: monospace;\n",
              "  font-weight: bold;\n",
              "  display: inline-block;\n",
              "  line-height: 1.2em;\n",
              "}\n",
              "\n",
              "#sk-container-id-4 div.sk-label-container {\n",
              "  text-align: center;\n",
              "}\n",
              "\n",
              "/* Estimator-specific */\n",
              "#sk-container-id-4 div.sk-estimator {\n",
              "  font-family: monospace;\n",
              "  border: 1px dotted var(--sklearn-color-border-box);\n",
              "  border-radius: 0.25em;\n",
              "  box-sizing: border-box;\n",
              "  margin-bottom: 0.5em;\n",
              "  /* unfitted */\n",
              "  background-color: var(--sklearn-color-unfitted-level-0);\n",
              "}\n",
              "\n",
              "#sk-container-id-4 div.sk-estimator.fitted {\n",
              "  /* fitted */\n",
              "  background-color: var(--sklearn-color-fitted-level-0);\n",
              "}\n",
              "\n",
              "/* on hover */\n",
              "#sk-container-id-4 div.sk-estimator:hover {\n",
              "  /* unfitted */\n",
              "  background-color: var(--sklearn-color-unfitted-level-2);\n",
              "}\n",
              "\n",
              "#sk-container-id-4 div.sk-estimator.fitted:hover {\n",
              "  /* fitted */\n",
              "  background-color: var(--sklearn-color-fitted-level-2);\n",
              "}\n",
              "\n",
              "/* Specification for estimator info (e.g. \"i\" and \"?\") */\n",
              "\n",
              "/* Common style for \"i\" and \"?\" */\n",
              "\n",
              ".sk-estimator-doc-link,\n",
              "a:link.sk-estimator-doc-link,\n",
              "a:visited.sk-estimator-doc-link {\n",
              "  float: right;\n",
              "  font-size: smaller;\n",
              "  line-height: 1em;\n",
              "  font-family: monospace;\n",
              "  background-color: var(--sklearn-color-background);\n",
              "  border-radius: 1em;\n",
              "  height: 1em;\n",
              "  width: 1em;\n",
              "  text-decoration: none !important;\n",
              "  margin-left: 1ex;\n",
              "  /* unfitted */\n",
              "  border: var(--sklearn-color-unfitted-level-1) 1pt solid;\n",
              "  color: var(--sklearn-color-unfitted-level-1);\n",
              "}\n",
              "\n",
              ".sk-estimator-doc-link.fitted,\n",
              "a:link.sk-estimator-doc-link.fitted,\n",
              "a:visited.sk-estimator-doc-link.fitted {\n",
              "  /* fitted */\n",
              "  border: var(--sklearn-color-fitted-level-1) 1pt solid;\n",
              "  color: var(--sklearn-color-fitted-level-1);\n",
              "}\n",
              "\n",
              "/* On hover */\n",
              "div.sk-estimator:hover .sk-estimator-doc-link:hover,\n",
              ".sk-estimator-doc-link:hover,\n",
              "div.sk-label-container:hover .sk-estimator-doc-link:hover,\n",
              ".sk-estimator-doc-link:hover {\n",
              "  /* unfitted */\n",
              "  background-color: var(--sklearn-color-unfitted-level-3);\n",
              "  color: var(--sklearn-color-background);\n",
              "  text-decoration: none;\n",
              "}\n",
              "\n",
              "div.sk-estimator.fitted:hover .sk-estimator-doc-link.fitted:hover,\n",
              ".sk-estimator-doc-link.fitted:hover,\n",
              "div.sk-label-container:hover .sk-estimator-doc-link.fitted:hover,\n",
              ".sk-estimator-doc-link.fitted:hover {\n",
              "  /* fitted */\n",
              "  background-color: var(--sklearn-color-fitted-level-3);\n",
              "  color: var(--sklearn-color-background);\n",
              "  text-decoration: none;\n",
              "}\n",
              "\n",
              "/* Span, style for the box shown on hovering the info icon */\n",
              ".sk-estimator-doc-link span {\n",
              "  display: none;\n",
              "  z-index: 9999;\n",
              "  position: relative;\n",
              "  font-weight: normal;\n",
              "  right: .2ex;\n",
              "  padding: .5ex;\n",
              "  margin: .5ex;\n",
              "  width: min-content;\n",
              "  min-width: 20ex;\n",
              "  max-width: 50ex;\n",
              "  color: var(--sklearn-color-text);\n",
              "  box-shadow: 2pt 2pt 4pt #999;\n",
              "  /* unfitted */\n",
              "  background: var(--sklearn-color-unfitted-level-0);\n",
              "  border: .5pt solid var(--sklearn-color-unfitted-level-3);\n",
              "}\n",
              "\n",
              ".sk-estimator-doc-link.fitted span {\n",
              "  /* fitted */\n",
              "  background: var(--sklearn-color-fitted-level-0);\n",
              "  border: var(--sklearn-color-fitted-level-3);\n",
              "}\n",
              "\n",
              ".sk-estimator-doc-link:hover span {\n",
              "  display: block;\n",
              "}\n",
              "\n",
              "/* \"?\"-specific style due to the `<a>` HTML tag */\n",
              "\n",
              "#sk-container-id-4 a.estimator_doc_link {\n",
              "  float: right;\n",
              "  font-size: 1rem;\n",
              "  line-height: 1em;\n",
              "  font-family: monospace;\n",
              "  background-color: var(--sklearn-color-background);\n",
              "  border-radius: 1rem;\n",
              "  height: 1rem;\n",
              "  width: 1rem;\n",
              "  text-decoration: none;\n",
              "  /* unfitted */\n",
              "  color: var(--sklearn-color-unfitted-level-1);\n",
              "  border: var(--sklearn-color-unfitted-level-1) 1pt solid;\n",
              "}\n",
              "\n",
              "#sk-container-id-4 a.estimator_doc_link.fitted {\n",
              "  /* fitted */\n",
              "  border: var(--sklearn-color-fitted-level-1) 1pt solid;\n",
              "  color: var(--sklearn-color-fitted-level-1);\n",
              "}\n",
              "\n",
              "/* On hover */\n",
              "#sk-container-id-4 a.estimator_doc_link:hover {\n",
              "  /* unfitted */\n",
              "  background-color: var(--sklearn-color-unfitted-level-3);\n",
              "  color: var(--sklearn-color-background);\n",
              "  text-decoration: none;\n",
              "}\n",
              "\n",
              "#sk-container-id-4 a.estimator_doc_link.fitted:hover {\n",
              "  /* fitted */\n",
              "  background-color: var(--sklearn-color-fitted-level-3);\n",
              "}\n",
              "</style><div id=\"sk-container-id-4\" class=\"sk-top-container\"><div class=\"sk-text-repr-fallback\"><pre>XGBRegressor(base_score=None, booster=None, callbacks=None,\n",
              "             colsample_bylevel=None, colsample_bynode=None,\n",
              "             colsample_bytree=None, device=None, early_stopping_rounds=None,\n",
              "             enable_categorical=True, eval_metric=None, feature_types=None,\n",
              "             gamma=None, grow_policy=None, importance_type=None,\n",
              "             interaction_constraints=None, learning_rate=0.7, max_bin=None,\n",
              "             max_cat_threshold=None, max_cat_to_onehot=None,\n",
              "             max_delta_step=None, max_depth=2, max_leaves=None,\n",
              "             min_child_weight=None, missing=nan, monotone_constraints=None,\n",
              "             multi_strategy=None, n_estimators=200, n_jobs=None,\n",
              "             num_parallel_tree=None, random_state=None, ...)</pre><b>In a Jupyter environment, please rerun this cell to show the HTML representation or trust the notebook. <br />On GitHub, the HTML representation is unable to render, please try loading this page with nbviewer.org.</b></div><div class=\"sk-container\" hidden><div class=\"sk-item\"><div class=\"sk-estimator fitted sk-toggleable\"><input class=\"sk-toggleable__control sk-hidden--visually\" id=\"sk-estimator-id-4\" type=\"checkbox\" checked><label for=\"sk-estimator-id-4\" class=\"sk-toggleable__label fitted sk-toggleable__label-arrow fitted\">&nbsp;XGBRegressor<span class=\"sk-estimator-doc-link fitted\">i<span>Fitted</span></span></label><div class=\"sk-toggleable__content fitted\"><pre>XGBRegressor(base_score=None, booster=None, callbacks=None,\n",
              "             colsample_bylevel=None, colsample_bynode=None,\n",
              "             colsample_bytree=None, device=None, early_stopping_rounds=None,\n",
              "             enable_categorical=True, eval_metric=None, feature_types=None,\n",
              "             gamma=None, grow_policy=None, importance_type=None,\n",
              "             interaction_constraints=None, learning_rate=0.7, max_bin=None,\n",
              "             max_cat_threshold=None, max_cat_to_onehot=None,\n",
              "             max_delta_step=None, max_depth=2, max_leaves=None,\n",
              "             min_child_weight=None, missing=nan, monotone_constraints=None,\n",
              "             multi_strategy=None, n_estimators=200, n_jobs=None,\n",
              "             num_parallel_tree=None, random_state=None, ...)</pre></div> </div></div></div></div>"
            ]
          },
          "metadata": {},
          "execution_count": 292
        }
      ],
      "source": [
        "# Train model\n",
        "xgb_model.fit(x_train, y_train)"
      ]
    },
    {
      "cell_type": "code",
      "source": [
        "# Calculate RMSE\n",
        "ypred = xgb_model.predict(x_train)\n",
        "xgb_train_mse = mean_squared_error(y_train, ypred)\n",
        "\n",
        "print(f'Train RMSE: {np.sqrt(xgb_train_mse)}')"
      ],
      "metadata": {
        "id": "PL3pSEDeoxpi",
        "colab": {
          "base_uri": "https://localhost:8080/"
        },
        "outputId": "41fae8db-bfaa-448c-bc06-ee6048230c14"
      },
      "execution_count": 293,
      "outputs": [
        {
          "output_type": "stream",
          "name": "stdout",
          "text": [
            "Train RMSE: 25704.164610268817\n"
          ]
        }
      ]
    },
    {
      "cell_type": "code",
      "execution_count": 294,
      "metadata": {
        "colab": {
          "base_uri": "https://localhost:8080/"
        },
        "id": "Amsoo5wM9DGP",
        "outputId": "b07223d4-1a8f-4490-81c3-e27491be8999"
      },
      "outputs": [
        {
          "output_type": "stream",
          "name": "stdout",
          "text": [
            "train RMSE: 25704.164610268817\n",
            "Validation RMSE: 25615.60843198624\n",
            "Difference: 88.5562\n"
          ]
        }
      ],
      "source": [
        "ypred = xgb_model.predict(x_train)\n",
        "xgb_train_mse = mean_squared_error(y_train, ypred)\n",
        "xgb_train_mse = np.sqrt(xgb_train_mse)\n",
        "\n",
        "ypred = xgb_model.predict(x_cv)\n",
        "xgb_cv_mse = mean_squared_error(y_cv, ypred)\n",
        "xgb_cv_mse = np.sqrt(xgb_cv_mse)\n",
        "\n",
        "\n",
        "print(f'train RMSE: {xgb_train_mse}\\nValidation RMSE: {xgb_cv_mse}')\n",
        "print(f'Difference: {abs(xgb_train_mse - xgb_cv_mse):.4f}')"
      ]
    },
    {
      "cell_type": "code",
      "execution_count": 295,
      "metadata": {
        "colab": {
          "base_uri": "https://localhost:8080/"
        },
        "id": "NmZbYlsg_ucj",
        "outputId": "00ea501e-a970-4bfc-be2e-e8696c4dad25"
      },
      "outputs": [
        {
          "output_type": "stream",
          "name": "stdout",
          "text": [
            "test RMSE: 26072.357179705163\n"
          ]
        }
      ],
      "source": [
        "y_pred = xgb_model.predict(x_test)\n",
        "test_error = mean_squared_error(y_pred, y_test)\n",
        "test_rmse = np.sqrt(test_error)\n",
        "print(f'test RMSE: {test_rmse}')"
      ]
    },
    {
      "cell_type": "markdown",
      "source": [
        "Visualize distribution of training targets, predicted targets and test targets."
      ],
      "metadata": {
        "id": "19j0WBori6KZ"
      }
    },
    {
      "cell_type": "code",
      "execution_count": 296,
      "metadata": {
        "colab": {
          "base_uri": "https://localhost:8080/",
          "height": 486
        },
        "id": "H0yXZ-d8EBEJ",
        "outputId": "fc190b6f-a55e-487b-80fa-206ff81e3f11"
      },
      "outputs": [
        {
          "output_type": "display_data",
          "data": {
            "text/plain": [
              "<Figure size 640x480 with 4 Axes>"
            ],
            "image/png": "[encoded data removed]"
          },
          "metadata": {}
        }
      ],
      "source": [
        "train_pred = xgb_model.predict(x_train)\n",
        "test_pred = xgb_model.predict(x_test)\n",
        "\n",
        "fig, axs = plt.subplots(2, 2)\n",
        "\n",
        "axs[0, 0].hist(y_train)\n",
        "axs[0, 0].set_title('Training targets')\n",
        "\n",
        "axs[0, 1].hist(train_pred)\n",
        "axs[0, 1].set_title('Training Predictions')\n",
        "\n",
        "axs[1, 0].hist(y_pred)\n",
        "axs[1, 0].set_title('Test Predictions')\n",
        "\n",
        "plt.tight_layout()\n",
        "plt.show()"
      ]
    },
    {
      "cell_type": "markdown",
      "source": [
        "### Submission"
      ],
      "metadata": {
        "id": "QbAbSLPW3ia4"
      }
    },
    {
      "cell_type": "code",
      "execution_count": 300,
      "metadata": {
        "id": "k8__ZRAAyLa7"
      },
      "outputs": [],
      "source": [
        "pred = xgb_model.predict(test)"
      ]
    },
    {
      "cell_type": "code",
      "execution_count": 301,
      "metadata": {
        "id": "WJhzSNfoyRRT"
      },
      "outputs": [],
      "source": [
        "submision = pd.DataFrame({'id': id, 'price': pred})"
      ]
    },
    {
      "cell_type": "code",
      "execution_count": 302,
      "metadata": {
        "id": "eQA8Cl_9yYZ8"
      },
      "outputs": [],
      "source": [
        "submision.to_csv('submission.csv', index=False)"
      ]
    },
    {
      "cell_type": "markdown",
      "source": [
        "Visualize distribution of training targets, their predicted targets and\n",
        "test data predictions."
      ],
      "metadata": {
        "id": "RdEQsP1bY6Go"
      }
    },
    {
      "cell_type": "code",
      "execution_count": 305,
      "metadata": {
        "colab": {
          "base_uri": "https://localhost:8080/",
          "height": 486
        },
        "id": "IxFAziL57p-C",
        "outputId": "89b1b9fc-4e33-45ed-99d6-b165fc2a5b27"
      },
      "outputs": [
        {
          "output_type": "display_data",
          "data": {
            "text/plain": [
              "<Figure size 640x480 with 4 Axes>"
            ],
            "image/png": "[encoded data removed]"
          },
          "metadata": {}
        }
      ],
      "source": [
        "fig, axs = plt.subplots(2, 2)\n",
        "\n",
        "axs[0, 0].hist(y_train)\n",
        "axs[0, 0].set_title('Training targets')\n",
        "\n",
        "axs[0, 1].hist(train_pred)\n",
        "axs[0, 1].set_title('Training Predictions')\n",
        "\n",
        "axs[1, 0].hist(pred)\n",
        "axs[1, 0].set_title('Test Predictions')\n",
        "\n",
        "plt.tight_layout()\n",
        "plt.show()"
      ]
    },
    {
      "cell_type": "markdown",
      "source": [
        "Thus train an test data came from same distribution."
      ],
      "metadata": {
        "id": "6X49OGTQZNRJ"
      }
    },
    {
      "cell_type": "markdown",
      "source": [
        "### Thank you."
      ],
      "metadata": {
        "id": "4uK_uEtT3oRX"
      }
    }
  ],
  "metadata": {
    "colab": {
      "provenance": [],
      "gpuType": "T4",
      "authorship_tag": "ABX9TyNeSyASRVo9QRR4Ghfcg0e7",
      "include_colab_link": true
    },
    "kernelspec": {
      "display_name": "Python 3",
      "name": "python3"
    },
    "language_info": {
      "name": "python"
    },
    "accelerator": "GPU"
  },
  "nbformat": 4,
  "nbformat_minor": 0
}